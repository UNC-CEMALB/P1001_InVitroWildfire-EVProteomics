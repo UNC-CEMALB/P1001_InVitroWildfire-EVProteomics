{
 "cells": [
  {
   "cell_type": "code",
   "execution_count": 1,
   "id": "2435c81d",
   "metadata": {},
   "outputs": [
    {
     "name": "stderr",
     "output_type": "stream",
     "text": [
      "── \u001b[1mAttaching packages\u001b[22m ─────────────────────────────────────── tidyverse 1.3.1 ──\n",
      "\n",
      "\u001b[32m✔\u001b[39m \u001b[34mggplot2\u001b[39m 3.3.5     \u001b[32m✔\u001b[39m \u001b[34mpurrr  \u001b[39m 0.3.4\n",
      "\u001b[32m✔\u001b[39m \u001b[34mtibble \u001b[39m 3.1.6     \u001b[32m✔\u001b[39m \u001b[34mdplyr  \u001b[39m 1.0.8\n",
      "\u001b[32m✔\u001b[39m \u001b[34mtidyr  \u001b[39m 1.2.0     \u001b[32m✔\u001b[39m \u001b[34mstringr\u001b[39m 1.4.0\n",
      "\u001b[32m✔\u001b[39m \u001b[34mreadr  \u001b[39m 2.1.2     \u001b[32m✔\u001b[39m \u001b[34mforcats\u001b[39m 0.5.1\n",
      "\n",
      "── \u001b[1mConflicts\u001b[22m ────────────────────────────────────────── tidyverse_conflicts() ──\n",
      "\u001b[31m✖\u001b[39m \u001b[34mdplyr\u001b[39m::\u001b[32mfilter()\u001b[39m masks \u001b[34mstats\u001b[39m::filter()\n",
      "\u001b[31m✖\u001b[39m \u001b[34mdplyr\u001b[39m::\u001b[32mlag()\u001b[39m    masks \u001b[34mstats\u001b[39m::lag()\n",
      "\n",
      "\n",
      "Attaching package: ‘reshape2’\n",
      "\n",
      "\n",
      "The following object is masked from ‘package:tidyr’:\n",
      "\n",
      "    smiths\n",
      "\n",
      "\n"
     ]
    }
   ],
   "source": [
    "setwd('/Users/alexis/Library/CloudStorage/OneDrive-UniversityofNorthCarolinaatChapelHill/CEMALB_DataAnalysisPM/Projects/P1001. InVitroWildfire EVProteomics/P1001.3. Analyses/P1001.3.5. Group Distribution Analysis/Input')\n",
    "Output = ('/Users/alexis/Library/CloudStorage/OneDrive-UniversityofNorthCarolinaatChapelHill/CEMALB_DataAnalysisPM/Projects/P1001. InVitroWildfire EVProteomics/P1001.3. Analyses/P1001.3.5. Group Distribution Analysis/Output')\n",
    "cur_date = \"071122\"\n",
    "\n",
    "library(readxl)\n",
    "library(tidyverse)\n",
    "library(reshape2)\n",
    "\n",
    "\n",
    "#reading in file\n",
    "proteomics_df = data.frame(read_excel(\"070122_Imputed_Proteomics_Data.xlsx\"))\n",
    "protein_info_df = data.frame(read_excel(\"List of Proteins Detected_041922.xlsx\")) %>%\n",
    "    rename(Protein = Accession)"
   ]
  },
  {
   "cell_type": "code",
   "execution_count": 2,
   "id": "d6772e95",
   "metadata": {},
   "outputs": [
    {
     "data": {
      "text/html": [
       "<table class=\"dataframe\">\n",
       "<caption>A data.frame: 6 × 6</caption>\n",
       "<thead>\n",
       "\t<tr><th></th><th scope=col>Set</th><th scope=col>Treatment</th><th scope=col>ID</th><th scope=col>Protein</th><th scope=col>Value</th><th scope=col>log2Value</th></tr>\n",
       "\t<tr><th></th><th scope=col>&lt;chr&gt;</th><th scope=col>&lt;chr&gt;</th><th scope=col>&lt;chr&gt;</th><th scope=col>&lt;chr&gt;</th><th scope=col>&lt;dbl&gt;</th><th scope=col>&lt;dbl&gt;</th></tr>\n",
       "</thead>\n",
       "<tbody>\n",
       "\t<tr><th scope=row>1</th><td>Set1</td><td>CoCulture_Exposed</td><td>CoCulture_Exposed1</td><td>P02769</td><td>498216198704</td><td>38.85798</td></tr>\n",
       "\t<tr><th scope=row>2</th><td>Set1</td><td>CoCulture_Exposed</td><td>CoCulture_Exposed1</td><td>P02751</td><td>184361941370</td><td>37.42375</td></tr>\n",
       "\t<tr><th scope=row>3</th><td>Set1</td><td>CoCulture_Exposed</td><td>CoCulture_Exposed1</td><td>P12763</td><td>293003799678</td><td>38.09213</td></tr>\n",
       "\t<tr><th scope=row>4</th><td>Set1</td><td>CoCulture_Exposed</td><td>CoCulture_Exposed1</td><td>Q2UVX4</td><td> 52235883387</td><td>35.60432</td></tr>\n",
       "\t<tr><th scope=row>5</th><td>Set1</td><td>CoCulture_Exposed</td><td>CoCulture_Exposed1</td><td>P98160</td><td> 21618632410</td><td>34.33156</td></tr>\n",
       "\t<tr><th scope=row>6</th><td>Set1</td><td>CoCulture_Exposed</td><td>CoCulture_Exposed1</td><td>P12111</td><td> 18326454885</td><td>34.09321</td></tr>\n",
       "</tbody>\n",
       "</table>\n"
      ],
      "text/latex": [
       "A data.frame: 6 × 6\n",
       "\\begin{tabular}{r|llllll}\n",
       "  & Set & Treatment & ID & Protein & Value & log2Value\\\\\n",
       "  & <chr> & <chr> & <chr> & <chr> & <dbl> & <dbl>\\\\\n",
       "\\hline\n",
       "\t1 & Set1 & CoCulture\\_Exposed & CoCulture\\_Exposed1 & P02769 & 498216198704 & 38.85798\\\\\n",
       "\t2 & Set1 & CoCulture\\_Exposed & CoCulture\\_Exposed1 & P02751 & 184361941370 & 37.42375\\\\\n",
       "\t3 & Set1 & CoCulture\\_Exposed & CoCulture\\_Exposed1 & P12763 & 293003799678 & 38.09213\\\\\n",
       "\t4 & Set1 & CoCulture\\_Exposed & CoCulture\\_Exposed1 & Q2UVX4 &  52235883387 & 35.60432\\\\\n",
       "\t5 & Set1 & CoCulture\\_Exposed & CoCulture\\_Exposed1 & P98160 &  21618632410 & 34.33156\\\\\n",
       "\t6 & Set1 & CoCulture\\_Exposed & CoCulture\\_Exposed1 & P12111 &  18326454885 & 34.09321\\\\\n",
       "\\end{tabular}\n"
      ],
      "text/markdown": [
       "\n",
       "A data.frame: 6 × 6\n",
       "\n",
       "| <!--/--> | Set &lt;chr&gt; | Treatment &lt;chr&gt; | ID &lt;chr&gt; | Protein &lt;chr&gt; | Value &lt;dbl&gt; | log2Value &lt;dbl&gt; |\n",
       "|---|---|---|---|---|---|---|\n",
       "| 1 | Set1 | CoCulture_Exposed | CoCulture_Exposed1 | P02769 | 498216198704 | 38.85798 |\n",
       "| 2 | Set1 | CoCulture_Exposed | CoCulture_Exposed1 | P02751 | 184361941370 | 37.42375 |\n",
       "| 3 | Set1 | CoCulture_Exposed | CoCulture_Exposed1 | P12763 | 293003799678 | 38.09213 |\n",
       "| 4 | Set1 | CoCulture_Exposed | CoCulture_Exposed1 | Q2UVX4 |  52235883387 | 35.60432 |\n",
       "| 5 | Set1 | CoCulture_Exposed | CoCulture_Exposed1 | P98160 |  21618632410 | 34.33156 |\n",
       "| 6 | Set1 | CoCulture_Exposed | CoCulture_Exposed1 | P12111 |  18326454885 | 34.09321 |\n",
       "\n"
      ],
      "text/plain": [
       "  Set  Treatment         ID                 Protein Value        log2Value\n",
       "1 Set1 CoCulture_Exposed CoCulture_Exposed1 P02769  498216198704 38.85798 \n",
       "2 Set1 CoCulture_Exposed CoCulture_Exposed1 P02751  184361941370 37.42375 \n",
       "3 Set1 CoCulture_Exposed CoCulture_Exposed1 P12763  293003799678 38.09213 \n",
       "4 Set1 CoCulture_Exposed CoCulture_Exposed1 Q2UVX4   52235883387 35.60432 \n",
       "5 Set1 CoCulture_Exposed CoCulture_Exposed1 P98160   21618632410 34.33156 \n",
       "6 Set1 CoCulture_Exposed CoCulture_Exposed1 P12111   18326454885 34.09321 "
      ]
     },
     "metadata": {},
     "output_type": "display_data"
    },
    {
     "data": {
      "text/html": [
       "<table class=\"dataframe\">\n",
       "<caption>A data.frame: 6 × 5</caption>\n",
       "<thead>\n",
       "\t<tr><th></th><th scope=col>Protein</th><th scope=col>Gene.name</th><th scope=col>Description</th><th scope=col>GOCC.name</th><th scope=col>Contaminant</th></tr>\n",
       "\t<tr><th></th><th scope=col>&lt;chr&gt;</th><th scope=col>&lt;chr&gt;</th><th scope=col>&lt;chr&gt;</th><th scope=col>&lt;chr&gt;</th><th scope=col>&lt;chr&gt;</th></tr>\n",
       "</thead>\n",
       "<tbody>\n",
       "\t<tr><th scope=row>1</th><td>A0AVT1</td><td>UBA6                                               </td><td>Ubiquitin-like modifier-activating enzyme 6 OS=Homo sapiens OX=9606 GN=UBA6 PE=1 SV=1                              </td><td>cell part;cytoplasm;cytoplasmic part;cytosol;intracellular part                                                                                                                                                                                                                                                                                                                                                                           </td><td>-</td></tr>\n",
       "\t<tr><th scope=row>2</th><td>A1L4H1</td><td>SSC5D                                              </td><td>Soluble scavenger receptor cysteine-rich domain-containing protein SSC5D OS=Homo sapiens OX=9606 GN=SSC5D PE=1 SV=3</td><td>cell part;cytoplasm;extracellular matrix;extracellular region part;extracellular space;intracellular;intracellular part;membrane                                                                                                                                                                                                                                                                                                          </td><td>-</td></tr>\n",
       "\t<tr><th scope=row>3</th><td>A2I7N0</td><td>TREMBL:A2I7N0;Q28922;Q3ZEJ6 (Bos taurus) SERPINA3-4</td><td>TREMBL:A2I7N0;Q28922;Q3ZEJ6 (Bos taurus) SERPINA3-4                                                                </td><td>NA                                                                                                                                                                                                                                                                                                                                                                                                                                        </td><td>+</td></tr>\n",
       "\t<tr><th scope=row>4</th><td>A8K2U0</td><td>A2ML1                                              </td><td>Alpha-2-macroglobulin-like protein 1 OS=Homo sapiens OX=9606 GN=A2ML1 PE=1 SV=3                                    </td><td>extracellular membrane-bounded organelle;extracellular organelle;extracellular region part;extracellular space;extracellular vesicular exosome;membrane-bounded organelle;membrane-bounded vesicle;organelle;vesicle                                                                                                                                                                                                                      </td><td>-</td></tr>\n",
       "\t<tr><th scope=row>5</th><td>O00148</td><td>DDX39A                                             </td><td>ATP-dependent RNA helicase DDX39A OS=Homo sapiens OX=9606 GN=DDX39A PE=1 SV=2                                      </td><td>cell part;cytoplasm;intracellular membrane-bounded organelle;intracellular non-membrane-bounded organelle;intracellular organelle;intracellular organelle part;intracellular part;macromolecular complex;membrane;membrane-bounded organelle;non-membrane-bounded organelle;nuclear part;nucleolus;nucleus;organelle;organelle part;ribonucleoprotein complex;spliceosomal complex                                                        </td><td>-</td></tr>\n",
       "\t<tr><th scope=row>6</th><td>O00151</td><td>PDLIM1                                             </td><td>PDZ and LIM domain protein 1 OS=Homo sapiens OX=9606 GN=PDLIM1 PE=1 SV=4                                           </td><td>adherens junction;anchoring junction;cell junction;cell part;cell-substrate adherens junction;cell-substrate junction;cytoplasm;cytoskeleton;focal adhesion;intracellular non-membrane-bounded organelle;intracellular organelle;intracellular organelle part;intracellular part;macromolecular complex;non-membrane-bounded organelle;nuclear part;nucleoplasm part;organelle;organelle part;protein complex;transcription factor complex</td><td>-</td></tr>\n",
       "</tbody>\n",
       "</table>\n"
      ],
      "text/latex": [
       "A data.frame: 6 × 5\n",
       "\\begin{tabular}{r|lllll}\n",
       "  & Protein & Gene.name & Description & GOCC.name & Contaminant\\\\\n",
       "  & <chr> & <chr> & <chr> & <chr> & <chr>\\\\\n",
       "\\hline\n",
       "\t1 & A0AVT1 & UBA6                                                & Ubiquitin-like modifier-activating enzyme 6 OS=Homo sapiens OX=9606 GN=UBA6 PE=1 SV=1                               & cell part;cytoplasm;cytoplasmic part;cytosol;intracellular part                                                                                                                                                                                                                                                                                                                                                                            & -\\\\\n",
       "\t2 & A1L4H1 & SSC5D                                               & Soluble scavenger receptor cysteine-rich domain-containing protein SSC5D OS=Homo sapiens OX=9606 GN=SSC5D PE=1 SV=3 & cell part;cytoplasm;extracellular matrix;extracellular region part;extracellular space;intracellular;intracellular part;membrane                                                                                                                                                                                                                                                                                                           & -\\\\\n",
       "\t3 & A2I7N0 & TREMBL:A2I7N0;Q28922;Q3ZEJ6 (Bos taurus) SERPINA3-4 & TREMBL:A2I7N0;Q28922;Q3ZEJ6 (Bos taurus) SERPINA3-4                                                                 & NA                                                                                                                                                                                                                                                                                                                                                                                                                                         & +\\\\\n",
       "\t4 & A8K2U0 & A2ML1                                               & Alpha-2-macroglobulin-like protein 1 OS=Homo sapiens OX=9606 GN=A2ML1 PE=1 SV=3                                     & extracellular membrane-bounded organelle;extracellular organelle;extracellular region part;extracellular space;extracellular vesicular exosome;membrane-bounded organelle;membrane-bounded vesicle;organelle;vesicle                                                                                                                                                                                                                       & -\\\\\n",
       "\t5 & O00148 & DDX39A                                              & ATP-dependent RNA helicase DDX39A OS=Homo sapiens OX=9606 GN=DDX39A PE=1 SV=2                                       & cell part;cytoplasm;intracellular membrane-bounded organelle;intracellular non-membrane-bounded organelle;intracellular organelle;intracellular organelle part;intracellular part;macromolecular complex;membrane;membrane-bounded organelle;non-membrane-bounded organelle;nuclear part;nucleolus;nucleus;organelle;organelle part;ribonucleoprotein complex;spliceosomal complex                                                         & -\\\\\n",
       "\t6 & O00151 & PDLIM1                                              & PDZ and LIM domain protein 1 OS=Homo sapiens OX=9606 GN=PDLIM1 PE=1 SV=4                                            & adherens junction;anchoring junction;cell junction;cell part;cell-substrate adherens junction;cell-substrate junction;cytoplasm;cytoskeleton;focal adhesion;intracellular non-membrane-bounded organelle;intracellular organelle;intracellular organelle part;intracellular part;macromolecular complex;non-membrane-bounded organelle;nuclear part;nucleoplasm part;organelle;organelle part;protein complex;transcription factor complex & -\\\\\n",
       "\\end{tabular}\n"
      ],
      "text/markdown": [
       "\n",
       "A data.frame: 6 × 5\n",
       "\n",
       "| <!--/--> | Protein &lt;chr&gt; | Gene.name &lt;chr&gt; | Description &lt;chr&gt; | GOCC.name &lt;chr&gt; | Contaminant &lt;chr&gt; |\n",
       "|---|---|---|---|---|---|\n",
       "| 1 | A0AVT1 | UBA6                                                | Ubiquitin-like modifier-activating enzyme 6 OS=Homo sapiens OX=9606 GN=UBA6 PE=1 SV=1                               | cell part;cytoplasm;cytoplasmic part;cytosol;intracellular part                                                                                                                                                                                                                                                                                                                                                                            | - |\n",
       "| 2 | A1L4H1 | SSC5D                                               | Soluble scavenger receptor cysteine-rich domain-containing protein SSC5D OS=Homo sapiens OX=9606 GN=SSC5D PE=1 SV=3 | cell part;cytoplasm;extracellular matrix;extracellular region part;extracellular space;intracellular;intracellular part;membrane                                                                                                                                                                                                                                                                                                           | - |\n",
       "| 3 | A2I7N0 | TREMBL:A2I7N0;Q28922;Q3ZEJ6 (Bos taurus) SERPINA3-4 | TREMBL:A2I7N0;Q28922;Q3ZEJ6 (Bos taurus) SERPINA3-4                                                                 | NA                                                                                                                                                                                                                                                                                                                                                                                                                                         | + |\n",
       "| 4 | A8K2U0 | A2ML1                                               | Alpha-2-macroglobulin-like protein 1 OS=Homo sapiens OX=9606 GN=A2ML1 PE=1 SV=3                                     | extracellular membrane-bounded organelle;extracellular organelle;extracellular region part;extracellular space;extracellular vesicular exosome;membrane-bounded organelle;membrane-bounded vesicle;organelle;vesicle                                                                                                                                                                                                                       | - |\n",
       "| 5 | O00148 | DDX39A                                              | ATP-dependent RNA helicase DDX39A OS=Homo sapiens OX=9606 GN=DDX39A PE=1 SV=2                                       | cell part;cytoplasm;intracellular membrane-bounded organelle;intracellular non-membrane-bounded organelle;intracellular organelle;intracellular organelle part;intracellular part;macromolecular complex;membrane;membrane-bounded organelle;non-membrane-bounded organelle;nuclear part;nucleolus;nucleus;organelle;organelle part;ribonucleoprotein complex;spliceosomal complex                                                         | - |\n",
       "| 6 | O00151 | PDLIM1                                              | PDZ and LIM domain protein 1 OS=Homo sapiens OX=9606 GN=PDLIM1 PE=1 SV=4                                            | adherens junction;anchoring junction;cell junction;cell part;cell-substrate adherens junction;cell-substrate junction;cytoplasm;cytoskeleton;focal adhesion;intracellular non-membrane-bounded organelle;intracellular organelle;intracellular organelle part;intracellular part;macromolecular complex;non-membrane-bounded organelle;nuclear part;nucleoplasm part;organelle;organelle part;protein complex;transcription factor complex | - |\n",
       "\n"
      ],
      "text/plain": [
       "  Protein Gene.name                                          \n",
       "1 A0AVT1  UBA6                                               \n",
       "2 A1L4H1  SSC5D                                              \n",
       "3 A2I7N0  TREMBL:A2I7N0;Q28922;Q3ZEJ6 (Bos taurus) SERPINA3-4\n",
       "4 A8K2U0  A2ML1                                              \n",
       "5 O00148  DDX39A                                             \n",
       "6 O00151  PDLIM1                                             \n",
       "  Description                                                                                                        \n",
       "1 Ubiquitin-like modifier-activating enzyme 6 OS=Homo sapiens OX=9606 GN=UBA6 PE=1 SV=1                              \n",
       "2 Soluble scavenger receptor cysteine-rich domain-containing protein SSC5D OS=Homo sapiens OX=9606 GN=SSC5D PE=1 SV=3\n",
       "3 TREMBL:A2I7N0;Q28922;Q3ZEJ6 (Bos taurus) SERPINA3-4                                                                \n",
       "4 Alpha-2-macroglobulin-like protein 1 OS=Homo sapiens OX=9606 GN=A2ML1 PE=1 SV=3                                    \n",
       "5 ATP-dependent RNA helicase DDX39A OS=Homo sapiens OX=9606 GN=DDX39A PE=1 SV=2                                      \n",
       "6 PDZ and LIM domain protein 1 OS=Homo sapiens OX=9606 GN=PDLIM1 PE=1 SV=4                                           \n",
       "  GOCC.name                                                                                                                                                                                                                                                                                                                                                                                                                                 \n",
       "1 cell part;cytoplasm;cytoplasmic part;cytosol;intracellular part                                                                                                                                                                                                                                                                                                                                                                           \n",
       "2 cell part;cytoplasm;extracellular matrix;extracellular region part;extracellular space;intracellular;intracellular part;membrane                                                                                                                                                                                                                                                                                                          \n",
       "3 NA                                                                                                                                                                                                                                                                                                                                                                                                                                        \n",
       "4 extracellular membrane-bounded organelle;extracellular organelle;extracellular region part;extracellular space;extracellular vesicular exosome;membrane-bounded organelle;membrane-bounded vesicle;organelle;vesicle                                                                                                                                                                                                                      \n",
       "5 cell part;cytoplasm;intracellular membrane-bounded organelle;intracellular non-membrane-bounded organelle;intracellular organelle;intracellular organelle part;intracellular part;macromolecular complex;membrane;membrane-bounded organelle;non-membrane-bounded organelle;nuclear part;nucleolus;nucleus;organelle;organelle part;ribonucleoprotein complex;spliceosomal complex                                                        \n",
       "6 adherens junction;anchoring junction;cell junction;cell part;cell-substrate adherens junction;cell-substrate junction;cytoplasm;cytoskeleton;focal adhesion;intracellular non-membrane-bounded organelle;intracellular organelle;intracellular organelle part;intracellular part;macromolecular complex;non-membrane-bounded organelle;nuclear part;nucleoplasm part;organelle;organelle part;protein complex;transcription factor complex\n",
       "  Contaminant\n",
       "1 -          \n",
       "2 -          \n",
       "3 +          \n",
       "4 -          \n",
       "5 -          \n",
       "6 -          "
      ]
     },
     "metadata": {},
     "output_type": "display_data"
    }
   ],
   "source": [
    "head(proteomics_df)\n",
    "head(protein_info_df)"
   ]
  },
  {
   "cell_type": "code",
   "execution_count": 3,
   "id": "b609515d",
   "metadata": {},
   "outputs": [
    {
     "data": {
      "text/html": [
       "<table class=\"dataframe\">\n",
       "<caption>A data.frame: 6 × 7</caption>\n",
       "<thead>\n",
       "\t<tr><th></th><th scope=col>Set</th><th scope=col>Treatment</th><th scope=col>Exposure</th><th scope=col>ID</th><th scope=col>Protein</th><th scope=col>Value</th><th scope=col>log2Value</th></tr>\n",
       "\t<tr><th></th><th scope=col>&lt;chr&gt;</th><th scope=col>&lt;chr&gt;</th><th scope=col>&lt;chr&gt;</th><th scope=col>&lt;chr&gt;</th><th scope=col>&lt;chr&gt;</th><th scope=col>&lt;dbl&gt;</th><th scope=col>&lt;dbl&gt;</th></tr>\n",
       "</thead>\n",
       "<tbody>\n",
       "\t<tr><th scope=row>1</th><td>Set1</td><td>CoCulture</td><td>Exposed</td><td>CoCulture_Exposed1</td><td>P02769</td><td>498216198704</td><td>38.85798</td></tr>\n",
       "\t<tr><th scope=row>2</th><td>Set1</td><td>CoCulture</td><td>Exposed</td><td>CoCulture_Exposed1</td><td>P02751</td><td>184361941370</td><td>37.42375</td></tr>\n",
       "\t<tr><th scope=row>3</th><td>Set1</td><td>CoCulture</td><td>Exposed</td><td>CoCulture_Exposed1</td><td>P12763</td><td>293003799678</td><td>38.09213</td></tr>\n",
       "\t<tr><th scope=row>4</th><td>Set1</td><td>CoCulture</td><td>Exposed</td><td>CoCulture_Exposed1</td><td>Q2UVX4</td><td> 52235883387</td><td>35.60432</td></tr>\n",
       "\t<tr><th scope=row>5</th><td>Set1</td><td>CoCulture</td><td>Exposed</td><td>CoCulture_Exposed1</td><td>P98160</td><td> 21618632410</td><td>34.33156</td></tr>\n",
       "\t<tr><th scope=row>6</th><td>Set1</td><td>CoCulture</td><td>Exposed</td><td>CoCulture_Exposed1</td><td>P12111</td><td> 18326454885</td><td>34.09321</td></tr>\n",
       "</tbody>\n",
       "</table>\n"
      ],
      "text/latex": [
       "A data.frame: 6 × 7\n",
       "\\begin{tabular}{r|lllllll}\n",
       "  & Set & Treatment & Exposure & ID & Protein & Value & log2Value\\\\\n",
       "  & <chr> & <chr> & <chr> & <chr> & <chr> & <dbl> & <dbl>\\\\\n",
       "\\hline\n",
       "\t1 & Set1 & CoCulture & Exposed & CoCulture\\_Exposed1 & P02769 & 498216198704 & 38.85798\\\\\n",
       "\t2 & Set1 & CoCulture & Exposed & CoCulture\\_Exposed1 & P02751 & 184361941370 & 37.42375\\\\\n",
       "\t3 & Set1 & CoCulture & Exposed & CoCulture\\_Exposed1 & P12763 & 293003799678 & 38.09213\\\\\n",
       "\t4 & Set1 & CoCulture & Exposed & CoCulture\\_Exposed1 & Q2UVX4 &  52235883387 & 35.60432\\\\\n",
       "\t5 & Set1 & CoCulture & Exposed & CoCulture\\_Exposed1 & P98160 &  21618632410 & 34.33156\\\\\n",
       "\t6 & Set1 & CoCulture & Exposed & CoCulture\\_Exposed1 & P12111 &  18326454885 & 34.09321\\\\\n",
       "\\end{tabular}\n"
      ],
      "text/markdown": [
       "\n",
       "A data.frame: 6 × 7\n",
       "\n",
       "| <!--/--> | Set &lt;chr&gt; | Treatment &lt;chr&gt; | Exposure &lt;chr&gt; | ID &lt;chr&gt; | Protein &lt;chr&gt; | Value &lt;dbl&gt; | log2Value &lt;dbl&gt; |\n",
       "|---|---|---|---|---|---|---|---|\n",
       "| 1 | Set1 | CoCulture | Exposed | CoCulture_Exposed1 | P02769 | 498216198704 | 38.85798 |\n",
       "| 2 | Set1 | CoCulture | Exposed | CoCulture_Exposed1 | P02751 | 184361941370 | 37.42375 |\n",
       "| 3 | Set1 | CoCulture | Exposed | CoCulture_Exposed1 | P12763 | 293003799678 | 38.09213 |\n",
       "| 4 | Set1 | CoCulture | Exposed | CoCulture_Exposed1 | Q2UVX4 |  52235883387 | 35.60432 |\n",
       "| 5 | Set1 | CoCulture | Exposed | CoCulture_Exposed1 | P98160 |  21618632410 | 34.33156 |\n",
       "| 6 | Set1 | CoCulture | Exposed | CoCulture_Exposed1 | P12111 |  18326454885 | 34.09321 |\n",
       "\n"
      ],
      "text/plain": [
       "  Set  Treatment Exposure ID                 Protein Value        log2Value\n",
       "1 Set1 CoCulture Exposed  CoCulture_Exposed1 P02769  498216198704 38.85798 \n",
       "2 Set1 CoCulture Exposed  CoCulture_Exposed1 P02751  184361941370 37.42375 \n",
       "3 Set1 CoCulture Exposed  CoCulture_Exposed1 P12763  293003799678 38.09213 \n",
       "4 Set1 CoCulture Exposed  CoCulture_Exposed1 Q2UVX4   52235883387 35.60432 \n",
       "5 Set1 CoCulture Exposed  CoCulture_Exposed1 P98160   21618632410 34.33156 \n",
       "6 Set1 CoCulture Exposed  CoCulture_Exposed1 P12111   18326454885 34.09321 "
      ]
     },
     "metadata": {},
     "output_type": "display_data"
    }
   ],
   "source": [
    "proteomics_df = proteomics_df %>%\n",
    "    # just want a column that specifies the treatment and exposure separately\n",
    "    separate(Treatment, c(\"Treatment\", \"Exposure\"), sep = \"_\") \n",
    "\n",
    "head(proteomics_df)"
   ]
  },
  {
   "cell_type": "code",
   "execution_count": 4,
   "id": "e9e81f3a",
   "metadata": {},
   "outputs": [
    {
     "data": {
      "text/html": [
       "<table class=\"dataframe\">\n",
       "<caption>A tibble: 6 × 7</caption>\n",
       "<thead>\n",
       "\t<tr><th scope=col>Set</th><th scope=col>Treatment</th><th scope=col>Exposure</th><th scope=col>ID</th><th scope=col>Protein</th><th scope=col>Value</th><th scope=col>log2Value</th></tr>\n",
       "\t<tr><th scope=col>&lt;chr&gt;</th><th scope=col>&lt;chr&gt;</th><th scope=col>&lt;chr&gt;</th><th scope=col>&lt;chr&gt;</th><th scope=col>&lt;chr&gt;</th><th scope=col>&lt;dbl&gt;</th><th scope=col>&lt;dbl&gt;</th></tr>\n",
       "</thead>\n",
       "<tbody>\n",
       "\t<tr><td>Set1</td><td>CoCulture</td><td>Exposed</td><td>CoCulture_Exposed1</td><td>P02769</td><td>498216198704</td><td>38.85798</td></tr>\n",
       "\t<tr><td>Set1</td><td>CoCulture</td><td>Exposed</td><td>CoCulture_Exposed1</td><td>P02751</td><td>184361941370</td><td>37.42375</td></tr>\n",
       "\t<tr><td>Set1</td><td>CoCulture</td><td>Exposed</td><td>CoCulture_Exposed1</td><td>P12763</td><td>293003799678</td><td>38.09213</td></tr>\n",
       "\t<tr><td>Set1</td><td>CoCulture</td><td>Exposed</td><td>CoCulture_Exposed1</td><td>Q2UVX4</td><td> 52235883387</td><td>35.60432</td></tr>\n",
       "\t<tr><td>Set1</td><td>CoCulture</td><td>Exposed</td><td>CoCulture_Exposed1</td><td>P98160</td><td> 21618632410</td><td>34.33156</td></tr>\n",
       "\t<tr><td>Set1</td><td>CoCulture</td><td>Exposed</td><td>CoCulture_Exposed1</td><td>P12111</td><td> 18326454885</td><td>34.09321</td></tr>\n",
       "</tbody>\n",
       "</table>\n"
      ],
      "text/latex": [
       "A tibble: 6 × 7\n",
       "\\begin{tabular}{lllllll}\n",
       " Set & Treatment & Exposure & ID & Protein & Value & log2Value\\\\\n",
       " <chr> & <chr> & <chr> & <chr> & <chr> & <dbl> & <dbl>\\\\\n",
       "\\hline\n",
       "\t Set1 & CoCulture & Exposed & CoCulture\\_Exposed1 & P02769 & 498216198704 & 38.85798\\\\\n",
       "\t Set1 & CoCulture & Exposed & CoCulture\\_Exposed1 & P02751 & 184361941370 & 37.42375\\\\\n",
       "\t Set1 & CoCulture & Exposed & CoCulture\\_Exposed1 & P12763 & 293003799678 & 38.09213\\\\\n",
       "\t Set1 & CoCulture & Exposed & CoCulture\\_Exposed1 & Q2UVX4 &  52235883387 & 35.60432\\\\\n",
       "\t Set1 & CoCulture & Exposed & CoCulture\\_Exposed1 & P98160 &  21618632410 & 34.33156\\\\\n",
       "\t Set1 & CoCulture & Exposed & CoCulture\\_Exposed1 & P12111 &  18326454885 & 34.09321\\\\\n",
       "\\end{tabular}\n"
      ],
      "text/markdown": [
       "\n",
       "A tibble: 6 × 7\n",
       "\n",
       "| Set &lt;chr&gt; | Treatment &lt;chr&gt; | Exposure &lt;chr&gt; | ID &lt;chr&gt; | Protein &lt;chr&gt; | Value &lt;dbl&gt; | log2Value &lt;dbl&gt; |\n",
       "|---|---|---|---|---|---|---|\n",
       "| Set1 | CoCulture | Exposed | CoCulture_Exposed1 | P02769 | 498216198704 | 38.85798 |\n",
       "| Set1 | CoCulture | Exposed | CoCulture_Exposed1 | P02751 | 184361941370 | 37.42375 |\n",
       "| Set1 | CoCulture | Exposed | CoCulture_Exposed1 | P12763 | 293003799678 | 38.09213 |\n",
       "| Set1 | CoCulture | Exposed | CoCulture_Exposed1 | Q2UVX4 |  52235883387 | 35.60432 |\n",
       "| Set1 | CoCulture | Exposed | CoCulture_Exposed1 | P98160 |  21618632410 | 34.33156 |\n",
       "| Set1 | CoCulture | Exposed | CoCulture_Exposed1 | P12111 |  18326454885 | 34.09321 |\n",
       "\n"
      ],
      "text/plain": [
       "  Set  Treatment Exposure ID                 Protein Value        log2Value\n",
       "1 Set1 CoCulture Exposed  CoCulture_Exposed1 P02769  498216198704 38.85798 \n",
       "2 Set1 CoCulture Exposed  CoCulture_Exposed1 P02751  184361941370 37.42375 \n",
       "3 Set1 CoCulture Exposed  CoCulture_Exposed1 P12763  293003799678 38.09213 \n",
       "4 Set1 CoCulture Exposed  CoCulture_Exposed1 Q2UVX4   52235883387 35.60432 \n",
       "5 Set1 CoCulture Exposed  CoCulture_Exposed1 P98160   21618632410 34.33156 \n",
       "6 Set1 CoCulture Exposed  CoCulture_Exposed1 P12111   18326454885 34.09321 "
      ]
     },
     "metadata": {},
     "output_type": "display_data"
    }
   ],
   "source": [
    "# splitting by Set\n",
    "proteomics_df_split = proteomics_df %>%\n",
    "    group_by(Set) %>%\n",
    "    group_split()\n",
    "\n",
    "set1_proteomics_df = proteomics_df_split[[1]]\n",
    "set2_proteomics_df = proteomics_df_split[[2]]\n",
    "\n",
    "head(set1_proteomics_df)"
   ]
  },
  {
   "cell_type": "markdown",
   "id": "e9be1db6",
   "metadata": {},
   "source": [
    "Running t tests to determine if there are statistically significant distribution differences in co-culture unexposed vs. exposed and tri-culture unexposed vs. exposed. "
   ]
  },
  {
   "cell_type": "code",
   "execution_count": 5,
   "id": "9b6930b4",
   "metadata": {},
   "outputs": [],
   "source": [
    "t_test_values = function(df, set_id){\n",
    "    # \"\"\"\n",
    "    # Running t tests after filtering for set, treatment, exposure, and protein using a loop. \n",
    "    # Ultimately using this test to compare proteins (unexposed vs. exposed).\n",
    "\n",
    "    # :param: subsetted dataframe, empty dataframe\n",
    "    # :output: a dataframe containing the set, treatment, exposure, protein, u stat, p value, p adj\n",
    "\n",
    "    # \"\"\"\n",
    "    treatments = unique(df$Treatment)\n",
    "    proteins = unique(df$Protein)\n",
    "    \n",
    "    values_df = data.frame()\n",
    "    # iterating through each tx, protein\n",
    "\n",
    "    for(i in 1:length(treatments)){\n",
    "        for(j in 1:length(proteins)){\n",
    "            # unexposed df\n",
    "            unexposed_df = df %>%\n",
    "                filter(Treatment == treatments[i], Exposure == \"Vehicle\", Protein == proteins[j])\n",
    "            # exposed df\n",
    "            exposed_df = df %>%\n",
    "                filter(Treatment == treatments[i], Exposure == \"Exposed\", Protein == proteins[j])\n",
    "\n",
    "            # t test\n",
    "            t_test = t.test(unexposed_df$log2Value, exposed_df$log2Value)\n",
    "            \n",
    "            # calculating FC to get directionality\n",
    "            FC = log2(mean(exposed_df$Value)/mean(unexposed_df$Value))\n",
    "\n",
    "            # contains smoking status compared, compartment, cytokine, u stat, and p value\n",
    "            values_vector = cbind(set_id, treatments[i], proteins[j], FC, t_test$statistic, t_test$p.value)\n",
    "            values_df = rbind(values_df, values_vector)\n",
    "            }\n",
    "        }\n",
    "\n",
    "    \n",
    "    # adding col names\n",
    "    colnames(values_df) = c(\"Set\", \"Treatment\", \"Protein\", \"log2FC\", \"Statistic\", \"P Value\")\n",
    "    \n",
    "    \n",
    "   # calculating padj values\n",
    "    padj_vector = c()\n",
    "    # adjusting within each treatment\n",
    "    for (i in 1:length(treatments)){\n",
    "        `P Adj` = p.adjust(as.numeric(as.character(values_df$`P Value`)), method = \"fdr\")\n",
    "        padj_vector = c(padj_vector, `P Adj`)\n",
    "    }\n",
    "    \n",
    "    values_df = cbind(values_df, padj_vector) %>%\n",
    "        rename(`P Adj` = padj_vector)\n",
    "\n",
    "    values_df$log2FC = as.numeric(values_df$log2FC) \n",
    "    values_df$Statistic = as.numeric(values_df$Statistic)\n",
    "    values_df$`P Value` = as.numeric(values_df$`P Value`) \n",
    "    \n",
    "    return(values_df)\n",
    "}"
   ]
  },
  {
   "cell_type": "code",
   "execution_count": 6,
   "id": "ed469849",
   "metadata": {},
   "outputs": [],
   "source": [
    "# calling fn\n",
    "set1_t_test = t_test_values(set1_proteomics_df, \"Set1\")\n",
    "set2_t_test = t_test_values(set2_proteomics_df, \"Set2\")"
   ]
  },
  {
   "cell_type": "code",
   "execution_count": 7,
   "id": "126ffaca",
   "metadata": {},
   "outputs": [
    {
     "name": "stderr",
     "output_type": "stream",
     "text": [
      "\u001b[1m\u001b[22mJoining, by = \"Protein\"\n"
     ]
    },
    {
     "data": {
      "text/html": [
       "<table class=\"dataframe\">\n",
       "<caption>A data.frame: 6 × 8</caption>\n",
       "<thead>\n",
       "\t<tr><th></th><th scope=col>Set</th><th scope=col>Treatment</th><th scope=col>Protein</th><th scope=col>Gene.name</th><th scope=col>log2FC</th><th scope=col>Statistic</th><th scope=col>P Value</th><th scope=col>P Adj</th></tr>\n",
       "\t<tr><th></th><th scope=col>&lt;chr&gt;</th><th scope=col>&lt;chr&gt;</th><th scope=col>&lt;chr&gt;</th><th scope=col>&lt;chr&gt;</th><th scope=col>&lt;dbl&gt;</th><th scope=col>&lt;dbl&gt;</th><th scope=col>&lt;dbl&gt;</th><th scope=col>&lt;dbl&gt;</th></tr>\n",
       "</thead>\n",
       "<tbody>\n",
       "\t<tr><th scope=row>1</th><td>Set1</td><td>CoCulture</td><td>P02751</td><td>FN1   </td><td>-0.09664782</td><td> 0.3712160</td><td>0.7217334685</td><td>0.90261007</td></tr>\n",
       "\t<tr><th scope=row>2</th><td>Set1</td><td>CoCulture</td><td>P98160</td><td>HSPG2 </td><td>-0.37199408</td><td> 1.3220928</td><td>0.2155840099</td><td>0.72056215</td></tr>\n",
       "\t<tr><th scope=row>3</th><td>Set1</td><td>CoCulture</td><td>P12111</td><td>COL6A3</td><td> 0.25760674</td><td>-1.5293073</td><td>0.1735217887</td><td>0.66833001</td></tr>\n",
       "\t<tr><th scope=row>4</th><td>Set1</td><td>CoCulture</td><td>P21333</td><td>FLNA  </td><td>-0.38907251</td><td> 0.9679196</td><td>0.3568358777</td><td>0.82500368</td></tr>\n",
       "\t<tr><th scope=row>5</th><td>Set1</td><td>CoCulture</td><td>O00468</td><td>AGRN  </td><td>-0.43881516</td><td> 5.2320284</td><td>0.0008717592</td><td>0.08205816</td></tr>\n",
       "\t<tr><th scope=row>6</th><td>Set1</td><td>CoCulture</td><td>P35555</td><td>FBN1  </td><td>-0.41703532</td><td> 1.6481156</td><td>0.1402935776</td><td>0.64943412</td></tr>\n",
       "</tbody>\n",
       "</table>\n"
      ],
      "text/latex": [
       "A data.frame: 6 × 8\n",
       "\\begin{tabular}{r|llllllll}\n",
       "  & Set & Treatment & Protein & Gene.name & log2FC & Statistic & P Value & P Adj\\\\\n",
       "  & <chr> & <chr> & <chr> & <chr> & <dbl> & <dbl> & <dbl> & <dbl>\\\\\n",
       "\\hline\n",
       "\t1 & Set1 & CoCulture & P02751 & FN1    & -0.09664782 &  0.3712160 & 0.7217334685 & 0.90261007\\\\\n",
       "\t2 & Set1 & CoCulture & P98160 & HSPG2  & -0.37199408 &  1.3220928 & 0.2155840099 & 0.72056215\\\\\n",
       "\t3 & Set1 & CoCulture & P12111 & COL6A3 &  0.25760674 & -1.5293073 & 0.1735217887 & 0.66833001\\\\\n",
       "\t4 & Set1 & CoCulture & P21333 & FLNA   & -0.38907251 &  0.9679196 & 0.3568358777 & 0.82500368\\\\\n",
       "\t5 & Set1 & CoCulture & O00468 & AGRN   & -0.43881516 &  5.2320284 & 0.0008717592 & 0.08205816\\\\\n",
       "\t6 & Set1 & CoCulture & P35555 & FBN1   & -0.41703532 &  1.6481156 & 0.1402935776 & 0.64943412\\\\\n",
       "\\end{tabular}\n"
      ],
      "text/markdown": [
       "\n",
       "A data.frame: 6 × 8\n",
       "\n",
       "| <!--/--> | Set &lt;chr&gt; | Treatment &lt;chr&gt; | Protein &lt;chr&gt; | Gene.name &lt;chr&gt; | log2FC &lt;dbl&gt; | Statistic &lt;dbl&gt; | P Value &lt;dbl&gt; | P Adj &lt;dbl&gt; |\n",
       "|---|---|---|---|---|---|---|---|---|\n",
       "| 1 | Set1 | CoCulture | P02751 | FN1    | -0.09664782 |  0.3712160 | 0.7217334685 | 0.90261007 |\n",
       "| 2 | Set1 | CoCulture | P98160 | HSPG2  | -0.37199408 |  1.3220928 | 0.2155840099 | 0.72056215 |\n",
       "| 3 | Set1 | CoCulture | P12111 | COL6A3 |  0.25760674 | -1.5293073 | 0.1735217887 | 0.66833001 |\n",
       "| 4 | Set1 | CoCulture | P21333 | FLNA   | -0.38907251 |  0.9679196 | 0.3568358777 | 0.82500368 |\n",
       "| 5 | Set1 | CoCulture | O00468 | AGRN   | -0.43881516 |  5.2320284 | 0.0008717592 | 0.08205816 |\n",
       "| 6 | Set1 | CoCulture | P35555 | FBN1   | -0.41703532 |  1.6481156 | 0.1402935776 | 0.64943412 |\n",
       "\n"
      ],
      "text/plain": [
       "  Set  Treatment Protein Gene.name log2FC      Statistic  P Value     \n",
       "1 Set1 CoCulture P02751  FN1       -0.09664782  0.3712160 0.7217334685\n",
       "2 Set1 CoCulture P98160  HSPG2     -0.37199408  1.3220928 0.2155840099\n",
       "3 Set1 CoCulture P12111  COL6A3     0.25760674 -1.5293073 0.1735217887\n",
       "4 Set1 CoCulture P21333  FLNA      -0.38907251  0.9679196 0.3568358777\n",
       "5 Set1 CoCulture O00468  AGRN      -0.43881516  5.2320284 0.0008717592\n",
       "6 Set1 CoCulture P35555  FBN1      -0.41703532  1.6481156 0.1402935776\n",
       "  P Adj     \n",
       "1 0.90261007\n",
       "2 0.72056215\n",
       "3 0.66833001\n",
       "4 0.82500368\n",
       "5 0.08205816\n",
       "6 0.64943412"
      ]
     },
     "metadata": {},
     "output_type": "display_data"
    }
   ],
   "source": [
    "# creating 1 df\n",
    "t_test_df = rbind(set1_t_test, set2_t_test)\n",
    "\n",
    "# adding in gene names and filtering contaminants\n",
    "final_t_test_df = left_join(t_test_df, protein_info_df %>%\n",
    "                                select(c(\"Protein\", \"Gene.name\", \"Contaminant\"))) %>%\n",
    "     filter(Contaminant == \"-\") %>%\n",
    "     select(-Contaminant)\n",
    "final_t_test_df = final_t_test_df[, c(1,2,3,8,4,5,6,7)]\n",
    "head(final_t_test_df)"
   ]
  },
  {
   "cell_type": "code",
   "execution_count": 8,
   "id": "304c9cd6",
   "metadata": {},
   "outputs": [],
   "source": [
    "# exporting t test results for volcano plot\n",
    "write.csv(final_t_test_df, paste0(Output,\"/\", cur_date, \"_Statistical_Results_Only.csv\"), row.names = FALSE)"
   ]
  },
  {
   "cell_type": "code",
   "execution_count": 9,
   "id": "dc459342",
   "metadata": {},
   "outputs": [
    {
     "data": {
      "text/html": [
       "<table class=\"dataframe\">\n",
       "<caption>A tibble: 6 × 2</caption>\n",
       "<thead>\n",
       "\t<tr><th scope=col>Protein</th><th scope=col>Avg_Abundance</th></tr>\n",
       "\t<tr><th scope=col>&lt;chr&gt;</th><th scope=col>&lt;dbl&gt;</th></tr>\n",
       "</thead>\n",
       "<tbody>\n",
       "\t<tr><td>A0AVT1                    </td><td>23.20928</td></tr>\n",
       "\t<tr><td>A1L4H1                    </td><td>25.83883</td></tr>\n",
       "\t<tr><td>A2I7N0                    </td><td>25.88141</td></tr>\n",
       "\t<tr><td>A8K2U0                    </td><td>18.14997</td></tr>\n",
       "\t<tr><td>ENSEMBL.ENSBTAP00000006074</td><td>29.08530</td></tr>\n",
       "\t<tr><td>ENSEMBL.ENSBTAP00000007350</td><td>32.59103</td></tr>\n",
       "</tbody>\n",
       "</table>\n"
      ],
      "text/latex": [
       "A tibble: 6 × 2\n",
       "\\begin{tabular}{ll}\n",
       " Protein & Avg\\_Abundance\\\\\n",
       " <chr> & <dbl>\\\\\n",
       "\\hline\n",
       "\t A0AVT1                     & 23.20928\\\\\n",
       "\t A1L4H1                     & 25.83883\\\\\n",
       "\t A2I7N0                     & 25.88141\\\\\n",
       "\t A8K2U0                     & 18.14997\\\\\n",
       "\t ENSEMBL.ENSBTAP00000006074 & 29.08530\\\\\n",
       "\t ENSEMBL.ENSBTAP00000007350 & 32.59103\\\\\n",
       "\\end{tabular}\n"
      ],
      "text/markdown": [
       "\n",
       "A tibble: 6 × 2\n",
       "\n",
       "| Protein &lt;chr&gt; | Avg_Abundance &lt;dbl&gt; |\n",
       "|---|---|\n",
       "| A0AVT1                     | 23.20928 |\n",
       "| A1L4H1                     | 25.83883 |\n",
       "| A2I7N0                     | 25.88141 |\n",
       "| A8K2U0                     | 18.14997 |\n",
       "| ENSEMBL.ENSBTAP00000006074 | 29.08530 |\n",
       "| ENSEMBL.ENSBTAP00000007350 | 32.59103 |\n",
       "\n"
      ],
      "text/plain": [
       "  Protein                    Avg_Abundance\n",
       "1 A0AVT1                     23.20928     \n",
       "2 A1L4H1                     25.83883     \n",
       "3 A2I7N0                     25.88141     \n",
       "4 A8K2U0                     18.14997     \n",
       "5 ENSEMBL.ENSBTAP00000006074 29.08530     \n",
       "6 ENSEMBL.ENSBTAP00000007350 32.59103     "
      ]
     },
     "metadata": {},
     "output_type": "display_data"
    },
    {
     "data": {
      "text/html": [
       "<table class=\"dataframe\">\n",
       "<caption>A grouped_df: 6 × 5</caption>\n",
       "<thead>\n",
       "\t<tr><th scope=col>Treatment</th><th scope=col>Exposure</th><th scope=col>Protein</th><th scope=col>log2Value</th><th scope=col>Avg_Abundance_stratified</th></tr>\n",
       "\t<tr><th scope=col>&lt;chr&gt;</th><th scope=col>&lt;chr&gt;</th><th scope=col>&lt;chr&gt;</th><th scope=col>&lt;dbl&gt;</th><th scope=col>&lt;dbl&gt;</th></tr>\n",
       "</thead>\n",
       "<tbody>\n",
       "\t<tr><td>CoCulture</td><td>Exposed</td><td>P02769</td><td>38.85798</td><td>38.97749</td></tr>\n",
       "\t<tr><td>CoCulture</td><td>Exposed</td><td>P02751</td><td>37.42375</td><td>37.70872</td></tr>\n",
       "\t<tr><td>CoCulture</td><td>Exposed</td><td>P12763</td><td>38.09213</td><td>38.00144</td></tr>\n",
       "\t<tr><td>CoCulture</td><td>Exposed</td><td>Q2UVX4</td><td>35.60432</td><td>35.38864</td></tr>\n",
       "\t<tr><td>CoCulture</td><td>Exposed</td><td>P98160</td><td>34.33156</td><td>34.09359</td></tr>\n",
       "\t<tr><td>CoCulture</td><td>Exposed</td><td>P12111</td><td>34.09321</td><td>34.35725</td></tr>\n",
       "</tbody>\n",
       "</table>\n"
      ],
      "text/latex": [
       "A grouped\\_df: 6 × 5\n",
       "\\begin{tabular}{lllll}\n",
       " Treatment & Exposure & Protein & log2Value & Avg\\_Abundance\\_stratified\\\\\n",
       " <chr> & <chr> & <chr> & <dbl> & <dbl>\\\\\n",
       "\\hline\n",
       "\t CoCulture & Exposed & P02769 & 38.85798 & 38.97749\\\\\n",
       "\t CoCulture & Exposed & P02751 & 37.42375 & 37.70872\\\\\n",
       "\t CoCulture & Exposed & P12763 & 38.09213 & 38.00144\\\\\n",
       "\t CoCulture & Exposed & Q2UVX4 & 35.60432 & 35.38864\\\\\n",
       "\t CoCulture & Exposed & P98160 & 34.33156 & 34.09359\\\\\n",
       "\t CoCulture & Exposed & P12111 & 34.09321 & 34.35725\\\\\n",
       "\\end{tabular}\n"
      ],
      "text/markdown": [
       "\n",
       "A grouped_df: 6 × 5\n",
       "\n",
       "| Treatment &lt;chr&gt; | Exposure &lt;chr&gt; | Protein &lt;chr&gt; | log2Value &lt;dbl&gt; | Avg_Abundance_stratified &lt;dbl&gt; |\n",
       "|---|---|---|---|---|\n",
       "| CoCulture | Exposed | P02769 | 38.85798 | 38.97749 |\n",
       "| CoCulture | Exposed | P02751 | 37.42375 | 37.70872 |\n",
       "| CoCulture | Exposed | P12763 | 38.09213 | 38.00144 |\n",
       "| CoCulture | Exposed | Q2UVX4 | 35.60432 | 35.38864 |\n",
       "| CoCulture | Exposed | P98160 | 34.33156 | 34.09359 |\n",
       "| CoCulture | Exposed | P12111 | 34.09321 | 34.35725 |\n",
       "\n"
      ],
      "text/plain": [
       "  Treatment Exposure Protein log2Value Avg_Abundance_stratified\n",
       "1 CoCulture Exposed  P02769  38.85798  38.97749                \n",
       "2 CoCulture Exposed  P02751  37.42375  37.70872                \n",
       "3 CoCulture Exposed  P12763  38.09213  38.00144                \n",
       "4 CoCulture Exposed  Q2UVX4  35.60432  35.38864                \n",
       "5 CoCulture Exposed  P98160  34.33156  34.09359                \n",
       "6 CoCulture Exposed  P12111  34.09321  34.35725                "
      ]
     },
     "metadata": {},
     "output_type": "display_data"
    }
   ],
   "source": [
    "# calculating overall avg. abundance and within smoking groups\n",
    "avg_abundance_df = proteomics_df %>%\n",
    "    group_by(Protein) %>%\n",
    "    summarize(Avg_Abundance = mean(log2Value))\n",
    "\n",
    "# stratified by treatment and exposure\n",
    "avg_abundance_df_stratified = proteomics_df %>%\n",
    "    group_by(Treatment, Exposure, Protein) %>%\n",
    "    mutate(Avg_Abundance_stratified = mean(log2Value)) %>%\n",
    "    select(-c(\"Set\", \"ID\", \"Value\"))\n",
    "\n",
    "head(avg_abundance_df)\n",
    "head(avg_abundance_df_stratified)"
   ]
  },
  {
   "cell_type": "code",
   "execution_count": 10,
   "id": "efdc892f",
   "metadata": {},
   "outputs": [
    {
     "data": {
      "text/html": [
       "<table class=\"dataframe\">\n",
       "<caption>A tibble: 6 × 2</caption>\n",
       "<thead>\n",
       "\t<tr><th scope=col>Protein</th><th scope=col>Coculture_Exposed.Avg_Abundance</th></tr>\n",
       "\t<tr><th scope=col>&lt;chr&gt;</th><th scope=col>&lt;dbl&gt;</th></tr>\n",
       "</thead>\n",
       "<tbody>\n",
       "\t<tr><td>P02769</td><td>38.97749</td></tr>\n",
       "\t<tr><td>P02751</td><td>37.70872</td></tr>\n",
       "\t<tr><td>P12763</td><td>38.00144</td></tr>\n",
       "\t<tr><td>Q2UVX4</td><td>35.38864</td></tr>\n",
       "\t<tr><td>P98160</td><td>34.09359</td></tr>\n",
       "\t<tr><td>P12111</td><td>34.35725</td></tr>\n",
       "</tbody>\n",
       "</table>\n"
      ],
      "text/latex": [
       "A tibble: 6 × 2\n",
       "\\begin{tabular}{ll}\n",
       " Protein & Coculture\\_Exposed.Avg\\_Abundance\\\\\n",
       " <chr> & <dbl>\\\\\n",
       "\\hline\n",
       "\t P02769 & 38.97749\\\\\n",
       "\t P02751 & 37.70872\\\\\n",
       "\t P12763 & 38.00144\\\\\n",
       "\t Q2UVX4 & 35.38864\\\\\n",
       "\t P98160 & 34.09359\\\\\n",
       "\t P12111 & 34.35725\\\\\n",
       "\\end{tabular}\n"
      ],
      "text/markdown": [
       "\n",
       "A tibble: 6 × 2\n",
       "\n",
       "| Protein &lt;chr&gt; | Coculture_Exposed.Avg_Abundance &lt;dbl&gt; |\n",
       "|---|---|\n",
       "| P02769 | 38.97749 |\n",
       "| P02751 | 37.70872 |\n",
       "| P12763 | 38.00144 |\n",
       "| Q2UVX4 | 35.38864 |\n",
       "| P98160 | 34.09359 |\n",
       "| P12111 | 34.35725 |\n",
       "\n"
      ],
      "text/plain": [
       "  Protein Coculture_Exposed.Avg_Abundance\n",
       "1 P02769  38.97749                       \n",
       "2 P02751  37.70872                       \n",
       "3 P12763  38.00144                       \n",
       "4 Q2UVX4  35.38864                       \n",
       "5 P98160  34.09359                       \n",
       "6 P12111  34.35725                       "
      ]
     },
     "metadata": {},
     "output_type": "display_data"
    }
   ],
   "source": [
    "# changing the stratified dfs to making combining easier\n",
    "# first splitting dfs\n",
    "split_avg_abundance_stratified = avg_abundance_df_stratified %>%\n",
    "    group_by(Treatment, Exposure) %>%\n",
    "    group_split()\n",
    "\n",
    "# adding treatment to the title\n",
    "coculture_exposed_avg_abundance = split_avg_abundance_stratified[[1]] %>%\n",
    "    select(-c(\"Treatment\", \"Exposure\", \"log2Value\")) %>%\n",
    "    rename(Coculture_Exposed.Avg_Abundance = Avg_Abundance_stratified)\n",
    "coculture_vehicle_avg_abundance = split_avg_abundance_stratified[[2]] %>%\n",
    "    select(-c(\"Treatment\", \"Exposure\", \"log2Value\")) %>%\n",
    "    rename(Coculture_Vehicle.Avg_Abundance = Avg_Abundance_stratified)\n",
    "triculture_exposed_avg_abundance = split_avg_abundance_stratified[[3]] %>%\n",
    "    select(-c(\"Treatment\", \"Exposure\", \"log2Value\")) %>%\n",
    "    rename(Triculture_Exposed.Avg_Abundance = Avg_Abundance_stratified)\n",
    "triculture_vehicle_avg_abundance = split_avg_abundance_stratified[[4]] %>%\n",
    "    select(-c(\"Treatment\", \"Exposure\", \"log2Value\")) %>%\n",
    "    rename(Triculture_Vehicle.Avg_Abundance = Avg_Abundance_stratified)\n",
    "\n",
    "head(coculture_exposed_avg_abundance)"
   ]
  },
  {
   "cell_type": "code",
   "execution_count": 11,
   "id": "54169c00",
   "metadata": {},
   "outputs": [
    {
     "name": "stderr",
     "output_type": "stream",
     "text": [
      "\u001b[1m\u001b[22mJoining, by = \"Protein\"\n",
      "\u001b[1m\u001b[22mJoining, by = \"Protein\"\n",
      "\u001b[1m\u001b[22mJoining, by = \"Protein\"\n",
      "\u001b[1m\u001b[22mJoining, by = \"Protein\"\n"
     ]
    },
    {
     "data": {
      "text/html": [
       "<table class=\"dataframe\">\n",
       "<caption>A tibble: 6 × 6</caption>\n",
       "<thead>\n",
       "\t<tr><th scope=col>Protein</th><th scope=col>Avg_Abundance</th><th scope=col>Coculture_Exposed.Avg_Abundance</th><th scope=col>Coculture_Vehicle.Avg_Abundance</th><th scope=col>Triculture_Exposed.Avg_Abundance</th><th scope=col>Triculture_Vehicle.Avg_Abundance</th></tr>\n",
       "\t<tr><th scope=col>&lt;chr&gt;</th><th scope=col>&lt;dbl&gt;</th><th scope=col>&lt;dbl&gt;</th><th scope=col>&lt;dbl&gt;</th><th scope=col>&lt;dbl&gt;</th><th scope=col>&lt;dbl&gt;</th></tr>\n",
       "</thead>\n",
       "<tbody>\n",
       "\t<tr><td>A0AVT1                    </td><td>23.20928</td><td>      NA</td><td>      NA</td><td>22.84180</td><td>23.57677</td></tr>\n",
       "\t<tr><td>A1L4H1                    </td><td>25.83883</td><td>23.68590</td><td>24.25528</td><td>27.68968</td><td>27.72448</td></tr>\n",
       "\t<tr><td>A2I7N0                    </td><td>25.88141</td><td>26.04411</td><td>25.71871</td><td>      NA</td><td>      NA</td></tr>\n",
       "\t<tr><td>A8K2U0                    </td><td>18.14997</td><td>      NA</td><td>      NA</td><td>19.03505</td><td>17.26489</td></tr>\n",
       "\t<tr><td>ENSEMBL.ENSBTAP00000006074</td><td>29.08530</td><td>29.45674</td><td>29.47218</td><td>28.80154</td><td>28.61074</td></tr>\n",
       "\t<tr><td>ENSEMBL.ENSBTAP00000007350</td><td>32.59103</td><td>32.71867</td><td>32.63214</td><td>32.63952</td><td>32.37379</td></tr>\n",
       "</tbody>\n",
       "</table>\n"
      ],
      "text/latex": [
       "A tibble: 6 × 6\n",
       "\\begin{tabular}{llllll}\n",
       " Protein & Avg\\_Abundance & Coculture\\_Exposed.Avg\\_Abundance & Coculture\\_Vehicle.Avg\\_Abundance & Triculture\\_Exposed.Avg\\_Abundance & Triculture\\_Vehicle.Avg\\_Abundance\\\\\n",
       " <chr> & <dbl> & <dbl> & <dbl> & <dbl> & <dbl>\\\\\n",
       "\\hline\n",
       "\t A0AVT1                     & 23.20928 &       NA &       NA & 22.84180 & 23.57677\\\\\n",
       "\t A1L4H1                     & 25.83883 & 23.68590 & 24.25528 & 27.68968 & 27.72448\\\\\n",
       "\t A2I7N0                     & 25.88141 & 26.04411 & 25.71871 &       NA &       NA\\\\\n",
       "\t A8K2U0                     & 18.14997 &       NA &       NA & 19.03505 & 17.26489\\\\\n",
       "\t ENSEMBL.ENSBTAP00000006074 & 29.08530 & 29.45674 & 29.47218 & 28.80154 & 28.61074\\\\\n",
       "\t ENSEMBL.ENSBTAP00000007350 & 32.59103 & 32.71867 & 32.63214 & 32.63952 & 32.37379\\\\\n",
       "\\end{tabular}\n"
      ],
      "text/markdown": [
       "\n",
       "A tibble: 6 × 6\n",
       "\n",
       "| Protein &lt;chr&gt; | Avg_Abundance &lt;dbl&gt; | Coculture_Exposed.Avg_Abundance &lt;dbl&gt; | Coculture_Vehicle.Avg_Abundance &lt;dbl&gt; | Triculture_Exposed.Avg_Abundance &lt;dbl&gt; | Triculture_Vehicle.Avg_Abundance &lt;dbl&gt; |\n",
       "|---|---|---|---|---|---|\n",
       "| A0AVT1                     | 23.20928 |       NA |       NA | 22.84180 | 23.57677 |\n",
       "| A1L4H1                     | 25.83883 | 23.68590 | 24.25528 | 27.68968 | 27.72448 |\n",
       "| A2I7N0                     | 25.88141 | 26.04411 | 25.71871 |       NA |       NA |\n",
       "| A8K2U0                     | 18.14997 |       NA |       NA | 19.03505 | 17.26489 |\n",
       "| ENSEMBL.ENSBTAP00000006074 | 29.08530 | 29.45674 | 29.47218 | 28.80154 | 28.61074 |\n",
       "| ENSEMBL.ENSBTAP00000007350 | 32.59103 | 32.71867 | 32.63214 | 32.63952 | 32.37379 |\n",
       "\n"
      ],
      "text/plain": [
       "  Protein                    Avg_Abundance Coculture_Exposed.Avg_Abundance\n",
       "1 A0AVT1                     23.20928            NA                       \n",
       "2 A1L4H1                     25.83883      23.68590                       \n",
       "3 A2I7N0                     25.88141      26.04411                       \n",
       "4 A8K2U0                     18.14997            NA                       \n",
       "5 ENSEMBL.ENSBTAP00000006074 29.08530      29.45674                       \n",
       "6 ENSEMBL.ENSBTAP00000007350 32.59103      32.71867                       \n",
       "  Coculture_Vehicle.Avg_Abundance Triculture_Exposed.Avg_Abundance\n",
       "1       NA                        22.84180                        \n",
       "2 24.25528                        27.68968                        \n",
       "3 25.71871                              NA                        \n",
       "4       NA                        19.03505                        \n",
       "5 29.47218                        28.80154                        \n",
       "6 32.63214                        32.63952                        \n",
       "  Triculture_Vehicle.Avg_Abundance\n",
       "1 23.57677                        \n",
       "2 27.72448                        \n",
       "3       NA                        \n",
       "4 17.26489                        \n",
       "5 28.61074                        \n",
       "6 32.37379                        "
      ]
     },
     "metadata": {},
     "output_type": "display_data"
    }
   ],
   "source": [
    "# combining into 1 abundance df\n",
    "stratified_abundance_df = full_join(inner_join(coculture_exposed_avg_abundance, coculture_vehicle_avg_abundance) %>% \n",
    "                                    unique(), \n",
    "      inner_join(triculture_exposed_avg_abundance, triculture_vehicle_avg_abundance) %>% \n",
    "                                    unique())\n",
    "abundance_df = full_join(avg_abundance_df, stratified_abundance_df)\n",
    "\n",
    "head(abundance_df)"
   ]
  },
  {
   "cell_type": "markdown",
   "id": "80cf0185",
   "metadata": {},
   "source": [
    "Some cells have NA values, because not all proteins were the same between coculture and triculture treatment groups. "
   ]
  },
  {
   "cell_type": "code",
   "execution_count": 12,
   "id": "838aa80d",
   "metadata": {},
   "outputs": [
    {
     "name": "stderr",
     "output_type": "stream",
     "text": [
      "\u001b[1m\u001b[22mJoining, by = \"Protein\"\n",
      "\u001b[1m\u001b[22mJoining, by = \"Protein\"\n"
     ]
    },
    {
     "data": {
      "text/html": [
       "<table class=\"dataframe\">\n",
       "<caption>A tibble: 6 × 9</caption>\n",
       "<thead>\n",
       "\t<tr><th scope=col>Protein</th><th scope=col>Gene.name</th><th scope=col>log2FC</th><th scope=col>Statistic</th><th scope=col>P Value</th><th scope=col>P Adj</th><th scope=col>Avg_Abundance</th><th scope=col>Coculture_Exposed.Avg_Abundance</th><th scope=col>Coculture_Vehicle.Avg_Abundance</th></tr>\n",
       "\t<tr><th scope=col>&lt;chr&gt;</th><th scope=col>&lt;chr&gt;</th><th scope=col>&lt;dbl&gt;</th><th scope=col>&lt;dbl&gt;</th><th scope=col>&lt;dbl&gt;</th><th scope=col>&lt;dbl&gt;</th><th scope=col>&lt;dbl&gt;</th><th scope=col>&lt;dbl&gt;</th><th scope=col>&lt;dbl&gt;</th></tr>\n",
       "</thead>\n",
       "<tbody>\n",
       "\t<tr><td>P02751</td><td>FN1   </td><td>-0.09664782</td><td> 0.3712160</td><td>0.7217334685</td><td>0.90261007</td><td>37.72048</td><td>37.70872</td><td>37.77246</td></tr>\n",
       "\t<tr><td>P98160</td><td>HSPG2 </td><td>-0.37199408</td><td> 1.3220928</td><td>0.2155840099</td><td>0.72056215</td><td>34.16685</td><td>34.09359</td><td>34.46918</td></tr>\n",
       "\t<tr><td>P12111</td><td>COL6A3</td><td> 0.25760674</td><td>-1.5293073</td><td>0.1735217887</td><td>0.66833001</td><td>34.12207</td><td>34.35725</td><td>34.05447</td></tr>\n",
       "\t<tr><td>P21333</td><td>FLNA  </td><td>-0.38907251</td><td> 0.9679196</td><td>0.3568358777</td><td>0.82500368</td><td>32.82900</td><td>32.46314</td><td>32.81576</td></tr>\n",
       "\t<tr><td>O00468</td><td>AGRN  </td><td>-0.43881516</td><td> 5.2320284</td><td>0.0008717592</td><td>0.08205816</td><td>33.88041</td><td>33.91269</td><td>34.35810</td></tr>\n",
       "\t<tr><td>P35555</td><td>FBN1  </td><td>-0.41703532</td><td> 1.6481156</td><td>0.1402935776</td><td>0.64943412</td><td>32.97628</td><td>32.80368</td><td>33.17195</td></tr>\n",
       "</tbody>\n",
       "</table>\n"
      ],
      "text/latex": [
       "A tibble: 6 × 9\n",
       "\\begin{tabular}{lllllllll}\n",
       " Protein & Gene.name & log2FC & Statistic & P Value & P Adj & Avg\\_Abundance & Coculture\\_Exposed.Avg\\_Abundance & Coculture\\_Vehicle.Avg\\_Abundance\\\\\n",
       " <chr> & <chr> & <dbl> & <dbl> & <dbl> & <dbl> & <dbl> & <dbl> & <dbl>\\\\\n",
       "\\hline\n",
       "\t P02751 & FN1    & -0.09664782 &  0.3712160 & 0.7217334685 & 0.90261007 & 37.72048 & 37.70872 & 37.77246\\\\\n",
       "\t P98160 & HSPG2  & -0.37199408 &  1.3220928 & 0.2155840099 & 0.72056215 & 34.16685 & 34.09359 & 34.46918\\\\\n",
       "\t P12111 & COL6A3 &  0.25760674 & -1.5293073 & 0.1735217887 & 0.66833001 & 34.12207 & 34.35725 & 34.05447\\\\\n",
       "\t P21333 & FLNA   & -0.38907251 &  0.9679196 & 0.3568358777 & 0.82500368 & 32.82900 & 32.46314 & 32.81576\\\\\n",
       "\t O00468 & AGRN   & -0.43881516 &  5.2320284 & 0.0008717592 & 0.08205816 & 33.88041 & 33.91269 & 34.35810\\\\\n",
       "\t P35555 & FBN1   & -0.41703532 &  1.6481156 & 0.1402935776 & 0.64943412 & 32.97628 & 32.80368 & 33.17195\\\\\n",
       "\\end{tabular}\n"
      ],
      "text/markdown": [
       "\n",
       "A tibble: 6 × 9\n",
       "\n",
       "| Protein &lt;chr&gt; | Gene.name &lt;chr&gt; | log2FC &lt;dbl&gt; | Statistic &lt;dbl&gt; | P Value &lt;dbl&gt; | P Adj &lt;dbl&gt; | Avg_Abundance &lt;dbl&gt; | Coculture_Exposed.Avg_Abundance &lt;dbl&gt; | Coculture_Vehicle.Avg_Abundance &lt;dbl&gt; |\n",
       "|---|---|---|---|---|---|---|---|---|\n",
       "| P02751 | FN1    | -0.09664782 |  0.3712160 | 0.7217334685 | 0.90261007 | 37.72048 | 37.70872 | 37.77246 |\n",
       "| P98160 | HSPG2  | -0.37199408 |  1.3220928 | 0.2155840099 | 0.72056215 | 34.16685 | 34.09359 | 34.46918 |\n",
       "| P12111 | COL6A3 |  0.25760674 | -1.5293073 | 0.1735217887 | 0.66833001 | 34.12207 | 34.35725 | 34.05447 |\n",
       "| P21333 | FLNA   | -0.38907251 |  0.9679196 | 0.3568358777 | 0.82500368 | 32.82900 | 32.46314 | 32.81576 |\n",
       "| O00468 | AGRN   | -0.43881516 |  5.2320284 | 0.0008717592 | 0.08205816 | 33.88041 | 33.91269 | 34.35810 |\n",
       "| P35555 | FBN1   | -0.41703532 |  1.6481156 | 0.1402935776 | 0.64943412 | 32.97628 | 32.80368 | 33.17195 |\n",
       "\n"
      ],
      "text/plain": [
       "  Protein Gene.name log2FC      Statistic  P Value      P Adj     \n",
       "1 P02751  FN1       -0.09664782  0.3712160 0.7217334685 0.90261007\n",
       "2 P98160  HSPG2     -0.37199408  1.3220928 0.2155840099 0.72056215\n",
       "3 P12111  COL6A3     0.25760674 -1.5293073 0.1735217887 0.66833001\n",
       "4 P21333  FLNA      -0.38907251  0.9679196 0.3568358777 0.82500368\n",
       "5 O00468  AGRN      -0.43881516  5.2320284 0.0008717592 0.08205816\n",
       "6 P35555  FBN1      -0.41703532  1.6481156 0.1402935776 0.64943412\n",
       "  Avg_Abundance Coculture_Exposed.Avg_Abundance Coculture_Vehicle.Avg_Abundance\n",
       "1 37.72048      37.70872                        37.77246                       \n",
       "2 34.16685      34.09359                        34.46918                       \n",
       "3 34.12207      34.35725                        34.05447                       \n",
       "4 32.82900      32.46314                        32.81576                       \n",
       "5 33.88041      33.91269                        34.35810                       \n",
       "6 32.97628      32.80368                        33.17195                       "
      ]
     },
     "metadata": {},
     "output_type": "display_data"
    }
   ],
   "source": [
    "# getting the final statistical df to combine t test and abundance values\n",
    "# will have one df for each set\n",
    "final_t_test_df_split = final_t_test_df %>%\n",
    "    select(-Treatment) %>%\n",
    "    group_by(Set) %>%\n",
    "    group_split()\n",
    "\n",
    "\n",
    "set1_t_test_abundance_df = inner_join(final_t_test_df_split[[1]], abundance_df[,1:4]) %>%\n",
    "    select(-Set)\n",
    "set2_t_test_abundance_df = inner_join(final_t_test_df_split[[2]], abundance_df[,c(1,2,5,6)]) %>%\n",
    "    select(-Set)\n",
    "head(set1_t_test_abundance_df)"
   ]
  },
  {
   "cell_type": "code",
   "execution_count": 13,
   "id": "eed4e477",
   "metadata": {},
   "outputs": [],
   "source": [
    "# exporting t test results and avg abundances for manuscript\n",
    "write.csv(set1_t_test_abundance_df, paste0(Output,\"/\", cur_date, \"_Set1_t_test_abundance_data.csv\"), row.names = FALSE)\n",
    "write.csv(set2_t_test_abundance_df, paste0(Output,\"/\", cur_date, \"_Set2_t_test_abundance_data.csv\"), row.names = FALSE)"
   ]
  },
  {
   "cell_type": "code",
   "execution_count": 14,
   "id": "9fcacb51",
   "metadata": {},
   "outputs": [
    {
     "data": {
      "text/html": [
       "<table class=\"dataframe\">\n",
       "<caption>A tibble: 6 × 13</caption>\n",
       "<thead>\n",
       "\t<tr><th scope=col>Protein</th><th scope=col>CoCulture_Exposed1</th><th scope=col>CoCulture_Exposed2</th><th scope=col>CoCulture_Exposed3</th><th scope=col>CoCulture_Exposed4</th><th scope=col>CoCulture_Exposed5</th><th scope=col>CoCulture_Exposed6</th><th scope=col>CoCulture_VehicleCT1</th><th scope=col>CoCulture_VehicleCT2</th><th scope=col>CoCulture_VehicleCT3</th><th scope=col>CoCulture_VehicleCT4</th><th scope=col>CoCulture_VehicleCT5</th><th scope=col>CoCulture_VehicleCT6</th></tr>\n",
       "\t<tr><th scope=col>&lt;chr&gt;</th><th scope=col>&lt;dbl&gt;</th><th scope=col>&lt;dbl&gt;</th><th scope=col>&lt;dbl&gt;</th><th scope=col>&lt;dbl&gt;</th><th scope=col>&lt;dbl&gt;</th><th scope=col>&lt;dbl&gt;</th><th scope=col>&lt;dbl&gt;</th><th scope=col>&lt;dbl&gt;</th><th scope=col>&lt;dbl&gt;</th><th scope=col>&lt;dbl&gt;</th><th scope=col>&lt;dbl&gt;</th><th scope=col>&lt;dbl&gt;</th></tr>\n",
       "</thead>\n",
       "<tbody>\n",
       "\t<tr><td>P02769</td><td>38.85798</td><td>39.14599</td><td>39.16376</td><td>38.90002</td><td>38.68933</td><td>39.10784</td><td>39.00936</td><td>38.67214</td><td>38.75845</td><td>38.49615</td><td>38.87343</td><td>38.98993</td></tr>\n",
       "\t<tr><td>P02751</td><td>37.42375</td><td>37.75165</td><td>37.85741</td><td>37.88589</td><td>37.68203</td><td>37.65156</td><td>37.52669</td><td>37.82217</td><td>38.20956</td><td>38.06975</td><td>37.86170</td><td>37.14490</td></tr>\n",
       "\t<tr><td>P12763</td><td>38.09213</td><td>38.02277</td><td>37.99139</td><td>37.93613</td><td>38.03726</td><td>37.92895</td><td>37.99546</td><td>37.76154</td><td>37.94652</td><td>38.00562</td><td>38.00721</td><td>38.03387</td></tr>\n",
       "\t<tr><td>Q2UVX4</td><td>35.60432</td><td>35.18843</td><td>34.83988</td><td>35.92622</td><td>35.53571</td><td>35.23729</td><td>35.79829</td><td>35.32697</td><td>35.22374</td><td>35.45133</td><td>35.54565</td><td>35.20968</td></tr>\n",
       "\t<tr><td>P98160</td><td>34.33156</td><td>33.67026</td><td>33.33868</td><td>34.35007</td><td>34.68056</td><td>34.19040</td><td>34.63103</td><td>34.05924</td><td>33.67706</td><td>34.80922</td><td>34.73756</td><td>34.90098</td></tr>\n",
       "\t<tr><td>P12111</td><td>34.09321</td><td>34.24833</td><td>34.37701</td><td>34.61420</td><td>34.42455</td><td>34.38622</td><td>33.67353</td><td>34.30335</td><td>34.38698</td><td>34.40145</td><td>34.24699</td><td>33.31450</td></tr>\n",
       "</tbody>\n",
       "</table>\n"
      ],
      "text/latex": [
       "A tibble: 6 × 13\n",
       "\\begin{tabular}{lllllllllllll}\n",
       " Protein & CoCulture\\_Exposed1 & CoCulture\\_Exposed2 & CoCulture\\_Exposed3 & CoCulture\\_Exposed4 & CoCulture\\_Exposed5 & CoCulture\\_Exposed6 & CoCulture\\_VehicleCT1 & CoCulture\\_VehicleCT2 & CoCulture\\_VehicleCT3 & CoCulture\\_VehicleCT4 & CoCulture\\_VehicleCT5 & CoCulture\\_VehicleCT6\\\\\n",
       " <chr> & <dbl> & <dbl> & <dbl> & <dbl> & <dbl> & <dbl> & <dbl> & <dbl> & <dbl> & <dbl> & <dbl> & <dbl>\\\\\n",
       "\\hline\n",
       "\t P02769 & 38.85798 & 39.14599 & 39.16376 & 38.90002 & 38.68933 & 39.10784 & 39.00936 & 38.67214 & 38.75845 & 38.49615 & 38.87343 & 38.98993\\\\\n",
       "\t P02751 & 37.42375 & 37.75165 & 37.85741 & 37.88589 & 37.68203 & 37.65156 & 37.52669 & 37.82217 & 38.20956 & 38.06975 & 37.86170 & 37.14490\\\\\n",
       "\t P12763 & 38.09213 & 38.02277 & 37.99139 & 37.93613 & 38.03726 & 37.92895 & 37.99546 & 37.76154 & 37.94652 & 38.00562 & 38.00721 & 38.03387\\\\\n",
       "\t Q2UVX4 & 35.60432 & 35.18843 & 34.83988 & 35.92622 & 35.53571 & 35.23729 & 35.79829 & 35.32697 & 35.22374 & 35.45133 & 35.54565 & 35.20968\\\\\n",
       "\t P98160 & 34.33156 & 33.67026 & 33.33868 & 34.35007 & 34.68056 & 34.19040 & 34.63103 & 34.05924 & 33.67706 & 34.80922 & 34.73756 & 34.90098\\\\\n",
       "\t P12111 & 34.09321 & 34.24833 & 34.37701 & 34.61420 & 34.42455 & 34.38622 & 33.67353 & 34.30335 & 34.38698 & 34.40145 & 34.24699 & 33.31450\\\\\n",
       "\\end{tabular}\n"
      ],
      "text/markdown": [
       "\n",
       "A tibble: 6 × 13\n",
       "\n",
       "| Protein &lt;chr&gt; | CoCulture_Exposed1 &lt;dbl&gt; | CoCulture_Exposed2 &lt;dbl&gt; | CoCulture_Exposed3 &lt;dbl&gt; | CoCulture_Exposed4 &lt;dbl&gt; | CoCulture_Exposed5 &lt;dbl&gt; | CoCulture_Exposed6 &lt;dbl&gt; | CoCulture_VehicleCT1 &lt;dbl&gt; | CoCulture_VehicleCT2 &lt;dbl&gt; | CoCulture_VehicleCT3 &lt;dbl&gt; | CoCulture_VehicleCT4 &lt;dbl&gt; | CoCulture_VehicleCT5 &lt;dbl&gt; | CoCulture_VehicleCT6 &lt;dbl&gt; |\n",
       "|---|---|---|---|---|---|---|---|---|---|---|---|---|\n",
       "| P02769 | 38.85798 | 39.14599 | 39.16376 | 38.90002 | 38.68933 | 39.10784 | 39.00936 | 38.67214 | 38.75845 | 38.49615 | 38.87343 | 38.98993 |\n",
       "| P02751 | 37.42375 | 37.75165 | 37.85741 | 37.88589 | 37.68203 | 37.65156 | 37.52669 | 37.82217 | 38.20956 | 38.06975 | 37.86170 | 37.14490 |\n",
       "| P12763 | 38.09213 | 38.02277 | 37.99139 | 37.93613 | 38.03726 | 37.92895 | 37.99546 | 37.76154 | 37.94652 | 38.00562 | 38.00721 | 38.03387 |\n",
       "| Q2UVX4 | 35.60432 | 35.18843 | 34.83988 | 35.92622 | 35.53571 | 35.23729 | 35.79829 | 35.32697 | 35.22374 | 35.45133 | 35.54565 | 35.20968 |\n",
       "| P98160 | 34.33156 | 33.67026 | 33.33868 | 34.35007 | 34.68056 | 34.19040 | 34.63103 | 34.05924 | 33.67706 | 34.80922 | 34.73756 | 34.90098 |\n",
       "| P12111 | 34.09321 | 34.24833 | 34.37701 | 34.61420 | 34.42455 | 34.38622 | 33.67353 | 34.30335 | 34.38698 | 34.40145 | 34.24699 | 33.31450 |\n",
       "\n"
      ],
      "text/plain": [
       "  Protein CoCulture_Exposed1 CoCulture_Exposed2 CoCulture_Exposed3\n",
       "1 P02769  38.85798           39.14599           39.16376          \n",
       "2 P02751  37.42375           37.75165           37.85741          \n",
       "3 P12763  38.09213           38.02277           37.99139          \n",
       "4 Q2UVX4  35.60432           35.18843           34.83988          \n",
       "5 P98160  34.33156           33.67026           33.33868          \n",
       "6 P12111  34.09321           34.24833           34.37701          \n",
       "  CoCulture_Exposed4 CoCulture_Exposed5 CoCulture_Exposed6 CoCulture_VehicleCT1\n",
       "1 38.90002           38.68933           39.10784           39.00936            \n",
       "2 37.88589           37.68203           37.65156           37.52669            \n",
       "3 37.93613           38.03726           37.92895           37.99546            \n",
       "4 35.92622           35.53571           35.23729           35.79829            \n",
       "5 34.35007           34.68056           34.19040           34.63103            \n",
       "6 34.61420           34.42455           34.38622           33.67353            \n",
       "  CoCulture_VehicleCT2 CoCulture_VehicleCT3 CoCulture_VehicleCT4\n",
       "1 38.67214             38.75845             38.49615            \n",
       "2 37.82217             38.20956             38.06975            \n",
       "3 37.76154             37.94652             38.00562            \n",
       "4 35.32697             35.22374             35.45133            \n",
       "5 34.05924             33.67706             34.80922            \n",
       "6 34.30335             34.38698             34.40145            \n",
       "  CoCulture_VehicleCT5 CoCulture_VehicleCT6\n",
       "1 38.87343             38.98993            \n",
       "2 37.86170             37.14490            \n",
       "3 38.00721             38.03387            \n",
       "4 35.54565             35.20968            \n",
       "5 34.73756             34.90098            \n",
       "6 34.24699             33.31450            "
      ]
     },
     "metadata": {},
     "output_type": "display_data"
    }
   ],
   "source": [
    "# now creating a df with individual protein abundances\n",
    "split_proteomics_df = proteomics_df %>%\n",
    "    select(-c(\"Treatment\", \"Exposure\", \"Value\")) %>%\n",
    "    group_by(Set) %>%\n",
    "    group_split()\n",
    "\n",
    "set1_protein_abundance = split_proteomics_df[[1]] %>%\n",
    "    select(-Set) %>%\n",
    "    pivot_wider(names_from = ID, values_from = log2Value) \n",
    "\n",
    "set2_protein_abundance = split_proteomics_df[[2]] %>%\n",
    "     select(-Set) %>%\n",
    "    pivot_wider(names_from = ID, values_from = log2Value) \n",
    "\n",
    "head(set1_protein_abundance)"
   ]
  },
  {
   "cell_type": "code",
   "execution_count": 15,
   "id": "eeb1e543",
   "metadata": {},
   "outputs": [],
   "source": [
    "# exporting indvidual protein abundances\n",
    "write.csv(set1_protein_abundance, paste0(Output,\"/\", cur_date, \"_Set1_individual_abundance_data.csv\"), row.names = FALSE)\n",
    "write.csv(set2_protein_abundance, paste0(Output,\"/\", cur_date, \"_Set2_individual_abundance_data.csv\"), row.names = FALSE)"
   ]
  },
  {
   "cell_type": "code",
   "execution_count": null,
   "id": "5e6afcb4",
   "metadata": {},
   "outputs": [],
   "source": []
  }
 ],
 "metadata": {
  "kernelspec": {
   "display_name": "R",
   "language": "R",
   "name": "ir"
  },
  "language_info": {
   "codemirror_mode": "r",
   "file_extension": ".r",
   "mimetype": "text/x-r-source",
   "name": "R",
   "pygments_lexer": "r",
   "version": "4.1.2"
  }
 },
 "nbformat": 4,
 "nbformat_minor": 5
}
