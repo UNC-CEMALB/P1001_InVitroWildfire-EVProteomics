{
 "cells": [
  {
   "cell_type": "code",
   "execution_count": 1,
   "id": "2435c81d",
   "metadata": {},
   "outputs": [
    {
     "name": "stderr",
     "output_type": "stream",
     "text": [
      "── \u001b[1mAttaching packages\u001b[22m ─────────────────────────────────────── tidyverse 1.3.1 ──\n",
      "\n",
      "\u001b[32m✔\u001b[39m \u001b[34mggplot2\u001b[39m 3.3.5     \u001b[32m✔\u001b[39m \u001b[34mpurrr  \u001b[39m 0.3.4\n",
      "\u001b[32m✔\u001b[39m \u001b[34mtibble \u001b[39m 3.1.6     \u001b[32m✔\u001b[39m \u001b[34mdplyr  \u001b[39m 1.0.8\n",
      "\u001b[32m✔\u001b[39m \u001b[34mtidyr  \u001b[39m 1.2.0     \u001b[32m✔\u001b[39m \u001b[34mstringr\u001b[39m 1.4.0\n",
      "\u001b[32m✔\u001b[39m \u001b[34mreadr  \u001b[39m 2.1.2     \u001b[32m✔\u001b[39m \u001b[34mforcats\u001b[39m 0.5.1\n",
      "\n",
      "── \u001b[1mConflicts\u001b[22m ────────────────────────────────────────── tidyverse_conflicts() ──\n",
      "\u001b[31m✖\u001b[39m \u001b[34mdplyr\u001b[39m::\u001b[32mfilter()\u001b[39m masks \u001b[34mstats\u001b[39m::filter()\n",
      "\u001b[31m✖\u001b[39m \u001b[34mdplyr\u001b[39m::\u001b[32mlag()\u001b[39m    masks \u001b[34mstats\u001b[39m::lag()\n",
      "\n",
      "\n",
      "Attaching package: ‘reshape2’\n",
      "\n",
      "\n",
      "The following object is masked from ‘package:tidyr’:\n",
      "\n",
      "    smiths\n",
      "\n",
      "\n"
     ]
    }
   ],
   "source": [
    "setwd('/Users/alexis/Library/CloudStorage/OneDrive-UniversityofNorthCarolinaatChapelHill/CEMALB_DataAnalysisPM/Projects/P1001. InVitroWildfire EVProteomics/P1001.3. Analyses/P1001.3.5. Group Distribution Analysis/Input')\n",
    "Output = ('/Users/alexis/Library/CloudStorage/OneDrive-UniversityofNorthCarolinaatChapelHill/CEMALB_DataAnalysisPM/Projects/P1001. InVitroWildfire EVProteomics/P1001.3. Analyses/P1001.3.5. Group Distribution Analysis/Output')\n",
    "cur_date = \"070122\"\n",
    "\n",
    "library(readxl)\n",
    "library(tidyverse)\n",
    "library(reshape2)\n",
    "\n",
    "\n",
    "#reading in file\n",
    "proteomics_df = data.frame(read_excel(\"063022_Imputed_Proteomics_Data.xlsx\"))\n",
    "protein_info_df = data.frame(read_excel(\"List of Proteins Detected_041922.xlsx\")) %>%\n",
    "    rename(Protein = Accession)"
   ]
  },
  {
   "cell_type": "code",
   "execution_count": 2,
   "id": "d6772e95",
   "metadata": {},
   "outputs": [
    {
     "data": {
      "text/html": [
       "<table class=\"dataframe\">\n",
       "<caption>A data.frame: 6 × 6</caption>\n",
       "<thead>\n",
       "\t<tr><th></th><th scope=col>Set</th><th scope=col>Treatment</th><th scope=col>ID</th><th scope=col>Protein</th><th scope=col>Value</th><th scope=col>log2Value</th></tr>\n",
       "\t<tr><th></th><th scope=col>&lt;chr&gt;</th><th scope=col>&lt;chr&gt;</th><th scope=col>&lt;chr&gt;</th><th scope=col>&lt;chr&gt;</th><th scope=col>&lt;dbl&gt;</th><th scope=col>&lt;dbl&gt;</th></tr>\n",
       "</thead>\n",
       "<tbody>\n",
       "\t<tr><th scope=row>1</th><td>Set1</td><td>CoCulture_Exposed</td><td>CoCulture_Exposed1</td><td>P02769</td><td>498216198704</td><td>38.90216</td></tr>\n",
       "\t<tr><th scope=row>2</th><td>Set1</td><td>CoCulture_Exposed</td><td>CoCulture_Exposed1</td><td>P02751</td><td>184361941370</td><td>37.69320</td></tr>\n",
       "\t<tr><th scope=row>3</th><td>Set1</td><td>CoCulture_Exposed</td><td>CoCulture_Exposed1</td><td>P12763</td><td>293003799678</td><td>37.93295</td></tr>\n",
       "\t<tr><th scope=row>4</th><td>Set1</td><td>CoCulture_Exposed</td><td>CoCulture_Exposed1</td><td>Q2UVX4</td><td> 52235883387</td><td>35.52159</td></tr>\n",
       "\t<tr><th scope=row>5</th><td>Set1</td><td>CoCulture_Exposed</td><td>CoCulture_Exposed1</td><td>P98160</td><td> 21618632410</td><td>34.66341</td></tr>\n",
       "\t<tr><th scope=row>6</th><td>Set1</td><td>CoCulture_Exposed</td><td>CoCulture_Exposed1</td><td>P12111</td><td> 18326454885</td><td>34.22305</td></tr>\n",
       "</tbody>\n",
       "</table>\n"
      ],
      "text/latex": [
       "A data.frame: 6 × 6\n",
       "\\begin{tabular}{r|llllll}\n",
       "  & Set & Treatment & ID & Protein & Value & log2Value\\\\\n",
       "  & <chr> & <chr> & <chr> & <chr> & <dbl> & <dbl>\\\\\n",
       "\\hline\n",
       "\t1 & Set1 & CoCulture\\_Exposed & CoCulture\\_Exposed1 & P02769 & 498216198704 & 38.90216\\\\\n",
       "\t2 & Set1 & CoCulture\\_Exposed & CoCulture\\_Exposed1 & P02751 & 184361941370 & 37.69320\\\\\n",
       "\t3 & Set1 & CoCulture\\_Exposed & CoCulture\\_Exposed1 & P12763 & 293003799678 & 37.93295\\\\\n",
       "\t4 & Set1 & CoCulture\\_Exposed & CoCulture\\_Exposed1 & Q2UVX4 &  52235883387 & 35.52159\\\\\n",
       "\t5 & Set1 & CoCulture\\_Exposed & CoCulture\\_Exposed1 & P98160 &  21618632410 & 34.66341\\\\\n",
       "\t6 & Set1 & CoCulture\\_Exposed & CoCulture\\_Exposed1 & P12111 &  18326454885 & 34.22305\\\\\n",
       "\\end{tabular}\n"
      ],
      "text/markdown": [
       "\n",
       "A data.frame: 6 × 6\n",
       "\n",
       "| <!--/--> | Set &lt;chr&gt; | Treatment &lt;chr&gt; | ID &lt;chr&gt; | Protein &lt;chr&gt; | Value &lt;dbl&gt; | log2Value &lt;dbl&gt; |\n",
       "|---|---|---|---|---|---|---|\n",
       "| 1 | Set1 | CoCulture_Exposed | CoCulture_Exposed1 | P02769 | 498216198704 | 38.90216 |\n",
       "| 2 | Set1 | CoCulture_Exposed | CoCulture_Exposed1 | P02751 | 184361941370 | 37.69320 |\n",
       "| 3 | Set1 | CoCulture_Exposed | CoCulture_Exposed1 | P12763 | 293003799678 | 37.93295 |\n",
       "| 4 | Set1 | CoCulture_Exposed | CoCulture_Exposed1 | Q2UVX4 |  52235883387 | 35.52159 |\n",
       "| 5 | Set1 | CoCulture_Exposed | CoCulture_Exposed1 | P98160 |  21618632410 | 34.66341 |\n",
       "| 6 | Set1 | CoCulture_Exposed | CoCulture_Exposed1 | P12111 |  18326454885 | 34.22305 |\n",
       "\n"
      ],
      "text/plain": [
       "  Set  Treatment         ID                 Protein Value        log2Value\n",
       "1 Set1 CoCulture_Exposed CoCulture_Exposed1 P02769  498216198704 38.90216 \n",
       "2 Set1 CoCulture_Exposed CoCulture_Exposed1 P02751  184361941370 37.69320 \n",
       "3 Set1 CoCulture_Exposed CoCulture_Exposed1 P12763  293003799678 37.93295 \n",
       "4 Set1 CoCulture_Exposed CoCulture_Exposed1 Q2UVX4   52235883387 35.52159 \n",
       "5 Set1 CoCulture_Exposed CoCulture_Exposed1 P98160   21618632410 34.66341 \n",
       "6 Set1 CoCulture_Exposed CoCulture_Exposed1 P12111   18326454885 34.22305 "
      ]
     },
     "metadata": {},
     "output_type": "display_data"
    },
    {
     "data": {
      "text/html": [
       "<table class=\"dataframe\">\n",
       "<caption>A data.frame: 6 × 5</caption>\n",
       "<thead>\n",
       "\t<tr><th></th><th scope=col>Protein</th><th scope=col>Gene.name</th><th scope=col>Description</th><th scope=col>GOCC.name</th><th scope=col>Contaminant</th></tr>\n",
       "\t<tr><th></th><th scope=col>&lt;chr&gt;</th><th scope=col>&lt;chr&gt;</th><th scope=col>&lt;chr&gt;</th><th scope=col>&lt;chr&gt;</th><th scope=col>&lt;chr&gt;</th></tr>\n",
       "</thead>\n",
       "<tbody>\n",
       "\t<tr><th scope=row>1</th><td>P02751</td><td>FN1                                                             </td><td>Fibronectin OS=Homo sapiens OX=9606 GN=FN1 PE=1 SV=5                                                           </td><td>apical plasma membrane;basal lamina;blood microparticle;cell part;cytoplasmic membrane-bounded vesicle lumen;cytoplasmic part;cytoplasmic vesicle part;endoplasmic reticulum-Golgi intermediate compartment;extracellular matrix;extracellular matrix part;extracellular membrane-bounded organelle;extracellular organelle;extracellular region;extracellular region part;extracellular space;extracellular vesicular exosome;fibrinogen complex;intracellular membrane-bounded organelle;intracellular organelle;intracellular organelle part;intracellular part;macromolecular complex;membrane part;membrane-bounded organelle;membrane-bounded vesicle;membrane-enclosed lumen;organelle;organelle lumen;organelle part;plasma membrane part;platelet alpha granule lumen;protein complex;secretory granule lumen;vesicle;vesicle lumen                                                                                                                                                  </td><td>-</td></tr>\n",
       "\t<tr><th scope=row>2</th><td>P02769</td><td>SWISS-PROT:P02769 (Bos taurus) Bovine serum albumin precursor   </td><td>SWISS-PROT:P02769 (Bos taurus) Bovine serum albumin precursor                                                  </td><td>NA                                                                                                                                                                                                                                                                                                                                                                                                                                                                                                                                                                                                                                                                                                                                                                                                                                                                                                                                                                                            </td><td>+</td></tr>\n",
       "\t<tr><th scope=row>3</th><td>P07996</td><td>THBS1                                                           </td><td>Thrombospondin-1 OS=Homo sapiens OX=9606 GN=THBS1 PE=1 SV=2                                                    </td><td>cell part;cell surface;cytoplasmic membrane-bounded vesicle;cytoplasmic membrane-bounded vesicle lumen;cytoplasmic part;cytoplasmic vesicle;cytoplasmic vesicle part;endoplasmic reticulum;endoplasmic reticulum lumen;endoplasmic reticulum part;external side of plasma membrane;extracellular matrix;extracellular membrane-bounded organelle;extracellular organelle;extracellular region;extracellular region part;extracellular space;extracellular vesicular exosome;fibrinogen complex;intracellular membrane-bounded organelle;intracellular organelle;intracellular organelle lumen;intracellular organelle part;intracellular part;macromolecular complex;membrane part;membrane-bounded organelle;membrane-bounded vesicle;membrane-enclosed lumen;organelle;organelle lumen;organelle part;plasma membrane part;platelet alpha granule;platelet alpha granule lumen;protein complex;sarcoplasmic reticulum;secretory granule lumen;stored secretory granule;vesicle;vesicle lumen</td><td>-</td></tr>\n",
       "\t<tr><th scope=row>4</th><td>Q2UVX4</td><td>SWISS-PROT:Q2UVX4 (Bos taurus) Complement C3 precursor          </td><td>SWISS-PROT:Q2UVX4 (Bos taurus) Complement C3 precursor                                                         </td><td>NA                                                                                                                                                                                                                                                                                                                                                                                                                                                                                                                                                                                                                                                                                                                                                                                                                                                                                                                                                                                            </td><td>+</td></tr>\n",
       "\t<tr><th scope=row>5</th><td>P98160</td><td>HSPG2                                                           </td><td>Basement membrane-specific heparan sulfate proteoglycan core protein OS=Homo sapiens OX=9606 GN=HSPG2 PE=1 SV=4</td><td>adherens junction;anchoring junction;basal lamina;cell junction;cell part;cell-substrate adherens junction;cell-substrate junction;cytoplasmic part;extracellular matrix;extracellular matrix part;extracellular membrane-bounded organelle;extracellular organelle;extracellular region;extracellular region part;extracellular space;extracellular vesicular exosome;focal adhesion;Golgi apparatus part;Golgi lumen;intracellular organelle lumen;intracellular organelle part;intracellular part;lysosomal lumen;membrane;membrane-bounded organelle;membrane-bounded vesicle;membrane-enclosed lumen;organelle;organelle lumen;organelle part;plasma membrane;vacuolar lumen;vacuolar part;vesicle                                                                                                                                                                                                                                                                                       </td><td>-</td></tr>\n",
       "\t<tr><th scope=row>6</th><td>P12763</td><td>SWISS-PROT:P12763 (Bos taurus) Alpha-2-HS-glycoprotein precursor</td><td>SWISS-PROT:P12763 (Bos taurus) Alpha-2-HS-glycoprotein precursor                                               </td><td>NA                                                                                                                                                                                                                                                                                                                                                                                                                                                                                                                                                                                                                                                                                                                                                                                                                                                                                                                                                                                            </td><td>+</td></tr>\n",
       "</tbody>\n",
       "</table>\n"
      ],
      "text/latex": [
       "A data.frame: 6 × 5\n",
       "\\begin{tabular}{r|lllll}\n",
       "  & Protein & Gene.name & Description & GOCC.name & Contaminant\\\\\n",
       "  & <chr> & <chr> & <chr> & <chr> & <chr>\\\\\n",
       "\\hline\n",
       "\t1 & P02751 & FN1                                                              & Fibronectin OS=Homo sapiens OX=9606 GN=FN1 PE=1 SV=5                                                            & apical plasma membrane;basal lamina;blood microparticle;cell part;cytoplasmic membrane-bounded vesicle lumen;cytoplasmic part;cytoplasmic vesicle part;endoplasmic reticulum-Golgi intermediate compartment;extracellular matrix;extracellular matrix part;extracellular membrane-bounded organelle;extracellular organelle;extracellular region;extracellular region part;extracellular space;extracellular vesicular exosome;fibrinogen complex;intracellular membrane-bounded organelle;intracellular organelle;intracellular organelle part;intracellular part;macromolecular complex;membrane part;membrane-bounded organelle;membrane-bounded vesicle;membrane-enclosed lumen;organelle;organelle lumen;organelle part;plasma membrane part;platelet alpha granule lumen;protein complex;secretory granule lumen;vesicle;vesicle lumen                                                                                                                                                   & -\\\\\n",
       "\t2 & P02769 & SWISS-PROT:P02769 (Bos taurus) Bovine serum albumin precursor    & SWISS-PROT:P02769 (Bos taurus) Bovine serum albumin precursor                                                   & NA                                                                                                                                                                                                                                                                                                                                                                                                                                                                                                                                                                                                                                                                                                                                                                                                                                                                                                                                                                                             & +\\\\\n",
       "\t3 & P07996 & THBS1                                                            & Thrombospondin-1 OS=Homo sapiens OX=9606 GN=THBS1 PE=1 SV=2                                                     & cell part;cell surface;cytoplasmic membrane-bounded vesicle;cytoplasmic membrane-bounded vesicle lumen;cytoplasmic part;cytoplasmic vesicle;cytoplasmic vesicle part;endoplasmic reticulum;endoplasmic reticulum lumen;endoplasmic reticulum part;external side of plasma membrane;extracellular matrix;extracellular membrane-bounded organelle;extracellular organelle;extracellular region;extracellular region part;extracellular space;extracellular vesicular exosome;fibrinogen complex;intracellular membrane-bounded organelle;intracellular organelle;intracellular organelle lumen;intracellular organelle part;intracellular part;macromolecular complex;membrane part;membrane-bounded organelle;membrane-bounded vesicle;membrane-enclosed lumen;organelle;organelle lumen;organelle part;plasma membrane part;platelet alpha granule;platelet alpha granule lumen;protein complex;sarcoplasmic reticulum;secretory granule lumen;stored secretory granule;vesicle;vesicle lumen & -\\\\\n",
       "\t4 & Q2UVX4 & SWISS-PROT:Q2UVX4 (Bos taurus) Complement C3 precursor           & SWISS-PROT:Q2UVX4 (Bos taurus) Complement C3 precursor                                                          & NA                                                                                                                                                                                                                                                                                                                                                                                                                                                                                                                                                                                                                                                                                                                                                                                                                                                                                                                                                                                             & +\\\\\n",
       "\t5 & P98160 & HSPG2                                                            & Basement membrane-specific heparan sulfate proteoglycan core protein OS=Homo sapiens OX=9606 GN=HSPG2 PE=1 SV=4 & adherens junction;anchoring junction;basal lamina;cell junction;cell part;cell-substrate adherens junction;cell-substrate junction;cytoplasmic part;extracellular matrix;extracellular matrix part;extracellular membrane-bounded organelle;extracellular organelle;extracellular region;extracellular region part;extracellular space;extracellular vesicular exosome;focal adhesion;Golgi apparatus part;Golgi lumen;intracellular organelle lumen;intracellular organelle part;intracellular part;lysosomal lumen;membrane;membrane-bounded organelle;membrane-bounded vesicle;membrane-enclosed lumen;organelle;organelle lumen;organelle part;plasma membrane;vacuolar lumen;vacuolar part;vesicle                                                                                                                                                                                                                                                                                        & -\\\\\n",
       "\t6 & P12763 & SWISS-PROT:P12763 (Bos taurus) Alpha-2-HS-glycoprotein precursor & SWISS-PROT:P12763 (Bos taurus) Alpha-2-HS-glycoprotein precursor                                                & NA                                                                                                                                                                                                                                                                                                                                                                                                                                                                                                                                                                                                                                                                                                                                                                                                                                                                                                                                                                                             & +\\\\\n",
       "\\end{tabular}\n"
      ],
      "text/markdown": [
       "\n",
       "A data.frame: 6 × 5\n",
       "\n",
       "| <!--/--> | Protein &lt;chr&gt; | Gene.name &lt;chr&gt; | Description &lt;chr&gt; | GOCC.name &lt;chr&gt; | Contaminant &lt;chr&gt; |\n",
       "|---|---|---|---|---|---|\n",
       "| 1 | P02751 | FN1                                                              | Fibronectin OS=Homo sapiens OX=9606 GN=FN1 PE=1 SV=5                                                            | apical plasma membrane;basal lamina;blood microparticle;cell part;cytoplasmic membrane-bounded vesicle lumen;cytoplasmic part;cytoplasmic vesicle part;endoplasmic reticulum-Golgi intermediate compartment;extracellular matrix;extracellular matrix part;extracellular membrane-bounded organelle;extracellular organelle;extracellular region;extracellular region part;extracellular space;extracellular vesicular exosome;fibrinogen complex;intracellular membrane-bounded organelle;intracellular organelle;intracellular organelle part;intracellular part;macromolecular complex;membrane part;membrane-bounded organelle;membrane-bounded vesicle;membrane-enclosed lumen;organelle;organelle lumen;organelle part;plasma membrane part;platelet alpha granule lumen;protein complex;secretory granule lumen;vesicle;vesicle lumen                                                                                                                                                   | - |\n",
       "| 2 | P02769 | SWISS-PROT:P02769 (Bos taurus) Bovine serum albumin precursor    | SWISS-PROT:P02769 (Bos taurus) Bovine serum albumin precursor                                                   | NA                                                                                                                                                                                                                                                                                                                                                                                                                                                                                                                                                                                                                                                                                                                                                                                                                                                                                                                                                                                             | + |\n",
       "| 3 | P07996 | THBS1                                                            | Thrombospondin-1 OS=Homo sapiens OX=9606 GN=THBS1 PE=1 SV=2                                                     | cell part;cell surface;cytoplasmic membrane-bounded vesicle;cytoplasmic membrane-bounded vesicle lumen;cytoplasmic part;cytoplasmic vesicle;cytoplasmic vesicle part;endoplasmic reticulum;endoplasmic reticulum lumen;endoplasmic reticulum part;external side of plasma membrane;extracellular matrix;extracellular membrane-bounded organelle;extracellular organelle;extracellular region;extracellular region part;extracellular space;extracellular vesicular exosome;fibrinogen complex;intracellular membrane-bounded organelle;intracellular organelle;intracellular organelle lumen;intracellular organelle part;intracellular part;macromolecular complex;membrane part;membrane-bounded organelle;membrane-bounded vesicle;membrane-enclosed lumen;organelle;organelle lumen;organelle part;plasma membrane part;platelet alpha granule;platelet alpha granule lumen;protein complex;sarcoplasmic reticulum;secretory granule lumen;stored secretory granule;vesicle;vesicle lumen | - |\n",
       "| 4 | Q2UVX4 | SWISS-PROT:Q2UVX4 (Bos taurus) Complement C3 precursor           | SWISS-PROT:Q2UVX4 (Bos taurus) Complement C3 precursor                                                          | NA                                                                                                                                                                                                                                                                                                                                                                                                                                                                                                                                                                                                                                                                                                                                                                                                                                                                                                                                                                                             | + |\n",
       "| 5 | P98160 | HSPG2                                                            | Basement membrane-specific heparan sulfate proteoglycan core protein OS=Homo sapiens OX=9606 GN=HSPG2 PE=1 SV=4 | adherens junction;anchoring junction;basal lamina;cell junction;cell part;cell-substrate adherens junction;cell-substrate junction;cytoplasmic part;extracellular matrix;extracellular matrix part;extracellular membrane-bounded organelle;extracellular organelle;extracellular region;extracellular region part;extracellular space;extracellular vesicular exosome;focal adhesion;Golgi apparatus part;Golgi lumen;intracellular organelle lumen;intracellular organelle part;intracellular part;lysosomal lumen;membrane;membrane-bounded organelle;membrane-bounded vesicle;membrane-enclosed lumen;organelle;organelle lumen;organelle part;plasma membrane;vacuolar lumen;vacuolar part;vesicle                                                                                                                                                                                                                                                                                        | - |\n",
       "| 6 | P12763 | SWISS-PROT:P12763 (Bos taurus) Alpha-2-HS-glycoprotein precursor | SWISS-PROT:P12763 (Bos taurus) Alpha-2-HS-glycoprotein precursor                                                | NA                                                                                                                                                                                                                                                                                                                                                                                                                                                                                                                                                                                                                                                                                                                                                                                                                                                                                                                                                                                             | + |\n",
       "\n"
      ],
      "text/plain": [
       "  Protein Gene.name                                                       \n",
       "1 P02751  FN1                                                             \n",
       "2 P02769  SWISS-PROT:P02769 (Bos taurus) Bovine serum albumin precursor   \n",
       "3 P07996  THBS1                                                           \n",
       "4 Q2UVX4  SWISS-PROT:Q2UVX4 (Bos taurus) Complement C3 precursor          \n",
       "5 P98160  HSPG2                                                           \n",
       "6 P12763  SWISS-PROT:P12763 (Bos taurus) Alpha-2-HS-glycoprotein precursor\n",
       "  Description                                                                                                    \n",
       "1 Fibronectin OS=Homo sapiens OX=9606 GN=FN1 PE=1 SV=5                                                           \n",
       "2 SWISS-PROT:P02769 (Bos taurus) Bovine serum albumin precursor                                                  \n",
       "3 Thrombospondin-1 OS=Homo sapiens OX=9606 GN=THBS1 PE=1 SV=2                                                    \n",
       "4 SWISS-PROT:Q2UVX4 (Bos taurus) Complement C3 precursor                                                         \n",
       "5 Basement membrane-specific heparan sulfate proteoglycan core protein OS=Homo sapiens OX=9606 GN=HSPG2 PE=1 SV=4\n",
       "6 SWISS-PROT:P12763 (Bos taurus) Alpha-2-HS-glycoprotein precursor                                               \n",
       "  GOCC.name                                                                                                                                                                                                                                                                                                                                                                                                                                                                                                                                                                                                                                                                                                                                                                                                                                                                                                                                                                                     \n",
       "1 apical plasma membrane;basal lamina;blood microparticle;cell part;cytoplasmic membrane-bounded vesicle lumen;cytoplasmic part;cytoplasmic vesicle part;endoplasmic reticulum-Golgi intermediate compartment;extracellular matrix;extracellular matrix part;extracellular membrane-bounded organelle;extracellular organelle;extracellular region;extracellular region part;extracellular space;extracellular vesicular exosome;fibrinogen complex;intracellular membrane-bounded organelle;intracellular organelle;intracellular organelle part;intracellular part;macromolecular complex;membrane part;membrane-bounded organelle;membrane-bounded vesicle;membrane-enclosed lumen;organelle;organelle lumen;organelle part;plasma membrane part;platelet alpha granule lumen;protein complex;secretory granule lumen;vesicle;vesicle lumen                                                                                                                                                  \n",
       "2 NA                                                                                                                                                                                                                                                                                                                                                                                                                                                                                                                                                                                                                                                                                                                                                                                                                                                                                                                                                                                            \n",
       "3 cell part;cell surface;cytoplasmic membrane-bounded vesicle;cytoplasmic membrane-bounded vesicle lumen;cytoplasmic part;cytoplasmic vesicle;cytoplasmic vesicle part;endoplasmic reticulum;endoplasmic reticulum lumen;endoplasmic reticulum part;external side of plasma membrane;extracellular matrix;extracellular membrane-bounded organelle;extracellular organelle;extracellular region;extracellular region part;extracellular space;extracellular vesicular exosome;fibrinogen complex;intracellular membrane-bounded organelle;intracellular organelle;intracellular organelle lumen;intracellular organelle part;intracellular part;macromolecular complex;membrane part;membrane-bounded organelle;membrane-bounded vesicle;membrane-enclosed lumen;organelle;organelle lumen;organelle part;plasma membrane part;platelet alpha granule;platelet alpha granule lumen;protein complex;sarcoplasmic reticulum;secretory granule lumen;stored secretory granule;vesicle;vesicle lumen\n",
       "4 NA                                                                                                                                                                                                                                                                                                                                                                                                                                                                                                                                                                                                                                                                                                                                                                                                                                                                                                                                                                                            \n",
       "5 adherens junction;anchoring junction;basal lamina;cell junction;cell part;cell-substrate adherens junction;cell-substrate junction;cytoplasmic part;extracellular matrix;extracellular matrix part;extracellular membrane-bounded organelle;extracellular organelle;extracellular region;extracellular region part;extracellular space;extracellular vesicular exosome;focal adhesion;Golgi apparatus part;Golgi lumen;intracellular organelle lumen;intracellular organelle part;intracellular part;lysosomal lumen;membrane;membrane-bounded organelle;membrane-bounded vesicle;membrane-enclosed lumen;organelle;organelle lumen;organelle part;plasma membrane;vacuolar lumen;vacuolar part;vesicle                                                                                                                                                                                                                                                                                       \n",
       "6 NA                                                                                                                                                                                                                                                                                                                                                                                                                                                                                                                                                                                                                                                                                                                                                                                                                                                                                                                                                                                            \n",
       "  Contaminant\n",
       "1 -          \n",
       "2 +          \n",
       "3 -          \n",
       "4 +          \n",
       "5 -          \n",
       "6 +          "
      ]
     },
     "metadata": {},
     "output_type": "display_data"
    }
   ],
   "source": [
    "head(proteomics_df)\n",
    "head(protein_info_df)"
   ]
  },
  {
   "cell_type": "code",
   "execution_count": 3,
   "id": "b609515d",
   "metadata": {},
   "outputs": [
    {
     "data": {
      "text/html": [
       "<table class=\"dataframe\">\n",
       "<caption>A data.frame: 6 × 7</caption>\n",
       "<thead>\n",
       "\t<tr><th></th><th scope=col>Set</th><th scope=col>Treatment</th><th scope=col>Exposure</th><th scope=col>ID</th><th scope=col>Protein</th><th scope=col>Value</th><th scope=col>log2Value</th></tr>\n",
       "\t<tr><th></th><th scope=col>&lt;chr&gt;</th><th scope=col>&lt;chr&gt;</th><th scope=col>&lt;chr&gt;</th><th scope=col>&lt;chr&gt;</th><th scope=col>&lt;chr&gt;</th><th scope=col>&lt;dbl&gt;</th><th scope=col>&lt;dbl&gt;</th></tr>\n",
       "</thead>\n",
       "<tbody>\n",
       "\t<tr><th scope=row>1</th><td>Set1</td><td>CoCulture</td><td>Exposed</td><td>CoCulture_Exposed1</td><td>P02769</td><td>498216198704</td><td>38.90216</td></tr>\n",
       "\t<tr><th scope=row>2</th><td>Set1</td><td>CoCulture</td><td>Exposed</td><td>CoCulture_Exposed1</td><td>P02751</td><td>184361941370</td><td>37.69320</td></tr>\n",
       "\t<tr><th scope=row>3</th><td>Set1</td><td>CoCulture</td><td>Exposed</td><td>CoCulture_Exposed1</td><td>P12763</td><td>293003799678</td><td>37.93295</td></tr>\n",
       "\t<tr><th scope=row>4</th><td>Set1</td><td>CoCulture</td><td>Exposed</td><td>CoCulture_Exposed1</td><td>Q2UVX4</td><td> 52235883387</td><td>35.52159</td></tr>\n",
       "\t<tr><th scope=row>5</th><td>Set1</td><td>CoCulture</td><td>Exposed</td><td>CoCulture_Exposed1</td><td>P98160</td><td> 21618632410</td><td>34.66341</td></tr>\n",
       "\t<tr><th scope=row>6</th><td>Set1</td><td>CoCulture</td><td>Exposed</td><td>CoCulture_Exposed1</td><td>P12111</td><td> 18326454885</td><td>34.22305</td></tr>\n",
       "</tbody>\n",
       "</table>\n"
      ],
      "text/latex": [
       "A data.frame: 6 × 7\n",
       "\\begin{tabular}{r|lllllll}\n",
       "  & Set & Treatment & Exposure & ID & Protein & Value & log2Value\\\\\n",
       "  & <chr> & <chr> & <chr> & <chr> & <chr> & <dbl> & <dbl>\\\\\n",
       "\\hline\n",
       "\t1 & Set1 & CoCulture & Exposed & CoCulture\\_Exposed1 & P02769 & 498216198704 & 38.90216\\\\\n",
       "\t2 & Set1 & CoCulture & Exposed & CoCulture\\_Exposed1 & P02751 & 184361941370 & 37.69320\\\\\n",
       "\t3 & Set1 & CoCulture & Exposed & CoCulture\\_Exposed1 & P12763 & 293003799678 & 37.93295\\\\\n",
       "\t4 & Set1 & CoCulture & Exposed & CoCulture\\_Exposed1 & Q2UVX4 &  52235883387 & 35.52159\\\\\n",
       "\t5 & Set1 & CoCulture & Exposed & CoCulture\\_Exposed1 & P98160 &  21618632410 & 34.66341\\\\\n",
       "\t6 & Set1 & CoCulture & Exposed & CoCulture\\_Exposed1 & P12111 &  18326454885 & 34.22305\\\\\n",
       "\\end{tabular}\n"
      ],
      "text/markdown": [
       "\n",
       "A data.frame: 6 × 7\n",
       "\n",
       "| <!--/--> | Set &lt;chr&gt; | Treatment &lt;chr&gt; | Exposure &lt;chr&gt; | ID &lt;chr&gt; | Protein &lt;chr&gt; | Value &lt;dbl&gt; | log2Value &lt;dbl&gt; |\n",
       "|---|---|---|---|---|---|---|---|\n",
       "| 1 | Set1 | CoCulture | Exposed | CoCulture_Exposed1 | P02769 | 498216198704 | 38.90216 |\n",
       "| 2 | Set1 | CoCulture | Exposed | CoCulture_Exposed1 | P02751 | 184361941370 | 37.69320 |\n",
       "| 3 | Set1 | CoCulture | Exposed | CoCulture_Exposed1 | P12763 | 293003799678 | 37.93295 |\n",
       "| 4 | Set1 | CoCulture | Exposed | CoCulture_Exposed1 | Q2UVX4 |  52235883387 | 35.52159 |\n",
       "| 5 | Set1 | CoCulture | Exposed | CoCulture_Exposed1 | P98160 |  21618632410 | 34.66341 |\n",
       "| 6 | Set1 | CoCulture | Exposed | CoCulture_Exposed1 | P12111 |  18326454885 | 34.22305 |\n",
       "\n"
      ],
      "text/plain": [
       "  Set  Treatment Exposure ID                 Protein Value        log2Value\n",
       "1 Set1 CoCulture Exposed  CoCulture_Exposed1 P02769  498216198704 38.90216 \n",
       "2 Set1 CoCulture Exposed  CoCulture_Exposed1 P02751  184361941370 37.69320 \n",
       "3 Set1 CoCulture Exposed  CoCulture_Exposed1 P12763  293003799678 37.93295 \n",
       "4 Set1 CoCulture Exposed  CoCulture_Exposed1 Q2UVX4   52235883387 35.52159 \n",
       "5 Set1 CoCulture Exposed  CoCulture_Exposed1 P98160   21618632410 34.66341 \n",
       "6 Set1 CoCulture Exposed  CoCulture_Exposed1 P12111   18326454885 34.22305 "
      ]
     },
     "metadata": {},
     "output_type": "display_data"
    }
   ],
   "source": [
    "proteomics_df = proteomics_df %>%\n",
    "    # just want a column that specifies the treatment and exposure separately\n",
    "    separate(Treatment, c(\"Treatment\", \"Exposure\"), sep = \"_\") \n",
    "\n",
    "head(proteomics_df)"
   ]
  },
  {
   "cell_type": "code",
   "execution_count": 4,
   "id": "e9e81f3a",
   "metadata": {},
   "outputs": [
    {
     "data": {
      "text/html": [
       "<table class=\"dataframe\">\n",
       "<caption>A tibble: 6 × 7</caption>\n",
       "<thead>\n",
       "\t<tr><th scope=col>Set</th><th scope=col>Treatment</th><th scope=col>Exposure</th><th scope=col>ID</th><th scope=col>Protein</th><th scope=col>Value</th><th scope=col>log2Value</th></tr>\n",
       "\t<tr><th scope=col>&lt;chr&gt;</th><th scope=col>&lt;chr&gt;</th><th scope=col>&lt;chr&gt;</th><th scope=col>&lt;chr&gt;</th><th scope=col>&lt;chr&gt;</th><th scope=col>&lt;dbl&gt;</th><th scope=col>&lt;dbl&gt;</th></tr>\n",
       "</thead>\n",
       "<tbody>\n",
       "\t<tr><td>Set1</td><td>CoCulture</td><td>Exposed</td><td>CoCulture_Exposed1</td><td>P02769</td><td>498216198704</td><td>38.90216</td></tr>\n",
       "\t<tr><td>Set1</td><td>CoCulture</td><td>Exposed</td><td>CoCulture_Exposed1</td><td>P02751</td><td>184361941370</td><td>37.69320</td></tr>\n",
       "\t<tr><td>Set1</td><td>CoCulture</td><td>Exposed</td><td>CoCulture_Exposed1</td><td>P12763</td><td>293003799678</td><td>37.93295</td></tr>\n",
       "\t<tr><td>Set1</td><td>CoCulture</td><td>Exposed</td><td>CoCulture_Exposed1</td><td>Q2UVX4</td><td> 52235883387</td><td>35.52159</td></tr>\n",
       "\t<tr><td>Set1</td><td>CoCulture</td><td>Exposed</td><td>CoCulture_Exposed1</td><td>P98160</td><td> 21618632410</td><td>34.66341</td></tr>\n",
       "\t<tr><td>Set1</td><td>CoCulture</td><td>Exposed</td><td>CoCulture_Exposed1</td><td>P12111</td><td> 18326454885</td><td>34.22305</td></tr>\n",
       "</tbody>\n",
       "</table>\n"
      ],
      "text/latex": [
       "A tibble: 6 × 7\n",
       "\\begin{tabular}{lllllll}\n",
       " Set & Treatment & Exposure & ID & Protein & Value & log2Value\\\\\n",
       " <chr> & <chr> & <chr> & <chr> & <chr> & <dbl> & <dbl>\\\\\n",
       "\\hline\n",
       "\t Set1 & CoCulture & Exposed & CoCulture\\_Exposed1 & P02769 & 498216198704 & 38.90216\\\\\n",
       "\t Set1 & CoCulture & Exposed & CoCulture\\_Exposed1 & P02751 & 184361941370 & 37.69320\\\\\n",
       "\t Set1 & CoCulture & Exposed & CoCulture\\_Exposed1 & P12763 & 293003799678 & 37.93295\\\\\n",
       "\t Set1 & CoCulture & Exposed & CoCulture\\_Exposed1 & Q2UVX4 &  52235883387 & 35.52159\\\\\n",
       "\t Set1 & CoCulture & Exposed & CoCulture\\_Exposed1 & P98160 &  21618632410 & 34.66341\\\\\n",
       "\t Set1 & CoCulture & Exposed & CoCulture\\_Exposed1 & P12111 &  18326454885 & 34.22305\\\\\n",
       "\\end{tabular}\n"
      ],
      "text/markdown": [
       "\n",
       "A tibble: 6 × 7\n",
       "\n",
       "| Set &lt;chr&gt; | Treatment &lt;chr&gt; | Exposure &lt;chr&gt; | ID &lt;chr&gt; | Protein &lt;chr&gt; | Value &lt;dbl&gt; | log2Value &lt;dbl&gt; |\n",
       "|---|---|---|---|---|---|---|\n",
       "| Set1 | CoCulture | Exposed | CoCulture_Exposed1 | P02769 | 498216198704 | 38.90216 |\n",
       "| Set1 | CoCulture | Exposed | CoCulture_Exposed1 | P02751 | 184361941370 | 37.69320 |\n",
       "| Set1 | CoCulture | Exposed | CoCulture_Exposed1 | P12763 | 293003799678 | 37.93295 |\n",
       "| Set1 | CoCulture | Exposed | CoCulture_Exposed1 | Q2UVX4 |  52235883387 | 35.52159 |\n",
       "| Set1 | CoCulture | Exposed | CoCulture_Exposed1 | P98160 |  21618632410 | 34.66341 |\n",
       "| Set1 | CoCulture | Exposed | CoCulture_Exposed1 | P12111 |  18326454885 | 34.22305 |\n",
       "\n"
      ],
      "text/plain": [
       "  Set  Treatment Exposure ID                 Protein Value        log2Value\n",
       "1 Set1 CoCulture Exposed  CoCulture_Exposed1 P02769  498216198704 38.90216 \n",
       "2 Set1 CoCulture Exposed  CoCulture_Exposed1 P02751  184361941370 37.69320 \n",
       "3 Set1 CoCulture Exposed  CoCulture_Exposed1 P12763  293003799678 37.93295 \n",
       "4 Set1 CoCulture Exposed  CoCulture_Exposed1 Q2UVX4   52235883387 35.52159 \n",
       "5 Set1 CoCulture Exposed  CoCulture_Exposed1 P98160   21618632410 34.66341 \n",
       "6 Set1 CoCulture Exposed  CoCulture_Exposed1 P12111   18326454885 34.22305 "
      ]
     },
     "metadata": {},
     "output_type": "display_data"
    }
   ],
   "source": [
    "# splitting by Set\n",
    "proteomics_df_split = proteomics_df %>%\n",
    "    group_by(Set) %>%\n",
    "    group_split()\n",
    "\n",
    "set1_proteomics_df = proteomics_df_split[[1]]\n",
    "set2_proteomics_df = proteomics_df_split[[2]]\n",
    "\n",
    "head(set1_proteomics_df)"
   ]
  },
  {
   "cell_type": "markdown",
   "id": "e9be1db6",
   "metadata": {},
   "source": [
    "Running t tests to determine if there are statistically significant distribution differences in co-culture unexposed vs. exposed and tri-culture unexposed vs. exposed. "
   ]
  },
  {
   "cell_type": "code",
   "execution_count": 5,
   "id": "9b6930b4",
   "metadata": {},
   "outputs": [],
   "source": [
    "t_test_values = function(df, set_id){\n",
    "    # \"\"\"\n",
    "    # Running t tests after filtering for set, treatment, exposure, and protein using a loop. \n",
    "    # Ultimately using this test to compare proteins (unexposed vs. exposed).\n",
    "\n",
    "    # :param: subsetted dataframe, empty dataframe\n",
    "    # :output: a dataframe containing the set, treatment, exposure, protein, u stat, p value, p adj\n",
    "\n",
    "    # \"\"\"\n",
    "    treatments = unique(df$Treatment)\n",
    "    proteins = unique(df$Protein)\n",
    "    \n",
    "    values_df = data.frame()\n",
    "    # iterating through each tx, protein\n",
    "\n",
    "    for(i in 1:length(treatments)){\n",
    "        for(j in 1:length(proteins)){\n",
    "            # unexposed df\n",
    "            unexposed_df = df %>%\n",
    "                filter(Treatment == treatments[i], Exposure == \"Vehicle\", Protein == proteins[j])\n",
    "            # exposed df\n",
    "            exposed_df = df %>%\n",
    "                filter(Treatment == treatments[i], Exposure == \"Exposed\", Protein == proteins[j])\n",
    "\n",
    "            # t test\n",
    "            t_test = t.test(unexposed_df$Value, exposed_df$Value)\n",
    "            \n",
    "            # calculating FC to get directionality\n",
    "            FC = log2(mean(exposed_df$Value)/mean(unexposed_df$Value))\n",
    "\n",
    "            # contains smoking status compared, compartment, cytokine, u stat, and p value\n",
    "            values_vector = cbind(set_id, treatments[i], proteins[j], FC, t_test$statistic, t_test$p.value)\n",
    "            values_df = rbind(values_df, values_vector)\n",
    "            }\n",
    "        }\n",
    "\n",
    "    \n",
    "    # adding col names\n",
    "    colnames(values_df) = c(\"Set\", \"Treatment\", \"Protein\", \"log2FC\", \"Statistic\", \"P Value\")\n",
    "    \n",
    "    \n",
    "   # calculating padj values\n",
    "    padj_vector = c()\n",
    "    # adjusting within each treatment\n",
    "    for (i in 1:length(treatments)){\n",
    "        `P Adj` = p.adjust(as.numeric(as.character(values_df$`P Value`)), method = \"fdr\")\n",
    "        padj_vector = c(padj_vector, `P Adj`)\n",
    "    }\n",
    "    \n",
    "    values_df = cbind(values_df, padj_vector) %>%\n",
    "        rename(`P Adj` = padj_vector)\n",
    "\n",
    "    values_df$log2FC = as.numeric(values_df$log2FC) \n",
    "    values_df$Statistic = as.numeric(values_df$Statistic)\n",
    "    values_df$`P Value` = as.numeric(values_df$`P Value`) \n",
    "    \n",
    "    return(values_df)\n",
    "}"
   ]
  },
  {
   "cell_type": "code",
   "execution_count": 6,
   "id": "ed469849",
   "metadata": {},
   "outputs": [],
   "source": [
    "# calling fn\n",
    "set1_t_test = t_test_values(set1_proteomics_df, \"Set1\")\n",
    "set2_t_test = t_test_values(set2_proteomics_df, \"Set2\")"
   ]
  },
  {
   "cell_type": "code",
   "execution_count": 7,
   "id": "126ffaca",
   "metadata": {},
   "outputs": [
    {
     "name": "stderr",
     "output_type": "stream",
     "text": [
      "\u001b[1m\u001b[22mJoining, by = \"Protein\"\n"
     ]
    },
    {
     "data": {
      "text/html": [
       "<table class=\"dataframe\">\n",
       "<caption>A data.frame: 6 × 8</caption>\n",
       "<thead>\n",
       "\t<tr><th></th><th scope=col>Set</th><th scope=col>Treatment</th><th scope=col>Protein</th><th scope=col>Gene.name</th><th scope=col>log2FC</th><th scope=col>Statistic</th><th scope=col>P Value</th><th scope=col>P Adj</th></tr>\n",
       "\t<tr><th></th><th scope=col>&lt;chr&gt;</th><th scope=col>&lt;chr&gt;</th><th scope=col>&lt;chr&gt;</th><th scope=col>&lt;chr&gt;</th><th scope=col>&lt;dbl&gt;</th><th scope=col>&lt;dbl&gt;</th><th scope=col>&lt;dbl&gt;</th><th scope=col>&lt;dbl&gt;</th></tr>\n",
       "</thead>\n",
       "<tbody>\n",
       "\t<tr><th scope=row>1</th><td>Set1</td><td>CoCulture</td><td>P02769</td><td>SWISS-PROT:P02769 (Bos taurus) Bovine serum albumin precursor   </td><td> 0.17688542</td><td>-1.61348542</td><td>0.1379589</td><td>0.6200999</td></tr>\n",
       "\t<tr><th scope=row>2</th><td>Set1</td><td>CoCulture</td><td>P02751</td><td>FN1                                                             </td><td>-0.09664782</td><td> 0.58832972</td><td>0.5755262</td><td>0.8024404</td></tr>\n",
       "\t<tr><th scope=row>3</th><td>Set1</td><td>CoCulture</td><td>P12763</td><td>SWISS-PROT:P12763 (Bos taurus) Alpha-2-HS-glycoprotein precursor</td><td> 0.04137128</td><td>-0.88946362</td><td>0.3975197</td><td>0.7191816</td></tr>\n",
       "\t<tr><th scope=row>4</th><td>Set1</td><td>CoCulture</td><td>Q2UVX4</td><td>SWISS-PROT:Q2UVX4 (Bos taurus) Complement C3 precursor          </td><td>-0.01086488</td><td> 0.05995793</td><td>0.9535929</td><td>0.9794194</td></tr>\n",
       "\t<tr><th scope=row>5</th><td>Set1</td><td>CoCulture</td><td>P98160</td><td>HSPG2                                                           </td><td>-0.37199408</td><td> 1.45465153</td><td>0.1775142</td><td>0.6434890</td></tr>\n",
       "\t<tr><th scope=row>6</th><td>Set1</td><td>CoCulture</td><td>P12111</td><td>COL6A3                                                          </td><td> 0.25760674</td><td>-1.54815599</td><td>0.1622044</td><td>0.6340786</td></tr>\n",
       "</tbody>\n",
       "</table>\n"
      ],
      "text/latex": [
       "A data.frame: 6 × 8\n",
       "\\begin{tabular}{r|llllllll}\n",
       "  & Set & Treatment & Protein & Gene.name & log2FC & Statistic & P Value & P Adj\\\\\n",
       "  & <chr> & <chr> & <chr> & <chr> & <dbl> & <dbl> & <dbl> & <dbl>\\\\\n",
       "\\hline\n",
       "\t1 & Set1 & CoCulture & P02769 & SWISS-PROT:P02769 (Bos taurus) Bovine serum albumin precursor    &  0.17688542 & -1.61348542 & 0.1379589 & 0.6200999\\\\\n",
       "\t2 & Set1 & CoCulture & P02751 & FN1                                                              & -0.09664782 &  0.58832972 & 0.5755262 & 0.8024404\\\\\n",
       "\t3 & Set1 & CoCulture & P12763 & SWISS-PROT:P12763 (Bos taurus) Alpha-2-HS-glycoprotein precursor &  0.04137128 & -0.88946362 & 0.3975197 & 0.7191816\\\\\n",
       "\t4 & Set1 & CoCulture & Q2UVX4 & SWISS-PROT:Q2UVX4 (Bos taurus) Complement C3 precursor           & -0.01086488 &  0.05995793 & 0.9535929 & 0.9794194\\\\\n",
       "\t5 & Set1 & CoCulture & P98160 & HSPG2                                                            & -0.37199408 &  1.45465153 & 0.1775142 & 0.6434890\\\\\n",
       "\t6 & Set1 & CoCulture & P12111 & COL6A3                                                           &  0.25760674 & -1.54815599 & 0.1622044 & 0.6340786\\\\\n",
       "\\end{tabular}\n"
      ],
      "text/markdown": [
       "\n",
       "A data.frame: 6 × 8\n",
       "\n",
       "| <!--/--> | Set &lt;chr&gt; | Treatment &lt;chr&gt; | Protein &lt;chr&gt; | Gene.name &lt;chr&gt; | log2FC &lt;dbl&gt; | Statistic &lt;dbl&gt; | P Value &lt;dbl&gt; | P Adj &lt;dbl&gt; |\n",
       "|---|---|---|---|---|---|---|---|---|\n",
       "| 1 | Set1 | CoCulture | P02769 | SWISS-PROT:P02769 (Bos taurus) Bovine serum albumin precursor    |  0.17688542 | -1.61348542 | 0.1379589 | 0.6200999 |\n",
       "| 2 | Set1 | CoCulture | P02751 | FN1                                                              | -0.09664782 |  0.58832972 | 0.5755262 | 0.8024404 |\n",
       "| 3 | Set1 | CoCulture | P12763 | SWISS-PROT:P12763 (Bos taurus) Alpha-2-HS-glycoprotein precursor |  0.04137128 | -0.88946362 | 0.3975197 | 0.7191816 |\n",
       "| 4 | Set1 | CoCulture | Q2UVX4 | SWISS-PROT:Q2UVX4 (Bos taurus) Complement C3 precursor           | -0.01086488 |  0.05995793 | 0.9535929 | 0.9794194 |\n",
       "| 5 | Set1 | CoCulture | P98160 | HSPG2                                                            | -0.37199408 |  1.45465153 | 0.1775142 | 0.6434890 |\n",
       "| 6 | Set1 | CoCulture | P12111 | COL6A3                                                           |  0.25760674 | -1.54815599 | 0.1622044 | 0.6340786 |\n",
       "\n"
      ],
      "text/plain": [
       "  Set  Treatment Protein\n",
       "1 Set1 CoCulture P02769 \n",
       "2 Set1 CoCulture P02751 \n",
       "3 Set1 CoCulture P12763 \n",
       "4 Set1 CoCulture Q2UVX4 \n",
       "5 Set1 CoCulture P98160 \n",
       "6 Set1 CoCulture P12111 \n",
       "  Gene.name                                                        log2FC     \n",
       "1 SWISS-PROT:P02769 (Bos taurus) Bovine serum albumin precursor     0.17688542\n",
       "2 FN1                                                              -0.09664782\n",
       "3 SWISS-PROT:P12763 (Bos taurus) Alpha-2-HS-glycoprotein precursor  0.04137128\n",
       "4 SWISS-PROT:Q2UVX4 (Bos taurus) Complement C3 precursor           -0.01086488\n",
       "5 HSPG2                                                            -0.37199408\n",
       "6 COL6A3                                                            0.25760674\n",
       "  Statistic   P Value   P Adj    \n",
       "1 -1.61348542 0.1379589 0.6200999\n",
       "2  0.58832972 0.5755262 0.8024404\n",
       "3 -0.88946362 0.3975197 0.7191816\n",
       "4  0.05995793 0.9535929 0.9794194\n",
       "5  1.45465153 0.1775142 0.6434890\n",
       "6 -1.54815599 0.1622044 0.6340786"
      ]
     },
     "metadata": {},
     "output_type": "display_data"
    }
   ],
   "source": [
    "# creating 1 df\n",
    "t_test_df = rbind(set1_t_test, set2_t_test)\n",
    "\n",
    "# adding in gene names\n",
    "final_t_test_df = left_join(t_test_df, protein_info_df %>%\n",
    "                                select(c(\"Protein\", \"Gene.name\")))\n",
    "final_t_test_df = final_t_test_df[, c(1,2,3,8,4,5,6,7)]\n",
    "head(final_t_test_df)"
   ]
  },
  {
   "cell_type": "code",
   "execution_count": 8,
   "id": "304c9cd6",
   "metadata": {},
   "outputs": [],
   "source": [
    "# exporting t test results for volcano plot\n",
    "write.csv(final_t_test_df, paste0(Output,\"/\", cur_date, \"_Statistical_Results_Only.csv\"), row.names = FALSE)"
   ]
  },
  {
   "cell_type": "code",
   "execution_count": 9,
   "id": "dc459342",
   "metadata": {},
   "outputs": [
    {
     "data": {
      "text/html": [
       "<table class=\"dataframe\">\n",
       "<caption>A tibble: 6 × 2</caption>\n",
       "<thead>\n",
       "\t<tr><th scope=col>Protein</th><th scope=col>Avg_Abundance</th></tr>\n",
       "\t<tr><th scope=col>&lt;chr&gt;</th><th scope=col>&lt;dbl&gt;</th></tr>\n",
       "</thead>\n",
       "<tbody>\n",
       "\t<tr><td>A0AVT1                    </td><td>23.35134</td></tr>\n",
       "\t<tr><td>A1L4H1                    </td><td>25.84859</td></tr>\n",
       "\t<tr><td>A2I7N0                    </td><td>25.91244</td></tr>\n",
       "\t<tr><td>A8K2U0                    </td><td>19.14230</td></tr>\n",
       "\t<tr><td>ENSEMBL.ENSBTAP00000006074</td><td>29.07733</td></tr>\n",
       "\t<tr><td>ENSEMBL.ENSBTAP00000007350</td><td>32.59313</td></tr>\n",
       "</tbody>\n",
       "</table>\n"
      ],
      "text/latex": [
       "A tibble: 6 × 2\n",
       "\\begin{tabular}{ll}\n",
       " Protein & Avg\\_Abundance\\\\\n",
       " <chr> & <dbl>\\\\\n",
       "\\hline\n",
       "\t A0AVT1                     & 23.35134\\\\\n",
       "\t A1L4H1                     & 25.84859\\\\\n",
       "\t A2I7N0                     & 25.91244\\\\\n",
       "\t A8K2U0                     & 19.14230\\\\\n",
       "\t ENSEMBL.ENSBTAP00000006074 & 29.07733\\\\\n",
       "\t ENSEMBL.ENSBTAP00000007350 & 32.59313\\\\\n",
       "\\end{tabular}\n"
      ],
      "text/markdown": [
       "\n",
       "A tibble: 6 × 2\n",
       "\n",
       "| Protein &lt;chr&gt; | Avg_Abundance &lt;dbl&gt; |\n",
       "|---|---|\n",
       "| A0AVT1                     | 23.35134 |\n",
       "| A1L4H1                     | 25.84859 |\n",
       "| A2I7N0                     | 25.91244 |\n",
       "| A8K2U0                     | 19.14230 |\n",
       "| ENSEMBL.ENSBTAP00000006074 | 29.07733 |\n",
       "| ENSEMBL.ENSBTAP00000007350 | 32.59313 |\n",
       "\n"
      ],
      "text/plain": [
       "  Protein                    Avg_Abundance\n",
       "1 A0AVT1                     23.35134     \n",
       "2 A1L4H1                     25.84859     \n",
       "3 A2I7N0                     25.91244     \n",
       "4 A8K2U0                     19.14230     \n",
       "5 ENSEMBL.ENSBTAP00000006074 29.07733     \n",
       "6 ENSEMBL.ENSBTAP00000007350 32.59313     "
      ]
     },
     "metadata": {},
     "output_type": "display_data"
    },
    {
     "data": {
      "text/html": [
       "<table class=\"dataframe\">\n",
       "<caption>A grouped_df: 6 × 5</caption>\n",
       "<thead>\n",
       "\t<tr><th scope=col>Treatment</th><th scope=col>Exposure</th><th scope=col>Protein</th><th scope=col>log2Value</th><th scope=col>Avg_Abundance_stratified</th></tr>\n",
       "\t<tr><th scope=col>&lt;chr&gt;</th><th scope=col>&lt;chr&gt;</th><th scope=col>&lt;chr&gt;</th><th scope=col>&lt;dbl&gt;</th><th scope=col>&lt;dbl&gt;</th></tr>\n",
       "</thead>\n",
       "<tbody>\n",
       "\t<tr><td>CoCulture</td><td>Exposed</td><td>P02769</td><td>38.90216</td><td>38.90216</td></tr>\n",
       "\t<tr><td>CoCulture</td><td>Exposed</td><td>P02751</td><td>37.69320</td><td>37.77312</td></tr>\n",
       "\t<tr><td>CoCulture</td><td>Exposed</td><td>P12763</td><td>37.93295</td><td>38.00606</td></tr>\n",
       "\t<tr><td>CoCulture</td><td>Exposed</td><td>Q2UVX4</td><td>35.52159</td><td>35.35445</td></tr>\n",
       "\t<tr><td>CoCulture</td><td>Exposed</td><td>P98160</td><td>34.66341</td><td>34.26407</td></tr>\n",
       "\t<tr><td>CoCulture</td><td>Exposed</td><td>P12111</td><td>34.22305</td><td>34.43723</td></tr>\n",
       "</tbody>\n",
       "</table>\n"
      ],
      "text/latex": [
       "A grouped\\_df: 6 × 5\n",
       "\\begin{tabular}{lllll}\n",
       " Treatment & Exposure & Protein & log2Value & Avg\\_Abundance\\_stratified\\\\\n",
       " <chr> & <chr> & <chr> & <dbl> & <dbl>\\\\\n",
       "\\hline\n",
       "\t CoCulture & Exposed & P02769 & 38.90216 & 38.90216\\\\\n",
       "\t CoCulture & Exposed & P02751 & 37.69320 & 37.77312\\\\\n",
       "\t CoCulture & Exposed & P12763 & 37.93295 & 38.00606\\\\\n",
       "\t CoCulture & Exposed & Q2UVX4 & 35.52159 & 35.35445\\\\\n",
       "\t CoCulture & Exposed & P98160 & 34.66341 & 34.26407\\\\\n",
       "\t CoCulture & Exposed & P12111 & 34.22305 & 34.43723\\\\\n",
       "\\end{tabular}\n"
      ],
      "text/markdown": [
       "\n",
       "A grouped_df: 6 × 5\n",
       "\n",
       "| Treatment &lt;chr&gt; | Exposure &lt;chr&gt; | Protein &lt;chr&gt; | log2Value &lt;dbl&gt; | Avg_Abundance_stratified &lt;dbl&gt; |\n",
       "|---|---|---|---|---|\n",
       "| CoCulture | Exposed | P02769 | 38.90216 | 38.90216 |\n",
       "| CoCulture | Exposed | P02751 | 37.69320 | 37.77312 |\n",
       "| CoCulture | Exposed | P12763 | 37.93295 | 38.00606 |\n",
       "| CoCulture | Exposed | Q2UVX4 | 35.52159 | 35.35445 |\n",
       "| CoCulture | Exposed | P98160 | 34.66341 | 34.26407 |\n",
       "| CoCulture | Exposed | P12111 | 34.22305 | 34.43723 |\n",
       "\n"
      ],
      "text/plain": [
       "  Treatment Exposure Protein log2Value Avg_Abundance_stratified\n",
       "1 CoCulture Exposed  P02769  38.90216  38.90216                \n",
       "2 CoCulture Exposed  P02751  37.69320  37.77312                \n",
       "3 CoCulture Exposed  P12763  37.93295  38.00606                \n",
       "4 CoCulture Exposed  Q2UVX4  35.52159  35.35445                \n",
       "5 CoCulture Exposed  P98160  34.66341  34.26407                \n",
       "6 CoCulture Exposed  P12111  34.22305  34.43723                "
      ]
     },
     "metadata": {},
     "output_type": "display_data"
    }
   ],
   "source": [
    "# calculating overall avg. abundance and within smoking groups\n",
    "avg_abundance_df = proteomics_df %>%\n",
    "    group_by(Protein) %>%\n",
    "    summarize(Avg_Abundance = mean(log2Value))\n",
    "\n",
    "# stratified by treatment and exposure\n",
    "avg_abundance_df_stratified = proteomics_df %>%\n",
    "    group_by(Treatment, Exposure, Protein) %>%\n",
    "    mutate(Avg_Abundance_stratified = mean(log2Value)) %>%\n",
    "    select(-c(\"Set\", \"ID\", \"Value\"))\n",
    "\n",
    "head(avg_abundance_df)\n",
    "head(avg_abundance_df_stratified)"
   ]
  },
  {
   "cell_type": "code",
   "execution_count": 10,
   "id": "efdc892f",
   "metadata": {},
   "outputs": [
    {
     "data": {
      "text/html": [
       "<table class=\"dataframe\">\n",
       "<caption>A tibble: 6 × 2</caption>\n",
       "<thead>\n",
       "\t<tr><th scope=col>Protein</th><th scope=col>Coculture_Exposed.Avg_Abundance</th></tr>\n",
       "\t<tr><th scope=col>&lt;chr&gt;</th><th scope=col>&lt;dbl&gt;</th></tr>\n",
       "</thead>\n",
       "<tbody>\n",
       "\t<tr><td>P02769</td><td>38.90216</td></tr>\n",
       "\t<tr><td>P02751</td><td>37.77312</td></tr>\n",
       "\t<tr><td>P12763</td><td>38.00606</td></tr>\n",
       "\t<tr><td>Q2UVX4</td><td>35.35445</td></tr>\n",
       "\t<tr><td>P98160</td><td>34.26407</td></tr>\n",
       "\t<tr><td>P12111</td><td>34.43723</td></tr>\n",
       "</tbody>\n",
       "</table>\n"
      ],
      "text/latex": [
       "A tibble: 6 × 2\n",
       "\\begin{tabular}{ll}\n",
       " Protein & Coculture\\_Exposed.Avg\\_Abundance\\\\\n",
       " <chr> & <dbl>\\\\\n",
       "\\hline\n",
       "\t P02769 & 38.90216\\\\\n",
       "\t P02751 & 37.77312\\\\\n",
       "\t P12763 & 38.00606\\\\\n",
       "\t Q2UVX4 & 35.35445\\\\\n",
       "\t P98160 & 34.26407\\\\\n",
       "\t P12111 & 34.43723\\\\\n",
       "\\end{tabular}\n"
      ],
      "text/markdown": [
       "\n",
       "A tibble: 6 × 2\n",
       "\n",
       "| Protein &lt;chr&gt; | Coculture_Exposed.Avg_Abundance &lt;dbl&gt; |\n",
       "|---|---|\n",
       "| P02769 | 38.90216 |\n",
       "| P02751 | 37.77312 |\n",
       "| P12763 | 38.00606 |\n",
       "| Q2UVX4 | 35.35445 |\n",
       "| P98160 | 34.26407 |\n",
       "| P12111 | 34.43723 |\n",
       "\n"
      ],
      "text/plain": [
       "  Protein Coculture_Exposed.Avg_Abundance\n",
       "1 P02769  38.90216                       \n",
       "2 P02751  37.77312                       \n",
       "3 P12763  38.00606                       \n",
       "4 Q2UVX4  35.35445                       \n",
       "5 P98160  34.26407                       \n",
       "6 P12111  34.43723                       "
      ]
     },
     "metadata": {},
     "output_type": "display_data"
    }
   ],
   "source": [
    "# changing the stratified dfs to making combining easier\n",
    "# first splitting dfs\n",
    "split_avg_abundance_stratified = avg_abundance_df_stratified %>%\n",
    "    group_by(Treatment, Exposure) %>%\n",
    "    group_split()\n",
    "\n",
    "# adding treatment to the title\n",
    "coculture_exposed_avg_abundance = split_avg_abundance_stratified[[1]] %>%\n",
    "    select(-c(\"Treatment\", \"Exposure\", \"log2Value\")) %>%\n",
    "    rename(Coculture_Exposed.Avg_Abundance = Avg_Abundance_stratified)\n",
    "coculture_vehicle_avg_abundance = split_avg_abundance_stratified[[2]] %>%\n",
    "    select(-c(\"Treatment\", \"Exposure\", \"log2Value\")) %>%\n",
    "    rename(Coculture_Vehicle.Avg_Abundance = Avg_Abundance_stratified)\n",
    "triculture_exposed_avg_abundance = split_avg_abundance_stratified[[3]] %>%\n",
    "    select(-c(\"Treatment\", \"Exposure\", \"log2Value\")) %>%\n",
    "    rename(Triculture_Exposed.Avg_Abundance = Avg_Abundance_stratified)\n",
    "triculture_vehicle_avg_abundance = split_avg_abundance_stratified[[4]] %>%\n",
    "    select(-c(\"Treatment\", \"Exposure\", \"log2Value\")) %>%\n",
    "    rename(Triculture_Vehicle.Avg_Abundance = Avg_Abundance_stratified)\n",
    "\n",
    "head(coculture_exposed_avg_abundance)"
   ]
  },
  {
   "cell_type": "code",
   "execution_count": 11,
   "id": "54169c00",
   "metadata": {},
   "outputs": [
    {
     "name": "stderr",
     "output_type": "stream",
     "text": [
      "\u001b[1m\u001b[22mJoining, by = \"Protein\"\n",
      "\u001b[1m\u001b[22mJoining, by = \"Protein\"\n",
      "\u001b[1m\u001b[22mJoining, by = \"Protein\"\n",
      "\u001b[1m\u001b[22mJoining, by = \"Protein\"\n"
     ]
    },
    {
     "data": {
      "text/html": [
       "<table class=\"dataframe\">\n",
       "<caption>A tibble: 6 × 6</caption>\n",
       "<thead>\n",
       "\t<tr><th scope=col>Protein</th><th scope=col>Avg_Abundance</th><th scope=col>Coculture_Exposed.Avg_Abundance</th><th scope=col>Coculture_Vehicle.Avg_Abundance</th><th scope=col>Triculture_Exposed.Avg_Abundance</th><th scope=col>Triculture_Vehicle.Avg_Abundance</th></tr>\n",
       "\t<tr><th scope=col>&lt;chr&gt;</th><th scope=col>&lt;dbl&gt;</th><th scope=col>&lt;dbl&gt;</th><th scope=col>&lt;dbl&gt;</th><th scope=col>&lt;dbl&gt;</th><th scope=col>&lt;dbl&gt;</th></tr>\n",
       "</thead>\n",
       "<tbody>\n",
       "\t<tr><td>A0AVT1                    </td><td>23.35134</td><td>      NA</td><td>      NA</td><td>22.95513</td><td>23.74755</td></tr>\n",
       "\t<tr><td>A1L4H1                    </td><td>25.84859</td><td>23.80608</td><td>24.17241</td><td>27.62128</td><td>27.79460</td></tr>\n",
       "\t<tr><td>A2I7N0                    </td><td>25.91244</td><td>26.16542</td><td>25.65946</td><td>      NA</td><td>      NA</td></tr>\n",
       "\t<tr><td>A8K2U0                    </td><td>19.14230</td><td>      NA</td><td>      NA</td><td>18.97026</td><td>19.31434</td></tr>\n",
       "\t<tr><td>ENSEMBL.ENSBTAP00000006074</td><td>29.07733</td><td>29.48883</td><td>29.42630</td><td>28.76428</td><td>28.62989</td></tr>\n",
       "\t<tr><td>ENSEMBL.ENSBTAP00000007350</td><td>32.59313</td><td>32.78364</td><td>32.57882</td><td>32.68269</td><td>32.32736</td></tr>\n",
       "</tbody>\n",
       "</table>\n"
      ],
      "text/latex": [
       "A tibble: 6 × 6\n",
       "\\begin{tabular}{llllll}\n",
       " Protein & Avg\\_Abundance & Coculture\\_Exposed.Avg\\_Abundance & Coculture\\_Vehicle.Avg\\_Abundance & Triculture\\_Exposed.Avg\\_Abundance & Triculture\\_Vehicle.Avg\\_Abundance\\\\\n",
       " <chr> & <dbl> & <dbl> & <dbl> & <dbl> & <dbl>\\\\\n",
       "\\hline\n",
       "\t A0AVT1                     & 23.35134 &       NA &       NA & 22.95513 & 23.74755\\\\\n",
       "\t A1L4H1                     & 25.84859 & 23.80608 & 24.17241 & 27.62128 & 27.79460\\\\\n",
       "\t A2I7N0                     & 25.91244 & 26.16542 & 25.65946 &       NA &       NA\\\\\n",
       "\t A8K2U0                     & 19.14230 &       NA &       NA & 18.97026 & 19.31434\\\\\n",
       "\t ENSEMBL.ENSBTAP00000006074 & 29.07733 & 29.48883 & 29.42630 & 28.76428 & 28.62989\\\\\n",
       "\t ENSEMBL.ENSBTAP00000007350 & 32.59313 & 32.78364 & 32.57882 & 32.68269 & 32.32736\\\\\n",
       "\\end{tabular}\n"
      ],
      "text/markdown": [
       "\n",
       "A tibble: 6 × 6\n",
       "\n",
       "| Protein &lt;chr&gt; | Avg_Abundance &lt;dbl&gt; | Coculture_Exposed.Avg_Abundance &lt;dbl&gt; | Coculture_Vehicle.Avg_Abundance &lt;dbl&gt; | Triculture_Exposed.Avg_Abundance &lt;dbl&gt; | Triculture_Vehicle.Avg_Abundance &lt;dbl&gt; |\n",
       "|---|---|---|---|---|---|\n",
       "| A0AVT1                     | 23.35134 |       NA |       NA | 22.95513 | 23.74755 |\n",
       "| A1L4H1                     | 25.84859 | 23.80608 | 24.17241 | 27.62128 | 27.79460 |\n",
       "| A2I7N0                     | 25.91244 | 26.16542 | 25.65946 |       NA |       NA |\n",
       "| A8K2U0                     | 19.14230 |       NA |       NA | 18.97026 | 19.31434 |\n",
       "| ENSEMBL.ENSBTAP00000006074 | 29.07733 | 29.48883 | 29.42630 | 28.76428 | 28.62989 |\n",
       "| ENSEMBL.ENSBTAP00000007350 | 32.59313 | 32.78364 | 32.57882 | 32.68269 | 32.32736 |\n",
       "\n"
      ],
      "text/plain": [
       "  Protein                    Avg_Abundance Coculture_Exposed.Avg_Abundance\n",
       "1 A0AVT1                     23.35134            NA                       \n",
       "2 A1L4H1                     25.84859      23.80608                       \n",
       "3 A2I7N0                     25.91244      26.16542                       \n",
       "4 A8K2U0                     19.14230            NA                       \n",
       "5 ENSEMBL.ENSBTAP00000006074 29.07733      29.48883                       \n",
       "6 ENSEMBL.ENSBTAP00000007350 32.59313      32.78364                       \n",
       "  Coculture_Vehicle.Avg_Abundance Triculture_Exposed.Avg_Abundance\n",
       "1       NA                        22.95513                        \n",
       "2 24.17241                        27.62128                        \n",
       "3 25.65946                              NA                        \n",
       "4       NA                        18.97026                        \n",
       "5 29.42630                        28.76428                        \n",
       "6 32.57882                        32.68269                        \n",
       "  Triculture_Vehicle.Avg_Abundance\n",
       "1 23.74755                        \n",
       "2 27.79460                        \n",
       "3       NA                        \n",
       "4 19.31434                        \n",
       "5 28.62989                        \n",
       "6 32.32736                        "
      ]
     },
     "metadata": {},
     "output_type": "display_data"
    }
   ],
   "source": [
    "# combining into 1 abundance df\n",
    "stratified_abundance_df = full_join(inner_join(coculture_exposed_avg_abundance, coculture_vehicle_avg_abundance) %>% \n",
    "                                    unique(), \n",
    "      inner_join(triculture_exposed_avg_abundance, triculture_vehicle_avg_abundance) %>% \n",
    "                                    unique())\n",
    "abundance_df = full_join(avg_abundance_df, stratified_abundance_df)\n",
    "\n",
    "head(abundance_df)"
   ]
  },
  {
   "cell_type": "markdown",
   "id": "80cf0185",
   "metadata": {},
   "source": [
    "Some cells have NA values, because not all proteins were the same between coculture and triculture treatment groups. "
   ]
  },
  {
   "cell_type": "code",
   "execution_count": 12,
   "id": "838aa80d",
   "metadata": {},
   "outputs": [
    {
     "name": "stderr",
     "output_type": "stream",
     "text": [
      "\u001b[1m\u001b[22mJoining, by = \"Protein\"\n",
      "\u001b[1m\u001b[22mJoining, by = \"Protein\"\n"
     ]
    },
    {
     "data": {
      "text/html": [
       "<table class=\"dataframe\">\n",
       "<caption>A tibble: 6 × 9</caption>\n",
       "<thead>\n",
       "\t<tr><th scope=col>Protein</th><th scope=col>Gene.name</th><th scope=col>log2FC</th><th scope=col>Statistic</th><th scope=col>P Value</th><th scope=col>P Adj</th><th scope=col>Avg_Abundance</th><th scope=col>Coculture_Exposed.Avg_Abundance</th><th scope=col>Coculture_Vehicle.Avg_Abundance</th></tr>\n",
       "\t<tr><th scope=col>&lt;chr&gt;</th><th scope=col>&lt;chr&gt;</th><th scope=col>&lt;dbl&gt;</th><th scope=col>&lt;dbl&gt;</th><th scope=col>&lt;dbl&gt;</th><th scope=col>&lt;dbl&gt;</th><th scope=col>&lt;dbl&gt;</th><th scope=col>&lt;dbl&gt;</th><th scope=col>&lt;dbl&gt;</th></tr>\n",
       "</thead>\n",
       "<tbody>\n",
       "\t<tr><td>P02769</td><td>SWISS-PROT:P02769 (Bos taurus) Bovine serum albumin precursor   </td><td> 0.17688542</td><td>-1.61348542</td><td>0.1379589</td><td>0.6200999</td><td>38.46742</td><td>38.90216</td><td>38.90216</td></tr>\n",
       "\t<tr><td>P02751</td><td>FN1                                                             </td><td>-0.09664782</td><td> 0.58832972</td><td>0.5755262</td><td>0.8024404</td><td>37.80301</td><td>37.77312</td><td>37.88959</td></tr>\n",
       "\t<tr><td>P12763</td><td>SWISS-PROT:P12763 (Bos taurus) Alpha-2-HS-glycoprotein precursor</td><td> 0.04137128</td><td>-0.88946362</td><td>0.3975197</td><td>0.7191816</td><td>37.51478</td><td>38.00606</td><td>37.90787</td></tr>\n",
       "\t<tr><td>Q2UVX4</td><td>SWISS-PROT:Q2UVX4 (Bos taurus) Complement C3 precursor          </td><td>-0.01086488</td><td> 0.05995793</td><td>0.9535929</td><td>0.9794194</td><td>35.37551</td><td>35.35445</td><td>35.45445</td></tr>\n",
       "\t<tr><td>P98160</td><td>HSPG2                                                           </td><td>-0.37199408</td><td> 1.45465153</td><td>0.1775142</td><td>0.6434890</td><td>34.20033</td><td>34.26407</td><td>34.44116</td></tr>\n",
       "\t<tr><td>P12111</td><td>COL6A3                                                          </td><td> 0.25760674</td><td>-1.54815599</td><td>0.1622044</td><td>0.6340786</td><td>34.11108</td><td>34.43723</td><td>34.02252</td></tr>\n",
       "</tbody>\n",
       "</table>\n"
      ],
      "text/latex": [
       "A tibble: 6 × 9\n",
       "\\begin{tabular}{lllllllll}\n",
       " Protein & Gene.name & log2FC & Statistic & P Value & P Adj & Avg\\_Abundance & Coculture\\_Exposed.Avg\\_Abundance & Coculture\\_Vehicle.Avg\\_Abundance\\\\\n",
       " <chr> & <chr> & <dbl> & <dbl> & <dbl> & <dbl> & <dbl> & <dbl> & <dbl>\\\\\n",
       "\\hline\n",
       "\t P02769 & SWISS-PROT:P02769 (Bos taurus) Bovine serum albumin precursor    &  0.17688542 & -1.61348542 & 0.1379589 & 0.6200999 & 38.46742 & 38.90216 & 38.90216\\\\\n",
       "\t P02751 & FN1                                                              & -0.09664782 &  0.58832972 & 0.5755262 & 0.8024404 & 37.80301 & 37.77312 & 37.88959\\\\\n",
       "\t P12763 & SWISS-PROT:P12763 (Bos taurus) Alpha-2-HS-glycoprotein precursor &  0.04137128 & -0.88946362 & 0.3975197 & 0.7191816 & 37.51478 & 38.00606 & 37.90787\\\\\n",
       "\t Q2UVX4 & SWISS-PROT:Q2UVX4 (Bos taurus) Complement C3 precursor           & -0.01086488 &  0.05995793 & 0.9535929 & 0.9794194 & 35.37551 & 35.35445 & 35.45445\\\\\n",
       "\t P98160 & HSPG2                                                            & -0.37199408 &  1.45465153 & 0.1775142 & 0.6434890 & 34.20033 & 34.26407 & 34.44116\\\\\n",
       "\t P12111 & COL6A3                                                           &  0.25760674 & -1.54815599 & 0.1622044 & 0.6340786 & 34.11108 & 34.43723 & 34.02252\\\\\n",
       "\\end{tabular}\n"
      ],
      "text/markdown": [
       "\n",
       "A tibble: 6 × 9\n",
       "\n",
       "| Protein &lt;chr&gt; | Gene.name &lt;chr&gt; | log2FC &lt;dbl&gt; | Statistic &lt;dbl&gt; | P Value &lt;dbl&gt; | P Adj &lt;dbl&gt; | Avg_Abundance &lt;dbl&gt; | Coculture_Exposed.Avg_Abundance &lt;dbl&gt; | Coculture_Vehicle.Avg_Abundance &lt;dbl&gt; |\n",
       "|---|---|---|---|---|---|---|---|---|\n",
       "| P02769 | SWISS-PROT:P02769 (Bos taurus) Bovine serum albumin precursor    |  0.17688542 | -1.61348542 | 0.1379589 | 0.6200999 | 38.46742 | 38.90216 | 38.90216 |\n",
       "| P02751 | FN1                                                              | -0.09664782 |  0.58832972 | 0.5755262 | 0.8024404 | 37.80301 | 37.77312 | 37.88959 |\n",
       "| P12763 | SWISS-PROT:P12763 (Bos taurus) Alpha-2-HS-glycoprotein precursor |  0.04137128 | -0.88946362 | 0.3975197 | 0.7191816 | 37.51478 | 38.00606 | 37.90787 |\n",
       "| Q2UVX4 | SWISS-PROT:Q2UVX4 (Bos taurus) Complement C3 precursor           | -0.01086488 |  0.05995793 | 0.9535929 | 0.9794194 | 35.37551 | 35.35445 | 35.45445 |\n",
       "| P98160 | HSPG2                                                            | -0.37199408 |  1.45465153 | 0.1775142 | 0.6434890 | 34.20033 | 34.26407 | 34.44116 |\n",
       "| P12111 | COL6A3                                                           |  0.25760674 | -1.54815599 | 0.1622044 | 0.6340786 | 34.11108 | 34.43723 | 34.02252 |\n",
       "\n"
      ],
      "text/plain": [
       "  Protein Gene.name                                                       \n",
       "1 P02769  SWISS-PROT:P02769 (Bos taurus) Bovine serum albumin precursor   \n",
       "2 P02751  FN1                                                             \n",
       "3 P12763  SWISS-PROT:P12763 (Bos taurus) Alpha-2-HS-glycoprotein precursor\n",
       "4 Q2UVX4  SWISS-PROT:Q2UVX4 (Bos taurus) Complement C3 precursor          \n",
       "5 P98160  HSPG2                                                           \n",
       "6 P12111  COL6A3                                                          \n",
       "  log2FC      Statistic   P Value   P Adj     Avg_Abundance\n",
       "1  0.17688542 -1.61348542 0.1379589 0.6200999 38.46742     \n",
       "2 -0.09664782  0.58832972 0.5755262 0.8024404 37.80301     \n",
       "3  0.04137128 -0.88946362 0.3975197 0.7191816 37.51478     \n",
       "4 -0.01086488  0.05995793 0.9535929 0.9794194 35.37551     \n",
       "5 -0.37199408  1.45465153 0.1775142 0.6434890 34.20033     \n",
       "6  0.25760674 -1.54815599 0.1622044 0.6340786 34.11108     \n",
       "  Coculture_Exposed.Avg_Abundance Coculture_Vehicle.Avg_Abundance\n",
       "1 38.90216                        38.90216                       \n",
       "2 37.77312                        37.88959                       \n",
       "3 38.00606                        37.90787                       \n",
       "4 35.35445                        35.45445                       \n",
       "5 34.26407                        34.44116                       \n",
       "6 34.43723                        34.02252                       "
      ]
     },
     "metadata": {},
     "output_type": "display_data"
    }
   ],
   "source": [
    "# getting the final statistical df to combine t test and abundance values\n",
    "# will have one df for each set\n",
    "final_t_test_df_split = final_t_test_df %>%\n",
    "    select(-Treatment) %>%\n",
    "    group_by(Set) %>%\n",
    "    group_split()\n",
    "\n",
    "\n",
    "set1_t_test_abundance_df = inner_join(final_t_test_df_split[[1]], abundance_df[,1:4]) %>%\n",
    "    select(-Set)\n",
    "set2_t_test_abundance_df = inner_join(final_t_test_df_split[[2]], abundance_df[,c(1,2,5,6)]) %>%\n",
    "    select(-Set)\n",
    "head(set1_t_test_abundance_df)"
   ]
  },
  {
   "cell_type": "code",
   "execution_count": 13,
   "id": "eed4e477",
   "metadata": {},
   "outputs": [],
   "source": [
    "# exporting t test results and avg abundances for manuscript\n",
    "write.csv(set1_t_test_abundance_df, paste0(Output,\"/\", cur_date, \"_Set1_t_test_abundance_data.csv\"), row.names = FALSE)\n",
    "write.csv(set2_t_test_abundance_df, paste0(Output,\"/\", cur_date, \"_Set2_t_test_abundance_data.csv\"), row.names = FALSE)"
   ]
  },
  {
   "cell_type": "code",
   "execution_count": 14,
   "id": "9fcacb51",
   "metadata": {},
   "outputs": [
    {
     "data": {
      "text/html": [
       "<table class=\"dataframe\">\n",
       "<caption>A tibble: 6 × 13</caption>\n",
       "<thead>\n",
       "\t<tr><th scope=col>Protein</th><th scope=col>CoCulture_Exposed1</th><th scope=col>CoCulture_Exposed2</th><th scope=col>CoCulture_Exposed3</th><th scope=col>CoCulture_Exposed4</th><th scope=col>CoCulture_Exposed5</th><th scope=col>CoCulture_Exposed6</th><th scope=col>CoCulture_VehicleCT1</th><th scope=col>CoCulture_VehicleCT2</th><th scope=col>CoCulture_VehicleCT3</th><th scope=col>CoCulture_VehicleCT4</th><th scope=col>CoCulture_VehicleCT5</th><th scope=col>CoCulture_VehicleCT6</th></tr>\n",
       "\t<tr><th scope=col>&lt;chr&gt;</th><th scope=col>&lt;dbl&gt;</th><th scope=col>&lt;dbl&gt;</th><th scope=col>&lt;dbl&gt;</th><th scope=col>&lt;dbl&gt;</th><th scope=col>&lt;dbl&gt;</th><th scope=col>&lt;dbl&gt;</th><th scope=col>&lt;dbl&gt;</th><th scope=col>&lt;dbl&gt;</th><th scope=col>&lt;dbl&gt;</th><th scope=col>&lt;dbl&gt;</th><th scope=col>&lt;dbl&gt;</th><th scope=col>&lt;dbl&gt;</th></tr>\n",
       "</thead>\n",
       "<tbody>\n",
       "\t<tr><td>P02769</td><td>38.90216</td><td>38.90216</td><td>38.90216</td><td>38.90216</td><td>38.90216</td><td>38.90216</td><td>38.90216</td><td>38.90216</td><td>38.90216</td><td>38.90216</td><td>38.90216</td><td>38.90216</td></tr>\n",
       "\t<tr><td>P02751</td><td>37.69320</td><td>37.69320</td><td>37.93295</td><td>37.93295</td><td>37.69320</td><td>37.69320</td><td>37.69320</td><td>37.93295</td><td>38.04262</td><td>38.04262</td><td>37.93295</td><td>37.69320</td></tr>\n",
       "\t<tr><td>P12763</td><td>37.93295</td><td>38.04262</td><td>38.04262</td><td>38.04262</td><td>37.93295</td><td>38.04262</td><td>38.04262</td><td>37.69320</td><td>37.93295</td><td>37.69320</td><td>38.04262</td><td>38.04262</td></tr>\n",
       "\t<tr><td>Q2UVX4</td><td>35.52159</td><td>35.24618</td><td>34.90068</td><td>35.69048</td><td>35.52159</td><td>35.24618</td><td>35.69048</td><td>35.52159</td><td>35.24618</td><td>35.37344</td><td>35.52159</td><td>35.37344</td></tr>\n",
       "\t<tr><td>P98160</td><td>34.66341</td><td>33.88776</td><td>33.54059</td><td>34.33819</td><td>34.66341</td><td>34.49104</td><td>34.66341</td><td>33.75940</td><td>33.75940</td><td>34.90068</td><td>34.66341</td><td>34.90068</td></tr>\n",
       "\t<tr><td>P12111</td><td>34.22305</td><td>34.49104</td><td>34.33819</td><td>34.49104</td><td>34.41664</td><td>34.66341</td><td>33.82027</td><td>34.22305</td><td>34.33819</td><td>34.33819</td><td>34.22305</td><td>33.19235</td></tr>\n",
       "</tbody>\n",
       "</table>\n"
      ],
      "text/latex": [
       "A tibble: 6 × 13\n",
       "\\begin{tabular}{lllllllllllll}\n",
       " Protein & CoCulture\\_Exposed1 & CoCulture\\_Exposed2 & CoCulture\\_Exposed3 & CoCulture\\_Exposed4 & CoCulture\\_Exposed5 & CoCulture\\_Exposed6 & CoCulture\\_VehicleCT1 & CoCulture\\_VehicleCT2 & CoCulture\\_VehicleCT3 & CoCulture\\_VehicleCT4 & CoCulture\\_VehicleCT5 & CoCulture\\_VehicleCT6\\\\\n",
       " <chr> & <dbl> & <dbl> & <dbl> & <dbl> & <dbl> & <dbl> & <dbl> & <dbl> & <dbl> & <dbl> & <dbl> & <dbl>\\\\\n",
       "\\hline\n",
       "\t P02769 & 38.90216 & 38.90216 & 38.90216 & 38.90216 & 38.90216 & 38.90216 & 38.90216 & 38.90216 & 38.90216 & 38.90216 & 38.90216 & 38.90216\\\\\n",
       "\t P02751 & 37.69320 & 37.69320 & 37.93295 & 37.93295 & 37.69320 & 37.69320 & 37.69320 & 37.93295 & 38.04262 & 38.04262 & 37.93295 & 37.69320\\\\\n",
       "\t P12763 & 37.93295 & 38.04262 & 38.04262 & 38.04262 & 37.93295 & 38.04262 & 38.04262 & 37.69320 & 37.93295 & 37.69320 & 38.04262 & 38.04262\\\\\n",
       "\t Q2UVX4 & 35.52159 & 35.24618 & 34.90068 & 35.69048 & 35.52159 & 35.24618 & 35.69048 & 35.52159 & 35.24618 & 35.37344 & 35.52159 & 35.37344\\\\\n",
       "\t P98160 & 34.66341 & 33.88776 & 33.54059 & 34.33819 & 34.66341 & 34.49104 & 34.66341 & 33.75940 & 33.75940 & 34.90068 & 34.66341 & 34.90068\\\\\n",
       "\t P12111 & 34.22305 & 34.49104 & 34.33819 & 34.49104 & 34.41664 & 34.66341 & 33.82027 & 34.22305 & 34.33819 & 34.33819 & 34.22305 & 33.19235\\\\\n",
       "\\end{tabular}\n"
      ],
      "text/markdown": [
       "\n",
       "A tibble: 6 × 13\n",
       "\n",
       "| Protein &lt;chr&gt; | CoCulture_Exposed1 &lt;dbl&gt; | CoCulture_Exposed2 &lt;dbl&gt; | CoCulture_Exposed3 &lt;dbl&gt; | CoCulture_Exposed4 &lt;dbl&gt; | CoCulture_Exposed5 &lt;dbl&gt; | CoCulture_Exposed6 &lt;dbl&gt; | CoCulture_VehicleCT1 &lt;dbl&gt; | CoCulture_VehicleCT2 &lt;dbl&gt; | CoCulture_VehicleCT3 &lt;dbl&gt; | CoCulture_VehicleCT4 &lt;dbl&gt; | CoCulture_VehicleCT5 &lt;dbl&gt; | CoCulture_VehicleCT6 &lt;dbl&gt; |\n",
       "|---|---|---|---|---|---|---|---|---|---|---|---|---|\n",
       "| P02769 | 38.90216 | 38.90216 | 38.90216 | 38.90216 | 38.90216 | 38.90216 | 38.90216 | 38.90216 | 38.90216 | 38.90216 | 38.90216 | 38.90216 |\n",
       "| P02751 | 37.69320 | 37.69320 | 37.93295 | 37.93295 | 37.69320 | 37.69320 | 37.69320 | 37.93295 | 38.04262 | 38.04262 | 37.93295 | 37.69320 |\n",
       "| P12763 | 37.93295 | 38.04262 | 38.04262 | 38.04262 | 37.93295 | 38.04262 | 38.04262 | 37.69320 | 37.93295 | 37.69320 | 38.04262 | 38.04262 |\n",
       "| Q2UVX4 | 35.52159 | 35.24618 | 34.90068 | 35.69048 | 35.52159 | 35.24618 | 35.69048 | 35.52159 | 35.24618 | 35.37344 | 35.52159 | 35.37344 |\n",
       "| P98160 | 34.66341 | 33.88776 | 33.54059 | 34.33819 | 34.66341 | 34.49104 | 34.66341 | 33.75940 | 33.75940 | 34.90068 | 34.66341 | 34.90068 |\n",
       "| P12111 | 34.22305 | 34.49104 | 34.33819 | 34.49104 | 34.41664 | 34.66341 | 33.82027 | 34.22305 | 34.33819 | 34.33819 | 34.22305 | 33.19235 |\n",
       "\n"
      ],
      "text/plain": [
       "  Protein CoCulture_Exposed1 CoCulture_Exposed2 CoCulture_Exposed3\n",
       "1 P02769  38.90216           38.90216           38.90216          \n",
       "2 P02751  37.69320           37.69320           37.93295          \n",
       "3 P12763  37.93295           38.04262           38.04262          \n",
       "4 Q2UVX4  35.52159           35.24618           34.90068          \n",
       "5 P98160  34.66341           33.88776           33.54059          \n",
       "6 P12111  34.22305           34.49104           34.33819          \n",
       "  CoCulture_Exposed4 CoCulture_Exposed5 CoCulture_Exposed6 CoCulture_VehicleCT1\n",
       "1 38.90216           38.90216           38.90216           38.90216            \n",
       "2 37.93295           37.69320           37.69320           37.69320            \n",
       "3 38.04262           37.93295           38.04262           38.04262            \n",
       "4 35.69048           35.52159           35.24618           35.69048            \n",
       "5 34.33819           34.66341           34.49104           34.66341            \n",
       "6 34.49104           34.41664           34.66341           33.82027            \n",
       "  CoCulture_VehicleCT2 CoCulture_VehicleCT3 CoCulture_VehicleCT4\n",
       "1 38.90216             38.90216             38.90216            \n",
       "2 37.93295             38.04262             38.04262            \n",
       "3 37.69320             37.93295             37.69320            \n",
       "4 35.52159             35.24618             35.37344            \n",
       "5 33.75940             33.75940             34.90068            \n",
       "6 34.22305             34.33819             34.33819            \n",
       "  CoCulture_VehicleCT5 CoCulture_VehicleCT6\n",
       "1 38.90216             38.90216            \n",
       "2 37.93295             37.69320            \n",
       "3 38.04262             38.04262            \n",
       "4 35.52159             35.37344            \n",
       "5 34.66341             34.90068            \n",
       "6 34.22305             33.19235            "
      ]
     },
     "metadata": {},
     "output_type": "display_data"
    }
   ],
   "source": [
    "# now creating a df with individual protein abundances\n",
    "split_proteomics_df = proteomics_df %>%\n",
    "    select(-c(\"Treatment\", \"Exposure\", \"Value\")) %>%\n",
    "    group_by(Set) %>%\n",
    "    group_split()\n",
    "\n",
    "set1_protein_abundance = split_proteomics_df[[1]] %>%\n",
    "    select(-Set) %>%\n",
    "    pivot_wider(names_from = ID, values_from = log2Value) \n",
    "\n",
    "set2_protein_abundance = split_proteomics_df[[2]] %>%\n",
    "     select(-Set) %>%\n",
    "    pivot_wider(names_from = ID, values_from = log2Value) \n",
    "\n",
    "head(set1_protein_abundance)"
   ]
  },
  {
   "cell_type": "code",
   "execution_count": 15,
   "id": "eeb1e543",
   "metadata": {},
   "outputs": [],
   "source": [
    "# exporting indvidual protein abundances\n",
    "write.csv(set1_protein_abundance, paste0(Output,\"/\", cur_date, \"_Set1_individual_abundance_data.csv\"), row.names = FALSE)\n",
    "write.csv(set2_protein_abundance, paste0(Output,\"/\", cur_date, \"_Set2_individual_abundance_data.csv\"), row.names = FALSE)"
   ]
  },
  {
   "cell_type": "code",
   "execution_count": null,
   "id": "5e6afcb4",
   "metadata": {},
   "outputs": [],
   "source": []
  }
 ],
 "metadata": {
  "kernelspec": {
   "display_name": "R",
   "language": "R",
   "name": "ir"
  },
  "language_info": {
   "codemirror_mode": "r",
   "file_extension": ".r",
   "mimetype": "text/x-r-source",
   "name": "R",
   "pygments_lexer": "r",
   "version": "4.1.2"
  }
 },
 "nbformat": 4,
 "nbformat_minor": 5
}
