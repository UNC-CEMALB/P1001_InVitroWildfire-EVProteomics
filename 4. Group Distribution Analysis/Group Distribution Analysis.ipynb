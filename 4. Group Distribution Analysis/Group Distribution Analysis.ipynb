{
 "cells": [
  {
   "cell_type": "code",
   "execution_count": 1,
   "id": "2435c81d",
   "metadata": {},
   "outputs": [
    {
     "name": "stderr",
     "output_type": "stream",
     "text": [
      "── \u001b[1mAttaching packages\u001b[22m ─────────────────────────────────────── tidyverse 1.3.1 ──\n",
      "\n",
      "\u001b[32m✔\u001b[39m \u001b[34mggplot2\u001b[39m 3.3.5     \u001b[32m✔\u001b[39m \u001b[34mpurrr  \u001b[39m 0.3.4\n",
      "\u001b[32m✔\u001b[39m \u001b[34mtibble \u001b[39m 3.1.6     \u001b[32m✔\u001b[39m \u001b[34mdplyr  \u001b[39m 1.0.8\n",
      "\u001b[32m✔\u001b[39m \u001b[34mtidyr  \u001b[39m 1.2.0     \u001b[32m✔\u001b[39m \u001b[34mstringr\u001b[39m 1.4.0\n",
      "\u001b[32m✔\u001b[39m \u001b[34mreadr  \u001b[39m 2.1.2     \u001b[32m✔\u001b[39m \u001b[34mforcats\u001b[39m 0.5.1\n",
      "\n",
      "── \u001b[1mConflicts\u001b[22m ────────────────────────────────────────── tidyverse_conflicts() ──\n",
      "\u001b[31m✖\u001b[39m \u001b[34mdplyr\u001b[39m::\u001b[32mfilter()\u001b[39m masks \u001b[34mstats\u001b[39m::filter()\n",
      "\u001b[31m✖\u001b[39m \u001b[34mdplyr\u001b[39m::\u001b[32mlag()\u001b[39m    masks \u001b[34mstats\u001b[39m::lag()\n",
      "\n",
      "\n",
      "Attaching package: ‘reshape2’\n",
      "\n",
      "\n",
      "The following object is masked from ‘package:tidyr’:\n",
      "\n",
      "    smiths\n",
      "\n",
      "\n"
     ]
    }
   ],
   "source": [
    "setwd('/Users/alexis/Library/CloudStorage/OneDrive-UniversityofNorthCarolinaatChapelHill/CEMALB_DataAnalysisPM/Projects/P1001. InVitroWildfire EVProteomics/P1001.3. Analyses/P1001.3.5. Group Distribution Analysis/Input')\n",
    "Output = ('/Users/alexis/Library/CloudStorage/OneDrive-UniversityofNorthCarolinaatChapelHill/CEMALB_DataAnalysisPM/Projects/P1001. InVitroWildfire EVProteomics/P1001.3. Analyses/P1001.3.5. Group Distribution Analysis/Output')\n",
    "cur_date = \"062722\"\n",
    "\n",
    "library(readxl)\n",
    "library(tidyverse)\n",
    "library(reshape2)\n",
    "\n",
    "\n",
    "#reading in file\n",
    "proteomics_df = data.frame(read_excel(\"062122_Imputed_Proteomics_Data.xlsx\"))\n",
    "protein_info_df = data.frame(read_excel(\"List of Proteins Detected_041922.xlsx\")) %>%\n",
    "    rename(Protein = Accession)"
   ]
  },
  {
   "cell_type": "code",
   "execution_count": 2,
   "id": "d6772e95",
   "metadata": {},
   "outputs": [
    {
     "data": {
      "text/html": [
       "<table class=\"dataframe\">\n",
       "<caption>A data.frame: 6 × 5</caption>\n",
       "<thead>\n",
       "\t<tr><th></th><th scope=col>Set</th><th scope=col>Treatment</th><th scope=col>ID</th><th scope=col>Protein</th><th scope=col>Value</th></tr>\n",
       "\t<tr><th></th><th scope=col>&lt;chr&gt;</th><th scope=col>&lt;chr&gt;</th><th scope=col>&lt;chr&gt;</th><th scope=col>&lt;chr&gt;</th><th scope=col>&lt;dbl&gt;</th></tr>\n",
       "</thead>\n",
       "<tbody>\n",
       "\t<tr><th scope=row>1</th><td>Set1</td><td>CoCulture_Exposed</td><td>CoCulture_Exposed1</td><td>P35555                    </td><td> 6540459348</td></tr>\n",
       "\t<tr><th scope=row>2</th><td>Set1</td><td>CoCulture_Exposed</td><td>CoCulture_Exposed1</td><td>ENSEMBL.ENSBTAP00000007350</td><td> 8526739787</td></tr>\n",
       "\t<tr><th scope=row>3</th><td>Set1</td><td>CoCulture_Exposed</td><td>CoCulture_Exposed1</td><td>Q15149                    </td><td> 3467760325</td></tr>\n",
       "\t<tr><th scope=row>4</th><td>Set1</td><td>CoCulture_Exposed</td><td>CoCulture_Exposed1</td><td>Q3SZ57                    </td><td>10425228827</td></tr>\n",
       "\t<tr><th scope=row>5</th><td>Set1</td><td>CoCulture_Exposed</td><td>CoCulture_Exposed1</td><td>ENSEMBL.ENSBTAP00000024146</td><td>11522621335</td></tr>\n",
       "\t<tr><th scope=row>6</th><td>Set1</td><td>CoCulture_Exposed</td><td>CoCulture_Exposed1</td><td>O15230                    </td><td> 2820298745</td></tr>\n",
       "</tbody>\n",
       "</table>\n"
      ],
      "text/latex": [
       "A data.frame: 6 × 5\n",
       "\\begin{tabular}{r|lllll}\n",
       "  & Set & Treatment & ID & Protein & Value\\\\\n",
       "  & <chr> & <chr> & <chr> & <chr> & <dbl>\\\\\n",
       "\\hline\n",
       "\t1 & Set1 & CoCulture\\_Exposed & CoCulture\\_Exposed1 & P35555                     &  6540459348\\\\\n",
       "\t2 & Set1 & CoCulture\\_Exposed & CoCulture\\_Exposed1 & ENSEMBL.ENSBTAP00000007350 &  8526739787\\\\\n",
       "\t3 & Set1 & CoCulture\\_Exposed & CoCulture\\_Exposed1 & Q15149                     &  3467760325\\\\\n",
       "\t4 & Set1 & CoCulture\\_Exposed & CoCulture\\_Exposed1 & Q3SZ57                     & 10425228827\\\\\n",
       "\t5 & Set1 & CoCulture\\_Exposed & CoCulture\\_Exposed1 & ENSEMBL.ENSBTAP00000024146 & 11522621335\\\\\n",
       "\t6 & Set1 & CoCulture\\_Exposed & CoCulture\\_Exposed1 & O15230                     &  2820298745\\\\\n",
       "\\end{tabular}\n"
      ],
      "text/markdown": [
       "\n",
       "A data.frame: 6 × 5\n",
       "\n",
       "| <!--/--> | Set &lt;chr&gt; | Treatment &lt;chr&gt; | ID &lt;chr&gt; | Protein &lt;chr&gt; | Value &lt;dbl&gt; |\n",
       "|---|---|---|---|---|---|\n",
       "| 1 | Set1 | CoCulture_Exposed | CoCulture_Exposed1 | P35555                     |  6540459348 |\n",
       "| 2 | Set1 | CoCulture_Exposed | CoCulture_Exposed1 | ENSEMBL.ENSBTAP00000007350 |  8526739787 |\n",
       "| 3 | Set1 | CoCulture_Exposed | CoCulture_Exposed1 | Q15149                     |  3467760325 |\n",
       "| 4 | Set1 | CoCulture_Exposed | CoCulture_Exposed1 | Q3SZ57                     | 10425228827 |\n",
       "| 5 | Set1 | CoCulture_Exposed | CoCulture_Exposed1 | ENSEMBL.ENSBTAP00000024146 | 11522621335 |\n",
       "| 6 | Set1 | CoCulture_Exposed | CoCulture_Exposed1 | O15230                     |  2820298745 |\n",
       "\n"
      ],
      "text/plain": [
       "  Set  Treatment         ID                 Protein                   \n",
       "1 Set1 CoCulture_Exposed CoCulture_Exposed1 P35555                    \n",
       "2 Set1 CoCulture_Exposed CoCulture_Exposed1 ENSEMBL.ENSBTAP00000007350\n",
       "3 Set1 CoCulture_Exposed CoCulture_Exposed1 Q15149                    \n",
       "4 Set1 CoCulture_Exposed CoCulture_Exposed1 Q3SZ57                    \n",
       "5 Set1 CoCulture_Exposed CoCulture_Exposed1 ENSEMBL.ENSBTAP00000024146\n",
       "6 Set1 CoCulture_Exposed CoCulture_Exposed1 O15230                    \n",
       "  Value      \n",
       "1  6540459348\n",
       "2  8526739787\n",
       "3  3467760325\n",
       "4 10425228827\n",
       "5 11522621335\n",
       "6  2820298745"
      ]
     },
     "metadata": {},
     "output_type": "display_data"
    },
    {
     "data": {
      "text/html": [
       "<table class=\"dataframe\">\n",
       "<caption>A data.frame: 6 × 5</caption>\n",
       "<thead>\n",
       "\t<tr><th></th><th scope=col>Protein</th><th scope=col>Gene.name</th><th scope=col>Description</th><th scope=col>GOCC.name</th><th scope=col>Contaminant</th></tr>\n",
       "\t<tr><th></th><th scope=col>&lt;chr&gt;</th><th scope=col>&lt;chr&gt;</th><th scope=col>&lt;chr&gt;</th><th scope=col>&lt;chr&gt;</th><th scope=col>&lt;chr&gt;</th></tr>\n",
       "</thead>\n",
       "<tbody>\n",
       "\t<tr><th scope=row>1</th><td>P02751</td><td>FN1                                                             </td><td>Fibronectin OS=Homo sapiens OX=9606 GN=FN1 PE=1 SV=5                                                           </td><td>apical plasma membrane;basal lamina;blood microparticle;cell part;cytoplasmic membrane-bounded vesicle lumen;cytoplasmic part;cytoplasmic vesicle part;endoplasmic reticulum-Golgi intermediate compartment;extracellular matrix;extracellular matrix part;extracellular membrane-bounded organelle;extracellular organelle;extracellular region;extracellular region part;extracellular space;extracellular vesicular exosome;fibrinogen complex;intracellular membrane-bounded organelle;intracellular organelle;intracellular organelle part;intracellular part;macromolecular complex;membrane part;membrane-bounded organelle;membrane-bounded vesicle;membrane-enclosed lumen;organelle;organelle lumen;organelle part;plasma membrane part;platelet alpha granule lumen;protein complex;secretory granule lumen;vesicle;vesicle lumen                                                                                                                                                  </td><td>-</td></tr>\n",
       "\t<tr><th scope=row>2</th><td>P02769</td><td>SWISS-PROT:P02769 (Bos taurus) Bovine serum albumin precursor   </td><td>SWISS-PROT:P02769 (Bos taurus) Bovine serum albumin precursor                                                  </td><td>NA                                                                                                                                                                                                                                                                                                                                                                                                                                                                                                                                                                                                                                                                                                                                                                                                                                                                                                                                                                                            </td><td>+</td></tr>\n",
       "\t<tr><th scope=row>3</th><td>P07996</td><td>THBS1                                                           </td><td>Thrombospondin-1 OS=Homo sapiens OX=9606 GN=THBS1 PE=1 SV=2                                                    </td><td>cell part;cell surface;cytoplasmic membrane-bounded vesicle;cytoplasmic membrane-bounded vesicle lumen;cytoplasmic part;cytoplasmic vesicle;cytoplasmic vesicle part;endoplasmic reticulum;endoplasmic reticulum lumen;endoplasmic reticulum part;external side of plasma membrane;extracellular matrix;extracellular membrane-bounded organelle;extracellular organelle;extracellular region;extracellular region part;extracellular space;extracellular vesicular exosome;fibrinogen complex;intracellular membrane-bounded organelle;intracellular organelle;intracellular organelle lumen;intracellular organelle part;intracellular part;macromolecular complex;membrane part;membrane-bounded organelle;membrane-bounded vesicle;membrane-enclosed lumen;organelle;organelle lumen;organelle part;plasma membrane part;platelet alpha granule;platelet alpha granule lumen;protein complex;sarcoplasmic reticulum;secretory granule lumen;stored secretory granule;vesicle;vesicle lumen</td><td>-</td></tr>\n",
       "\t<tr><th scope=row>4</th><td>Q2UVX4</td><td>SWISS-PROT:Q2UVX4 (Bos taurus) Complement C3 precursor          </td><td>SWISS-PROT:Q2UVX4 (Bos taurus) Complement C3 precursor                                                         </td><td>NA                                                                                                                                                                                                                                                                                                                                                                                                                                                                                                                                                                                                                                                                                                                                                                                                                                                                                                                                                                                            </td><td>+</td></tr>\n",
       "\t<tr><th scope=row>5</th><td>P98160</td><td>HSPG2                                                           </td><td>Basement membrane-specific heparan sulfate proteoglycan core protein OS=Homo sapiens OX=9606 GN=HSPG2 PE=1 SV=4</td><td>adherens junction;anchoring junction;basal lamina;cell junction;cell part;cell-substrate adherens junction;cell-substrate junction;cytoplasmic part;extracellular matrix;extracellular matrix part;extracellular membrane-bounded organelle;extracellular organelle;extracellular region;extracellular region part;extracellular space;extracellular vesicular exosome;focal adhesion;Golgi apparatus part;Golgi lumen;intracellular organelle lumen;intracellular organelle part;intracellular part;lysosomal lumen;membrane;membrane-bounded organelle;membrane-bounded vesicle;membrane-enclosed lumen;organelle;organelle lumen;organelle part;plasma membrane;vacuolar lumen;vacuolar part;vesicle                                                                                                                                                                                                                                                                                       </td><td>-</td></tr>\n",
       "\t<tr><th scope=row>6</th><td>P12763</td><td>SWISS-PROT:P12763 (Bos taurus) Alpha-2-HS-glycoprotein precursor</td><td>SWISS-PROT:P12763 (Bos taurus) Alpha-2-HS-glycoprotein precursor                                               </td><td>NA                                                                                                                                                                                                                                                                                                                                                                                                                                                                                                                                                                                                                                                                                                                                                                                                                                                                                                                                                                                            </td><td>+</td></tr>\n",
       "</tbody>\n",
       "</table>\n"
      ],
      "text/latex": [
       "A data.frame: 6 × 5\n",
       "\\begin{tabular}{r|lllll}\n",
       "  & Protein & Gene.name & Description & GOCC.name & Contaminant\\\\\n",
       "  & <chr> & <chr> & <chr> & <chr> & <chr>\\\\\n",
       "\\hline\n",
       "\t1 & P02751 & FN1                                                              & Fibronectin OS=Homo sapiens OX=9606 GN=FN1 PE=1 SV=5                                                            & apical plasma membrane;basal lamina;blood microparticle;cell part;cytoplasmic membrane-bounded vesicle lumen;cytoplasmic part;cytoplasmic vesicle part;endoplasmic reticulum-Golgi intermediate compartment;extracellular matrix;extracellular matrix part;extracellular membrane-bounded organelle;extracellular organelle;extracellular region;extracellular region part;extracellular space;extracellular vesicular exosome;fibrinogen complex;intracellular membrane-bounded organelle;intracellular organelle;intracellular organelle part;intracellular part;macromolecular complex;membrane part;membrane-bounded organelle;membrane-bounded vesicle;membrane-enclosed lumen;organelle;organelle lumen;organelle part;plasma membrane part;platelet alpha granule lumen;protein complex;secretory granule lumen;vesicle;vesicle lumen                                                                                                                                                   & -\\\\\n",
       "\t2 & P02769 & SWISS-PROT:P02769 (Bos taurus) Bovine serum albumin precursor    & SWISS-PROT:P02769 (Bos taurus) Bovine serum albumin precursor                                                   & NA                                                                                                                                                                                                                                                                                                                                                                                                                                                                                                                                                                                                                                                                                                                                                                                                                                                                                                                                                                                             & +\\\\\n",
       "\t3 & P07996 & THBS1                                                            & Thrombospondin-1 OS=Homo sapiens OX=9606 GN=THBS1 PE=1 SV=2                                                     & cell part;cell surface;cytoplasmic membrane-bounded vesicle;cytoplasmic membrane-bounded vesicle lumen;cytoplasmic part;cytoplasmic vesicle;cytoplasmic vesicle part;endoplasmic reticulum;endoplasmic reticulum lumen;endoplasmic reticulum part;external side of plasma membrane;extracellular matrix;extracellular membrane-bounded organelle;extracellular organelle;extracellular region;extracellular region part;extracellular space;extracellular vesicular exosome;fibrinogen complex;intracellular membrane-bounded organelle;intracellular organelle;intracellular organelle lumen;intracellular organelle part;intracellular part;macromolecular complex;membrane part;membrane-bounded organelle;membrane-bounded vesicle;membrane-enclosed lumen;organelle;organelle lumen;organelle part;plasma membrane part;platelet alpha granule;platelet alpha granule lumen;protein complex;sarcoplasmic reticulum;secretory granule lumen;stored secretory granule;vesicle;vesicle lumen & -\\\\\n",
       "\t4 & Q2UVX4 & SWISS-PROT:Q2UVX4 (Bos taurus) Complement C3 precursor           & SWISS-PROT:Q2UVX4 (Bos taurus) Complement C3 precursor                                                          & NA                                                                                                                                                                                                                                                                                                                                                                                                                                                                                                                                                                                                                                                                                                                                                                                                                                                                                                                                                                                             & +\\\\\n",
       "\t5 & P98160 & HSPG2                                                            & Basement membrane-specific heparan sulfate proteoglycan core protein OS=Homo sapiens OX=9606 GN=HSPG2 PE=1 SV=4 & adherens junction;anchoring junction;basal lamina;cell junction;cell part;cell-substrate adherens junction;cell-substrate junction;cytoplasmic part;extracellular matrix;extracellular matrix part;extracellular membrane-bounded organelle;extracellular organelle;extracellular region;extracellular region part;extracellular space;extracellular vesicular exosome;focal adhesion;Golgi apparatus part;Golgi lumen;intracellular organelle lumen;intracellular organelle part;intracellular part;lysosomal lumen;membrane;membrane-bounded organelle;membrane-bounded vesicle;membrane-enclosed lumen;organelle;organelle lumen;organelle part;plasma membrane;vacuolar lumen;vacuolar part;vesicle                                                                                                                                                                                                                                                                                        & -\\\\\n",
       "\t6 & P12763 & SWISS-PROT:P12763 (Bos taurus) Alpha-2-HS-glycoprotein precursor & SWISS-PROT:P12763 (Bos taurus) Alpha-2-HS-glycoprotein precursor                                                & NA                                                                                                                                                                                                                                                                                                                                                                                                                                                                                                                                                                                                                                                                                                                                                                                                                                                                                                                                                                                             & +\\\\\n",
       "\\end{tabular}\n"
      ],
      "text/markdown": [
       "\n",
       "A data.frame: 6 × 5\n",
       "\n",
       "| <!--/--> | Protein &lt;chr&gt; | Gene.name &lt;chr&gt; | Description &lt;chr&gt; | GOCC.name &lt;chr&gt; | Contaminant &lt;chr&gt; |\n",
       "|---|---|---|---|---|---|\n",
       "| 1 | P02751 | FN1                                                              | Fibronectin OS=Homo sapiens OX=9606 GN=FN1 PE=1 SV=5                                                            | apical plasma membrane;basal lamina;blood microparticle;cell part;cytoplasmic membrane-bounded vesicle lumen;cytoplasmic part;cytoplasmic vesicle part;endoplasmic reticulum-Golgi intermediate compartment;extracellular matrix;extracellular matrix part;extracellular membrane-bounded organelle;extracellular organelle;extracellular region;extracellular region part;extracellular space;extracellular vesicular exosome;fibrinogen complex;intracellular membrane-bounded organelle;intracellular organelle;intracellular organelle part;intracellular part;macromolecular complex;membrane part;membrane-bounded organelle;membrane-bounded vesicle;membrane-enclosed lumen;organelle;organelle lumen;organelle part;plasma membrane part;platelet alpha granule lumen;protein complex;secretory granule lumen;vesicle;vesicle lumen                                                                                                                                                   | - |\n",
       "| 2 | P02769 | SWISS-PROT:P02769 (Bos taurus) Bovine serum albumin precursor    | SWISS-PROT:P02769 (Bos taurus) Bovine serum albumin precursor                                                   | NA                                                                                                                                                                                                                                                                                                                                                                                                                                                                                                                                                                                                                                                                                                                                                                                                                                                                                                                                                                                             | + |\n",
       "| 3 | P07996 | THBS1                                                            | Thrombospondin-1 OS=Homo sapiens OX=9606 GN=THBS1 PE=1 SV=2                                                     | cell part;cell surface;cytoplasmic membrane-bounded vesicle;cytoplasmic membrane-bounded vesicle lumen;cytoplasmic part;cytoplasmic vesicle;cytoplasmic vesicle part;endoplasmic reticulum;endoplasmic reticulum lumen;endoplasmic reticulum part;external side of plasma membrane;extracellular matrix;extracellular membrane-bounded organelle;extracellular organelle;extracellular region;extracellular region part;extracellular space;extracellular vesicular exosome;fibrinogen complex;intracellular membrane-bounded organelle;intracellular organelle;intracellular organelle lumen;intracellular organelle part;intracellular part;macromolecular complex;membrane part;membrane-bounded organelle;membrane-bounded vesicle;membrane-enclosed lumen;organelle;organelle lumen;organelle part;plasma membrane part;platelet alpha granule;platelet alpha granule lumen;protein complex;sarcoplasmic reticulum;secretory granule lumen;stored secretory granule;vesicle;vesicle lumen | - |\n",
       "| 4 | Q2UVX4 | SWISS-PROT:Q2UVX4 (Bos taurus) Complement C3 precursor           | SWISS-PROT:Q2UVX4 (Bos taurus) Complement C3 precursor                                                          | NA                                                                                                                                                                                                                                                                                                                                                                                                                                                                                                                                                                                                                                                                                                                                                                                                                                                                                                                                                                                             | + |\n",
       "| 5 | P98160 | HSPG2                                                            | Basement membrane-specific heparan sulfate proteoglycan core protein OS=Homo sapiens OX=9606 GN=HSPG2 PE=1 SV=4 | adherens junction;anchoring junction;basal lamina;cell junction;cell part;cell-substrate adherens junction;cell-substrate junction;cytoplasmic part;extracellular matrix;extracellular matrix part;extracellular membrane-bounded organelle;extracellular organelle;extracellular region;extracellular region part;extracellular space;extracellular vesicular exosome;focal adhesion;Golgi apparatus part;Golgi lumen;intracellular organelle lumen;intracellular organelle part;intracellular part;lysosomal lumen;membrane;membrane-bounded organelle;membrane-bounded vesicle;membrane-enclosed lumen;organelle;organelle lumen;organelle part;plasma membrane;vacuolar lumen;vacuolar part;vesicle                                                                                                                                                                                                                                                                                        | - |\n",
       "| 6 | P12763 | SWISS-PROT:P12763 (Bos taurus) Alpha-2-HS-glycoprotein precursor | SWISS-PROT:P12763 (Bos taurus) Alpha-2-HS-glycoprotein precursor                                                | NA                                                                                                                                                                                                                                                                                                                                                                                                                                                                                                                                                                                                                                                                                                                                                                                                                                                                                                                                                                                             | + |\n",
       "\n"
      ],
      "text/plain": [
       "  Protein Gene.name                                                       \n",
       "1 P02751  FN1                                                             \n",
       "2 P02769  SWISS-PROT:P02769 (Bos taurus) Bovine serum albumin precursor   \n",
       "3 P07996  THBS1                                                           \n",
       "4 Q2UVX4  SWISS-PROT:Q2UVX4 (Bos taurus) Complement C3 precursor          \n",
       "5 P98160  HSPG2                                                           \n",
       "6 P12763  SWISS-PROT:P12763 (Bos taurus) Alpha-2-HS-glycoprotein precursor\n",
       "  Description                                                                                                    \n",
       "1 Fibronectin OS=Homo sapiens OX=9606 GN=FN1 PE=1 SV=5                                                           \n",
       "2 SWISS-PROT:P02769 (Bos taurus) Bovine serum albumin precursor                                                  \n",
       "3 Thrombospondin-1 OS=Homo sapiens OX=9606 GN=THBS1 PE=1 SV=2                                                    \n",
       "4 SWISS-PROT:Q2UVX4 (Bos taurus) Complement C3 precursor                                                         \n",
       "5 Basement membrane-specific heparan sulfate proteoglycan core protein OS=Homo sapiens OX=9606 GN=HSPG2 PE=1 SV=4\n",
       "6 SWISS-PROT:P12763 (Bos taurus) Alpha-2-HS-glycoprotein precursor                                               \n",
       "  GOCC.name                                                                                                                                                                                                                                                                                                                                                                                                                                                                                                                                                                                                                                                                                                                                                                                                                                                                                                                                                                                     \n",
       "1 apical plasma membrane;basal lamina;blood microparticle;cell part;cytoplasmic membrane-bounded vesicle lumen;cytoplasmic part;cytoplasmic vesicle part;endoplasmic reticulum-Golgi intermediate compartment;extracellular matrix;extracellular matrix part;extracellular membrane-bounded organelle;extracellular organelle;extracellular region;extracellular region part;extracellular space;extracellular vesicular exosome;fibrinogen complex;intracellular membrane-bounded organelle;intracellular organelle;intracellular organelle part;intracellular part;macromolecular complex;membrane part;membrane-bounded organelle;membrane-bounded vesicle;membrane-enclosed lumen;organelle;organelle lumen;organelle part;plasma membrane part;platelet alpha granule lumen;protein complex;secretory granule lumen;vesicle;vesicle lumen                                                                                                                                                  \n",
       "2 NA                                                                                                                                                                                                                                                                                                                                                                                                                                                                                                                                                                                                                                                                                                                                                                                                                                                                                                                                                                                            \n",
       "3 cell part;cell surface;cytoplasmic membrane-bounded vesicle;cytoplasmic membrane-bounded vesicle lumen;cytoplasmic part;cytoplasmic vesicle;cytoplasmic vesicle part;endoplasmic reticulum;endoplasmic reticulum lumen;endoplasmic reticulum part;external side of plasma membrane;extracellular matrix;extracellular membrane-bounded organelle;extracellular organelle;extracellular region;extracellular region part;extracellular space;extracellular vesicular exosome;fibrinogen complex;intracellular membrane-bounded organelle;intracellular organelle;intracellular organelle lumen;intracellular organelle part;intracellular part;macromolecular complex;membrane part;membrane-bounded organelle;membrane-bounded vesicle;membrane-enclosed lumen;organelle;organelle lumen;organelle part;plasma membrane part;platelet alpha granule;platelet alpha granule lumen;protein complex;sarcoplasmic reticulum;secretory granule lumen;stored secretory granule;vesicle;vesicle lumen\n",
       "4 NA                                                                                                                                                                                                                                                                                                                                                                                                                                                                                                                                                                                                                                                                                                                                                                                                                                                                                                                                                                                            \n",
       "5 adherens junction;anchoring junction;basal lamina;cell junction;cell part;cell-substrate adherens junction;cell-substrate junction;cytoplasmic part;extracellular matrix;extracellular matrix part;extracellular membrane-bounded organelle;extracellular organelle;extracellular region;extracellular region part;extracellular space;extracellular vesicular exosome;focal adhesion;Golgi apparatus part;Golgi lumen;intracellular organelle lumen;intracellular organelle part;intracellular part;lysosomal lumen;membrane;membrane-bounded organelle;membrane-bounded vesicle;membrane-enclosed lumen;organelle;organelle lumen;organelle part;plasma membrane;vacuolar lumen;vacuolar part;vesicle                                                                                                                                                                                                                                                                                       \n",
       "6 NA                                                                                                                                                                                                                                                                                                                                                                                                                                                                                                                                                                                                                                                                                                                                                                                                                                                                                                                                                                                            \n",
       "  Contaminant\n",
       "1 -          \n",
       "2 +          \n",
       "3 -          \n",
       "4 +          \n",
       "5 -          \n",
       "6 +          "
      ]
     },
     "metadata": {},
     "output_type": "display_data"
    }
   ],
   "source": [
    "head(proteomics_df)\n",
    "head(protein_info_df)"
   ]
  },
  {
   "cell_type": "code",
   "execution_count": 3,
   "id": "b609515d",
   "metadata": {},
   "outputs": [
    {
     "data": {
      "text/html": [
       "<table class=\"dataframe\">\n",
       "<caption>A data.frame: 6 × 6</caption>\n",
       "<thead>\n",
       "\t<tr><th></th><th scope=col>Set</th><th scope=col>Treatment</th><th scope=col>Exposure</th><th scope=col>ID</th><th scope=col>Protein</th><th scope=col>Value</th></tr>\n",
       "\t<tr><th></th><th scope=col>&lt;chr&gt;</th><th scope=col>&lt;chr&gt;</th><th scope=col>&lt;chr&gt;</th><th scope=col>&lt;chr&gt;</th><th scope=col>&lt;chr&gt;</th><th scope=col>&lt;dbl&gt;</th></tr>\n",
       "</thead>\n",
       "<tbody>\n",
       "\t<tr><th scope=row>1</th><td>Set1</td><td>CoCulture</td><td>Exposed</td><td>CoCulture_Exposed1</td><td>P35555                    </td><td> 6540459348</td></tr>\n",
       "\t<tr><th scope=row>2</th><td>Set1</td><td>CoCulture</td><td>Exposed</td><td>CoCulture_Exposed1</td><td>ENSEMBL.ENSBTAP00000007350</td><td> 8526739787</td></tr>\n",
       "\t<tr><th scope=row>3</th><td>Set1</td><td>CoCulture</td><td>Exposed</td><td>CoCulture_Exposed1</td><td>Q15149                    </td><td> 3467760325</td></tr>\n",
       "\t<tr><th scope=row>4</th><td>Set1</td><td>CoCulture</td><td>Exposed</td><td>CoCulture_Exposed1</td><td>Q3SZ57                    </td><td>10425228827</td></tr>\n",
       "\t<tr><th scope=row>5</th><td>Set1</td><td>CoCulture</td><td>Exposed</td><td>CoCulture_Exposed1</td><td>ENSEMBL.ENSBTAP00000024146</td><td>11522621335</td></tr>\n",
       "\t<tr><th scope=row>6</th><td>Set1</td><td>CoCulture</td><td>Exposed</td><td>CoCulture_Exposed1</td><td>O15230                    </td><td> 2820298745</td></tr>\n",
       "</tbody>\n",
       "</table>\n"
      ],
      "text/latex": [
       "A data.frame: 6 × 6\n",
       "\\begin{tabular}{r|llllll}\n",
       "  & Set & Treatment & Exposure & ID & Protein & Value\\\\\n",
       "  & <chr> & <chr> & <chr> & <chr> & <chr> & <dbl>\\\\\n",
       "\\hline\n",
       "\t1 & Set1 & CoCulture & Exposed & CoCulture\\_Exposed1 & P35555                     &  6540459348\\\\\n",
       "\t2 & Set1 & CoCulture & Exposed & CoCulture\\_Exposed1 & ENSEMBL.ENSBTAP00000007350 &  8526739787\\\\\n",
       "\t3 & Set1 & CoCulture & Exposed & CoCulture\\_Exposed1 & Q15149                     &  3467760325\\\\\n",
       "\t4 & Set1 & CoCulture & Exposed & CoCulture\\_Exposed1 & Q3SZ57                     & 10425228827\\\\\n",
       "\t5 & Set1 & CoCulture & Exposed & CoCulture\\_Exposed1 & ENSEMBL.ENSBTAP00000024146 & 11522621335\\\\\n",
       "\t6 & Set1 & CoCulture & Exposed & CoCulture\\_Exposed1 & O15230                     &  2820298745\\\\\n",
       "\\end{tabular}\n"
      ],
      "text/markdown": [
       "\n",
       "A data.frame: 6 × 6\n",
       "\n",
       "| <!--/--> | Set &lt;chr&gt; | Treatment &lt;chr&gt; | Exposure &lt;chr&gt; | ID &lt;chr&gt; | Protein &lt;chr&gt; | Value &lt;dbl&gt; |\n",
       "|---|---|---|---|---|---|---|\n",
       "| 1 | Set1 | CoCulture | Exposed | CoCulture_Exposed1 | P35555                     |  6540459348 |\n",
       "| 2 | Set1 | CoCulture | Exposed | CoCulture_Exposed1 | ENSEMBL.ENSBTAP00000007350 |  8526739787 |\n",
       "| 3 | Set1 | CoCulture | Exposed | CoCulture_Exposed1 | Q15149                     |  3467760325 |\n",
       "| 4 | Set1 | CoCulture | Exposed | CoCulture_Exposed1 | Q3SZ57                     | 10425228827 |\n",
       "| 5 | Set1 | CoCulture | Exposed | CoCulture_Exposed1 | ENSEMBL.ENSBTAP00000024146 | 11522621335 |\n",
       "| 6 | Set1 | CoCulture | Exposed | CoCulture_Exposed1 | O15230                     |  2820298745 |\n",
       "\n"
      ],
      "text/plain": [
       "  Set  Treatment Exposure ID                 Protein                   \n",
       "1 Set1 CoCulture Exposed  CoCulture_Exposed1 P35555                    \n",
       "2 Set1 CoCulture Exposed  CoCulture_Exposed1 ENSEMBL.ENSBTAP00000007350\n",
       "3 Set1 CoCulture Exposed  CoCulture_Exposed1 Q15149                    \n",
       "4 Set1 CoCulture Exposed  CoCulture_Exposed1 Q3SZ57                    \n",
       "5 Set1 CoCulture Exposed  CoCulture_Exposed1 ENSEMBL.ENSBTAP00000024146\n",
       "6 Set1 CoCulture Exposed  CoCulture_Exposed1 O15230                    \n",
       "  Value      \n",
       "1  6540459348\n",
       "2  8526739787\n",
       "3  3467760325\n",
       "4 10425228827\n",
       "5 11522621335\n",
       "6  2820298745"
      ]
     },
     "metadata": {},
     "output_type": "display_data"
    }
   ],
   "source": [
    "proteomics_df = proteomics_df %>%\n",
    "    # just want a column that specifies the treatment and exposure separately\n",
    "    separate(Treatment, c(\"Treatment\", \"Exposure\"), sep = \"_\") \n",
    "\n",
    "head(proteomics_df)"
   ]
  },
  {
   "cell_type": "code",
   "execution_count": 4,
   "id": "e9e81f3a",
   "metadata": {},
   "outputs": [
    {
     "data": {
      "text/html": [
       "<table class=\"dataframe\">\n",
       "<caption>A tibble: 6 × 6</caption>\n",
       "<thead>\n",
       "\t<tr><th scope=col>Set</th><th scope=col>Treatment</th><th scope=col>Exposure</th><th scope=col>ID</th><th scope=col>Protein</th><th scope=col>Value</th></tr>\n",
       "\t<tr><th scope=col>&lt;chr&gt;</th><th scope=col>&lt;chr&gt;</th><th scope=col>&lt;chr&gt;</th><th scope=col>&lt;chr&gt;</th><th scope=col>&lt;chr&gt;</th><th scope=col>&lt;dbl&gt;</th></tr>\n",
       "</thead>\n",
       "<tbody>\n",
       "\t<tr><td>Set1</td><td>CoCulture</td><td>Exposed</td><td>CoCulture_Exposed1</td><td>P35555                    </td><td> 6540459348</td></tr>\n",
       "\t<tr><td>Set1</td><td>CoCulture</td><td>Exposed</td><td>CoCulture_Exposed1</td><td>ENSEMBL.ENSBTAP00000007350</td><td> 8526739787</td></tr>\n",
       "\t<tr><td>Set1</td><td>CoCulture</td><td>Exposed</td><td>CoCulture_Exposed1</td><td>Q15149                    </td><td> 3467760325</td></tr>\n",
       "\t<tr><td>Set1</td><td>CoCulture</td><td>Exposed</td><td>CoCulture_Exposed1</td><td>Q3SZ57                    </td><td>10425228827</td></tr>\n",
       "\t<tr><td>Set1</td><td>CoCulture</td><td>Exposed</td><td>CoCulture_Exposed1</td><td>ENSEMBL.ENSBTAP00000024146</td><td>11522621335</td></tr>\n",
       "\t<tr><td>Set1</td><td>CoCulture</td><td>Exposed</td><td>CoCulture_Exposed1</td><td>O15230                    </td><td> 2820298745</td></tr>\n",
       "</tbody>\n",
       "</table>\n"
      ],
      "text/latex": [
       "A tibble: 6 × 6\n",
       "\\begin{tabular}{llllll}\n",
       " Set & Treatment & Exposure & ID & Protein & Value\\\\\n",
       " <chr> & <chr> & <chr> & <chr> & <chr> & <dbl>\\\\\n",
       "\\hline\n",
       "\t Set1 & CoCulture & Exposed & CoCulture\\_Exposed1 & P35555                     &  6540459348\\\\\n",
       "\t Set1 & CoCulture & Exposed & CoCulture\\_Exposed1 & ENSEMBL.ENSBTAP00000007350 &  8526739787\\\\\n",
       "\t Set1 & CoCulture & Exposed & CoCulture\\_Exposed1 & Q15149                     &  3467760325\\\\\n",
       "\t Set1 & CoCulture & Exposed & CoCulture\\_Exposed1 & Q3SZ57                     & 10425228827\\\\\n",
       "\t Set1 & CoCulture & Exposed & CoCulture\\_Exposed1 & ENSEMBL.ENSBTAP00000024146 & 11522621335\\\\\n",
       "\t Set1 & CoCulture & Exposed & CoCulture\\_Exposed1 & O15230                     &  2820298745\\\\\n",
       "\\end{tabular}\n"
      ],
      "text/markdown": [
       "\n",
       "A tibble: 6 × 6\n",
       "\n",
       "| Set &lt;chr&gt; | Treatment &lt;chr&gt; | Exposure &lt;chr&gt; | ID &lt;chr&gt; | Protein &lt;chr&gt; | Value &lt;dbl&gt; |\n",
       "|---|---|---|---|---|---|\n",
       "| Set1 | CoCulture | Exposed | CoCulture_Exposed1 | P35555                     |  6540459348 |\n",
       "| Set1 | CoCulture | Exposed | CoCulture_Exposed1 | ENSEMBL.ENSBTAP00000007350 |  8526739787 |\n",
       "| Set1 | CoCulture | Exposed | CoCulture_Exposed1 | Q15149                     |  3467760325 |\n",
       "| Set1 | CoCulture | Exposed | CoCulture_Exposed1 | Q3SZ57                     | 10425228827 |\n",
       "| Set1 | CoCulture | Exposed | CoCulture_Exposed1 | ENSEMBL.ENSBTAP00000024146 | 11522621335 |\n",
       "| Set1 | CoCulture | Exposed | CoCulture_Exposed1 | O15230                     |  2820298745 |\n",
       "\n"
      ],
      "text/plain": [
       "  Set  Treatment Exposure ID                 Protein                   \n",
       "1 Set1 CoCulture Exposed  CoCulture_Exposed1 P35555                    \n",
       "2 Set1 CoCulture Exposed  CoCulture_Exposed1 ENSEMBL.ENSBTAP00000007350\n",
       "3 Set1 CoCulture Exposed  CoCulture_Exposed1 Q15149                    \n",
       "4 Set1 CoCulture Exposed  CoCulture_Exposed1 Q3SZ57                    \n",
       "5 Set1 CoCulture Exposed  CoCulture_Exposed1 ENSEMBL.ENSBTAP00000024146\n",
       "6 Set1 CoCulture Exposed  CoCulture_Exposed1 O15230                    \n",
       "  Value      \n",
       "1  6540459348\n",
       "2  8526739787\n",
       "3  3467760325\n",
       "4 10425228827\n",
       "5 11522621335\n",
       "6  2820298745"
      ]
     },
     "metadata": {},
     "output_type": "display_data"
    }
   ],
   "source": [
    "# splitting by Set\n",
    "proteomics_df_split = proteomics_df %>%\n",
    "    group_by(Set) %>%\n",
    "    group_split()\n",
    "\n",
    "set1_proteomics_df = proteomics_df_split[[1]]\n",
    "set2_proteomics_df = proteomics_df_split[[2]]\n",
    "\n",
    "head(set1_proteomics_df)"
   ]
  },
  {
   "cell_type": "markdown",
   "id": "e9be1db6",
   "metadata": {},
   "source": [
    "Running t tests to determine if there are statistically significant distribution differences in co-culture unexposed vs. exposed and tri-culture unexposed vs. exposed. "
   ]
  },
  {
   "cell_type": "code",
   "execution_count": 5,
   "id": "9b6930b4",
   "metadata": {},
   "outputs": [],
   "source": [
    "t_test_values = function(df, set_id){\n",
    "    # \"\"\"\n",
    "    # Running t tests after filtering for set, treatment, exposure, and protein using a loop. \n",
    "    # Ultimately using this test to compare proteins (unexposed vs. exposed).\n",
    "\n",
    "    # :param: subsetted dataframe, empty dataframe\n",
    "    # :output: a dataframe containing the set, treatment, exposure, protein, u stat, p value, p adj\n",
    "\n",
    "    # \"\"\"\n",
    "    treatments = unique(df$Treatment)\n",
    "    proteins = unique(df$Protein)\n",
    "    \n",
    "    values_df = data.frame()\n",
    "    # iterating through each tx, protein\n",
    "\n",
    "    for(i in 1:length(treatments)){\n",
    "        for(j in 1:length(proteins)){\n",
    "            # unexposed df\n",
    "            unexposed_df = df %>%\n",
    "                filter(Treatment == treatments[i], Exposure == \"Vehicle\", Protein == proteins[j])\n",
    "            # exposed df\n",
    "            exposed_df = df %>%\n",
    "                filter(Treatment == treatments[i], Exposure == \"Exposed\", Protein == proteins[j])\n",
    "\n",
    "            # t test\n",
    "            t_test = t.test(unexposed_df$Value, exposed_df$Value)\n",
    "            \n",
    "            # calculating FC to get directionality\n",
    "            FC = log2(mean(unexposed_df$Value)/mean(exposed_df$Value))\n",
    "\n",
    "            # contains smoking status compared, compartment, cytokine, u stat, and p value\n",
    "            values_vector = cbind(set_id, treatments[i], proteins[j], FC, t_test$statistic, t_test$p.value)\n",
    "            values_df = rbind(values_df, values_vector)\n",
    "            }\n",
    "        }\n",
    "\n",
    "    \n",
    "    # adding col names\n",
    "    colnames(values_df) = c(\"Set\", \"Treatment\", \"Protein\", \"log2FC\", \"Statistic\", \"PValue\")\n",
    "    \n",
    "    \n",
    "    # calculating padj values\n",
    "    padj_vector = c()\n",
    "    # adjusting within each treatment\n",
    "    for (i in 1:length(treatments)){\n",
    "        PAdj = p.adjust(as.numeric(as.character(values_df$PValue)), method = \"fdr\")\n",
    "        padj_vector = c(padj_vector, PAdj)\n",
    "    }\n",
    "    \n",
    "    values_df = cbind(values_df, padj_vector) %>%\n",
    "        rename(PAdj = padj_vector)\n",
    "\n",
    "    values_df$log2FC = as.numeric(values_df$log2FC) \n",
    "    values_df$Statistic = as.numeric(values_df$Statistic)\n",
    "    values_df$PValue = as.numeric(values_df$PValue) \n",
    "    \n",
    "    return(values_df)\n",
    "}"
   ]
  },
  {
   "cell_type": "code",
   "execution_count": null,
   "id": "ed469849",
   "metadata": {},
   "outputs": [],
   "source": [
    "# calling fn\n",
    "set1_t_test = t_test_values(set1_proteomics_df, \"Set1\")\n",
    "set2_t_test = t_test_values(set2_proteomics_df, \"Set2\")"
   ]
  },
  {
   "cell_type": "code",
   "execution_count": null,
   "id": "126ffaca",
   "metadata": {},
   "outputs": [],
   "source": [
    "# creating 1 df\n",
    "t_test_df = rbind(set1_t_test, set2_t_test)\n",
    "\n",
    "# adding in gene names\n",
    "final_t_test_df = inner_join(t_test_df, protein_info_df %>%\n",
    "                                select(c(\"Protein\", \"Gene.name\")))\n",
    "final_t_test_df = final_t_test_df[, c(1,2,3,8,4,5,6,7)]\n",
    "head(final_t_test_df)"
   ]
  },
  {
   "cell_type": "code",
   "execution_count": null,
   "id": "304c9cd6",
   "metadata": {},
   "outputs": [],
   "source": [
    "# exporting t test results\n",
    "write.csv(final_t_test_df, paste0(Output,\"/\", cur_date, \"_Statistical_Results_Only.csv\"), row.names = FALSE)"
   ]
  },
  {
   "cell_type": "code",
   "execution_count": null,
   "id": "0d72aba9",
   "metadata": {},
   "outputs": [],
   "source": [
    "t_test_df = pivot_longer(t_test_df, cols = 4:7, names_to = \"var\", values_to = \"Value\") %>%\n",
    "    unite(\"Variable\", Treatment, var, sep = \".\") %>%\n",
    "    select(-Set)\n",
    "\n",
    "t_test_df = t_test_df[,c(2,1,3)]\n",
    "\n",
    "head(t_test_df)"
   ]
  },
  {
   "cell_type": "code",
   "execution_count": null,
   "id": "dc459342",
   "metadata": {},
   "outputs": [],
   "source": [
    "#calculating overall avg. abundance and within smoking groups\n",
    "avg_abundance_df = proteomics_df %>%\n",
    "    group_by(Protein) %>%\n",
    "    summarize(NA.Avg_Abundance = mean(Value))\n",
    "\n",
    "#stratified by treatment\n",
    "avg_abundance_df_stratified = proteomics_df %>%\n",
    "    group_by(Treatment, Protein) %>%\n",
    "    summarize(Avg_Abundance_stratified = mean(Value))\n",
    "\n",
    "head(avg_abundance_df)"
   ]
  },
  {
   "cell_type": "code",
   "execution_count": null,
   "id": "efdc892f",
   "metadata": {},
   "outputs": [],
   "source": [
    "#changing the stratified dfs to making combining easier\n",
    "#first splitting dfs\n",
    "split_avg_abundance_stratified = avg_abundance_df_stratified %>%\n",
    "    group_by(Treatment) %>%\n",
    "    group_split()\n",
    "\n",
    "#adding treatment to the title\n",
    "coculture_exposed_avg_abundance = split_avg_abundance_stratified[[1]] %>%\n",
    "    select(-Treatment) %>%\n",
    "    rename(Coculture_Exposed.Avg_Abundance = Avg_Abundance_stratified)\n",
    "coculture_vehicle_avg_abundance = split_avg_abundance_stratified[[2]] %>%\n",
    "    select(-Treatment) %>%\n",
    "    rename(Coculture_Vehicle.Avg_Abundance = Avg_Abundance_stratified)\n",
    "triculture_exposed_avg_abundance = split_avg_abundance_stratified[[1]] %>%\n",
    "    select(-Treatment) %>%\n",
    "    rename(Triculture_Exposed.Avg_Abundance = Avg_Abundance_stratified)\n",
    "triculture_vehicle_avg_abundance = split_avg_abundance_stratified[[2]] %>%\n",
    "    select(-Treatment) %>%\n",
    "    rename(Triculture_Vehicle.Avg_Abundance = Avg_Abundance_stratified)\n",
    "\n",
    "head(coculture_exposed_avg_abundance)"
   ]
  },
  {
   "cell_type": "code",
   "execution_count": null,
   "id": "54169c00",
   "metadata": {},
   "outputs": [],
   "source": [
    "# combining into 1 abundance df\n",
    "stratified_abundance_df = inner_join(inner_join(coculture_exposed_avg_abundance, coculture_vehicle_avg_abundance), \n",
    "      inner_join(triculture_exposed_avg_abundance, triculture_vehicle_avg_abundance))\n",
    "abundance_df = inner_join(avg_abundance_df, stratified_abundance_df)\n",
    "\n",
    "head(abundance_df)"
   ]
  },
  {
   "cell_type": "code",
   "execution_count": null,
   "id": "f5a987b5",
   "metadata": {},
   "outputs": [],
   "source": [
    "# reformatting the t test df\n",
    "t_test_df %>%\n",
    "    # in order to separate using periods it must be specified as \"\\\\.\"\n",
    "    separate(Variable, c(\"Treatment\", \"Variable\"), sep = \"\\\\.\") %>%\n",
    "    # expanding the variable col\n",
    "    pivot_wider(names_from = \"Variable\", values_from = \"Value\")"
   ]
  },
  {
   "cell_type": "code",
   "execution_count": 32,
   "id": "800c1dcf",
   "metadata": {},
   "outputs": [
    {
     "name": "stderr",
     "output_type": "stream",
     "text": [
      "Using Protein as id variables\n",
      "\n"
     ]
    },
    {
     "data": {
      "text/html": [
       "<table class=\"dataframe\">\n",
       "<caption>A data.frame: 6 × 3</caption>\n",
       "<thead>\n",
       "\t<tr><th></th><th scope=col>Protein</th><th scope=col>Variable</th><th scope=col>Value</th></tr>\n",
       "\t<tr><th></th><th scope=col>&lt;chr&gt;</th><th scope=col>&lt;fct&gt;</th><th scope=col>&lt;dbl&gt;</th></tr>\n",
       "</thead>\n",
       "<tbody>\n",
       "\t<tr><th scope=row>1</th><td>A1L4H1                    </td><td>NA.Avg_Abundance</td><td> 120967180</td></tr>\n",
       "\t<tr><th scope=row>2</th><td>ENSEMBL.ENSBTAP00000006074</td><td>NA.Avg_Abundance</td><td> 592914915</td></tr>\n",
       "\t<tr><th scope=row>3</th><td>ENSEMBL.ENSBTAP00000007350</td><td>NA.Avg_Abundance</td><td>6573830475</td></tr>\n",
       "\t<tr><th scope=row>4</th><td>ENSEMBL.ENSBTAP00000011227</td><td>NA.Avg_Abundance</td><td>  45175441</td></tr>\n",
       "\t<tr><th scope=row>5</th><td>ENSEMBL.ENSBTAP00000013050</td><td>NA.Avg_Abundance</td><td> 340900160</td></tr>\n",
       "\t<tr><th scope=row>6</th><td>ENSEMBL.ENSBTAP00000014147</td><td>NA.Avg_Abundance</td><td> 165427820</td></tr>\n",
       "</tbody>\n",
       "</table>\n"
      ],
      "text/latex": [
       "A data.frame: 6 × 3\n",
       "\\begin{tabular}{r|lll}\n",
       "  & Protein & Variable & Value\\\\\n",
       "  & <chr> & <fct> & <dbl>\\\\\n",
       "\\hline\n",
       "\t1 & A1L4H1                     & NA.Avg\\_Abundance &  120967180\\\\\n",
       "\t2 & ENSEMBL.ENSBTAP00000006074 & NA.Avg\\_Abundance &  592914915\\\\\n",
       "\t3 & ENSEMBL.ENSBTAP00000007350 & NA.Avg\\_Abundance & 6573830475\\\\\n",
       "\t4 & ENSEMBL.ENSBTAP00000011227 & NA.Avg\\_Abundance &   45175441\\\\\n",
       "\t5 & ENSEMBL.ENSBTAP00000013050 & NA.Avg\\_Abundance &  340900160\\\\\n",
       "\t6 & ENSEMBL.ENSBTAP00000014147 & NA.Avg\\_Abundance &  165427820\\\\\n",
       "\\end{tabular}\n"
      ],
      "text/markdown": [
       "\n",
       "A data.frame: 6 × 3\n",
       "\n",
       "| <!--/--> | Protein &lt;chr&gt; | Variable &lt;fct&gt; | Value &lt;dbl&gt; |\n",
       "|---|---|---|---|\n",
       "| 1 | A1L4H1                     | NA.Avg_Abundance |  120967180 |\n",
       "| 2 | ENSEMBL.ENSBTAP00000006074 | NA.Avg_Abundance |  592914915 |\n",
       "| 3 | ENSEMBL.ENSBTAP00000007350 | NA.Avg_Abundance | 6573830475 |\n",
       "| 4 | ENSEMBL.ENSBTAP00000011227 | NA.Avg_Abundance |   45175441 |\n",
       "| 5 | ENSEMBL.ENSBTAP00000013050 | NA.Avg_Abundance |  340900160 |\n",
       "| 6 | ENSEMBL.ENSBTAP00000014147 | NA.Avg_Abundance |  165427820 |\n",
       "\n"
      ],
      "text/plain": [
       "  Protein                    Variable         Value     \n",
       "1 A1L4H1                     NA.Avg_Abundance  120967180\n",
       "2 ENSEMBL.ENSBTAP00000006074 NA.Avg_Abundance  592914915\n",
       "3 ENSEMBL.ENSBTAP00000007350 NA.Avg_Abundance 6573830475\n",
       "4 ENSEMBL.ENSBTAP00000011227 NA.Avg_Abundance   45175441\n",
       "5 ENSEMBL.ENSBTAP00000013050 NA.Avg_Abundance  340900160\n",
       "6 ENSEMBL.ENSBTAP00000014147 NA.Avg_Abundance  165427820"
      ]
     },
     "metadata": {},
     "output_type": "display_data"
    }
   ],
   "source": [
    "# # melting df so combining with other data frames is easier/ more clear\n",
    "# abundance_df = melt(abundance_df, variable.name = \"Variable\", value.name = \"Value\")\n",
    "# head(abundance_df)"
   ]
  },
  {
   "cell_type": "code",
   "execution_count": 45,
   "id": "8e2529fe",
   "metadata": {
    "scrolled": true
   },
   "outputs": [
    {
     "name": "stderr",
     "output_type": "stream",
     "text": [
      "\u001b[1m\u001b[22mJoining, by = \"Protein\"\n"
     ]
    },
    {
     "data": {
      "text/html": [
       "<table class=\"dataframe\">\n",
       "<caption>A tibble: 2 × 7</caption>\n",
       "<thead>\n",
       "\t<tr><th scope=col>Protein</th><th scope=col>Variable</th><th scope=col>Value</th><th scope=col>Gene.name</th><th scope=col>Description</th><th scope=col>GOCC.name</th><th scope=col>Contaminant</th></tr>\n",
       "\t<tr><th scope=col>&lt;chr&gt;</th><th scope=col>&lt;chr&gt;</th><th scope=col>&lt;dbl&gt;</th><th scope=col>&lt;chr&gt;</th><th scope=col>&lt;chr&gt;</th><th scope=col>&lt;chr&gt;</th><th scope=col>&lt;chr&gt;</th></tr>\n",
       "</thead>\n",
       "<tbody>\n",
       "\t<tr><td>P35555</td><td>CoCulture.log2FC   </td><td>0.4170353</td><td>FBN1</td><td>Fibrillin-1 OS=Homo sapiens OX=9606 GN=FBN1 PE=1 SV=4</td><td>basement membrane;extracellular matrix;extracellular matrix part;extracellular membrane-bounded organelle;extracellular organelle;extracellular region;extracellular region part;extracellular space;extracellular vesicular exosome;fibril;membrane-bounded organelle;membrane-bounded vesicle;microfibril;organelle;proteinaceous extracellular matrix;vesicle</td><td>-</td></tr>\n",
       "\t<tr><td>P35555</td><td>CoCulture.Statistic</td><td>1.6983966</td><td>FBN1</td><td>Fibrillin-1 OS=Homo sapiens OX=9606 GN=FBN1 PE=1 SV=4</td><td>basement membrane;extracellular matrix;extracellular matrix part;extracellular membrane-bounded organelle;extracellular organelle;extracellular region;extracellular region part;extracellular space;extracellular vesicular exosome;fibril;membrane-bounded organelle;membrane-bounded vesicle;microfibril;organelle;proteinaceous extracellular matrix;vesicle</td><td>-</td></tr>\n",
       "</tbody>\n",
       "</table>\n"
      ],
      "text/latex": [
       "A tibble: 2 × 7\n",
       "\\begin{tabular}{lllllll}\n",
       " Protein & Variable & Value & Gene.name & Description & GOCC.name & Contaminant\\\\\n",
       " <chr> & <chr> & <dbl> & <chr> & <chr> & <chr> & <chr>\\\\\n",
       "\\hline\n",
       "\t P35555 & CoCulture.log2FC    & 0.4170353 & FBN1 & Fibrillin-1 OS=Homo sapiens OX=9606 GN=FBN1 PE=1 SV=4 & basement membrane;extracellular matrix;extracellular matrix part;extracellular membrane-bounded organelle;extracellular organelle;extracellular region;extracellular region part;extracellular space;extracellular vesicular exosome;fibril;membrane-bounded organelle;membrane-bounded vesicle;microfibril;organelle;proteinaceous extracellular matrix;vesicle & -\\\\\n",
       "\t P35555 & CoCulture.Statistic & 1.6983966 & FBN1 & Fibrillin-1 OS=Homo sapiens OX=9606 GN=FBN1 PE=1 SV=4 & basement membrane;extracellular matrix;extracellular matrix part;extracellular membrane-bounded organelle;extracellular organelle;extracellular region;extracellular region part;extracellular space;extracellular vesicular exosome;fibril;membrane-bounded organelle;membrane-bounded vesicle;microfibril;organelle;proteinaceous extracellular matrix;vesicle & -\\\\\n",
       "\\end{tabular}\n"
      ],
      "text/markdown": [
       "\n",
       "A tibble: 2 × 7\n",
       "\n",
       "| Protein &lt;chr&gt; | Variable &lt;chr&gt; | Value &lt;dbl&gt; | Gene.name &lt;chr&gt; | Description &lt;chr&gt; | GOCC.name &lt;chr&gt; | Contaminant &lt;chr&gt; |\n",
       "|---|---|---|---|---|---|---|\n",
       "| P35555 | CoCulture.log2FC    | 0.4170353 | FBN1 | Fibrillin-1 OS=Homo sapiens OX=9606 GN=FBN1 PE=1 SV=4 | basement membrane;extracellular matrix;extracellular matrix part;extracellular membrane-bounded organelle;extracellular organelle;extracellular region;extracellular region part;extracellular space;extracellular vesicular exosome;fibril;membrane-bounded organelle;membrane-bounded vesicle;microfibril;organelle;proteinaceous extracellular matrix;vesicle | - |\n",
       "| P35555 | CoCulture.Statistic | 1.6983966 | FBN1 | Fibrillin-1 OS=Homo sapiens OX=9606 GN=FBN1 PE=1 SV=4 | basement membrane;extracellular matrix;extracellular matrix part;extracellular membrane-bounded organelle;extracellular organelle;extracellular region;extracellular region part;extracellular space;extracellular vesicular exosome;fibril;membrane-bounded organelle;membrane-bounded vesicle;microfibril;organelle;proteinaceous extracellular matrix;vesicle | - |\n",
       "\n"
      ],
      "text/plain": [
       "  Protein Variable            Value     Gene.name\n",
       "1 P35555  CoCulture.log2FC    0.4170353 FBN1     \n",
       "2 P35555  CoCulture.Statistic 1.6983966 FBN1     \n",
       "  Description                                          \n",
       "1 Fibrillin-1 OS=Homo sapiens OX=9606 GN=FBN1 PE=1 SV=4\n",
       "2 Fibrillin-1 OS=Homo sapiens OX=9606 GN=FBN1 PE=1 SV=4\n",
       "  GOCC.name                                                                                                                                                                                                                                                                                                                                                       \n",
       "1 basement membrane;extracellular matrix;extracellular matrix part;extracellular membrane-bounded organelle;extracellular organelle;extracellular region;extracellular region part;extracellular space;extracellular vesicular exosome;fibril;membrane-bounded organelle;membrane-bounded vesicle;microfibril;organelle;proteinaceous extracellular matrix;vesicle\n",
       "2 basement membrane;extracellular matrix;extracellular matrix part;extracellular membrane-bounded organelle;extracellular organelle;extracellular region;extracellular region part;extracellular space;extracellular vesicular exosome;fibril;membrane-bounded organelle;membrane-bounded vesicle;microfibril;organelle;proteinaceous extracellular matrix;vesicle\n",
       "  Contaminant\n",
       "1 -          \n",
       "2 -          "
      ]
     },
     "metadata": {},
     "output_type": "display_data"
    }
   ],
   "source": [
    "# combining into 1 df\n",
    "# statistical_df = rbind(t_test_df, abundance_df) \n",
    "# combined_df = left_join(statistical_df, protein_info_df)\n",
    "# combined_df[1:2,]"
   ]
  },
  {
   "cell_type": "code",
   "execution_count": 15,
   "id": "eeb1e543",
   "metadata": {},
   "outputs": [],
   "source": [
    "# exporting\n",
    "write.csv(final_df, paste0(Output,\"/\", cur_date, \"_Distribution_Analysis_All_Data.csv\"), row.names = FALSE)"
   ]
  },
  {
   "cell_type": "code",
   "execution_count": null,
   "id": "5e6afcb4",
   "metadata": {},
   "outputs": [],
   "source": []
  }
 ],
 "metadata": {
  "kernelspec": {
   "display_name": "R",
   "language": "R",
   "name": "ir"
  },
  "language_info": {
   "codemirror_mode": "r",
   "file_extension": ".r",
   "mimetype": "text/x-r-source",
   "name": "R",
   "pygments_lexer": "r",
   "version": "4.1.2"
  }
 },
 "nbformat": 4,
 "nbformat_minor": 5
}
