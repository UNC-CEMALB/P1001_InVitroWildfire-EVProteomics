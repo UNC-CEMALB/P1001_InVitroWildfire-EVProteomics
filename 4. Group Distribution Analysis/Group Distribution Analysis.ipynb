{
 "cells": [
  {
   "cell_type": "code",
   "execution_count": 1,
   "id": "2435c81d",
   "metadata": {},
   "outputs": [
    {
     "name": "stderr",
     "output_type": "stream",
     "text": [
      "── \u001b[1mAttaching packages\u001b[22m ─────────────────────────────────────── tidyverse 1.3.1 ──\n",
      "\n",
      "\u001b[32m✔\u001b[39m \u001b[34mggplot2\u001b[39m 3.3.5     \u001b[32m✔\u001b[39m \u001b[34mpurrr  \u001b[39m 0.3.4\n",
      "\u001b[32m✔\u001b[39m \u001b[34mtibble \u001b[39m 3.1.6     \u001b[32m✔\u001b[39m \u001b[34mdplyr  \u001b[39m 1.0.8\n",
      "\u001b[32m✔\u001b[39m \u001b[34mtidyr  \u001b[39m 1.2.0     \u001b[32m✔\u001b[39m \u001b[34mstringr\u001b[39m 1.4.0\n",
      "\u001b[32m✔\u001b[39m \u001b[34mreadr  \u001b[39m 2.1.2     \u001b[32m✔\u001b[39m \u001b[34mforcats\u001b[39m 0.5.1\n",
      "\n",
      "── \u001b[1mConflicts\u001b[22m ────────────────────────────────────────── tidyverse_conflicts() ──\n",
      "\u001b[31m✖\u001b[39m \u001b[34mdplyr\u001b[39m::\u001b[32mfilter()\u001b[39m masks \u001b[34mstats\u001b[39m::filter()\n",
      "\u001b[31m✖\u001b[39m \u001b[34mdplyr\u001b[39m::\u001b[32mlag()\u001b[39m    masks \u001b[34mstats\u001b[39m::lag()\n",
      "\n"
     ]
    }
   ],
   "source": [
    "setwd('/Users/alexis/Library/CloudStorage/OneDrive-UniversityofNorthCarolinaatChapelHill/CEMALB_DataAnalysisPM/Projects/P1001. InVitroWildfire EVProteomics/P1001.3. Analyses/P1001.3.5. Group Distribution Analysis/Input')\n",
    "Output = ('/Users/alexis/Library/CloudStorage/OneDrive-UniversityofNorthCarolinaatChapelHill/CEMALB_DataAnalysisPM/Projects/P1001. InVitroWildfire EVProteomics/P1001.3. Analyses/P1001.3.5. Group Distribution Analysis/Output')\n",
    "cur_date = \"042222\"\n",
    "\n",
    "library(readxl)\n",
    "library(tidyverse)\n",
    "\n",
    "\n",
    "#reading in file\n",
    "proteomics_df = data.frame(read_excel(\"041822_Imputed_Proteomics_Data.xlsx\"))"
   ]
  },
  {
   "cell_type": "code",
   "execution_count": 2,
   "id": "d6772e95",
   "metadata": {},
   "outputs": [
    {
     "data": {
      "text/html": [
       "<table class=\"dataframe\">\n",
       "<caption>A data.frame: 6 × 5</caption>\n",
       "<thead>\n",
       "\t<tr><th></th><th scope=col>ID</th><th scope=col>Set</th><th scope=col>Treatment</th><th scope=col>Protein</th><th scope=col>Value</th></tr>\n",
       "\t<tr><th></th><th scope=col>&lt;chr&gt;</th><th scope=col>&lt;chr&gt;</th><th scope=col>&lt;chr&gt;</th><th scope=col>&lt;chr&gt;</th><th scope=col>&lt;dbl&gt;</th></tr>\n",
       "</thead>\n",
       "<tbody>\n",
       "\t<tr><th scope=row>1</th><td>CoCulture_Exposed1</td><td>Set1</td><td>CoCulture_Exposed</td><td>P19012</td><td> 476617.6</td></tr>\n",
       "\t<tr><th scope=row>2</th><td>CoCulture_Exposed1</td><td>Set1</td><td>CoCulture_Exposed</td><td>P19013</td><td>1077007.5</td></tr>\n",
       "\t<tr><th scope=row>3</th><td>CoCulture_Exposed1</td><td>Set1</td><td>CoCulture_Exposed</td><td>O43897</td><td>2245997.6</td></tr>\n",
       "\t<tr><th scope=row>4</th><td>CoCulture_Exposed1</td><td>Set1</td><td>CoCulture_Exposed</td><td>P20700</td><td>2388716.6</td></tr>\n",
       "\t<tr><th scope=row>5</th><td>CoCulture_Exposed1</td><td>Set1</td><td>CoCulture_Exposed</td><td>P22102</td><td>1790626.6</td></tr>\n",
       "\t<tr><th scope=row>6</th><td>CoCulture_Exposed1</td><td>Set1</td><td>CoCulture_Exposed</td><td>O75367</td><td> 874143.2</td></tr>\n",
       "</tbody>\n",
       "</table>\n"
      ],
      "text/latex": [
       "A data.frame: 6 × 5\n",
       "\\begin{tabular}{r|lllll}\n",
       "  & ID & Set & Treatment & Protein & Value\\\\\n",
       "  & <chr> & <chr> & <chr> & <chr> & <dbl>\\\\\n",
       "\\hline\n",
       "\t1 & CoCulture\\_Exposed1 & Set1 & CoCulture\\_Exposed & P19012 &  476617.6\\\\\n",
       "\t2 & CoCulture\\_Exposed1 & Set1 & CoCulture\\_Exposed & P19013 & 1077007.5\\\\\n",
       "\t3 & CoCulture\\_Exposed1 & Set1 & CoCulture\\_Exposed & O43897 & 2245997.6\\\\\n",
       "\t4 & CoCulture\\_Exposed1 & Set1 & CoCulture\\_Exposed & P20700 & 2388716.6\\\\\n",
       "\t5 & CoCulture\\_Exposed1 & Set1 & CoCulture\\_Exposed & P22102 & 1790626.6\\\\\n",
       "\t6 & CoCulture\\_Exposed1 & Set1 & CoCulture\\_Exposed & O75367 &  874143.2\\\\\n",
       "\\end{tabular}\n"
      ],
      "text/markdown": [
       "\n",
       "A data.frame: 6 × 5\n",
       "\n",
       "| <!--/--> | ID &lt;chr&gt; | Set &lt;chr&gt; | Treatment &lt;chr&gt; | Protein &lt;chr&gt; | Value &lt;dbl&gt; |\n",
       "|---|---|---|---|---|---|\n",
       "| 1 | CoCulture_Exposed1 | Set1 | CoCulture_Exposed | P19012 |  476617.6 |\n",
       "| 2 | CoCulture_Exposed1 | Set1 | CoCulture_Exposed | P19013 | 1077007.5 |\n",
       "| 3 | CoCulture_Exposed1 | Set1 | CoCulture_Exposed | O43897 | 2245997.6 |\n",
       "| 4 | CoCulture_Exposed1 | Set1 | CoCulture_Exposed | P20700 | 2388716.6 |\n",
       "| 5 | CoCulture_Exposed1 | Set1 | CoCulture_Exposed | P22102 | 1790626.6 |\n",
       "| 6 | CoCulture_Exposed1 | Set1 | CoCulture_Exposed | O75367 |  874143.2 |\n",
       "\n"
      ],
      "text/plain": [
       "  ID                 Set  Treatment         Protein Value    \n",
       "1 CoCulture_Exposed1 Set1 CoCulture_Exposed P19012   476617.6\n",
       "2 CoCulture_Exposed1 Set1 CoCulture_Exposed P19013  1077007.5\n",
       "3 CoCulture_Exposed1 Set1 CoCulture_Exposed O43897  2245997.6\n",
       "4 CoCulture_Exposed1 Set1 CoCulture_Exposed P20700  2388716.6\n",
       "5 CoCulture_Exposed1 Set1 CoCulture_Exposed P22102  1790626.6\n",
       "6 CoCulture_Exposed1 Set1 CoCulture_Exposed O75367   874143.2"
      ]
     },
     "metadata": {},
     "output_type": "display_data"
    }
   ],
   "source": [
    "head(proteomics_df)"
   ]
  },
  {
   "cell_type": "code",
   "execution_count": 3,
   "id": "b609515d",
   "metadata": {},
   "outputs": [
    {
     "data": {
      "text/html": [
       "<table class=\"dataframe\">\n",
       "<caption>A data.frame: 6 × 6</caption>\n",
       "<thead>\n",
       "\t<tr><th></th><th scope=col>ID</th><th scope=col>Set</th><th scope=col>Treatment</th><th scope=col>Exposure</th><th scope=col>Protein</th><th scope=col>Value</th></tr>\n",
       "\t<tr><th></th><th scope=col>&lt;chr&gt;</th><th scope=col>&lt;chr&gt;</th><th scope=col>&lt;chr&gt;</th><th scope=col>&lt;chr&gt;</th><th scope=col>&lt;chr&gt;</th><th scope=col>&lt;dbl&gt;</th></tr>\n",
       "</thead>\n",
       "<tbody>\n",
       "\t<tr><th scope=row>1</th><td>CoCulture_Exposed1</td><td>Set1</td><td>CoCulture</td><td>Exposed</td><td>P19012</td><td> 476617.6</td></tr>\n",
       "\t<tr><th scope=row>2</th><td>CoCulture_Exposed1</td><td>Set1</td><td>CoCulture</td><td>Exposed</td><td>P19013</td><td>1077007.5</td></tr>\n",
       "\t<tr><th scope=row>3</th><td>CoCulture_Exposed1</td><td>Set1</td><td>CoCulture</td><td>Exposed</td><td>O43897</td><td>2245997.6</td></tr>\n",
       "\t<tr><th scope=row>4</th><td>CoCulture_Exposed1</td><td>Set1</td><td>CoCulture</td><td>Exposed</td><td>P20700</td><td>2388716.6</td></tr>\n",
       "\t<tr><th scope=row>5</th><td>CoCulture_Exposed1</td><td>Set1</td><td>CoCulture</td><td>Exposed</td><td>P22102</td><td>1790626.6</td></tr>\n",
       "\t<tr><th scope=row>6</th><td>CoCulture_Exposed1</td><td>Set1</td><td>CoCulture</td><td>Exposed</td><td>O75367</td><td> 874143.2</td></tr>\n",
       "</tbody>\n",
       "</table>\n"
      ],
      "text/latex": [
       "A data.frame: 6 × 6\n",
       "\\begin{tabular}{r|llllll}\n",
       "  & ID & Set & Treatment & Exposure & Protein & Value\\\\\n",
       "  & <chr> & <chr> & <chr> & <chr> & <chr> & <dbl>\\\\\n",
       "\\hline\n",
       "\t1 & CoCulture\\_Exposed1 & Set1 & CoCulture & Exposed & P19012 &  476617.6\\\\\n",
       "\t2 & CoCulture\\_Exposed1 & Set1 & CoCulture & Exposed & P19013 & 1077007.5\\\\\n",
       "\t3 & CoCulture\\_Exposed1 & Set1 & CoCulture & Exposed & O43897 & 2245997.6\\\\\n",
       "\t4 & CoCulture\\_Exposed1 & Set1 & CoCulture & Exposed & P20700 & 2388716.6\\\\\n",
       "\t5 & CoCulture\\_Exposed1 & Set1 & CoCulture & Exposed & P22102 & 1790626.6\\\\\n",
       "\t6 & CoCulture\\_Exposed1 & Set1 & CoCulture & Exposed & O75367 &  874143.2\\\\\n",
       "\\end{tabular}\n"
      ],
      "text/markdown": [
       "\n",
       "A data.frame: 6 × 6\n",
       "\n",
       "| <!--/--> | ID &lt;chr&gt; | Set &lt;chr&gt; | Treatment &lt;chr&gt; | Exposure &lt;chr&gt; | Protein &lt;chr&gt; | Value &lt;dbl&gt; |\n",
       "|---|---|---|---|---|---|---|\n",
       "| 1 | CoCulture_Exposed1 | Set1 | CoCulture | Exposed | P19012 |  476617.6 |\n",
       "| 2 | CoCulture_Exposed1 | Set1 | CoCulture | Exposed | P19013 | 1077007.5 |\n",
       "| 3 | CoCulture_Exposed1 | Set1 | CoCulture | Exposed | O43897 | 2245997.6 |\n",
       "| 4 | CoCulture_Exposed1 | Set1 | CoCulture | Exposed | P20700 | 2388716.6 |\n",
       "| 5 | CoCulture_Exposed1 | Set1 | CoCulture | Exposed | P22102 | 1790626.6 |\n",
       "| 6 | CoCulture_Exposed1 | Set1 | CoCulture | Exposed | O75367 |  874143.2 |\n",
       "\n"
      ],
      "text/plain": [
       "  ID                 Set  Treatment Exposure Protein Value    \n",
       "1 CoCulture_Exposed1 Set1 CoCulture Exposed  P19012   476617.6\n",
       "2 CoCulture_Exposed1 Set1 CoCulture Exposed  P19013  1077007.5\n",
       "3 CoCulture_Exposed1 Set1 CoCulture Exposed  O43897  2245997.6\n",
       "4 CoCulture_Exposed1 Set1 CoCulture Exposed  P20700  2388716.6\n",
       "5 CoCulture_Exposed1 Set1 CoCulture Exposed  P22102  1790626.6\n",
       "6 CoCulture_Exposed1 Set1 CoCulture Exposed  O75367   874143.2"
      ]
     },
     "metadata": {},
     "output_type": "display_data"
    }
   ],
   "source": [
    "proteomics_df = proteomics_df %>%\n",
    "    #just want a column that specifies the treatment and exposure separately\n",
    "    separate(Treatment, c(\"Treatment\", \"Exposure\"), sep = \"_\") \n",
    "\n",
    "head(proteomics_df)"
   ]
  },
  {
   "cell_type": "code",
   "execution_count": 4,
   "id": "e9e81f3a",
   "metadata": {},
   "outputs": [
    {
     "data": {
      "text/html": [
       "<table class=\"dataframe\">\n",
       "<caption>A tibble: 6 × 6</caption>\n",
       "<thead>\n",
       "\t<tr><th scope=col>ID</th><th scope=col>Set</th><th scope=col>Treatment</th><th scope=col>Exposure</th><th scope=col>Protein</th><th scope=col>Value</th></tr>\n",
       "\t<tr><th scope=col>&lt;chr&gt;</th><th scope=col>&lt;chr&gt;</th><th scope=col>&lt;chr&gt;</th><th scope=col>&lt;chr&gt;</th><th scope=col>&lt;chr&gt;</th><th scope=col>&lt;dbl&gt;</th></tr>\n",
       "</thead>\n",
       "<tbody>\n",
       "\t<tr><td>CoCulture_Exposed1</td><td>Set1</td><td>CoCulture</td><td>Exposed</td><td>P19012</td><td> 476617.6</td></tr>\n",
       "\t<tr><td>CoCulture_Exposed1</td><td>Set1</td><td>CoCulture</td><td>Exposed</td><td>P19013</td><td>1077007.5</td></tr>\n",
       "\t<tr><td>CoCulture_Exposed1</td><td>Set1</td><td>CoCulture</td><td>Exposed</td><td>O43897</td><td>2245997.6</td></tr>\n",
       "\t<tr><td>CoCulture_Exposed1</td><td>Set1</td><td>CoCulture</td><td>Exposed</td><td>P20700</td><td>2388716.6</td></tr>\n",
       "\t<tr><td>CoCulture_Exposed1</td><td>Set1</td><td>CoCulture</td><td>Exposed</td><td>P22102</td><td>1790626.6</td></tr>\n",
       "\t<tr><td>CoCulture_Exposed1</td><td>Set1</td><td>CoCulture</td><td>Exposed</td><td>O75367</td><td> 874143.2</td></tr>\n",
       "</tbody>\n",
       "</table>\n"
      ],
      "text/latex": [
       "A tibble: 6 × 6\n",
       "\\begin{tabular}{llllll}\n",
       " ID & Set & Treatment & Exposure & Protein & Value\\\\\n",
       " <chr> & <chr> & <chr> & <chr> & <chr> & <dbl>\\\\\n",
       "\\hline\n",
       "\t CoCulture\\_Exposed1 & Set1 & CoCulture & Exposed & P19012 &  476617.6\\\\\n",
       "\t CoCulture\\_Exposed1 & Set1 & CoCulture & Exposed & P19013 & 1077007.5\\\\\n",
       "\t CoCulture\\_Exposed1 & Set1 & CoCulture & Exposed & O43897 & 2245997.6\\\\\n",
       "\t CoCulture\\_Exposed1 & Set1 & CoCulture & Exposed & P20700 & 2388716.6\\\\\n",
       "\t CoCulture\\_Exposed1 & Set1 & CoCulture & Exposed & P22102 & 1790626.6\\\\\n",
       "\t CoCulture\\_Exposed1 & Set1 & CoCulture & Exposed & O75367 &  874143.2\\\\\n",
       "\\end{tabular}\n"
      ],
      "text/markdown": [
       "\n",
       "A tibble: 6 × 6\n",
       "\n",
       "| ID &lt;chr&gt; | Set &lt;chr&gt; | Treatment &lt;chr&gt; | Exposure &lt;chr&gt; | Protein &lt;chr&gt; | Value &lt;dbl&gt; |\n",
       "|---|---|---|---|---|---|\n",
       "| CoCulture_Exposed1 | Set1 | CoCulture | Exposed | P19012 |  476617.6 |\n",
       "| CoCulture_Exposed1 | Set1 | CoCulture | Exposed | P19013 | 1077007.5 |\n",
       "| CoCulture_Exposed1 | Set1 | CoCulture | Exposed | O43897 | 2245997.6 |\n",
       "| CoCulture_Exposed1 | Set1 | CoCulture | Exposed | P20700 | 2388716.6 |\n",
       "| CoCulture_Exposed1 | Set1 | CoCulture | Exposed | P22102 | 1790626.6 |\n",
       "| CoCulture_Exposed1 | Set1 | CoCulture | Exposed | O75367 |  874143.2 |\n",
       "\n"
      ],
      "text/plain": [
       "  ID                 Set  Treatment Exposure Protein Value    \n",
       "1 CoCulture_Exposed1 Set1 CoCulture Exposed  P19012   476617.6\n",
       "2 CoCulture_Exposed1 Set1 CoCulture Exposed  P19013  1077007.5\n",
       "3 CoCulture_Exposed1 Set1 CoCulture Exposed  O43897  2245997.6\n",
       "4 CoCulture_Exposed1 Set1 CoCulture Exposed  P20700  2388716.6\n",
       "5 CoCulture_Exposed1 Set1 CoCulture Exposed  P22102  1790626.6\n",
       "6 CoCulture_Exposed1 Set1 CoCulture Exposed  O75367   874143.2"
      ]
     },
     "metadata": {},
     "output_type": "display_data"
    }
   ],
   "source": [
    "#explain why I split this\n",
    "proteomics_df_split = proteomics_df %>%\n",
    "    group_by(Set) %>%\n",
    "    group_split()\n",
    "\n",
    "set1_proteomics_df = proteomics_df_split[[1]]\n",
    "set2_proteomics_df = proteomics_df_split[[2]]\n",
    "\n",
    "head(set1_proteomics_df)"
   ]
  },
  {
   "cell_type": "markdown",
   "id": "e9be1db6",
   "metadata": {},
   "source": [
    "Running t tests to determine if there are statistically significant distribution differences in co-culture unexposed vs. exposed and tri-culture unexposed vs. exposed. "
   ]
  },
  {
   "cell_type": "code",
   "execution_count": 5,
   "id": "9b6930b4",
   "metadata": {},
   "outputs": [],
   "source": [
    "t_test_values = function(df, set_id){\n",
    "    #\"\"\"\n",
    "    #Running t tests after filtering for set, treatment, exposure, and protein using a loop. \n",
    "    #Ultimately using this test to compare proteins (unexposed vs. exposed).\n",
    "\n",
    "    #:param: subsetted dataframe, empty dataframe\n",
    "    #:output: a dataframe containing the set, treatment, exposure, protein, u stat, p value, p adj\n",
    "\n",
    "    #\"\"\"\n",
    "    treatments = unique(df$Treatment)\n",
    "    proteins = unique(df$Protein)\n",
    "    \n",
    "    values_df = data.frame()\n",
    "    #iterating through each tx, protein\n",
    "\n",
    "    for(i in 1:length(treatments)){\n",
    "        for(j in 1:length(proteins)){\n",
    "            #unexposed df\n",
    "            unexposed_df = df %>%\n",
    "                filter(Treatment == treatments[i], Exposure == \"Vehicle\", Protein == proteins[j])\n",
    "            #exposed df\n",
    "            exposed_df = df %>%\n",
    "                filter(Treatment == treatments[i], Exposure == \"Exposed\", Protein == proteins[j])\n",
    "\n",
    "            #t test\n",
    "            t_test = t.test(unexposed_df$Value, exposed_df$Value)\n",
    "            \n",
    "            #calculating FC to get directionality\n",
    "            FC = log2(mean(unexposed_df$Value)/mean(exposed_df$Value))\n",
    "\n",
    "            #contains smoking status compared, compartment, cytokine, u stat, and p value\n",
    "            values_vector = cbind(set_id, treatments[i], proteins[j], FC, t_test$statistic, t_test$p.value)\n",
    "            values_df = rbind(values_df, values_vector)\n",
    "            }\n",
    "        }\n",
    "\n",
    "    \n",
    "    #adding col names\n",
    "    colnames(values_df) = c(\"Set\", \"Treatment\", \"Protein\", \"log2 FC\", \"Statistic\", \"P Value\")\n",
    "    \n",
    "    \n",
    "    #calculating padj values\n",
    "    padj_vector = c()\n",
    "    #adjusting within each treatment\n",
    "    for (i in 1:length(treatments)){\n",
    "        `P Adj` = p.adjust(as.numeric(as.character(values_df$`P Value`)), method = \"fdr\")\n",
    "        padj_vector = c(padj_vector, `P Adj`)\n",
    "    }\n",
    "    \n",
    "    values_df = cbind(values_df, padj_vector) %>%\n",
    "        rename(`P Adj` = padj_vector)\n",
    "    \n",
    "    return(values_df)\n",
    "}"
   ]
  },
  {
   "cell_type": "code",
   "execution_count": 6,
   "id": "ed469849",
   "metadata": {},
   "outputs": [],
   "source": [
    "# calling fn\n",
    "set1_t_test = t_test_values(set1_proteomics_df, \"Set1\")\n",
    "set2_t_test = t_test_values(set2_proteomics_df, \"Set2\")"
   ]
  },
  {
   "cell_type": "code",
   "execution_count": 7,
   "id": "126ffaca",
   "metadata": {},
   "outputs": [
    {
     "data": {
      "text/html": [
       "<table class=\"dataframe\">\n",
       "<caption>A data.frame: 6 × 6</caption>\n",
       "<thead>\n",
       "\t<tr><th></th><th scope=col>Set</th><th scope=col>Treatment</th><th scope=col>Protein</th><th scope=col>Statistic</th><th scope=col>P Value</th><th scope=col>P Adj</th></tr>\n",
       "\t<tr><th></th><th scope=col>&lt;chr&gt;</th><th scope=col>&lt;chr&gt;</th><th scope=col>&lt;chr&gt;</th><th scope=col>&lt;chr&gt;</th><th scope=col>&lt;chr&gt;</th><th scope=col>&lt;dbl&gt;</th></tr>\n",
       "</thead>\n",
       "<tbody>\n",
       "\t<tr><th scope=row>t</th><td>Set1</td><td>CoCulture</td><td>P19012</td><td>0.60331489149206  </td><td>0.567224863429138</td><td>0.8207093</td></tr>\n",
       "\t<tr><th scope=row>t1</th><td>Set1</td><td>CoCulture</td><td>P19013</td><td>-0.139436949314188</td><td>0.893842444121871</td><td>0.9672176</td></tr>\n",
       "\t<tr><th scope=row>t2</th><td>Set1</td><td>CoCulture</td><td>O43897</td><td>-1.28817058222099 </td><td>0.241597197697623</td><td>0.7149305</td></tr>\n",
       "\t<tr><th scope=row>t3</th><td>Set1</td><td>CoCulture</td><td>P20700</td><td>-0.401101776101729</td><td>0.698456072213535</td><td>0.8649296</td></tr>\n",
       "\t<tr><th scope=row>t4</th><td>Set1</td><td>CoCulture</td><td>P22102</td><td>1.09076873867442  </td><td>0.311878044109208</td><td>0.7329387</td></tr>\n",
       "\t<tr><th scope=row>t5</th><td>Set1</td><td>CoCulture</td><td>O75367</td><td>-0.603646331227886</td><td>0.563303637544858</td><td>0.8186874</td></tr>\n",
       "</tbody>\n",
       "</table>\n"
      ],
      "text/latex": [
       "A data.frame: 6 × 6\n",
       "\\begin{tabular}{r|llllll}\n",
       "  & Set & Treatment & Protein & Statistic & P Value & P Adj\\\\\n",
       "  & <chr> & <chr> & <chr> & <chr> & <chr> & <dbl>\\\\\n",
       "\\hline\n",
       "\tt & Set1 & CoCulture & P19012 & 0.60331489149206   & 0.567224863429138 & 0.8207093\\\\\n",
       "\tt1 & Set1 & CoCulture & P19013 & -0.139436949314188 & 0.893842444121871 & 0.9672176\\\\\n",
       "\tt2 & Set1 & CoCulture & O43897 & -1.28817058222099  & 0.241597197697623 & 0.7149305\\\\\n",
       "\tt3 & Set1 & CoCulture & P20700 & -0.401101776101729 & 0.698456072213535 & 0.8649296\\\\\n",
       "\tt4 & Set1 & CoCulture & P22102 & 1.09076873867442   & 0.311878044109208 & 0.7329387\\\\\n",
       "\tt5 & Set1 & CoCulture & O75367 & -0.603646331227886 & 0.563303637544858 & 0.8186874\\\\\n",
       "\\end{tabular}\n"
      ],
      "text/markdown": [
       "\n",
       "A data.frame: 6 × 6\n",
       "\n",
       "| <!--/--> | Set &lt;chr&gt; | Treatment &lt;chr&gt; | Protein &lt;chr&gt; | Statistic &lt;chr&gt; | P Value &lt;chr&gt; | P Adj &lt;dbl&gt; |\n",
       "|---|---|---|---|---|---|---|\n",
       "| t | Set1 | CoCulture | P19012 | 0.60331489149206   | 0.567224863429138 | 0.8207093 |\n",
       "| t1 | Set1 | CoCulture | P19013 | -0.139436949314188 | 0.893842444121871 | 0.9672176 |\n",
       "| t2 | Set1 | CoCulture | O43897 | -1.28817058222099  | 0.241597197697623 | 0.7149305 |\n",
       "| t3 | Set1 | CoCulture | P20700 | -0.401101776101729 | 0.698456072213535 | 0.8649296 |\n",
       "| t4 | Set1 | CoCulture | P22102 | 1.09076873867442   | 0.311878044109208 | 0.7329387 |\n",
       "| t5 | Set1 | CoCulture | O75367 | -0.603646331227886 | 0.563303637544858 | 0.8186874 |\n",
       "\n"
      ],
      "text/plain": [
       "   Set  Treatment Protein Statistic          P Value           P Adj    \n",
       "t  Set1 CoCulture P19012  0.60331489149206   0.567224863429138 0.8207093\n",
       "t1 Set1 CoCulture P19013  -0.139436949314188 0.893842444121871 0.9672176\n",
       "t2 Set1 CoCulture O43897  -1.28817058222099  0.241597197697623 0.7149305\n",
       "t3 Set1 CoCulture P20700  -0.401101776101729 0.698456072213535 0.8649296\n",
       "t4 Set1 CoCulture P22102  1.09076873867442   0.311878044109208 0.7329387\n",
       "t5 Set1 CoCulture O75367  -0.603646331227886 0.563303637544858 0.8186874"
      ]
     },
     "metadata": {},
     "output_type": "display_data"
    }
   ],
   "source": [
    "# creating 1 df\n",
    "t_test_df = rbind(set1_t_test, set2_t_test)\n",
    "head(t_test_df)"
   ]
  },
  {
   "cell_type": "code",
   "execution_count": 3,
   "id": "dc459342",
   "metadata": {},
   "outputs": [
    {
     "name": "stderr",
     "output_type": "stream",
     "text": [
      "\u001b[1m\u001b[22m`summarise()` has grouped output by 'Set'. You can override using the `.groups`\n",
      "argument.\n",
      "\u001b[1m\u001b[22m`summarise()` has grouped output by 'Set', 'Treatment'. You can override using\n",
      "the `.groups` argument.\n"
     ]
    },
    {
     "data": {
      "text/html": [
       "<table class=\"dataframe\">\n",
       "<caption>A grouped_df: 6 × 3</caption>\n",
       "<thead>\n",
       "\t<tr><th scope=col>Set</th><th scope=col>Protein</th><th scope=col>Avg_Abundance</th></tr>\n",
       "\t<tr><th scope=col>&lt;chr&gt;</th><th scope=col>&lt;chr&gt;</th><th scope=col>&lt;dbl&gt;</th></tr>\n",
       "</thead>\n",
       "<tbody>\n",
       "\t<tr><td>Set1</td><td>A0A096LP49</td><td>51897126</td></tr>\n",
       "\t<tr><td>Set1</td><td>A0A2R8Y4Y8</td><td> 1745284</td></tr>\n",
       "\t<tr><td>Set1</td><td>A1L4H1    </td><td>19473534</td></tr>\n",
       "\t<tr><td>Set1</td><td>A2I7N0    </td><td>62531054</td></tr>\n",
       "\t<tr><td>Set1</td><td>A2I7N1    </td><td>12761148</td></tr>\n",
       "\t<tr><td>Set1</td><td>A2I7N3    </td><td>71043165</td></tr>\n",
       "</tbody>\n",
       "</table>\n"
      ],
      "text/latex": [
       "A grouped\\_df: 6 × 3\n",
       "\\begin{tabular}{lll}\n",
       " Set & Protein & Avg\\_Abundance\\\\\n",
       " <chr> & <chr> & <dbl>\\\\\n",
       "\\hline\n",
       "\t Set1 & A0A096LP49 & 51897126\\\\\n",
       "\t Set1 & A0A2R8Y4Y8 &  1745284\\\\\n",
       "\t Set1 & A1L4H1     & 19473534\\\\\n",
       "\t Set1 & A2I7N0     & 62531054\\\\\n",
       "\t Set1 & A2I7N1     & 12761148\\\\\n",
       "\t Set1 & A2I7N3     & 71043165\\\\\n",
       "\\end{tabular}\n"
      ],
      "text/markdown": [
       "\n",
       "A grouped_df: 6 × 3\n",
       "\n",
       "| Set &lt;chr&gt; | Protein &lt;chr&gt; | Avg_Abundance &lt;dbl&gt; |\n",
       "|---|---|---|\n",
       "| Set1 | A0A096LP49 | 51897126 |\n",
       "| Set1 | A0A2R8Y4Y8 |  1745284 |\n",
       "| Set1 | A1L4H1     | 19473534 |\n",
       "| Set1 | A2I7N0     | 62531054 |\n",
       "| Set1 | A2I7N1     | 12761148 |\n",
       "| Set1 | A2I7N3     | 71043165 |\n",
       "\n"
      ],
      "text/plain": [
       "  Set  Protein    Avg_Abundance\n",
       "1 Set1 A0A096LP49 51897126     \n",
       "2 Set1 A0A2R8Y4Y8  1745284     \n",
       "3 Set1 A1L4H1     19473534     \n",
       "4 Set1 A2I7N0     62531054     \n",
       "5 Set1 A2I7N1     12761148     \n",
       "6 Set1 A2I7N3     71043165     "
      ]
     },
     "metadata": {},
     "output_type": "display_data"
    },
    {
     "data": {
      "text/html": [
       "<table class=\"dataframe\">\n",
       "<caption>A grouped_df: 6 × 4</caption>\n",
       "<thead>\n",
       "\t<tr><th scope=col>Set</th><th scope=col>Treatment</th><th scope=col>Protein</th><th scope=col>Avg_Abundance_stratified</th></tr>\n",
       "\t<tr><th scope=col>&lt;chr&gt;</th><th scope=col>&lt;chr&gt;</th><th scope=col>&lt;chr&gt;</th><th scope=col>&lt;dbl&gt;</th></tr>\n",
       "</thead>\n",
       "<tbody>\n",
       "\t<tr><td>Set1</td><td>CoCulture_Exposed</td><td>A0A096LP49</td><td>50430413</td></tr>\n",
       "\t<tr><td>Set1</td><td>CoCulture_Exposed</td><td>A0A2R8Y4Y8</td><td> 1547459</td></tr>\n",
       "\t<tr><td>Set1</td><td>CoCulture_Exposed</td><td>A1L4H1    </td><td>14958036</td></tr>\n",
       "\t<tr><td>Set1</td><td>CoCulture_Exposed</td><td>A2I7N0    </td><td>69348055</td></tr>\n",
       "\t<tr><td>Set1</td><td>CoCulture_Exposed</td><td>A2I7N1    </td><td>14022002</td></tr>\n",
       "\t<tr><td>Set1</td><td>CoCulture_Exposed</td><td>A2I7N3    </td><td>76870390</td></tr>\n",
       "</tbody>\n",
       "</table>\n"
      ],
      "text/latex": [
       "A grouped\\_df: 6 × 4\n",
       "\\begin{tabular}{llll}\n",
       " Set & Treatment & Protein & Avg\\_Abundance\\_stratified\\\\\n",
       " <chr> & <chr> & <chr> & <dbl>\\\\\n",
       "\\hline\n",
       "\t Set1 & CoCulture\\_Exposed & A0A096LP49 & 50430413\\\\\n",
       "\t Set1 & CoCulture\\_Exposed & A0A2R8Y4Y8 &  1547459\\\\\n",
       "\t Set1 & CoCulture\\_Exposed & A1L4H1     & 14958036\\\\\n",
       "\t Set1 & CoCulture\\_Exposed & A2I7N0     & 69348055\\\\\n",
       "\t Set1 & CoCulture\\_Exposed & A2I7N1     & 14022002\\\\\n",
       "\t Set1 & CoCulture\\_Exposed & A2I7N3     & 76870390\\\\\n",
       "\\end{tabular}\n"
      ],
      "text/markdown": [
       "\n",
       "A grouped_df: 6 × 4\n",
       "\n",
       "| Set &lt;chr&gt; | Treatment &lt;chr&gt; | Protein &lt;chr&gt; | Avg_Abundance_stratified &lt;dbl&gt; |\n",
       "|---|---|---|---|\n",
       "| Set1 | CoCulture_Exposed | A0A096LP49 | 50430413 |\n",
       "| Set1 | CoCulture_Exposed | A0A2R8Y4Y8 |  1547459 |\n",
       "| Set1 | CoCulture_Exposed | A1L4H1     | 14958036 |\n",
       "| Set1 | CoCulture_Exposed | A2I7N0     | 69348055 |\n",
       "| Set1 | CoCulture_Exposed | A2I7N1     | 14022002 |\n",
       "| Set1 | CoCulture_Exposed | A2I7N3     | 76870390 |\n",
       "\n"
      ],
      "text/plain": [
       "  Set  Treatment         Protein    Avg_Abundance_stratified\n",
       "1 Set1 CoCulture_Exposed A0A096LP49 50430413                \n",
       "2 Set1 CoCulture_Exposed A0A2R8Y4Y8  1547459                \n",
       "3 Set1 CoCulture_Exposed A1L4H1     14958036                \n",
       "4 Set1 CoCulture_Exposed A2I7N0     69348055                \n",
       "5 Set1 CoCulture_Exposed A2I7N1     14022002                \n",
       "6 Set1 CoCulture_Exposed A2I7N3     76870390                "
      ]
     },
     "metadata": {},
     "output_type": "display_data"
    }
   ],
   "source": [
    "#calculating overall avg. abundance and within smoking groups\n",
    "avg_abundance_df = proteomics_df %>%\n",
    "    group_by(Set, Protein) %>%\n",
    "    summarize(Avg_Abundance = mean(Value))\n",
    "\n",
    "#stratified by treatment\n",
    "avg_abundance_df_stratified = proteomics_df %>%\n",
    "    group_by(Set, Treatment, Protein) %>%\n",
    "    summarize(Avg_Abundance_stratified = mean(Value))\n",
    "\n",
    "head(avg_abundance_df)"
   ]
  },
  {
   "cell_type": "code",
   "execution_count": 10,
   "id": "efdc892f",
   "metadata": {},
   "outputs": [
    {
     "data": {
      "text/html": [
       "<table class=\"dataframe\">\n",
       "<caption>A tibble: 6 × 3</caption>\n",
       "<thead>\n",
       "\t<tr><th scope=col>Set</th><th scope=col>Protein</th><th scope=col>Coculture_Exposed_Avg_Abundance</th></tr>\n",
       "\t<tr><th scope=col>&lt;chr&gt;</th><th scope=col>&lt;chr&gt;</th><th scope=col>&lt;dbl&gt;</th></tr>\n",
       "</thead>\n",
       "<tbody>\n",
       "\t<tr><td>Set1</td><td>A0A096LP49</td><td>50430413</td></tr>\n",
       "\t<tr><td>Set1</td><td>A0A2R8Y4Y8</td><td> 1547459</td></tr>\n",
       "\t<tr><td>Set1</td><td>A1L4H1    </td><td>14958036</td></tr>\n",
       "\t<tr><td>Set1</td><td>A2I7N0    </td><td>69348055</td></tr>\n",
       "\t<tr><td>Set1</td><td>A2I7N1    </td><td>14022002</td></tr>\n",
       "\t<tr><td>Set1</td><td>A2I7N3    </td><td>76870390</td></tr>\n",
       "</tbody>\n",
       "</table>\n"
      ],
      "text/latex": [
       "A tibble: 6 × 3\n",
       "\\begin{tabular}{lll}\n",
       " Set & Protein & Coculture\\_Exposed\\_Avg\\_Abundance\\\\\n",
       " <chr> & <chr> & <dbl>\\\\\n",
       "\\hline\n",
       "\t Set1 & A0A096LP49 & 50430413\\\\\n",
       "\t Set1 & A0A2R8Y4Y8 &  1547459\\\\\n",
       "\t Set1 & A1L4H1     & 14958036\\\\\n",
       "\t Set1 & A2I7N0     & 69348055\\\\\n",
       "\t Set1 & A2I7N1     & 14022002\\\\\n",
       "\t Set1 & A2I7N3     & 76870390\\\\\n",
       "\\end{tabular}\n"
      ],
      "text/markdown": [
       "\n",
       "A tibble: 6 × 3\n",
       "\n",
       "| Set &lt;chr&gt; | Protein &lt;chr&gt; | Coculture_Exposed_Avg_Abundance &lt;dbl&gt; |\n",
       "|---|---|---|\n",
       "| Set1 | A0A096LP49 | 50430413 |\n",
       "| Set1 | A0A2R8Y4Y8 |  1547459 |\n",
       "| Set1 | A1L4H1     | 14958036 |\n",
       "| Set1 | A2I7N0     | 69348055 |\n",
       "| Set1 | A2I7N1     | 14022002 |\n",
       "| Set1 | A2I7N3     | 76870390 |\n",
       "\n"
      ],
      "text/plain": [
       "  Set  Protein    Coculture_Exposed_Avg_Abundance\n",
       "1 Set1 A0A096LP49 50430413                       \n",
       "2 Set1 A0A2R8Y4Y8  1547459                       \n",
       "3 Set1 A1L4H1     14958036                       \n",
       "4 Set1 A2I7N0     69348055                       \n",
       "5 Set1 A2I7N1     14022002                       \n",
       "6 Set1 A2I7N3     76870390                       "
      ]
     },
     "metadata": {},
     "output_type": "display_data"
    }
   ],
   "source": [
    "#changing the stratified dfs to making combining easier\n",
    "#first splitting dfs\n",
    "split_avg_abundance_stratified = avg_abundance_df_stratified %>%\n",
    "    group_by(Treatment) %>%\n",
    "    group_split()\n",
    "\n",
    "#adding treatment to the title\n",
    "coculture_exposed_avg_abundance = split_avg_abundance_stratified[[1]] %>%\n",
    "    select(-Treatment) %>%\n",
    "    rename(Coculture_Exposed_Avg_Abundance = Avg_Abundance_stratified)\n",
    "coculture_vehicle_avg_abundance = split_avg_abundance_stratified[[2]] %>%\n",
    "    select(-Treatment) %>%\n",
    "    rename(Coculture_Vehicle_Avg_Abundance = Avg_Abundance_stratified)\n",
    "triculture_exposed_avg_abundance = split_avg_abundance_stratified[[1]] %>%\n",
    "    select(-Treatment) %>%\n",
    "    rename(Triculture_Exposed_Avg_Abundance = Avg_Abundance_stratified)\n",
    "triculture_vehicle_avg_abundance = split_avg_abundance_stratified[[2]] %>%\n",
    "    select(-Treatment) %>%\n",
    "    rename(Triculture_Vehicle_Avg_Abundance = Avg_Abundance_stratified)\n",
    "\n",
    "head(coculture_exposed_avg_abundance)"
   ]
  },
  {
   "cell_type": "code",
   "execution_count": 13,
   "id": "54169c00",
   "metadata": {},
   "outputs": [
    {
     "name": "stderr",
     "output_type": "stream",
     "text": [
      "\u001b[1m\u001b[22mJoining, by = c(\"Set\", \"Protein\")\n",
      "\u001b[1m\u001b[22mJoining, by = c(\"Set\", \"Protein\")\n",
      "\u001b[1m\u001b[22mJoining, by = c(\"Set\", \"Protein\")\n",
      "\u001b[1m\u001b[22mJoining, by = c(\"Set\", \"Protein\")\n"
     ]
    },
    {
     "data": {
      "text/html": [
       "<table class=\"dataframe\">\n",
       "<caption>A grouped_df: 6 × 7</caption>\n",
       "<thead>\n",
       "\t<tr><th scope=col>Set</th><th scope=col>Protein</th><th scope=col>Avg_Abundance</th><th scope=col>Coculture_Exposed_Avg_Abundance</th><th scope=col>Coculture_Vehicle_Avg_Abundance</th><th scope=col>Triculture_Exposed_Avg_Abundance</th><th scope=col>Triculture_Vehicle_Avg_Abundance</th></tr>\n",
       "\t<tr><th scope=col>&lt;chr&gt;</th><th scope=col>&lt;chr&gt;</th><th scope=col>&lt;dbl&gt;</th><th scope=col>&lt;dbl&gt;</th><th scope=col>&lt;dbl&gt;</th><th scope=col>&lt;dbl&gt;</th><th scope=col>&lt;dbl&gt;</th></tr>\n",
       "</thead>\n",
       "<tbody>\n",
       "\t<tr><td>Set1</td><td>A0A096LP49</td><td>51897126</td><td>50430413</td><td>53363840</td><td>50430413</td><td>53363840</td></tr>\n",
       "\t<tr><td>Set1</td><td>A0A2R8Y4Y8</td><td> 1745284</td><td> 1547459</td><td> 1943110</td><td> 1547459</td><td> 1943110</td></tr>\n",
       "\t<tr><td>Set1</td><td>A1L4H1    </td><td>19473534</td><td>14958036</td><td>23989033</td><td>14958036</td><td>23989033</td></tr>\n",
       "\t<tr><td>Set1</td><td>A2I7N0    </td><td>62531054</td><td>69348055</td><td>55714053</td><td>69348055</td><td>55714053</td></tr>\n",
       "\t<tr><td>Set1</td><td>A2I7N1    </td><td>12761148</td><td>14022002</td><td>11500294</td><td>14022002</td><td>11500294</td></tr>\n",
       "\t<tr><td>Set1</td><td>A2I7N3    </td><td>71043165</td><td>76870390</td><td>65215940</td><td>76870390</td><td>65215940</td></tr>\n",
       "</tbody>\n",
       "</table>\n"
      ],
      "text/latex": [
       "A grouped\\_df: 6 × 7\n",
       "\\begin{tabular}{lllllll}\n",
       " Set & Protein & Avg\\_Abundance & Coculture\\_Exposed\\_Avg\\_Abundance & Coculture\\_Vehicle\\_Avg\\_Abundance & Triculture\\_Exposed\\_Avg\\_Abundance & Triculture\\_Vehicle\\_Avg\\_Abundance\\\\\n",
       " <chr> & <chr> & <dbl> & <dbl> & <dbl> & <dbl> & <dbl>\\\\\n",
       "\\hline\n",
       "\t Set1 & A0A096LP49 & 51897126 & 50430413 & 53363840 & 50430413 & 53363840\\\\\n",
       "\t Set1 & A0A2R8Y4Y8 &  1745284 &  1547459 &  1943110 &  1547459 &  1943110\\\\\n",
       "\t Set1 & A1L4H1     & 19473534 & 14958036 & 23989033 & 14958036 & 23989033\\\\\n",
       "\t Set1 & A2I7N0     & 62531054 & 69348055 & 55714053 & 69348055 & 55714053\\\\\n",
       "\t Set1 & A2I7N1     & 12761148 & 14022002 & 11500294 & 14022002 & 11500294\\\\\n",
       "\t Set1 & A2I7N3     & 71043165 & 76870390 & 65215940 & 76870390 & 65215940\\\\\n",
       "\\end{tabular}\n"
      ],
      "text/markdown": [
       "\n",
       "A grouped_df: 6 × 7\n",
       "\n",
       "| Set &lt;chr&gt; | Protein &lt;chr&gt; | Avg_Abundance &lt;dbl&gt; | Coculture_Exposed_Avg_Abundance &lt;dbl&gt; | Coculture_Vehicle_Avg_Abundance &lt;dbl&gt; | Triculture_Exposed_Avg_Abundance &lt;dbl&gt; | Triculture_Vehicle_Avg_Abundance &lt;dbl&gt; |\n",
       "|---|---|---|---|---|---|---|\n",
       "| Set1 | A0A096LP49 | 51897126 | 50430413 | 53363840 | 50430413 | 53363840 |\n",
       "| Set1 | A0A2R8Y4Y8 |  1745284 |  1547459 |  1943110 |  1547459 |  1943110 |\n",
       "| Set1 | A1L4H1     | 19473534 | 14958036 | 23989033 | 14958036 | 23989033 |\n",
       "| Set1 | A2I7N0     | 62531054 | 69348055 | 55714053 | 69348055 | 55714053 |\n",
       "| Set1 | A2I7N1     | 12761148 | 14022002 | 11500294 | 14022002 | 11500294 |\n",
       "| Set1 | A2I7N3     | 71043165 | 76870390 | 65215940 | 76870390 | 65215940 |\n",
       "\n"
      ],
      "text/plain": [
       "  Set  Protein    Avg_Abundance Coculture_Exposed_Avg_Abundance\n",
       "1 Set1 A0A096LP49 51897126      50430413                       \n",
       "2 Set1 A0A2R8Y4Y8  1745284       1547459                       \n",
       "3 Set1 A1L4H1     19473534      14958036                       \n",
       "4 Set1 A2I7N0     62531054      69348055                       \n",
       "5 Set1 A2I7N1     12761148      14022002                       \n",
       "6 Set1 A2I7N3     71043165      76870390                       \n",
       "  Coculture_Vehicle_Avg_Abundance Triculture_Exposed_Avg_Abundance\n",
       "1 53363840                        50430413                        \n",
       "2  1943110                         1547459                        \n",
       "3 23989033                        14958036                        \n",
       "4 55714053                        69348055                        \n",
       "5 11500294                        14022002                        \n",
       "6 65215940                        76870390                        \n",
       "  Triculture_Vehicle_Avg_Abundance\n",
       "1 53363840                        \n",
       "2  1943110                        \n",
       "3 23989033                        \n",
       "4 55714053                        \n",
       "5 11500294                        \n",
       "6 65215940                        "
      ]
     },
     "metadata": {},
     "output_type": "display_data"
    }
   ],
   "source": [
    "# combining into 1 df\n",
    "stratified_abundance_df = inner_join(inner_join(coculture_exposed_avg_abundance, coculture_vehicle_avg_abundance), \n",
    "      inner_join(triculture_exposed_avg_abundance, triculture_vehicle_avg_abundance))\n",
    "abundance_df = inner_join(avg_abundance_df, stratified_abundance_df)\n",
    "head(abundance_df)"
   ]
  },
  {
   "cell_type": "code",
   "execution_count": 8,
   "id": "eeb1e543",
   "metadata": {},
   "outputs": [],
   "source": [
    "# exporting\n",
    "write.csv(t_test_df, paste0(Output,\"/\", cur_date, \"_Distribution_Analysis.csv\"), row.names = FALSE)"
   ]
  },
  {
   "cell_type": "code",
   "execution_count": null,
   "id": "5e6afcb4",
   "metadata": {},
   "outputs": [],
   "source": []
  }
 ],
 "metadata": {
  "kernelspec": {
   "display_name": "R",
   "language": "R",
   "name": "ir"
  },
  "language_info": {
   "codemirror_mode": "r",
   "file_extension": ".r",
   "mimetype": "text/x-r-source",
   "name": "R",
   "pygments_lexer": "r",
   "version": "4.1.2"
  }
 },
 "nbformat": 4,
 "nbformat_minor": 5
}
