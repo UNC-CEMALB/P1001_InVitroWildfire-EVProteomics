{
 "cells": [
  {
   "cell_type": "code",
   "execution_count": 1,
   "id": "2435c81d",
   "metadata": {},
   "outputs": [
    {
     "name": "stderr",
     "output_type": "stream",
     "text": [
      "── \u001b[1mAttaching packages\u001b[22m ─────────────────────────────────────── tidyverse 1.3.1 ──\n",
      "\n",
      "\u001b[32m✔\u001b[39m \u001b[34mggplot2\u001b[39m 3.3.5     \u001b[32m✔\u001b[39m \u001b[34mpurrr  \u001b[39m 0.3.4\n",
      "\u001b[32m✔\u001b[39m \u001b[34mtibble \u001b[39m 3.1.6     \u001b[32m✔\u001b[39m \u001b[34mdplyr  \u001b[39m 1.0.8\n",
      "\u001b[32m✔\u001b[39m \u001b[34mtidyr  \u001b[39m 1.2.0     \u001b[32m✔\u001b[39m \u001b[34mstringr\u001b[39m 1.4.0\n",
      "\u001b[32m✔\u001b[39m \u001b[34mreadr  \u001b[39m 2.1.2     \u001b[32m✔\u001b[39m \u001b[34mforcats\u001b[39m 0.5.1\n",
      "\n",
      "── \u001b[1mConflicts\u001b[22m ────────────────────────────────────────── tidyverse_conflicts() ──\n",
      "\u001b[31m✖\u001b[39m \u001b[34mdplyr\u001b[39m::\u001b[32mfilter()\u001b[39m masks \u001b[34mstats\u001b[39m::filter()\n",
      "\u001b[31m✖\u001b[39m \u001b[34mdplyr\u001b[39m::\u001b[32mlag()\u001b[39m    masks \u001b[34mstats\u001b[39m::lag()\n",
      "\n",
      "\n",
      "Attaching package: ‘reshape2’\n",
      "\n",
      "\n",
      "The following object is masked from ‘package:tidyr’:\n",
      "\n",
      "    smiths\n",
      "\n",
      "\n"
     ]
    }
   ],
   "source": [
    "setwd('/Users/alexis/Library/CloudStorage/OneDrive-UniversityofNorthCarolinaatChapelHill/CEMALB_DataAnalysisPM/Projects/P1001. InVitroWildfire EVProteomics/P1001.3. Analyses/P1001.3.5. Group Distribution Analysis/Input')\n",
    "Output = ('/Users/alexis/Library/CloudStorage/OneDrive-UniversityofNorthCarolinaatChapelHill/CEMALB_DataAnalysisPM/Projects/P1001. InVitroWildfire EVProteomics/P1001.3. Analyses/P1001.3.5. Group Distribution Analysis/Output')\n",
    "cur_date = \"062822\"\n",
    "\n",
    "library(readxl)\n",
    "library(tidyverse)\n",
    "library(reshape2)\n",
    "\n",
    "\n",
    "#reading in file\n",
    "proteomics_df = data.frame(read_excel(\"062122_Imputed_Proteomics_Data.xlsx\"))\n",
    "protein_info_df = data.frame(read_excel(\"List of Proteins Detected_041922.xlsx\")) %>%\n",
    "    rename(Protein = Accession)"
   ]
  },
  {
   "cell_type": "code",
   "execution_count": 2,
   "id": "d6772e95",
   "metadata": {},
   "outputs": [
    {
     "data": {
      "text/html": [
       "<table class=\"dataframe\">\n",
       "<caption>A data.frame: 6 × 5</caption>\n",
       "<thead>\n",
       "\t<tr><th></th><th scope=col>Set</th><th scope=col>Treatment</th><th scope=col>ID</th><th scope=col>Protein</th><th scope=col>Value</th></tr>\n",
       "\t<tr><th></th><th scope=col>&lt;chr&gt;</th><th scope=col>&lt;chr&gt;</th><th scope=col>&lt;chr&gt;</th><th scope=col>&lt;chr&gt;</th><th scope=col>&lt;dbl&gt;</th></tr>\n",
       "</thead>\n",
       "<tbody>\n",
       "\t<tr><th scope=row>1</th><td>Set1</td><td>CoCulture_Exposed</td><td>CoCulture_Exposed1</td><td>P35555                    </td><td> 6540459348</td></tr>\n",
       "\t<tr><th scope=row>2</th><td>Set1</td><td>CoCulture_Exposed</td><td>CoCulture_Exposed1</td><td>ENSEMBL.ENSBTAP00000007350</td><td> 8526739787</td></tr>\n",
       "\t<tr><th scope=row>3</th><td>Set1</td><td>CoCulture_Exposed</td><td>CoCulture_Exposed1</td><td>Q15149                    </td><td> 3467760325</td></tr>\n",
       "\t<tr><th scope=row>4</th><td>Set1</td><td>CoCulture_Exposed</td><td>CoCulture_Exposed1</td><td>Q3SZ57                    </td><td>10425228827</td></tr>\n",
       "\t<tr><th scope=row>5</th><td>Set1</td><td>CoCulture_Exposed</td><td>CoCulture_Exposed1</td><td>ENSEMBL.ENSBTAP00000024146</td><td>11522621335</td></tr>\n",
       "\t<tr><th scope=row>6</th><td>Set1</td><td>CoCulture_Exposed</td><td>CoCulture_Exposed1</td><td>O15230                    </td><td> 2820298745</td></tr>\n",
       "</tbody>\n",
       "</table>\n"
      ],
      "text/latex": [
       "A data.frame: 6 × 5\n",
       "\\begin{tabular}{r|lllll}\n",
       "  & Set & Treatment & ID & Protein & Value\\\\\n",
       "  & <chr> & <chr> & <chr> & <chr> & <dbl>\\\\\n",
       "\\hline\n",
       "\t1 & Set1 & CoCulture\\_Exposed & CoCulture\\_Exposed1 & P35555                     &  6540459348\\\\\n",
       "\t2 & Set1 & CoCulture\\_Exposed & CoCulture\\_Exposed1 & ENSEMBL.ENSBTAP00000007350 &  8526739787\\\\\n",
       "\t3 & Set1 & CoCulture\\_Exposed & CoCulture\\_Exposed1 & Q15149                     &  3467760325\\\\\n",
       "\t4 & Set1 & CoCulture\\_Exposed & CoCulture\\_Exposed1 & Q3SZ57                     & 10425228827\\\\\n",
       "\t5 & Set1 & CoCulture\\_Exposed & CoCulture\\_Exposed1 & ENSEMBL.ENSBTAP00000024146 & 11522621335\\\\\n",
       "\t6 & Set1 & CoCulture\\_Exposed & CoCulture\\_Exposed1 & O15230                     &  2820298745\\\\\n",
       "\\end{tabular}\n"
      ],
      "text/markdown": [
       "\n",
       "A data.frame: 6 × 5\n",
       "\n",
       "| <!--/--> | Set &lt;chr&gt; | Treatment &lt;chr&gt; | ID &lt;chr&gt; | Protein &lt;chr&gt; | Value &lt;dbl&gt; |\n",
       "|---|---|---|---|---|---|\n",
       "| 1 | Set1 | CoCulture_Exposed | CoCulture_Exposed1 | P35555                     |  6540459348 |\n",
       "| 2 | Set1 | CoCulture_Exposed | CoCulture_Exposed1 | ENSEMBL.ENSBTAP00000007350 |  8526739787 |\n",
       "| 3 | Set1 | CoCulture_Exposed | CoCulture_Exposed1 | Q15149                     |  3467760325 |\n",
       "| 4 | Set1 | CoCulture_Exposed | CoCulture_Exposed1 | Q3SZ57                     | 10425228827 |\n",
       "| 5 | Set1 | CoCulture_Exposed | CoCulture_Exposed1 | ENSEMBL.ENSBTAP00000024146 | 11522621335 |\n",
       "| 6 | Set1 | CoCulture_Exposed | CoCulture_Exposed1 | O15230                     |  2820298745 |\n",
       "\n"
      ],
      "text/plain": [
       "  Set  Treatment         ID                 Protein                   \n",
       "1 Set1 CoCulture_Exposed CoCulture_Exposed1 P35555                    \n",
       "2 Set1 CoCulture_Exposed CoCulture_Exposed1 ENSEMBL.ENSBTAP00000007350\n",
       "3 Set1 CoCulture_Exposed CoCulture_Exposed1 Q15149                    \n",
       "4 Set1 CoCulture_Exposed CoCulture_Exposed1 Q3SZ57                    \n",
       "5 Set1 CoCulture_Exposed CoCulture_Exposed1 ENSEMBL.ENSBTAP00000024146\n",
       "6 Set1 CoCulture_Exposed CoCulture_Exposed1 O15230                    \n",
       "  Value      \n",
       "1  6540459348\n",
       "2  8526739787\n",
       "3  3467760325\n",
       "4 10425228827\n",
       "5 11522621335\n",
       "6  2820298745"
      ]
     },
     "metadata": {},
     "output_type": "display_data"
    },
    {
     "data": {
      "text/html": [
       "<table class=\"dataframe\">\n",
       "<caption>A data.frame: 6 × 5</caption>\n",
       "<thead>\n",
       "\t<tr><th></th><th scope=col>Protein</th><th scope=col>Gene.name</th><th scope=col>Description</th><th scope=col>GOCC.name</th><th scope=col>Contaminant</th></tr>\n",
       "\t<tr><th></th><th scope=col>&lt;chr&gt;</th><th scope=col>&lt;chr&gt;</th><th scope=col>&lt;chr&gt;</th><th scope=col>&lt;chr&gt;</th><th scope=col>&lt;chr&gt;</th></tr>\n",
       "</thead>\n",
       "<tbody>\n",
       "\t<tr><th scope=row>1</th><td>P02751</td><td>FN1                                                             </td><td>Fibronectin OS=Homo sapiens OX=9606 GN=FN1 PE=1 SV=5                                                           </td><td>apical plasma membrane;basal lamina;blood microparticle;cell part;cytoplasmic membrane-bounded vesicle lumen;cytoplasmic part;cytoplasmic vesicle part;endoplasmic reticulum-Golgi intermediate compartment;extracellular matrix;extracellular matrix part;extracellular membrane-bounded organelle;extracellular organelle;extracellular region;extracellular region part;extracellular space;extracellular vesicular exosome;fibrinogen complex;intracellular membrane-bounded organelle;intracellular organelle;intracellular organelle part;intracellular part;macromolecular complex;membrane part;membrane-bounded organelle;membrane-bounded vesicle;membrane-enclosed lumen;organelle;organelle lumen;organelle part;plasma membrane part;platelet alpha granule lumen;protein complex;secretory granule lumen;vesicle;vesicle lumen                                                                                                                                                  </td><td>-</td></tr>\n",
       "\t<tr><th scope=row>2</th><td>P02769</td><td>SWISS-PROT:P02769 (Bos taurus) Bovine serum albumin precursor   </td><td>SWISS-PROT:P02769 (Bos taurus) Bovine serum albumin precursor                                                  </td><td>NA                                                                                                                                                                                                                                                                                                                                                                                                                                                                                                                                                                                                                                                                                                                                                                                                                                                                                                                                                                                            </td><td>+</td></tr>\n",
       "\t<tr><th scope=row>3</th><td>P07996</td><td>THBS1                                                           </td><td>Thrombospondin-1 OS=Homo sapiens OX=9606 GN=THBS1 PE=1 SV=2                                                    </td><td>cell part;cell surface;cytoplasmic membrane-bounded vesicle;cytoplasmic membrane-bounded vesicle lumen;cytoplasmic part;cytoplasmic vesicle;cytoplasmic vesicle part;endoplasmic reticulum;endoplasmic reticulum lumen;endoplasmic reticulum part;external side of plasma membrane;extracellular matrix;extracellular membrane-bounded organelle;extracellular organelle;extracellular region;extracellular region part;extracellular space;extracellular vesicular exosome;fibrinogen complex;intracellular membrane-bounded organelle;intracellular organelle;intracellular organelle lumen;intracellular organelle part;intracellular part;macromolecular complex;membrane part;membrane-bounded organelle;membrane-bounded vesicle;membrane-enclosed lumen;organelle;organelle lumen;organelle part;plasma membrane part;platelet alpha granule;platelet alpha granule lumen;protein complex;sarcoplasmic reticulum;secretory granule lumen;stored secretory granule;vesicle;vesicle lumen</td><td>-</td></tr>\n",
       "\t<tr><th scope=row>4</th><td>Q2UVX4</td><td>SWISS-PROT:Q2UVX4 (Bos taurus) Complement C3 precursor          </td><td>SWISS-PROT:Q2UVX4 (Bos taurus) Complement C3 precursor                                                         </td><td>NA                                                                                                                                                                                                                                                                                                                                                                                                                                                                                                                                                                                                                                                                                                                                                                                                                                                                                                                                                                                            </td><td>+</td></tr>\n",
       "\t<tr><th scope=row>5</th><td>P98160</td><td>HSPG2                                                           </td><td>Basement membrane-specific heparan sulfate proteoglycan core protein OS=Homo sapiens OX=9606 GN=HSPG2 PE=1 SV=4</td><td>adherens junction;anchoring junction;basal lamina;cell junction;cell part;cell-substrate adherens junction;cell-substrate junction;cytoplasmic part;extracellular matrix;extracellular matrix part;extracellular membrane-bounded organelle;extracellular organelle;extracellular region;extracellular region part;extracellular space;extracellular vesicular exosome;focal adhesion;Golgi apparatus part;Golgi lumen;intracellular organelle lumen;intracellular organelle part;intracellular part;lysosomal lumen;membrane;membrane-bounded organelle;membrane-bounded vesicle;membrane-enclosed lumen;organelle;organelle lumen;organelle part;plasma membrane;vacuolar lumen;vacuolar part;vesicle                                                                                                                                                                                                                                                                                       </td><td>-</td></tr>\n",
       "\t<tr><th scope=row>6</th><td>P12763</td><td>SWISS-PROT:P12763 (Bos taurus) Alpha-2-HS-glycoprotein precursor</td><td>SWISS-PROT:P12763 (Bos taurus) Alpha-2-HS-glycoprotein precursor                                               </td><td>NA                                                                                                                                                                                                                                                                                                                                                                                                                                                                                                                                                                                                                                                                                                                                                                                                                                                                                                                                                                                            </td><td>+</td></tr>\n",
       "</tbody>\n",
       "</table>\n"
      ],
      "text/latex": [
       "A data.frame: 6 × 5\n",
       "\\begin{tabular}{r|lllll}\n",
       "  & Protein & Gene.name & Description & GOCC.name & Contaminant\\\\\n",
       "  & <chr> & <chr> & <chr> & <chr> & <chr>\\\\\n",
       "\\hline\n",
       "\t1 & P02751 & FN1                                                              & Fibronectin OS=Homo sapiens OX=9606 GN=FN1 PE=1 SV=5                                                            & apical plasma membrane;basal lamina;blood microparticle;cell part;cytoplasmic membrane-bounded vesicle lumen;cytoplasmic part;cytoplasmic vesicle part;endoplasmic reticulum-Golgi intermediate compartment;extracellular matrix;extracellular matrix part;extracellular membrane-bounded organelle;extracellular organelle;extracellular region;extracellular region part;extracellular space;extracellular vesicular exosome;fibrinogen complex;intracellular membrane-bounded organelle;intracellular organelle;intracellular organelle part;intracellular part;macromolecular complex;membrane part;membrane-bounded organelle;membrane-bounded vesicle;membrane-enclosed lumen;organelle;organelle lumen;organelle part;plasma membrane part;platelet alpha granule lumen;protein complex;secretory granule lumen;vesicle;vesicle lumen                                                                                                                                                   & -\\\\\n",
       "\t2 & P02769 & SWISS-PROT:P02769 (Bos taurus) Bovine serum albumin precursor    & SWISS-PROT:P02769 (Bos taurus) Bovine serum albumin precursor                                                   & NA                                                                                                                                                                                                                                                                                                                                                                                                                                                                                                                                                                                                                                                                                                                                                                                                                                                                                                                                                                                             & +\\\\\n",
       "\t3 & P07996 & THBS1                                                            & Thrombospondin-1 OS=Homo sapiens OX=9606 GN=THBS1 PE=1 SV=2                                                     & cell part;cell surface;cytoplasmic membrane-bounded vesicle;cytoplasmic membrane-bounded vesicle lumen;cytoplasmic part;cytoplasmic vesicle;cytoplasmic vesicle part;endoplasmic reticulum;endoplasmic reticulum lumen;endoplasmic reticulum part;external side of plasma membrane;extracellular matrix;extracellular membrane-bounded organelle;extracellular organelle;extracellular region;extracellular region part;extracellular space;extracellular vesicular exosome;fibrinogen complex;intracellular membrane-bounded organelle;intracellular organelle;intracellular organelle lumen;intracellular organelle part;intracellular part;macromolecular complex;membrane part;membrane-bounded organelle;membrane-bounded vesicle;membrane-enclosed lumen;organelle;organelle lumen;organelle part;plasma membrane part;platelet alpha granule;platelet alpha granule lumen;protein complex;sarcoplasmic reticulum;secretory granule lumen;stored secretory granule;vesicle;vesicle lumen & -\\\\\n",
       "\t4 & Q2UVX4 & SWISS-PROT:Q2UVX4 (Bos taurus) Complement C3 precursor           & SWISS-PROT:Q2UVX4 (Bos taurus) Complement C3 precursor                                                          & NA                                                                                                                                                                                                                                                                                                                                                                                                                                                                                                                                                                                                                                                                                                                                                                                                                                                                                                                                                                                             & +\\\\\n",
       "\t5 & P98160 & HSPG2                                                            & Basement membrane-specific heparan sulfate proteoglycan core protein OS=Homo sapiens OX=9606 GN=HSPG2 PE=1 SV=4 & adherens junction;anchoring junction;basal lamina;cell junction;cell part;cell-substrate adherens junction;cell-substrate junction;cytoplasmic part;extracellular matrix;extracellular matrix part;extracellular membrane-bounded organelle;extracellular organelle;extracellular region;extracellular region part;extracellular space;extracellular vesicular exosome;focal adhesion;Golgi apparatus part;Golgi lumen;intracellular organelle lumen;intracellular organelle part;intracellular part;lysosomal lumen;membrane;membrane-bounded organelle;membrane-bounded vesicle;membrane-enclosed lumen;organelle;organelle lumen;organelle part;plasma membrane;vacuolar lumen;vacuolar part;vesicle                                                                                                                                                                                                                                                                                        & -\\\\\n",
       "\t6 & P12763 & SWISS-PROT:P12763 (Bos taurus) Alpha-2-HS-glycoprotein precursor & SWISS-PROT:P12763 (Bos taurus) Alpha-2-HS-glycoprotein precursor                                                & NA                                                                                                                                                                                                                                                                                                                                                                                                                                                                                                                                                                                                                                                                                                                                                                                                                                                                                                                                                                                             & +\\\\\n",
       "\\end{tabular}\n"
      ],
      "text/markdown": [
       "\n",
       "A data.frame: 6 × 5\n",
       "\n",
       "| <!--/--> | Protein &lt;chr&gt; | Gene.name &lt;chr&gt; | Description &lt;chr&gt; | GOCC.name &lt;chr&gt; | Contaminant &lt;chr&gt; |\n",
       "|---|---|---|---|---|---|\n",
       "| 1 | P02751 | FN1                                                              | Fibronectin OS=Homo sapiens OX=9606 GN=FN1 PE=1 SV=5                                                            | apical plasma membrane;basal lamina;blood microparticle;cell part;cytoplasmic membrane-bounded vesicle lumen;cytoplasmic part;cytoplasmic vesicle part;endoplasmic reticulum-Golgi intermediate compartment;extracellular matrix;extracellular matrix part;extracellular membrane-bounded organelle;extracellular organelle;extracellular region;extracellular region part;extracellular space;extracellular vesicular exosome;fibrinogen complex;intracellular membrane-bounded organelle;intracellular organelle;intracellular organelle part;intracellular part;macromolecular complex;membrane part;membrane-bounded organelle;membrane-bounded vesicle;membrane-enclosed lumen;organelle;organelle lumen;organelle part;plasma membrane part;platelet alpha granule lumen;protein complex;secretory granule lumen;vesicle;vesicle lumen                                                                                                                                                   | - |\n",
       "| 2 | P02769 | SWISS-PROT:P02769 (Bos taurus) Bovine serum albumin precursor    | SWISS-PROT:P02769 (Bos taurus) Bovine serum albumin precursor                                                   | NA                                                                                                                                                                                                                                                                                                                                                                                                                                                                                                                                                                                                                                                                                                                                                                                                                                                                                                                                                                                             | + |\n",
       "| 3 | P07996 | THBS1                                                            | Thrombospondin-1 OS=Homo sapiens OX=9606 GN=THBS1 PE=1 SV=2                                                     | cell part;cell surface;cytoplasmic membrane-bounded vesicle;cytoplasmic membrane-bounded vesicle lumen;cytoplasmic part;cytoplasmic vesicle;cytoplasmic vesicle part;endoplasmic reticulum;endoplasmic reticulum lumen;endoplasmic reticulum part;external side of plasma membrane;extracellular matrix;extracellular membrane-bounded organelle;extracellular organelle;extracellular region;extracellular region part;extracellular space;extracellular vesicular exosome;fibrinogen complex;intracellular membrane-bounded organelle;intracellular organelle;intracellular organelle lumen;intracellular organelle part;intracellular part;macromolecular complex;membrane part;membrane-bounded organelle;membrane-bounded vesicle;membrane-enclosed lumen;organelle;organelle lumen;organelle part;plasma membrane part;platelet alpha granule;platelet alpha granule lumen;protein complex;sarcoplasmic reticulum;secretory granule lumen;stored secretory granule;vesicle;vesicle lumen | - |\n",
       "| 4 | Q2UVX4 | SWISS-PROT:Q2UVX4 (Bos taurus) Complement C3 precursor           | SWISS-PROT:Q2UVX4 (Bos taurus) Complement C3 precursor                                                          | NA                                                                                                                                                                                                                                                                                                                                                                                                                                                                                                                                                                                                                                                                                                                                                                                                                                                                                                                                                                                             | + |\n",
       "| 5 | P98160 | HSPG2                                                            | Basement membrane-specific heparan sulfate proteoglycan core protein OS=Homo sapiens OX=9606 GN=HSPG2 PE=1 SV=4 | adherens junction;anchoring junction;basal lamina;cell junction;cell part;cell-substrate adherens junction;cell-substrate junction;cytoplasmic part;extracellular matrix;extracellular matrix part;extracellular membrane-bounded organelle;extracellular organelle;extracellular region;extracellular region part;extracellular space;extracellular vesicular exosome;focal adhesion;Golgi apparatus part;Golgi lumen;intracellular organelle lumen;intracellular organelle part;intracellular part;lysosomal lumen;membrane;membrane-bounded organelle;membrane-bounded vesicle;membrane-enclosed lumen;organelle;organelle lumen;organelle part;plasma membrane;vacuolar lumen;vacuolar part;vesicle                                                                                                                                                                                                                                                                                        | - |\n",
       "| 6 | P12763 | SWISS-PROT:P12763 (Bos taurus) Alpha-2-HS-glycoprotein precursor | SWISS-PROT:P12763 (Bos taurus) Alpha-2-HS-glycoprotein precursor                                                | NA                                                                                                                                                                                                                                                                                                                                                                                                                                                                                                                                                                                                                                                                                                                                                                                                                                                                                                                                                                                             | + |\n",
       "\n"
      ],
      "text/plain": [
       "  Protein Gene.name                                                       \n",
       "1 P02751  FN1                                                             \n",
       "2 P02769  SWISS-PROT:P02769 (Bos taurus) Bovine serum albumin precursor   \n",
       "3 P07996  THBS1                                                           \n",
       "4 Q2UVX4  SWISS-PROT:Q2UVX4 (Bos taurus) Complement C3 precursor          \n",
       "5 P98160  HSPG2                                                           \n",
       "6 P12763  SWISS-PROT:P12763 (Bos taurus) Alpha-2-HS-glycoprotein precursor\n",
       "  Description                                                                                                    \n",
       "1 Fibronectin OS=Homo sapiens OX=9606 GN=FN1 PE=1 SV=5                                                           \n",
       "2 SWISS-PROT:P02769 (Bos taurus) Bovine serum albumin precursor                                                  \n",
       "3 Thrombospondin-1 OS=Homo sapiens OX=9606 GN=THBS1 PE=1 SV=2                                                    \n",
       "4 SWISS-PROT:Q2UVX4 (Bos taurus) Complement C3 precursor                                                         \n",
       "5 Basement membrane-specific heparan sulfate proteoglycan core protein OS=Homo sapiens OX=9606 GN=HSPG2 PE=1 SV=4\n",
       "6 SWISS-PROT:P12763 (Bos taurus) Alpha-2-HS-glycoprotein precursor                                               \n",
       "  GOCC.name                                                                                                                                                                                                                                                                                                                                                                                                                                                                                                                                                                                                                                                                                                                                                                                                                                                                                                                                                                                     \n",
       "1 apical plasma membrane;basal lamina;blood microparticle;cell part;cytoplasmic membrane-bounded vesicle lumen;cytoplasmic part;cytoplasmic vesicle part;endoplasmic reticulum-Golgi intermediate compartment;extracellular matrix;extracellular matrix part;extracellular membrane-bounded organelle;extracellular organelle;extracellular region;extracellular region part;extracellular space;extracellular vesicular exosome;fibrinogen complex;intracellular membrane-bounded organelle;intracellular organelle;intracellular organelle part;intracellular part;macromolecular complex;membrane part;membrane-bounded organelle;membrane-bounded vesicle;membrane-enclosed lumen;organelle;organelle lumen;organelle part;plasma membrane part;platelet alpha granule lumen;protein complex;secretory granule lumen;vesicle;vesicle lumen                                                                                                                                                  \n",
       "2 NA                                                                                                                                                                                                                                                                                                                                                                                                                                                                                                                                                                                                                                                                                                                                                                                                                                                                                                                                                                                            \n",
       "3 cell part;cell surface;cytoplasmic membrane-bounded vesicle;cytoplasmic membrane-bounded vesicle lumen;cytoplasmic part;cytoplasmic vesicle;cytoplasmic vesicle part;endoplasmic reticulum;endoplasmic reticulum lumen;endoplasmic reticulum part;external side of plasma membrane;extracellular matrix;extracellular membrane-bounded organelle;extracellular organelle;extracellular region;extracellular region part;extracellular space;extracellular vesicular exosome;fibrinogen complex;intracellular membrane-bounded organelle;intracellular organelle;intracellular organelle lumen;intracellular organelle part;intracellular part;macromolecular complex;membrane part;membrane-bounded organelle;membrane-bounded vesicle;membrane-enclosed lumen;organelle;organelle lumen;organelle part;plasma membrane part;platelet alpha granule;platelet alpha granule lumen;protein complex;sarcoplasmic reticulum;secretory granule lumen;stored secretory granule;vesicle;vesicle lumen\n",
       "4 NA                                                                                                                                                                                                                                                                                                                                                                                                                                                                                                                                                                                                                                                                                                                                                                                                                                                                                                                                                                                            \n",
       "5 adherens junction;anchoring junction;basal lamina;cell junction;cell part;cell-substrate adherens junction;cell-substrate junction;cytoplasmic part;extracellular matrix;extracellular matrix part;extracellular membrane-bounded organelle;extracellular organelle;extracellular region;extracellular region part;extracellular space;extracellular vesicular exosome;focal adhesion;Golgi apparatus part;Golgi lumen;intracellular organelle lumen;intracellular organelle part;intracellular part;lysosomal lumen;membrane;membrane-bounded organelle;membrane-bounded vesicle;membrane-enclosed lumen;organelle;organelle lumen;organelle part;plasma membrane;vacuolar lumen;vacuolar part;vesicle                                                                                                                                                                                                                                                                                       \n",
       "6 NA                                                                                                                                                                                                                                                                                                                                                                                                                                                                                                                                                                                                                                                                                                                                                                                                                                                                                                                                                                                            \n",
       "  Contaminant\n",
       "1 -          \n",
       "2 +          \n",
       "3 -          \n",
       "4 +          \n",
       "5 -          \n",
       "6 +          "
      ]
     },
     "metadata": {},
     "output_type": "display_data"
    }
   ],
   "source": [
    "head(proteomics_df)\n",
    "head(protein_info_df)"
   ]
  },
  {
   "cell_type": "code",
   "execution_count": 3,
   "id": "b609515d",
   "metadata": {},
   "outputs": [
    {
     "data": {
      "text/html": [
       "<table class=\"dataframe\">\n",
       "<caption>A data.frame: 6 × 6</caption>\n",
       "<thead>\n",
       "\t<tr><th></th><th scope=col>Set</th><th scope=col>Treatment</th><th scope=col>Exposure</th><th scope=col>ID</th><th scope=col>Protein</th><th scope=col>Value</th></tr>\n",
       "\t<tr><th></th><th scope=col>&lt;chr&gt;</th><th scope=col>&lt;chr&gt;</th><th scope=col>&lt;chr&gt;</th><th scope=col>&lt;chr&gt;</th><th scope=col>&lt;chr&gt;</th><th scope=col>&lt;dbl&gt;</th></tr>\n",
       "</thead>\n",
       "<tbody>\n",
       "\t<tr><th scope=row>1</th><td>Set1</td><td>CoCulture</td><td>Exposed</td><td>CoCulture_Exposed1</td><td>P35555                    </td><td> 6540459348</td></tr>\n",
       "\t<tr><th scope=row>2</th><td>Set1</td><td>CoCulture</td><td>Exposed</td><td>CoCulture_Exposed1</td><td>ENSEMBL.ENSBTAP00000007350</td><td> 8526739787</td></tr>\n",
       "\t<tr><th scope=row>3</th><td>Set1</td><td>CoCulture</td><td>Exposed</td><td>CoCulture_Exposed1</td><td>Q15149                    </td><td> 3467760325</td></tr>\n",
       "\t<tr><th scope=row>4</th><td>Set1</td><td>CoCulture</td><td>Exposed</td><td>CoCulture_Exposed1</td><td>Q3SZ57                    </td><td>10425228827</td></tr>\n",
       "\t<tr><th scope=row>5</th><td>Set1</td><td>CoCulture</td><td>Exposed</td><td>CoCulture_Exposed1</td><td>ENSEMBL.ENSBTAP00000024146</td><td>11522621335</td></tr>\n",
       "\t<tr><th scope=row>6</th><td>Set1</td><td>CoCulture</td><td>Exposed</td><td>CoCulture_Exposed1</td><td>O15230                    </td><td> 2820298745</td></tr>\n",
       "</tbody>\n",
       "</table>\n"
      ],
      "text/latex": [
       "A data.frame: 6 × 6\n",
       "\\begin{tabular}{r|llllll}\n",
       "  & Set & Treatment & Exposure & ID & Protein & Value\\\\\n",
       "  & <chr> & <chr> & <chr> & <chr> & <chr> & <dbl>\\\\\n",
       "\\hline\n",
       "\t1 & Set1 & CoCulture & Exposed & CoCulture\\_Exposed1 & P35555                     &  6540459348\\\\\n",
       "\t2 & Set1 & CoCulture & Exposed & CoCulture\\_Exposed1 & ENSEMBL.ENSBTAP00000007350 &  8526739787\\\\\n",
       "\t3 & Set1 & CoCulture & Exposed & CoCulture\\_Exposed1 & Q15149                     &  3467760325\\\\\n",
       "\t4 & Set1 & CoCulture & Exposed & CoCulture\\_Exposed1 & Q3SZ57                     & 10425228827\\\\\n",
       "\t5 & Set1 & CoCulture & Exposed & CoCulture\\_Exposed1 & ENSEMBL.ENSBTAP00000024146 & 11522621335\\\\\n",
       "\t6 & Set1 & CoCulture & Exposed & CoCulture\\_Exposed1 & O15230                     &  2820298745\\\\\n",
       "\\end{tabular}\n"
      ],
      "text/markdown": [
       "\n",
       "A data.frame: 6 × 6\n",
       "\n",
       "| <!--/--> | Set &lt;chr&gt; | Treatment &lt;chr&gt; | Exposure &lt;chr&gt; | ID &lt;chr&gt; | Protein &lt;chr&gt; | Value &lt;dbl&gt; |\n",
       "|---|---|---|---|---|---|---|\n",
       "| 1 | Set1 | CoCulture | Exposed | CoCulture_Exposed1 | P35555                     |  6540459348 |\n",
       "| 2 | Set1 | CoCulture | Exposed | CoCulture_Exposed1 | ENSEMBL.ENSBTAP00000007350 |  8526739787 |\n",
       "| 3 | Set1 | CoCulture | Exposed | CoCulture_Exposed1 | Q15149                     |  3467760325 |\n",
       "| 4 | Set1 | CoCulture | Exposed | CoCulture_Exposed1 | Q3SZ57                     | 10425228827 |\n",
       "| 5 | Set1 | CoCulture | Exposed | CoCulture_Exposed1 | ENSEMBL.ENSBTAP00000024146 | 11522621335 |\n",
       "| 6 | Set1 | CoCulture | Exposed | CoCulture_Exposed1 | O15230                     |  2820298745 |\n",
       "\n"
      ],
      "text/plain": [
       "  Set  Treatment Exposure ID                 Protein                   \n",
       "1 Set1 CoCulture Exposed  CoCulture_Exposed1 P35555                    \n",
       "2 Set1 CoCulture Exposed  CoCulture_Exposed1 ENSEMBL.ENSBTAP00000007350\n",
       "3 Set1 CoCulture Exposed  CoCulture_Exposed1 Q15149                    \n",
       "4 Set1 CoCulture Exposed  CoCulture_Exposed1 Q3SZ57                    \n",
       "5 Set1 CoCulture Exposed  CoCulture_Exposed1 ENSEMBL.ENSBTAP00000024146\n",
       "6 Set1 CoCulture Exposed  CoCulture_Exposed1 O15230                    \n",
       "  Value      \n",
       "1  6540459348\n",
       "2  8526739787\n",
       "3  3467760325\n",
       "4 10425228827\n",
       "5 11522621335\n",
       "6  2820298745"
      ]
     },
     "metadata": {},
     "output_type": "display_data"
    }
   ],
   "source": [
    "proteomics_df = proteomics_df %>%\n",
    "    # just want a column that specifies the treatment and exposure separately\n",
    "    separate(Treatment, c(\"Treatment\", \"Exposure\"), sep = \"_\") \n",
    "\n",
    "head(proteomics_df)"
   ]
  },
  {
   "cell_type": "code",
   "execution_count": 4,
   "id": "e9e81f3a",
   "metadata": {},
   "outputs": [
    {
     "data": {
      "text/html": [
       "<table class=\"dataframe\">\n",
       "<caption>A tibble: 6 × 6</caption>\n",
       "<thead>\n",
       "\t<tr><th scope=col>Set</th><th scope=col>Treatment</th><th scope=col>Exposure</th><th scope=col>ID</th><th scope=col>Protein</th><th scope=col>Value</th></tr>\n",
       "\t<tr><th scope=col>&lt;chr&gt;</th><th scope=col>&lt;chr&gt;</th><th scope=col>&lt;chr&gt;</th><th scope=col>&lt;chr&gt;</th><th scope=col>&lt;chr&gt;</th><th scope=col>&lt;dbl&gt;</th></tr>\n",
       "</thead>\n",
       "<tbody>\n",
       "\t<tr><td>Set1</td><td>CoCulture</td><td>Exposed</td><td>CoCulture_Exposed1</td><td>P35555                    </td><td> 6540459348</td></tr>\n",
       "\t<tr><td>Set1</td><td>CoCulture</td><td>Exposed</td><td>CoCulture_Exposed1</td><td>ENSEMBL.ENSBTAP00000007350</td><td> 8526739787</td></tr>\n",
       "\t<tr><td>Set1</td><td>CoCulture</td><td>Exposed</td><td>CoCulture_Exposed1</td><td>Q15149                    </td><td> 3467760325</td></tr>\n",
       "\t<tr><td>Set1</td><td>CoCulture</td><td>Exposed</td><td>CoCulture_Exposed1</td><td>Q3SZ57                    </td><td>10425228827</td></tr>\n",
       "\t<tr><td>Set1</td><td>CoCulture</td><td>Exposed</td><td>CoCulture_Exposed1</td><td>ENSEMBL.ENSBTAP00000024146</td><td>11522621335</td></tr>\n",
       "\t<tr><td>Set1</td><td>CoCulture</td><td>Exposed</td><td>CoCulture_Exposed1</td><td>O15230                    </td><td> 2820298745</td></tr>\n",
       "</tbody>\n",
       "</table>\n"
      ],
      "text/latex": [
       "A tibble: 6 × 6\n",
       "\\begin{tabular}{llllll}\n",
       " Set & Treatment & Exposure & ID & Protein & Value\\\\\n",
       " <chr> & <chr> & <chr> & <chr> & <chr> & <dbl>\\\\\n",
       "\\hline\n",
       "\t Set1 & CoCulture & Exposed & CoCulture\\_Exposed1 & P35555                     &  6540459348\\\\\n",
       "\t Set1 & CoCulture & Exposed & CoCulture\\_Exposed1 & ENSEMBL.ENSBTAP00000007350 &  8526739787\\\\\n",
       "\t Set1 & CoCulture & Exposed & CoCulture\\_Exposed1 & Q15149                     &  3467760325\\\\\n",
       "\t Set1 & CoCulture & Exposed & CoCulture\\_Exposed1 & Q3SZ57                     & 10425228827\\\\\n",
       "\t Set1 & CoCulture & Exposed & CoCulture\\_Exposed1 & ENSEMBL.ENSBTAP00000024146 & 11522621335\\\\\n",
       "\t Set1 & CoCulture & Exposed & CoCulture\\_Exposed1 & O15230                     &  2820298745\\\\\n",
       "\\end{tabular}\n"
      ],
      "text/markdown": [
       "\n",
       "A tibble: 6 × 6\n",
       "\n",
       "| Set &lt;chr&gt; | Treatment &lt;chr&gt; | Exposure &lt;chr&gt; | ID &lt;chr&gt; | Protein &lt;chr&gt; | Value &lt;dbl&gt; |\n",
       "|---|---|---|---|---|---|\n",
       "| Set1 | CoCulture | Exposed | CoCulture_Exposed1 | P35555                     |  6540459348 |\n",
       "| Set1 | CoCulture | Exposed | CoCulture_Exposed1 | ENSEMBL.ENSBTAP00000007350 |  8526739787 |\n",
       "| Set1 | CoCulture | Exposed | CoCulture_Exposed1 | Q15149                     |  3467760325 |\n",
       "| Set1 | CoCulture | Exposed | CoCulture_Exposed1 | Q3SZ57                     | 10425228827 |\n",
       "| Set1 | CoCulture | Exposed | CoCulture_Exposed1 | ENSEMBL.ENSBTAP00000024146 | 11522621335 |\n",
       "| Set1 | CoCulture | Exposed | CoCulture_Exposed1 | O15230                     |  2820298745 |\n",
       "\n"
      ],
      "text/plain": [
       "  Set  Treatment Exposure ID                 Protein                   \n",
       "1 Set1 CoCulture Exposed  CoCulture_Exposed1 P35555                    \n",
       "2 Set1 CoCulture Exposed  CoCulture_Exposed1 ENSEMBL.ENSBTAP00000007350\n",
       "3 Set1 CoCulture Exposed  CoCulture_Exposed1 Q15149                    \n",
       "4 Set1 CoCulture Exposed  CoCulture_Exposed1 Q3SZ57                    \n",
       "5 Set1 CoCulture Exposed  CoCulture_Exposed1 ENSEMBL.ENSBTAP00000024146\n",
       "6 Set1 CoCulture Exposed  CoCulture_Exposed1 O15230                    \n",
       "  Value      \n",
       "1  6540459348\n",
       "2  8526739787\n",
       "3  3467760325\n",
       "4 10425228827\n",
       "5 11522621335\n",
       "6  2820298745"
      ]
     },
     "metadata": {},
     "output_type": "display_data"
    }
   ],
   "source": [
    "# splitting by Set\n",
    "proteomics_df_split = proteomics_df %>%\n",
    "    group_by(Set) %>%\n",
    "    group_split()\n",
    "\n",
    "set1_proteomics_df = proteomics_df_split[[1]]\n",
    "set2_proteomics_df = proteomics_df_split[[2]]\n",
    "\n",
    "head(set1_proteomics_df)"
   ]
  },
  {
   "cell_type": "markdown",
   "id": "e9be1db6",
   "metadata": {},
   "source": [
    "Running t tests to determine if there are statistically significant distribution differences in co-culture unexposed vs. exposed and tri-culture unexposed vs. exposed. "
   ]
  },
  {
   "cell_type": "code",
   "execution_count": 5,
   "id": "9b6930b4",
   "metadata": {},
   "outputs": [],
   "source": [
    "t_test_values = function(df, set_id){\n",
    "    # \"\"\"\n",
    "    # Running t tests after filtering for set, treatment, exposure, and protein using a loop. \n",
    "    # Ultimately using this test to compare proteins (unexposed vs. exposed).\n",
    "\n",
    "    # :param: subsetted dataframe, empty dataframe\n",
    "    # :output: a dataframe containing the set, treatment, exposure, protein, u stat, p value, p adj\n",
    "\n",
    "    # \"\"\"\n",
    "    treatments = unique(df$Treatment)\n",
    "    proteins = unique(df$Protein)\n",
    "    \n",
    "    values_df = data.frame()\n",
    "    # iterating through each tx, protein\n",
    "\n",
    "    for(i in 1:length(treatments)){\n",
    "        for(j in 1:length(proteins)){\n",
    "            # unexposed df\n",
    "            unexposed_df = df %>%\n",
    "                filter(Treatment == treatments[i], Exposure == \"Vehicle\", Protein == proteins[j])\n",
    "            # exposed df\n",
    "            exposed_df = df %>%\n",
    "                filter(Treatment == treatments[i], Exposure == \"Exposed\", Protein == proteins[j])\n",
    "\n",
    "            # t test\n",
    "            t_test = t.test(unexposed_df$Value, exposed_df$Value)\n",
    "            \n",
    "            # calculating FC to get directionality\n",
    "            FC = log2(mean(unexposed_df$Value)/mean(exposed_df$Value))\n",
    "\n",
    "            # contains smoking status compared, compartment, cytokine, u stat, and p value\n",
    "            values_vector = cbind(set_id, treatments[i], proteins[j], FC, t_test$statistic, t_test$p.value)\n",
    "            values_df = rbind(values_df, values_vector)\n",
    "            }\n",
    "        }\n",
    "\n",
    "    \n",
    "    # adding col names\n",
    "    colnames(values_df) = c(\"Set\", \"Treatment\", \"Protein\", \"log2FC\", \"Statistic\", \"PValue\")\n",
    "    \n",
    "    \n",
    "    # calculating padj values\n",
    "    padj_vector = c()\n",
    "    # adjusting within each treatment\n",
    "    for (i in 1:length(treatments)){\n",
    "        PAdj = p.adjust(as.numeric(as.character(values_df$PValue)), method = \"fdr\")\n",
    "        padj_vector = c(padj_vector, PAdj)\n",
    "    }\n",
    "    \n",
    "    values_df = cbind(values_df, padj_vector) %>%\n",
    "        rename(PAdj = padj_vector)\n",
    "\n",
    "    values_df$log2FC = as.numeric(values_df$log2FC) \n",
    "    values_df$Statistic = as.numeric(values_df$Statistic)\n",
    "    values_df$PValue = as.numeric(values_df$PValue) \n",
    "    \n",
    "    return(values_df)\n",
    "}"
   ]
  },
  {
   "cell_type": "code",
   "execution_count": 6,
   "id": "ed469849",
   "metadata": {},
   "outputs": [],
   "source": [
    "# calling fn\n",
    "set1_t_test = t_test_values(set1_proteomics_df, \"Set1\")\n",
    "set2_t_test = t_test_values(set2_proteomics_df, \"Set2\")"
   ]
  },
  {
   "cell_type": "code",
   "execution_count": 7,
   "id": "126ffaca",
   "metadata": {},
   "outputs": [
    {
     "name": "stderr",
     "output_type": "stream",
     "text": [
      "\u001b[1m\u001b[22mJoining, by = \"Protein\"\n"
     ]
    },
    {
     "data": {
      "text/html": [
       "<table class=\"dataframe\">\n",
       "<caption>A data.frame: 6 × 8</caption>\n",
       "<thead>\n",
       "\t<tr><th></th><th scope=col>Set</th><th scope=col>Treatment</th><th scope=col>Protein</th><th scope=col>Gene.name</th><th scope=col>log2FC</th><th scope=col>Statistic</th><th scope=col>PValue</th><th scope=col>PAdj</th></tr>\n",
       "\t<tr><th></th><th scope=col>&lt;chr&gt;</th><th scope=col>&lt;chr&gt;</th><th scope=col>&lt;chr&gt;</th><th scope=col>&lt;chr&gt;</th><th scope=col>&lt;dbl&gt;</th><th scope=col>&lt;dbl&gt;</th><th scope=col>&lt;dbl&gt;</th><th scope=col>&lt;dbl&gt;</th></tr>\n",
       "</thead>\n",
       "<tbody>\n",
       "\t<tr><th scope=row>1</th><td>Set1</td><td>CoCulture</td><td>P35555                    </td><td>FBN1                                                      </td><td> 0.4170353</td><td> 1.698397</td><td>0.1362787344</td><td>0.62210656</td></tr>\n",
       "\t<tr><th scope=row>2</th><td>Set1</td><td>CoCulture</td><td>ENSEMBL.ENSBTAP00000007350</td><td>NA                                                        </td><td>-0.1148787</td><td>-0.753430</td><td>0.4762868247</td><td>0.75794481</td></tr>\n",
       "\t<tr><th scope=row>3</th><td>Set1</td><td>CoCulture</td><td>Q15149                    </td><td>PLEC                                                      </td><td> 0.4597880</td><td> 1.846910</td><td>0.1168206398</td><td>0.60054807</td></tr>\n",
       "\t<tr><th scope=row>4</th><td>Set1</td><td>CoCulture</td><td>Q3SZ57                    </td><td>SWISS-PROT:Q3SZ57 (Bos taurus) Alpha-fetoprotein precursor</td><td>-0.2620412</td><td>-2.379419</td><td>0.0420538821</td><td>0.43762127</td></tr>\n",
       "\t<tr><th scope=row>5</th><td>Set1</td><td>CoCulture</td><td>ENSEMBL.ENSBTAP00000024146</td><td>NA                                                        </td><td>-0.1957441</td><td>-1.664539</td><td>0.1270120086</td><td>0.60236388</td></tr>\n",
       "\t<tr><th scope=row>6</th><td>Set1</td><td>CoCulture</td><td>O15230                    </td><td>LAMA5                                                     </td><td> 1.0877391</td><td> 6.497583</td><td>0.0002720046</td><td>0.04521716</td></tr>\n",
       "</tbody>\n",
       "</table>\n"
      ],
      "text/latex": [
       "A data.frame: 6 × 8\n",
       "\\begin{tabular}{r|llllllll}\n",
       "  & Set & Treatment & Protein & Gene.name & log2FC & Statistic & PValue & PAdj\\\\\n",
       "  & <chr> & <chr> & <chr> & <chr> & <dbl> & <dbl> & <dbl> & <dbl>\\\\\n",
       "\\hline\n",
       "\t1 & Set1 & CoCulture & P35555                     & FBN1                                                       &  0.4170353 &  1.698397 & 0.1362787344 & 0.62210656\\\\\n",
       "\t2 & Set1 & CoCulture & ENSEMBL.ENSBTAP00000007350 & NA                                                         & -0.1148787 & -0.753430 & 0.4762868247 & 0.75794481\\\\\n",
       "\t3 & Set1 & CoCulture & Q15149                     & PLEC                                                       &  0.4597880 &  1.846910 & 0.1168206398 & 0.60054807\\\\\n",
       "\t4 & Set1 & CoCulture & Q3SZ57                     & SWISS-PROT:Q3SZ57 (Bos taurus) Alpha-fetoprotein precursor & -0.2620412 & -2.379419 & 0.0420538821 & 0.43762127\\\\\n",
       "\t5 & Set1 & CoCulture & ENSEMBL.ENSBTAP00000024146 & NA                                                         & -0.1957441 & -1.664539 & 0.1270120086 & 0.60236388\\\\\n",
       "\t6 & Set1 & CoCulture & O15230                     & LAMA5                                                      &  1.0877391 &  6.497583 & 0.0002720046 & 0.04521716\\\\\n",
       "\\end{tabular}\n"
      ],
      "text/markdown": [
       "\n",
       "A data.frame: 6 × 8\n",
       "\n",
       "| <!--/--> | Set &lt;chr&gt; | Treatment &lt;chr&gt; | Protein &lt;chr&gt; | Gene.name &lt;chr&gt; | log2FC &lt;dbl&gt; | Statistic &lt;dbl&gt; | PValue &lt;dbl&gt; | PAdj &lt;dbl&gt; |\n",
       "|---|---|---|---|---|---|---|---|---|\n",
       "| 1 | Set1 | CoCulture | P35555                     | FBN1                                                       |  0.4170353 |  1.698397 | 0.1362787344 | 0.62210656 |\n",
       "| 2 | Set1 | CoCulture | ENSEMBL.ENSBTAP00000007350 | NA                                                         | -0.1148787 | -0.753430 | 0.4762868247 | 0.75794481 |\n",
       "| 3 | Set1 | CoCulture | Q15149                     | PLEC                                                       |  0.4597880 |  1.846910 | 0.1168206398 | 0.60054807 |\n",
       "| 4 | Set1 | CoCulture | Q3SZ57                     | SWISS-PROT:Q3SZ57 (Bos taurus) Alpha-fetoprotein precursor | -0.2620412 | -2.379419 | 0.0420538821 | 0.43762127 |\n",
       "| 5 | Set1 | CoCulture | ENSEMBL.ENSBTAP00000024146 | NA                                                         | -0.1957441 | -1.664539 | 0.1270120086 | 0.60236388 |\n",
       "| 6 | Set1 | CoCulture | O15230                     | LAMA5                                                      |  1.0877391 |  6.497583 | 0.0002720046 | 0.04521716 |\n",
       "\n"
      ],
      "text/plain": [
       "  Set  Treatment Protein                   \n",
       "1 Set1 CoCulture P35555                    \n",
       "2 Set1 CoCulture ENSEMBL.ENSBTAP00000007350\n",
       "3 Set1 CoCulture Q15149                    \n",
       "4 Set1 CoCulture Q3SZ57                    \n",
       "5 Set1 CoCulture ENSEMBL.ENSBTAP00000024146\n",
       "6 Set1 CoCulture O15230                    \n",
       "  Gene.name                                                  log2FC    \n",
       "1 FBN1                                                        0.4170353\n",
       "2 NA                                                         -0.1148787\n",
       "3 PLEC                                                        0.4597880\n",
       "4 SWISS-PROT:Q3SZ57 (Bos taurus) Alpha-fetoprotein precursor -0.2620412\n",
       "5 NA                                                         -0.1957441\n",
       "6 LAMA5                                                       1.0877391\n",
       "  Statistic PValue       PAdj      \n",
       "1  1.698397 0.1362787344 0.62210656\n",
       "2 -0.753430 0.4762868247 0.75794481\n",
       "3  1.846910 0.1168206398 0.60054807\n",
       "4 -2.379419 0.0420538821 0.43762127\n",
       "5 -1.664539 0.1270120086 0.60236388\n",
       "6  6.497583 0.0002720046 0.04521716"
      ]
     },
     "metadata": {},
     "output_type": "display_data"
    }
   ],
   "source": [
    "# creating 1 df\n",
    "t_test_df = rbind(set1_t_test, set2_t_test)\n",
    "\n",
    "# adding in gene names\n",
    "final_t_test_df = left_join(t_test_df, protein_info_df %>%\n",
    "                                select(c(\"Protein\", \"Gene.name\")))\n",
    "final_t_test_df = final_t_test_df[, c(1,2,3,8,4,5,6,7)]\n",
    "head(final_t_test_df)"
   ]
  },
  {
   "cell_type": "code",
   "execution_count": 8,
   "id": "304c9cd6",
   "metadata": {},
   "outputs": [],
   "source": [
    "# exporting t test results for volcano plot\n",
    "write.csv(final_t_test_df, paste0(Output,\"/\", cur_date, \"_Statistical_Results_Only.csv\"), row.names = FALSE)"
   ]
  },
  {
   "cell_type": "code",
   "execution_count": 24,
   "id": "dc459342",
   "metadata": {},
   "outputs": [
    {
     "data": {
      "text/html": [
       "<table class=\"dataframe\">\n",
       "<caption>A tibble: 6 × 2</caption>\n",
       "<thead>\n",
       "\t<tr><th scope=col>Protein</th><th scope=col>Avg_Abundance</th></tr>\n",
       "\t<tr><th scope=col>&lt;chr&gt;</th><th scope=col>&lt;dbl&gt;</th></tr>\n",
       "</thead>\n",
       "<tbody>\n",
       "\t<tr><td>A0AVT1                    </td><td>  10829159</td></tr>\n",
       "\t<tr><td>A1L4H1                    </td><td> 120967180</td></tr>\n",
       "\t<tr><td>A2I7N0                    </td><td>  62524792</td></tr>\n",
       "\t<tr><td>A8K2U0                    </td><td>   2721803</td></tr>\n",
       "\t<tr><td>ENSEMBL.ENSBTAP00000006074</td><td> 592914915</td></tr>\n",
       "\t<tr><td>ENSEMBL.ENSBTAP00000007350</td><td>6573830475</td></tr>\n",
       "</tbody>\n",
       "</table>\n"
      ],
      "text/latex": [
       "A tibble: 6 × 2\n",
       "\\begin{tabular}{ll}\n",
       " Protein & Avg\\_Abundance\\\\\n",
       " <chr> & <dbl>\\\\\n",
       "\\hline\n",
       "\t A0AVT1                     &   10829159\\\\\n",
       "\t A1L4H1                     &  120967180\\\\\n",
       "\t A2I7N0                     &   62524792\\\\\n",
       "\t A8K2U0                     &    2721803\\\\\n",
       "\t ENSEMBL.ENSBTAP00000006074 &  592914915\\\\\n",
       "\t ENSEMBL.ENSBTAP00000007350 & 6573830475\\\\\n",
       "\\end{tabular}\n"
      ],
      "text/markdown": [
       "\n",
       "A tibble: 6 × 2\n",
       "\n",
       "| Protein &lt;chr&gt; | Avg_Abundance &lt;dbl&gt; |\n",
       "|---|---|\n",
       "| A0AVT1                     |   10829159 |\n",
       "| A1L4H1                     |  120967180 |\n",
       "| A2I7N0                     |   62524792 |\n",
       "| A8K2U0                     |    2721803 |\n",
       "| ENSEMBL.ENSBTAP00000006074 |  592914915 |\n",
       "| ENSEMBL.ENSBTAP00000007350 | 6573830475 |\n",
       "\n"
      ],
      "text/plain": [
       "  Protein                    Avg_Abundance\n",
       "1 A0AVT1                       10829159   \n",
       "2 A1L4H1                      120967180   \n",
       "3 A2I7N0                       62524792   \n",
       "4 A8K2U0                        2721803   \n",
       "5 ENSEMBL.ENSBTAP00000006074  592914915   \n",
       "6 ENSEMBL.ENSBTAP00000007350 6573830475   "
      ]
     },
     "metadata": {},
     "output_type": "display_data"
    },
    {
     "data": {
      "text/html": [
       "<table class=\"dataframe\">\n",
       "<caption>A grouped_df: 6 × 4</caption>\n",
       "<thead>\n",
       "\t<tr><th scope=col>Treatment</th><th scope=col>Exposure</th><th scope=col>Protein</th><th scope=col>Avg_Abundance_stratified</th></tr>\n",
       "\t<tr><th scope=col>&lt;chr&gt;</th><th scope=col>&lt;chr&gt;</th><th scope=col>&lt;chr&gt;</th><th scope=col>&lt;dbl&gt;</th></tr>\n",
       "</thead>\n",
       "<tbody>\n",
       "\t<tr><td>CoCulture</td><td>Exposed</td><td>P35555                    </td><td> 7594852091</td></tr>\n",
       "\t<tr><td>CoCulture</td><td>Exposed</td><td>ENSEMBL.ENSBTAP00000007350</td><td> 7241565099</td></tr>\n",
       "\t<tr><td>CoCulture</td><td>Exposed</td><td>Q15149                    </td><td> 3698948565</td></tr>\n",
       "\t<tr><td>CoCulture</td><td>Exposed</td><td>Q3SZ57                    </td><td>11435399813</td></tr>\n",
       "\t<tr><td>CoCulture</td><td>Exposed</td><td>ENSEMBL.ENSBTAP00000024146</td><td>10418443185</td></tr>\n",
       "\t<tr><td>CoCulture</td><td>Exposed</td><td>O15230                    </td><td> 2348707267</td></tr>\n",
       "</tbody>\n",
       "</table>\n"
      ],
      "text/latex": [
       "A grouped\\_df: 6 × 4\n",
       "\\begin{tabular}{llll}\n",
       " Treatment & Exposure & Protein & Avg\\_Abundance\\_stratified\\\\\n",
       " <chr> & <chr> & <chr> & <dbl>\\\\\n",
       "\\hline\n",
       "\t CoCulture & Exposed & P35555                     &  7594852091\\\\\n",
       "\t CoCulture & Exposed & ENSEMBL.ENSBTAP00000007350 &  7241565099\\\\\n",
       "\t CoCulture & Exposed & Q15149                     &  3698948565\\\\\n",
       "\t CoCulture & Exposed & Q3SZ57                     & 11435399813\\\\\n",
       "\t CoCulture & Exposed & ENSEMBL.ENSBTAP00000024146 & 10418443185\\\\\n",
       "\t CoCulture & Exposed & O15230                     &  2348707267\\\\\n",
       "\\end{tabular}\n"
      ],
      "text/markdown": [
       "\n",
       "A grouped_df: 6 × 4\n",
       "\n",
       "| Treatment &lt;chr&gt; | Exposure &lt;chr&gt; | Protein &lt;chr&gt; | Avg_Abundance_stratified &lt;dbl&gt; |\n",
       "|---|---|---|---|\n",
       "| CoCulture | Exposed | P35555                     |  7594852091 |\n",
       "| CoCulture | Exposed | ENSEMBL.ENSBTAP00000007350 |  7241565099 |\n",
       "| CoCulture | Exposed | Q15149                     |  3698948565 |\n",
       "| CoCulture | Exposed | Q3SZ57                     | 11435399813 |\n",
       "| CoCulture | Exposed | ENSEMBL.ENSBTAP00000024146 | 10418443185 |\n",
       "| CoCulture | Exposed | O15230                     |  2348707267 |\n",
       "\n"
      ],
      "text/plain": [
       "  Treatment Exposure Protein                    Avg_Abundance_stratified\n",
       "1 CoCulture Exposed  P35555                      7594852091             \n",
       "2 CoCulture Exposed  ENSEMBL.ENSBTAP00000007350  7241565099             \n",
       "3 CoCulture Exposed  Q15149                      3698948565             \n",
       "4 CoCulture Exposed  Q3SZ57                     11435399813             \n",
       "5 CoCulture Exposed  ENSEMBL.ENSBTAP00000024146 10418443185             \n",
       "6 CoCulture Exposed  O15230                      2348707267             "
      ]
     },
     "metadata": {},
     "output_type": "display_data"
    }
   ],
   "source": [
    "# calculating overall avg. abundance and within smoking groups\n",
    "avg_abundance_df = proteomics_df %>%\n",
    "    group_by(Protein) %>%\n",
    "    summarize(Avg_Abundance = mean(Value))\n",
    "\n",
    "# stratified by treatment and exposure\n",
    "avg_abundance_df_stratified = proteomics_df %>%\n",
    "    group_by(Treatment, Exposure, Protein) %>%\n",
    "    mutate(Avg_Abundance_stratified = mean(Value)) %>%\n",
    "    select(-c(\"Set\", \"ID\", \"Value\"))\n",
    "\n",
    "head(avg_abundance_df)\n",
    "head(avg_abundance_df_stratified)"
   ]
  },
  {
   "cell_type": "code",
   "execution_count": 44,
   "id": "efdc892f",
   "metadata": {},
   "outputs": [
    {
     "data": {
      "text/html": [
       "<table class=\"dataframe\">\n",
       "<caption>A tibble: 6 × 2</caption>\n",
       "<thead>\n",
       "\t<tr><th scope=col>Protein</th><th scope=col>Coculture_Exposed.Avg_Abundance</th></tr>\n",
       "\t<tr><th scope=col>&lt;chr&gt;</th><th scope=col>&lt;dbl&gt;</th></tr>\n",
       "</thead>\n",
       "<tbody>\n",
       "\t<tr><td>P35555                    </td><td> 7594852091</td></tr>\n",
       "\t<tr><td>ENSEMBL.ENSBTAP00000007350</td><td> 7241565099</td></tr>\n",
       "\t<tr><td>Q15149                    </td><td> 3698948565</td></tr>\n",
       "\t<tr><td>Q3SZ57                    </td><td>11435399813</td></tr>\n",
       "\t<tr><td>ENSEMBL.ENSBTAP00000024146</td><td>10418443185</td></tr>\n",
       "\t<tr><td>O15230                    </td><td> 2348707267</td></tr>\n",
       "</tbody>\n",
       "</table>\n"
      ],
      "text/latex": [
       "A tibble: 6 × 2\n",
       "\\begin{tabular}{ll}\n",
       " Protein & Coculture\\_Exposed.Avg\\_Abundance\\\\\n",
       " <chr> & <dbl>\\\\\n",
       "\\hline\n",
       "\t P35555                     &  7594852091\\\\\n",
       "\t ENSEMBL.ENSBTAP00000007350 &  7241565099\\\\\n",
       "\t Q15149                     &  3698948565\\\\\n",
       "\t Q3SZ57                     & 11435399813\\\\\n",
       "\t ENSEMBL.ENSBTAP00000024146 & 10418443185\\\\\n",
       "\t O15230                     &  2348707267\\\\\n",
       "\\end{tabular}\n"
      ],
      "text/markdown": [
       "\n",
       "A tibble: 6 × 2\n",
       "\n",
       "| Protein &lt;chr&gt; | Coculture_Exposed.Avg_Abundance &lt;dbl&gt; |\n",
       "|---|---|\n",
       "| P35555                     |  7594852091 |\n",
       "| ENSEMBL.ENSBTAP00000007350 |  7241565099 |\n",
       "| Q15149                     |  3698948565 |\n",
       "| Q3SZ57                     | 11435399813 |\n",
       "| ENSEMBL.ENSBTAP00000024146 | 10418443185 |\n",
       "| O15230                     |  2348707267 |\n",
       "\n"
      ],
      "text/plain": [
       "  Protein                    Coculture_Exposed.Avg_Abundance\n",
       "1 P35555                      7594852091                    \n",
       "2 ENSEMBL.ENSBTAP00000007350  7241565099                    \n",
       "3 Q15149                      3698948565                    \n",
       "4 Q3SZ57                     11435399813                    \n",
       "5 ENSEMBL.ENSBTAP00000024146 10418443185                    \n",
       "6 O15230                      2348707267                    "
      ]
     },
     "metadata": {},
     "output_type": "display_data"
    }
   ],
   "source": [
    "# changing the stratified dfs to making combining easier\n",
    "# first splitting dfs\n",
    "split_avg_abundance_stratified = avg_abundance_df_stratified %>%\n",
    "    group_by(Treatment, Exposure) %>%\n",
    "    group_split()\n",
    "\n",
    "# adding treatment to the title\n",
    "coculture_exposed_avg_abundance = split_avg_abundance_stratified[[1]] %>%\n",
    "    select(-c(\"Treatment\", \"Exposure\")) %>%\n",
    "    rename(Coculture_Exposed.Avg_Abundance = Avg_Abundance_stratified)\n",
    "coculture_vehicle_avg_abundance = split_avg_abundance_stratified[[2]] %>%\n",
    "    select(-c(\"Treatment\", \"Exposure\")) %>%\n",
    "    rename(Coculture_Vehicle.Avg_Abundance = Avg_Abundance_stratified)\n",
    "triculture_exposed_avg_abundance = split_avg_abundance_stratified[[3]] %>%\n",
    "    select(-c(\"Treatment\", \"Exposure\")) %>%\n",
    "    rename(Triculture_Exposed.Avg_Abundance = Avg_Abundance_stratified)\n",
    "triculture_vehicle_avg_abundance = split_avg_abundance_stratified[[4]] %>%\n",
    "    select(-c(\"Treatment\", \"Exposure\")) %>%\n",
    "    rename(Triculture_Vehicle.Avg_Abundance = Avg_Abundance_stratified)\n",
    "\n",
    "head(coculture_exposed_avg_abundance)"
   ]
  },
  {
   "cell_type": "code",
   "execution_count": 47,
   "id": "54169c00",
   "metadata": {},
   "outputs": [
    {
     "name": "stderr",
     "output_type": "stream",
     "text": [
      "\u001b[1m\u001b[22mJoining, by = \"Protein\"\n",
      "\u001b[1m\u001b[22mJoining, by = \"Protein\"\n",
      "\u001b[1m\u001b[22mJoining, by = \"Protein\"\n",
      "\u001b[1m\u001b[22mJoining, by = \"Protein\"\n"
     ]
    },
    {
     "data": {
      "text/html": [
       "<table class=\"dataframe\">\n",
       "<caption>A tibble: 6 × 6</caption>\n",
       "<thead>\n",
       "\t<tr><th scope=col>Protein</th><th scope=col>Avg_Abundance</th><th scope=col>Coculture_Exposed.Avg_Abundance</th><th scope=col>Coculture_Vehicle.Avg_Abundance</th><th scope=col>Triculture_Exposed.Avg_Abundance</th><th scope=col>Triculture_Vehicle.Avg_Abundance</th></tr>\n",
       "\t<tr><th scope=col>&lt;chr&gt;</th><th scope=col>&lt;dbl&gt;</th><th scope=col>&lt;dbl&gt;</th><th scope=col>&lt;dbl&gt;</th><th scope=col>&lt;dbl&gt;</th><th scope=col>&lt;dbl&gt;</th></tr>\n",
       "</thead>\n",
       "<tbody>\n",
       "\t<tr><td>A0AVT1                    </td><td>  10829159</td><td>        NA</td><td>        NA</td><td>   8625739.1</td><td>  13032578</td></tr>\n",
       "\t<tr><td>A1L4H1                    </td><td> 120967180</td><td>  14956538</td><td>  23986631</td><td> 219404009.3</td><td> 225521544</td></tr>\n",
       "\t<tr><td>A2I7N0                    </td><td>  62524792</td><td>  69341111</td><td>  55708473</td><td>          NA</td><td>        NA</td></tr>\n",
       "\t<tr><td>A8K2U0                    </td><td>   2721803</td><td>        NA</td><td>        NA</td><td>    575386.4</td><td>   4868220</td></tr>\n",
       "\t<tr><td>ENSEMBL.ENSBTAP00000006074</td><td> 592914915</td><td> 742699026</td><td> 745195374</td><td> 471391316.8</td><td> 412373943</td></tr>\n",
       "\t<tr><td>ENSEMBL.ENSBTAP00000007350</td><td>6573830475</td><td>7241565099</td><td>6687295314</td><td>6766781752.4</td><td>5599679733</td></tr>\n",
       "</tbody>\n",
       "</table>\n"
      ],
      "text/latex": [
       "A tibble: 6 × 6\n",
       "\\begin{tabular}{llllll}\n",
       " Protein & Avg\\_Abundance & Coculture\\_Exposed.Avg\\_Abundance & Coculture\\_Vehicle.Avg\\_Abundance & Triculture\\_Exposed.Avg\\_Abundance & Triculture\\_Vehicle.Avg\\_Abundance\\\\\n",
       " <chr> & <dbl> & <dbl> & <dbl> & <dbl> & <dbl>\\\\\n",
       "\\hline\n",
       "\t A0AVT1                     &   10829159 &         NA &         NA &    8625739.1 &   13032578\\\\\n",
       "\t A1L4H1                     &  120967180 &   14956538 &   23986631 &  219404009.3 &  225521544\\\\\n",
       "\t A2I7N0                     &   62524792 &   69341111 &   55708473 &           NA &         NA\\\\\n",
       "\t A8K2U0                     &    2721803 &         NA &         NA &     575386.4 &    4868220\\\\\n",
       "\t ENSEMBL.ENSBTAP00000006074 &  592914915 &  742699026 &  745195374 &  471391316.8 &  412373943\\\\\n",
       "\t ENSEMBL.ENSBTAP00000007350 & 6573830475 & 7241565099 & 6687295314 & 6766781752.4 & 5599679733\\\\\n",
       "\\end{tabular}\n"
      ],
      "text/markdown": [
       "\n",
       "A tibble: 6 × 6\n",
       "\n",
       "| Protein &lt;chr&gt; | Avg_Abundance &lt;dbl&gt; | Coculture_Exposed.Avg_Abundance &lt;dbl&gt; | Coculture_Vehicle.Avg_Abundance &lt;dbl&gt; | Triculture_Exposed.Avg_Abundance &lt;dbl&gt; | Triculture_Vehicle.Avg_Abundance &lt;dbl&gt; |\n",
       "|---|---|---|---|---|---|\n",
       "| A0AVT1                     |   10829159 |         NA |         NA |    8625739.1 |   13032578 |\n",
       "| A1L4H1                     |  120967180 |   14956538 |   23986631 |  219404009.3 |  225521544 |\n",
       "| A2I7N0                     |   62524792 |   69341111 |   55708473 |           NA |         NA |\n",
       "| A8K2U0                     |    2721803 |         NA |         NA |     575386.4 |    4868220 |\n",
       "| ENSEMBL.ENSBTAP00000006074 |  592914915 |  742699026 |  745195374 |  471391316.8 |  412373943 |\n",
       "| ENSEMBL.ENSBTAP00000007350 | 6573830475 | 7241565099 | 6687295314 | 6766781752.4 | 5599679733 |\n",
       "\n"
      ],
      "text/plain": [
       "  Protein                    Avg_Abundance Coculture_Exposed.Avg_Abundance\n",
       "1 A0AVT1                       10829159            NA                     \n",
       "2 A1L4H1                      120967180      14956538                     \n",
       "3 A2I7N0                       62524792      69341111                     \n",
       "4 A8K2U0                        2721803            NA                     \n",
       "5 ENSEMBL.ENSBTAP00000006074  592914915     742699026                     \n",
       "6 ENSEMBL.ENSBTAP00000007350 6573830475    7241565099                     \n",
       "  Coculture_Vehicle.Avg_Abundance Triculture_Exposed.Avg_Abundance\n",
       "1         NA                         8625739.1                    \n",
       "2   23986631                       219404009.3                    \n",
       "3   55708473                                NA                    \n",
       "4         NA                          575386.4                    \n",
       "5  745195374                       471391316.8                    \n",
       "6 6687295314                      6766781752.4                    \n",
       "  Triculture_Vehicle.Avg_Abundance\n",
       "1   13032578                      \n",
       "2  225521544                      \n",
       "3         NA                      \n",
       "4    4868220                      \n",
       "5  412373943                      \n",
       "6 5599679733                      "
      ]
     },
     "metadata": {},
     "output_type": "display_data"
    }
   ],
   "source": [
    "# combining into 1 abundance df\n",
    "stratified_abundance_df = full_join(inner_join(coculture_exposed_avg_abundance, coculture_vehicle_avg_abundance) %>% \n",
    "                                    unique(), \n",
    "      inner_join(triculture_exposed_avg_abundance, triculture_vehicle_avg_abundance) %>% \n",
    "                                    unique())\n",
    "abundance_df = full_join(avg_abundance_df, stratified_abundance_df)\n",
    "\n",
    "head(abundance_df)"
   ]
  },
  {
   "cell_type": "markdown",
   "id": "80cf0185",
   "metadata": {},
   "source": [
    "Some cells have NA values, because not all proteins were the same between coculture and triculture treatment groups. "
   ]
  },
  {
   "cell_type": "code",
   "execution_count": 50,
   "id": "838aa80d",
   "metadata": {},
   "outputs": [
    {
     "name": "stderr",
     "output_type": "stream",
     "text": [
      "\u001b[1m\u001b[22mJoining, by = \"Protein\"\n",
      "\u001b[1m\u001b[22mJoining, by = \"Protein\"\n"
     ]
    },
    {
     "data": {
      "text/html": [
       "<table class=\"dataframe\">\n",
       "<caption>A tibble: 6 × 9</caption>\n",
       "<thead>\n",
       "\t<tr><th scope=col>Protein</th><th scope=col>Gene.name</th><th scope=col>log2FC</th><th scope=col>Statistic</th><th scope=col>PValue</th><th scope=col>PAdj</th><th scope=col>Avg_Abundance</th><th scope=col>Coculture_Exposed.Avg_Abundance</th><th scope=col>Coculture_Vehicle.Avg_Abundance</th></tr>\n",
       "\t<tr><th scope=col>&lt;chr&gt;</th><th scope=col>&lt;chr&gt;</th><th scope=col>&lt;dbl&gt;</th><th scope=col>&lt;dbl&gt;</th><th scope=col>&lt;dbl&gt;</th><th scope=col>&lt;dbl&gt;</th><th scope=col>&lt;dbl&gt;</th><th scope=col>&lt;dbl&gt;</th><th scope=col>&lt;dbl&gt;</th></tr>\n",
       "</thead>\n",
       "<tbody>\n",
       "\t<tr><td>P35555                    </td><td>FBN1                                                      </td><td> 0.4170353</td><td> 1.698397</td><td>0.1362787344</td><td>0.62210656</td><td>8785750953</td><td> 7594852091</td><td>10140502127</td></tr>\n",
       "\t<tr><td>ENSEMBL.ENSBTAP00000007350</td><td>NA                                                        </td><td>-0.1148787</td><td>-0.753430</td><td>0.4762868247</td><td>0.75794481</td><td>6573830475</td><td> 7241565099</td><td> 6687295314</td></tr>\n",
       "\t<tr><td>Q15149                    </td><td>PLEC                                                      </td><td> 0.4597880</td><td> 1.846910</td><td>0.1168206398</td><td>0.60054807</td><td>5091028958</td><td> 3698948565</td><td> 5087310732</td></tr>\n",
       "\t<tr><td>Q3SZ57                    </td><td>SWISS-PROT:Q3SZ57 (Bos taurus) Alpha-fetoprotein precursor</td><td>-0.2620412</td><td>-2.379419</td><td>0.0420538821</td><td>0.43762127</td><td>8544206793</td><td>11435399813</td><td> 9536062413</td></tr>\n",
       "\t<tr><td>ENSEMBL.ENSBTAP00000024146</td><td>NA                                                        </td><td>-0.1957441</td><td>-1.664539</td><td>0.1270120086</td><td>0.60236388</td><td>9757509838</td><td>10418443185</td><td> 9096576490</td></tr>\n",
       "\t<tr><td>O15230                    </td><td>LAMA5                                                     </td><td> 1.0877391</td><td> 6.497583</td><td>0.0002720046</td><td>0.04521716</td><td>3112240543</td><td> 2348707267</td><td> 4991958657</td></tr>\n",
       "</tbody>\n",
       "</table>\n"
      ],
      "text/latex": [
       "A tibble: 6 × 9\n",
       "\\begin{tabular}{lllllllll}\n",
       " Protein & Gene.name & log2FC & Statistic & PValue & PAdj & Avg\\_Abundance & Coculture\\_Exposed.Avg\\_Abundance & Coculture\\_Vehicle.Avg\\_Abundance\\\\\n",
       " <chr> & <chr> & <dbl> & <dbl> & <dbl> & <dbl> & <dbl> & <dbl> & <dbl>\\\\\n",
       "\\hline\n",
       "\t P35555                     & FBN1                                                       &  0.4170353 &  1.698397 & 0.1362787344 & 0.62210656 & 8785750953 &  7594852091 & 10140502127\\\\\n",
       "\t ENSEMBL.ENSBTAP00000007350 & NA                                                         & -0.1148787 & -0.753430 & 0.4762868247 & 0.75794481 & 6573830475 &  7241565099 &  6687295314\\\\\n",
       "\t Q15149                     & PLEC                                                       &  0.4597880 &  1.846910 & 0.1168206398 & 0.60054807 & 5091028958 &  3698948565 &  5087310732\\\\\n",
       "\t Q3SZ57                     & SWISS-PROT:Q3SZ57 (Bos taurus) Alpha-fetoprotein precursor & -0.2620412 & -2.379419 & 0.0420538821 & 0.43762127 & 8544206793 & 11435399813 &  9536062413\\\\\n",
       "\t ENSEMBL.ENSBTAP00000024146 & NA                                                         & -0.1957441 & -1.664539 & 0.1270120086 & 0.60236388 & 9757509838 & 10418443185 &  9096576490\\\\\n",
       "\t O15230                     & LAMA5                                                      &  1.0877391 &  6.497583 & 0.0002720046 & 0.04521716 & 3112240543 &  2348707267 &  4991958657\\\\\n",
       "\\end{tabular}\n"
      ],
      "text/markdown": [
       "\n",
       "A tibble: 6 × 9\n",
       "\n",
       "| Protein &lt;chr&gt; | Gene.name &lt;chr&gt; | log2FC &lt;dbl&gt; | Statistic &lt;dbl&gt; | PValue &lt;dbl&gt; | PAdj &lt;dbl&gt; | Avg_Abundance &lt;dbl&gt; | Coculture_Exposed.Avg_Abundance &lt;dbl&gt; | Coculture_Vehicle.Avg_Abundance &lt;dbl&gt; |\n",
       "|---|---|---|---|---|---|---|---|---|\n",
       "| P35555                     | FBN1                                                       |  0.4170353 |  1.698397 | 0.1362787344 | 0.62210656 | 8785750953 |  7594852091 | 10140502127 |\n",
       "| ENSEMBL.ENSBTAP00000007350 | NA                                                         | -0.1148787 | -0.753430 | 0.4762868247 | 0.75794481 | 6573830475 |  7241565099 |  6687295314 |\n",
       "| Q15149                     | PLEC                                                       |  0.4597880 |  1.846910 | 0.1168206398 | 0.60054807 | 5091028958 |  3698948565 |  5087310732 |\n",
       "| Q3SZ57                     | SWISS-PROT:Q3SZ57 (Bos taurus) Alpha-fetoprotein precursor | -0.2620412 | -2.379419 | 0.0420538821 | 0.43762127 | 8544206793 | 11435399813 |  9536062413 |\n",
       "| ENSEMBL.ENSBTAP00000024146 | NA                                                         | -0.1957441 | -1.664539 | 0.1270120086 | 0.60236388 | 9757509838 | 10418443185 |  9096576490 |\n",
       "| O15230                     | LAMA5                                                      |  1.0877391 |  6.497583 | 0.0002720046 | 0.04521716 | 3112240543 |  2348707267 |  4991958657 |\n",
       "\n"
      ],
      "text/plain": [
       "  Protein                   \n",
       "1 P35555                    \n",
       "2 ENSEMBL.ENSBTAP00000007350\n",
       "3 Q15149                    \n",
       "4 Q3SZ57                    \n",
       "5 ENSEMBL.ENSBTAP00000024146\n",
       "6 O15230                    \n",
       "  Gene.name                                                  log2FC    \n",
       "1 FBN1                                                        0.4170353\n",
       "2 NA                                                         -0.1148787\n",
       "3 PLEC                                                        0.4597880\n",
       "4 SWISS-PROT:Q3SZ57 (Bos taurus) Alpha-fetoprotein precursor -0.2620412\n",
       "5 NA                                                         -0.1957441\n",
       "6 LAMA5                                                       1.0877391\n",
       "  Statistic PValue       PAdj       Avg_Abundance\n",
       "1  1.698397 0.1362787344 0.62210656 8785750953   \n",
       "2 -0.753430 0.4762868247 0.75794481 6573830475   \n",
       "3  1.846910 0.1168206398 0.60054807 5091028958   \n",
       "4 -2.379419 0.0420538821 0.43762127 8544206793   \n",
       "5 -1.664539 0.1270120086 0.60236388 9757509838   \n",
       "6  6.497583 0.0002720046 0.04521716 3112240543   \n",
       "  Coculture_Exposed.Avg_Abundance Coculture_Vehicle.Avg_Abundance\n",
       "1  7594852091                     10140502127                    \n",
       "2  7241565099                      6687295314                    \n",
       "3  3698948565                      5087310732                    \n",
       "4 11435399813                      9536062413                    \n",
       "5 10418443185                      9096576490                    \n",
       "6  2348707267                      4991958657                    "
      ]
     },
     "metadata": {},
     "output_type": "display_data"
    }
   ],
   "source": [
    "# getting the final statistical df to combine t test and abundance values\n",
    "# will have one df for each set\n",
    "final_t_test_df_split = final_t_test_df %>%\n",
    "    select(-Treatment) %>%\n",
    "    group_by(Set) %>%\n",
    "    group_split()\n",
    "\n",
    "\n",
    "set1_t_test_abundance_df = inner_join(final_t_test_df_split[[1]], abundance_df[,1:4]) %>%\n",
    "    select(-Set)\n",
    "set2_t_test_abundance_df = inner_join(final_t_test_df_split[[2]], abundance_df[,c(1,2,5,6)]) %>%\n",
    "    select(-Set)\n",
    "head(set1_t_test_abundance_df)"
   ]
  },
  {
   "cell_type": "code",
   "execution_count": null,
   "id": "eed4e477",
   "metadata": {},
   "outputs": [],
   "source": [
    "# exporting t test results and avg abundances for manuscript\n",
    "write.csv(set1_t_test_abundance_df, paste0(Output,\"/\", cur_date, \"_Set1_t_test_abundance_data.csv\"), row.names = FALSE)\n",
    "write.csv(set2_t_test_abundance_df, paste0(Output,\"/\", cur_date, \"_Set2_t_test_abundance_data.csv\"), row.names = FALSE)"
   ]
  },
  {
   "cell_type": "code",
   "execution_count": 62,
   "id": "9fcacb51",
   "metadata": {},
   "outputs": [
    {
     "data": {
      "text/html": [
       "<table class=\"dataframe\">\n",
       "<caption>A tibble: 6 × 13</caption>\n",
       "<thead>\n",
       "\t<tr><th scope=col>Protein</th><th scope=col>CoCulture_Exposed1</th><th scope=col>CoCulture_Exposed2</th><th scope=col>CoCulture_Exposed3</th><th scope=col>CoCulture_Exposed4</th><th scope=col>CoCulture_Exposed5</th><th scope=col>CoCulture_Exposed6</th><th scope=col>CoCulture_VehicleCT1</th><th scope=col>CoCulture_VehicleCT2</th><th scope=col>CoCulture_VehicleCT3</th><th scope=col>CoCulture_VehicleCT4</th><th scope=col>CoCulture_VehicleCT5</th><th scope=col>CoCulture_VehicleCT6</th></tr>\n",
       "\t<tr><th scope=col>&lt;chr&gt;</th><th scope=col>&lt;dbl&gt;</th><th scope=col>&lt;dbl&gt;</th><th scope=col>&lt;dbl&gt;</th><th scope=col>&lt;dbl&gt;</th><th scope=col>&lt;dbl&gt;</th><th scope=col>&lt;dbl&gt;</th><th scope=col>&lt;dbl&gt;</th><th scope=col>&lt;dbl&gt;</th><th scope=col>&lt;dbl&gt;</th><th scope=col>&lt;dbl&gt;</th><th scope=col>&lt;dbl&gt;</th><th scope=col>&lt;dbl&gt;</th></tr>\n",
       "</thead>\n",
       "<tbody>\n",
       "\t<tr><td>P35555                    </td><td> 6540459348</td><td> 8221320802</td><td> 9609435334</td><td> 8419156812</td><td> 6301784085</td><td> 6476956167</td><td> 8025970958</td><td>1.05e+10</td><td>15892528595</td><td>11334493304</td><td> 9225480735</td><td> 5864539169</td></tr>\n",
       "\t<tr><td>ENSEMBL.ENSBTAP00000007350</td><td> 8526739787</td><td> 6141580504</td><td> 4671021175</td><td> 8939104738</td><td> 8305370855</td><td> 6865573537</td><td> 7964096733</td><td>6.08e+09</td><td> 6239289003</td><td> 7092610497</td><td> 6534290775</td><td> 6213484878</td></tr>\n",
       "\t<tr><td>Q15149                    </td><td> 3467760325</td><td> 3270953050</td><td> 3267208013</td><td> 3759623469</td><td> 3928820983</td><td> 4499325550</td><td> 4101377229</td><td>8.29e+09</td><td> 3325658761</td><td> 4732207968</td><td> 4210081263</td><td> 5864539169</td></tr>\n",
       "\t<tr><td>Q3SZ57                    </td><td>10425228827</td><td>12400329476</td><td>13787450697</td><td>10098988575</td><td> 9637364294</td><td>12263037011</td><td>10783793578</td><td>8.87e+09</td><td> 9005766203</td><td> 7982037537</td><td>10061380647</td><td>10513396515</td></tr>\n",
       "\t<tr><td>ENSEMBL.ENSBTAP00000024146</td><td>11522621335</td><td>10642802463</td><td> 8773832261</td><td>12098788293</td><td>10577594957</td><td> 8895019803</td><td>11314144082</td><td>8.70e+09</td><td> 8466205047</td><td> 7833799697</td><td>10295840379</td><td> 7969469735</td></tr>\n",
       "\t<tr><td>O15230                    </td><td> 2820298745</td><td> 2235964920</td><td> 1738054390</td><td> 2139785697</td><td> 2921430987</td><td> 2236708862</td><td> 6275814295</td><td>4.37e+09</td><td> 3806358700</td><td> 5690052473</td><td> 5025593372</td><td> 4783933103</td></tr>\n",
       "</tbody>\n",
       "</table>\n"
      ],
      "text/latex": [
       "A tibble: 6 × 13\n",
       "\\begin{tabular}{lllllllllllll}\n",
       " Protein & CoCulture\\_Exposed1 & CoCulture\\_Exposed2 & CoCulture\\_Exposed3 & CoCulture\\_Exposed4 & CoCulture\\_Exposed5 & CoCulture\\_Exposed6 & CoCulture\\_VehicleCT1 & CoCulture\\_VehicleCT2 & CoCulture\\_VehicleCT3 & CoCulture\\_VehicleCT4 & CoCulture\\_VehicleCT5 & CoCulture\\_VehicleCT6\\\\\n",
       " <chr> & <dbl> & <dbl> & <dbl> & <dbl> & <dbl> & <dbl> & <dbl> & <dbl> & <dbl> & <dbl> & <dbl> & <dbl>\\\\\n",
       "\\hline\n",
       "\t P35555                     &  6540459348 &  8221320802 &  9609435334 &  8419156812 &  6301784085 &  6476956167 &  8025970958 & 1.05e+10 & 15892528595 & 11334493304 &  9225480735 &  5864539169\\\\\n",
       "\t ENSEMBL.ENSBTAP00000007350 &  8526739787 &  6141580504 &  4671021175 &  8939104738 &  8305370855 &  6865573537 &  7964096733 & 6.08e+09 &  6239289003 &  7092610497 &  6534290775 &  6213484878\\\\\n",
       "\t Q15149                     &  3467760325 &  3270953050 &  3267208013 &  3759623469 &  3928820983 &  4499325550 &  4101377229 & 8.29e+09 &  3325658761 &  4732207968 &  4210081263 &  5864539169\\\\\n",
       "\t Q3SZ57                     & 10425228827 & 12400329476 & 13787450697 & 10098988575 &  9637364294 & 12263037011 & 10783793578 & 8.87e+09 &  9005766203 &  7982037537 & 10061380647 & 10513396515\\\\\n",
       "\t ENSEMBL.ENSBTAP00000024146 & 11522621335 & 10642802463 &  8773832261 & 12098788293 & 10577594957 &  8895019803 & 11314144082 & 8.70e+09 &  8466205047 &  7833799697 & 10295840379 &  7969469735\\\\\n",
       "\t O15230                     &  2820298745 &  2235964920 &  1738054390 &  2139785697 &  2921430987 &  2236708862 &  6275814295 & 4.37e+09 &  3806358700 &  5690052473 &  5025593372 &  4783933103\\\\\n",
       "\\end{tabular}\n"
      ],
      "text/markdown": [
       "\n",
       "A tibble: 6 × 13\n",
       "\n",
       "| Protein &lt;chr&gt; | CoCulture_Exposed1 &lt;dbl&gt; | CoCulture_Exposed2 &lt;dbl&gt; | CoCulture_Exposed3 &lt;dbl&gt; | CoCulture_Exposed4 &lt;dbl&gt; | CoCulture_Exposed5 &lt;dbl&gt; | CoCulture_Exposed6 &lt;dbl&gt; | CoCulture_VehicleCT1 &lt;dbl&gt; | CoCulture_VehicleCT2 &lt;dbl&gt; | CoCulture_VehicleCT3 &lt;dbl&gt; | CoCulture_VehicleCT4 &lt;dbl&gt; | CoCulture_VehicleCT5 &lt;dbl&gt; | CoCulture_VehicleCT6 &lt;dbl&gt; |\n",
       "|---|---|---|---|---|---|---|---|---|---|---|---|---|\n",
       "| P35555                     |  6540459348 |  8221320802 |  9609435334 |  8419156812 |  6301784085 |  6476956167 |  8025970958 | 1.05e+10 | 15892528595 | 11334493304 |  9225480735 |  5864539169 |\n",
       "| ENSEMBL.ENSBTAP00000007350 |  8526739787 |  6141580504 |  4671021175 |  8939104738 |  8305370855 |  6865573537 |  7964096733 | 6.08e+09 |  6239289003 |  7092610497 |  6534290775 |  6213484878 |\n",
       "| Q15149                     |  3467760325 |  3270953050 |  3267208013 |  3759623469 |  3928820983 |  4499325550 |  4101377229 | 8.29e+09 |  3325658761 |  4732207968 |  4210081263 |  5864539169 |\n",
       "| Q3SZ57                     | 10425228827 | 12400329476 | 13787450697 | 10098988575 |  9637364294 | 12263037011 | 10783793578 | 8.87e+09 |  9005766203 |  7982037537 | 10061380647 | 10513396515 |\n",
       "| ENSEMBL.ENSBTAP00000024146 | 11522621335 | 10642802463 |  8773832261 | 12098788293 | 10577594957 |  8895019803 | 11314144082 | 8.70e+09 |  8466205047 |  7833799697 | 10295840379 |  7969469735 |\n",
       "| O15230                     |  2820298745 |  2235964920 |  1738054390 |  2139785697 |  2921430987 |  2236708862 |  6275814295 | 4.37e+09 |  3806358700 |  5690052473 |  5025593372 |  4783933103 |\n",
       "\n"
      ],
      "text/plain": [
       "  Protein                    CoCulture_Exposed1 CoCulture_Exposed2\n",
       "1 P35555                      6540459348         8221320802       \n",
       "2 ENSEMBL.ENSBTAP00000007350  8526739787         6141580504       \n",
       "3 Q15149                      3467760325         3270953050       \n",
       "4 Q3SZ57                     10425228827        12400329476       \n",
       "5 ENSEMBL.ENSBTAP00000024146 11522621335        10642802463       \n",
       "6 O15230                      2820298745         2235964920       \n",
       "  CoCulture_Exposed3 CoCulture_Exposed4 CoCulture_Exposed5 CoCulture_Exposed6\n",
       "1  9609435334         8419156812         6301784085         6476956167       \n",
       "2  4671021175         8939104738         8305370855         6865573537       \n",
       "3  3267208013         3759623469         3928820983         4499325550       \n",
       "4 13787450697        10098988575         9637364294        12263037011       \n",
       "5  8773832261        12098788293        10577594957         8895019803       \n",
       "6  1738054390         2139785697         2921430987         2236708862       \n",
       "  CoCulture_VehicleCT1 CoCulture_VehicleCT2 CoCulture_VehicleCT3\n",
       "1  8025970958          1.05e+10             15892528595         \n",
       "2  7964096733          6.08e+09              6239289003         \n",
       "3  4101377229          8.29e+09              3325658761         \n",
       "4 10783793578          8.87e+09              9005766203         \n",
       "5 11314144082          8.70e+09              8466205047         \n",
       "6  6275814295          4.37e+09              3806358700         \n",
       "  CoCulture_VehicleCT4 CoCulture_VehicleCT5 CoCulture_VehicleCT6\n",
       "1 11334493304           9225480735           5864539169         \n",
       "2  7092610497           6534290775           6213484878         \n",
       "3  4732207968           4210081263           5864539169         \n",
       "4  7982037537          10061380647          10513396515         \n",
       "5  7833799697          10295840379           7969469735         \n",
       "6  5690052473           5025593372           4783933103         "
      ]
     },
     "metadata": {},
     "output_type": "display_data"
    }
   ],
   "source": [
    "# now creating a df with individual protein abundances\n",
    "split_proteomics_df = proteomics_df %>%\n",
    "    select(-c(\"Treatment\", \"Exposure\")) %>%\n",
    "    group_by(Set) %>%\n",
    "    group_split()\n",
    "\n",
    "set1_protein_abundance = split_proteomics_df[[1]] %>%\n",
    "    select(-Set) %>%\n",
    "    pivot_wider(names_from = ID, values_from = Value) \n",
    "\n",
    "set2_protein_abundance = split_proteomics_df[[2]] %>%\n",
    "     select(-Set) %>%\n",
    "    pivot_wider(names_from = ID, values_from = Value) \n",
    "\n",
    "head(set1_protein_abundance)"
   ]
  },
  {
   "cell_type": "code",
   "execution_count": 15,
   "id": "eeb1e543",
   "metadata": {},
   "outputs": [],
   "source": [
    "# exporting\n",
    "write.csv(set1_individual_abundance_df, paste0(Output,\"/\", cur_date, \"_Set1_individual_abundance_data.csv\"), row.names = FALSE)\n",
    "write.csv(set2_individual_abundance_df, paste0(Output,\"/\", cur_date, \"_Set2_individual_abundance_data.csv\"), row.names = FALSE)"
   ]
  },
  {
   "cell_type": "code",
   "execution_count": null,
   "id": "5e6afcb4",
   "metadata": {},
   "outputs": [],
   "source": []
  }
 ],
 "metadata": {
  "kernelspec": {
   "display_name": "R",
   "language": "R",
   "name": "ir"
  },
  "language_info": {
   "codemirror_mode": "r",
   "file_extension": ".r",
   "mimetype": "text/x-r-source",
   "name": "R",
   "pygments_lexer": "r",
   "version": "4.1.2"
  }
 },
 "nbformat": 4,
 "nbformat_minor": 5
}
