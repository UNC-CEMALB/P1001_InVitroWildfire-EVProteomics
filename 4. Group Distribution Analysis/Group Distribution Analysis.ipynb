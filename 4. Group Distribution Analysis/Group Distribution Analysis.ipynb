{
 "cells": [
  {
   "cell_type": "code",
   "execution_count": 1,
   "id": "2435c81d",
   "metadata": {},
   "outputs": [
    {
     "name": "stderr",
     "output_type": "stream",
     "text": [
      "── \u001b[1mAttaching packages\u001b[22m ─────────────────────────────────────── tidyverse 1.3.1 ──\n",
      "\n",
      "\u001b[32m✔\u001b[39m \u001b[34mggplot2\u001b[39m 3.3.5     \u001b[32m✔\u001b[39m \u001b[34mpurrr  \u001b[39m 0.3.4\n",
      "\u001b[32m✔\u001b[39m \u001b[34mtibble \u001b[39m 3.1.6     \u001b[32m✔\u001b[39m \u001b[34mdplyr  \u001b[39m 1.0.8\n",
      "\u001b[32m✔\u001b[39m \u001b[34mtidyr  \u001b[39m 1.2.0     \u001b[32m✔\u001b[39m \u001b[34mstringr\u001b[39m 1.4.0\n",
      "\u001b[32m✔\u001b[39m \u001b[34mreadr  \u001b[39m 2.1.2     \u001b[32m✔\u001b[39m \u001b[34mforcats\u001b[39m 0.5.1\n",
      "\n",
      "── \u001b[1mConflicts\u001b[22m ────────────────────────────────────────── tidyverse_conflicts() ──\n",
      "\u001b[31m✖\u001b[39m \u001b[34mdplyr\u001b[39m::\u001b[32mfilter()\u001b[39m masks \u001b[34mstats\u001b[39m::filter()\n",
      "\u001b[31m✖\u001b[39m \u001b[34mdplyr\u001b[39m::\u001b[32mlag()\u001b[39m    masks \u001b[34mstats\u001b[39m::lag()\n",
      "\n"
     ]
    }
   ],
   "source": [
    "setwd('/Users/alexis/Library/CloudStorage/OneDrive-UniversityofNorthCarolinaatChapelHill/CEMALB_DataAnalysisPM/Projects/P1001. InVitroWildfire EVProteomics/P1001.3. Analyses/P1001.3.5. Group Distribution Analysis/Input')\n",
    "Output = ('/Users/alexis/Library/CloudStorage/OneDrive-UniversityofNorthCarolinaatChapelHill/CEMALB_DataAnalysisPM/Projects/P1001. InVitroWildfire EVProteomics/P1001.3. Analyses/P1001.3.5. Group Distribution Analysis/Output')\n",
    "cur_date = \"041822\"\n",
    "\n",
    "library(readxl)\n",
    "library(tidyverse)\n",
    "\n",
    "\n",
    "#reading in file\n",
    "proteomics_df = data.frame(read_excel(\"041822_Imputed_Proteomics_Data.xlsx\"))"
   ]
  },
  {
   "cell_type": "code",
   "execution_count": 2,
   "id": "d6772e95",
   "metadata": {},
   "outputs": [
    {
     "data": {
      "text/html": [
       "<table class=\"dataframe\">\n",
       "<caption>A data.frame: 6 × 5</caption>\n",
       "<thead>\n",
       "\t<tr><th></th><th scope=col>ID</th><th scope=col>Set</th><th scope=col>Treatment</th><th scope=col>Protein</th><th scope=col>Value</th></tr>\n",
       "\t<tr><th></th><th scope=col>&lt;chr&gt;</th><th scope=col>&lt;chr&gt;</th><th scope=col>&lt;chr&gt;</th><th scope=col>&lt;chr&gt;</th><th scope=col>&lt;dbl&gt;</th></tr>\n",
       "</thead>\n",
       "<tbody>\n",
       "\t<tr><th scope=row>1</th><td>CoCulture_Exposed1</td><td>Set1</td><td>CoCulture_Exposed</td><td>P19012</td><td> 476617.6</td></tr>\n",
       "\t<tr><th scope=row>2</th><td>CoCulture_Exposed1</td><td>Set1</td><td>CoCulture_Exposed</td><td>P19013</td><td>1077007.5</td></tr>\n",
       "\t<tr><th scope=row>3</th><td>CoCulture_Exposed1</td><td>Set1</td><td>CoCulture_Exposed</td><td>O43897</td><td>2245997.6</td></tr>\n",
       "\t<tr><th scope=row>4</th><td>CoCulture_Exposed1</td><td>Set1</td><td>CoCulture_Exposed</td><td>P20700</td><td>2388716.6</td></tr>\n",
       "\t<tr><th scope=row>5</th><td>CoCulture_Exposed1</td><td>Set1</td><td>CoCulture_Exposed</td><td>P22102</td><td>1790626.6</td></tr>\n",
       "\t<tr><th scope=row>6</th><td>CoCulture_Exposed1</td><td>Set1</td><td>CoCulture_Exposed</td><td>O75367</td><td> 874143.2</td></tr>\n",
       "</tbody>\n",
       "</table>\n"
      ],
      "text/latex": [
       "A data.frame: 6 × 5\n",
       "\\begin{tabular}{r|lllll}\n",
       "  & ID & Set & Treatment & Protein & Value\\\\\n",
       "  & <chr> & <chr> & <chr> & <chr> & <dbl>\\\\\n",
       "\\hline\n",
       "\t1 & CoCulture\\_Exposed1 & Set1 & CoCulture\\_Exposed & P19012 &  476617.6\\\\\n",
       "\t2 & CoCulture\\_Exposed1 & Set1 & CoCulture\\_Exposed & P19013 & 1077007.5\\\\\n",
       "\t3 & CoCulture\\_Exposed1 & Set1 & CoCulture\\_Exposed & O43897 & 2245997.6\\\\\n",
       "\t4 & CoCulture\\_Exposed1 & Set1 & CoCulture\\_Exposed & P20700 & 2388716.6\\\\\n",
       "\t5 & CoCulture\\_Exposed1 & Set1 & CoCulture\\_Exposed & P22102 & 1790626.6\\\\\n",
       "\t6 & CoCulture\\_Exposed1 & Set1 & CoCulture\\_Exposed & O75367 &  874143.2\\\\\n",
       "\\end{tabular}\n"
      ],
      "text/markdown": [
       "\n",
       "A data.frame: 6 × 5\n",
       "\n",
       "| <!--/--> | ID &lt;chr&gt; | Set &lt;chr&gt; | Treatment &lt;chr&gt; | Protein &lt;chr&gt; | Value &lt;dbl&gt; |\n",
       "|---|---|---|---|---|---|\n",
       "| 1 | CoCulture_Exposed1 | Set1 | CoCulture_Exposed | P19012 |  476617.6 |\n",
       "| 2 | CoCulture_Exposed1 | Set1 | CoCulture_Exposed | P19013 | 1077007.5 |\n",
       "| 3 | CoCulture_Exposed1 | Set1 | CoCulture_Exposed | O43897 | 2245997.6 |\n",
       "| 4 | CoCulture_Exposed1 | Set1 | CoCulture_Exposed | P20700 | 2388716.6 |\n",
       "| 5 | CoCulture_Exposed1 | Set1 | CoCulture_Exposed | P22102 | 1790626.6 |\n",
       "| 6 | CoCulture_Exposed1 | Set1 | CoCulture_Exposed | O75367 |  874143.2 |\n",
       "\n"
      ],
      "text/plain": [
       "  ID                 Set  Treatment         Protein Value    \n",
       "1 CoCulture_Exposed1 Set1 CoCulture_Exposed P19012   476617.6\n",
       "2 CoCulture_Exposed1 Set1 CoCulture_Exposed P19013  1077007.5\n",
       "3 CoCulture_Exposed1 Set1 CoCulture_Exposed O43897  2245997.6\n",
       "4 CoCulture_Exposed1 Set1 CoCulture_Exposed P20700  2388716.6\n",
       "5 CoCulture_Exposed1 Set1 CoCulture_Exposed P22102  1790626.6\n",
       "6 CoCulture_Exposed1 Set1 CoCulture_Exposed O75367   874143.2"
      ]
     },
     "metadata": {},
     "output_type": "display_data"
    }
   ],
   "source": [
    "head(proteomics_df)"
   ]
  },
  {
   "cell_type": "code",
   "execution_count": 3,
   "id": "b609515d",
   "metadata": {},
   "outputs": [
    {
     "data": {
      "text/html": [
       "<table class=\"dataframe\">\n",
       "<caption>A data.frame: 6 × 6</caption>\n",
       "<thead>\n",
       "\t<tr><th></th><th scope=col>ID</th><th scope=col>Set</th><th scope=col>Treatment</th><th scope=col>Exposure</th><th scope=col>Protein</th><th scope=col>Value</th></tr>\n",
       "\t<tr><th></th><th scope=col>&lt;chr&gt;</th><th scope=col>&lt;chr&gt;</th><th scope=col>&lt;chr&gt;</th><th scope=col>&lt;chr&gt;</th><th scope=col>&lt;chr&gt;</th><th scope=col>&lt;dbl&gt;</th></tr>\n",
       "</thead>\n",
       "<tbody>\n",
       "\t<tr><th scope=row>1</th><td>CoCulture_Exposed1</td><td>Set1</td><td>CoCulture</td><td>Exposed</td><td>P19012</td><td> 476617.6</td></tr>\n",
       "\t<tr><th scope=row>2</th><td>CoCulture_Exposed1</td><td>Set1</td><td>CoCulture</td><td>Exposed</td><td>P19013</td><td>1077007.5</td></tr>\n",
       "\t<tr><th scope=row>3</th><td>CoCulture_Exposed1</td><td>Set1</td><td>CoCulture</td><td>Exposed</td><td>O43897</td><td>2245997.6</td></tr>\n",
       "\t<tr><th scope=row>4</th><td>CoCulture_Exposed1</td><td>Set1</td><td>CoCulture</td><td>Exposed</td><td>P20700</td><td>2388716.6</td></tr>\n",
       "\t<tr><th scope=row>5</th><td>CoCulture_Exposed1</td><td>Set1</td><td>CoCulture</td><td>Exposed</td><td>P22102</td><td>1790626.6</td></tr>\n",
       "\t<tr><th scope=row>6</th><td>CoCulture_Exposed1</td><td>Set1</td><td>CoCulture</td><td>Exposed</td><td>O75367</td><td> 874143.2</td></tr>\n",
       "</tbody>\n",
       "</table>\n"
      ],
      "text/latex": [
       "A data.frame: 6 × 6\n",
       "\\begin{tabular}{r|llllll}\n",
       "  & ID & Set & Treatment & Exposure & Protein & Value\\\\\n",
       "  & <chr> & <chr> & <chr> & <chr> & <chr> & <dbl>\\\\\n",
       "\\hline\n",
       "\t1 & CoCulture\\_Exposed1 & Set1 & CoCulture & Exposed & P19012 &  476617.6\\\\\n",
       "\t2 & CoCulture\\_Exposed1 & Set1 & CoCulture & Exposed & P19013 & 1077007.5\\\\\n",
       "\t3 & CoCulture\\_Exposed1 & Set1 & CoCulture & Exposed & O43897 & 2245997.6\\\\\n",
       "\t4 & CoCulture\\_Exposed1 & Set1 & CoCulture & Exposed & P20700 & 2388716.6\\\\\n",
       "\t5 & CoCulture\\_Exposed1 & Set1 & CoCulture & Exposed & P22102 & 1790626.6\\\\\n",
       "\t6 & CoCulture\\_Exposed1 & Set1 & CoCulture & Exposed & O75367 &  874143.2\\\\\n",
       "\\end{tabular}\n"
      ],
      "text/markdown": [
       "\n",
       "A data.frame: 6 × 6\n",
       "\n",
       "| <!--/--> | ID &lt;chr&gt; | Set &lt;chr&gt; | Treatment &lt;chr&gt; | Exposure &lt;chr&gt; | Protein &lt;chr&gt; | Value &lt;dbl&gt; |\n",
       "|---|---|---|---|---|---|---|\n",
       "| 1 | CoCulture_Exposed1 | Set1 | CoCulture | Exposed | P19012 |  476617.6 |\n",
       "| 2 | CoCulture_Exposed1 | Set1 | CoCulture | Exposed | P19013 | 1077007.5 |\n",
       "| 3 | CoCulture_Exposed1 | Set1 | CoCulture | Exposed | O43897 | 2245997.6 |\n",
       "| 4 | CoCulture_Exposed1 | Set1 | CoCulture | Exposed | P20700 | 2388716.6 |\n",
       "| 5 | CoCulture_Exposed1 | Set1 | CoCulture | Exposed | P22102 | 1790626.6 |\n",
       "| 6 | CoCulture_Exposed1 | Set1 | CoCulture | Exposed | O75367 |  874143.2 |\n",
       "\n"
      ],
      "text/plain": [
       "  ID                 Set  Treatment Exposure Protein Value    \n",
       "1 CoCulture_Exposed1 Set1 CoCulture Exposed  P19012   476617.6\n",
       "2 CoCulture_Exposed1 Set1 CoCulture Exposed  P19013  1077007.5\n",
       "3 CoCulture_Exposed1 Set1 CoCulture Exposed  O43897  2245997.6\n",
       "4 CoCulture_Exposed1 Set1 CoCulture Exposed  P20700  2388716.6\n",
       "5 CoCulture_Exposed1 Set1 CoCulture Exposed  P22102  1790626.6\n",
       "6 CoCulture_Exposed1 Set1 CoCulture Exposed  O75367   874143.2"
      ]
     },
     "metadata": {},
     "output_type": "display_data"
    }
   ],
   "source": [
    "proteomics_df = proteomics_df %>%\n",
    "    #for some reason protein \"Q9UDY2\" is only in the vehicle group, so removing it\n",
    "    #filter(Protein != \"Q14117\") %>%\n",
    "    #just want a column that specifies the treatment and exposure separately\n",
    "    separate(Treatment, c(\"Treatment\", \"Exposure\"), sep = \"_\") \n",
    "\n",
    "head(proteomics_df)"
   ]
  },
  {
   "cell_type": "code",
   "execution_count": 9,
   "id": "e9e81f3a",
   "metadata": {},
   "outputs": [
    {
     "data": {
      "text/html": [
       "<table class=\"dataframe\">\n",
       "<caption>A tibble: 6 × 6</caption>\n",
       "<thead>\n",
       "\t<tr><th scope=col>ID</th><th scope=col>Set</th><th scope=col>Treatment</th><th scope=col>Exposure</th><th scope=col>Protein</th><th scope=col>Value</th></tr>\n",
       "\t<tr><th scope=col>&lt;chr&gt;</th><th scope=col>&lt;chr&gt;</th><th scope=col>&lt;chr&gt;</th><th scope=col>&lt;chr&gt;</th><th scope=col>&lt;chr&gt;</th><th scope=col>&lt;dbl&gt;</th></tr>\n",
       "</thead>\n",
       "<tbody>\n",
       "\t<tr><td>CoCulture_Exposed1</td><td>Set1</td><td>CoCulture</td><td>Exposed</td><td>P19012</td><td> 476617.6</td></tr>\n",
       "\t<tr><td>CoCulture_Exposed1</td><td>Set1</td><td>CoCulture</td><td>Exposed</td><td>P19013</td><td>1077007.5</td></tr>\n",
       "\t<tr><td>CoCulture_Exposed1</td><td>Set1</td><td>CoCulture</td><td>Exposed</td><td>O43897</td><td>2245997.6</td></tr>\n",
       "\t<tr><td>CoCulture_Exposed1</td><td>Set1</td><td>CoCulture</td><td>Exposed</td><td>P20700</td><td>2388716.6</td></tr>\n",
       "\t<tr><td>CoCulture_Exposed1</td><td>Set1</td><td>CoCulture</td><td>Exposed</td><td>P22102</td><td>1790626.6</td></tr>\n",
       "\t<tr><td>CoCulture_Exposed1</td><td>Set1</td><td>CoCulture</td><td>Exposed</td><td>O75367</td><td> 874143.2</td></tr>\n",
       "</tbody>\n",
       "</table>\n"
      ],
      "text/latex": [
       "A tibble: 6 × 6\n",
       "\\begin{tabular}{llllll}\n",
       " ID & Set & Treatment & Exposure & Protein & Value\\\\\n",
       " <chr> & <chr> & <chr> & <chr> & <chr> & <dbl>\\\\\n",
       "\\hline\n",
       "\t CoCulture\\_Exposed1 & Set1 & CoCulture & Exposed & P19012 &  476617.6\\\\\n",
       "\t CoCulture\\_Exposed1 & Set1 & CoCulture & Exposed & P19013 & 1077007.5\\\\\n",
       "\t CoCulture\\_Exposed1 & Set1 & CoCulture & Exposed & O43897 & 2245997.6\\\\\n",
       "\t CoCulture\\_Exposed1 & Set1 & CoCulture & Exposed & P20700 & 2388716.6\\\\\n",
       "\t CoCulture\\_Exposed1 & Set1 & CoCulture & Exposed & P22102 & 1790626.6\\\\\n",
       "\t CoCulture\\_Exposed1 & Set1 & CoCulture & Exposed & O75367 &  874143.2\\\\\n",
       "\\end{tabular}\n"
      ],
      "text/markdown": [
       "\n",
       "A tibble: 6 × 6\n",
       "\n",
       "| ID &lt;chr&gt; | Set &lt;chr&gt; | Treatment &lt;chr&gt; | Exposure &lt;chr&gt; | Protein &lt;chr&gt; | Value &lt;dbl&gt; |\n",
       "|---|---|---|---|---|---|\n",
       "| CoCulture_Exposed1 | Set1 | CoCulture | Exposed | P19012 |  476617.6 |\n",
       "| CoCulture_Exposed1 | Set1 | CoCulture | Exposed | P19013 | 1077007.5 |\n",
       "| CoCulture_Exposed1 | Set1 | CoCulture | Exposed | O43897 | 2245997.6 |\n",
       "| CoCulture_Exposed1 | Set1 | CoCulture | Exposed | P20700 | 2388716.6 |\n",
       "| CoCulture_Exposed1 | Set1 | CoCulture | Exposed | P22102 | 1790626.6 |\n",
       "| CoCulture_Exposed1 | Set1 | CoCulture | Exposed | O75367 |  874143.2 |\n",
       "\n"
      ],
      "text/plain": [
       "  ID                 Set  Treatment Exposure Protein Value    \n",
       "1 CoCulture_Exposed1 Set1 CoCulture Exposed  P19012   476617.6\n",
       "2 CoCulture_Exposed1 Set1 CoCulture Exposed  P19013  1077007.5\n",
       "3 CoCulture_Exposed1 Set1 CoCulture Exposed  O43897  2245997.6\n",
       "4 CoCulture_Exposed1 Set1 CoCulture Exposed  P20700  2388716.6\n",
       "5 CoCulture_Exposed1 Set1 CoCulture Exposed  P22102  1790626.6\n",
       "6 CoCulture_Exposed1 Set1 CoCulture Exposed  O75367   874143.2"
      ]
     },
     "metadata": {},
     "output_type": "display_data"
    }
   ],
   "source": [
    "#explain why I split this\n",
    "proteomics_df_split = proteomics_df %>%\n",
    "    group_by(Set) %>%\n",
    "    group_split()\n",
    "\n",
    "set1_proteomics_df = proteomics_df_split[[1]]\n",
    "set2_proteomics_df = proteomics_df_split[[2]]\n",
    "\n",
    "head(set1_proteomics_df)"
   ]
  },
  {
   "cell_type": "markdown",
   "id": "e9be1db6",
   "metadata": {},
   "source": [
    "Running t tests to determine if there are statistically significant distribution differences in co-culture unexposed vs. exposed and tri-culture unexposed vs. exposed. "
   ]
  },
  {
   "cell_type": "code",
   "execution_count": 13,
   "id": "9b6930b4",
   "metadata": {},
   "outputs": [],
   "source": [
    "t_test_values = function(df, set_id){\n",
    "    #\"\"\"\n",
    "    #Running t tests after filtering for set, treatment, exposure, and protein using a loop. \n",
    "    #Ultimately using this test to compare proteins (unexposed vs. exposed).\n",
    "\n",
    "    #:param: subsetted dataframe, empty dataframe\n",
    "    #:output: a dataframe containing the set, treatment, exposure, protein, u stat, p value, p adj\n",
    "\n",
    "    #\"\"\"\n",
    "    treatments = unique(df$Treatment)\n",
    "    proteins = unique(df$Protein)\n",
    "    \n",
    "    values_df = data.frame()\n",
    "    #iterating through each tx, protein\n",
    "\n",
    "    for(i in 1:length(treatments)){\n",
    "        for(j in 1:length(proteins)){\n",
    "            #unexposed df\n",
    "            unexposed_df = df %>%\n",
    "                filter(Treatment == treatments[i], Exposure == \"Vehicle\", Protein == proteins[j])\n",
    "            #exposed df\n",
    "            exposed_df = df %>%\n",
    "                filter(Treatment == treatments[i], Exposure == \"Exposed\", Protein == proteins[j])\n",
    "\n",
    "            #t test\n",
    "            t_test = t.test(unexposed_df$Value, exposed_df$Value)\n",
    "\n",
    "            #contains smoking status compared, compartment, cytokine, u stat, and p value\n",
    "            values_vector = cbind(set_id, treatments[i], proteins[j], t_test$statistic, t_test$p.value)\n",
    "            values_df = rbind(values_df, values_vector)\n",
    "            }\n",
    "        }\n",
    "\n",
    "    \n",
    "    #adding col names\n",
    "    colnames(values_df) = c(\"Set\", \"Treatment\", \"Protein\", \"Statistic\", \"P Value\")\n",
    "    \n",
    "    \n",
    "    #calculating padj values\n",
    "    \n",
    "    padj_vector = c()\n",
    "    for (i in 1:length(treatments)){\n",
    "        `P Adj` = p.adjust(as.numeric(as.character(values_df$`P Value`)), method = \"fdr\")\n",
    "        padj_vector = c(padj_vector, `P Adj`)\n",
    "    }\n",
    "    \n",
    "    values_df = cbind(values_df, padj_vector) %>%\n",
    "        rename(`P Adj` = padj_vector)\n",
    "    \n",
    "    return(values_df)\n",
    "}"
   ]
  },
  {
   "cell_type": "code",
   "execution_count": 15,
   "id": "ed469849",
   "metadata": {},
   "outputs": [
    {
     "data": {
      "text/html": [
       "<table class=\"dataframe\">\n",
       "<caption>A data.frame: 6 × 6</caption>\n",
       "<thead>\n",
       "\t<tr><th></th><th scope=col>Set</th><th scope=col>Treatment</th><th scope=col>Protein</th><th scope=col>Statistic</th><th scope=col>P Value</th><th scope=col>padj_vector</th></tr>\n",
       "\t<tr><th></th><th scope=col>&lt;chr&gt;</th><th scope=col>&lt;chr&gt;</th><th scope=col>&lt;chr&gt;</th><th scope=col>&lt;chr&gt;</th><th scope=col>&lt;chr&gt;</th><th scope=col>&lt;dbl&gt;</th></tr>\n",
       "</thead>\n",
       "<tbody>\n",
       "\t<tr><th scope=row>t</th><td>Set1</td><td>CoCulture</td><td>P19012</td><td>0.60331489149206  </td><td>0.567224863429138</td><td>0.8207093</td></tr>\n",
       "\t<tr><th scope=row>t1</th><td>Set1</td><td>CoCulture</td><td>P19013</td><td>-0.139436949314188</td><td>0.893842444121871</td><td>0.9672176</td></tr>\n",
       "\t<tr><th scope=row>t2</th><td>Set1</td><td>CoCulture</td><td>O43897</td><td>-1.28817058222099 </td><td>0.241597197697623</td><td>0.7149305</td></tr>\n",
       "\t<tr><th scope=row>t3</th><td>Set1</td><td>CoCulture</td><td>P20700</td><td>-0.401101776101729</td><td>0.698456072213535</td><td>0.8649296</td></tr>\n",
       "\t<tr><th scope=row>t4</th><td>Set1</td><td>CoCulture</td><td>P22102</td><td>1.09076873867442  </td><td>0.311878044109208</td><td>0.7329387</td></tr>\n",
       "\t<tr><th scope=row>t5</th><td>Set1</td><td>CoCulture</td><td>O75367</td><td>-0.603646331227886</td><td>0.563303637544858</td><td>0.8186874</td></tr>\n",
       "</tbody>\n",
       "</table>\n"
      ],
      "text/latex": [
       "A data.frame: 6 × 6\n",
       "\\begin{tabular}{r|llllll}\n",
       "  & Set & Treatment & Protein & Statistic & P Value & padj\\_vector\\\\\n",
       "  & <chr> & <chr> & <chr> & <chr> & <chr> & <dbl>\\\\\n",
       "\\hline\n",
       "\tt & Set1 & CoCulture & P19012 & 0.60331489149206   & 0.567224863429138 & 0.8207093\\\\\n",
       "\tt1 & Set1 & CoCulture & P19013 & -0.139436949314188 & 0.893842444121871 & 0.9672176\\\\\n",
       "\tt2 & Set1 & CoCulture & O43897 & -1.28817058222099  & 0.241597197697623 & 0.7149305\\\\\n",
       "\tt3 & Set1 & CoCulture & P20700 & -0.401101776101729 & 0.698456072213535 & 0.8649296\\\\\n",
       "\tt4 & Set1 & CoCulture & P22102 & 1.09076873867442   & 0.311878044109208 & 0.7329387\\\\\n",
       "\tt5 & Set1 & CoCulture & O75367 & -0.603646331227886 & 0.563303637544858 & 0.8186874\\\\\n",
       "\\end{tabular}\n"
      ],
      "text/markdown": [
       "\n",
       "A data.frame: 6 × 6\n",
       "\n",
       "| <!--/--> | Set &lt;chr&gt; | Treatment &lt;chr&gt; | Protein &lt;chr&gt; | Statistic &lt;chr&gt; | P Value &lt;chr&gt; | padj_vector &lt;dbl&gt; |\n",
       "|---|---|---|---|---|---|---|\n",
       "| t | Set1 | CoCulture | P19012 | 0.60331489149206   | 0.567224863429138 | 0.8207093 |\n",
       "| t1 | Set1 | CoCulture | P19013 | -0.139436949314188 | 0.893842444121871 | 0.9672176 |\n",
       "| t2 | Set1 | CoCulture | O43897 | -1.28817058222099  | 0.241597197697623 | 0.7149305 |\n",
       "| t3 | Set1 | CoCulture | P20700 | -0.401101776101729 | 0.698456072213535 | 0.8649296 |\n",
       "| t4 | Set1 | CoCulture | P22102 | 1.09076873867442   | 0.311878044109208 | 0.7329387 |\n",
       "| t5 | Set1 | CoCulture | O75367 | -0.603646331227886 | 0.563303637544858 | 0.8186874 |\n",
       "\n"
      ],
      "text/plain": [
       "   Set  Treatment Protein Statistic          P Value           padj_vector\n",
       "t  Set1 CoCulture P19012  0.60331489149206   0.567224863429138 0.8207093  \n",
       "t1 Set1 CoCulture P19013  -0.139436949314188 0.893842444121871 0.9672176  \n",
       "t2 Set1 CoCulture O43897  -1.28817058222099  0.241597197697623 0.7149305  \n",
       "t3 Set1 CoCulture P20700  -0.401101776101729 0.698456072213535 0.8649296  \n",
       "t4 Set1 CoCulture P22102  1.09076873867442   0.311878044109208 0.7329387  \n",
       "t5 Set1 CoCulture O75367  -0.603646331227886 0.563303637544858 0.8186874  "
      ]
     },
     "metadata": {},
     "output_type": "display_data"
    },
    {
     "data": {
      "text/html": [
       "<table class=\"dataframe\">\n",
       "<caption>A data.frame: 6 × 6</caption>\n",
       "<thead>\n",
       "\t<tr><th></th><th scope=col>Set</th><th scope=col>Treatment</th><th scope=col>Protein</th><th scope=col>Statistic</th><th scope=col>P Value</th><th scope=col>padj_vector</th></tr>\n",
       "\t<tr><th></th><th scope=col>&lt;chr&gt;</th><th scope=col>&lt;chr&gt;</th><th scope=col>&lt;chr&gt;</th><th scope=col>&lt;chr&gt;</th><th scope=col>&lt;chr&gt;</th><th scope=col>&lt;dbl&gt;</th></tr>\n",
       "</thead>\n",
       "<tbody>\n",
       "\t<tr><th scope=row>t</th><td>Set2</td><td>TriCulture</td><td>Q7Z3Y8  </td><td>1.4572273303619   </td><td>0.177587222183449</td><td>0.8730653</td></tr>\n",
       "\t<tr><th scope=row>t1</th><td>Set2</td><td>TriCulture</td><td>Q6KB66.1</td><td>1.12131924845407  </td><td>0.312792449034433</td><td>0.9992881</td></tr>\n",
       "\t<tr><th scope=row>t2</th><td>Set2</td><td>TriCulture</td><td>Q14117  </td><td>0.27614424008717  </td><td>0.788439221107136</td><td>0.9992881</td></tr>\n",
       "\t<tr><th scope=row>t3</th><td>Set2</td><td>TriCulture</td><td>P22223  </td><td>-0.148301469930139</td><td>0.885064163315534</td><td>0.9992881</td></tr>\n",
       "\t<tr><th scope=row>t4</th><td>Set2</td><td>TriCulture</td><td>P05976  </td><td>1.04028515484624  </td><td>0.33787297883861 </td><td>0.9992881</td></tr>\n",
       "\t<tr><th scope=row>t5</th><td>Set2</td><td>TriCulture</td><td>Q9NZT1  </td><td>1.03714180050857  </td><td>0.34708499993666 </td><td>0.9992881</td></tr>\n",
       "</tbody>\n",
       "</table>\n"
      ],
      "text/latex": [
       "A data.frame: 6 × 6\n",
       "\\begin{tabular}{r|llllll}\n",
       "  & Set & Treatment & Protein & Statistic & P Value & padj\\_vector\\\\\n",
       "  & <chr> & <chr> & <chr> & <chr> & <chr> & <dbl>\\\\\n",
       "\\hline\n",
       "\tt & Set2 & TriCulture & Q7Z3Y8   & 1.4572273303619    & 0.177587222183449 & 0.8730653\\\\\n",
       "\tt1 & Set2 & TriCulture & Q6KB66.1 & 1.12131924845407   & 0.312792449034433 & 0.9992881\\\\\n",
       "\tt2 & Set2 & TriCulture & Q14117   & 0.27614424008717   & 0.788439221107136 & 0.9992881\\\\\n",
       "\tt3 & Set2 & TriCulture & P22223   & -0.148301469930139 & 0.885064163315534 & 0.9992881\\\\\n",
       "\tt4 & Set2 & TriCulture & P05976   & 1.04028515484624   & 0.33787297883861  & 0.9992881\\\\\n",
       "\tt5 & Set2 & TriCulture & Q9NZT1   & 1.03714180050857   & 0.34708499993666  & 0.9992881\\\\\n",
       "\\end{tabular}\n"
      ],
      "text/markdown": [
       "\n",
       "A data.frame: 6 × 6\n",
       "\n",
       "| <!--/--> | Set &lt;chr&gt; | Treatment &lt;chr&gt; | Protein &lt;chr&gt; | Statistic &lt;chr&gt; | P Value &lt;chr&gt; | padj_vector &lt;dbl&gt; |\n",
       "|---|---|---|---|---|---|---|\n",
       "| t | Set2 | TriCulture | Q7Z3Y8   | 1.4572273303619    | 0.177587222183449 | 0.8730653 |\n",
       "| t1 | Set2 | TriCulture | Q6KB66.1 | 1.12131924845407   | 0.312792449034433 | 0.9992881 |\n",
       "| t2 | Set2 | TriCulture | Q14117   | 0.27614424008717   | 0.788439221107136 | 0.9992881 |\n",
       "| t3 | Set2 | TriCulture | P22223   | -0.148301469930139 | 0.885064163315534 | 0.9992881 |\n",
       "| t4 | Set2 | TriCulture | P05976   | 1.04028515484624   | 0.33787297883861  | 0.9992881 |\n",
       "| t5 | Set2 | TriCulture | Q9NZT1   | 1.03714180050857   | 0.34708499993666  | 0.9992881 |\n",
       "\n"
      ],
      "text/plain": [
       "   Set  Treatment  Protein  Statistic          P Value           padj_vector\n",
       "t  Set2 TriCulture Q7Z3Y8   1.4572273303619    0.177587222183449 0.8730653  \n",
       "t1 Set2 TriCulture Q6KB66.1 1.12131924845407   0.312792449034433 0.9992881  \n",
       "t2 Set2 TriCulture Q14117   0.27614424008717   0.788439221107136 0.9992881  \n",
       "t3 Set2 TriCulture P22223   -0.148301469930139 0.885064163315534 0.9992881  \n",
       "t4 Set2 TriCulture P05976   1.04028515484624   0.33787297883861  0.9992881  \n",
       "t5 Set2 TriCulture Q9NZT1   1.03714180050857   0.34708499993666  0.9992881  "
      ]
     },
     "metadata": {},
     "output_type": "display_data"
    }
   ],
   "source": [
    "#calling fn\n",
    "set1_t_test = t_test_values(set1_proteomics_df, \"Set1\")\n",
    "set2_t_test = t_test_values(set2_proteomics_df, \"Set2\")"
   ]
  },
  {
   "cell_type": "code",
   "execution_count": 23,
   "id": "126ffaca",
   "metadata": {},
   "outputs": [
    {
     "data": {
      "text/html": [
       "<table class=\"dataframe\">\n",
       "<caption>A data.frame: 0 × 6</caption>\n",
       "<thead>\n",
       "\t<tr><th scope=col>ID</th><th scope=col>Set</th><th scope=col>Treatment</th><th scope=col>Exposure</th><th scope=col>Protein</th><th scope=col>Value</th></tr>\n",
       "\t<tr><th scope=col>&lt;chr&gt;</th><th scope=col>&lt;chr&gt;</th><th scope=col>&lt;chr&gt;</th><th scope=col>&lt;chr&gt;</th><th scope=col>&lt;chr&gt;</th><th scope=col>&lt;dbl&gt;</th></tr>\n",
       "</thead>\n",
       "<tbody>\n",
       "</tbody>\n",
       "</table>\n"
      ],
      "text/latex": [
       "A data.frame: 0 × 6\n",
       "\\begin{tabular}{llllll}\n",
       " ID & Set & Treatment & Exposure & Protein & Value\\\\\n",
       " <chr> & <chr> & <chr> & <chr> & <chr> & <dbl>\\\\\n",
       "\\hline\n",
       "\\end{tabular}\n"
      ],
      "text/markdown": [
       "\n",
       "A data.frame: 0 × 6\n",
       "\n",
       "| ID &lt;chr&gt; | Set &lt;chr&gt; | Treatment &lt;chr&gt; | Exposure &lt;chr&gt; | Protein &lt;chr&gt; | Value &lt;dbl&gt; |\n",
       "|---|---|---|---|---|---|\n",
       "\n"
      ],
      "text/plain": [
       "     ID Set Treatment Exposure Protein Value"
      ]
     },
     "metadata": {},
     "output_type": "display_data"
    },
    {
     "data": {
      "text/html": [
       "<table class=\"dataframe\">\n",
       "<caption>A data.frame: 0 × 6</caption>\n",
       "<thead>\n",
       "\t<tr><th scope=col>ID</th><th scope=col>Set</th><th scope=col>Treatment</th><th scope=col>Exposure</th><th scope=col>Protein</th><th scope=col>Value</th></tr>\n",
       "\t<tr><th scope=col>&lt;chr&gt;</th><th scope=col>&lt;chr&gt;</th><th scope=col>&lt;chr&gt;</th><th scope=col>&lt;chr&gt;</th><th scope=col>&lt;chr&gt;</th><th scope=col>&lt;dbl&gt;</th></tr>\n",
       "</thead>\n",
       "<tbody>\n",
       "</tbody>\n",
       "</table>\n"
      ],
      "text/latex": [
       "A data.frame: 0 × 6\n",
       "\\begin{tabular}{llllll}\n",
       " ID & Set & Treatment & Exposure & Protein & Value\\\\\n",
       " <chr> & <chr> & <chr> & <chr> & <chr> & <dbl>\\\\\n",
       "\\hline\n",
       "\\end{tabular}\n"
      ],
      "text/markdown": [
       "\n",
       "A data.frame: 0 × 6\n",
       "\n",
       "| ID &lt;chr&gt; | Set &lt;chr&gt; | Treatment &lt;chr&gt; | Exposure &lt;chr&gt; | Protein &lt;chr&gt; | Value &lt;dbl&gt; |\n",
       "|---|---|---|---|---|---|\n",
       "\n"
      ],
      "text/plain": [
       "     ID Set Treatment Exposure Protein Value"
      ]
     },
     "metadata": {},
     "output_type": "display_data"
    },
    {
     "ename": "ERROR",
     "evalue": "Error in t.test.default(a$Value, b$Value): not enough 'x' observations\n",
     "output_type": "error",
     "traceback": [
      "Error in t.test.default(a$Value, b$Value): not enough 'x' observations\nTraceback:\n",
      "1. t.test(a$Value, b$Value)",
      "2. t.test.default(a$Value, b$Value)",
      "3. stop(\"not enough 'x' observations\")"
     ]
    }
   ],
   "source": [
    "# creating 1 df\n",
    "t_test_df = rbind(set1_t_test, set2_t_test)\n",
    "head(t_test_df)"
   ]
  },
  {
   "cell_type": "code",
   "execution_count": null,
   "id": "eeb1e543",
   "metadata": {},
   "outputs": [],
   "source": [
    "a$"
   ]
  }
 ],
 "metadata": {
  "kernelspec": {
   "display_name": "R",
   "language": "R",
   "name": "ir"
  },
  "language_info": {
   "codemirror_mode": "r",
   "file_extension": ".r",
   "mimetype": "text/x-r-source",
   "name": "R",
   "pygments_lexer": "r",
   "version": "4.1.2"
  }
 },
 "nbformat": 4,
 "nbformat_minor": 5
}
