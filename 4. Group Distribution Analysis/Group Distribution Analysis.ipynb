{
 "cells": [
  {
   "cell_type": "code",
   "execution_count": 1,
   "id": "2435c81d",
   "metadata": {},
   "outputs": [
    {
     "name": "stderr",
     "output_type": "stream",
     "text": [
      "── \u001b[1mAttaching packages\u001b[22m ─────────────────────────────────────── tidyverse 1.3.1 ──\n",
      "\n",
      "\u001b[32m✔\u001b[39m \u001b[34mggplot2\u001b[39m 3.3.5     \u001b[32m✔\u001b[39m \u001b[34mpurrr  \u001b[39m 0.3.4\n",
      "\u001b[32m✔\u001b[39m \u001b[34mtibble \u001b[39m 3.1.6     \u001b[32m✔\u001b[39m \u001b[34mdplyr  \u001b[39m 1.0.8\n",
      "\u001b[32m✔\u001b[39m \u001b[34mtidyr  \u001b[39m 1.2.0     \u001b[32m✔\u001b[39m \u001b[34mstringr\u001b[39m 1.4.0\n",
      "\u001b[32m✔\u001b[39m \u001b[34mreadr  \u001b[39m 2.1.2     \u001b[32m✔\u001b[39m \u001b[34mforcats\u001b[39m 0.5.1\n",
      "\n",
      "── \u001b[1mConflicts\u001b[22m ────────────────────────────────────────── tidyverse_conflicts() ──\n",
      "\u001b[31m✖\u001b[39m \u001b[34mdplyr\u001b[39m::\u001b[32mfilter()\u001b[39m masks \u001b[34mstats\u001b[39m::filter()\n",
      "\u001b[31m✖\u001b[39m \u001b[34mdplyr\u001b[39m::\u001b[32mlag()\u001b[39m    masks \u001b[34mstats\u001b[39m::lag()\n",
      "\n",
      "\n",
      "Attaching package: ‘reshape2’\n",
      "\n",
      "\n",
      "The following object is masked from ‘package:tidyr’:\n",
      "\n",
      "    smiths\n",
      "\n",
      "\n"
     ]
    }
   ],
   "source": [
    "setwd('/Users/alexis/Library/CloudStorage/OneDrive-UniversityofNorthCarolinaatChapelHill/CEMALB_DataAnalysisPM/Projects/P1001. InVitroWildfire EVProteomics/P1001.3. Analyses/P1001.3.5. Group Distribution Analysis/Input')\n",
    "Output = ('/Users/alexis/Library/CloudStorage/OneDrive-UniversityofNorthCarolinaatChapelHill/CEMALB_DataAnalysisPM/Projects/P1001. InVitroWildfire EVProteomics/P1001.3. Analyses/P1001.3.5. Group Distribution Analysis/Output')\n",
    "cur_date = \"042322\"\n",
    "\n",
    "library(readxl)\n",
    "library(tidyverse)\n",
    "library(reshape2)\n",
    "\n",
    "\n",
    "#reading in file\n",
    "proteomics_df = data.frame(read_excel(\"041822_Imputed_Proteomics_Data.xlsx\"))\n",
    "protein_info_df = data.frame(read_excel(\"List of Proteins Detected_041922.xlsx\")) %>%\n",
    "    rename(Protein = Accession)"
   ]
  },
  {
   "cell_type": "code",
   "execution_count": 2,
   "id": "d6772e95",
   "metadata": {},
   "outputs": [
    {
     "data": {
      "text/html": [
       "<table class=\"dataframe\">\n",
       "<caption>A data.frame: 6 × 5</caption>\n",
       "<thead>\n",
       "\t<tr><th></th><th scope=col>ID</th><th scope=col>Set</th><th scope=col>Treatment</th><th scope=col>Protein</th><th scope=col>Value</th></tr>\n",
       "\t<tr><th></th><th scope=col>&lt;chr&gt;</th><th scope=col>&lt;chr&gt;</th><th scope=col>&lt;chr&gt;</th><th scope=col>&lt;chr&gt;</th><th scope=col>&lt;dbl&gt;</th></tr>\n",
       "</thead>\n",
       "<tbody>\n",
       "\t<tr><th scope=row>1</th><td>CoCulture_Exposed1</td><td>Set1</td><td>CoCulture_Exposed</td><td>P19012</td><td> 476617.6</td></tr>\n",
       "\t<tr><th scope=row>2</th><td>CoCulture_Exposed1</td><td>Set1</td><td>CoCulture_Exposed</td><td>P19013</td><td>1077007.5</td></tr>\n",
       "\t<tr><th scope=row>3</th><td>CoCulture_Exposed1</td><td>Set1</td><td>CoCulture_Exposed</td><td>O43897</td><td>2245997.6</td></tr>\n",
       "\t<tr><th scope=row>4</th><td>CoCulture_Exposed1</td><td>Set1</td><td>CoCulture_Exposed</td><td>P20700</td><td>2388716.6</td></tr>\n",
       "\t<tr><th scope=row>5</th><td>CoCulture_Exposed1</td><td>Set1</td><td>CoCulture_Exposed</td><td>P22102</td><td>1790626.6</td></tr>\n",
       "\t<tr><th scope=row>6</th><td>CoCulture_Exposed1</td><td>Set1</td><td>CoCulture_Exposed</td><td>O75367</td><td> 874143.2</td></tr>\n",
       "</tbody>\n",
       "</table>\n"
      ],
      "text/latex": [
       "A data.frame: 6 × 5\n",
       "\\begin{tabular}{r|lllll}\n",
       "  & ID & Set & Treatment & Protein & Value\\\\\n",
       "  & <chr> & <chr> & <chr> & <chr> & <dbl>\\\\\n",
       "\\hline\n",
       "\t1 & CoCulture\\_Exposed1 & Set1 & CoCulture\\_Exposed & P19012 &  476617.6\\\\\n",
       "\t2 & CoCulture\\_Exposed1 & Set1 & CoCulture\\_Exposed & P19013 & 1077007.5\\\\\n",
       "\t3 & CoCulture\\_Exposed1 & Set1 & CoCulture\\_Exposed & O43897 & 2245997.6\\\\\n",
       "\t4 & CoCulture\\_Exposed1 & Set1 & CoCulture\\_Exposed & P20700 & 2388716.6\\\\\n",
       "\t5 & CoCulture\\_Exposed1 & Set1 & CoCulture\\_Exposed & P22102 & 1790626.6\\\\\n",
       "\t6 & CoCulture\\_Exposed1 & Set1 & CoCulture\\_Exposed & O75367 &  874143.2\\\\\n",
       "\\end{tabular}\n"
      ],
      "text/markdown": [
       "\n",
       "A data.frame: 6 × 5\n",
       "\n",
       "| <!--/--> | ID &lt;chr&gt; | Set &lt;chr&gt; | Treatment &lt;chr&gt; | Protein &lt;chr&gt; | Value &lt;dbl&gt; |\n",
       "|---|---|---|---|---|---|\n",
       "| 1 | CoCulture_Exposed1 | Set1 | CoCulture_Exposed | P19012 |  476617.6 |\n",
       "| 2 | CoCulture_Exposed1 | Set1 | CoCulture_Exposed | P19013 | 1077007.5 |\n",
       "| 3 | CoCulture_Exposed1 | Set1 | CoCulture_Exposed | O43897 | 2245997.6 |\n",
       "| 4 | CoCulture_Exposed1 | Set1 | CoCulture_Exposed | P20700 | 2388716.6 |\n",
       "| 5 | CoCulture_Exposed1 | Set1 | CoCulture_Exposed | P22102 | 1790626.6 |\n",
       "| 6 | CoCulture_Exposed1 | Set1 | CoCulture_Exposed | O75367 |  874143.2 |\n",
       "\n"
      ],
      "text/plain": [
       "  ID                 Set  Treatment         Protein Value    \n",
       "1 CoCulture_Exposed1 Set1 CoCulture_Exposed P19012   476617.6\n",
       "2 CoCulture_Exposed1 Set1 CoCulture_Exposed P19013  1077007.5\n",
       "3 CoCulture_Exposed1 Set1 CoCulture_Exposed O43897  2245997.6\n",
       "4 CoCulture_Exposed1 Set1 CoCulture_Exposed P20700  2388716.6\n",
       "5 CoCulture_Exposed1 Set1 CoCulture_Exposed P22102  1790626.6\n",
       "6 CoCulture_Exposed1 Set1 CoCulture_Exposed O75367   874143.2"
      ]
     },
     "metadata": {},
     "output_type": "display_data"
    },
    {
     "data": {
      "text/html": [
       "<table class=\"dataframe\">\n",
       "<caption>A data.frame: 6 × 5</caption>\n",
       "<thead>\n",
       "\t<tr><th></th><th scope=col>Protein</th><th scope=col>Gene.name</th><th scope=col>Description</th><th scope=col>GOCC.name</th><th scope=col>Contaminant</th></tr>\n",
       "\t<tr><th></th><th scope=col>&lt;chr&gt;</th><th scope=col>&lt;chr&gt;</th><th scope=col>&lt;chr&gt;</th><th scope=col>&lt;chr&gt;</th><th scope=col>&lt;chr&gt;</th></tr>\n",
       "</thead>\n",
       "<tbody>\n",
       "\t<tr><th scope=row>1</th><td>P02751</td><td>FN1                                                             </td><td>Fibronectin OS=Homo sapiens OX=9606 GN=FN1 PE=1 SV=5                                                           </td><td>apical plasma membrane;basal lamina;blood microparticle;cell part;cytoplasmic membrane-bounded vesicle lumen;cytoplasmic part;cytoplasmic vesicle part;endoplasmic reticulum-Golgi intermediate compartment;extracellular matrix;extracellular matrix part;extracellular membrane-bounded organelle;extracellular organelle;extracellular region;extracellular region part;extracellular space;extracellular vesicular exosome;fibrinogen complex;intracellular membrane-bounded organelle;intracellular organelle;intracellular organelle part;intracellular part;macromolecular complex;membrane part;membrane-bounded organelle;membrane-bounded vesicle;membrane-enclosed lumen;organelle;organelle lumen;organelle part;plasma membrane part;platelet alpha granule lumen;protein complex;secretory granule lumen;vesicle;vesicle lumen                                                                                                                                                  </td><td>-</td></tr>\n",
       "\t<tr><th scope=row>2</th><td>P02769</td><td>SWISS-PROT:P02769 (Bos taurus) Bovine serum albumin precursor   </td><td>SWISS-PROT:P02769 (Bos taurus) Bovine serum albumin precursor                                                  </td><td>NA                                                                                                                                                                                                                                                                                                                                                                                                                                                                                                                                                                                                                                                                                                                                                                                                                                                                                                                                                                                            </td><td>+</td></tr>\n",
       "\t<tr><th scope=row>3</th><td>P07996</td><td>THBS1                                                           </td><td>Thrombospondin-1 OS=Homo sapiens OX=9606 GN=THBS1 PE=1 SV=2                                                    </td><td>cell part;cell surface;cytoplasmic membrane-bounded vesicle;cytoplasmic membrane-bounded vesicle lumen;cytoplasmic part;cytoplasmic vesicle;cytoplasmic vesicle part;endoplasmic reticulum;endoplasmic reticulum lumen;endoplasmic reticulum part;external side of plasma membrane;extracellular matrix;extracellular membrane-bounded organelle;extracellular organelle;extracellular region;extracellular region part;extracellular space;extracellular vesicular exosome;fibrinogen complex;intracellular membrane-bounded organelle;intracellular organelle;intracellular organelle lumen;intracellular organelle part;intracellular part;macromolecular complex;membrane part;membrane-bounded organelle;membrane-bounded vesicle;membrane-enclosed lumen;organelle;organelle lumen;organelle part;plasma membrane part;platelet alpha granule;platelet alpha granule lumen;protein complex;sarcoplasmic reticulum;secretory granule lumen;stored secretory granule;vesicle;vesicle lumen</td><td>-</td></tr>\n",
       "\t<tr><th scope=row>4</th><td>Q2UVX4</td><td>SWISS-PROT:Q2UVX4 (Bos taurus) Complement C3 precursor          </td><td>SWISS-PROT:Q2UVX4 (Bos taurus) Complement C3 precursor                                                         </td><td>NA                                                                                                                                                                                                                                                                                                                                                                                                                                                                                                                                                                                                                                                                                                                                                                                                                                                                                                                                                                                            </td><td>+</td></tr>\n",
       "\t<tr><th scope=row>5</th><td>P98160</td><td>HSPG2                                                           </td><td>Basement membrane-specific heparan sulfate proteoglycan core protein OS=Homo sapiens OX=9606 GN=HSPG2 PE=1 SV=4</td><td>adherens junction;anchoring junction;basal lamina;cell junction;cell part;cell-substrate adherens junction;cell-substrate junction;cytoplasmic part;extracellular matrix;extracellular matrix part;extracellular membrane-bounded organelle;extracellular organelle;extracellular region;extracellular region part;extracellular space;extracellular vesicular exosome;focal adhesion;Golgi apparatus part;Golgi lumen;intracellular organelle lumen;intracellular organelle part;intracellular part;lysosomal lumen;membrane;membrane-bounded organelle;membrane-bounded vesicle;membrane-enclosed lumen;organelle;organelle lumen;organelle part;plasma membrane;vacuolar lumen;vacuolar part;vesicle                                                                                                                                                                                                                                                                                       </td><td>-</td></tr>\n",
       "\t<tr><th scope=row>6</th><td>P12763</td><td>SWISS-PROT:P12763 (Bos taurus) Alpha-2-HS-glycoprotein precursor</td><td>SWISS-PROT:P12763 (Bos taurus) Alpha-2-HS-glycoprotein precursor                                               </td><td>NA                                                                                                                                                                                                                                                                                                                                                                                                                                                                                                                                                                                                                                                                                                                                                                                                                                                                                                                                                                                            </td><td>+</td></tr>\n",
       "</tbody>\n",
       "</table>\n"
      ],
      "text/latex": [
       "A data.frame: 6 × 5\n",
       "\\begin{tabular}{r|lllll}\n",
       "  & Protein & Gene.name & Description & GOCC.name & Contaminant\\\\\n",
       "  & <chr> & <chr> & <chr> & <chr> & <chr>\\\\\n",
       "\\hline\n",
       "\t1 & P02751 & FN1                                                              & Fibronectin OS=Homo sapiens OX=9606 GN=FN1 PE=1 SV=5                                                            & apical plasma membrane;basal lamina;blood microparticle;cell part;cytoplasmic membrane-bounded vesicle lumen;cytoplasmic part;cytoplasmic vesicle part;endoplasmic reticulum-Golgi intermediate compartment;extracellular matrix;extracellular matrix part;extracellular membrane-bounded organelle;extracellular organelle;extracellular region;extracellular region part;extracellular space;extracellular vesicular exosome;fibrinogen complex;intracellular membrane-bounded organelle;intracellular organelle;intracellular organelle part;intracellular part;macromolecular complex;membrane part;membrane-bounded organelle;membrane-bounded vesicle;membrane-enclosed lumen;organelle;organelle lumen;organelle part;plasma membrane part;platelet alpha granule lumen;protein complex;secretory granule lumen;vesicle;vesicle lumen                                                                                                                                                   & -\\\\\n",
       "\t2 & P02769 & SWISS-PROT:P02769 (Bos taurus) Bovine serum albumin precursor    & SWISS-PROT:P02769 (Bos taurus) Bovine serum albumin precursor                                                   & NA                                                                                                                                                                                                                                                                                                                                                                                                                                                                                                                                                                                                                                                                                                                                                                                                                                                                                                                                                                                             & +\\\\\n",
       "\t3 & P07996 & THBS1                                                            & Thrombospondin-1 OS=Homo sapiens OX=9606 GN=THBS1 PE=1 SV=2                                                     & cell part;cell surface;cytoplasmic membrane-bounded vesicle;cytoplasmic membrane-bounded vesicle lumen;cytoplasmic part;cytoplasmic vesicle;cytoplasmic vesicle part;endoplasmic reticulum;endoplasmic reticulum lumen;endoplasmic reticulum part;external side of plasma membrane;extracellular matrix;extracellular membrane-bounded organelle;extracellular organelle;extracellular region;extracellular region part;extracellular space;extracellular vesicular exosome;fibrinogen complex;intracellular membrane-bounded organelle;intracellular organelle;intracellular organelle lumen;intracellular organelle part;intracellular part;macromolecular complex;membrane part;membrane-bounded organelle;membrane-bounded vesicle;membrane-enclosed lumen;organelle;organelle lumen;organelle part;plasma membrane part;platelet alpha granule;platelet alpha granule lumen;protein complex;sarcoplasmic reticulum;secretory granule lumen;stored secretory granule;vesicle;vesicle lumen & -\\\\\n",
       "\t4 & Q2UVX4 & SWISS-PROT:Q2UVX4 (Bos taurus) Complement C3 precursor           & SWISS-PROT:Q2UVX4 (Bos taurus) Complement C3 precursor                                                          & NA                                                                                                                                                                                                                                                                                                                                                                                                                                                                                                                                                                                                                                                                                                                                                                                                                                                                                                                                                                                             & +\\\\\n",
       "\t5 & P98160 & HSPG2                                                            & Basement membrane-specific heparan sulfate proteoglycan core protein OS=Homo sapiens OX=9606 GN=HSPG2 PE=1 SV=4 & adherens junction;anchoring junction;basal lamina;cell junction;cell part;cell-substrate adherens junction;cell-substrate junction;cytoplasmic part;extracellular matrix;extracellular matrix part;extracellular membrane-bounded organelle;extracellular organelle;extracellular region;extracellular region part;extracellular space;extracellular vesicular exosome;focal adhesion;Golgi apparatus part;Golgi lumen;intracellular organelle lumen;intracellular organelle part;intracellular part;lysosomal lumen;membrane;membrane-bounded organelle;membrane-bounded vesicle;membrane-enclosed lumen;organelle;organelle lumen;organelle part;plasma membrane;vacuolar lumen;vacuolar part;vesicle                                                                                                                                                                                                                                                                                        & -\\\\\n",
       "\t6 & P12763 & SWISS-PROT:P12763 (Bos taurus) Alpha-2-HS-glycoprotein precursor & SWISS-PROT:P12763 (Bos taurus) Alpha-2-HS-glycoprotein precursor                                                & NA                                                                                                                                                                                                                                                                                                                                                                                                                                                                                                                                                                                                                                                                                                                                                                                                                                                                                                                                                                                             & +\\\\\n",
       "\\end{tabular}\n"
      ],
      "text/markdown": [
       "\n",
       "A data.frame: 6 × 5\n",
       "\n",
       "| <!--/--> | Protein &lt;chr&gt; | Gene.name &lt;chr&gt; | Description &lt;chr&gt; | GOCC.name &lt;chr&gt; | Contaminant &lt;chr&gt; |\n",
       "|---|---|---|---|---|---|\n",
       "| 1 | P02751 | FN1                                                              | Fibronectin OS=Homo sapiens OX=9606 GN=FN1 PE=1 SV=5                                                            | apical plasma membrane;basal lamina;blood microparticle;cell part;cytoplasmic membrane-bounded vesicle lumen;cytoplasmic part;cytoplasmic vesicle part;endoplasmic reticulum-Golgi intermediate compartment;extracellular matrix;extracellular matrix part;extracellular membrane-bounded organelle;extracellular organelle;extracellular region;extracellular region part;extracellular space;extracellular vesicular exosome;fibrinogen complex;intracellular membrane-bounded organelle;intracellular organelle;intracellular organelle part;intracellular part;macromolecular complex;membrane part;membrane-bounded organelle;membrane-bounded vesicle;membrane-enclosed lumen;organelle;organelle lumen;organelle part;plasma membrane part;platelet alpha granule lumen;protein complex;secretory granule lumen;vesicle;vesicle lumen                                                                                                                                                   | - |\n",
       "| 2 | P02769 | SWISS-PROT:P02769 (Bos taurus) Bovine serum albumin precursor    | SWISS-PROT:P02769 (Bos taurus) Bovine serum albumin precursor                                                   | NA                                                                                                                                                                                                                                                                                                                                                                                                                                                                                                                                                                                                                                                                                                                                                                                                                                                                                                                                                                                             | + |\n",
       "| 3 | P07996 | THBS1                                                            | Thrombospondin-1 OS=Homo sapiens OX=9606 GN=THBS1 PE=1 SV=2                                                     | cell part;cell surface;cytoplasmic membrane-bounded vesicle;cytoplasmic membrane-bounded vesicle lumen;cytoplasmic part;cytoplasmic vesicle;cytoplasmic vesicle part;endoplasmic reticulum;endoplasmic reticulum lumen;endoplasmic reticulum part;external side of plasma membrane;extracellular matrix;extracellular membrane-bounded organelle;extracellular organelle;extracellular region;extracellular region part;extracellular space;extracellular vesicular exosome;fibrinogen complex;intracellular membrane-bounded organelle;intracellular organelle;intracellular organelle lumen;intracellular organelle part;intracellular part;macromolecular complex;membrane part;membrane-bounded organelle;membrane-bounded vesicle;membrane-enclosed lumen;organelle;organelle lumen;organelle part;plasma membrane part;platelet alpha granule;platelet alpha granule lumen;protein complex;sarcoplasmic reticulum;secretory granule lumen;stored secretory granule;vesicle;vesicle lumen | - |\n",
       "| 4 | Q2UVX4 | SWISS-PROT:Q2UVX4 (Bos taurus) Complement C3 precursor           | SWISS-PROT:Q2UVX4 (Bos taurus) Complement C3 precursor                                                          | NA                                                                                                                                                                                                                                                                                                                                                                                                                                                                                                                                                                                                                                                                                                                                                                                                                                                                                                                                                                                             | + |\n",
       "| 5 | P98160 | HSPG2                                                            | Basement membrane-specific heparan sulfate proteoglycan core protein OS=Homo sapiens OX=9606 GN=HSPG2 PE=1 SV=4 | adherens junction;anchoring junction;basal lamina;cell junction;cell part;cell-substrate adherens junction;cell-substrate junction;cytoplasmic part;extracellular matrix;extracellular matrix part;extracellular membrane-bounded organelle;extracellular organelle;extracellular region;extracellular region part;extracellular space;extracellular vesicular exosome;focal adhesion;Golgi apparatus part;Golgi lumen;intracellular organelle lumen;intracellular organelle part;intracellular part;lysosomal lumen;membrane;membrane-bounded organelle;membrane-bounded vesicle;membrane-enclosed lumen;organelle;organelle lumen;organelle part;plasma membrane;vacuolar lumen;vacuolar part;vesicle                                                                                                                                                                                                                                                                                        | - |\n",
       "| 6 | P12763 | SWISS-PROT:P12763 (Bos taurus) Alpha-2-HS-glycoprotein precursor | SWISS-PROT:P12763 (Bos taurus) Alpha-2-HS-glycoprotein precursor                                                | NA                                                                                                                                                                                                                                                                                                                                                                                                                                                                                                                                                                                                                                                                                                                                                                                                                                                                                                                                                                                             | + |\n",
       "\n"
      ],
      "text/plain": [
       "  Protein Gene.name                                                       \n",
       "1 P02751  FN1                                                             \n",
       "2 P02769  SWISS-PROT:P02769 (Bos taurus) Bovine serum albumin precursor   \n",
       "3 P07996  THBS1                                                           \n",
       "4 Q2UVX4  SWISS-PROT:Q2UVX4 (Bos taurus) Complement C3 precursor          \n",
       "5 P98160  HSPG2                                                           \n",
       "6 P12763  SWISS-PROT:P12763 (Bos taurus) Alpha-2-HS-glycoprotein precursor\n",
       "  Description                                                                                                    \n",
       "1 Fibronectin OS=Homo sapiens OX=9606 GN=FN1 PE=1 SV=5                                                           \n",
       "2 SWISS-PROT:P02769 (Bos taurus) Bovine serum albumin precursor                                                  \n",
       "3 Thrombospondin-1 OS=Homo sapiens OX=9606 GN=THBS1 PE=1 SV=2                                                    \n",
       "4 SWISS-PROT:Q2UVX4 (Bos taurus) Complement C3 precursor                                                         \n",
       "5 Basement membrane-specific heparan sulfate proteoglycan core protein OS=Homo sapiens OX=9606 GN=HSPG2 PE=1 SV=4\n",
       "6 SWISS-PROT:P12763 (Bos taurus) Alpha-2-HS-glycoprotein precursor                                               \n",
       "  GOCC.name                                                                                                                                                                                                                                                                                                                                                                                                                                                                                                                                                                                                                                                                                                                                                                                                                                                                                                                                                                                     \n",
       "1 apical plasma membrane;basal lamina;blood microparticle;cell part;cytoplasmic membrane-bounded vesicle lumen;cytoplasmic part;cytoplasmic vesicle part;endoplasmic reticulum-Golgi intermediate compartment;extracellular matrix;extracellular matrix part;extracellular membrane-bounded organelle;extracellular organelle;extracellular region;extracellular region part;extracellular space;extracellular vesicular exosome;fibrinogen complex;intracellular membrane-bounded organelle;intracellular organelle;intracellular organelle part;intracellular part;macromolecular complex;membrane part;membrane-bounded organelle;membrane-bounded vesicle;membrane-enclosed lumen;organelle;organelle lumen;organelle part;plasma membrane part;platelet alpha granule lumen;protein complex;secretory granule lumen;vesicle;vesicle lumen                                                                                                                                                  \n",
       "2 NA                                                                                                                                                                                                                                                                                                                                                                                                                                                                                                                                                                                                                                                                                                                                                                                                                                                                                                                                                                                            \n",
       "3 cell part;cell surface;cytoplasmic membrane-bounded vesicle;cytoplasmic membrane-bounded vesicle lumen;cytoplasmic part;cytoplasmic vesicle;cytoplasmic vesicle part;endoplasmic reticulum;endoplasmic reticulum lumen;endoplasmic reticulum part;external side of plasma membrane;extracellular matrix;extracellular membrane-bounded organelle;extracellular organelle;extracellular region;extracellular region part;extracellular space;extracellular vesicular exosome;fibrinogen complex;intracellular membrane-bounded organelle;intracellular organelle;intracellular organelle lumen;intracellular organelle part;intracellular part;macromolecular complex;membrane part;membrane-bounded organelle;membrane-bounded vesicle;membrane-enclosed lumen;organelle;organelle lumen;organelle part;plasma membrane part;platelet alpha granule;platelet alpha granule lumen;protein complex;sarcoplasmic reticulum;secretory granule lumen;stored secretory granule;vesicle;vesicle lumen\n",
       "4 NA                                                                                                                                                                                                                                                                                                                                                                                                                                                                                                                                                                                                                                                                                                                                                                                                                                                                                                                                                                                            \n",
       "5 adherens junction;anchoring junction;basal lamina;cell junction;cell part;cell-substrate adherens junction;cell-substrate junction;cytoplasmic part;extracellular matrix;extracellular matrix part;extracellular membrane-bounded organelle;extracellular organelle;extracellular region;extracellular region part;extracellular space;extracellular vesicular exosome;focal adhesion;Golgi apparatus part;Golgi lumen;intracellular organelle lumen;intracellular organelle part;intracellular part;lysosomal lumen;membrane;membrane-bounded organelle;membrane-bounded vesicle;membrane-enclosed lumen;organelle;organelle lumen;organelle part;plasma membrane;vacuolar lumen;vacuolar part;vesicle                                                                                                                                                                                                                                                                                       \n",
       "6 NA                                                                                                                                                                                                                                                                                                                                                                                                                                                                                                                                                                                                                                                                                                                                                                                                                                                                                                                                                                                            \n",
       "  Contaminant\n",
       "1 -          \n",
       "2 +          \n",
       "3 -          \n",
       "4 +          \n",
       "5 -          \n",
       "6 +          "
      ]
     },
     "metadata": {},
     "output_type": "display_data"
    }
   ],
   "source": [
    "head(proteomics_df)\n",
    "head(protein_info_df)"
   ]
  },
  {
   "cell_type": "code",
   "execution_count": 3,
   "id": "b609515d",
   "metadata": {},
   "outputs": [
    {
     "data": {
      "text/html": [
       "<table class=\"dataframe\">\n",
       "<caption>A data.frame: 6 × 6</caption>\n",
       "<thead>\n",
       "\t<tr><th></th><th scope=col>ID</th><th scope=col>Set</th><th scope=col>Treatment</th><th scope=col>Exposure</th><th scope=col>Protein</th><th scope=col>Value</th></tr>\n",
       "\t<tr><th></th><th scope=col>&lt;chr&gt;</th><th scope=col>&lt;chr&gt;</th><th scope=col>&lt;chr&gt;</th><th scope=col>&lt;chr&gt;</th><th scope=col>&lt;chr&gt;</th><th scope=col>&lt;dbl&gt;</th></tr>\n",
       "</thead>\n",
       "<tbody>\n",
       "\t<tr><th scope=row>1</th><td>CoCulture_Exposed1</td><td>Set1</td><td>CoCulture</td><td>Exposed</td><td>P19012</td><td> 476617.6</td></tr>\n",
       "\t<tr><th scope=row>2</th><td>CoCulture_Exposed1</td><td>Set1</td><td>CoCulture</td><td>Exposed</td><td>P19013</td><td>1077007.5</td></tr>\n",
       "\t<tr><th scope=row>3</th><td>CoCulture_Exposed1</td><td>Set1</td><td>CoCulture</td><td>Exposed</td><td>O43897</td><td>2245997.6</td></tr>\n",
       "\t<tr><th scope=row>4</th><td>CoCulture_Exposed1</td><td>Set1</td><td>CoCulture</td><td>Exposed</td><td>P20700</td><td>2388716.6</td></tr>\n",
       "\t<tr><th scope=row>5</th><td>CoCulture_Exposed1</td><td>Set1</td><td>CoCulture</td><td>Exposed</td><td>P22102</td><td>1790626.6</td></tr>\n",
       "\t<tr><th scope=row>6</th><td>CoCulture_Exposed1</td><td>Set1</td><td>CoCulture</td><td>Exposed</td><td>O75367</td><td> 874143.2</td></tr>\n",
       "</tbody>\n",
       "</table>\n"
      ],
      "text/latex": [
       "A data.frame: 6 × 6\n",
       "\\begin{tabular}{r|llllll}\n",
       "  & ID & Set & Treatment & Exposure & Protein & Value\\\\\n",
       "  & <chr> & <chr> & <chr> & <chr> & <chr> & <dbl>\\\\\n",
       "\\hline\n",
       "\t1 & CoCulture\\_Exposed1 & Set1 & CoCulture & Exposed & P19012 &  476617.6\\\\\n",
       "\t2 & CoCulture\\_Exposed1 & Set1 & CoCulture & Exposed & P19013 & 1077007.5\\\\\n",
       "\t3 & CoCulture\\_Exposed1 & Set1 & CoCulture & Exposed & O43897 & 2245997.6\\\\\n",
       "\t4 & CoCulture\\_Exposed1 & Set1 & CoCulture & Exposed & P20700 & 2388716.6\\\\\n",
       "\t5 & CoCulture\\_Exposed1 & Set1 & CoCulture & Exposed & P22102 & 1790626.6\\\\\n",
       "\t6 & CoCulture\\_Exposed1 & Set1 & CoCulture & Exposed & O75367 &  874143.2\\\\\n",
       "\\end{tabular}\n"
      ],
      "text/markdown": [
       "\n",
       "A data.frame: 6 × 6\n",
       "\n",
       "| <!--/--> | ID &lt;chr&gt; | Set &lt;chr&gt; | Treatment &lt;chr&gt; | Exposure &lt;chr&gt; | Protein &lt;chr&gt; | Value &lt;dbl&gt; |\n",
       "|---|---|---|---|---|---|---|\n",
       "| 1 | CoCulture_Exposed1 | Set1 | CoCulture | Exposed | P19012 |  476617.6 |\n",
       "| 2 | CoCulture_Exposed1 | Set1 | CoCulture | Exposed | P19013 | 1077007.5 |\n",
       "| 3 | CoCulture_Exposed1 | Set1 | CoCulture | Exposed | O43897 | 2245997.6 |\n",
       "| 4 | CoCulture_Exposed1 | Set1 | CoCulture | Exposed | P20700 | 2388716.6 |\n",
       "| 5 | CoCulture_Exposed1 | Set1 | CoCulture | Exposed | P22102 | 1790626.6 |\n",
       "| 6 | CoCulture_Exposed1 | Set1 | CoCulture | Exposed | O75367 |  874143.2 |\n",
       "\n"
      ],
      "text/plain": [
       "  ID                 Set  Treatment Exposure Protein Value    \n",
       "1 CoCulture_Exposed1 Set1 CoCulture Exposed  P19012   476617.6\n",
       "2 CoCulture_Exposed1 Set1 CoCulture Exposed  P19013  1077007.5\n",
       "3 CoCulture_Exposed1 Set1 CoCulture Exposed  O43897  2245997.6\n",
       "4 CoCulture_Exposed1 Set1 CoCulture Exposed  P20700  2388716.6\n",
       "5 CoCulture_Exposed1 Set1 CoCulture Exposed  P22102  1790626.6\n",
       "6 CoCulture_Exposed1 Set1 CoCulture Exposed  O75367   874143.2"
      ]
     },
     "metadata": {},
     "output_type": "display_data"
    }
   ],
   "source": [
    "proteomics_df = proteomics_df %>%\n",
    "    #just want a column that specifies the treatment and exposure separately\n",
    "    separate(Treatment, c(\"Treatment\", \"Exposure\"), sep = \"_\") \n",
    "\n",
    "head(proteomics_df)"
   ]
  },
  {
   "cell_type": "code",
   "execution_count": 4,
   "id": "e9e81f3a",
   "metadata": {},
   "outputs": [
    {
     "data": {
      "text/html": [
       "<table class=\"dataframe\">\n",
       "<caption>A tibble: 6 × 6</caption>\n",
       "<thead>\n",
       "\t<tr><th scope=col>ID</th><th scope=col>Set</th><th scope=col>Treatment</th><th scope=col>Exposure</th><th scope=col>Protein</th><th scope=col>Value</th></tr>\n",
       "\t<tr><th scope=col>&lt;chr&gt;</th><th scope=col>&lt;chr&gt;</th><th scope=col>&lt;chr&gt;</th><th scope=col>&lt;chr&gt;</th><th scope=col>&lt;chr&gt;</th><th scope=col>&lt;dbl&gt;</th></tr>\n",
       "</thead>\n",
       "<tbody>\n",
       "\t<tr><td>CoCulture_Exposed1</td><td>Set1</td><td>CoCulture</td><td>Exposed</td><td>P19012</td><td> 476617.6</td></tr>\n",
       "\t<tr><td>CoCulture_Exposed1</td><td>Set1</td><td>CoCulture</td><td>Exposed</td><td>P19013</td><td>1077007.5</td></tr>\n",
       "\t<tr><td>CoCulture_Exposed1</td><td>Set1</td><td>CoCulture</td><td>Exposed</td><td>O43897</td><td>2245997.6</td></tr>\n",
       "\t<tr><td>CoCulture_Exposed1</td><td>Set1</td><td>CoCulture</td><td>Exposed</td><td>P20700</td><td>2388716.6</td></tr>\n",
       "\t<tr><td>CoCulture_Exposed1</td><td>Set1</td><td>CoCulture</td><td>Exposed</td><td>P22102</td><td>1790626.6</td></tr>\n",
       "\t<tr><td>CoCulture_Exposed1</td><td>Set1</td><td>CoCulture</td><td>Exposed</td><td>O75367</td><td> 874143.2</td></tr>\n",
       "</tbody>\n",
       "</table>\n"
      ],
      "text/latex": [
       "A tibble: 6 × 6\n",
       "\\begin{tabular}{llllll}\n",
       " ID & Set & Treatment & Exposure & Protein & Value\\\\\n",
       " <chr> & <chr> & <chr> & <chr> & <chr> & <dbl>\\\\\n",
       "\\hline\n",
       "\t CoCulture\\_Exposed1 & Set1 & CoCulture & Exposed & P19012 &  476617.6\\\\\n",
       "\t CoCulture\\_Exposed1 & Set1 & CoCulture & Exposed & P19013 & 1077007.5\\\\\n",
       "\t CoCulture\\_Exposed1 & Set1 & CoCulture & Exposed & O43897 & 2245997.6\\\\\n",
       "\t CoCulture\\_Exposed1 & Set1 & CoCulture & Exposed & P20700 & 2388716.6\\\\\n",
       "\t CoCulture\\_Exposed1 & Set1 & CoCulture & Exposed & P22102 & 1790626.6\\\\\n",
       "\t CoCulture\\_Exposed1 & Set1 & CoCulture & Exposed & O75367 &  874143.2\\\\\n",
       "\\end{tabular}\n"
      ],
      "text/markdown": [
       "\n",
       "A tibble: 6 × 6\n",
       "\n",
       "| ID &lt;chr&gt; | Set &lt;chr&gt; | Treatment &lt;chr&gt; | Exposure &lt;chr&gt; | Protein &lt;chr&gt; | Value &lt;dbl&gt; |\n",
       "|---|---|---|---|---|---|\n",
       "| CoCulture_Exposed1 | Set1 | CoCulture | Exposed | P19012 |  476617.6 |\n",
       "| CoCulture_Exposed1 | Set1 | CoCulture | Exposed | P19013 | 1077007.5 |\n",
       "| CoCulture_Exposed1 | Set1 | CoCulture | Exposed | O43897 | 2245997.6 |\n",
       "| CoCulture_Exposed1 | Set1 | CoCulture | Exposed | P20700 | 2388716.6 |\n",
       "| CoCulture_Exposed1 | Set1 | CoCulture | Exposed | P22102 | 1790626.6 |\n",
       "| CoCulture_Exposed1 | Set1 | CoCulture | Exposed | O75367 |  874143.2 |\n",
       "\n"
      ],
      "text/plain": [
       "  ID                 Set  Treatment Exposure Protein Value    \n",
       "1 CoCulture_Exposed1 Set1 CoCulture Exposed  P19012   476617.6\n",
       "2 CoCulture_Exposed1 Set1 CoCulture Exposed  P19013  1077007.5\n",
       "3 CoCulture_Exposed1 Set1 CoCulture Exposed  O43897  2245997.6\n",
       "4 CoCulture_Exposed1 Set1 CoCulture Exposed  P20700  2388716.6\n",
       "5 CoCulture_Exposed1 Set1 CoCulture Exposed  P22102  1790626.6\n",
       "6 CoCulture_Exposed1 Set1 CoCulture Exposed  O75367   874143.2"
      ]
     },
     "metadata": {},
     "output_type": "display_data"
    }
   ],
   "source": [
    "#explain why I split this\n",
    "proteomics_df_split = proteomics_df %>%\n",
    "    group_by(Set) %>%\n",
    "    group_split()\n",
    "\n",
    "set1_proteomics_df = proteomics_df_split[[1]]\n",
    "set2_proteomics_df = proteomics_df_split[[2]]\n",
    "\n",
    "head(set1_proteomics_df)"
   ]
  },
  {
   "cell_type": "markdown",
   "id": "e9be1db6",
   "metadata": {},
   "source": [
    "Running t tests to determine if there are statistically significant distribution differences in co-culture unexposed vs. exposed and tri-culture unexposed vs. exposed. "
   ]
  },
  {
   "cell_type": "code",
   "execution_count": 5,
   "id": "9b6930b4",
   "metadata": {},
   "outputs": [],
   "source": [
    "t_test_values = function(df, set_id){\n",
    "    #\"\"\"\n",
    "    #Running t tests after filtering for set, treatment, exposure, and protein using a loop. \n",
    "    #Ultimately using this test to compare proteins (unexposed vs. exposed).\n",
    "\n",
    "    #:param: subsetted dataframe, empty dataframe\n",
    "    #:output: a dataframe containing the set, treatment, exposure, protein, u stat, p value, p adj\n",
    "\n",
    "    #\"\"\"\n",
    "    treatments = unique(df$Treatment)\n",
    "    proteins = unique(df$Protein)\n",
    "    \n",
    "    values_df = data.frame()\n",
    "    #iterating through each tx, protein\n",
    "\n",
    "    for(i in 1:length(treatments)){\n",
    "        for(j in 1:length(proteins)){\n",
    "            #unexposed df\n",
    "            unexposed_df = df %>%\n",
    "                filter(Treatment == treatments[i], Exposure == \"Vehicle\", Protein == proteins[j])\n",
    "            #exposed df\n",
    "            exposed_df = df %>%\n",
    "                filter(Treatment == treatments[i], Exposure == \"Exposed\", Protein == proteins[j])\n",
    "\n",
    "            #t test\n",
    "            t_test = t.test(unexposed_df$Value, exposed_df$Value)\n",
    "            \n",
    "            #calculating FC to get directionality\n",
    "            FC = log2(mean(unexposed_df$Value)/mean(exposed_df$Value))\n",
    "\n",
    "            #contains smoking status compared, compartment, cytokine, u stat, and p value\n",
    "            values_vector = cbind(set_id, treatments[i], proteins[j], FC, t_test$statistic, t_test$p.value)\n",
    "            values_df = rbind(values_df, values_vector)\n",
    "            }\n",
    "        }\n",
    "\n",
    "    \n",
    "    #adding col names\n",
    "    colnames(values_df) = c(\"Set\", \"Treatment\", \"Protein\", \"log2FC\", \"Statistic\", \"P Value\")\n",
    "    \n",
    "    \n",
    "    #calculating padj values\n",
    "    padj_vector = c()\n",
    "    #adjusting within each treatment\n",
    "    for (i in 1:length(treatments)){\n",
    "        `P Adj` = p.adjust(as.numeric(as.character(values_df$`P Value`)), method = \"fdr\")\n",
    "        padj_vector = c(padj_vector, `P Adj`)\n",
    "    }\n",
    "    \n",
    "    values_df = cbind(values_df, padj_vector) %>%\n",
    "        rename(`P Adj` = padj_vector)\n",
    "\n",
    "    values_df$log2FC = as.numeric(values_df$log2FC) \n",
    "    values_df$Statistic = as.numeric(values_df$Statistic)\n",
    "    values_df$`P Value` = as.numeric(values_df$`P Value`) \n",
    "    \n",
    "    return(values_df)\n",
    "}"
   ]
  },
  {
   "cell_type": "code",
   "execution_count": 6,
   "id": "ed469849",
   "metadata": {},
   "outputs": [],
   "source": [
    "# calling fn\n",
    "set1_t_test = t_test_values(set1_proteomics_df, \"Set1\")\n",
    "set2_t_test = t_test_values(set2_proteomics_df, \"Set2\")"
   ]
  },
  {
   "cell_type": "code",
   "execution_count": 7,
   "id": "126ffaca",
   "metadata": {},
   "outputs": [
    {
     "data": {
      "text/html": [
       "<table class=\"dataframe\">\n",
       "<caption>A data.frame: 6 × 7</caption>\n",
       "<thead>\n",
       "\t<tr><th></th><th scope=col>Set</th><th scope=col>Treatment</th><th scope=col>Protein</th><th scope=col>log2FC</th><th scope=col>Statistic</th><th scope=col>P Value</th><th scope=col>P Adj</th></tr>\n",
       "\t<tr><th></th><th scope=col>&lt;chr&gt;</th><th scope=col>&lt;chr&gt;</th><th scope=col>&lt;chr&gt;</th><th scope=col>&lt;dbl&gt;</th><th scope=col>&lt;dbl&gt;</th><th scope=col>&lt;dbl&gt;</th><th scope=col>&lt;dbl&gt;</th></tr>\n",
       "</thead>\n",
       "<tbody>\n",
       "\t<tr><th scope=row>t</th><td>Set1</td><td>CoCulture</td><td>P19012</td><td> 0.3539417</td><td> 0.6033149</td><td>0.5672249</td><td>0.8207093</td></tr>\n",
       "\t<tr><th scope=row>t1</th><td>Set1</td><td>CoCulture</td><td>P19013</td><td>-0.1250127</td><td>-0.1394369</td><td>0.8938424</td><td>0.9672176</td></tr>\n",
       "\t<tr><th scope=row>t2</th><td>Set1</td><td>CoCulture</td><td>O43897</td><td>-0.3537176</td><td>-1.2881706</td><td>0.2415972</td><td>0.7149305</td></tr>\n",
       "\t<tr><th scope=row>t3</th><td>Set1</td><td>CoCulture</td><td>P20700</td><td>-0.1311273</td><td>-0.4011018</td><td>0.6984561</td><td>0.8649296</td></tr>\n",
       "\t<tr><th scope=row>t4</th><td>Set1</td><td>CoCulture</td><td>P22102</td><td> 0.8732620</td><td> 1.0907687</td><td>0.3118780</td><td>0.7329387</td></tr>\n",
       "\t<tr><th scope=row>t5</th><td>Set1</td><td>CoCulture</td><td>O75367</td><td>-0.3787917</td><td>-0.6036463</td><td>0.5633036</td><td>0.8186874</td></tr>\n",
       "</tbody>\n",
       "</table>\n"
      ],
      "text/latex": [
       "A data.frame: 6 × 7\n",
       "\\begin{tabular}{r|lllllll}\n",
       "  & Set & Treatment & Protein & log2FC & Statistic & P Value & P Adj\\\\\n",
       "  & <chr> & <chr> & <chr> & <dbl> & <dbl> & <dbl> & <dbl>\\\\\n",
       "\\hline\n",
       "\tt & Set1 & CoCulture & P19012 &  0.3539417 &  0.6033149 & 0.5672249 & 0.8207093\\\\\n",
       "\tt1 & Set1 & CoCulture & P19013 & -0.1250127 & -0.1394369 & 0.8938424 & 0.9672176\\\\\n",
       "\tt2 & Set1 & CoCulture & O43897 & -0.3537176 & -1.2881706 & 0.2415972 & 0.7149305\\\\\n",
       "\tt3 & Set1 & CoCulture & P20700 & -0.1311273 & -0.4011018 & 0.6984561 & 0.8649296\\\\\n",
       "\tt4 & Set1 & CoCulture & P22102 &  0.8732620 &  1.0907687 & 0.3118780 & 0.7329387\\\\\n",
       "\tt5 & Set1 & CoCulture & O75367 & -0.3787917 & -0.6036463 & 0.5633036 & 0.8186874\\\\\n",
       "\\end{tabular}\n"
      ],
      "text/markdown": [
       "\n",
       "A data.frame: 6 × 7\n",
       "\n",
       "| <!--/--> | Set &lt;chr&gt; | Treatment &lt;chr&gt; | Protein &lt;chr&gt; | log2FC &lt;dbl&gt; | Statistic &lt;dbl&gt; | P Value &lt;dbl&gt; | P Adj &lt;dbl&gt; |\n",
       "|---|---|---|---|---|---|---|---|\n",
       "| t | Set1 | CoCulture | P19012 |  0.3539417 |  0.6033149 | 0.5672249 | 0.8207093 |\n",
       "| t1 | Set1 | CoCulture | P19013 | -0.1250127 | -0.1394369 | 0.8938424 | 0.9672176 |\n",
       "| t2 | Set1 | CoCulture | O43897 | -0.3537176 | -1.2881706 | 0.2415972 | 0.7149305 |\n",
       "| t3 | Set1 | CoCulture | P20700 | -0.1311273 | -0.4011018 | 0.6984561 | 0.8649296 |\n",
       "| t4 | Set1 | CoCulture | P22102 |  0.8732620 |  1.0907687 | 0.3118780 | 0.7329387 |\n",
       "| t5 | Set1 | CoCulture | O75367 | -0.3787917 | -0.6036463 | 0.5633036 | 0.8186874 |\n",
       "\n"
      ],
      "text/plain": [
       "   Set  Treatment Protein log2FC     Statistic  P Value   P Adj    \n",
       "t  Set1 CoCulture P19012   0.3539417  0.6033149 0.5672249 0.8207093\n",
       "t1 Set1 CoCulture P19013  -0.1250127 -0.1394369 0.8938424 0.9672176\n",
       "t2 Set1 CoCulture O43897  -0.3537176 -1.2881706 0.2415972 0.7149305\n",
       "t3 Set1 CoCulture P20700  -0.1311273 -0.4011018 0.6984561 0.8649296\n",
       "t4 Set1 CoCulture P22102   0.8732620  1.0907687 0.3118780 0.7329387\n",
       "t5 Set1 CoCulture O75367  -0.3787917 -0.6036463 0.5633036 0.8186874"
      ]
     },
     "metadata": {},
     "output_type": "display_data"
    }
   ],
   "source": [
    "# creating 1 df\n",
    "t_test_df = rbind(set1_t_test, set2_t_test)\n",
    "head(t_test_df)"
   ]
  },
  {
   "cell_type": "code",
   "execution_count": 8,
   "id": "304c9cd6",
   "metadata": {},
   "outputs": [],
   "source": [
    "# exporting t test results\n",
    "write.csv(t_test_df, paste0(Output,\"/\", cur_date, \"_Statistical_Results_Only.csv\"), row.names = FALSE)"
   ]
  },
  {
   "cell_type": "code",
   "execution_count": 9,
   "id": "0d72aba9",
   "metadata": {},
   "outputs": [
    {
     "data": {
      "text/html": [
       "<table class=\"dataframe\">\n",
       "<caption>A tibble: 6 × 3</caption>\n",
       "<thead>\n",
       "\t<tr><th scope=col>Protein</th><th scope=col>Variable</th><th scope=col>Value</th></tr>\n",
       "\t<tr><th scope=col>&lt;chr&gt;</th><th scope=col>&lt;chr&gt;</th><th scope=col>&lt;dbl&gt;</th></tr>\n",
       "</thead>\n",
       "<tbody>\n",
       "\t<tr><td>P19012</td><td>CoCulture_log2FC   </td><td> 0.3539417</td></tr>\n",
       "\t<tr><td>P19012</td><td>CoCulture_Statistic</td><td> 0.6033149</td></tr>\n",
       "\t<tr><td>P19012</td><td>CoCulture_P Value  </td><td> 0.5672249</td></tr>\n",
       "\t<tr><td>P19012</td><td>CoCulture_P Adj    </td><td> 0.8207093</td></tr>\n",
       "\t<tr><td>P19013</td><td>CoCulture_log2FC   </td><td>-0.1250127</td></tr>\n",
       "\t<tr><td>P19013</td><td>CoCulture_Statistic</td><td>-0.1394369</td></tr>\n",
       "</tbody>\n",
       "</table>\n"
      ],
      "text/latex": [
       "A tibble: 6 × 3\n",
       "\\begin{tabular}{lll}\n",
       " Protein & Variable & Value\\\\\n",
       " <chr> & <chr> & <dbl>\\\\\n",
       "\\hline\n",
       "\t P19012 & CoCulture\\_log2FC    &  0.3539417\\\\\n",
       "\t P19012 & CoCulture\\_Statistic &  0.6033149\\\\\n",
       "\t P19012 & CoCulture\\_P Value   &  0.5672249\\\\\n",
       "\t P19012 & CoCulture\\_P Adj     &  0.8207093\\\\\n",
       "\t P19013 & CoCulture\\_log2FC    & -0.1250127\\\\\n",
       "\t P19013 & CoCulture\\_Statistic & -0.1394369\\\\\n",
       "\\end{tabular}\n"
      ],
      "text/markdown": [
       "\n",
       "A tibble: 6 × 3\n",
       "\n",
       "| Protein &lt;chr&gt; | Variable &lt;chr&gt; | Value &lt;dbl&gt; |\n",
       "|---|---|---|\n",
       "| P19012 | CoCulture_log2FC    |  0.3539417 |\n",
       "| P19012 | CoCulture_Statistic |  0.6033149 |\n",
       "| P19012 | CoCulture_P Value   |  0.5672249 |\n",
       "| P19012 | CoCulture_P Adj     |  0.8207093 |\n",
       "| P19013 | CoCulture_log2FC    | -0.1250127 |\n",
       "| P19013 | CoCulture_Statistic | -0.1394369 |\n",
       "\n"
      ],
      "text/plain": [
       "  Protein Variable            Value     \n",
       "1 P19012  CoCulture_log2FC     0.3539417\n",
       "2 P19012  CoCulture_Statistic  0.6033149\n",
       "3 P19012  CoCulture_P Value    0.5672249\n",
       "4 P19012  CoCulture_P Adj      0.8207093\n",
       "5 P19013  CoCulture_log2FC    -0.1250127\n",
       "6 P19013  CoCulture_Statistic -0.1394369"
      ]
     },
     "metadata": {},
     "output_type": "display_data"
    }
   ],
   "source": [
    "t_test_df = pivot_longer(t_test_df, cols = 4:7, names_to = \"var\", values_to = \"Value\") %>%\n",
    "    unite(\"Variable\", Treatment,var) %>%\n",
    "    select(-Set)\n",
    "\n",
    "t_test_df = t_test_df[,c(2,1,3)]\n",
    "\n",
    "head(t_test_df)"
   ]
  },
  {
   "cell_type": "code",
   "execution_count": 10,
   "id": "dc459342",
   "metadata": {},
   "outputs": [
    {
     "name": "stderr",
     "output_type": "stream",
     "text": [
      "\u001b[1m\u001b[22m`summarise()` has grouped output by 'Treatment'. You can override using the\n",
      "`.groups` argument.\n"
     ]
    },
    {
     "data": {
      "text/html": [
       "<table class=\"dataframe\">\n",
       "<caption>A tibble: 6 × 2</caption>\n",
       "<thead>\n",
       "\t<tr><th scope=col>Protein</th><th scope=col>Avg_Abundance</th></tr>\n",
       "\t<tr><th scope=col>&lt;chr&gt;</th><th scope=col>&lt;dbl&gt;</th></tr>\n",
       "</thead>\n",
       "<tbody>\n",
       "\t<tr><td>A0A096LP49</td><td> 51897126</td></tr>\n",
       "\t<tr><td>A0A2R8Y4Y8</td><td>  1745284</td></tr>\n",
       "\t<tr><td>A0AVT1    </td><td> 10826356</td></tr>\n",
       "\t<tr><td>A1L4H1    </td><td>120968155</td></tr>\n",
       "\t<tr><td>A2I7N0    </td><td> 44219136</td></tr>\n",
       "\t<tr><td>A2I7N1    </td><td>  8240726</td></tr>\n",
       "</tbody>\n",
       "</table>\n"
      ],
      "text/latex": [
       "A tibble: 6 × 2\n",
       "\\begin{tabular}{ll}\n",
       " Protein & Avg\\_Abundance\\\\\n",
       " <chr> & <dbl>\\\\\n",
       "\\hline\n",
       "\t A0A096LP49 &  51897126\\\\\n",
       "\t A0A2R8Y4Y8 &   1745284\\\\\n",
       "\t A0AVT1     &  10826356\\\\\n",
       "\t A1L4H1     & 120968155\\\\\n",
       "\t A2I7N0     &  44219136\\\\\n",
       "\t A2I7N1     &   8240726\\\\\n",
       "\\end{tabular}\n"
      ],
      "text/markdown": [
       "\n",
       "A tibble: 6 × 2\n",
       "\n",
       "| Protein &lt;chr&gt; | Avg_Abundance &lt;dbl&gt; |\n",
       "|---|---|\n",
       "| A0A096LP49 |  51897126 |\n",
       "| A0A2R8Y4Y8 |   1745284 |\n",
       "| A0AVT1     |  10826356 |\n",
       "| A1L4H1     | 120968155 |\n",
       "| A2I7N0     |  44219136 |\n",
       "| A2I7N1     |   8240726 |\n",
       "\n"
      ],
      "text/plain": [
       "  Protein    Avg_Abundance\n",
       "1 A0A096LP49  51897126    \n",
       "2 A0A2R8Y4Y8   1745284    \n",
       "3 A0AVT1      10826356    \n",
       "4 A1L4H1     120968155    \n",
       "5 A2I7N0      44219136    \n",
       "6 A2I7N1       8240726    "
      ]
     },
     "metadata": {},
     "output_type": "display_data"
    }
   ],
   "source": [
    "#calculating overall avg. abundance and within smoking groups\n",
    "avg_abundance_df = proteomics_df %>%\n",
    "    group_by(Protein) %>%\n",
    "    summarize(Avg_Abundance = mean(Value))\n",
    "\n",
    "#stratified by treatment\n",
    "avg_abundance_df_stratified = proteomics_df %>%\n",
    "    group_by(Treatment, Protein) %>%\n",
    "    summarize(Avg_Abundance_stratified = mean(Value))\n",
    "\n",
    "head(avg_abundance_df)"
   ]
  },
  {
   "cell_type": "code",
   "execution_count": 11,
   "id": "efdc892f",
   "metadata": {},
   "outputs": [
    {
     "data": {
      "text/html": [
       "<table class=\"dataframe\">\n",
       "<caption>A tibble: 6 × 2</caption>\n",
       "<thead>\n",
       "\t<tr><th scope=col>Protein</th><th scope=col>Coculture_Exposed_Avg_Abundance</th></tr>\n",
       "\t<tr><th scope=col>&lt;chr&gt;</th><th scope=col>&lt;dbl&gt;</th></tr>\n",
       "</thead>\n",
       "<tbody>\n",
       "\t<tr><td>A0A096LP49</td><td>51897126</td></tr>\n",
       "\t<tr><td>A0A2R8Y4Y8</td><td> 1745284</td></tr>\n",
       "\t<tr><td>A1L4H1    </td><td>19473534</td></tr>\n",
       "\t<tr><td>A2I7N0    </td><td>62531054</td></tr>\n",
       "\t<tr><td>A2I7N1    </td><td>12761148</td></tr>\n",
       "\t<tr><td>A2I7N3    </td><td>71043165</td></tr>\n",
       "</tbody>\n",
       "</table>\n"
      ],
      "text/latex": [
       "A tibble: 6 × 2\n",
       "\\begin{tabular}{ll}\n",
       " Protein & Coculture\\_Exposed\\_Avg\\_Abundance\\\\\n",
       " <chr> & <dbl>\\\\\n",
       "\\hline\n",
       "\t A0A096LP49 & 51897126\\\\\n",
       "\t A0A2R8Y4Y8 &  1745284\\\\\n",
       "\t A1L4H1     & 19473534\\\\\n",
       "\t A2I7N0     & 62531054\\\\\n",
       "\t A2I7N1     & 12761148\\\\\n",
       "\t A2I7N3     & 71043165\\\\\n",
       "\\end{tabular}\n"
      ],
      "text/markdown": [
       "\n",
       "A tibble: 6 × 2\n",
       "\n",
       "| Protein &lt;chr&gt; | Coculture_Exposed_Avg_Abundance &lt;dbl&gt; |\n",
       "|---|---|\n",
       "| A0A096LP49 | 51897126 |\n",
       "| A0A2R8Y4Y8 |  1745284 |\n",
       "| A1L4H1     | 19473534 |\n",
       "| A2I7N0     | 62531054 |\n",
       "| A2I7N1     | 12761148 |\n",
       "| A2I7N3     | 71043165 |\n",
       "\n"
      ],
      "text/plain": [
       "  Protein    Coculture_Exposed_Avg_Abundance\n",
       "1 A0A096LP49 51897126                       \n",
       "2 A0A2R8Y4Y8  1745284                       \n",
       "3 A1L4H1     19473534                       \n",
       "4 A2I7N0     62531054                       \n",
       "5 A2I7N1     12761148                       \n",
       "6 A2I7N3     71043165                       "
      ]
     },
     "metadata": {},
     "output_type": "display_data"
    }
   ],
   "source": [
    "#changing the stratified dfs to making combining easier\n",
    "#first splitting dfs\n",
    "split_avg_abundance_stratified = avg_abundance_df_stratified %>%\n",
    "    group_by(Treatment) %>%\n",
    "    group_split()\n",
    "\n",
    "#adding treatment to the title\n",
    "coculture_exposed_avg_abundance = split_avg_abundance_stratified[[1]] %>%\n",
    "    select(-Treatment) %>%\n",
    "    rename(Coculture_Exposed_Avg_Abundance = Avg_Abundance_stratified)\n",
    "coculture_vehicle_avg_abundance = split_avg_abundance_stratified[[2]] %>%\n",
    "    select(-Treatment) %>%\n",
    "    rename(Coculture_Vehicle_Avg_Abundance = Avg_Abundance_stratified)\n",
    "triculture_exposed_avg_abundance = split_avg_abundance_stratified[[1]] %>%\n",
    "    select(-Treatment) %>%\n",
    "    rename(Triculture_Exposed_Avg_Abundance = Avg_Abundance_stratified)\n",
    "triculture_vehicle_avg_abundance = split_avg_abundance_stratified[[2]] %>%\n",
    "    select(-Treatment) %>%\n",
    "    rename(Triculture_Vehicle_Avg_Abundance = Avg_Abundance_stratified)\n",
    "\n",
    "head(coculture_exposed_avg_abundance)"
   ]
  },
  {
   "cell_type": "code",
   "execution_count": 12,
   "id": "54169c00",
   "metadata": {},
   "outputs": [
    {
     "name": "stderr",
     "output_type": "stream",
     "text": [
      "\u001b[1m\u001b[22mJoining, by = \"Protein\"\n",
      "\u001b[1m\u001b[22mJoining, by = \"Protein\"\n",
      "\u001b[1m\u001b[22mJoining, by = \"Protein\"\n",
      "\u001b[1m\u001b[22mJoining, by = \"Protein\"\n"
     ]
    },
    {
     "data": {
      "text/html": [
       "<table class=\"dataframe\">\n",
       "<caption>A tibble: 6 × 6</caption>\n",
       "<thead>\n",
       "\t<tr><th scope=col>Protein</th><th scope=col>Avg_Abundance</th><th scope=col>Coculture_Exposed_Avg_Abundance</th><th scope=col>Coculture_Vehicle_Avg_Abundance</th><th scope=col>Triculture_Exposed_Avg_Abundance</th><th scope=col>Triculture_Vehicle_Avg_Abundance</th></tr>\n",
       "\t<tr><th scope=col>&lt;chr&gt;</th><th scope=col>&lt;dbl&gt;</th><th scope=col>&lt;dbl&gt;</th><th scope=col>&lt;dbl&gt;</th><th scope=col>&lt;dbl&gt;</th><th scope=col>&lt;dbl&gt;</th></tr>\n",
       "</thead>\n",
       "<tbody>\n",
       "\t<tr><td>A1L4H1                    </td><td>120968155</td><td> 19473534</td><td>222462776</td><td> 19473534</td><td>222462776</td></tr>\n",
       "\t<tr><td>A2I7N0                    </td><td> 44219136</td><td> 62531054</td><td> 25907218</td><td> 62531054</td><td> 25907218</td></tr>\n",
       "\t<tr><td>A2I7N1                    </td><td>  8240726</td><td> 12761148</td><td>  3720303</td><td> 12761148</td><td>  3720303</td></tr>\n",
       "\t<tr><td>A2I7N3                    </td><td> 59870079</td><td> 71043165</td><td> 48696993</td><td> 71043165</td><td> 48696993</td></tr>\n",
       "\t<tr><td>B9A064                    </td><td> 72000254</td><td> 54532126</td><td> 89468383</td><td> 54532126</td><td> 89468383</td></tr>\n",
       "\t<tr><td>ENSEMBL.ENSBTAP00000006074</td><td>592952168</td><td>744021707</td><td>441882630</td><td>744021707</td><td>441882630</td></tr>\n",
       "</tbody>\n",
       "</table>\n"
      ],
      "text/latex": [
       "A tibble: 6 × 6\n",
       "\\begin{tabular}{llllll}\n",
       " Protein & Avg\\_Abundance & Coculture\\_Exposed\\_Avg\\_Abundance & Coculture\\_Vehicle\\_Avg\\_Abundance & Triculture\\_Exposed\\_Avg\\_Abundance & Triculture\\_Vehicle\\_Avg\\_Abundance\\\\\n",
       " <chr> & <dbl> & <dbl> & <dbl> & <dbl> & <dbl>\\\\\n",
       "\\hline\n",
       "\t A1L4H1                     & 120968155 &  19473534 & 222462776 &  19473534 & 222462776\\\\\n",
       "\t A2I7N0                     &  44219136 &  62531054 &  25907218 &  62531054 &  25907218\\\\\n",
       "\t A2I7N1                     &   8240726 &  12761148 &   3720303 &  12761148 &   3720303\\\\\n",
       "\t A2I7N3                     &  59870079 &  71043165 &  48696993 &  71043165 &  48696993\\\\\n",
       "\t B9A064                     &  72000254 &  54532126 &  89468383 &  54532126 &  89468383\\\\\n",
       "\t ENSEMBL.ENSBTAP00000006074 & 592952168 & 744021707 & 441882630 & 744021707 & 441882630\\\\\n",
       "\\end{tabular}\n"
      ],
      "text/markdown": [
       "\n",
       "A tibble: 6 × 6\n",
       "\n",
       "| Protein &lt;chr&gt; | Avg_Abundance &lt;dbl&gt; | Coculture_Exposed_Avg_Abundance &lt;dbl&gt; | Coculture_Vehicle_Avg_Abundance &lt;dbl&gt; | Triculture_Exposed_Avg_Abundance &lt;dbl&gt; | Triculture_Vehicle_Avg_Abundance &lt;dbl&gt; |\n",
       "|---|---|---|---|---|---|\n",
       "| A1L4H1                     | 120968155 |  19473534 | 222462776 |  19473534 | 222462776 |\n",
       "| A2I7N0                     |  44219136 |  62531054 |  25907218 |  62531054 |  25907218 |\n",
       "| A2I7N1                     |   8240726 |  12761148 |   3720303 |  12761148 |   3720303 |\n",
       "| A2I7N3                     |  59870079 |  71043165 |  48696993 |  71043165 |  48696993 |\n",
       "| B9A064                     |  72000254 |  54532126 |  89468383 |  54532126 |  89468383 |\n",
       "| ENSEMBL.ENSBTAP00000006074 | 592952168 | 744021707 | 441882630 | 744021707 | 441882630 |\n",
       "\n"
      ],
      "text/plain": [
       "  Protein                    Avg_Abundance Coculture_Exposed_Avg_Abundance\n",
       "1 A1L4H1                     120968155      19473534                      \n",
       "2 A2I7N0                      44219136      62531054                      \n",
       "3 A2I7N1                       8240726      12761148                      \n",
       "4 A2I7N3                      59870079      71043165                      \n",
       "5 B9A064                      72000254      54532126                      \n",
       "6 ENSEMBL.ENSBTAP00000006074 592952168     744021707                      \n",
       "  Coculture_Vehicle_Avg_Abundance Triculture_Exposed_Avg_Abundance\n",
       "1 222462776                        19473534                       \n",
       "2  25907218                        62531054                       \n",
       "3   3720303                        12761148                       \n",
       "4  48696993                        71043165                       \n",
       "5  89468383                        54532126                       \n",
       "6 441882630                       744021707                       \n",
       "  Triculture_Vehicle_Avg_Abundance\n",
       "1 222462776                       \n",
       "2  25907218                       \n",
       "3   3720303                       \n",
       "4  48696993                       \n",
       "5  89468383                       \n",
       "6 441882630                       "
      ]
     },
     "metadata": {},
     "output_type": "display_data"
    }
   ],
   "source": [
    "# combining into 1 abundance df\n",
    "stratified_abundance_df = inner_join(inner_join(coculture_exposed_avg_abundance, coculture_vehicle_avg_abundance), \n",
    "      inner_join(triculture_exposed_avg_abundance, triculture_vehicle_avg_abundance))\n",
    "abundance_df = inner_join(avg_abundance_df, stratified_abundance_df)\n",
    "\n",
    "head(abundance_df)"
   ]
  },
  {
   "cell_type": "code",
   "execution_count": 13,
   "id": "800c1dcf",
   "metadata": {},
   "outputs": [
    {
     "name": "stderr",
     "output_type": "stream",
     "text": [
      "Using Protein as id variables\n",
      "\n"
     ]
    },
    {
     "data": {
      "text/html": [
       "<table class=\"dataframe\">\n",
       "<caption>A data.frame: 6 × 3</caption>\n",
       "<thead>\n",
       "\t<tr><th></th><th scope=col>Protein</th><th scope=col>Variable</th><th scope=col>Value</th></tr>\n",
       "\t<tr><th></th><th scope=col>&lt;chr&gt;</th><th scope=col>&lt;fct&gt;</th><th scope=col>&lt;dbl&gt;</th></tr>\n",
       "</thead>\n",
       "<tbody>\n",
       "\t<tr><th scope=row>1</th><td>A1L4H1                    </td><td>Avg_Abundance</td><td>120968155</td></tr>\n",
       "\t<tr><th scope=row>2</th><td>A2I7N0                    </td><td>Avg_Abundance</td><td> 44219136</td></tr>\n",
       "\t<tr><th scope=row>3</th><td>A2I7N1                    </td><td>Avg_Abundance</td><td>  8240726</td></tr>\n",
       "\t<tr><th scope=row>4</th><td>A2I7N3                    </td><td>Avg_Abundance</td><td> 59870079</td></tr>\n",
       "\t<tr><th scope=row>5</th><td>B9A064                    </td><td>Avg_Abundance</td><td> 72000254</td></tr>\n",
       "\t<tr><th scope=row>6</th><td>ENSEMBL.ENSBTAP00000006074</td><td>Avg_Abundance</td><td>592952168</td></tr>\n",
       "</tbody>\n",
       "</table>\n"
      ],
      "text/latex": [
       "A data.frame: 6 × 3\n",
       "\\begin{tabular}{r|lll}\n",
       "  & Protein & Variable & Value\\\\\n",
       "  & <chr> & <fct> & <dbl>\\\\\n",
       "\\hline\n",
       "\t1 & A1L4H1                     & Avg\\_Abundance & 120968155\\\\\n",
       "\t2 & A2I7N0                     & Avg\\_Abundance &  44219136\\\\\n",
       "\t3 & A2I7N1                     & Avg\\_Abundance &   8240726\\\\\n",
       "\t4 & A2I7N3                     & Avg\\_Abundance &  59870079\\\\\n",
       "\t5 & B9A064                     & Avg\\_Abundance &  72000254\\\\\n",
       "\t6 & ENSEMBL.ENSBTAP00000006074 & Avg\\_Abundance & 592952168\\\\\n",
       "\\end{tabular}\n"
      ],
      "text/markdown": [
       "\n",
       "A data.frame: 6 × 3\n",
       "\n",
       "| <!--/--> | Protein &lt;chr&gt; | Variable &lt;fct&gt; | Value &lt;dbl&gt; |\n",
       "|---|---|---|---|\n",
       "| 1 | A1L4H1                     | Avg_Abundance | 120968155 |\n",
       "| 2 | A2I7N0                     | Avg_Abundance |  44219136 |\n",
       "| 3 | A2I7N1                     | Avg_Abundance |   8240726 |\n",
       "| 4 | A2I7N3                     | Avg_Abundance |  59870079 |\n",
       "| 5 | B9A064                     | Avg_Abundance |  72000254 |\n",
       "| 6 | ENSEMBL.ENSBTAP00000006074 | Avg_Abundance | 592952168 |\n",
       "\n"
      ],
      "text/plain": [
       "  Protein                    Variable      Value    \n",
       "1 A1L4H1                     Avg_Abundance 120968155\n",
       "2 A2I7N0                     Avg_Abundance  44219136\n",
       "3 A2I7N1                     Avg_Abundance   8240726\n",
       "4 A2I7N3                     Avg_Abundance  59870079\n",
       "5 B9A064                     Avg_Abundance  72000254\n",
       "6 ENSEMBL.ENSBTAP00000006074 Avg_Abundance 592952168"
      ]
     },
     "metadata": {},
     "output_type": "display_data"
    }
   ],
   "source": [
    "# melting df so combining with other data frames is easier/ more clear\n",
    "abundance_df = melt(abundance_df, variable.name = \"Variable\", value.name = \"Value\")\n",
    "head(abundance_df)"
   ]
  },
  {
   "cell_type": "code",
   "execution_count": 14,
   "id": "f5a987b5",
   "metadata": {},
   "outputs": [
    {
     "name": "stderr",
     "output_type": "stream",
     "text": [
      "\u001b[1m\u001b[22mJoining, by = \"Protein\"\n"
     ]
    },
    {
     "data": {
      "text/html": [
       "<table class=\"dataframe\">\n",
       "<caption>A tibble: 6 × 7</caption>\n",
       "<thead>\n",
       "\t<tr><th scope=col>Protein</th><th scope=col>Variable</th><th scope=col>Value</th><th scope=col>Gene.name</th><th scope=col>Description</th><th scope=col>GOCC.name</th><th scope=col>Contaminant</th></tr>\n",
       "\t<tr><th scope=col>&lt;chr&gt;</th><th scope=col>&lt;chr&gt;</th><th scope=col>&lt;dbl&gt;</th><th scope=col>&lt;chr&gt;</th><th scope=col>&lt;chr&gt;</th><th scope=col>&lt;chr&gt;</th><th scope=col>&lt;chr&gt;</th></tr>\n",
       "</thead>\n",
       "<tbody>\n",
       "\t<tr><td>P19012</td><td>CoCulture_log2FC   </td><td> 0.3539417</td><td>KRT15                                                   </td><td>Keratin, type I cytoskeletal 15 OS=Homo sapiens OX=9606 GN=KRT15 PE=1 SV=3</td><td>cell part;cytoskeletal part;extracellular membrane-bounded organelle;extracellular organelle;extracellular region part;extracellular vesicular exosome;intermediate filament;intracellular membrane-bounded organelle;intracellular organelle;intracellular organelle part;intracellular part;macromolecular complex;membrane-bounded organelle;membrane-bounded vesicle;nucleus;organelle;organelle part;protein complex;vesicle</td><td>-</td></tr>\n",
       "\t<tr><td>P19012</td><td>CoCulture_Statistic</td><td> 0.6033149</td><td>KRT15                                                   </td><td>Keratin, type I cytoskeletal 15 OS=Homo sapiens OX=9606 GN=KRT15 PE=1 SV=3</td><td>cell part;cytoskeletal part;extracellular membrane-bounded organelle;extracellular organelle;extracellular region part;extracellular vesicular exosome;intermediate filament;intracellular membrane-bounded organelle;intracellular organelle;intracellular organelle part;intracellular part;macromolecular complex;membrane-bounded organelle;membrane-bounded vesicle;nucleus;organelle;organelle part;protein complex;vesicle</td><td>-</td></tr>\n",
       "\t<tr><td>P19012</td><td>CoCulture_P Value  </td><td> 0.5672249</td><td>KRT15                                                   </td><td>Keratin, type I cytoskeletal 15 OS=Homo sapiens OX=9606 GN=KRT15 PE=1 SV=3</td><td>cell part;cytoskeletal part;extracellular membrane-bounded organelle;extracellular organelle;extracellular region part;extracellular vesicular exosome;intermediate filament;intracellular membrane-bounded organelle;intracellular organelle;intracellular organelle part;intracellular part;macromolecular complex;membrane-bounded organelle;membrane-bounded vesicle;nucleus;organelle;organelle part;protein complex;vesicle</td><td>-</td></tr>\n",
       "\t<tr><td>P19012</td><td>CoCulture_P Adj    </td><td> 0.8207093</td><td>KRT15                                                   </td><td>Keratin, type I cytoskeletal 15 OS=Homo sapiens OX=9606 GN=KRT15 PE=1 SV=3</td><td>cell part;cytoskeletal part;extracellular membrane-bounded organelle;extracellular organelle;extracellular region part;extracellular vesicular exosome;intermediate filament;intracellular membrane-bounded organelle;intracellular organelle;intracellular organelle part;intracellular part;macromolecular complex;membrane-bounded organelle;membrane-bounded vesicle;nucleus;organelle;organelle part;protein complex;vesicle</td><td>-</td></tr>\n",
       "\t<tr><td>P19013</td><td>CoCulture_log2FC   </td><td>-0.1250127</td><td>SWISS-PROT:P19013 Tax_Id=9606 Gene_Symbol=KRT4 keratin 4</td><td>SWISS-PROT:P19013 Tax_Id=9606 Gene_Symbol=KRT4 keratin 4                  </td><td>cell part;cell surface;cytoskeletal part;cytoskeleton;intermediate filament;intermediate filament cytoskeleton;intracellular membrane-bounded organelle;intracellular non-membrane-bounded organelle;intracellular organelle;intracellular organelle part;intracellular part;keratin filament;macromolecular complex;membrane-bounded organelle;non-membrane-bounded organelle;nucleus;organelle;organelle part;protein complex  </td><td>+</td></tr>\n",
       "\t<tr><td>P19013</td><td>CoCulture_Statistic</td><td>-0.1394369</td><td>SWISS-PROT:P19013 Tax_Id=9606 Gene_Symbol=KRT4 keratin 4</td><td>SWISS-PROT:P19013 Tax_Id=9606 Gene_Symbol=KRT4 keratin 4                  </td><td>cell part;cell surface;cytoskeletal part;cytoskeleton;intermediate filament;intermediate filament cytoskeleton;intracellular membrane-bounded organelle;intracellular non-membrane-bounded organelle;intracellular organelle;intracellular organelle part;intracellular part;keratin filament;macromolecular complex;membrane-bounded organelle;non-membrane-bounded organelle;nucleus;organelle;organelle part;protein complex  </td><td>+</td></tr>\n",
       "</tbody>\n",
       "</table>\n"
      ],
      "text/latex": [
       "A tibble: 6 × 7\n",
       "\\begin{tabular}{lllllll}\n",
       " Protein & Variable & Value & Gene.name & Description & GOCC.name & Contaminant\\\\\n",
       " <chr> & <chr> & <dbl> & <chr> & <chr> & <chr> & <chr>\\\\\n",
       "\\hline\n",
       "\t P19012 & CoCulture\\_log2FC    &  0.3539417 & KRT15                                                    & Keratin, type I cytoskeletal 15 OS=Homo sapiens OX=9606 GN=KRT15 PE=1 SV=3 & cell part;cytoskeletal part;extracellular membrane-bounded organelle;extracellular organelle;extracellular region part;extracellular vesicular exosome;intermediate filament;intracellular membrane-bounded organelle;intracellular organelle;intracellular organelle part;intracellular part;macromolecular complex;membrane-bounded organelle;membrane-bounded vesicle;nucleus;organelle;organelle part;protein complex;vesicle & -\\\\\n",
       "\t P19012 & CoCulture\\_Statistic &  0.6033149 & KRT15                                                    & Keratin, type I cytoskeletal 15 OS=Homo sapiens OX=9606 GN=KRT15 PE=1 SV=3 & cell part;cytoskeletal part;extracellular membrane-bounded organelle;extracellular organelle;extracellular region part;extracellular vesicular exosome;intermediate filament;intracellular membrane-bounded organelle;intracellular organelle;intracellular organelle part;intracellular part;macromolecular complex;membrane-bounded organelle;membrane-bounded vesicle;nucleus;organelle;organelle part;protein complex;vesicle & -\\\\\n",
       "\t P19012 & CoCulture\\_P Value   &  0.5672249 & KRT15                                                    & Keratin, type I cytoskeletal 15 OS=Homo sapiens OX=9606 GN=KRT15 PE=1 SV=3 & cell part;cytoskeletal part;extracellular membrane-bounded organelle;extracellular organelle;extracellular region part;extracellular vesicular exosome;intermediate filament;intracellular membrane-bounded organelle;intracellular organelle;intracellular organelle part;intracellular part;macromolecular complex;membrane-bounded organelle;membrane-bounded vesicle;nucleus;organelle;organelle part;protein complex;vesicle & -\\\\\n",
       "\t P19012 & CoCulture\\_P Adj     &  0.8207093 & KRT15                                                    & Keratin, type I cytoskeletal 15 OS=Homo sapiens OX=9606 GN=KRT15 PE=1 SV=3 & cell part;cytoskeletal part;extracellular membrane-bounded organelle;extracellular organelle;extracellular region part;extracellular vesicular exosome;intermediate filament;intracellular membrane-bounded organelle;intracellular organelle;intracellular organelle part;intracellular part;macromolecular complex;membrane-bounded organelle;membrane-bounded vesicle;nucleus;organelle;organelle part;protein complex;vesicle & -\\\\\n",
       "\t P19013 & CoCulture\\_log2FC    & -0.1250127 & SWISS-PROT:P19013 Tax\\_Id=9606 Gene\\_Symbol=KRT4 keratin 4 & SWISS-PROT:P19013 Tax\\_Id=9606 Gene\\_Symbol=KRT4 keratin 4                   & cell part;cell surface;cytoskeletal part;cytoskeleton;intermediate filament;intermediate filament cytoskeleton;intracellular membrane-bounded organelle;intracellular non-membrane-bounded organelle;intracellular organelle;intracellular organelle part;intracellular part;keratin filament;macromolecular complex;membrane-bounded organelle;non-membrane-bounded organelle;nucleus;organelle;organelle part;protein complex   & +\\\\\n",
       "\t P19013 & CoCulture\\_Statistic & -0.1394369 & SWISS-PROT:P19013 Tax\\_Id=9606 Gene\\_Symbol=KRT4 keratin 4 & SWISS-PROT:P19013 Tax\\_Id=9606 Gene\\_Symbol=KRT4 keratin 4                   & cell part;cell surface;cytoskeletal part;cytoskeleton;intermediate filament;intermediate filament cytoskeleton;intracellular membrane-bounded organelle;intracellular non-membrane-bounded organelle;intracellular organelle;intracellular organelle part;intracellular part;keratin filament;macromolecular complex;membrane-bounded organelle;non-membrane-bounded organelle;nucleus;organelle;organelle part;protein complex   & +\\\\\n",
       "\\end{tabular}\n"
      ],
      "text/markdown": [
       "\n",
       "A tibble: 6 × 7\n",
       "\n",
       "| Protein &lt;chr&gt; | Variable &lt;chr&gt; | Value &lt;dbl&gt; | Gene.name &lt;chr&gt; | Description &lt;chr&gt; | GOCC.name &lt;chr&gt; | Contaminant &lt;chr&gt; |\n",
       "|---|---|---|---|---|---|---|\n",
       "| P19012 | CoCulture_log2FC    |  0.3539417 | KRT15                                                    | Keratin, type I cytoskeletal 15 OS=Homo sapiens OX=9606 GN=KRT15 PE=1 SV=3 | cell part;cytoskeletal part;extracellular membrane-bounded organelle;extracellular organelle;extracellular region part;extracellular vesicular exosome;intermediate filament;intracellular membrane-bounded organelle;intracellular organelle;intracellular organelle part;intracellular part;macromolecular complex;membrane-bounded organelle;membrane-bounded vesicle;nucleus;organelle;organelle part;protein complex;vesicle | - |\n",
       "| P19012 | CoCulture_Statistic |  0.6033149 | KRT15                                                    | Keratin, type I cytoskeletal 15 OS=Homo sapiens OX=9606 GN=KRT15 PE=1 SV=3 | cell part;cytoskeletal part;extracellular membrane-bounded organelle;extracellular organelle;extracellular region part;extracellular vesicular exosome;intermediate filament;intracellular membrane-bounded organelle;intracellular organelle;intracellular organelle part;intracellular part;macromolecular complex;membrane-bounded organelle;membrane-bounded vesicle;nucleus;organelle;organelle part;protein complex;vesicle | - |\n",
       "| P19012 | CoCulture_P Value   |  0.5672249 | KRT15                                                    | Keratin, type I cytoskeletal 15 OS=Homo sapiens OX=9606 GN=KRT15 PE=1 SV=3 | cell part;cytoskeletal part;extracellular membrane-bounded organelle;extracellular organelle;extracellular region part;extracellular vesicular exosome;intermediate filament;intracellular membrane-bounded organelle;intracellular organelle;intracellular organelle part;intracellular part;macromolecular complex;membrane-bounded organelle;membrane-bounded vesicle;nucleus;organelle;organelle part;protein complex;vesicle | - |\n",
       "| P19012 | CoCulture_P Adj     |  0.8207093 | KRT15                                                    | Keratin, type I cytoskeletal 15 OS=Homo sapiens OX=9606 GN=KRT15 PE=1 SV=3 | cell part;cytoskeletal part;extracellular membrane-bounded organelle;extracellular organelle;extracellular region part;extracellular vesicular exosome;intermediate filament;intracellular membrane-bounded organelle;intracellular organelle;intracellular organelle part;intracellular part;macromolecular complex;membrane-bounded organelle;membrane-bounded vesicle;nucleus;organelle;organelle part;protein complex;vesicle | - |\n",
       "| P19013 | CoCulture_log2FC    | -0.1250127 | SWISS-PROT:P19013 Tax_Id=9606 Gene_Symbol=KRT4 keratin 4 | SWISS-PROT:P19013 Tax_Id=9606 Gene_Symbol=KRT4 keratin 4                   | cell part;cell surface;cytoskeletal part;cytoskeleton;intermediate filament;intermediate filament cytoskeleton;intracellular membrane-bounded organelle;intracellular non-membrane-bounded organelle;intracellular organelle;intracellular organelle part;intracellular part;keratin filament;macromolecular complex;membrane-bounded organelle;non-membrane-bounded organelle;nucleus;organelle;organelle part;protein complex   | + |\n",
       "| P19013 | CoCulture_Statistic | -0.1394369 | SWISS-PROT:P19013 Tax_Id=9606 Gene_Symbol=KRT4 keratin 4 | SWISS-PROT:P19013 Tax_Id=9606 Gene_Symbol=KRT4 keratin 4                   | cell part;cell surface;cytoskeletal part;cytoskeleton;intermediate filament;intermediate filament cytoskeleton;intracellular membrane-bounded organelle;intracellular non-membrane-bounded organelle;intracellular organelle;intracellular organelle part;intracellular part;keratin filament;macromolecular complex;membrane-bounded organelle;non-membrane-bounded organelle;nucleus;organelle;organelle part;protein complex   | + |\n",
       "\n"
      ],
      "text/plain": [
       "  Protein Variable            Value     \n",
       "1 P19012  CoCulture_log2FC     0.3539417\n",
       "2 P19012  CoCulture_Statistic  0.6033149\n",
       "3 P19012  CoCulture_P Value    0.5672249\n",
       "4 P19012  CoCulture_P Adj      0.8207093\n",
       "5 P19013  CoCulture_log2FC    -0.1250127\n",
       "6 P19013  CoCulture_Statistic -0.1394369\n",
       "  Gene.name                                               \n",
       "1 KRT15                                                   \n",
       "2 KRT15                                                   \n",
       "3 KRT15                                                   \n",
       "4 KRT15                                                   \n",
       "5 SWISS-PROT:P19013 Tax_Id=9606 Gene_Symbol=KRT4 keratin 4\n",
       "6 SWISS-PROT:P19013 Tax_Id=9606 Gene_Symbol=KRT4 keratin 4\n",
       "  Description                                                               \n",
       "1 Keratin, type I cytoskeletal 15 OS=Homo sapiens OX=9606 GN=KRT15 PE=1 SV=3\n",
       "2 Keratin, type I cytoskeletal 15 OS=Homo sapiens OX=9606 GN=KRT15 PE=1 SV=3\n",
       "3 Keratin, type I cytoskeletal 15 OS=Homo sapiens OX=9606 GN=KRT15 PE=1 SV=3\n",
       "4 Keratin, type I cytoskeletal 15 OS=Homo sapiens OX=9606 GN=KRT15 PE=1 SV=3\n",
       "5 SWISS-PROT:P19013 Tax_Id=9606 Gene_Symbol=KRT4 keratin 4                  \n",
       "6 SWISS-PROT:P19013 Tax_Id=9606 Gene_Symbol=KRT4 keratin 4                  \n",
       "  GOCC.name                                                                                                                                                                                                                                                                                                                                                                                                                        \n",
       "1 cell part;cytoskeletal part;extracellular membrane-bounded organelle;extracellular organelle;extracellular region part;extracellular vesicular exosome;intermediate filament;intracellular membrane-bounded organelle;intracellular organelle;intracellular organelle part;intracellular part;macromolecular complex;membrane-bounded organelle;membrane-bounded vesicle;nucleus;organelle;organelle part;protein complex;vesicle\n",
       "2 cell part;cytoskeletal part;extracellular membrane-bounded organelle;extracellular organelle;extracellular region part;extracellular vesicular exosome;intermediate filament;intracellular membrane-bounded organelle;intracellular organelle;intracellular organelle part;intracellular part;macromolecular complex;membrane-bounded organelle;membrane-bounded vesicle;nucleus;organelle;organelle part;protein complex;vesicle\n",
       "3 cell part;cytoskeletal part;extracellular membrane-bounded organelle;extracellular organelle;extracellular region part;extracellular vesicular exosome;intermediate filament;intracellular membrane-bounded organelle;intracellular organelle;intracellular organelle part;intracellular part;macromolecular complex;membrane-bounded organelle;membrane-bounded vesicle;nucleus;organelle;organelle part;protein complex;vesicle\n",
       "4 cell part;cytoskeletal part;extracellular membrane-bounded organelle;extracellular organelle;extracellular region part;extracellular vesicular exosome;intermediate filament;intracellular membrane-bounded organelle;intracellular organelle;intracellular organelle part;intracellular part;macromolecular complex;membrane-bounded organelle;membrane-bounded vesicle;nucleus;organelle;organelle part;protein complex;vesicle\n",
       "5 cell part;cell surface;cytoskeletal part;cytoskeleton;intermediate filament;intermediate filament cytoskeleton;intracellular membrane-bounded organelle;intracellular non-membrane-bounded organelle;intracellular organelle;intracellular organelle part;intracellular part;keratin filament;macromolecular complex;membrane-bounded organelle;non-membrane-bounded organelle;nucleus;organelle;organelle part;protein complex  \n",
       "6 cell part;cell surface;cytoskeletal part;cytoskeleton;intermediate filament;intermediate filament cytoskeleton;intracellular membrane-bounded organelle;intracellular non-membrane-bounded organelle;intracellular organelle;intracellular organelle part;intracellular part;keratin filament;macromolecular complex;membrane-bounded organelle;non-membrane-bounded organelle;nucleus;organelle;organelle part;protein complex  \n",
       "  Contaminant\n",
       "1 -          \n",
       "2 -          \n",
       "3 -          \n",
       "4 -          \n",
       "5 +          \n",
       "6 +          "
      ]
     },
     "metadata": {},
     "output_type": "display_data"
    }
   ],
   "source": [
    "# combining into 1 df\n",
    "final_df = rbind(t_test_df, abundance_df)\n",
    "final_df = full_join(final_df, protein_info_df)\n",
    "head(final_df)"
   ]
  },
  {
   "cell_type": "code",
   "execution_count": 15,
   "id": "eeb1e543",
   "metadata": {},
   "outputs": [],
   "source": [
    "# exporting\n",
    "write.csv(final_df, paste0(Output,\"/\", cur_date, \"_Distribution_Analysis_All_Data.csv\"), row.names = FALSE)"
   ]
  },
  {
   "cell_type": "code",
   "execution_count": null,
   "id": "5e6afcb4",
   "metadata": {},
   "outputs": [],
   "source": []
  }
 ],
 "metadata": {
  "kernelspec": {
   "display_name": "R",
   "language": "R",
   "name": "ir"
  },
  "language_info": {
   "codemirror_mode": "r",
   "file_extension": ".r",
   "mimetype": "text/x-r-source",
   "name": "R",
   "pygments_lexer": "r",
   "version": "4.1.2"
  }
 },
 "nbformat": 4,
 "nbformat_minor": 5
}
