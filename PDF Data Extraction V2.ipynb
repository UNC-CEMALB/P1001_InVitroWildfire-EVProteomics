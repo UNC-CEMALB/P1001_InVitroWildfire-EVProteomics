{
 "cells": [
  {
   "cell_type": "code",
   "execution_count": 1,
   "id": "complex-congo",
   "metadata": {},
   "outputs": [
    {
     "name": "stderr",
     "output_type": "stream",
     "text": [
      "── \u001b[1mAttaching packages\u001b[22m ─────────────────────────────────────── tidyverse 1.3.0 ──\n",
      "\n",
      "\u001b[32m✔\u001b[39m \u001b[34mggplot2\u001b[39m 3.3.3     \u001b[32m✔\u001b[39m \u001b[34mpurrr  \u001b[39m 0.3.4\n",
      "\u001b[32m✔\u001b[39m \u001b[34mtibble \u001b[39m 3.0.6     \u001b[32m✔\u001b[39m \u001b[34mdplyr  \u001b[39m 1.0.4\n",
      "\u001b[32m✔\u001b[39m \u001b[34mtidyr  \u001b[39m 1.1.2     \u001b[32m✔\u001b[39m \u001b[34mstringr\u001b[39m 1.4.0\n",
      "\u001b[32m✔\u001b[39m \u001b[34mreadr  \u001b[39m 1.4.0     \u001b[32m✔\u001b[39m \u001b[34mforcats\u001b[39m 0.5.1\n",
      "\n",
      "── \u001b[1mConflicts\u001b[22m ────────────────────────────────────────── tidyverse_conflicts() ──\n",
      "\u001b[31m✖\u001b[39m \u001b[34mdplyr\u001b[39m::\u001b[32mfilter()\u001b[39m masks \u001b[34mstats\u001b[39m::filter()\n",
      "\u001b[31m✖\u001b[39m \u001b[34mdplyr\u001b[39m::\u001b[32mlag()\u001b[39m    masks \u001b[34mstats\u001b[39m::lag()\n",
      "\n",
      "Using poppler version 20.12.1\n",
      "\n",
      "Loading required package: NLP\n",
      "\n",
      "\n",
      "Attaching package: ‘NLP’\n",
      "\n",
      "\n",
      "The following object is masked from ‘package:ggplot2’:\n",
      "\n",
      "    annotate\n",
      "\n",
      "\n"
     ]
    },
    {
     "data": {
      "text/html": [
       "<style>\n",
       ".list-inline {list-style: none; margin:0; padding: 0}\n",
       ".list-inline>li {display: inline-block}\n",
       ".list-inline>li:not(:last-child)::after {content: \"\\00b7\"; padding: 0 .5ex}\n",
       "</style>\n",
       "<ol class=list-inline><li>'20220201_0001_sample1_prof.pdf'</li><li>'20220201_0003_sample7_prof.pdf'</li><li>'20220201_0005_sample13_prof.pdf'</li><li>'20220201_0007_sample19_prof.pdf'</li><li>'20220201_0009_sample2_prof.pdf'</li><li>'20220201_0011_sample8_prof.pdf'</li></ol>\n"
      ],
      "text/latex": [
       "\\begin{enumerate*}\n",
       "\\item '20220201\\_0001\\_sample1\\_prof.pdf'\n",
       "\\item '20220201\\_0003\\_sample7\\_prof.pdf'\n",
       "\\item '20220201\\_0005\\_sample13\\_prof.pdf'\n",
       "\\item '20220201\\_0007\\_sample19\\_prof.pdf'\n",
       "\\item '20220201\\_0009\\_sample2\\_prof.pdf'\n",
       "\\item '20220201\\_0011\\_sample8\\_prof.pdf'\n",
       "\\end{enumerate*}\n"
      ],
      "text/markdown": [
       "1. '20220201_0001_sample1_prof.pdf'\n",
       "2. '20220201_0003_sample7_prof.pdf'\n",
       "3. '20220201_0005_sample13_prof.pdf'\n",
       "4. '20220201_0007_sample19_prof.pdf'\n",
       "5. '20220201_0009_sample2_prof.pdf'\n",
       "6. '20220201_0011_sample8_prof.pdf'\n",
       "\n",
       "\n"
      ],
      "text/plain": [
       "[1] \"20220201_0001_sample1_prof.pdf\"  \"20220201_0003_sample7_prof.pdf\" \n",
       "[3] \"20220201_0005_sample13_prof.pdf\" \"20220201_0007_sample19_prof.pdf\"\n",
       "[5] \"20220201_0009_sample2_prof.pdf\"  \"20220201_0011_sample8_prof.pdf\" "
      ]
     },
     "metadata": {},
     "output_type": "display_data"
    }
   ],
   "source": [
    "setwd('/Users/alexis/University of North Carolina at Chapel Hill/Rager, Julia - CEMALB_DataAnalysisPM/Projects/P1001. InVitroWildfire EVProteomics/P1001.3. Analyses/P1001.3.2. PDF Data Extraction V2/Input/Charge_data')\n",
    "Output = ('/Users/alexis/University of North Carolina at Chapel Hill/Rager, Julia - CEMALB_DataAnalysisPM/Projects/P1001. InVitroWildfire EVProteomics/P1001.3. Analyses/P1001.3.2. PDF Data Extraction V2/Output')\n",
    "cur_date = \"021522\"\n",
    "\n",
    "library(tidyverse)\n",
    "library(pdftools)\n",
    "library(tm)\n",
    "\n",
    "#only grabs files ending in \"pdf\"\n",
    "pdf_list = list.files(pattern = \"pdf$\")\n",
    "head(pdf_list)"
   ]
  },
  {
   "cell_type": "markdown",
   "id": "attractive-yugoslavia",
   "metadata": {},
   "source": [
    "# Data we want to extract:\n",
    "\n",
    "1. Pdf file name as the sample identifier\n",
    "2. Count (Original Concentration)\n",
    "3. Size: X10 Concentration, X50 Concentration, X90 Concentration\n",
    "4. Charge (zeta potential)"
   ]
  },
  {
   "cell_type": "code",
   "execution_count": 2,
   "id": "unnecessary-president",
   "metadata": {},
   "outputs": [
    {
     "name": "stderr",
     "output_type": "stream",
     "text": [
      "PDF error: Invalid least number of objects reading page offset hints table\n",
      "\n",
      "PDF error: Invalid least number of objects reading page offset hints table\n",
      "\n",
      "PDF error: Invalid least number of objects reading page offset hints table\n",
      "\n",
      "PDF error: Invalid least number of objects reading page offset hints table\n",
      "\n",
      "PDF error: Invalid least number of objects reading page offset hints table\n",
      "\n",
      "PDF error: Invalid least number of objects reading page offset hints table\n",
      "\n",
      "PDF error: Invalid least number of objects reading page offset hints table\n",
      "\n",
      "PDF error: Invalid least number of objects reading page offset hints table\n",
      "\n",
      "PDF error: Invalid least number of objects reading page offset hints table\n",
      "\n",
      "PDF error: Invalid least number of objects reading page offset hints table\n",
      "\n",
      "PDF error: Invalid least number of objects reading page offset hints table\n",
      "\n",
      "PDF error: Invalid least number of objects reading page offset hints table\n",
      "\n",
      "PDF error: Invalid least number of objects reading page offset hints table\n",
      "\n",
      "PDF error: Invalid least number of objects reading page offset hints table\n",
      "\n",
      "PDF error: Invalid least number of objects reading page offset hints table\n",
      "\n",
      "PDF error: Invalid least number of objects reading page offset hints table\n",
      "\n",
      "PDF error: Invalid least number of objects reading page offset hints table\n",
      "\n",
      "PDF error: Invalid least number of objects reading page offset hints table\n",
      "\n",
      "PDF error: Invalid least number of objects reading page offset hints table\n",
      "\n",
      "PDF error: Invalid least number of objects reading page offset hints table\n",
      "\n",
      "PDF error: Invalid least number of objects reading page offset hints table\n",
      "\n",
      "PDF error: Invalid least number of objects reading page offset hints table\n",
      "\n",
      "PDF error: Invalid least number of objects reading page offset hints table\n",
      "\n",
      "PDF error: Invalid least number of objects reading page offset hints table\n",
      "\n",
      "PDF error: Invalid least number of objects reading page offset hints table\n",
      "\n"
     ]
    }
   ],
   "source": [
    "corpus_raw1 <- data.frame(\"Sample Identifier\" = c(),\"Text\" = c())\n",
    "\n",
    "for (i in 1:length(pdf_list)){\n",
    "    document_text = pdf_text(paste(pdf_list[i],sep = \"\")) %>% \n",
    "    strsplit(\"\\n\")\n",
    "    \n",
    "        document = data.frame(\"Sample Identifier\" = gsub(x =pdf_list[i],pattern = \".pdf\", replacement = \"\"), \n",
    "        \"Text\" = document_text, stringsAsFactors = FALSE)\n",
    "    \n",
    "    colnames(document) <- c(\"Sample Identifier\", \"Text\")\n",
    "    corpus_raw1 <- rbind(corpus_raw1,document) \n",
    "}\n",
    "\n",
    "#still haven't figured out why there are duplicates\n",
    "corpus_raw1 = unique(corpus_raw1)"
   ]
  },
  {
   "cell_type": "code",
   "execution_count": 3,
   "id": "binary-sleeve",
   "metadata": {},
   "outputs": [
    {
     "data": {
      "text/html": [
       "<table class=\"dataframe\">\n",
       "<caption>A data.frame: 6 × 2</caption>\n",
       "<thead>\n",
       "\t<tr><th></th><th scope=col>Sample Identifier</th><th scope=col>Text</th></tr>\n",
       "\t<tr><th></th><th scope=col>&lt;chr&gt;</th><th scope=col>&lt;chr&gt;</th></tr>\n",
       "</thead>\n",
       "<tbody>\n",
       "\t<tr><th scope=row>1</th><td>20220201_0001_sample1_prof</td><td><span style=white-space:pre-wrap>                                                                                                        Electrophoresis &amp; Brownian Motion</span></td></tr>\n",
       "\t<tr><th scope=row>2</th><td>20220201_0001_sample1_prof</td><td>                                                                                                                  Video Analysis         </td></tr>\n",
       "\t<tr><th scope=row>3</th><td>20220201_0001_sample1_prof</td><td>                                                                                                           Laser Scattering Microscopy   </td></tr>\n",
       "\t<tr><th scope=row>4</th><td>20220201_0001_sample1_prof</td><td>                                            www.particle-metrix.de                                                                       </td></tr>\n",
       "\t<tr><th scope=row>5</th><td>20220201_0001_sample1_prof</td><td>                                                                                                                                         </td></tr>\n",
       "\t<tr><th scope=row>6</th><td>20220201_0001_sample1_prof</td><td>                                                                                          Operator (Report): sop_kabanovlab.inst         </td></tr>\n",
       "</tbody>\n",
       "</table>\n"
      ],
      "text/latex": [
       "A data.frame: 6 × 2\n",
       "\\begin{tabular}{r|ll}\n",
       "  & Sample Identifier & Text\\\\\n",
       "  & <chr> & <chr>\\\\\n",
       "\\hline\n",
       "\t1 & 20220201\\_0001\\_sample1\\_prof &                                                                                                         Electrophoresis \\& Brownian Motion\\\\\n",
       "\t2 & 20220201\\_0001\\_sample1\\_prof &                                                                                                                   Video Analysis         \\\\\n",
       "\t3 & 20220201\\_0001\\_sample1\\_prof &                                                                                                            Laser Scattering Microscopy   \\\\\n",
       "\t4 & 20220201\\_0001\\_sample1\\_prof &                                             www.particle-metrix.de                                                                       \\\\\n",
       "\t5 & 20220201\\_0001\\_sample1\\_prof &                                                                                                                                          \\\\\n",
       "\t6 & 20220201\\_0001\\_sample1\\_prof &                                                                                           Operator (Report): sop\\_kabanovlab.inst         \\\\\n",
       "\\end{tabular}\n"
      ],
      "text/markdown": [
       "\n",
       "A data.frame: 6 × 2\n",
       "\n",
       "| <!--/--> | Sample Identifier &lt;chr&gt; | Text &lt;chr&gt; |\n",
       "|---|---|---|\n",
       "| 1 | 20220201_0001_sample1_prof |                                                                                                         Electrophoresis &amp; Brownian Motion |\n",
       "| 2 | 20220201_0001_sample1_prof |                                                                                                                   Video Analysis          |\n",
       "| 3 | 20220201_0001_sample1_prof |                                                                                                            Laser Scattering Microscopy    |\n",
       "| 4 | 20220201_0001_sample1_prof |                                             www.particle-metrix.de                                                                        |\n",
       "| 5 | 20220201_0001_sample1_prof | <!----> |\n",
       "| 6 | 20220201_0001_sample1_prof |                                                                                           Operator (Report): sop_kabanovlab.inst          |\n",
       "\n"
      ],
      "text/plain": [
       "  Sample Identifier         \n",
       "1 20220201_0001_sample1_prof\n",
       "2 20220201_0001_sample1_prof\n",
       "3 20220201_0001_sample1_prof\n",
       "4 20220201_0001_sample1_prof\n",
       "5 20220201_0001_sample1_prof\n",
       "6 20220201_0001_sample1_prof\n",
       "  Text                                                                                                                                     \n",
       "1                                                                                                         Electrophoresis & Brownian Motion\n",
       "2                                                                                                                   Video Analysis         \n",
       "3                                                                                                            Laser Scattering Microscopy   \n",
       "4                                             www.particle-metrix.de                                                                       \n",
       "5                                                                                                                                          \n",
       "6                                                                                           Operator (Report): sop_kabanovlab.inst         "
      ]
     },
     "metadata": {},
     "output_type": "display_data"
    }
   ],
   "source": [
    "head(corpus_raw1)"
   ]
  },
  {
   "cell_type": "code",
   "execution_count": 4,
   "id": "conservative-design",
   "metadata": {},
   "outputs": [
    {
     "name": "stderr",
     "output_type": "stream",
     "text": [
      "Warning message:\n",
      "“Expected 2 pieces. Additional pieces discarded in 25 rows [1, 2, 3, 4, 5, 6, 7, 8, 9, 10, 11, 12, 13, 14, 15, 16, 17, 18, 19, 20, ...].”\n"
     ]
    },
    {
     "data": {
      "text/html": [
       "<table class=\"dataframe\">\n",
       "<caption>A data.frame: 6 × 2</caption>\n",
       "<thead>\n",
       "\t<tr><th></th><th scope=col>Sample Identifier</th><th scope=col>Charge (mV)</th></tr>\n",
       "\t<tr><th></th><th scope=col>&lt;chr&gt;</th><th scope=col>&lt;chr&gt;</th></tr>\n",
       "</thead>\n",
       "<tbody>\n",
       "\t<tr><th scope=row>1</th><td>20220201_0001_sample1_prof </td><td>-8.18 </td></tr>\n",
       "\t<tr><th scope=row>2</th><td>20220201_0003_sample7_prof </td><td>-6.79 </td></tr>\n",
       "\t<tr><th scope=row>3</th><td>20220201_0005_sample13_prof</td><td>-21.10</td></tr>\n",
       "\t<tr><th scope=row>4</th><td>20220201_0007_sample19_prof</td><td>-23.46</td></tr>\n",
       "\t<tr><th scope=row>5</th><td>20220201_0009_sample2_prof </td><td>-19.40</td></tr>\n",
       "\t<tr><th scope=row>6</th><td>20220201_0011_sample8_prof </td><td>-23.04</td></tr>\n",
       "</tbody>\n",
       "</table>\n"
      ],
      "text/latex": [
       "A data.frame: 6 × 2\n",
       "\\begin{tabular}{r|ll}\n",
       "  & Sample Identifier & Charge (mV)\\\\\n",
       "  & <chr> & <chr>\\\\\n",
       "\\hline\n",
       "\t1 & 20220201\\_0001\\_sample1\\_prof  & -8.18 \\\\\n",
       "\t2 & 20220201\\_0003\\_sample7\\_prof  & -6.79 \\\\\n",
       "\t3 & 20220201\\_0005\\_sample13\\_prof & -21.10\\\\\n",
       "\t4 & 20220201\\_0007\\_sample19\\_prof & -23.46\\\\\n",
       "\t5 & 20220201\\_0009\\_sample2\\_prof  & -19.40\\\\\n",
       "\t6 & 20220201\\_0011\\_sample8\\_prof  & -23.04\\\\\n",
       "\\end{tabular}\n"
      ],
      "text/markdown": [
       "\n",
       "A data.frame: 6 × 2\n",
       "\n",
       "| <!--/--> | Sample Identifier &lt;chr&gt; | Charge (mV) &lt;chr&gt; |\n",
       "|---|---|---|\n",
       "| 1 | 20220201_0001_sample1_prof  | -8.18  |\n",
       "| 2 | 20220201_0003_sample7_prof  | -6.79  |\n",
       "| 3 | 20220201_0005_sample13_prof | -21.10 |\n",
       "| 4 | 20220201_0007_sample19_prof | -23.46 |\n",
       "| 5 | 20220201_0009_sample2_prof  | -19.40 |\n",
       "| 6 | 20220201_0011_sample8_prof  | -23.04 |\n",
       "\n"
      ],
      "text/plain": [
       "  Sample Identifier           Charge (mV)\n",
       "1 20220201_0001_sample1_prof  -8.18      \n",
       "2 20220201_0003_sample7_prof  -6.79      \n",
       "3 20220201_0005_sample13_prof -21.10     \n",
       "4 20220201_0007_sample19_prof -23.46     \n",
       "5 20220201_0009_sample2_prof  -19.40     \n",
       "6 20220201_0011_sample8_prof  -23.04     "
      ]
     },
     "metadata": {},
     "output_type": "display_data"
    }
   ],
   "source": [
    "#getting charge data first\n",
    "charge_df = corpus_raw1 %>%\n",
    "    #getting lines that contain \"zeta potential\"\n",
    "    filter(grepl(\"Zeta Potential @\", Text)) %>%\n",
    "    #removing text before separator\n",
    "    separate(Text, c(NA, \"Charge\"), sep = \"C: \") %>%\n",
    "    #removing +/- values\n",
    "    separate(Charge, c(\"Charge (mV)\", NA), sep = \" \") #%>%\n",
    "    #separate(`Sample Identifier`, c(\"Sample Identifier\", NA), sep = \"_\")\n",
    "\n",
    "head(charge_df)"
   ]
  },
  {
   "cell_type": "code",
   "execution_count": 5,
   "id": "mature-aviation",
   "metadata": {},
   "outputs": [
    {
     "name": "stderr",
     "output_type": "stream",
     "text": [
      "PDF error: Invalid least number of objects reading page offset hints table\n",
      "\n",
      "PDF error: Invalid least number of objects reading page offset hints table\n",
      "\n",
      "PDF error: Invalid least number of objects reading page offset hints table\n",
      "\n",
      "PDF error: Invalid least number of objects reading page offset hints table\n",
      "\n",
      "PDF error: Invalid least number of objects reading page offset hints table\n",
      "\n",
      "PDF error: Invalid least number of objects reading page offset hints table\n",
      "\n",
      "PDF error: Invalid least number of objects reading page offset hints table\n",
      "\n",
      "PDF error: Invalid least number of objects reading page offset hints table\n",
      "\n",
      "PDF error: Invalid least number of objects reading page offset hints table\n",
      "\n",
      "PDF error: Invalid least number of objects reading page offset hints table\n",
      "\n",
      "PDF error: Invalid least number of objects reading page offset hints table\n",
      "\n",
      "PDF error: Invalid least number of objects reading page offset hints table\n",
      "\n",
      "PDF error: Invalid least number of objects reading page offset hints table\n",
      "\n",
      "PDF error: Invalid least number of objects reading page offset hints table\n",
      "\n",
      "PDF error: Invalid least number of objects reading page offset hints table\n",
      "\n",
      "PDF error: Invalid least number of objects reading page offset hints table\n",
      "\n",
      "PDF error: Invalid least number of objects reading page offset hints table\n",
      "\n",
      "PDF error: Invalid least number of objects reading page offset hints table\n",
      "\n",
      "PDF error: Invalid least number of objects reading page offset hints table\n",
      "\n",
      "PDF error: Invalid least number of objects reading page offset hints table\n",
      "\n",
      "PDF error: Invalid least number of objects reading page offset hints table\n",
      "\n",
      "PDF error: Invalid least number of objects reading page offset hints table\n",
      "\n",
      "PDF error: Invalid least number of objects reading page offset hints table\n",
      "\n",
      "PDF error: Invalid least number of objects reading page offset hints table\n",
      "\n",
      "PDF error: Invalid least number of objects reading page offset hints table\n",
      "\n",
      "PDF error: Invalid least number of objects reading page offset hints table\n",
      "\n"
     ]
    },
    {
     "data": {
      "text/html": [
       "<table class=\"dataframe\">\n",
       "<caption>A data.frame: 6 × 2</caption>\n",
       "<thead>\n",
       "\t<tr><th></th><th scope=col>Sample Identifier</th><th scope=col>Text</th></tr>\n",
       "\t<tr><th></th><th scope=col>&lt;chr&gt;</th><th scope=col>&lt;chr&gt;</th></tr>\n",
       "</thead>\n",
       "<tbody>\n",
       "\t<tr><th scope=row>1</th><td>20220201_0000_sample1_size</td><td><span style=white-space:pre-wrap>                                                                                                 Electrophoresis &amp; Brownian Motion</span></td></tr>\n",
       "\t<tr><th scope=row>2</th><td>20220201_0000_sample1_size</td><td>                                                                                                           Video Analysis         </td></tr>\n",
       "\t<tr><th scope=row>3</th><td>20220201_0000_sample1_size</td><td>                                                                                                    Laser Scattering Microscopy   </td></tr>\n",
       "\t<tr><th scope=row>4</th><td>20220201_0000_sample1_size</td><td>                                         www.particle-metrix.de                                                                   </td></tr>\n",
       "\t<tr><th scope=row>5</th><td>20220201_0000_sample1_size</td><td>                                                                                                                                  </td></tr>\n",
       "\t<tr><th scope=row>6</th><td>20220201_0000_sample1_size</td><td>                                                                                    Operator (Report): sop_kabanovlab.inst        </td></tr>\n",
       "</tbody>\n",
       "</table>\n"
      ],
      "text/latex": [
       "A data.frame: 6 × 2\n",
       "\\begin{tabular}{r|ll}\n",
       "  & Sample Identifier & Text\\\\\n",
       "  & <chr> & <chr>\\\\\n",
       "\\hline\n",
       "\t1 & 20220201\\_0000\\_sample1\\_size &                                                                                                  Electrophoresis \\& Brownian Motion\\\\\n",
       "\t2 & 20220201\\_0000\\_sample1\\_size &                                                                                                            Video Analysis         \\\\\n",
       "\t3 & 20220201\\_0000\\_sample1\\_size &                                                                                                     Laser Scattering Microscopy   \\\\\n",
       "\t4 & 20220201\\_0000\\_sample1\\_size &                                          www.particle-metrix.de                                                                   \\\\\n",
       "\t5 & 20220201\\_0000\\_sample1\\_size &                                                                                                                                   \\\\\n",
       "\t6 & 20220201\\_0000\\_sample1\\_size &                                                                                     Operator (Report): sop\\_kabanovlab.inst        \\\\\n",
       "\\end{tabular}\n"
      ],
      "text/markdown": [
       "\n",
       "A data.frame: 6 × 2\n",
       "\n",
       "| <!--/--> | Sample Identifier &lt;chr&gt; | Text &lt;chr&gt; |\n",
       "|---|---|---|\n",
       "| 1 | 20220201_0000_sample1_size |                                                                                                  Electrophoresis &amp; Brownian Motion |\n",
       "| 2 | 20220201_0000_sample1_size |                                                                                                            Video Analysis          |\n",
       "| 3 | 20220201_0000_sample1_size |                                                                                                     Laser Scattering Microscopy    |\n",
       "| 4 | 20220201_0000_sample1_size |                                          www.particle-metrix.de                                                                    |\n",
       "| 5 | 20220201_0000_sample1_size | <!----> |\n",
       "| 6 | 20220201_0000_sample1_size |                                                                                     Operator (Report): sop_kabanovlab.inst         |\n",
       "\n"
      ],
      "text/plain": [
       "  Sample Identifier         \n",
       "1 20220201_0000_sample1_size\n",
       "2 20220201_0000_sample1_size\n",
       "3 20220201_0000_sample1_size\n",
       "4 20220201_0000_sample1_size\n",
       "5 20220201_0000_sample1_size\n",
       "6 20220201_0000_sample1_size\n",
       "  Text                                                                                                                              \n",
       "1                                                                                                  Electrophoresis & Brownian Motion\n",
       "2                                                                                                            Video Analysis         \n",
       "3                                                                                                     Laser Scattering Microscopy   \n",
       "4                                          www.particle-metrix.de                                                                   \n",
       "5                                                                                                                                   \n",
       "6                                                                                     Operator (Report): sop_kabanovlab.inst        "
      ]
     },
     "metadata": {},
     "output_type": "display_data"
    }
   ],
   "source": [
    "#now changing working directory to get other data\n",
    "setwd('/Users/alexis/University of North Carolina at Chapel Hill/Rager, Julia - CEMALB_DataAnalysisPM/Projects/P1001. InVitroWildfire EVProteomics/P1001.3. Analyses/P1001.3.2. PDF Data Extraction V2/Input/Size_Count_data')\n",
    "\n",
    "#only grabs files ending in \"pdf\"\n",
    "pdf_list = list.files(pattern = \"pdf$\")\n",
    "\n",
    "corpus_raw <- data.frame(\"Sample Identifier\" = c(),\"Text\" = c())\n",
    "\n",
    "for (i in 1:length(pdf_list)){\n",
    "    document_text = pdf_text(paste(pdf_list[i],sep = \"\")) %>% \n",
    "    strsplit(\"\\n\")\n",
    "    \n",
    "        document = data.frame(\"Sample Identifier\" = gsub(x =pdf_list[i],pattern = \".pdf\", replacement = \"\"), \n",
    "        \"Text\" = document_text, stringsAsFactors = FALSE)\n",
    "    \n",
    "    colnames(document) <- c(\"Sample Identifier\", \"Text\")\n",
    "    corpus_raw <- rbind(corpus_raw,document) \n",
    "}\n",
    "\n",
    "#still haven't figured out why there are duplicates\n",
    "corpus_raw = unique(corpus_raw)\n",
    "head(corpus_raw)"
   ]
  },
  {
   "cell_type": "code",
   "execution_count": 6,
   "id": "pressed-accent",
   "metadata": {},
   "outputs": [
    {
     "data": {
      "text/html": [
       "<table class=\"dataframe\">\n",
       "<caption>A data.frame: 6 × 2</caption>\n",
       "<thead>\n",
       "\t<tr><th></th><th scope=col>Sample Identifier</th><th scope=col>Original Concentration (Particles/ mL)</th></tr>\n",
       "\t<tr><th></th><th scope=col>&lt;chr&gt;</th><th scope=col>&lt;chr&gt;</th></tr>\n",
       "</thead>\n",
       "<tbody>\n",
       "\t<tr><th scope=row>1</th><td>20220201_0000_sample1_size </td><td>       2.1E+9  </td></tr>\n",
       "\t<tr><th scope=row>2</th><td>20220201_0002_sample7_size </td><td>       2.1E+9  </td></tr>\n",
       "\t<tr><th scope=row>3</th><td>20220201_0004_sample13_size</td><td>       8.3E+9  </td></tr>\n",
       "\t<tr><th scope=row>4</th><td>20220201_0006_sample19_size</td><td>       3.1E+10 </td></tr>\n",
       "\t<tr><th scope=row>5</th><td>20220201_0008_sample2_size </td><td>       4.1E+9  </td></tr>\n",
       "\t<tr><th scope=row>6</th><td>20220201_0010_sample8_size </td><td>       9.4E+9  </td></tr>\n",
       "</tbody>\n",
       "</table>\n"
      ],
      "text/latex": [
       "A data.frame: 6 × 2\n",
       "\\begin{tabular}{r|ll}\n",
       "  & Sample Identifier & Original Concentration (Particles/ mL)\\\\\n",
       "  & <chr> & <chr>\\\\\n",
       "\\hline\n",
       "\t1 & 20220201\\_0000\\_sample1\\_size  &        2.1E+9  \\\\\n",
       "\t2 & 20220201\\_0002\\_sample7\\_size  &        2.1E+9  \\\\\n",
       "\t3 & 20220201\\_0004\\_sample13\\_size &        8.3E+9  \\\\\n",
       "\t4 & 20220201\\_0006\\_sample19\\_size &        3.1E+10 \\\\\n",
       "\t5 & 20220201\\_0008\\_sample2\\_size  &        4.1E+9  \\\\\n",
       "\t6 & 20220201\\_0010\\_sample8\\_size  &        9.4E+9  \\\\\n",
       "\\end{tabular}\n"
      ],
      "text/markdown": [
       "\n",
       "A data.frame: 6 × 2\n",
       "\n",
       "| <!--/--> | Sample Identifier &lt;chr&gt; | Original Concentration (Particles/ mL) &lt;chr&gt; |\n",
       "|---|---|---|\n",
       "| 1 | 20220201_0000_sample1_size  |        2.1E+9   |\n",
       "| 2 | 20220201_0002_sample7_size  |        2.1E+9   |\n",
       "| 3 | 20220201_0004_sample13_size |        8.3E+9   |\n",
       "| 4 | 20220201_0006_sample19_size |        3.1E+10  |\n",
       "| 5 | 20220201_0008_sample2_size  |        4.1E+9   |\n",
       "| 6 | 20220201_0010_sample8_size  |        9.4E+9   |\n",
       "\n"
      ],
      "text/plain": [
       "  Sample Identifier           Original Concentration (Particles/ mL)\n",
       "1 20220201_0000_sample1_size         2.1E+9                         \n",
       "2 20220201_0002_sample7_size         2.1E+9                         \n",
       "3 20220201_0004_sample13_size        8.3E+9                         \n",
       "4 20220201_0006_sample19_size        3.1E+10                        \n",
       "5 20220201_0008_sample2_size         4.1E+9                         \n",
       "6 20220201_0010_sample8_size         9.4E+9                         "
      ]
     },
     "metadata": {},
     "output_type": "display_data"
    }
   ],
   "source": [
    "OG_concentration_df = corpus_raw %>%\n",
    "    filter(grepl(\"Original Concentration\", Text)) %>%\n",
    "    separate(Text, c(NA, \"Original Concentration\"), sep = \": \") %>%\n",
    "    separate(`Original Concentration`, c(\"Original Concentration (Particles/ mL)\", NA), sep = \"P\")\n",
    "head(OG_concentration_df)"
   ]
  },
  {
   "cell_type": "code",
   "execution_count": 7,
   "id": "stretch-handbook",
   "metadata": {},
   "outputs": [
    {
     "data": {
      "text/html": [
       "<table class=\"dataframe\">\n",
       "<caption>A tibble: 6 × 4</caption>\n",
       "<thead>\n",
       "\t<tr><th scope=col>Sample Identifier</th><th scope=col>   X10</th><th scope=col>   X50</th><th scope=col>   X90</th></tr>\n",
       "\t<tr><th scope=col>&lt;chr&gt;</th><th scope=col>&lt;chr&gt;</th><th scope=col>&lt;chr&gt;</th><th scope=col>&lt;chr&gt;</th></tr>\n",
       "</thead>\n",
       "<tbody>\n",
       "\t<tr><td>20220201_0000_sample1_size </td><td>     79.0</td><td>    132.7</td><td>    202.9</td></tr>\n",
       "\t<tr><td>20220201_0002_sample7_size </td><td>     77.0</td><td>    125.3</td><td>    199.6</td></tr>\n",
       "\t<tr><td>20220201_0004_sample13_size</td><td>     78.5</td><td>    133.8</td><td>    210.9</td></tr>\n",
       "\t<tr><td>20220201_0006_sample19_size</td><td>     81.6</td><td>    134.4</td><td>    232.3</td></tr>\n",
       "\t<tr><td>20220201_0008_sample2_size </td><td>     79.3</td><td>    137.0</td><td>    230.7</td></tr>\n",
       "\t<tr><td>20220201_0010_sample8_size </td><td>     78.8</td><td>    133.9</td><td>    213.2</td></tr>\n",
       "</tbody>\n",
       "</table>\n"
      ],
      "text/latex": [
       "A tibble: 6 × 4\n",
       "\\begin{tabular}{llll}\n",
       " Sample Identifier &    X10 &    X50 &    X90\\\\\n",
       " <chr> & <chr> & <chr> & <chr>\\\\\n",
       "\\hline\n",
       "\t 20220201\\_0000\\_sample1\\_size  &      79.0 &     132.7 &     202.9\\\\\n",
       "\t 20220201\\_0002\\_sample7\\_size  &      77.0 &     125.3 &     199.6\\\\\n",
       "\t 20220201\\_0004\\_sample13\\_size &      78.5 &     133.8 &     210.9\\\\\n",
       "\t 20220201\\_0006\\_sample19\\_size &      81.6 &     134.4 &     232.3\\\\\n",
       "\t 20220201\\_0008\\_sample2\\_size  &      79.3 &     137.0 &     230.7\\\\\n",
       "\t 20220201\\_0010\\_sample8\\_size  &      78.8 &     133.9 &     213.2\\\\\n",
       "\\end{tabular}\n"
      ],
      "text/markdown": [
       "\n",
       "A tibble: 6 × 4\n",
       "\n",
       "| Sample Identifier &lt;chr&gt; |    X10 &lt;chr&gt; |    X50 &lt;chr&gt; |    X90 &lt;chr&gt; |\n",
       "|---|---|---|---|\n",
       "| 20220201_0000_sample1_size  |      79.0 |     132.7 |     202.9 |\n",
       "| 20220201_0002_sample7_size  |      77.0 |     125.3 |     199.6 |\n",
       "| 20220201_0004_sample13_size |      78.5 |     133.8 |     210.9 |\n",
       "| 20220201_0006_sample19_size |      81.6 |     134.4 |     232.3 |\n",
       "| 20220201_0008_sample2_size  |      79.3 |     137.0 |     230.7 |\n",
       "| 20220201_0010_sample8_size  |      78.8 |     133.9 |     213.2 |\n",
       "\n"
      ],
      "text/plain": [
       "  Sample Identifier              X10       X50       X90   \n",
       "1 20220201_0000_sample1_size       79.0     132.7     202.9\n",
       "2 20220201_0002_sample7_size       77.0     125.3     199.6\n",
       "3 20220201_0004_sample13_size      78.5     133.8     210.9\n",
       "4 20220201_0006_sample19_size      81.6     134.4     232.3\n",
       "5 20220201_0008_sample2_size       79.3     137.0     230.7\n",
       "6 20220201_0010_sample8_size       78.8     133.9     213.2"
      ]
     },
     "metadata": {},
     "output_type": "display_data"
    }
   ],
   "source": [
    "X_concentration_df = corpus_raw %>%\n",
    "    filter(grepl(\"X10\", Text)| grepl(\"X50 \", Text)| grepl(\"X90\", Text)) %>%\n",
    "    separate(Text, c(\"Text\", NA), sep = \"                \") %>%\n",
    "    separate(Text, c(\"Text\", \"Concentration\"), sep = \"      \") %>%\n",
    "    pivot_wider(names_from = Text, values_from = Concentration)\n",
    "head(X_concentration_df)"
   ]
  },
  {
   "cell_type": "code",
   "execution_count": 8,
   "id": "robust-conference",
   "metadata": {},
   "outputs": [
    {
     "name": "stderr",
     "output_type": "stream",
     "text": [
      "Joining, by = \"Sample Identifier\"\n",
      "\n"
     ]
    },
    {
     "data": {
      "text/html": [
       "<table class=\"dataframe\">\n",
       "<caption>A data.frame: 6 × 5</caption>\n",
       "<thead>\n",
       "\t<tr><th></th><th scope=col>Sample Identifier</th><th scope=col>Original Concentration (Particles/ mL)</th><th scope=col>   X10</th><th scope=col>   X50</th><th scope=col>   X90</th></tr>\n",
       "\t<tr><th></th><th scope=col>&lt;chr&gt;</th><th scope=col>&lt;chr&gt;</th><th scope=col>&lt;chr&gt;</th><th scope=col>&lt;chr&gt;</th><th scope=col>&lt;chr&gt;</th></tr>\n",
       "</thead>\n",
       "<tbody>\n",
       "\t<tr><th scope=row>1</th><td>20220201_0000_sample1_size </td><td>       2.1E+9  </td><td>     79.0</td><td>    132.7</td><td>    202.9</td></tr>\n",
       "\t<tr><th scope=row>2</th><td>20220201_0002_sample7_size </td><td>       2.1E+9  </td><td>     77.0</td><td>    125.3</td><td>    199.6</td></tr>\n",
       "\t<tr><th scope=row>3</th><td>20220201_0004_sample13_size</td><td>       8.3E+9  </td><td>     78.5</td><td>    133.8</td><td>    210.9</td></tr>\n",
       "\t<tr><th scope=row>4</th><td>20220201_0006_sample19_size</td><td>       3.1E+10 </td><td>     81.6</td><td>    134.4</td><td>    232.3</td></tr>\n",
       "\t<tr><th scope=row>5</th><td>20220201_0008_sample2_size </td><td>       4.1E+9  </td><td>     79.3</td><td>    137.0</td><td>    230.7</td></tr>\n",
       "\t<tr><th scope=row>6</th><td>20220201_0010_sample8_size </td><td>       9.4E+9  </td><td>     78.8</td><td>    133.9</td><td>    213.2</td></tr>\n",
       "</tbody>\n",
       "</table>\n"
      ],
      "text/latex": [
       "A data.frame: 6 × 5\n",
       "\\begin{tabular}{r|lllll}\n",
       "  & Sample Identifier & Original Concentration (Particles/ mL) &    X10 &    X50 &    X90\\\\\n",
       "  & <chr> & <chr> & <chr> & <chr> & <chr>\\\\\n",
       "\\hline\n",
       "\t1 & 20220201\\_0000\\_sample1\\_size  &        2.1E+9   &      79.0 &     132.7 &     202.9\\\\\n",
       "\t2 & 20220201\\_0002\\_sample7\\_size  &        2.1E+9   &      77.0 &     125.3 &     199.6\\\\\n",
       "\t3 & 20220201\\_0004\\_sample13\\_size &        8.3E+9   &      78.5 &     133.8 &     210.9\\\\\n",
       "\t4 & 20220201\\_0006\\_sample19\\_size &        3.1E+10  &      81.6 &     134.4 &     232.3\\\\\n",
       "\t5 & 20220201\\_0008\\_sample2\\_size  &        4.1E+9   &      79.3 &     137.0 &     230.7\\\\\n",
       "\t6 & 20220201\\_0010\\_sample8\\_size  &        9.4E+9   &      78.8 &     133.9 &     213.2\\\\\n",
       "\\end{tabular}\n"
      ],
      "text/markdown": [
       "\n",
       "A data.frame: 6 × 5\n",
       "\n",
       "| <!--/--> | Sample Identifier &lt;chr&gt; | Original Concentration (Particles/ mL) &lt;chr&gt; |    X10 &lt;chr&gt; |    X50 &lt;chr&gt; |    X90 &lt;chr&gt; |\n",
       "|---|---|---|---|---|---|\n",
       "| 1 | 20220201_0000_sample1_size  |        2.1E+9   |      79.0 |     132.7 |     202.9 |\n",
       "| 2 | 20220201_0002_sample7_size  |        2.1E+9   |      77.0 |     125.3 |     199.6 |\n",
       "| 3 | 20220201_0004_sample13_size |        8.3E+9   |      78.5 |     133.8 |     210.9 |\n",
       "| 4 | 20220201_0006_sample19_size |        3.1E+10  |      81.6 |     134.4 |     232.3 |\n",
       "| 5 | 20220201_0008_sample2_size  |        4.1E+9   |      79.3 |     137.0 |     230.7 |\n",
       "| 6 | 20220201_0010_sample8_size  |        9.4E+9   |      78.8 |     133.9 |     213.2 |\n",
       "\n"
      ],
      "text/plain": [
       "  Sample Identifier           Original Concentration (Particles/ mL)    X10   \n",
       "1 20220201_0000_sample1_size         2.1E+9                               79.0\n",
       "2 20220201_0002_sample7_size         2.1E+9                               77.0\n",
       "3 20220201_0004_sample13_size        8.3E+9                               78.5\n",
       "4 20220201_0006_sample19_size        3.1E+10                              81.6\n",
       "5 20220201_0008_sample2_size         4.1E+9                               79.3\n",
       "6 20220201_0010_sample8_size         9.4E+9                               78.8\n",
       "     X50       X90   \n",
       "1     132.7     202.9\n",
       "2     125.3     199.6\n",
       "3     133.8     210.9\n",
       "4     134.4     232.3\n",
       "5     137.0     230.7\n",
       "6     133.9     213.2"
      ]
     },
     "metadata": {},
     "output_type": "display_data"
    }
   ],
   "source": [
    "#combining into one concentration df\n",
    "concentration_df = full_join(OG_concentration_df, X_concentration_df)\n",
    "head(concentration_df)"
   ]
  },
  {
   "cell_type": "code",
   "execution_count": 9,
   "id": "varied-classics",
   "metadata": {},
   "outputs": [],
   "source": [
    "#exporting data\n",
    "write.csv(charge_df, paste0(Output,\"/\", cur_date, \"_Extracted_Charge_Data.csv\"), row.names = FALSE)\n",
    "write.csv(concentration_df, paste0(Output,\"/\", cur_date, \"_Extracted_Concentration_Data.csv\"), row.names = FALSE)"
   ]
  },
  {
   "cell_type": "code",
   "execution_count": null,
   "id": "worst-validity",
   "metadata": {},
   "outputs": [],
   "source": []
  }
 ],
 "metadata": {
  "kernelspec": {
   "display_name": "R",
   "language": "R",
   "name": "ir"
  },
  "language_info": {
   "codemirror_mode": "r",
   "file_extension": ".r",
   "mimetype": "text/x-r-source",
   "name": "R",
   "pygments_lexer": "r",
   "version": "3.6.3"
  }
 },
 "nbformat": 4,
 "nbformat_minor": 5
}
