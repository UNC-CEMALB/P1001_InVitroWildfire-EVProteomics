{
 "cells": [
  {
   "cell_type": "code",
   "execution_count": 3,
   "id": "heard-substance",
   "metadata": {},
   "outputs": [
    {
     "name": "stderr",
     "output_type": "stream",
     "text": [
      "'getOption(\"repos\")' replaces Bioconductor standard repositories, see\n",
      "'?repositories' for details\n",
      "\n",
      "replacement repositories:\n",
      "    CRAN: https://cran.r-project.org\n",
      "\n",
      "\n",
      "Bioconductor version 3.14 (BiocManager 1.30.16), R 4.1.2 (2021-11-01)\n",
      "\n",
      "Warning message:\n",
      "“package(s) not installed when version(s) same as current; use `force = TRUE` to\n",
      "  re-install: 'TargetDecoy'”\n",
      "Old packages: 'lmtest', 'nloptr'\n",
      "\n"
     ]
    }
   ],
   "source": [
    "# if (!require(\"BiocManager\", quietly = TRUE))\n",
    "#     install.packages(\"BiocManager\")\n",
    "\n",
    "# BiocManager::install(\"TargetDecoy\")"
   ]
  },
  {
   "cell_type": "code",
   "execution_count": 4,
   "id": "naughty-atlanta",
   "metadata": {},
   "outputs": [
    {
     "name": "stderr",
     "output_type": "stream",
     "text": [
      "── \u001b[1mAttaching packages\u001b[22m ─────────────────────────────────────── tidyverse 1.3.1 ──\n",
      "\n",
      "\u001b[32m✔\u001b[39m \u001b[34mggplot2\u001b[39m 3.3.5     \u001b[32m✔\u001b[39m \u001b[34mpurrr  \u001b[39m 0.3.4\n",
      "\u001b[32m✔\u001b[39m \u001b[34mtibble \u001b[39m 3.1.6     \u001b[32m✔\u001b[39m \u001b[34mdplyr  \u001b[39m 1.0.8\n",
      "\u001b[32m✔\u001b[39m \u001b[34mtidyr  \u001b[39m 1.2.0     \u001b[32m✔\u001b[39m \u001b[34mstringr\u001b[39m 1.4.0\n",
      "\u001b[32m✔\u001b[39m \u001b[34mreadr  \u001b[39m 2.1.2     \u001b[32m✔\u001b[39m \u001b[34mforcats\u001b[39m 0.5.1\n",
      "\n",
      "── \u001b[1mConflicts\u001b[22m ────────────────────────────────────────── tidyverse_conflicts() ──\n",
      "\u001b[31m✖\u001b[39m \u001b[34mdplyr\u001b[39m::\u001b[32mfilter()\u001b[39m masks \u001b[34mstats\u001b[39m::filter()\n",
      "\u001b[31m✖\u001b[39m \u001b[34mdplyr\u001b[39m::\u001b[32mlag()\u001b[39m    masks \u001b[34mstats\u001b[39m::lag()\n",
      "\n",
      "Warning message in fun(libname, pkgname):\n",
      "“mzR has been built against a different Rcpp version (1.0.8)\n",
      "than is installed on your system (1.0.8.3). This might lead to errors\n",
      "when loading mzR. If you encounter such issues, please send a report,\n",
      "including the output of sessionInfo() to the Bioc support forum at \n",
      "https://support.bioconductor.org/. For details see also\n",
      "https://github.com/sneumann/mzR/wiki/mzR-Rcpp-compiler-linker-issue.”\n"
     ]
    }
   ],
   "source": [
    "setwd('/Users/alexis/University of North Carolina at Chapel Hill/Rager, Julia - CEMALB_DataAnalysisPM/Projects/P1001. InVitroWildfire EVProteomics/P1001.3. Analyses/P10013.4. Data Preprocessing/Input')\n",
    "Output = ('/Users/alexis/University of North Carolina at Chapel Hill/Rager, Julia - CEMALB_DataAnalysisPM/Projects/P1001. InVitroWildfire EVProteomics/P1001.3. Analyses/P10013.4. Data Preprocessing/Output')\n",
    "cur_date = \"032122\"\n",
    "\n",
    "library(readxl)\n",
    "library(tidyverse)\n",
    "library(TargetDecoy)\n",
    "\n",
    "\n",
    "#reading in file\n",
    "identifiers_df = data.frame(read_excel(\"Identifiers_030422.xlsx\"))\n",
    "set1_proteome_df = data.frame(read_excel(\"PC927-Rager_LFQProteome_Results_RawValues_R ready.xlsx\", sheet = 1))[,c(1,22:35)]\n",
    "set2_proteome_df = data.frame(read_excel(\"PC927-Rager_LFQProteome_Results_RawValues_R ready.xlsx\", sheet = 2))[,c(1,22:35)]"
   ]
  },
  {
   "cell_type": "code",
   "execution_count": 2,
   "id": "adopted-cross",
   "metadata": {},
   "outputs": [
    {
     "data": {
      "text/html": [
       "<table class=\"dataframe\">\n",
       "<caption>A data.frame: 6 × 3</caption>\n",
       "<thead>\n",
       "\t<tr><th></th><th scope=col>IDs_from_Core</th><th scope=col>Our_Analysis_ID</th><th scope=col>Set</th></tr>\n",
       "\t<tr><th></th><th scope=col>&lt;chr&gt;</th><th scope=col>&lt;chr&gt;</th><th scope=col>&lt;chr&gt;</th></tr>\n",
       "</thead>\n",
       "<tbody>\n",
       "\t<tr><th scope=row>1</th><td>Abundance..Pooled.1  </td><td>CoCulture_PooledSample1</td><td>Set1</td></tr>\n",
       "\t<tr><th scope=row>2</th><td>Abundance..Pooled.2  </td><td>CoCulture_PooledSample2</td><td>Set1</td></tr>\n",
       "\t<tr><th scope=row>3</th><td>Abundance..1..Vehicle</td><td>CoCulture_VehicleCT1   </td><td>Set1</td></tr>\n",
       "\t<tr><th scope=row>4</th><td>Abundance..3..Vehicle</td><td>CoCulture_VehicleCT2   </td><td>Set1</td></tr>\n",
       "\t<tr><th scope=row>5</th><td>Abundance..5..Vehicle</td><td>CoCulture_VehicleCT3   </td><td>Set1</td></tr>\n",
       "\t<tr><th scope=row>6</th><td>Abundance..7..Vehicle</td><td>CoCulture_VehicleCT4   </td><td>Set1</td></tr>\n",
       "</tbody>\n",
       "</table>\n"
      ],
      "text/latex": [
       "A data.frame: 6 × 3\n",
       "\\begin{tabular}{r|lll}\n",
       "  & IDs\\_from\\_Core & Our\\_Analysis\\_ID & Set\\\\\n",
       "  & <chr> & <chr> & <chr>\\\\\n",
       "\\hline\n",
       "\t1 & Abundance..Pooled.1   & CoCulture\\_PooledSample1 & Set1\\\\\n",
       "\t2 & Abundance..Pooled.2   & CoCulture\\_PooledSample2 & Set1\\\\\n",
       "\t3 & Abundance..1..Vehicle & CoCulture\\_VehicleCT1    & Set1\\\\\n",
       "\t4 & Abundance..3..Vehicle & CoCulture\\_VehicleCT2    & Set1\\\\\n",
       "\t5 & Abundance..5..Vehicle & CoCulture\\_VehicleCT3    & Set1\\\\\n",
       "\t6 & Abundance..7..Vehicle & CoCulture\\_VehicleCT4    & Set1\\\\\n",
       "\\end{tabular}\n"
      ],
      "text/markdown": [
       "\n",
       "A data.frame: 6 × 3\n",
       "\n",
       "| <!--/--> | IDs_from_Core &lt;chr&gt; | Our_Analysis_ID &lt;chr&gt; | Set &lt;chr&gt; |\n",
       "|---|---|---|---|\n",
       "| 1 | Abundance..Pooled.1   | CoCulture_PooledSample1 | Set1 |\n",
       "| 2 | Abundance..Pooled.2   | CoCulture_PooledSample2 | Set1 |\n",
       "| 3 | Abundance..1..Vehicle | CoCulture_VehicleCT1    | Set1 |\n",
       "| 4 | Abundance..3..Vehicle | CoCulture_VehicleCT2    | Set1 |\n",
       "| 5 | Abundance..5..Vehicle | CoCulture_VehicleCT3    | Set1 |\n",
       "| 6 | Abundance..7..Vehicle | CoCulture_VehicleCT4    | Set1 |\n",
       "\n"
      ],
      "text/plain": [
       "  IDs_from_Core         Our_Analysis_ID         Set \n",
       "1 Abundance..Pooled.1   CoCulture_PooledSample1 Set1\n",
       "2 Abundance..Pooled.2   CoCulture_PooledSample2 Set1\n",
       "3 Abundance..1..Vehicle CoCulture_VehicleCT1    Set1\n",
       "4 Abundance..3..Vehicle CoCulture_VehicleCT2    Set1\n",
       "5 Abundance..5..Vehicle CoCulture_VehicleCT3    Set1\n",
       "6 Abundance..7..Vehicle CoCulture_VehicleCT4    Set1"
      ]
     },
     "metadata": {},
     "output_type": "display_data"
    },
    {
     "data": {
      "text/html": [
       "<table class=\"dataframe\">\n",
       "<caption>A data.frame: 6 × 15</caption>\n",
       "<thead>\n",
       "\t<tr><th></th><th scope=col>Accession</th><th scope=col>Abundance..Pooled.1</th><th scope=col>Abundance..Pooled.2</th><th scope=col>Abundance..1..Vehicle</th><th scope=col>Abundance..3..Vehicle</th><th scope=col>Abundance..5..Vehicle</th><th scope=col>Abundance..7..Vehicle</th><th scope=col>Abundance..9..Vehicle</th><th scope=col>Abundance..11..Vehicle</th><th scope=col>Abundance..2..Wood.Smoke</th><th scope=col>Abundance..4..Wood.Smoke</th><th scope=col>Abundance..6..Wood.Smoke</th><th scope=col>Abundance..8..Wood.Smoke</th><th scope=col>Abundance..10..Wood.Smoke</th><th scope=col>Abundance..12..Wood.Smoke</th></tr>\n",
       "\t<tr><th></th><th scope=col>&lt;chr&gt;</th><th scope=col>&lt;dbl&gt;</th><th scope=col>&lt;dbl&gt;</th><th scope=col>&lt;dbl&gt;</th><th scope=col>&lt;dbl&gt;</th><th scope=col>&lt;dbl&gt;</th><th scope=col>&lt;dbl&gt;</th><th scope=col>&lt;dbl&gt;</th><th scope=col>&lt;dbl&gt;</th><th scope=col>&lt;dbl&gt;</th><th scope=col>&lt;dbl&gt;</th><th scope=col>&lt;dbl&gt;</th><th scope=col>&lt;dbl&gt;</th><th scope=col>&lt;dbl&gt;</th><th scope=col>&lt;dbl&gt;</th></tr>\n",
       "</thead>\n",
       "<tbody>\n",
       "\t<tr><th scope=row>1</th><td>P02769</td><td>4.89e+11</td><td>4.43e+11</td><td>6.26e+11</td><td>4.38e+11</td><td>4.74e+11</td><td>3.40e+11</td><td>4.94e+11</td><td>4.85e+11</td><td>4.54e+11</td><td>6.23e+11</td><td>7.37e+11</td><td>5.13e+11</td><td>3.96e+11</td><td>6.86e+11</td></tr>\n",
       "\t<tr><th scope=row>2</th><td>P02751</td><td>2.73e+11</td><td>2.41e+11</td><td>2.24e+11</td><td>2.43e+11</td><td>3.24e+11</td><td>2.53e+11</td><td>2.45e+11</td><td>1.35e+11</td><td>1.68e+11</td><td>2.37e+11</td><td>2.98e+11</td><td>2.54e+11</td><td>1.97e+11</td><td>2.50e+11</td></tr>\n",
       "\t<tr><th scope=row>3</th><td>P12763</td><td>2.63e+11</td><td>2.29e+11</td><td>3.10e+11</td><td>2.33e+11</td><td>2.70e+11</td><td>2.42e+11</td><td>2.71e+11</td><td>2.50e+11</td><td>2.67e+11</td><td>2.86e+11</td><td>3.27e+11</td><td>2.63e+11</td><td>2.52e+11</td><td>3.03e+11</td></tr>\n",
       "\t<tr><th scope=row>4</th><td>Q2UVX4</td><td>5.65e+10</td><td>5.15e+10</td><td>6.76e+10</td><td>4.31e+10</td><td>4.09e+10</td><td>4.12e+10</td><td>4.92e+10</td><td>3.53e+10</td><td>4.76e+10</td><td>4.01e+10</td><td>3.68e+10</td><td>6.53e+10</td><td>4.45e+10</td><td>4.69e+10</td></tr>\n",
       "\t<tr><th scope=row>5</th><td>P98160</td><td>2.27e+10</td><td>2.04e+10</td><td>3.01e+10</td><td>1.79e+10</td><td>1.40e+10</td><td>2.64e+10</td><td>2.81e+10</td><td>2.85e+10</td><td>1.97e+10</td><td>1.40e+10</td><td>1.30e+10</td><td>2.19e+10</td><td>2.46e+10</td><td>2.27e+10</td></tr>\n",
       "\t<tr><th scope=row>6</th><td>P12111</td><td>2.15e+10</td><td>2.03e+10</td><td>1.55e+10</td><td>2.12e+10</td><td>2.29e+10</td><td>1.99e+10</td><td>2.00e+10</td><td>9.49e+09</td><td>1.67e+10</td><td>2.09e+10</td><td>2.67e+10</td><td>2.63e+10</td><td>2.06e+10</td><td>2.60e+10</td></tr>\n",
       "</tbody>\n",
       "</table>\n"
      ],
      "text/latex": [
       "A data.frame: 6 × 15\n",
       "\\begin{tabular}{r|lllllllllllllll}\n",
       "  & Accession & Abundance..Pooled.1 & Abundance..Pooled.2 & Abundance..1..Vehicle & Abundance..3..Vehicle & Abundance..5..Vehicle & Abundance..7..Vehicle & Abundance..9..Vehicle & Abundance..11..Vehicle & Abundance..2..Wood.Smoke & Abundance..4..Wood.Smoke & Abundance..6..Wood.Smoke & Abundance..8..Wood.Smoke & Abundance..10..Wood.Smoke & Abundance..12..Wood.Smoke\\\\\n",
       "  & <chr> & <dbl> & <dbl> & <dbl> & <dbl> & <dbl> & <dbl> & <dbl> & <dbl> & <dbl> & <dbl> & <dbl> & <dbl> & <dbl> & <dbl>\\\\\n",
       "\\hline\n",
       "\t1 & P02769 & 4.89e+11 & 4.43e+11 & 6.26e+11 & 4.38e+11 & 4.74e+11 & 3.40e+11 & 4.94e+11 & 4.85e+11 & 4.54e+11 & 6.23e+11 & 7.37e+11 & 5.13e+11 & 3.96e+11 & 6.86e+11\\\\\n",
       "\t2 & P02751 & 2.73e+11 & 2.41e+11 & 2.24e+11 & 2.43e+11 & 3.24e+11 & 2.53e+11 & 2.45e+11 & 1.35e+11 & 1.68e+11 & 2.37e+11 & 2.98e+11 & 2.54e+11 & 1.97e+11 & 2.50e+11\\\\\n",
       "\t3 & P12763 & 2.63e+11 & 2.29e+11 & 3.10e+11 & 2.33e+11 & 2.70e+11 & 2.42e+11 & 2.71e+11 & 2.50e+11 & 2.67e+11 & 2.86e+11 & 3.27e+11 & 2.63e+11 & 2.52e+11 & 3.03e+11\\\\\n",
       "\t4 & Q2UVX4 & 5.65e+10 & 5.15e+10 & 6.76e+10 & 4.31e+10 & 4.09e+10 & 4.12e+10 & 4.92e+10 & 3.53e+10 & 4.76e+10 & 4.01e+10 & 3.68e+10 & 6.53e+10 & 4.45e+10 & 4.69e+10\\\\\n",
       "\t5 & P98160 & 2.27e+10 & 2.04e+10 & 3.01e+10 & 1.79e+10 & 1.40e+10 & 2.64e+10 & 2.81e+10 & 2.85e+10 & 1.97e+10 & 1.40e+10 & 1.30e+10 & 2.19e+10 & 2.46e+10 & 2.27e+10\\\\\n",
       "\t6 & P12111 & 2.15e+10 & 2.03e+10 & 1.55e+10 & 2.12e+10 & 2.29e+10 & 1.99e+10 & 2.00e+10 & 9.49e+09 & 1.67e+10 & 2.09e+10 & 2.67e+10 & 2.63e+10 & 2.06e+10 & 2.60e+10\\\\\n",
       "\\end{tabular}\n"
      ],
      "text/markdown": [
       "\n",
       "A data.frame: 6 × 15\n",
       "\n",
       "| <!--/--> | Accession &lt;chr&gt; | Abundance..Pooled.1 &lt;dbl&gt; | Abundance..Pooled.2 &lt;dbl&gt; | Abundance..1..Vehicle &lt;dbl&gt; | Abundance..3..Vehicle &lt;dbl&gt; | Abundance..5..Vehicle &lt;dbl&gt; | Abundance..7..Vehicle &lt;dbl&gt; | Abundance..9..Vehicle &lt;dbl&gt; | Abundance..11..Vehicle &lt;dbl&gt; | Abundance..2..Wood.Smoke &lt;dbl&gt; | Abundance..4..Wood.Smoke &lt;dbl&gt; | Abundance..6..Wood.Smoke &lt;dbl&gt; | Abundance..8..Wood.Smoke &lt;dbl&gt; | Abundance..10..Wood.Smoke &lt;dbl&gt; | Abundance..12..Wood.Smoke &lt;dbl&gt; |\n",
       "|---|---|---|---|---|---|---|---|---|---|---|---|---|---|---|---|\n",
       "| 1 | P02769 | 4.89e+11 | 4.43e+11 | 6.26e+11 | 4.38e+11 | 4.74e+11 | 3.40e+11 | 4.94e+11 | 4.85e+11 | 4.54e+11 | 6.23e+11 | 7.37e+11 | 5.13e+11 | 3.96e+11 | 6.86e+11 |\n",
       "| 2 | P02751 | 2.73e+11 | 2.41e+11 | 2.24e+11 | 2.43e+11 | 3.24e+11 | 2.53e+11 | 2.45e+11 | 1.35e+11 | 1.68e+11 | 2.37e+11 | 2.98e+11 | 2.54e+11 | 1.97e+11 | 2.50e+11 |\n",
       "| 3 | P12763 | 2.63e+11 | 2.29e+11 | 3.10e+11 | 2.33e+11 | 2.70e+11 | 2.42e+11 | 2.71e+11 | 2.50e+11 | 2.67e+11 | 2.86e+11 | 3.27e+11 | 2.63e+11 | 2.52e+11 | 3.03e+11 |\n",
       "| 4 | Q2UVX4 | 5.65e+10 | 5.15e+10 | 6.76e+10 | 4.31e+10 | 4.09e+10 | 4.12e+10 | 4.92e+10 | 3.53e+10 | 4.76e+10 | 4.01e+10 | 3.68e+10 | 6.53e+10 | 4.45e+10 | 4.69e+10 |\n",
       "| 5 | P98160 | 2.27e+10 | 2.04e+10 | 3.01e+10 | 1.79e+10 | 1.40e+10 | 2.64e+10 | 2.81e+10 | 2.85e+10 | 1.97e+10 | 1.40e+10 | 1.30e+10 | 2.19e+10 | 2.46e+10 | 2.27e+10 |\n",
       "| 6 | P12111 | 2.15e+10 | 2.03e+10 | 1.55e+10 | 2.12e+10 | 2.29e+10 | 1.99e+10 | 2.00e+10 | 9.49e+09 | 1.67e+10 | 2.09e+10 | 2.67e+10 | 2.63e+10 | 2.06e+10 | 2.60e+10 |\n",
       "\n"
      ],
      "text/plain": [
       "  Accession Abundance..Pooled.1 Abundance..Pooled.2 Abundance..1..Vehicle\n",
       "1 P02769    4.89e+11            4.43e+11            6.26e+11             \n",
       "2 P02751    2.73e+11            2.41e+11            2.24e+11             \n",
       "3 P12763    2.63e+11            2.29e+11            3.10e+11             \n",
       "4 Q2UVX4    5.65e+10            5.15e+10            6.76e+10             \n",
       "5 P98160    2.27e+10            2.04e+10            3.01e+10             \n",
       "6 P12111    2.15e+10            2.03e+10            1.55e+10             \n",
       "  Abundance..3..Vehicle Abundance..5..Vehicle Abundance..7..Vehicle\n",
       "1 4.38e+11              4.74e+11              3.40e+11             \n",
       "2 2.43e+11              3.24e+11              2.53e+11             \n",
       "3 2.33e+11              2.70e+11              2.42e+11             \n",
       "4 4.31e+10              4.09e+10              4.12e+10             \n",
       "5 1.79e+10              1.40e+10              2.64e+10             \n",
       "6 2.12e+10              2.29e+10              1.99e+10             \n",
       "  Abundance..9..Vehicle Abundance..11..Vehicle Abundance..2..Wood.Smoke\n",
       "1 4.94e+11              4.85e+11               4.54e+11                \n",
       "2 2.45e+11              1.35e+11               1.68e+11                \n",
       "3 2.71e+11              2.50e+11               2.67e+11                \n",
       "4 4.92e+10              3.53e+10               4.76e+10                \n",
       "5 2.81e+10              2.85e+10               1.97e+10                \n",
       "6 2.00e+10              9.49e+09               1.67e+10                \n",
       "  Abundance..4..Wood.Smoke Abundance..6..Wood.Smoke Abundance..8..Wood.Smoke\n",
       "1 6.23e+11                 7.37e+11                 5.13e+11                \n",
       "2 2.37e+11                 2.98e+11                 2.54e+11                \n",
       "3 2.86e+11                 3.27e+11                 2.63e+11                \n",
       "4 4.01e+10                 3.68e+10                 6.53e+10                \n",
       "5 1.40e+10                 1.30e+10                 2.19e+10                \n",
       "6 2.09e+10                 2.67e+10                 2.63e+10                \n",
       "  Abundance..10..Wood.Smoke Abundance..12..Wood.Smoke\n",
       "1 3.96e+11                  6.86e+11                 \n",
       "2 1.97e+11                  2.50e+11                 \n",
       "3 2.52e+11                  3.03e+11                 \n",
       "4 4.45e+10                  4.69e+10                 \n",
       "5 2.46e+10                  2.27e+10                 \n",
       "6 2.06e+10                  2.60e+10                 "
      ]
     },
     "metadata": {},
     "output_type": "display_data"
    },
    {
     "data": {
      "text/html": [
       "<table class=\"dataframe\">\n",
       "<caption>A data.frame: 6 × 15</caption>\n",
       "<thead>\n",
       "\t<tr><th></th><th scope=col>Accession</th><th scope=col>Abundance..Pooled.1</th><th scope=col>Abundance..Pooled.2</th><th scope=col>Abundance..13..Vehicle</th><th scope=col>Abundance..15..Vehicle</th><th scope=col>Abundance..17..Vehicle</th><th scope=col>Abundance..19..Vehicle</th><th scope=col>Abundance..21..Vehicle</th><th scope=col>Abundance..23..Vehicle</th><th scope=col>Abundance..14..Wood.Smoke</th><th scope=col>Abundance..16..Wood.Smoke</th><th scope=col>Abundance..18..Wood.Smoke</th><th scope=col>Abundance..20..Wood.Smoke</th><th scope=col>Abundance..22..Wood.Smoke</th><th scope=col>Abundance..24..Wood.Smoke</th></tr>\n",
       "\t<tr><th></th><th scope=col>&lt;chr&gt;</th><th scope=col>&lt;dbl&gt;</th><th scope=col>&lt;dbl&gt;</th><th scope=col>&lt;dbl&gt;</th><th scope=col>&lt;dbl&gt;</th><th scope=col>&lt;dbl&gt;</th><th scope=col>&lt;dbl&gt;</th><th scope=col>&lt;dbl&gt;</th><th scope=col>&lt;dbl&gt;</th><th scope=col>&lt;dbl&gt;</th><th scope=col>&lt;dbl&gt;</th><th scope=col>&lt;dbl&gt;</th><th scope=col>&lt;dbl&gt;</th><th scope=col>&lt;dbl&gt;</th><th scope=col>&lt;dbl&gt;</th></tr>\n",
       "</thead>\n",
       "<tbody>\n",
       "\t<tr><th scope=row>1</th><td>P02751</td><td>197908273327</td><td>215449909749</td><td>290377149672</td><td>237808533258</td><td>300713328573</td><td>246820946145</td><td>304313034954</td><td>264966884310</td><td>243333335207</td><td>199860505414</td><td>279706283336</td><td>225170612912</td><td>229939459846</td><td>154501914723</td></tr>\n",
       "\t<tr><th scope=row>2</th><td>P02769</td><td>342657042076</td><td>370488835120</td><td>308967859550</td><td>242917660277</td><td>278096520636</td><td>259674859546</td><td>291397652436</td><td>563821412595</td><td>281882492897</td><td>732144132018</td><td>248045691869</td><td>233383724786</td><td>349312465553</td><td>251094645011</td></tr>\n",
       "\t<tr><th scope=row>3</th><td>P07996</td><td> 64580519826</td><td> 73778236233</td><td>181775619913</td><td>129485605438</td><td>169377550217</td><td>134685992120</td><td>114143664541</td><td>249366551496</td><td>132714564698</td><td>128084639698</td><td>112262919453</td><td>111419806864</td><td> 73857936963</td><td>108923410421</td></tr>\n",
       "\t<tr><th scope=row>4</th><td>Q2UVX4</td><td> 41255020284</td><td> 45525199756</td><td> 55681501380</td><td> 35618922477</td><td> 44222632333</td><td> 47245712210</td><td> 44043324866</td><td> 75943777589</td><td> 53160804546</td><td> 68298716794</td><td> 48638631002</td><td> 47654755526</td><td> 35704911241</td><td> 52145684636</td></tr>\n",
       "\t<tr><th scope=row>5</th><td>P98160</td><td> 16164372416</td><td> 18035124503</td><td> 20257643320</td><td> 13577050138</td><td> 17442737821</td><td> 24582420164</td><td> 20491703047</td><td> 36081485773</td><td> 20355674908</td><td> 16277580495</td><td> 15654918570</td><td> 19579785521</td><td> 16823558423</td><td> 20030021253</td></tr>\n",
       "\t<tr><th scope=row>6</th><td>P12763</td><td>180364995691</td><td>186934859645</td><td>159857253388</td><td>143580491033</td><td>158608208515</td><td>140452510019</td><td>145834623969</td><td>220324446614</td><td>137520441019</td><td>237042125375</td><td>156248949606</td><td>124984210103</td><td>171103871588</td><td>143324724008</td></tr>\n",
       "</tbody>\n",
       "</table>\n"
      ],
      "text/latex": [
       "A data.frame: 6 × 15\n",
       "\\begin{tabular}{r|lllllllllllllll}\n",
       "  & Accession & Abundance..Pooled.1 & Abundance..Pooled.2 & Abundance..13..Vehicle & Abundance..15..Vehicle & Abundance..17..Vehicle & Abundance..19..Vehicle & Abundance..21..Vehicle & Abundance..23..Vehicle & Abundance..14..Wood.Smoke & Abundance..16..Wood.Smoke & Abundance..18..Wood.Smoke & Abundance..20..Wood.Smoke & Abundance..22..Wood.Smoke & Abundance..24..Wood.Smoke\\\\\n",
       "  & <chr> & <dbl> & <dbl> & <dbl> & <dbl> & <dbl> & <dbl> & <dbl> & <dbl> & <dbl> & <dbl> & <dbl> & <dbl> & <dbl> & <dbl>\\\\\n",
       "\\hline\n",
       "\t1 & P02751 & 197908273327 & 215449909749 & 290377149672 & 237808533258 & 300713328573 & 246820946145 & 304313034954 & 264966884310 & 243333335207 & 199860505414 & 279706283336 & 225170612912 & 229939459846 & 154501914723\\\\\n",
       "\t2 & P02769 & 342657042076 & 370488835120 & 308967859550 & 242917660277 & 278096520636 & 259674859546 & 291397652436 & 563821412595 & 281882492897 & 732144132018 & 248045691869 & 233383724786 & 349312465553 & 251094645011\\\\\n",
       "\t3 & P07996 &  64580519826 &  73778236233 & 181775619913 & 129485605438 & 169377550217 & 134685992120 & 114143664541 & 249366551496 & 132714564698 & 128084639698 & 112262919453 & 111419806864 &  73857936963 & 108923410421\\\\\n",
       "\t4 & Q2UVX4 &  41255020284 &  45525199756 &  55681501380 &  35618922477 &  44222632333 &  47245712210 &  44043324866 &  75943777589 &  53160804546 &  68298716794 &  48638631002 &  47654755526 &  35704911241 &  52145684636\\\\\n",
       "\t5 & P98160 &  16164372416 &  18035124503 &  20257643320 &  13577050138 &  17442737821 &  24582420164 &  20491703047 &  36081485773 &  20355674908 &  16277580495 &  15654918570 &  19579785521 &  16823558423 &  20030021253\\\\\n",
       "\t6 & P12763 & 180364995691 & 186934859645 & 159857253388 & 143580491033 & 158608208515 & 140452510019 & 145834623969 & 220324446614 & 137520441019 & 237042125375 & 156248949606 & 124984210103 & 171103871588 & 143324724008\\\\\n",
       "\\end{tabular}\n"
      ],
      "text/markdown": [
       "\n",
       "A data.frame: 6 × 15\n",
       "\n",
       "| <!--/--> | Accession &lt;chr&gt; | Abundance..Pooled.1 &lt;dbl&gt; | Abundance..Pooled.2 &lt;dbl&gt; | Abundance..13..Vehicle &lt;dbl&gt; | Abundance..15..Vehicle &lt;dbl&gt; | Abundance..17..Vehicle &lt;dbl&gt; | Abundance..19..Vehicle &lt;dbl&gt; | Abundance..21..Vehicle &lt;dbl&gt; | Abundance..23..Vehicle &lt;dbl&gt; | Abundance..14..Wood.Smoke &lt;dbl&gt; | Abundance..16..Wood.Smoke &lt;dbl&gt; | Abundance..18..Wood.Smoke &lt;dbl&gt; | Abundance..20..Wood.Smoke &lt;dbl&gt; | Abundance..22..Wood.Smoke &lt;dbl&gt; | Abundance..24..Wood.Smoke &lt;dbl&gt; |\n",
       "|---|---|---|---|---|---|---|---|---|---|---|---|---|---|---|---|\n",
       "| 1 | P02751 | 197908273327 | 215449909749 | 290377149672 | 237808533258 | 300713328573 | 246820946145 | 304313034954 | 264966884310 | 243333335207 | 199860505414 | 279706283336 | 225170612912 | 229939459846 | 154501914723 |\n",
       "| 2 | P02769 | 342657042076 | 370488835120 | 308967859550 | 242917660277 | 278096520636 | 259674859546 | 291397652436 | 563821412595 | 281882492897 | 732144132018 | 248045691869 | 233383724786 | 349312465553 | 251094645011 |\n",
       "| 3 | P07996 |  64580519826 |  73778236233 | 181775619913 | 129485605438 | 169377550217 | 134685992120 | 114143664541 | 249366551496 | 132714564698 | 128084639698 | 112262919453 | 111419806864 |  73857936963 | 108923410421 |\n",
       "| 4 | Q2UVX4 |  41255020284 |  45525199756 |  55681501380 |  35618922477 |  44222632333 |  47245712210 |  44043324866 |  75943777589 |  53160804546 |  68298716794 |  48638631002 |  47654755526 |  35704911241 |  52145684636 |\n",
       "| 5 | P98160 |  16164372416 |  18035124503 |  20257643320 |  13577050138 |  17442737821 |  24582420164 |  20491703047 |  36081485773 |  20355674908 |  16277580495 |  15654918570 |  19579785521 |  16823558423 |  20030021253 |\n",
       "| 6 | P12763 | 180364995691 | 186934859645 | 159857253388 | 143580491033 | 158608208515 | 140452510019 | 145834623969 | 220324446614 | 137520441019 | 237042125375 | 156248949606 | 124984210103 | 171103871588 | 143324724008 |\n",
       "\n"
      ],
      "text/plain": [
       "  Accession Abundance..Pooled.1 Abundance..Pooled.2 Abundance..13..Vehicle\n",
       "1 P02751    197908273327        215449909749        290377149672          \n",
       "2 P02769    342657042076        370488835120        308967859550          \n",
       "3 P07996     64580519826         73778236233        181775619913          \n",
       "4 Q2UVX4     41255020284         45525199756         55681501380          \n",
       "5 P98160     16164372416         18035124503         20257643320          \n",
       "6 P12763    180364995691        186934859645        159857253388          \n",
       "  Abundance..15..Vehicle Abundance..17..Vehicle Abundance..19..Vehicle\n",
       "1 237808533258           300713328573           246820946145          \n",
       "2 242917660277           278096520636           259674859546          \n",
       "3 129485605438           169377550217           134685992120          \n",
       "4  35618922477            44222632333            47245712210          \n",
       "5  13577050138            17442737821            24582420164          \n",
       "6 143580491033           158608208515           140452510019          \n",
       "  Abundance..21..Vehicle Abundance..23..Vehicle Abundance..14..Wood.Smoke\n",
       "1 304313034954           264966884310           243333335207             \n",
       "2 291397652436           563821412595           281882492897             \n",
       "3 114143664541           249366551496           132714564698             \n",
       "4  44043324866            75943777589            53160804546             \n",
       "5  20491703047            36081485773            20355674908             \n",
       "6 145834623969           220324446614           137520441019             \n",
       "  Abundance..16..Wood.Smoke Abundance..18..Wood.Smoke Abundance..20..Wood.Smoke\n",
       "1 199860505414              279706283336              225170612912             \n",
       "2 732144132018              248045691869              233383724786             \n",
       "3 128084639698              112262919453              111419806864             \n",
       "4  68298716794               48638631002               47654755526             \n",
       "5  16277580495               15654918570               19579785521             \n",
       "6 237042125375              156248949606              124984210103             \n",
       "  Abundance..22..Wood.Smoke Abundance..24..Wood.Smoke\n",
       "1 229939459846              154501914723             \n",
       "2 349312465553              251094645011             \n",
       "3  73857936963              108923410421             \n",
       "4  35704911241               52145684636             \n",
       "5  16823558423               20030021253             \n",
       "6 171103871588              143324724008             "
      ]
     },
     "metadata": {},
     "output_type": "display_data"
    }
   ],
   "source": [
    "head(identifiers_df)\n",
    "head(set1_proteome_df)\n",
    "head(set2_proteome_df)"
   ]
  },
  {
   "cell_type": "code",
   "execution_count": 3,
   "id": "dedicated-indication",
   "metadata": {},
   "outputs": [
    {
     "data": {
      "text/html": [
       "<table class=\"dataframe\">\n",
       "<caption>A tibble: 6 × 4</caption>\n",
       "<thead>\n",
       "\t<tr><th scope=col>Protein</th><th scope=col>IDs_from_Core</th><th scope=col>Value</th><th scope=col>Set</th></tr>\n",
       "\t<tr><th scope=col>&lt;chr&gt;</th><th scope=col>&lt;chr&gt;</th><th scope=col>&lt;dbl&gt;</th><th scope=col>&lt;chr&gt;</th></tr>\n",
       "</thead>\n",
       "<tbody>\n",
       "\t<tr><td>P02769</td><td>Abundance..Pooled.1  </td><td>4.89e+11</td><td>Set1</td></tr>\n",
       "\t<tr><td>P02769</td><td>Abundance..Pooled.2  </td><td>4.43e+11</td><td>Set1</td></tr>\n",
       "\t<tr><td>P02769</td><td>Abundance..1..Vehicle</td><td>6.26e+11</td><td>Set1</td></tr>\n",
       "\t<tr><td>P02769</td><td>Abundance..3..Vehicle</td><td>4.38e+11</td><td>Set1</td></tr>\n",
       "\t<tr><td>P02769</td><td>Abundance..5..Vehicle</td><td>4.74e+11</td><td>Set1</td></tr>\n",
       "\t<tr><td>P02769</td><td>Abundance..7..Vehicle</td><td>3.40e+11</td><td>Set1</td></tr>\n",
       "</tbody>\n",
       "</table>\n"
      ],
      "text/latex": [
       "A tibble: 6 × 4\n",
       "\\begin{tabular}{llll}\n",
       " Protein & IDs\\_from\\_Core & Value & Set\\\\\n",
       " <chr> & <chr> & <dbl> & <chr>\\\\\n",
       "\\hline\n",
       "\t P02769 & Abundance..Pooled.1   & 4.89e+11 & Set1\\\\\n",
       "\t P02769 & Abundance..Pooled.2   & 4.43e+11 & Set1\\\\\n",
       "\t P02769 & Abundance..1..Vehicle & 6.26e+11 & Set1\\\\\n",
       "\t P02769 & Abundance..3..Vehicle & 4.38e+11 & Set1\\\\\n",
       "\t P02769 & Abundance..5..Vehicle & 4.74e+11 & Set1\\\\\n",
       "\t P02769 & Abundance..7..Vehicle & 3.40e+11 & Set1\\\\\n",
       "\\end{tabular}\n"
      ],
      "text/markdown": [
       "\n",
       "A tibble: 6 × 4\n",
       "\n",
       "| Protein &lt;chr&gt; | IDs_from_Core &lt;chr&gt; | Value &lt;dbl&gt; | Set &lt;chr&gt; |\n",
       "|---|---|---|---|\n",
       "| P02769 | Abundance..Pooled.1   | 4.89e+11 | Set1 |\n",
       "| P02769 | Abundance..Pooled.2   | 4.43e+11 | Set1 |\n",
       "| P02769 | Abundance..1..Vehicle | 6.26e+11 | Set1 |\n",
       "| P02769 | Abundance..3..Vehicle | 4.38e+11 | Set1 |\n",
       "| P02769 | Abundance..5..Vehicle | 4.74e+11 | Set1 |\n",
       "| P02769 | Abundance..7..Vehicle | 3.40e+11 | Set1 |\n",
       "\n"
      ],
      "text/plain": [
       "  Protein IDs_from_Core         Value    Set \n",
       "1 P02769  Abundance..Pooled.1   4.89e+11 Set1\n",
       "2 P02769  Abundance..Pooled.2   4.43e+11 Set1\n",
       "3 P02769  Abundance..1..Vehicle 6.26e+11 Set1\n",
       "4 P02769  Abundance..3..Vehicle 4.38e+11 Set1\n",
       "5 P02769  Abundance..5..Vehicle 4.74e+11 Set1\n",
       "6 P02769  Abundance..7..Vehicle 3.40e+11 Set1"
      ]
     },
     "metadata": {},
     "output_type": "display_data"
    }
   ],
   "source": [
    "#creating 1 proteome df\n",
    "set1_proteome_df = set1_proteome_df %>%\n",
    "    pivot_longer(cols = 2:15, names_to = \"IDs_from_Core\", values_to = \"Value\") %>%\n",
    "    mutate(Set = c(\"Set1\"))\n",
    "\n",
    "set2_proteome_df = set2_proteome_df %>%\n",
    "    pivot_longer(cols = 2:15, names_to = \"IDs_from_Core\", values_to = \"Value\") %>%\n",
    "    mutate(Set = c(\"Set2\"))\n",
    "\n",
    "proteome_df = rbind(set1_proteome_df, set2_proteome_df) %>%\n",
    "    rename(Protein = Accession)\n",
    "head(proteome_df)"
   ]
  },
  {
   "cell_type": "code",
   "execution_count": 4,
   "id": "arctic-nerve",
   "metadata": {},
   "outputs": [
    {
     "name": "stderr",
     "output_type": "stream",
     "text": [
      "Joining, by = c(\"IDs_from_Core\", \"Set\")\n",
      "\n"
     ]
    },
    {
     "data": {
      "text/html": [
       "<table class=\"dataframe\">\n",
       "<caption>A data.frame: 6 × 4</caption>\n",
       "<thead>\n",
       "\t<tr><th></th><th scope=col>ID</th><th scope=col>Set</th><th scope=col>Protein</th><th scope=col>Value</th></tr>\n",
       "\t<tr><th></th><th scope=col>&lt;chr&gt;</th><th scope=col>&lt;chr&gt;</th><th scope=col>&lt;chr&gt;</th><th scope=col>&lt;dbl&gt;</th></tr>\n",
       "</thead>\n",
       "<tbody>\n",
       "\t<tr><th scope=row>1</th><td>CoCulture_PooledSample1</td><td>Set1</td><td>P02769</td><td>4.89e+11</td></tr>\n",
       "\t<tr><th scope=row>2</th><td>CoCulture_PooledSample1</td><td>Set1</td><td>P02751</td><td>2.73e+11</td></tr>\n",
       "\t<tr><th scope=row>3</th><td>CoCulture_PooledSample1</td><td>Set1</td><td>P12763</td><td>2.63e+11</td></tr>\n",
       "\t<tr><th scope=row>4</th><td>CoCulture_PooledSample1</td><td>Set1</td><td>Q2UVX4</td><td>5.65e+10</td></tr>\n",
       "\t<tr><th scope=row>5</th><td>CoCulture_PooledSample1</td><td>Set1</td><td>P98160</td><td>2.27e+10</td></tr>\n",
       "\t<tr><th scope=row>6</th><td>CoCulture_PooledSample1</td><td>Set1</td><td>P12111</td><td>2.15e+10</td></tr>\n",
       "</tbody>\n",
       "</table>\n"
      ],
      "text/latex": [
       "A data.frame: 6 × 4\n",
       "\\begin{tabular}{r|llll}\n",
       "  & ID & Set & Protein & Value\\\\\n",
       "  & <chr> & <chr> & <chr> & <dbl>\\\\\n",
       "\\hline\n",
       "\t1 & CoCulture\\_PooledSample1 & Set1 & P02769 & 4.89e+11\\\\\n",
       "\t2 & CoCulture\\_PooledSample1 & Set1 & P02751 & 2.73e+11\\\\\n",
       "\t3 & CoCulture\\_PooledSample1 & Set1 & P12763 & 2.63e+11\\\\\n",
       "\t4 & CoCulture\\_PooledSample1 & Set1 & Q2UVX4 & 5.65e+10\\\\\n",
       "\t5 & CoCulture\\_PooledSample1 & Set1 & P98160 & 2.27e+10\\\\\n",
       "\t6 & CoCulture\\_PooledSample1 & Set1 & P12111 & 2.15e+10\\\\\n",
       "\\end{tabular}\n"
      ],
      "text/markdown": [
       "\n",
       "A data.frame: 6 × 4\n",
       "\n",
       "| <!--/--> | ID &lt;chr&gt; | Set &lt;chr&gt; | Protein &lt;chr&gt; | Value &lt;dbl&gt; |\n",
       "|---|---|---|---|---|\n",
       "| 1 | CoCulture_PooledSample1 | Set1 | P02769 | 4.89e+11 |\n",
       "| 2 | CoCulture_PooledSample1 | Set1 | P02751 | 2.73e+11 |\n",
       "| 3 | CoCulture_PooledSample1 | Set1 | P12763 | 2.63e+11 |\n",
       "| 4 | CoCulture_PooledSample1 | Set1 | Q2UVX4 | 5.65e+10 |\n",
       "| 5 | CoCulture_PooledSample1 | Set1 | P98160 | 2.27e+10 |\n",
       "| 6 | CoCulture_PooledSample1 | Set1 | P12111 | 2.15e+10 |\n",
       "\n"
      ],
      "text/plain": [
       "  ID                      Set  Protein Value   \n",
       "1 CoCulture_PooledSample1 Set1 P02769  4.89e+11\n",
       "2 CoCulture_PooledSample1 Set1 P02751  2.73e+11\n",
       "3 CoCulture_PooledSample1 Set1 P12763  2.63e+11\n",
       "4 CoCulture_PooledSample1 Set1 Q2UVX4  5.65e+10\n",
       "5 CoCulture_PooledSample1 Set1 P98160  2.27e+10\n",
       "6 CoCulture_PooledSample1 Set1 P12111  2.15e+10"
      ]
     },
     "metadata": {},
     "output_type": "display_data"
    }
   ],
   "source": [
    "#adding in our own ids\n",
    "proteome_df = inner_join(identifiers_df, proteome_df) %>%\n",
    "    select(-IDs_from_Core) %>%\n",
    "    rename(ID = Our_Analysis_ID)\n",
    "head(proteome_df)"
   ]
  },
  {
   "cell_type": "markdown",
   "id": "initial-jesus",
   "metadata": {},
   "source": [
    "# 1. Peptide Normalization\n",
    "\n",
    "Normalize to total amount of peptide per sample: sum the abundance values for each sample, then calculate the median value across all of the summed abundance values, and calculate the ratio\n",
    "\n",
    "MEDIAN OR MAX?"
   ]
  },
  {
   "cell_type": "code",
   "execution_count": 10,
   "id": "quality-malta",
   "metadata": {},
   "outputs": [
    {
     "data": {
      "text/html": [
       "<table class=\"dataframe\">\n",
       "<caption>A grouped_df: 6 × 5</caption>\n",
       "<thead>\n",
       "\t<tr><th scope=col>ID</th><th scope=col>Set</th><th scope=col>Protein</th><th scope=col>Value</th><th scope=col>Norm_Value</th></tr>\n",
       "\t<tr><th scope=col>&lt;chr&gt;</th><th scope=col>&lt;chr&gt;</th><th scope=col>&lt;chr&gt;</th><th scope=col>&lt;dbl&gt;</th><th scope=col>&lt;dbl&gt;</th></tr>\n",
       "</thead>\n",
       "<tbody>\n",
       "\t<tr><td>CoCulture_PooledSample1</td><td>Set1</td><td>P02769</td><td>4.89e+11</td><td>430002659858</td></tr>\n",
       "\t<tr><td>CoCulture_PooledSample1</td><td>Set1</td><td>P02751</td><td>2.73e+11</td><td>240062834645</td></tr>\n",
       "\t<tr><td>CoCulture_PooledSample1</td><td>Set1</td><td>P12763</td><td>2.63e+11</td><td>231269324218</td></tr>\n",
       "\t<tr><td>CoCulture_PooledSample1</td><td>Set1</td><td>Q2UVX4</td><td>5.65e+10</td><td> 49683333910</td></tr>\n",
       "\t<tr><td>CoCulture_PooledSample1</td><td>Set1</td><td>P98160</td><td>2.27e+10</td><td> 19961268668</td></tr>\n",
       "\t<tr><td>CoCulture_PooledSample1</td><td>Set1</td><td>P12111</td><td>2.15e+10</td><td> 18906047417</td></tr>\n",
       "</tbody>\n",
       "</table>\n"
      ],
      "text/latex": [
       "A grouped\\_df: 6 × 5\n",
       "\\begin{tabular}{lllll}\n",
       " ID & Set & Protein & Value & Norm\\_Value\\\\\n",
       " <chr> & <chr> & <chr> & <dbl> & <dbl>\\\\\n",
       "\\hline\n",
       "\t CoCulture\\_PooledSample1 & Set1 & P02769 & 4.89e+11 & 430002659858\\\\\n",
       "\t CoCulture\\_PooledSample1 & Set1 & P02751 & 2.73e+11 & 240062834645\\\\\n",
       "\t CoCulture\\_PooledSample1 & Set1 & P12763 & 2.63e+11 & 231269324218\\\\\n",
       "\t CoCulture\\_PooledSample1 & Set1 & Q2UVX4 & 5.65e+10 &  49683333910\\\\\n",
       "\t CoCulture\\_PooledSample1 & Set1 & P98160 & 2.27e+10 &  19961268668\\\\\n",
       "\t CoCulture\\_PooledSample1 & Set1 & P12111 & 2.15e+10 &  18906047417\\\\\n",
       "\\end{tabular}\n"
      ],
      "text/markdown": [
       "\n",
       "A grouped_df: 6 × 5\n",
       "\n",
       "| ID &lt;chr&gt; | Set &lt;chr&gt; | Protein &lt;chr&gt; | Value &lt;dbl&gt; | Norm_Value &lt;dbl&gt; |\n",
       "|---|---|---|---|---|\n",
       "| CoCulture_PooledSample1 | Set1 | P02769 | 4.89e+11 | 430002659858 |\n",
       "| CoCulture_PooledSample1 | Set1 | P02751 | 2.73e+11 | 240062834645 |\n",
       "| CoCulture_PooledSample1 | Set1 | P12763 | 2.63e+11 | 231269324218 |\n",
       "| CoCulture_PooledSample1 | Set1 | Q2UVX4 | 5.65e+10 |  49683333910 |\n",
       "| CoCulture_PooledSample1 | Set1 | P98160 | 2.27e+10 |  19961268668 |\n",
       "| CoCulture_PooledSample1 | Set1 | P12111 | 2.15e+10 |  18906047417 |\n",
       "\n"
      ],
      "text/plain": [
       "  ID                      Set  Protein Value    Norm_Value  \n",
       "1 CoCulture_PooledSample1 Set1 P02769  4.89e+11 430002659858\n",
       "2 CoCulture_PooledSample1 Set1 P02751  2.73e+11 240062834645\n",
       "3 CoCulture_PooledSample1 Set1 P12763  2.63e+11 231269324218\n",
       "4 CoCulture_PooledSample1 Set1 Q2UVX4  5.65e+10  49683333910\n",
       "5 CoCulture_PooledSample1 Set1 P98160  2.27e+10  19961268668\n",
       "6 CoCulture_PooledSample1 Set1 P12111  2.15e+10  18906047417"
      ]
     },
     "metadata": {},
     "output_type": "display_data"
    }
   ],
   "source": [
    "normalized_df = proteome_df %>%\n",
    "    group_by(Set, ID) %>%\n",
    "    #removing missing data\n",
    "    drop_na() %>%\n",
    "    mutate(Summed_Value = sum(Value)) %>%\n",
    "    #calculating median across all samples but still within each set\n",
    "    ungroup() %>%\n",
    "    group_by(Set) %>%\n",
    "    mutate(Median_of_Sum = median(Summed_Value), Norm_Factor = Summed_Value/ Median_of_Sum, \n",
    "           Norm_Value = Value/Norm_Factor) %>%\n",
    "    select(-c(\"Summed_Value\", \"Median_of_Sum\", \"Norm_Factor\"))\n",
    "head(normalized_df)"
   ]
  },
  {
   "cell_type": "markdown",
   "id": "adolescent-registration",
   "metadata": {},
   "source": [
    "I'm getting values on the same order of magnitude, but not exactly the same as those from Proteome Discoverer."
   ]
  },
  {
   "cell_type": "markdown",
   "id": "cutting-serbia",
   "metadata": {},
   "source": [
    "# 2. Detection Filters (Round 1)\n",
    "\n",
    "1% peptide/ 5% protein FDR, \n",
    "- retain proteins that were identified by at least 2 peptides\n",
    "\n",
    "NUMBER OF PEPTIDES OR NUMBER OF UNIQUE PEPTIDES?"
   ]
  },
  {
   "cell_type": "code",
   "execution_count": null,
   "id": "similar-responsibility",
   "metadata": {},
   "outputs": [],
   "source": []
  },
  {
   "cell_type": "markdown",
   "id": "hispanic-tower",
   "metadata": {},
   "source": [
    "# 3. Log2 Transformation"
   ]
  },
  {
   "cell_type": "code",
   "execution_count": 11,
   "id": "forward-lodging",
   "metadata": {},
   "outputs": [
    {
     "data": {
      "text/html": [
       "<table class=\"dataframe\">\n",
       "<caption>A grouped_df: 6 × 6</caption>\n",
       "<thead>\n",
       "\t<tr><th scope=col>ID</th><th scope=col>Set</th><th scope=col>Protein</th><th scope=col>Value</th><th scope=col>Norm_Value</th><th scope=col>Transformed_Value</th></tr>\n",
       "\t<tr><th scope=col>&lt;chr&gt;</th><th scope=col>&lt;chr&gt;</th><th scope=col>&lt;chr&gt;</th><th scope=col>&lt;dbl&gt;</th><th scope=col>&lt;dbl&gt;</th><th scope=col>&lt;dbl&gt;</th></tr>\n",
       "</thead>\n",
       "<tbody>\n",
       "\t<tr><td>CoCulture_PooledSample1</td><td>Set1</td><td>P02769</td><td>4.89e+11</td><td>430002659858</td><td>38.64555</td></tr>\n",
       "\t<tr><td>CoCulture_PooledSample1</td><td>Set1</td><td>P02751</td><td>2.73e+11</td><td>240062834645</td><td>37.80462</td></tr>\n",
       "\t<tr><td>CoCulture_PooledSample1</td><td>Set1</td><td>P12763</td><td>2.63e+11</td><td>231269324218</td><td>37.75078</td></tr>\n",
       "\t<tr><td>CoCulture_PooledSample1</td><td>Set1</td><td>Q2UVX4</td><td>5.65e+10</td><td> 49683333910</td><td>35.53204</td></tr>\n",
       "\t<tr><td>CoCulture_PooledSample1</td><td>Set1</td><td>P98160</td><td>2.27e+10</td><td> 19961268668</td><td>34.21648</td></tr>\n",
       "\t<tr><td>CoCulture_PooledSample1</td><td>Set1</td><td>P12111</td><td>2.15e+10</td><td> 18906047417</td><td>34.13813</td></tr>\n",
       "</tbody>\n",
       "</table>\n"
      ],
      "text/latex": [
       "A grouped\\_df: 6 × 6\n",
       "\\begin{tabular}{llllll}\n",
       " ID & Set & Protein & Value & Norm\\_Value & Transformed\\_Value\\\\\n",
       " <chr> & <chr> & <chr> & <dbl> & <dbl> & <dbl>\\\\\n",
       "\\hline\n",
       "\t CoCulture\\_PooledSample1 & Set1 & P02769 & 4.89e+11 & 430002659858 & 38.64555\\\\\n",
       "\t CoCulture\\_PooledSample1 & Set1 & P02751 & 2.73e+11 & 240062834645 & 37.80462\\\\\n",
       "\t CoCulture\\_PooledSample1 & Set1 & P12763 & 2.63e+11 & 231269324218 & 37.75078\\\\\n",
       "\t CoCulture\\_PooledSample1 & Set1 & Q2UVX4 & 5.65e+10 &  49683333910 & 35.53204\\\\\n",
       "\t CoCulture\\_PooledSample1 & Set1 & P98160 & 2.27e+10 &  19961268668 & 34.21648\\\\\n",
       "\t CoCulture\\_PooledSample1 & Set1 & P12111 & 2.15e+10 &  18906047417 & 34.13813\\\\\n",
       "\\end{tabular}\n"
      ],
      "text/markdown": [
       "\n",
       "A grouped_df: 6 × 6\n",
       "\n",
       "| ID &lt;chr&gt; | Set &lt;chr&gt; | Protein &lt;chr&gt; | Value &lt;dbl&gt; | Norm_Value &lt;dbl&gt; | Transformed_Value &lt;dbl&gt; |\n",
       "|---|---|---|---|---|---|\n",
       "| CoCulture_PooledSample1 | Set1 | P02769 | 4.89e+11 | 430002659858 | 38.64555 |\n",
       "| CoCulture_PooledSample1 | Set1 | P02751 | 2.73e+11 | 240062834645 | 37.80462 |\n",
       "| CoCulture_PooledSample1 | Set1 | P12763 | 2.63e+11 | 231269324218 | 37.75078 |\n",
       "| CoCulture_PooledSample1 | Set1 | Q2UVX4 | 5.65e+10 |  49683333910 | 35.53204 |\n",
       "| CoCulture_PooledSample1 | Set1 | P98160 | 2.27e+10 |  19961268668 | 34.21648 |\n",
       "| CoCulture_PooledSample1 | Set1 | P12111 | 2.15e+10 |  18906047417 | 34.13813 |\n",
       "\n"
      ],
      "text/plain": [
       "  ID                      Set  Protein Value    Norm_Value   Transformed_Value\n",
       "1 CoCulture_PooledSample1 Set1 P02769  4.89e+11 430002659858 38.64555         \n",
       "2 CoCulture_PooledSample1 Set1 P02751  2.73e+11 240062834645 37.80462         \n",
       "3 CoCulture_PooledSample1 Set1 P12763  2.63e+11 231269324218 37.75078         \n",
       "4 CoCulture_PooledSample1 Set1 Q2UVX4  5.65e+10  49683333910 35.53204         \n",
       "5 CoCulture_PooledSample1 Set1 P98160  2.27e+10  19961268668 34.21648         \n",
       "6 CoCulture_PooledSample1 Set1 P12111  2.15e+10  18906047417 34.13813         "
      ]
     },
     "metadata": {},
     "output_type": "display_data"
    }
   ],
   "source": [
    "transformed_df = normalized_df %>%\n",
    "    mutate(Transformed_Value = log2(Norm_Value))\n",
    "head(transformed_df)"
   ]
  },
  {
   "cell_type": "markdown",
   "id": "broad-garage",
   "metadata": {},
   "source": [
    "# 4. Detection Filters (Round 2)\n",
    "\n",
    "Filter rows based on valid values: 50 % valid in at least one treatment group (i.e. proteins with values observed in fewer than 50% of replicates (here, 3 reps) in at least 1 condition were eliminated from the data set)\n",
    "\n",
    "FROM THE ENTIRE DATASET COMPLETELY OR JUST FOR THAT ID/TREATMENT CONDITION?"
   ]
  },
  {
   "cell_type": "code",
   "execution_count": 17,
   "id": "alert-blame",
   "metadata": {},
   "outputs": [
    {
     "name": "stderr",
     "output_type": "stream",
     "text": [
      "`summarise()` has grouped output by 'Set', 'ID'. You can override using the `.groups` argument.\n",
      "\n"
     ]
    },
    {
     "data": {
      "text/html": [
       "<table class=\"dataframe\">\n",
       "<caption>A grouped_df: 6 × 4</caption>\n",
       "<thead>\n",
       "\t<tr><th scope=col>Set</th><th scope=col>ID</th><th scope=col>Protein</th><th scope=col>ID_Presence</th></tr>\n",
       "\t<tr><th scope=col>&lt;chr&gt;</th><th scope=col>&lt;chr&gt;</th><th scope=col>&lt;chr&gt;</th><th scope=col>&lt;dbl&gt;</th></tr>\n",
       "</thead>\n",
       "<tbody>\n",
       "\t<tr><td>Set1</td><td>CoCulture_Exposed1</td><td>P08727</td><td>50</td></tr>\n",
       "\t<tr><td>Set1</td><td>CoCulture_Exposed2</td><td>P08727</td><td>50</td></tr>\n",
       "\t<tr><td>Set1</td><td>CoCulture_Exposed3</td><td>P08727</td><td>50</td></tr>\n",
       "\t<tr><td>Set1</td><td>CoCulture_Exposed4</td><td>P08727</td><td>50</td></tr>\n",
       "\t<tr><td>Set1</td><td>CoCulture_Exposed5</td><td>P08727</td><td>50</td></tr>\n",
       "\t<tr><td>Set1</td><td>CoCulture_Exposed6</td><td>P08727</td><td>50</td></tr>\n",
       "</tbody>\n",
       "</table>\n"
      ],
      "text/latex": [
       "A grouped\\_df: 6 × 4\n",
       "\\begin{tabular}{llll}\n",
       " Set & ID & Protein & ID\\_Presence\\\\\n",
       " <chr> & <chr> & <chr> & <dbl>\\\\\n",
       "\\hline\n",
       "\t Set1 & CoCulture\\_Exposed1 & P08727 & 50\\\\\n",
       "\t Set1 & CoCulture\\_Exposed2 & P08727 & 50\\\\\n",
       "\t Set1 & CoCulture\\_Exposed3 & P08727 & 50\\\\\n",
       "\t Set1 & CoCulture\\_Exposed4 & P08727 & 50\\\\\n",
       "\t Set1 & CoCulture\\_Exposed5 & P08727 & 50\\\\\n",
       "\t Set1 & CoCulture\\_Exposed6 & P08727 & 50\\\\\n",
       "\\end{tabular}\n"
      ],
      "text/markdown": [
       "\n",
       "A grouped_df: 6 × 4\n",
       "\n",
       "| Set &lt;chr&gt; | ID &lt;chr&gt; | Protein &lt;chr&gt; | ID_Presence &lt;dbl&gt; |\n",
       "|---|---|---|---|\n",
       "| Set1 | CoCulture_Exposed1 | P08727 | 50 |\n",
       "| Set1 | CoCulture_Exposed2 | P08727 | 50 |\n",
       "| Set1 | CoCulture_Exposed3 | P08727 | 50 |\n",
       "| Set1 | CoCulture_Exposed4 | P08727 | 50 |\n",
       "| Set1 | CoCulture_Exposed5 | P08727 | 50 |\n",
       "| Set1 | CoCulture_Exposed6 | P08727 | 50 |\n",
       "\n"
      ],
      "text/plain": [
       "  Set  ID                 Protein ID_Presence\n",
       "1 Set1 CoCulture_Exposed1 P08727  50         \n",
       "2 Set1 CoCulture_Exposed2 P08727  50         \n",
       "3 Set1 CoCulture_Exposed3 P08727  50         \n",
       "4 Set1 CoCulture_Exposed4 P08727  50         \n",
       "5 Set1 CoCulture_Exposed5 P08727  50         \n",
       "6 Set1 CoCulture_Exposed6 P08727  50         "
      ]
     },
     "metadata": {},
     "output_type": "display_data"
    }
   ],
   "source": [
    "detection_filter_2 = proteome_df %>%\n",
    "    #creating 2 count cols: 1st for non-missing data, 2nd for all data\n",
    "    mutate(data_count = ifelse(is.na(Value), 0, 1), all_count = 1) %>%\n",
    "    group_by(Set, ID, Protein) %>%\n",
    "    summarize(ID_Presence = sum(data_count)/ sum(all_count) * 100) %>%\n",
    "    filter(ID_Presence >= 50) %>%\n",
    "    arrange(ID_Presence)\n",
    "\n",
    "head(detection_filter_2)"
   ]
  },
  {
   "cell_type": "markdown",
   "id": "acting-pasta",
   "metadata": {},
   "source": [
    "# 5. Imputation\n",
    "\n",
    "Replacing values with random numbers from a normal distribution."
   ]
  },
  {
   "cell_type": "code",
   "execution_count": 24,
   "id": "alike-socket",
   "metadata": {},
   "outputs": [
    {
     "name": "stderr",
     "output_type": "stream",
     "text": [
      "Joining, by = c(\"Set\", \"ID\", \"Protein\")\n",
      "\n"
     ]
    },
    {
     "data": {
      "text/html": [
       "<table class=\"dataframe\">\n",
       "<caption>A grouped_df: 6 × 6</caption>\n",
       "<thead>\n",
       "\t<tr><th scope=col>Set</th><th scope=col>ID</th><th scope=col>Protein</th><th scope=col>Value</th><th scope=col>Norm_Value</th><th scope=col>Transformed_Value</th></tr>\n",
       "\t<tr><th scope=col>&lt;chr&gt;</th><th scope=col>&lt;chr&gt;</th><th scope=col>&lt;chr&gt;</th><th scope=col>&lt;dbl&gt;</th><th scope=col>&lt;dbl&gt;</th><th scope=col>&lt;dbl&gt;</th></tr>\n",
       "</thead>\n",
       "<tbody>\n",
       "\t<tr><td>Set1</td><td>CoCulture_Exposed1</td><td>P08727</td><td>1.77e+09</td><td>1942579271</td><td>30.85533</td></tr>\n",
       "\t<tr><td>Set1</td><td>CoCulture_Exposed2</td><td>P08727</td><td>2.05e+09</td><td>2001828452</td><td>30.89867</td></tr>\n",
       "\t<tr><td>Set1</td><td>CoCulture_Exposed3</td><td>P08727</td><td>2.48e+09</td><td>2072503163</td><td>30.94873</td></tr>\n",
       "\t<tr><td>Set1</td><td>CoCulture_Exposed4</td><td>P08727</td><td>1.62e+09</td><td>1620000000</td><td>30.59335</td></tr>\n",
       "\t<tr><td>Set1</td><td>CoCulture_Exposed5</td><td>P08727</td><td>1.33e+09</td><td>1488847644</td><td>30.47155</td></tr>\n",
       "\t<tr><td>Set1</td><td>CoCulture_Exposed6</td><td>P08727</td><td>3.31e+09</td><td>2858782937</td><td>31.41275</td></tr>\n",
       "</tbody>\n",
       "</table>\n"
      ],
      "text/latex": [
       "A grouped\\_df: 6 × 6\n",
       "\\begin{tabular}{llllll}\n",
       " Set & ID & Protein & Value & Norm\\_Value & Transformed\\_Value\\\\\n",
       " <chr> & <chr> & <chr> & <dbl> & <dbl> & <dbl>\\\\\n",
       "\\hline\n",
       "\t Set1 & CoCulture\\_Exposed1 & P08727 & 1.77e+09 & 1942579271 & 30.85533\\\\\n",
       "\t Set1 & CoCulture\\_Exposed2 & P08727 & 2.05e+09 & 2001828452 & 30.89867\\\\\n",
       "\t Set1 & CoCulture\\_Exposed3 & P08727 & 2.48e+09 & 2072503163 & 30.94873\\\\\n",
       "\t Set1 & CoCulture\\_Exposed4 & P08727 & 1.62e+09 & 1620000000 & 30.59335\\\\\n",
       "\t Set1 & CoCulture\\_Exposed5 & P08727 & 1.33e+09 & 1488847644 & 30.47155\\\\\n",
       "\t Set1 & CoCulture\\_Exposed6 & P08727 & 3.31e+09 & 2858782937 & 31.41275\\\\\n",
       "\\end{tabular}\n"
      ],
      "text/markdown": [
       "\n",
       "A grouped_df: 6 × 6\n",
       "\n",
       "| Set &lt;chr&gt; | ID &lt;chr&gt; | Protein &lt;chr&gt; | Value &lt;dbl&gt; | Norm_Value &lt;dbl&gt; | Transformed_Value &lt;dbl&gt; |\n",
       "|---|---|---|---|---|---|\n",
       "| Set1 | CoCulture_Exposed1 | P08727 | 1.77e+09 | 1942579271 | 30.85533 |\n",
       "| Set1 | CoCulture_Exposed2 | P08727 | 2.05e+09 | 2001828452 | 30.89867 |\n",
       "| Set1 | CoCulture_Exposed3 | P08727 | 2.48e+09 | 2072503163 | 30.94873 |\n",
       "| Set1 | CoCulture_Exposed4 | P08727 | 1.62e+09 | 1620000000 | 30.59335 |\n",
       "| Set1 | CoCulture_Exposed5 | P08727 | 1.33e+09 | 1488847644 | 30.47155 |\n",
       "| Set1 | CoCulture_Exposed6 | P08727 | 3.31e+09 | 2858782937 | 31.41275 |\n",
       "\n"
      ],
      "text/plain": [
       "  Set  ID                 Protein Value    Norm_Value Transformed_Value\n",
       "1 Set1 CoCulture_Exposed1 P08727  1.77e+09 1942579271 30.85533         \n",
       "2 Set1 CoCulture_Exposed2 P08727  2.05e+09 2001828452 30.89867         \n",
       "3 Set1 CoCulture_Exposed3 P08727  2.48e+09 2072503163 30.94873         \n",
       "4 Set1 CoCulture_Exposed4 P08727  1.62e+09 1620000000 30.59335         \n",
       "5 Set1 CoCulture_Exposed5 P08727  1.33e+09 1488847644 30.47155         \n",
       "6 Set1 CoCulture_Exposed6 P08727  3.31e+09 2858782937 31.41275         "
      ]
     },
     "metadata": {},
     "output_type": "display_data"
    }
   ],
   "source": [
    "#only keeping proteins that based background filter\n",
    "preimputed_df = inner_join(detection_filter_2, transformed_df) %>%\n",
    "   select(-ID_Presence)\n",
    "head(preimputed_df)"
   ]
  },
  {
   "cell_type": "code",
   "execution_count": 22,
   "id": "controversial-blowing",
   "metadata": {},
   "outputs": [
    {
     "data": {
      "text/html": [
       "<table class=\"dataframe\">\n",
       "<caption>A grouped_df: 6 × 6</caption>\n",
       "<thead>\n",
       "\t<tr><th scope=col>ID</th><th scope=col>Set</th><th scope=col>Protein</th><th scope=col>Value</th><th scope=col>Norm_Value</th><th scope=col>Transformed_Value</th></tr>\n",
       "\t<tr><th scope=col>&lt;chr&gt;</th><th scope=col>&lt;chr&gt;</th><th scope=col>&lt;chr&gt;</th><th scope=col>&lt;dbl&gt;</th><th scope=col>&lt;dbl&gt;</th><th scope=col>&lt;dbl&gt;</th></tr>\n",
       "</thead>\n",
       "<tbody>\n",
       "\t<tr><td>CoCulture_PooledSample1</td><td>Set1</td><td>P02769</td><td>4.89e+11</td><td>430002659858</td><td>38.64555</td></tr>\n",
       "\t<tr><td>CoCulture_PooledSample1</td><td>Set1</td><td>P02751</td><td>2.73e+11</td><td>240062834645</td><td>37.80462</td></tr>\n",
       "\t<tr><td>CoCulture_PooledSample1</td><td>Set1</td><td>P12763</td><td>2.63e+11</td><td>231269324218</td><td>37.75078</td></tr>\n",
       "\t<tr><td>CoCulture_PooledSample1</td><td>Set1</td><td>Q2UVX4</td><td>5.65e+10</td><td> 49683333910</td><td>35.53204</td></tr>\n",
       "\t<tr><td>CoCulture_PooledSample1</td><td>Set1</td><td>P98160</td><td>2.27e+10</td><td> 19961268668</td><td>34.21648</td></tr>\n",
       "\t<tr><td>CoCulture_PooledSample1</td><td>Set1</td><td>P12111</td><td>2.15e+10</td><td> 18906047417</td><td>34.13813</td></tr>\n",
       "</tbody>\n",
       "</table>\n"
      ],
      "text/latex": [
       "A grouped\\_df: 6 × 6\n",
       "\\begin{tabular}{llllll}\n",
       " ID & Set & Protein & Value & Norm\\_Value & Transformed\\_Value\\\\\n",
       " <chr> & <chr> & <chr> & <dbl> & <dbl> & <dbl>\\\\\n",
       "\\hline\n",
       "\t CoCulture\\_PooledSample1 & Set1 & P02769 & 4.89e+11 & 430002659858 & 38.64555\\\\\n",
       "\t CoCulture\\_PooledSample1 & Set1 & P02751 & 2.73e+11 & 240062834645 & 37.80462\\\\\n",
       "\t CoCulture\\_PooledSample1 & Set1 & P12763 & 2.63e+11 & 231269324218 & 37.75078\\\\\n",
       "\t CoCulture\\_PooledSample1 & Set1 & Q2UVX4 & 5.65e+10 &  49683333910 & 35.53204\\\\\n",
       "\t CoCulture\\_PooledSample1 & Set1 & P98160 & 2.27e+10 &  19961268668 & 34.21648\\\\\n",
       "\t CoCulture\\_PooledSample1 & Set1 & P12111 & 2.15e+10 &  18906047417 & 34.13813\\\\\n",
       "\\end{tabular}\n"
      ],
      "text/markdown": [
       "\n",
       "A grouped_df: 6 × 6\n",
       "\n",
       "| ID &lt;chr&gt; | Set &lt;chr&gt; | Protein &lt;chr&gt; | Value &lt;dbl&gt; | Norm_Value &lt;dbl&gt; | Transformed_Value &lt;dbl&gt; |\n",
       "|---|---|---|---|---|---|\n",
       "| CoCulture_PooledSample1 | Set1 | P02769 | 4.89e+11 | 430002659858 | 38.64555 |\n",
       "| CoCulture_PooledSample1 | Set1 | P02751 | 2.73e+11 | 240062834645 | 37.80462 |\n",
       "| CoCulture_PooledSample1 | Set1 | P12763 | 2.63e+11 | 231269324218 | 37.75078 |\n",
       "| CoCulture_PooledSample1 | Set1 | Q2UVX4 | 5.65e+10 |  49683333910 | 35.53204 |\n",
       "| CoCulture_PooledSample1 | Set1 | P98160 | 2.27e+10 |  19961268668 | 34.21648 |\n",
       "| CoCulture_PooledSample1 | Set1 | P12111 | 2.15e+10 |  18906047417 | 34.13813 |\n",
       "\n"
      ],
      "text/plain": [
       "  ID                      Set  Protein Value    Norm_Value   Transformed_Value\n",
       "1 CoCulture_PooledSample1 Set1 P02769  4.89e+11 430002659858 38.64555         \n",
       "2 CoCulture_PooledSample1 Set1 P02751  2.73e+11 240062834645 37.80462         \n",
       "3 CoCulture_PooledSample1 Set1 P12763  2.63e+11 231269324218 37.75078         \n",
       "4 CoCulture_PooledSample1 Set1 Q2UVX4  5.65e+10  49683333910 35.53204         \n",
       "5 CoCulture_PooledSample1 Set1 P98160  2.27e+10  19961268668 34.21648         \n",
       "6 CoCulture_PooledSample1 Set1 P12111  2.15e+10  18906047417 34.13813         "
      ]
     },
     "metadata": {},
     "output_type": "display_data"
    }
   ],
   "source": [
    "head(transformed_df)"
   ]
  },
  {
   "cell_type": "code",
   "execution_count": null,
   "id": "meaning-singing",
   "metadata": {},
   "outputs": [],
   "source": []
  }
 ],
 "metadata": {
  "kernelspec": {
   "display_name": "R",
   "language": "R",
   "name": "ir"
  },
  "language_info": {
   "codemirror_mode": "r",
   "file_extension": ".r",
   "mimetype": "text/x-r-source",
   "name": "R",
   "pygments_lexer": "r",
   "version": "4.1.2"
  }
 },
 "nbformat": 4,
 "nbformat_minor": 5
}
