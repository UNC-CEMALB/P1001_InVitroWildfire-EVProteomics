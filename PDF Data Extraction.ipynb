{
 "cells": [
  {
   "cell_type": "code",
   "execution_count": 1,
   "id": "harmful-benchmark",
   "metadata": {},
   "outputs": [
    {
     "name": "stderr",
     "output_type": "stream",
     "text": [
      "── \u001b[1mAttaching packages\u001b[22m ─────────────────────────────────────── tidyverse 1.3.0 ──\n",
      "\n",
      "\u001b[32m✔\u001b[39m \u001b[34mggplot2\u001b[39m 3.3.3     \u001b[32m✔\u001b[39m \u001b[34mpurrr  \u001b[39m 0.3.4\n",
      "\u001b[32m✔\u001b[39m \u001b[34mtibble \u001b[39m 3.0.6     \u001b[32m✔\u001b[39m \u001b[34mdplyr  \u001b[39m 1.0.4\n",
      "\u001b[32m✔\u001b[39m \u001b[34mtidyr  \u001b[39m 1.1.2     \u001b[32m✔\u001b[39m \u001b[34mstringr\u001b[39m 1.4.0\n",
      "\u001b[32m✔\u001b[39m \u001b[34mreadr  \u001b[39m 1.4.0     \u001b[32m✔\u001b[39m \u001b[34mforcats\u001b[39m 0.5.1\n",
      "\n",
      "── \u001b[1mConflicts\u001b[22m ────────────────────────────────────────── tidyverse_conflicts() ──\n",
      "\u001b[31m✖\u001b[39m \u001b[34mdplyr\u001b[39m::\u001b[32mfilter()\u001b[39m masks \u001b[34mstats\u001b[39m::filter()\n",
      "\u001b[31m✖\u001b[39m \u001b[34mdplyr\u001b[39m::\u001b[32mlag()\u001b[39m    masks \u001b[34mstats\u001b[39m::lag()\n",
      "\n",
      "Using poppler version 20.12.1\n",
      "\n",
      "Loading required package: NLP\n",
      "\n",
      "\n",
      "Attaching package: ‘NLP’\n",
      "\n",
      "\n",
      "The following object is masked from ‘package:ggplot2’:\n",
      "\n",
      "    annotate\n",
      "\n",
      "\n"
     ]
    },
    {
     "data": {
      "text/html": [
       "<style>\n",
       ".list-inline {list-style: none; margin:0; padding: 0}\n",
       ".list-inline>li {display: inline-block}\n",
       ".list-inline>li:not(:last-child)::after {content: \"\\00b7\"; padding: 0 .5ex}\n",
       "</style>\n",
       "<ol class=list-inline><li>'20210910_0000_9.3.1._4_size.pdf'</li><li>'20210910_0001_9.3.1._1_size.pdf'</li><li>'20210910_0002_9.3.1._7_size.pdf'</li><li>'20210910_0003_9.3.1._10_size.pdf'</li><li>'20210914_0049_9.3.1_2_size.pdf'</li><li>'20210914_0050_9.3.1_5_size.pdf'</li></ol>\n"
      ],
      "text/latex": [
       "\\begin{enumerate*}\n",
       "\\item '20210910\\_0000\\_9.3.1.\\_4\\_size.pdf'\n",
       "\\item '20210910\\_0001\\_9.3.1.\\_1\\_size.pdf'\n",
       "\\item '20210910\\_0002\\_9.3.1.\\_7\\_size.pdf'\n",
       "\\item '20210910\\_0003\\_9.3.1.\\_10\\_size.pdf'\n",
       "\\item '20210914\\_0049\\_9.3.1\\_2\\_size.pdf'\n",
       "\\item '20210914\\_0050\\_9.3.1\\_5\\_size.pdf'\n",
       "\\end{enumerate*}\n"
      ],
      "text/markdown": [
       "1. '20210910_0000_9.3.1._4_size.pdf'\n",
       "2. '20210910_0001_9.3.1._1_size.pdf'\n",
       "3. '20210910_0002_9.3.1._7_size.pdf'\n",
       "4. '20210910_0003_9.3.1._10_size.pdf'\n",
       "5. '20210914_0049_9.3.1_2_size.pdf'\n",
       "6. '20210914_0050_9.3.1_5_size.pdf'\n",
       "\n",
       "\n"
      ],
      "text/plain": [
       "[1] \"20210910_0000_9.3.1._4_size.pdf\"  \"20210910_0001_9.3.1._1_size.pdf\" \n",
       "[3] \"20210910_0002_9.3.1._7_size.pdf\"  \"20210910_0003_9.3.1._10_size.pdf\"\n",
       "[5] \"20210914_0049_9.3.1_2_size.pdf\"   \"20210914_0050_9.3.1_5_size.pdf\"  "
      ]
     },
     "metadata": {},
     "output_type": "display_data"
    }
   ],
   "source": [
    "setwd('/Users/alexis/University of North Carolina at Chapel Hill/Rager, Julia - CEMALB_DataAnalysisPM/Projects/P1001. InVitroWildfire EVProteomics/P1001.2. Original Data')\n",
    "Output = ('/Users/alexis/University of North Carolina at Chapel Hill/Rager, Julia - CEMALB_DataAnalysisPM/Projects/P1001. InVitroWildfire EVProteomics/P1001.3. Analyses/P1001.3.1. PDF Data Extraction/Output')\n",
    "cur_date = \"011422\"\n",
    "\n",
    "library(tidyverse)\n",
    "library(pdftools)\n",
    "library(tm)\n",
    "\n",
    "#only grabs files ending in \"pdf\"\n",
    "pdf_list = list.files(pattern = \"pdf$\")\n",
    "head(pdf_list)"
   ]
  },
  {
   "cell_type": "markdown",
   "id": "abstract-display",
   "metadata": {},
   "source": [
    "# Data we want to extract:\n",
    "\n",
    "1. Pdf file name as the sample identifier\n",
    "2. Original Concentration\n",
    "3. Some of the ‘X Values’ table listed on the bottom left, specifically the: X10 Concentration, X50 Concentration, X90 Concentration, and Mean Concentration, and StdDev Concentration"
   ]
  },
  {
   "cell_type": "code",
   "execution_count": 2,
   "id": "alpha-hands",
   "metadata": {},
   "outputs": [
    {
     "name": "stderr",
     "output_type": "stream",
     "text": [
      "PDF error: Invalid least number of objects reading page offset hints table\n",
      "\n",
      "PDF error: Invalid least number of objects reading page offset hints table\n",
      "\n",
      "PDF error: Invalid least number of objects reading page offset hints table\n",
      "\n",
      "PDF error: Invalid least number of objects reading page offset hints table\n",
      "\n",
      "PDF error: Invalid least number of objects reading page offset hints table\n",
      "\n",
      "PDF error: Invalid least number of objects reading page offset hints table\n",
      "\n",
      "PDF error: Invalid least number of objects reading page offset hints table\n",
      "\n",
      "PDF error: Invalid least number of objects reading page offset hints table\n",
      "\n",
      "PDF error: Invalid least number of objects reading page offset hints table\n",
      "\n",
      "PDF error: Invalid least number of objects reading page offset hints table\n",
      "\n",
      "PDF error: Invalid least number of objects reading page offset hints table\n",
      "\n",
      "PDF error: Invalid least number of objects reading page offset hints table\n",
      "\n",
      "PDF error: Invalid least number of objects reading page offset hints table\n",
      "\n",
      "PDF error: Invalid least number of objects reading page offset hints table\n",
      "\n",
      "PDF error: Invalid least number of objects reading page offset hints table\n",
      "\n",
      "PDF error: Invalid least number of objects reading page offset hints table\n",
      "\n",
      "PDF error: Invalid least number of objects reading page offset hints table\n",
      "\n",
      "PDF error: Invalid least number of objects reading page offset hints table\n",
      "\n",
      "PDF error: Invalid least number of objects reading page offset hints table\n",
      "\n",
      "PDF error: Invalid least number of objects reading page offset hints table\n",
      "\n",
      "PDF error: Invalid least number of objects reading page offset hints table\n",
      "\n",
      "PDF error: Invalid least number of objects reading page offset hints table\n",
      "\n",
      "PDF error: Invalid least number of objects reading page offset hints table\n",
      "\n",
      "PDF error: Invalid least number of objects reading page offset hints table\n",
      "\n",
      "PDF error: Invalid least number of objects reading page offset hints table\n",
      "\n",
      "PDF error: Invalid least number of objects reading page offset hints table\n",
      "\n",
      "PDF error: Invalid least number of objects reading page offset hints table\n",
      "\n",
      "PDF error: Invalid least number of objects reading page offset hints table\n",
      "\n",
      "PDF error: Invalid least number of objects reading page offset hints table\n",
      "\n",
      "PDF error: Invalid least number of objects reading page offset hints table\n",
      "\n",
      "PDF error: Invalid least number of objects reading page offset hints table\n",
      "\n",
      "PDF error: Invalid least number of objects reading page offset hints table\n",
      "\n",
      "PDF error: Invalid least number of objects reading page offset hints table\n",
      "\n",
      "PDF error: Invalid least number of objects reading page offset hints table\n",
      "\n",
      "PDF error: Invalid least number of objects reading page offset hints table\n",
      "\n",
      "PDF error: Invalid least number of objects reading page offset hints table\n",
      "\n",
      "PDF error: Invalid least number of objects reading page offset hints table\n",
      "\n",
      "PDF error: Invalid least number of objects reading page offset hints table\n",
      "\n",
      "PDF error: Invalid least number of objects reading page offset hints table\n",
      "\n",
      "PDF error: Invalid least number of objects reading page offset hints table\n",
      "\n",
      "PDF error: Invalid least number of objects reading page offset hints table\n",
      "\n",
      "PDF error: Invalid least number of objects reading page offset hints table\n",
      "\n",
      "PDF error: Invalid least number of objects reading page offset hints table\n",
      "\n",
      "PDF error: Invalid least number of objects reading page offset hints table\n",
      "\n",
      "PDF error: Invalid least number of objects reading page offset hints table\n",
      "\n",
      "PDF error: Invalid least number of objects reading page offset hints table\n",
      "\n",
      "PDF error: Invalid least number of objects reading page offset hints table\n",
      "\n",
      "PDF error: Invalid least number of objects reading page offset hints table\n",
      "\n",
      "PDF error: Invalid least number of objects reading page offset hints table\n",
      "\n"
     ]
    }
   ],
   "source": [
    "corpus_raw <- data.frame(\"Sample Identifier\" = c(),\"Text\" = c())\n",
    "\n",
    "for (i in 1:length(pdf_list)){\n",
    "    document_text = pdf_text(paste(pdf_list[i],sep = \"\")) %>% \n",
    "    strsplit(\"\\n\")\n",
    "    \n",
    "        document = data.frame(\"Sample Identifier\" = gsub(x =pdf_list[i],pattern = \".pdf\", replacement = \"\"), \n",
    "        \"Text\" = document_text, stringsAsFactors = FALSE)\n",
    "    \n",
    "    colnames(document) <- c(\"Sample Identifier\", \"Text\")\n",
    "    corpus_raw <- rbind(corpus_raw,document) \n",
    "}\n",
    "\n",
    "#still haven't figured out why there are duplicates\n",
    "corpus_raw = unique(corpus_raw)"
   ]
  },
  {
   "cell_type": "code",
   "execution_count": 3,
   "id": "virtual-extreme",
   "metadata": {},
   "outputs": [
    {
     "data": {
      "text/html": [
       "<table class=\"dataframe\">\n",
       "<caption>A data.frame: 6 × 2</caption>\n",
       "<thead>\n",
       "\t<tr><th></th><th scope=col>Sample Identifier</th><th scope=col>Text</th></tr>\n",
       "\t<tr><th></th><th scope=col>&lt;chr&gt;</th><th scope=col>&lt;chr&gt;</th></tr>\n",
       "</thead>\n",
       "<tbody>\n",
       "\t<tr><th scope=row>1</th><td>20210910_0000_9.3.1._4_size</td><td><span style=white-space:pre-wrap>                                                                                                   Electrophoresis &amp; Brownian Motion</span></td></tr>\n",
       "\t<tr><th scope=row>2</th><td>20210910_0000_9.3.1._4_size</td><td>                                                                                                             Video Analysis         </td></tr>\n",
       "\t<tr><th scope=row>3</th><td>20210910_0000_9.3.1._4_size</td><td>                                                                                                      Laser Scattering Microscopy   </td></tr>\n",
       "\t<tr><th scope=row>4</th><td>20210910_0000_9.3.1._4_size</td><td>                                           www.particle-metrix.de                                                                   </td></tr>\n",
       "\t<tr><th scope=row>5</th><td>20210910_0000_9.3.1._4_size</td><td>                                                                                                                                    </td></tr>\n",
       "\t<tr><th scope=row>6</th><td>20210910_0000_9.3.1._4_size</td><td>                                                                                    Operator (Report): sop_kabanovlab.inst          </td></tr>\n",
       "</tbody>\n",
       "</table>\n"
      ],
      "text/latex": [
       "A data.frame: 6 × 2\n",
       "\\begin{tabular}{r|ll}\n",
       "  & Sample Identifier & Text\\\\\n",
       "  & <chr> & <chr>\\\\\n",
       "\\hline\n",
       "\t1 & 20210910\\_0000\\_9.3.1.\\_4\\_size &                                                                                                    Electrophoresis \\& Brownian Motion\\\\\n",
       "\t2 & 20210910\\_0000\\_9.3.1.\\_4\\_size &                                                                                                              Video Analysis         \\\\\n",
       "\t3 & 20210910\\_0000\\_9.3.1.\\_4\\_size &                                                                                                       Laser Scattering Microscopy   \\\\\n",
       "\t4 & 20210910\\_0000\\_9.3.1.\\_4\\_size &                                            www.particle-metrix.de                                                                   \\\\\n",
       "\t5 & 20210910\\_0000\\_9.3.1.\\_4\\_size &                                                                                                                                     \\\\\n",
       "\t6 & 20210910\\_0000\\_9.3.1.\\_4\\_size &                                                                                     Operator (Report): sop\\_kabanovlab.inst          \\\\\n",
       "\\end{tabular}\n"
      ],
      "text/markdown": [
       "\n",
       "A data.frame: 6 × 2\n",
       "\n",
       "| <!--/--> | Sample Identifier &lt;chr&gt; | Text &lt;chr&gt; |\n",
       "|---|---|---|\n",
       "| 1 | 20210910_0000_9.3.1._4_size |                                                                                                    Electrophoresis &amp; Brownian Motion |\n",
       "| 2 | 20210910_0000_9.3.1._4_size |                                                                                                              Video Analysis          |\n",
       "| 3 | 20210910_0000_9.3.1._4_size |                                                                                                       Laser Scattering Microscopy    |\n",
       "| 4 | 20210910_0000_9.3.1._4_size |                                            www.particle-metrix.de                                                                    |\n",
       "| 5 | 20210910_0000_9.3.1._4_size | <!----> |\n",
       "| 6 | 20210910_0000_9.3.1._4_size |                                                                                     Operator (Report): sop_kabanovlab.inst           |\n",
       "\n"
      ],
      "text/plain": [
       "  Sample Identifier          \n",
       "1 20210910_0000_9.3.1._4_size\n",
       "2 20210910_0000_9.3.1._4_size\n",
       "3 20210910_0000_9.3.1._4_size\n",
       "4 20210910_0000_9.3.1._4_size\n",
       "5 20210910_0000_9.3.1._4_size\n",
       "6 20210910_0000_9.3.1._4_size\n",
       "  Text                                                                                                                                \n",
       "1                                                                                                    Electrophoresis & Brownian Motion\n",
       "2                                                                                                              Video Analysis         \n",
       "3                                                                                                       Laser Scattering Microscopy   \n",
       "4                                            www.particle-metrix.de                                                                   \n",
       "5                                                                                                                                     \n",
       "6                                                                                     Operator (Report): sop_kabanovlab.inst          "
      ]
     },
     "metadata": {},
     "output_type": "display_data"
    }
   ],
   "source": [
    "head(corpus_raw)"
   ]
  },
  {
   "cell_type": "code",
   "execution_count": 4,
   "id": "smooth-linux",
   "metadata": {},
   "outputs": [
    {
     "data": {
      "text/html": [
       "<table class=\"dataframe\">\n",
       "<caption>A data.frame: 6 × 2</caption>\n",
       "<thead>\n",
       "\t<tr><th></th><th scope=col>Sample Identifier</th><th scope=col>Original Concentration (Particles/ mL)</th></tr>\n",
       "\t<tr><th></th><th scope=col>&lt;chr&gt;</th><th scope=col>&lt;chr&gt;</th></tr>\n",
       "</thead>\n",
       "<tbody>\n",
       "\t<tr><th scope=row>1</th><td>20210910_0000_9.3.1._4_size </td><td>       4.9E+9 </td></tr>\n",
       "\t<tr><th scope=row>2</th><td>20210910_0001_9.3.1._1_size </td><td>       3.1E+9 </td></tr>\n",
       "\t<tr><th scope=row>3</th><td>20210910_0002_9.3.1._7_size </td><td>       2.2E+9 </td></tr>\n",
       "\t<tr><th scope=row>4</th><td>20210910_0003_9.3.1._10_size</td><td>       1.3E+9 </td></tr>\n",
       "\t<tr><th scope=row>5</th><td>20210914_0049_9.3.1_2_size  </td><td>       1.8E+9 </td></tr>\n",
       "\t<tr><th scope=row>6</th><td>20210914_0050_9.3.1_5_size  </td><td>       NaN    </td></tr>\n",
       "</tbody>\n",
       "</table>\n"
      ],
      "text/latex": [
       "A data.frame: 6 × 2\n",
       "\\begin{tabular}{r|ll}\n",
       "  & Sample Identifier & Original Concentration (Particles/ mL)\\\\\n",
       "  & <chr> & <chr>\\\\\n",
       "\\hline\n",
       "\t1 & 20210910\\_0000\\_9.3.1.\\_4\\_size  &        4.9E+9 \\\\\n",
       "\t2 & 20210910\\_0001\\_9.3.1.\\_1\\_size  &        3.1E+9 \\\\\n",
       "\t3 & 20210910\\_0002\\_9.3.1.\\_7\\_size  &        2.2E+9 \\\\\n",
       "\t4 & 20210910\\_0003\\_9.3.1.\\_10\\_size &        1.3E+9 \\\\\n",
       "\t5 & 20210914\\_0049\\_9.3.1\\_2\\_size   &        1.8E+9 \\\\\n",
       "\t6 & 20210914\\_0050\\_9.3.1\\_5\\_size   &        NaN    \\\\\n",
       "\\end{tabular}\n"
      ],
      "text/markdown": [
       "\n",
       "A data.frame: 6 × 2\n",
       "\n",
       "| <!--/--> | Sample Identifier &lt;chr&gt; | Original Concentration (Particles/ mL) &lt;chr&gt; |\n",
       "|---|---|---|\n",
       "| 1 | 20210910_0000_9.3.1._4_size  |        4.9E+9  |\n",
       "| 2 | 20210910_0001_9.3.1._1_size  |        3.1E+9  |\n",
       "| 3 | 20210910_0002_9.3.1._7_size  |        2.2E+9  |\n",
       "| 4 | 20210910_0003_9.3.1._10_size |        1.3E+9  |\n",
       "| 5 | 20210914_0049_9.3.1_2_size   |        1.8E+9  |\n",
       "| 6 | 20210914_0050_9.3.1_5_size   |        NaN     |\n",
       "\n"
      ],
      "text/plain": [
       "  Sample Identifier            Original Concentration (Particles/ mL)\n",
       "1 20210910_0000_9.3.1._4_size         4.9E+9                         \n",
       "2 20210910_0001_9.3.1._1_size         3.1E+9                         \n",
       "3 20210910_0002_9.3.1._7_size         2.2E+9                         \n",
       "4 20210910_0003_9.3.1._10_size        1.3E+9                         \n",
       "5 20210914_0049_9.3.1_2_size          1.8E+9                         \n",
       "6 20210914_0050_9.3.1_5_size          NaN                            "
      ]
     },
     "metadata": {},
     "output_type": "display_data"
    }
   ],
   "source": [
    "OG_concentration_df = corpus_raw %>%\n",
    "    filter(grepl(\"Original Concentration\", Text)) %>%\n",
    "    separate(Text, c(NA, \"Original Concentration\"), sep = \": \") %>%\n",
    "    separate(`Original Concentration`, c(\"Original Concentration (Particles/ mL)\", NA), sep = \"P\")\n",
    "head(OG_concentration_df)"
   ]
  },
  {
   "cell_type": "code",
   "execution_count": 5,
   "id": "reliable-forum",
   "metadata": {},
   "outputs": [
    {
     "name": "stderr",
     "output_type": "stream",
     "text": [
      "Warning message:\n",
      "“Expected 2 pieces. Missing pieces filled with `NA` in 4 rows [26, 27, 28, 29].”\n",
      "Warning message:\n",
      "“Expected 2 pieces. Missing pieces filled with `NA` in 4 rows [26, 27, 28, 29].”\n"
     ]
    },
    {
     "data": {
      "text/html": [
       "<table class=\"dataframe\">\n",
       "<caption>A tibble: 6 × 6</caption>\n",
       "<thead>\n",
       "\t<tr><th scope=col>Sample Identifier</th><th scope=col>   X10</th><th scope=col>   X50</th><th scope=col>   X90</th><th scope=col> Mean</th><th scope=col>StdDev</th></tr>\n",
       "\t<tr><th scope=col>&lt;chr&gt;</th><th scope=col>&lt;chr&gt;</th><th scope=col>&lt;chr&gt;</th><th scope=col>&lt;chr&gt;</th><th scope=col>&lt;chr&gt;</th><th scope=col>&lt;chr&gt;</th></tr>\n",
       "</thead>\n",
       "<tbody>\n",
       "\t<tr><td>20210910_0000_9.3.1._4_size </td><td>     57.3</td><td>    127.2</td><td>    270.8</td><td>     162.6</td><td>     90.1</td></tr>\n",
       "\t<tr><td>20210910_0001_9.3.1._1_size </td><td>     63.2</td><td>    121.1</td><td>    247.7</td><td>     159.3</td><td>     84.6</td></tr>\n",
       "\t<tr><td>20210910_0002_9.3.1._7_size </td><td>     72.9</td><td>    150.0</td><td>    297.0</td><td>     181.3</td><td>     84.3</td></tr>\n",
       "\t<tr><td>20210910_0003_9.3.1._10_size</td><td>     59.2</td><td>    152.0</td><td>    304.5</td><td>     190.9</td><td>    109.2</td></tr>\n",
       "\t<tr><td>20210914_0049_9.3.1_2_size  </td><td>     72.0</td><td>    115.8</td><td>    216.6</td><td>     135.3</td><td>     59.3</td></tr>\n",
       "\t<tr><td>20210914_0050_9.3.1_5_size  </td><td>NA       </td><td>NA       </td><td>NA       </td><td>NA        </td><td>NA       </td></tr>\n",
       "</tbody>\n",
       "</table>\n"
      ],
      "text/latex": [
       "A tibble: 6 × 6\n",
       "\\begin{tabular}{llllll}\n",
       " Sample Identifier &    X10 &    X50 &    X90 &  Mean & StdDev\\\\\n",
       " <chr> & <chr> & <chr> & <chr> & <chr> & <chr>\\\\\n",
       "\\hline\n",
       "\t 20210910\\_0000\\_9.3.1.\\_4\\_size  &      57.3 &     127.2 &     270.8 &      162.6 &      90.1\\\\\n",
       "\t 20210910\\_0001\\_9.3.1.\\_1\\_size  &      63.2 &     121.1 &     247.7 &      159.3 &      84.6\\\\\n",
       "\t 20210910\\_0002\\_9.3.1.\\_7\\_size  &      72.9 &     150.0 &     297.0 &      181.3 &      84.3\\\\\n",
       "\t 20210910\\_0003\\_9.3.1.\\_10\\_size &      59.2 &     152.0 &     304.5 &      190.9 &     109.2\\\\\n",
       "\t 20210914\\_0049\\_9.3.1\\_2\\_size   &      72.0 &     115.8 &     216.6 &      135.3 &      59.3\\\\\n",
       "\t 20210914\\_0050\\_9.3.1\\_5\\_size   & NA        & NA        & NA        & NA         & NA       \\\\\n",
       "\\end{tabular}\n"
      ],
      "text/markdown": [
       "\n",
       "A tibble: 6 × 6\n",
       "\n",
       "| Sample Identifier &lt;chr&gt; |    X10 &lt;chr&gt; |    X50 &lt;chr&gt; |    X90 &lt;chr&gt; |  Mean &lt;chr&gt; | StdDev &lt;chr&gt; |\n",
       "|---|---|---|---|---|---|\n",
       "| 20210910_0000_9.3.1._4_size  |      57.3 |     127.2 |     270.8 |      162.6 |      90.1 |\n",
       "| 20210910_0001_9.3.1._1_size  |      63.2 |     121.1 |     247.7 |      159.3 |      84.6 |\n",
       "| 20210910_0002_9.3.1._7_size  |      72.9 |     150.0 |     297.0 |      181.3 |      84.3 |\n",
       "| 20210910_0003_9.3.1._10_size |      59.2 |     152.0 |     304.5 |      190.9 |     109.2 |\n",
       "| 20210914_0049_9.3.1_2_size   |      72.0 |     115.8 |     216.6 |      135.3 |      59.3 |\n",
       "| 20210914_0050_9.3.1_5_size   | NA        | NA        | NA        | NA         | NA        |\n",
       "\n"
      ],
      "text/plain": [
       "  Sample Identifier               X10       X50       X90     Mean     \n",
       "1 20210910_0000_9.3.1._4_size       57.3     127.2     270.8      162.6\n",
       "2 20210910_0001_9.3.1._1_size       63.2     121.1     247.7      159.3\n",
       "3 20210910_0002_9.3.1._7_size       72.9     150.0     297.0      181.3\n",
       "4 20210910_0003_9.3.1._10_size      59.2     152.0     304.5      190.9\n",
       "5 20210914_0049_9.3.1_2_size        72.0     115.8     216.6      135.3\n",
       "6 20210914_0050_9.3.1_5_size   NA        NA        NA        NA        \n",
       "  StdDev   \n",
       "1      90.1\n",
       "2      84.6\n",
       "3      84.3\n",
       "4     109.2\n",
       "5      59.3\n",
       "6 NA       "
      ]
     },
     "metadata": {},
     "output_type": "display_data"
    }
   ],
   "source": [
    "X_concentration_df = corpus_raw %>%\n",
    "    filter(grepl(\"X10\", Text)| grepl(\"X50 \", Text)| grepl(\"X90\", Text) | grepl(\"Mean\", Text)| grepl(\"StdDev\", Text)) %>%\n",
    "    separate(Text, c(\"Text\", NA), sep = \"                \") %>%\n",
    "    separate(Text, c(\"Text\", \"Concentration\"), sep = \"      \") %>%\n",
    "    pivot_wider(names_from = Text, values_from = Concentration)\n",
    "head(X_concentration_df)"
   ]
  },
  {
   "cell_type": "code",
   "execution_count": 6,
   "id": "friendly-effects",
   "metadata": {},
   "outputs": [
    {
     "name": "stderr",
     "output_type": "stream",
     "text": [
      "Joining, by = \"Sample Identifier\"\n",
      "\n"
     ]
    },
    {
     "data": {
      "text/html": [
       "<table class=\"dataframe\">\n",
       "<caption>A data.frame: 6 × 7</caption>\n",
       "<thead>\n",
       "\t<tr><th></th><th scope=col>Sample Identifier</th><th scope=col>Original Concentration (Particles/ mL)</th><th scope=col>   X10</th><th scope=col>   X50</th><th scope=col>   X90</th><th scope=col> Mean</th><th scope=col>StdDev</th></tr>\n",
       "\t<tr><th></th><th scope=col>&lt;chr&gt;</th><th scope=col>&lt;chr&gt;</th><th scope=col>&lt;chr&gt;</th><th scope=col>&lt;chr&gt;</th><th scope=col>&lt;chr&gt;</th><th scope=col>&lt;chr&gt;</th><th scope=col>&lt;chr&gt;</th></tr>\n",
       "</thead>\n",
       "<tbody>\n",
       "\t<tr><th scope=row>1</th><td>20210910_0000_9.3.1._4_size </td><td>       4.9E+9 </td><td>     57.3</td><td>    127.2</td><td>    270.8</td><td>     162.6</td><td>     90.1</td></tr>\n",
       "\t<tr><th scope=row>2</th><td>20210910_0001_9.3.1._1_size </td><td>       3.1E+9 </td><td>     63.2</td><td>    121.1</td><td>    247.7</td><td>     159.3</td><td>     84.6</td></tr>\n",
       "\t<tr><th scope=row>3</th><td>20210910_0002_9.3.1._7_size </td><td>       2.2E+9 </td><td>     72.9</td><td>    150.0</td><td>    297.0</td><td>     181.3</td><td>     84.3</td></tr>\n",
       "\t<tr><th scope=row>4</th><td>20210910_0003_9.3.1._10_size</td><td>       1.3E+9 </td><td>     59.2</td><td>    152.0</td><td>    304.5</td><td>     190.9</td><td>    109.2</td></tr>\n",
       "\t<tr><th scope=row>5</th><td>20210914_0049_9.3.1_2_size  </td><td>       1.8E+9 </td><td>     72.0</td><td>    115.8</td><td>    216.6</td><td>     135.3</td><td>     59.3</td></tr>\n",
       "\t<tr><th scope=row>6</th><td>20210914_0050_9.3.1_5_size  </td><td>       NaN    </td><td>NA       </td><td>NA       </td><td>NA       </td><td>NA        </td><td>NA       </td></tr>\n",
       "</tbody>\n",
       "</table>\n"
      ],
      "text/latex": [
       "A data.frame: 6 × 7\n",
       "\\begin{tabular}{r|lllllll}\n",
       "  & Sample Identifier & Original Concentration (Particles/ mL) &    X10 &    X50 &    X90 &  Mean & StdDev\\\\\n",
       "  & <chr> & <chr> & <chr> & <chr> & <chr> & <chr> & <chr>\\\\\n",
       "\\hline\n",
       "\t1 & 20210910\\_0000\\_9.3.1.\\_4\\_size  &        4.9E+9  &      57.3 &     127.2 &     270.8 &      162.6 &      90.1\\\\\n",
       "\t2 & 20210910\\_0001\\_9.3.1.\\_1\\_size  &        3.1E+9  &      63.2 &     121.1 &     247.7 &      159.3 &      84.6\\\\\n",
       "\t3 & 20210910\\_0002\\_9.3.1.\\_7\\_size  &        2.2E+9  &      72.9 &     150.0 &     297.0 &      181.3 &      84.3\\\\\n",
       "\t4 & 20210910\\_0003\\_9.3.1.\\_10\\_size &        1.3E+9  &      59.2 &     152.0 &     304.5 &      190.9 &     109.2\\\\\n",
       "\t5 & 20210914\\_0049\\_9.3.1\\_2\\_size   &        1.8E+9  &      72.0 &     115.8 &     216.6 &      135.3 &      59.3\\\\\n",
       "\t6 & 20210914\\_0050\\_9.3.1\\_5\\_size   &        NaN     & NA        & NA        & NA        & NA         & NA       \\\\\n",
       "\\end{tabular}\n"
      ],
      "text/markdown": [
       "\n",
       "A data.frame: 6 × 7\n",
       "\n",
       "| <!--/--> | Sample Identifier &lt;chr&gt; | Original Concentration (Particles/ mL) &lt;chr&gt; |    X10 &lt;chr&gt; |    X50 &lt;chr&gt; |    X90 &lt;chr&gt; |  Mean &lt;chr&gt; | StdDev &lt;chr&gt; |\n",
       "|---|---|---|---|---|---|---|---|\n",
       "| 1 | 20210910_0000_9.3.1._4_size  |        4.9E+9  |      57.3 |     127.2 |     270.8 |      162.6 |      90.1 |\n",
       "| 2 | 20210910_0001_9.3.1._1_size  |        3.1E+9  |      63.2 |     121.1 |     247.7 |      159.3 |      84.6 |\n",
       "| 3 | 20210910_0002_9.3.1._7_size  |        2.2E+9  |      72.9 |     150.0 |     297.0 |      181.3 |      84.3 |\n",
       "| 4 | 20210910_0003_9.3.1._10_size |        1.3E+9  |      59.2 |     152.0 |     304.5 |      190.9 |     109.2 |\n",
       "| 5 | 20210914_0049_9.3.1_2_size   |        1.8E+9  |      72.0 |     115.8 |     216.6 |      135.3 |      59.3 |\n",
       "| 6 | 20210914_0050_9.3.1_5_size   |        NaN     | NA        | NA        | NA        | NA         | NA        |\n",
       "\n"
      ],
      "text/plain": [
       "  Sample Identifier            Original Concentration (Particles/ mL)    X10   \n",
       "1 20210910_0000_9.3.1._4_size         4.9E+9                               57.3\n",
       "2 20210910_0001_9.3.1._1_size         3.1E+9                               63.2\n",
       "3 20210910_0002_9.3.1._7_size         2.2E+9                               72.9\n",
       "4 20210910_0003_9.3.1._10_size        1.3E+9                               59.2\n",
       "5 20210914_0049_9.3.1_2_size          1.8E+9                               72.0\n",
       "6 20210914_0050_9.3.1_5_size          NaN                             NA       \n",
       "     X50       X90     Mean      StdDev   \n",
       "1     127.2     270.8      162.6      90.1\n",
       "2     121.1     247.7      159.3      84.6\n",
       "3     150.0     297.0      181.3      84.3\n",
       "4     152.0     304.5      190.9     109.2\n",
       "5     115.8     216.6      135.3      59.3\n",
       "6 NA        NA        NA         NA       "
      ]
     },
     "metadata": {},
     "output_type": "display_data"
    }
   ],
   "source": [
    "#combining into one final df\n",
    "final_df = full_join(OG_concentration_df, X_concentration_df)\n",
    "head(final_df)"
   ]
  },
  {
   "cell_type": "code",
   "execution_count": 7,
   "id": "crazy-glossary",
   "metadata": {},
   "outputs": [],
   "source": [
    "#exporting data\n",
    "write.csv(final_df, paste0(Output,\"/\", cur_date, \"_Final_PDF_Data.csv\"), row.names = FALSE)"
   ]
  }
 ],
 "metadata": {
  "kernelspec": {
   "display_name": "R",
   "language": "R",
   "name": "ir"
  },
  "language_info": {
   "codemirror_mode": "r",
   "file_extension": ".r",
   "mimetype": "text/x-r-source",
   "name": "R",
   "pygments_lexer": "r",
   "version": "3.6.3"
  }
 },
 "nbformat": 4,
 "nbformat_minor": 5
}
