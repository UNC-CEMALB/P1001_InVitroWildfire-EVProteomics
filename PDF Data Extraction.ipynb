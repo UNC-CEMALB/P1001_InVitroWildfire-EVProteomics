{
 "cells": [
  {
   "cell_type": "code",
   "execution_count": 1,
   "id": "harmful-benchmark",
   "metadata": {},
   "outputs": [
    {
     "name": "stderr",
     "output_type": "stream",
     "text": [
      "── \u001b[1mAttaching packages\u001b[22m ─────────────────────────────────────── tidyverse 1.3.0 ──\n",
      "\n",
      "\u001b[32m✔\u001b[39m \u001b[34mggplot2\u001b[39m 3.3.3     \u001b[32m✔\u001b[39m \u001b[34mpurrr  \u001b[39m 0.3.4\n",
      "\u001b[32m✔\u001b[39m \u001b[34mtibble \u001b[39m 3.0.6     \u001b[32m✔\u001b[39m \u001b[34mdplyr  \u001b[39m 1.0.4\n",
      "\u001b[32m✔\u001b[39m \u001b[34mtidyr  \u001b[39m 1.1.2     \u001b[32m✔\u001b[39m \u001b[34mstringr\u001b[39m 1.4.0\n",
      "\u001b[32m✔\u001b[39m \u001b[34mreadr  \u001b[39m 1.4.0     \u001b[32m✔\u001b[39m \u001b[34mforcats\u001b[39m 0.5.1\n",
      "\n",
      "── \u001b[1mConflicts\u001b[22m ────────────────────────────────────────── tidyverse_conflicts() ──\n",
      "\u001b[31m✖\u001b[39m \u001b[34mdplyr\u001b[39m::\u001b[32mfilter()\u001b[39m masks \u001b[34mstats\u001b[39m::filter()\n",
      "\u001b[31m✖\u001b[39m \u001b[34mdplyr\u001b[39m::\u001b[32mlag()\u001b[39m    masks \u001b[34mstats\u001b[39m::lag()\n",
      "\n",
      "Using poppler version 20.12.1\n",
      "\n",
      "Loading required package: NLP\n",
      "\n",
      "\n",
      "Attaching package: ‘NLP’\n",
      "\n",
      "\n",
      "The following object is masked from ‘package:ggplot2’:\n",
      "\n",
      "    annotate\n",
      "\n",
      "\n"
     ]
    },
    {
     "data": {
      "text/html": [
       "<style>\n",
       ".list-inline {list-style: none; margin:0; padding: 0}\n",
       ".list-inline>li {display: inline-block}\n",
       ".list-inline>li:not(:last-child)::after {content: \"\\00b7\"; padding: 0 .5ex}\n",
       "</style>\n",
       "<ol class=list-inline><li>'20211018_0002_9.2.1_84_200_size.pdf'</li><li>'20211018_0003_9.2.1_95_200_size.pdf'</li><li>'20211018_0004_9.2.1_101_200_size.pdf'</li><li>'20211018_0005_9.2.1_109_2000_size.pdf'</li><li>'20211018_0006_9.2.1_124_2000_size.pdf'</li><li>'20211018_0007_9.2.1_125_2000_size.pdf'</li></ol>\n"
      ],
      "text/latex": [
       "\\begin{enumerate*}\n",
       "\\item '20211018\\_0002\\_9.2.1\\_84\\_200\\_size.pdf'\n",
       "\\item '20211018\\_0003\\_9.2.1\\_95\\_200\\_size.pdf'\n",
       "\\item '20211018\\_0004\\_9.2.1\\_101\\_200\\_size.pdf'\n",
       "\\item '20211018\\_0005\\_9.2.1\\_109\\_2000\\_size.pdf'\n",
       "\\item '20211018\\_0006\\_9.2.1\\_124\\_2000\\_size.pdf'\n",
       "\\item '20211018\\_0007\\_9.2.1\\_125\\_2000\\_size.pdf'\n",
       "\\end{enumerate*}\n"
      ],
      "text/markdown": [
       "1. '20211018_0002_9.2.1_84_200_size.pdf'\n",
       "2. '20211018_0003_9.2.1_95_200_size.pdf'\n",
       "3. '20211018_0004_9.2.1_101_200_size.pdf'\n",
       "4. '20211018_0005_9.2.1_109_2000_size.pdf'\n",
       "5. '20211018_0006_9.2.1_124_2000_size.pdf'\n",
       "6. '20211018_0007_9.2.1_125_2000_size.pdf'\n",
       "\n",
       "\n"
      ],
      "text/plain": [
       "[1] \"20211018_0002_9.2.1_84_200_size.pdf\"  \n",
       "[2] \"20211018_0003_9.2.1_95_200_size.pdf\"  \n",
       "[3] \"20211018_0004_9.2.1_101_200_size.pdf\" \n",
       "[4] \"20211018_0005_9.2.1_109_2000_size.pdf\"\n",
       "[5] \"20211018_0006_9.2.1_124_2000_size.pdf\"\n",
       "[6] \"20211018_0007_9.2.1_125_2000_size.pdf\""
      ]
     },
     "metadata": {},
     "output_type": "display_data"
    }
   ],
   "source": [
    "setwd('/Users/alexis/University of North Carolina at Chapel Hill/Rager, Julia - CEMALB_DataAnalysisPM/Projects/P1. InVitroWildfire EVProteomics/P1.2. Original Data')\n",
    "Output = ('/Users/alexis/University of North Carolina at Chapel Hill/Rager, Julia - CEMALB_DataAnalysisPM/Projects/P1. InVitroWildfire EVProteomics/P1.3. Analyses/P1.3.1. PDF Data Extraction/Output')\n",
    "cur_date = \"011122\"\n",
    "\n",
    "library(tidyverse)\n",
    "# library(reshape2)\n",
    "library(pdftools)\n",
    "library(tm)\n",
    "\n",
    "#only grabs files ending in \"pdf\"\n",
    "all_files = list.files(pattern = \"pdf$\")\n",
    "head(all_files)"
   ]
  },
  {
   "cell_type": "code",
   "execution_count": 12,
   "id": "angry-michigan",
   "metadata": {},
   "outputs": [
    {
     "data": {
      "text/html": [
       "1"
      ],
      "text/latex": [
       "1"
      ],
      "text/markdown": [
       "1"
      ],
      "text/plain": [
       "[1] 1"
      ]
     },
     "metadata": {},
     "output_type": "display_data"
    }
   ],
   "source": [
    "c = \"Original Concentration\"\n",
    "length(c)"
   ]
  },
  {
   "cell_type": "code",
   "execution_count": 14,
   "id": "welsh-closer",
   "metadata": {},
   "outputs": [
    {
     "name": "stderr",
     "output_type": "stream",
     "text": [
      "PDF error: Invalid least number of objects reading page offset hints table\n",
      "\n"
     ]
    },
    {
     "name": "stdout",
     "output_type": "stream",
     "text": [
      "[1] 1\n"
     ]
    },
    {
     "name": "stderr",
     "output_type": "stream",
     "text": [
      "PDF error: Invalid least number of objects reading page offset hints table\n",
      "\n",
      "PDF error: Invalid least number of objects reading page offset hints table\n",
      "\n",
      "PDF error: Invalid least number of objects reading page offset hints table\n",
      "\n",
      "PDF error: Invalid least number of objects reading page offset hints table\n",
      "\n",
      "PDF error: Invalid least number of objects reading page offset hints table\n",
      "\n",
      "PDF error: Invalid least number of objects reading page offset hints table\n",
      "\n",
      "PDF error: Invalid least number of objects reading page offset hints table\n",
      "\n",
      "PDF error: Invalid least number of objects reading page offset hints table\n",
      "\n",
      "PDF error: Invalid least number of objects reading page offset hints table\n",
      "\n",
      "PDF error: Invalid least number of objects reading page offset hints table\n",
      "\n",
      "PDF error: Invalid least number of objects reading page offset hints table\n",
      "\n",
      "PDF error: Invalid least number of objects reading page offset hints table\n",
      "\n",
      "PDF error: Invalid least number of objects reading page offset hints table\n",
      "\n",
      "PDF error: Invalid least number of objects reading page offset hints table\n",
      "\n",
      "PDF error: Invalid least number of objects reading page offset hints table\n",
      "\n",
      "PDF error: Invalid least number of objects reading page offset hints table\n",
      "\n",
      "PDF error: Invalid least number of objects reading page offset hints table\n",
      "\n",
      "PDF error: Invalid least number of objects reading page offset hints table\n",
      "\n",
      "PDF error: Invalid least number of objects reading page offset hints table\n",
      "\n",
      "PDF error: Invalid least number of objects reading page offset hints table\n",
      "\n",
      "PDF error: Invalid least number of objects reading page offset hints table\n",
      "\n",
      "PDF error: Invalid least number of objects reading page offset hints table\n",
      "\n",
      "PDF error: Invalid least number of objects reading page offset hints table\n",
      "\n",
      "PDF error: Invalid least number of objects reading page offset hints table\n",
      "\n",
      "PDF error: Invalid least number of objects reading page offset hints table\n",
      "\n",
      "PDF error: Invalid least number of objects reading page offset hints table\n",
      "\n",
      "PDF error: Invalid least number of objects reading page offset hints table\n",
      "\n",
      "PDF error: Invalid least number of objects reading page offset hints table\n",
      "\n",
      "PDF error: Invalid least number of objects reading page offset hints table\n",
      "\n",
      "PDF error: Invalid least number of objects reading page offset hints table\n",
      "\n",
      "PDF error: Invalid least number of objects reading page offset hints table\n",
      "\n",
      "PDF error: Invalid least number of objects reading page offset hints table\n",
      "\n",
      "PDF error: Invalid least number of objects reading page offset hints table\n",
      "\n",
      "PDF error: Invalid least number of objects reading page offset hints table\n",
      "\n",
      "PDF error: Invalid least number of objects reading page offset hints table\n",
      "\n",
      "PDF error: Invalid least number of objects reading page offset hints table\n",
      "\n",
      "PDF error: Invalid least number of objects reading page offset hints table\n",
      "\n",
      "PDF error: Invalid least number of objects reading page offset hints table\n",
      "\n",
      "PDF error: Invalid least number of objects reading page offset hints table\n",
      "\n",
      "PDF error: Invalid least number of objects reading page offset hints table\n",
      "\n",
      "PDF error: Invalid least number of objects reading page offset hints table\n",
      "\n"
     ]
    }
   ],
   "source": [
    "for (i in 1:length(all_files)){\n",
    "    #pdftools extracts text from each file\n",
    "    #this gives an error, but we still get each line of text that's now stored in the vector\n",
    "    extracted_text[i] = pdf_text(all_files[i]) %>%\n",
    "    #text is currently class 'list', but converted to character to make parsing possible\n",
    "    as.character %>%\n",
    "    strsplit(split = \"\\n\")\n",
    "    \n",
    "    one_line = extracted_text[i]\n",
    "    #print(one_line)\n",
    "    \n",
    "    #delete later: just wanted to see first pdf file\n",
    "    if (i == 1){\n",
    "        for (j in 1:length(one_line)){\n",
    "            print(j)\n",
    "            #if (j:j+24 == \"Original Concentration\"){\n",
    "                \n",
    "            #}\n",
    "        }\n",
    "    }\n",
    "}"
   ]
  },
  {
   "cell_type": "markdown",
   "id": "binding-spanking",
   "metadata": {},
   "source": [
    "DELETE BELOW"
   ]
  },
  {
   "cell_type": "code",
   "execution_count": 2,
   "id": "loaded-haven",
   "metadata": {},
   "outputs": [
    {
     "name": "stderr",
     "output_type": "stream",
     "text": [
      "PDF error: Invalid least number of objects reading page offset hints table\n",
      "\n",
      "PDF error: Invalid least number of objects reading page offset hints table\n",
      "\n",
      "PDF error: Invalid least number of objects reading page offset hints table\n",
      "\n",
      "PDF error: Invalid least number of objects reading page offset hints table\n",
      "\n",
      "PDF error: Invalid least number of objects reading page offset hints table\n",
      "\n",
      "PDF error: Invalid least number of objects reading page offset hints table\n",
      "\n",
      "PDF error: Invalid least number of objects reading page offset hints table\n",
      "\n",
      "PDF error: Invalid least number of objects reading page offset hints table\n",
      "\n",
      "PDF error: Invalid least number of objects reading page offset hints table\n",
      "\n",
      "PDF error: Invalid least number of objects reading page offset hints table\n",
      "\n",
      "PDF error: Invalid least number of objects reading page offset hints table\n",
      "\n",
      "PDF error: Invalid least number of objects reading page offset hints table\n",
      "\n",
      "PDF error: Invalid least number of objects reading page offset hints table\n",
      "\n",
      "PDF error: Invalid least number of objects reading page offset hints table\n",
      "\n",
      "PDF error: Invalid least number of objects reading page offset hints table\n",
      "\n",
      "PDF error: Invalid least number of objects reading page offset hints table\n",
      "\n",
      "PDF error: Invalid least number of objects reading page offset hints table\n",
      "\n",
      "PDF error: Invalid least number of objects reading page offset hints table\n",
      "\n",
      "PDF error: Invalid least number of objects reading page offset hints table\n",
      "\n",
      "PDF error: Invalid least number of objects reading page offset hints table\n",
      "\n",
      "PDF error: Invalid least number of objects reading page offset hints table\n",
      "\n",
      "PDF error: Invalid least number of objects reading page offset hints table\n",
      "\n",
      "PDF error: Invalid least number of objects reading page offset hints table\n",
      "\n",
      "PDF error: Invalid least number of objects reading page offset hints table\n",
      "\n",
      "PDF error: Invalid least number of objects reading page offset hints table\n",
      "\n",
      "PDF error: Invalid least number of objects reading page offset hints table\n",
      "\n",
      "PDF error: Invalid least number of objects reading page offset hints table\n",
      "\n",
      "PDF error: Invalid least number of objects reading page offset hints table\n",
      "\n",
      "PDF error: Invalid least number of objects reading page offset hints table\n",
      "\n",
      "PDF error: Invalid least number of objects reading page offset hints table\n",
      "\n",
      "PDF error: Invalid least number of objects reading page offset hints table\n",
      "\n",
      "PDF error: Invalid least number of objects reading page offset hints table\n",
      "\n",
      "PDF error: Invalid least number of objects reading page offset hints table\n",
      "\n",
      "PDF error: Invalid least number of objects reading page offset hints table\n",
      "\n",
      "PDF error: Invalid least number of objects reading page offset hints table\n",
      "\n",
      "PDF error: Invalid least number of objects reading page offset hints table\n",
      "\n",
      "PDF error: Invalid least number of objects reading page offset hints table\n",
      "\n",
      "PDF error: Invalid least number of objects reading page offset hints table\n",
      "\n",
      "PDF error: Invalid least number of objects reading page offset hints table\n",
      "\n",
      "PDF error: Invalid least number of objects reading page offset hints table\n",
      "\n",
      "PDF error: Invalid least number of objects reading page offset hints table\n",
      "\n",
      "PDF error: Invalid least number of objects reading page offset hints table\n",
      "\n"
     ]
    },
    {
     "data": {
      "text/html": [
       "<span style=white-space:pre-wrap>'                                                                                                      Electrophoresis &amp; Brownian Motion\\n                                                                                                                Video Analysis\\n                                                                                                         Laser Scattering Microscopy\\n                                           www.particle-metrix.de\\n\\n                                                                                       Operator (Report): sop_kabanovlab.inst\\n                                                                                       Video Operator: sop_kabanovlab.inst\\n\\n\\n\\n\\n Sample Parameters                                                                     Result (sizes in nm)\\n Sample Name: 9.2.1_84_200                                                                                Number      Concentration   Volume\\n Comment: Sample Remarks0:                                                             Median (X50)        123.3       123.3      1907.5\\n Sample Remarks1:                                                                      Span                180.7       180.3      619.5\\n Sample Remarks2:\\n Electrolyte:                                                                          Concentration:                 2.4E+7 Particles / mL\\n Temperature: 23.04 °C sensed                                                          Dilution Factor:                     200\\n pH 7.0 entered                                                                        Original Concentration:        4.7E+9 Particles / mL\\n Conductivity: 15000.00 µS/cm sensed\\n\\n                                                                                       Quality\\n                                                                                       Average Counted Particles per Frame: 52\\n Measurement Parameters                                                                Number of Traced Particles: 234\\n Cell S/N: ZNTA\\n\\n Measurement Mode: Size Distribution 1 Cycle                                           Analysis Parameters\\n 11 Positions, 2 Removed for Analysis                                                  Max Area: 10000, Min Area: 5, Min Brightness: 20\\n 8.0E+6                                                                                2.4E+8\\n                                                                                       2.2E+8\\n 7.0E+6\\n                                                                                        2E+8\\n 6.0E+6                                                                                1.8E+8\\n                                                                                       1.6E+8\\n 5.0E+6\\n                                                                                       1.4E+8\\n\\n 4.0E+6                                                                                1.2E+8\\n                                                                                        1E+8\\n 3.0E+6\\n                                                                                        8E+7\\n\\n 2.0E+6                                                                                 6E+7\\n                                                                                        4E+7\\n 1.0E+6\\n                                                                                        2E+7\\n\\n 0.0E+0                                                                                     0\\n          0   100   200     300   400 500 600      700     800   900   1000                     0   100   200   300   400  500     600   700    800   900   1000\\n                                   Diameter / nm                                                                       Diameter / nm\\n\\n\\n\\n\\nPeak Analysis (Concentration)\\nDiameter / nm             Particles/mL       FWHM / nm             Percentage\\n       137.4                   4.2E+6            127.3                  100.0\\n\\nX Values (all sizes are given in nm)\\n               Number             Concentration          Volume\\n   X10           59.2                     59.2            401.5\\n   X50          123.3                    123.3           1907.5\\n   X90          276.6                    276.6           1929.5\\n  Span            1.8                       1.8              0.8\\n Mean           180.9                    180.9           1426.5\\n                                                                                            Comment\\nStdDev          180.7                    180.3            619.5\\n\\n\\n\\n\\n                                                                                                                                                               (Signature)\\n\\nAnalyzed Video: D:\\\\zetaview\\\\NCore\\\\Julia\\\\Oct18_21\\\\20211018_0002_9.2.1_84_200_size.avi\\n\\n\\nZetaVIEW S/N 19-490, Software ZetaView (version 8.05.11 SP4), Camera 0.713 mum/px                                Experiment: 2021-10-18 10:51, Report: 2021-10-18 10:53\\n'</span>"
      ],
      "text/latex": [
       "'                                                                                                      Electrophoresis \\& Brownian Motion\\textbackslash{}n                                                                                                                Video Analysis\\textbackslash{}n                                                                                                         Laser Scattering Microscopy\\textbackslash{}n                                           www.particle-metrix.de\\textbackslash{}n\\textbackslash{}n                                                                                       Operator (Report): sop\\_kabanovlab.inst\\textbackslash{}n                                                                                       Video Operator: sop\\_kabanovlab.inst\\textbackslash{}n\\textbackslash{}n\\textbackslash{}n\\textbackslash{}n\\textbackslash{}n Sample Parameters                                                                     Result (sizes in nm)\\textbackslash{}n Sample Name: 9.2.1\\_84\\_200                                                                                Number      Concentration   Volume\\textbackslash{}n Comment: Sample Remarks0:                                                             Median (X50)        123.3       123.3      1907.5\\textbackslash{}n Sample Remarks1:                                                                      Span                180.7       180.3      619.5\\textbackslash{}n Sample Remarks2:\\textbackslash{}n Electrolyte:                                                                          Concentration:                 2.4E+7 Particles / mL\\textbackslash{}n Temperature: 23.04 °C sensed                                                          Dilution Factor:                     200\\textbackslash{}n pH 7.0 entered                                                                        Original Concentration:        4.7E+9 Particles / mL\\textbackslash{}n Conductivity: 15000.00 µS/cm sensed\\textbackslash{}n\\textbackslash{}n                                                                                       Quality\\textbackslash{}n                                                                                       Average Counted Particles per Frame: 52\\textbackslash{}n Measurement Parameters                                                                Number of Traced Particles: 234\\textbackslash{}n Cell S/N: ZNTA\\textbackslash{}n\\textbackslash{}n Measurement Mode: Size Distribution 1 Cycle                                           Analysis Parameters\\textbackslash{}n 11 Positions, 2 Removed for Analysis                                                  Max Area: 10000, Min Area: 5, Min Brightness: 20\\textbackslash{}n 8.0E+6                                                                                2.4E+8\\textbackslash{}n                                                                                       2.2E+8\\textbackslash{}n 7.0E+6\\textbackslash{}n                                                                                        2E+8\\textbackslash{}n 6.0E+6                                                                                1.8E+8\\textbackslash{}n                                                                                       1.6E+8\\textbackslash{}n 5.0E+6\\textbackslash{}n                                                                                       1.4E+8\\textbackslash{}n\\textbackslash{}n 4.0E+6                                                                                1.2E+8\\textbackslash{}n                                                                                        1E+8\\textbackslash{}n 3.0E+6\\textbackslash{}n                                                                                        8E+7\\textbackslash{}n\\textbackslash{}n 2.0E+6                                                                                 6E+7\\textbackslash{}n                                                                                        4E+7\\textbackslash{}n 1.0E+6\\textbackslash{}n                                                                                        2E+7\\textbackslash{}n\\textbackslash{}n 0.0E+0                                                                                     0\\textbackslash{}n          0   100   200     300   400 500 600      700     800   900   1000                     0   100   200   300   400  500     600   700    800   900   1000\\textbackslash{}n                                   Diameter / nm                                                                       Diameter / nm\\textbackslash{}n\\textbackslash{}n\\textbackslash{}n\\textbackslash{}n\\textbackslash{}nPeak Analysis (Concentration)\\textbackslash{}nDiameter / nm             Particles/mL       FWHM / nm             Percentage\\textbackslash{}n       137.4                   4.2E+6            127.3                  100.0\\textbackslash{}n\\textbackslash{}nX Values (all sizes are given in nm)\\textbackslash{}n               Number             Concentration          Volume\\textbackslash{}n   X10           59.2                     59.2            401.5\\textbackslash{}n   X50          123.3                    123.3           1907.5\\textbackslash{}n   X90          276.6                    276.6           1929.5\\textbackslash{}n  Span            1.8                       1.8              0.8\\textbackslash{}n Mean           180.9                    180.9           1426.5\\textbackslash{}n                                                                                            Comment\\textbackslash{}nStdDev          180.7                    180.3            619.5\\textbackslash{}n\\textbackslash{}n\\textbackslash{}n\\textbackslash{}n\\textbackslash{}n                                                                                                                                                               (Signature)\\textbackslash{}n\\textbackslash{}nAnalyzed Video: D:\\textbackslash{}\\textbackslash{}zetaview\\textbackslash{}\\textbackslash{}NCore\\textbackslash{}\\textbackslash{}Julia\\textbackslash{}\\textbackslash{}Oct18\\_21\\textbackslash{}\\textbackslash{}20211018\\_0002\\_9.2.1\\_84\\_200\\_size.avi\\textbackslash{}n\\textbackslash{}n\\textbackslash{}nZetaVIEW S/N 19-490, Software ZetaView (version 8.05.11 SP4), Camera 0.713 mum/px                                Experiment: 2021-10-18 10:51, Report: 2021-10-18 10:53\\textbackslash{}n'"
      ],
      "text/markdown": [
       "<span style=white-space:pre-wrap>'                                                                                                      Electrophoresis &amp; Brownian Motion\\n                                                                                                                Video Analysis\\n                                                                                                         Laser Scattering Microscopy\\n                                           www.particle-metrix.de\\n\\n                                                                                       Operator (Report): sop_kabanovlab.inst\\n                                                                                       Video Operator: sop_kabanovlab.inst\\n\\n\\n\\n\\n Sample Parameters                                                                     Result (sizes in nm)\\n Sample Name: 9.2.1_84_200                                                                                Number      Concentration   Volume\\n Comment: Sample Remarks0:                                                             Median (X50)        123.3       123.3      1907.5\\n Sample Remarks1:                                                                      Span                180.7       180.3      619.5\\n Sample Remarks2:\\n Electrolyte:                                                                          Concentration:                 2.4E+7 Particles / mL\\n Temperature: 23.04 °C sensed                                                          Dilution Factor:                     200\\n pH 7.0 entered                                                                        Original Concentration:        4.7E+9 Particles / mL\\n Conductivity: 15000.00 µS/cm sensed\\n\\n                                                                                       Quality\\n                                                                                       Average Counted Particles per Frame: 52\\n Measurement Parameters                                                                Number of Traced Particles: 234\\n Cell S/N: ZNTA\\n\\n Measurement Mode: Size Distribution 1 Cycle                                           Analysis Parameters\\n 11 Positions, 2 Removed for Analysis                                                  Max Area: 10000, Min Area: 5, Min Brightness: 20\\n 8.0E+6                                                                                2.4E+8\\n                                                                                       2.2E+8\\n 7.0E+6\\n                                                                                        2E+8\\n 6.0E+6                                                                                1.8E+8\\n                                                                                       1.6E+8\\n 5.0E+6\\n                                                                                       1.4E+8\\n\\n 4.0E+6                                                                                1.2E+8\\n                                                                                        1E+8\\n 3.0E+6\\n                                                                                        8E+7\\n\\n 2.0E+6                                                                                 6E+7\\n                                                                                        4E+7\\n 1.0E+6\\n                                                                                        2E+7\\n\\n 0.0E+0                                                                                     0\\n          0   100   200     300   400 500 600      700     800   900   1000                     0   100   200   300   400  500     600   700    800   900   1000\\n                                   Diameter / nm                                                                       Diameter / nm\\n\\n\\n\\n\\nPeak Analysis (Concentration)\\nDiameter / nm             Particles/mL       FWHM / nm             Percentage\\n       137.4                   4.2E+6            127.3                  100.0\\n\\nX Values (all sizes are given in nm)\\n               Number             Concentration          Volume\\n   X10           59.2                     59.2            401.5\\n   X50          123.3                    123.3           1907.5\\n   X90          276.6                    276.6           1929.5\\n  Span            1.8                       1.8              0.8\\n Mean           180.9                    180.9           1426.5\\n                                                                                            Comment\\nStdDev          180.7                    180.3            619.5\\n\\n\\n\\n\\n                                                                                                                                                               (Signature)\\n\\nAnalyzed Video: D:\\\\zetaview\\\\NCore\\\\Julia\\\\Oct18_21\\\\20211018_0002_9.2.1_84_200_size.avi\\n\\n\\nZetaVIEW S/N 19-490, Software ZetaView (version 8.05.11 SP4), Camera 0.713 mum/px                                Experiment: 2021-10-18 10:51, Report: 2021-10-18 10:53\\n'</span>"
      ],
      "text/plain": [
       "[1] \"                                                                                                      Electrophoresis & Brownian Motion\\n                                                                                                                Video Analysis\\n                                                                                                         Laser Scattering Microscopy\\n                                           www.particle-metrix.de\\n\\n                                                                                       Operator (Report): sop_kabanovlab.inst\\n                                                                                       Video Operator: sop_kabanovlab.inst\\n\\n\\n\\n\\n Sample Parameters                                                                     Result (sizes in nm)\\n Sample Name: 9.2.1_84_200                                                                                Number      Concentration   Volume\\n Comment: Sample Remarks0:                                                             Median (X50)        123.3       123.3      1907.5\\n Sample Remarks1:                                                                      Span                180.7       180.3      619.5\\n Sample Remarks2:\\n Electrolyte:                                                                          Concentration:                 2.4E+7 Particles / mL\\n Temperature: 23.04 °C sensed                                                          Dilution Factor:                     200\\n pH 7.0 entered                                                                        Original Concentration:        4.7E+9 Particles / mL\\n Conductivity: 15000.00 µS/cm sensed\\n\\n                                                                                       Quality\\n                                                                                       Average Counted Particles per Frame: 52\\n Measurement Parameters                                                                Number of Traced Particles: 234\\n Cell S/N: ZNTA\\n\\n Measurement Mode: Size Distribution 1 Cycle                                           Analysis Parameters\\n 11 Positions, 2 Removed for Analysis                                                  Max Area: 10000, Min Area: 5, Min Brightness: 20\\n 8.0E+6                                                                                2.4E+8\\n                                                                                       2.2E+8\\n 7.0E+6\\n                                                                                        2E+8\\n 6.0E+6                                                                                1.8E+8\\n                                                                                       1.6E+8\\n 5.0E+6\\n                                                                                       1.4E+8\\n\\n 4.0E+6                                                                                1.2E+8\\n                                                                                        1E+8\\n 3.0E+6\\n                                                                                        8E+7\\n\\n 2.0E+6                                                                                 6E+7\\n                                                                                        4E+7\\n 1.0E+6\\n                                                                                        2E+7\\n\\n 0.0E+0                                                                                     0\\n          0   100   200     300   400 500 600      700     800   900   1000                     0   100   200   300   400  500     600   700    800   900   1000\\n                                   Diameter / nm                                                                       Diameter / nm\\n\\n\\n\\n\\nPeak Analysis (Concentration)\\nDiameter / nm             Particles/mL       FWHM / nm             Percentage\\n       137.4                   4.2E+6            127.3                  100.0\\n\\nX Values (all sizes are given in nm)\\n               Number             Concentration          Volume\\n   X10           59.2                     59.2            401.5\\n   X50          123.3                    123.3           1907.5\\n   X90          276.6                    276.6           1929.5\\n  Span            1.8                       1.8              0.8\\n Mean           180.9                    180.9           1426.5\\n                                                                                            Comment\\nStdDev          180.7                    180.3            619.5\\n\\n\\n\\n\\n                                                                                                                                                               (Signature)\\n\\nAnalyzed Video: D:\\\\zetaview\\\\NCore\\\\Julia\\\\Oct18_21\\\\20211018_0002_9.2.1_84_200_size.avi\\n\\n\\nZetaVIEW S/N 19-490, Software ZetaView (version 8.05.11 SP4), Camera 0.713 mum/px                                Experiment: 2021-10-18 10:51, Report: 2021-10-18 10:53\\n\""
      ]
     },
     "metadata": {},
     "output_type": "display_data"
    }
   ],
   "source": [
    "#pdftools extracts text from each file\n",
    "#this gives an error, but we still get the text that's now stored in the vector\n",
    "extracted_text_files = lapply(all_files, pdf_text) %>%\n",
    "    #text is currently class 'list', but converted to character to make parsing possible\n",
    "    as.character()\n",
    "extracted_text_files[1]"
   ]
  },
  {
   "cell_type": "code",
   "execution_count": 5,
   "id": "julian-princess",
   "metadata": {},
   "outputs": [
    {
     "data": {
      "text/html": [
       "1"
      ],
      "text/latex": [
       "1"
      ],
      "text/markdown": [
       "1"
      ],
      "text/plain": [
       "[1] 1"
      ]
     },
     "metadata": {},
     "output_type": "display_data"
    },
    {
     "data": {
      "text/html": [
       "<ol>\n",
       "\t<li><style>\n",
       ".list-inline {list-style: none; margin:0; padding: 0}\n",
       ".list-inline>li {display: inline-block}\n",
       ".list-inline>li:not(:last-child)::after {content: \"\\00b7\"; padding: 0 .5ex}\n",
       "</style>\n",
       "<ol class=list-inline><li><span style=white-space:pre-wrap>'                                                                                                      Electrophoresis &amp; Brownian Motion'</span></li><li><span style=white-space:pre-wrap>'                                                                                                                Video Analysis'</span></li><li><span style=white-space:pre-wrap>'                                                                                                         Laser Scattering Microscopy'</span></li><li><span style=white-space:pre-wrap>'                                           www.particle-metrix.de'</span></li><li>''</li><li><span style=white-space:pre-wrap>'                                                                                       Operator (Report): sop_kabanovlab.inst'</span></li><li><span style=white-space:pre-wrap>'                                                                                       Video Operator: sop_kabanovlab.inst'</span></li><li>''</li><li>''</li><li>''</li><li>''</li><li><span style=white-space:pre-wrap>' Sample Parameters                                                                     Result (sizes in nm)'</span></li><li><span style=white-space:pre-wrap>' Sample Name: 9.2.1_84_200                                                                                Number      Concentration   Volume'</span></li><li><span style=white-space:pre-wrap>' Comment: Sample Remarks0:                                                             Median (X50)        123.3       123.3      1907.5'</span></li><li><span style=white-space:pre-wrap>' Sample Remarks1:                                                                      Span                180.7       180.3      619.5'</span></li><li>' Sample Remarks2:'</li><li><span style=white-space:pre-wrap>' Electrolyte:                                                                          Concentration:                 2.4E+7 Particles / mL'</span></li><li><span style=white-space:pre-wrap>' Temperature: 23.04 °C sensed                                                          Dilution Factor:                     200'</span></li><li><span style=white-space:pre-wrap>' pH 7.0 entered                                                                        Original Concentration:        4.7E+9 Particles / mL'</span></li><li>' Conductivity: 15000.00 µS/cm sensed'</li><li>''</li><li><span style=white-space:pre-wrap>'                                                                                       Quality'</span></li><li><span style=white-space:pre-wrap>'                                                                                       Average Counted Particles per Frame: 52'</span></li><li><span style=white-space:pre-wrap>' Measurement Parameters                                                                Number of Traced Particles: 234'</span></li><li>' Cell S/N: ZNTA'</li><li>''</li><li><span style=white-space:pre-wrap>' Measurement Mode: Size Distribution 1 Cycle                                           Analysis Parameters'</span></li><li><span style=white-space:pre-wrap>' 11 Positions, 2 Removed for Analysis                                                  Max Area: 10000, Min Area: 5, Min Brightness: 20'</span></li><li><span style=white-space:pre-wrap>' 8.0E+6                                                                                2.4E+8'</span></li><li><span style=white-space:pre-wrap>'                                                                                       2.2E+8'</span></li><li>' 7.0E+6'</li><li><span style=white-space:pre-wrap>'                                                                                        2E+8'</span></li><li><span style=white-space:pre-wrap>' 6.0E+6                                                                                1.8E+8'</span></li><li><span style=white-space:pre-wrap>'                                                                                       1.6E+8'</span></li><li>' 5.0E+6'</li><li><span style=white-space:pre-wrap>'                                                                                       1.4E+8'</span></li><li>''</li><li><span style=white-space:pre-wrap>' 4.0E+6                                                                                1.2E+8'</span></li><li><span style=white-space:pre-wrap>'                                                                                        1E+8'</span></li><li>' 3.0E+6'</li><li><span style=white-space:pre-wrap>'                                                                                        8E+7'</span></li><li>''</li><li><span style=white-space:pre-wrap>' 2.0E+6                                                                                 6E+7'</span></li><li><span style=white-space:pre-wrap>'                                                                                        4E+7'</span></li><li>' 1.0E+6'</li><li><span style=white-space:pre-wrap>'                                                                                        2E+7'</span></li><li>''</li><li><span style=white-space:pre-wrap>' 0.0E+0                                                                                     0'</span></li><li><span style=white-space:pre-wrap>'          0   100   200     300   400 500 600      700     800   900   1000                     0   100   200   300   400  500     600   700    800   900   1000'</span></li><li><span style=white-space:pre-wrap>'                                   Diameter / nm                                                                       Diameter / nm'</span></li><li>''</li><li>''</li><li>''</li><li>''</li><li>'Peak Analysis (Concentration)'</li><li><span style=white-space:pre-wrap>'Diameter / nm             Particles/mL       FWHM / nm             Percentage'</span></li><li><span style=white-space:pre-wrap>'       137.4                   4.2E+6            127.3                  100.0'</span></li><li>''</li><li>'X Values (all sizes are given in nm)'</li><li><span style=white-space:pre-wrap>'               Number             Concentration          Volume'</span></li><li><span style=white-space:pre-wrap>'   X10           59.2                     59.2            401.5'</span></li><li><span style=white-space:pre-wrap>'   X50          123.3                    123.3           1907.5'</span></li><li><span style=white-space:pre-wrap>'   X90          276.6                    276.6           1929.5'</span></li><li><span style=white-space:pre-wrap>'  Span            1.8                       1.8              0.8'</span></li><li><span style=white-space:pre-wrap>' Mean           180.9                    180.9           1426.5'</span></li><li><span style=white-space:pre-wrap>'                                                                                            Comment'</span></li><li><span style=white-space:pre-wrap>'StdDev          180.7                    180.3            619.5'</span></li><li>''</li><li>''</li><li>''</li><li>''</li><li><span style=white-space:pre-wrap>'                                                                                                                                                               (Signature)'</span></li><li>''</li><li>'Analyzed Video: D:\\\\zetaview\\\\NCore\\\\Julia\\\\Oct18_21\\\\20211018_0002_9.2.1_84_200_size.avi'</li><li>''</li><li>''</li><li><span style=white-space:pre-wrap>'ZetaVIEW S/N 19-490, Software ZetaView (version 8.05.11 SP4), Camera 0.713 mum/px                                Experiment: 2021-10-18 10:51, Report: 2021-10-18 10:53'</span></li></ol>\n",
       "</li>\n",
       "</ol>\n"
      ],
      "text/latex": [
       "\\begin{enumerate}\n",
       "\\item \\begin{enumerate*}\n",
       "\\item '                                                                                                      Electrophoresis \\& Brownian Motion'\n",
       "\\item '                                                                                                                Video Analysis'\n",
       "\\item '                                                                                                         Laser Scattering Microscopy'\n",
       "\\item '                                           www.particle-metrix.de'\n",
       "\\item ''\n",
       "\\item '                                                                                       Operator (Report): sop\\_kabanovlab.inst'\n",
       "\\item '                                                                                       Video Operator: sop\\_kabanovlab.inst'\n",
       "\\item ''\n",
       "\\item ''\n",
       "\\item ''\n",
       "\\item ''\n",
       "\\item ' Sample Parameters                                                                     Result (sizes in nm)'\n",
       "\\item ' Sample Name: 9.2.1\\_84\\_200                                                                                Number      Concentration   Volume'\n",
       "\\item ' Comment: Sample Remarks0:                                                             Median (X50)        123.3       123.3      1907.5'\n",
       "\\item ' Sample Remarks1:                                                                      Span                180.7       180.3      619.5'\n",
       "\\item ' Sample Remarks2:'\n",
       "\\item ' Electrolyte:                                                                          Concentration:                 2.4E+7 Particles / mL'\n",
       "\\item ' Temperature: 23.04 °C sensed                                                          Dilution Factor:                     200'\n",
       "\\item ' pH 7.0 entered                                                                        Original Concentration:        4.7E+9 Particles / mL'\n",
       "\\item ' Conductivity: 15000.00 µS/cm sensed'\n",
       "\\item ''\n",
       "\\item '                                                                                       Quality'\n",
       "\\item '                                                                                       Average Counted Particles per Frame: 52'\n",
       "\\item ' Measurement Parameters                                                                Number of Traced Particles: 234'\n",
       "\\item ' Cell S/N: ZNTA'\n",
       "\\item ''\n",
       "\\item ' Measurement Mode: Size Distribution 1 Cycle                                           Analysis Parameters'\n",
       "\\item ' 11 Positions, 2 Removed for Analysis                                                  Max Area: 10000, Min Area: 5, Min Brightness: 20'\n",
       "\\item ' 8.0E+6                                                                                2.4E+8'\n",
       "\\item '                                                                                       2.2E+8'\n",
       "\\item ' 7.0E+6'\n",
       "\\item '                                                                                        2E+8'\n",
       "\\item ' 6.0E+6                                                                                1.8E+8'\n",
       "\\item '                                                                                       1.6E+8'\n",
       "\\item ' 5.0E+6'\n",
       "\\item '                                                                                       1.4E+8'\n",
       "\\item ''\n",
       "\\item ' 4.0E+6                                                                                1.2E+8'\n",
       "\\item '                                                                                        1E+8'\n",
       "\\item ' 3.0E+6'\n",
       "\\item '                                                                                        8E+7'\n",
       "\\item ''\n",
       "\\item ' 2.0E+6                                                                                 6E+7'\n",
       "\\item '                                                                                        4E+7'\n",
       "\\item ' 1.0E+6'\n",
       "\\item '                                                                                        2E+7'\n",
       "\\item ''\n",
       "\\item ' 0.0E+0                                                                                     0'\n",
       "\\item '          0   100   200     300   400 500 600      700     800   900   1000                     0   100   200   300   400  500     600   700    800   900   1000'\n",
       "\\item '                                   Diameter / nm                                                                       Diameter / nm'\n",
       "\\item ''\n",
       "\\item ''\n",
       "\\item ''\n",
       "\\item ''\n",
       "\\item 'Peak Analysis (Concentration)'\n",
       "\\item 'Diameter / nm             Particles/mL       FWHM / nm             Percentage'\n",
       "\\item '       137.4                   4.2E+6            127.3                  100.0'\n",
       "\\item ''\n",
       "\\item 'X Values (all sizes are given in nm)'\n",
       "\\item '               Number             Concentration          Volume'\n",
       "\\item '   X10           59.2                     59.2            401.5'\n",
       "\\item '   X50          123.3                    123.3           1907.5'\n",
       "\\item '   X90          276.6                    276.6           1929.5'\n",
       "\\item '  Span            1.8                       1.8              0.8'\n",
       "\\item ' Mean           180.9                    180.9           1426.5'\n",
       "\\item '                                                                                            Comment'\n",
       "\\item 'StdDev          180.7                    180.3            619.5'\n",
       "\\item ''\n",
       "\\item ''\n",
       "\\item ''\n",
       "\\item ''\n",
       "\\item '                                                                                                                                                               (Signature)'\n",
       "\\item ''\n",
       "\\item 'Analyzed Video: D:\\textbackslash{}\\textbackslash{}zetaview\\textbackslash{}\\textbackslash{}NCore\\textbackslash{}\\textbackslash{}Julia\\textbackslash{}\\textbackslash{}Oct18\\_21\\textbackslash{}\\textbackslash{}20211018\\_0002\\_9.2.1\\_84\\_200\\_size.avi'\n",
       "\\item ''\n",
       "\\item ''\n",
       "\\item 'ZetaVIEW S/N 19-490, Software ZetaView (version 8.05.11 SP4), Camera 0.713 mum/px                                Experiment: 2021-10-18 10:51, Report: 2021-10-18 10:53'\n",
       "\\end{enumerate*}\n",
       "\n",
       "\\end{enumerate}\n"
      ],
      "text/markdown": [
       "1. 1. <span style=white-space:pre-wrap>'                                                                                                      Electrophoresis &amp; Brownian Motion'</span>\n",
       "2. <span style=white-space:pre-wrap>'                                                                                                                Video Analysis'</span>\n",
       "3. <span style=white-space:pre-wrap>'                                                                                                         Laser Scattering Microscopy'</span>\n",
       "4. <span style=white-space:pre-wrap>'                                           www.particle-metrix.de'</span>\n",
       "5. ''\n",
       "6. <span style=white-space:pre-wrap>'                                                                                       Operator (Report): sop_kabanovlab.inst'</span>\n",
       "7. <span style=white-space:pre-wrap>'                                                                                       Video Operator: sop_kabanovlab.inst'</span>\n",
       "8. ''\n",
       "9. ''\n",
       "10. ''\n",
       "11. ''\n",
       "12. <span style=white-space:pre-wrap>' Sample Parameters                                                                     Result (sizes in nm)'</span>\n",
       "13. <span style=white-space:pre-wrap>' Sample Name: 9.2.1_84_200                                                                                Number      Concentration   Volume'</span>\n",
       "14. <span style=white-space:pre-wrap>' Comment: Sample Remarks0:                                                             Median (X50)        123.3       123.3      1907.5'</span>\n",
       "15. <span style=white-space:pre-wrap>' Sample Remarks1:                                                                      Span                180.7       180.3      619.5'</span>\n",
       "16. ' Sample Remarks2:'\n",
       "17. <span style=white-space:pre-wrap>' Electrolyte:                                                                          Concentration:                 2.4E+7 Particles / mL'</span>\n",
       "18. <span style=white-space:pre-wrap>' Temperature: 23.04 °C sensed                                                          Dilution Factor:                     200'</span>\n",
       "19. <span style=white-space:pre-wrap>' pH 7.0 entered                                                                        Original Concentration:        4.7E+9 Particles / mL'</span>\n",
       "20. ' Conductivity: 15000.00 µS/cm sensed'\n",
       "21. ''\n",
       "22. <span style=white-space:pre-wrap>'                                                                                       Quality'</span>\n",
       "23. <span style=white-space:pre-wrap>'                                                                                       Average Counted Particles per Frame: 52'</span>\n",
       "24. <span style=white-space:pre-wrap>' Measurement Parameters                                                                Number of Traced Particles: 234'</span>\n",
       "25. ' Cell S/N: ZNTA'\n",
       "26. ''\n",
       "27. <span style=white-space:pre-wrap>' Measurement Mode: Size Distribution 1 Cycle                                           Analysis Parameters'</span>\n",
       "28. <span style=white-space:pre-wrap>' 11 Positions, 2 Removed for Analysis                                                  Max Area: 10000, Min Area: 5, Min Brightness: 20'</span>\n",
       "29. <span style=white-space:pre-wrap>' 8.0E+6                                                                                2.4E+8'</span>\n",
       "30. <span style=white-space:pre-wrap>'                                                                                       2.2E+8'</span>\n",
       "31. ' 7.0E+6'\n",
       "32. <span style=white-space:pre-wrap>'                                                                                        2E+8'</span>\n",
       "33. <span style=white-space:pre-wrap>' 6.0E+6                                                                                1.8E+8'</span>\n",
       "34. <span style=white-space:pre-wrap>'                                                                                       1.6E+8'</span>\n",
       "35. ' 5.0E+6'\n",
       "36. <span style=white-space:pre-wrap>'                                                                                       1.4E+8'</span>\n",
       "37. ''\n",
       "38. <span style=white-space:pre-wrap>' 4.0E+6                                                                                1.2E+8'</span>\n",
       "39. <span style=white-space:pre-wrap>'                                                                                        1E+8'</span>\n",
       "40. ' 3.0E+6'\n",
       "41. <span style=white-space:pre-wrap>'                                                                                        8E+7'</span>\n",
       "42. ''\n",
       "43. <span style=white-space:pre-wrap>' 2.0E+6                                                                                 6E+7'</span>\n",
       "44. <span style=white-space:pre-wrap>'                                                                                        4E+7'</span>\n",
       "45. ' 1.0E+6'\n",
       "46. <span style=white-space:pre-wrap>'                                                                                        2E+7'</span>\n",
       "47. ''\n",
       "48. <span style=white-space:pre-wrap>' 0.0E+0                                                                                     0'</span>\n",
       "49. <span style=white-space:pre-wrap>'          0   100   200     300   400 500 600      700     800   900   1000                     0   100   200   300   400  500     600   700    800   900   1000'</span>\n",
       "50. <span style=white-space:pre-wrap>'                                   Diameter / nm                                                                       Diameter / nm'</span>\n",
       "51. ''\n",
       "52. ''\n",
       "53. ''\n",
       "54. ''\n",
       "55. 'Peak Analysis (Concentration)'\n",
       "56. <span style=white-space:pre-wrap>'Diameter / nm             Particles/mL       FWHM / nm             Percentage'</span>\n",
       "57. <span style=white-space:pre-wrap>'       137.4                   4.2E+6            127.3                  100.0'</span>\n",
       "58. ''\n",
       "59. 'X Values (all sizes are given in nm)'\n",
       "60. <span style=white-space:pre-wrap>'               Number             Concentration          Volume'</span>\n",
       "61. <span style=white-space:pre-wrap>'   X10           59.2                     59.2            401.5'</span>\n",
       "62. <span style=white-space:pre-wrap>'   X50          123.3                    123.3           1907.5'</span>\n",
       "63. <span style=white-space:pre-wrap>'   X90          276.6                    276.6           1929.5'</span>\n",
       "64. <span style=white-space:pre-wrap>'  Span            1.8                       1.8              0.8'</span>\n",
       "65. <span style=white-space:pre-wrap>' Mean           180.9                    180.9           1426.5'</span>\n",
       "66. <span style=white-space:pre-wrap>'                                                                                            Comment'</span>\n",
       "67. <span style=white-space:pre-wrap>'StdDev          180.7                    180.3            619.5'</span>\n",
       "68. ''\n",
       "69. ''\n",
       "70. ''\n",
       "71. ''\n",
       "72. <span style=white-space:pre-wrap>'                                                                                                                                                               (Signature)'</span>\n",
       "73. ''\n",
       "74. 'Analyzed Video: D:\\\\zetaview\\\\NCore\\\\Julia\\\\Oct18_21\\\\20211018_0002_9.2.1_84_200_size.avi'\n",
       "75. ''\n",
       "76. ''\n",
       "77. <span style=white-space:pre-wrap>'ZetaVIEW S/N 19-490, Software ZetaView (version 8.05.11 SP4), Camera 0.713 mum/px                                Experiment: 2021-10-18 10:51, Report: 2021-10-18 10:53'</span>\n",
       "\n",
       "\n",
       "\n",
       "\n",
       "\n"
      ],
      "text/plain": [
       "[[1]]\n",
       " [1] \"                                                                                                      Electrophoresis & Brownian Motion\"                                   \n",
       " [2] \"                                                                                                                Video Analysis\"                                            \n",
       " [3] \"                                                                                                         Laser Scattering Microscopy\"                                      \n",
       " [4] \"                                           www.particle-metrix.de\"                                                                                                         \n",
       " [5] \"\"                                                                                                                                                                          \n",
       " [6] \"                                                                                       Operator (Report): sop_kabanovlab.inst\"                                             \n",
       " [7] \"                                                                                       Video Operator: sop_kabanovlab.inst\"                                                \n",
       " [8] \"\"                                                                                                                                                                          \n",
       " [9] \"\"                                                                                                                                                                          \n",
       "[10] \"\"                                                                                                                                                                          \n",
       "[11] \"\"                                                                                                                                                                          \n",
       "[12] \" Sample Parameters                                                                     Result (sizes in nm)\"                                                               \n",
       "[13] \" Sample Name: 9.2.1_84_200                                                                                Number      Concentration   Volume\"                              \n",
       "[14] \" Comment: Sample Remarks0:                                                             Median (X50)        123.3       123.3      1907.5\"                                  \n",
       "[15] \" Sample Remarks1:                                                                      Span                180.7       180.3      619.5\"                                   \n",
       "[16] \" Sample Remarks2:\"                                                                                                                                                         \n",
       "[17] \" Electrolyte:                                                                          Concentration:                 2.4E+7 Particles / mL\"                               \n",
       "[18] \" Temperature: 23.04 °C sensed                                                          Dilution Factor:                     200\"                                           \n",
       "[19] \" pH 7.0 entered                                                                        Original Concentration:        4.7E+9 Particles / mL\"                               \n",
       "[20] \" Conductivity: 15000.00 µS/cm sensed\"                                                                                                                                      \n",
       "[21] \"\"                                                                                                                                                                          \n",
       "[22] \"                                                                                       Quality\"                                                                            \n",
       "[23] \"                                                                                       Average Counted Particles per Frame: 52\"                                            \n",
       "[24] \" Measurement Parameters                                                                Number of Traced Particles: 234\"                                                    \n",
       "[25] \" Cell S/N: ZNTA\"                                                                                                                                                           \n",
       "[26] \"\"                                                                                                                                                                          \n",
       "[27] \" Measurement Mode: Size Distribution 1 Cycle                                           Analysis Parameters\"                                                                \n",
       "[28] \" 11 Positions, 2 Removed for Analysis                                                  Max Area: 10000, Min Area: 5, Min Brightness: 20\"                                   \n",
       "[29] \" 8.0E+6                                                                                2.4E+8\"                                                                             \n",
       "[30] \"                                                                                       2.2E+8\"                                                                             \n",
       "[31] \" 7.0E+6\"                                                                                                                                                                   \n",
       "[32] \"                                                                                        2E+8\"                                                                              \n",
       "[33] \" 6.0E+6                                                                                1.8E+8\"                                                                             \n",
       "[34] \"                                                                                       1.6E+8\"                                                                             \n",
       "[35] \" 5.0E+6\"                                                                                                                                                                   \n",
       "[36] \"                                                                                       1.4E+8\"                                                                             \n",
       "[37] \"\"                                                                                                                                                                          \n",
       "[38] \" 4.0E+6                                                                                1.2E+8\"                                                                             \n",
       "[39] \"                                                                                        1E+8\"                                                                              \n",
       "[40] \" 3.0E+6\"                                                                                                                                                                   \n",
       "[41] \"                                                                                        8E+7\"                                                                              \n",
       "[42] \"\"                                                                                                                                                                          \n",
       "[43] \" 2.0E+6                                                                                 6E+7\"                                                                              \n",
       "[44] \"                                                                                        4E+7\"                                                                              \n",
       "[45] \" 1.0E+6\"                                                                                                                                                                   \n",
       "[46] \"                                                                                        2E+7\"                                                                              \n",
       "[47] \"\"                                                                                                                                                                          \n",
       "[48] \" 0.0E+0                                                                                     0\"                                                                             \n",
       "[49] \"          0   100   200     300   400 500 600      700     800   900   1000                     0   100   200   300   400  500     600   700    800   900   1000\"          \n",
       "[50] \"                                   Diameter / nm                                                                       Diameter / nm\"                                      \n",
       "[51] \"\"                                                                                                                                                                          \n",
       "[52] \"\"                                                                                                                                                                          \n",
       "[53] \"\"                                                                                                                                                                          \n",
       "[54] \"\"                                                                                                                                                                          \n",
       "[55] \"Peak Analysis (Concentration)\"                                                                                                                                             \n",
       "[56] \"Diameter / nm             Particles/mL       FWHM / nm             Percentage\"                                                                                             \n",
       "[57] \"       137.4                   4.2E+6            127.3                  100.0\"                                                                                             \n",
       "[58] \"\"                                                                                                                                                                          \n",
       "[59] \"X Values (all sizes are given in nm)\"                                                                                                                                      \n",
       "[60] \"               Number             Concentration          Volume\"                                                                                                           \n",
       "[61] \"   X10           59.2                     59.2            401.5\"                                                                                                           \n",
       "[62] \"   X50          123.3                    123.3           1907.5\"                                                                                                           \n",
       "[63] \"   X90          276.6                    276.6           1929.5\"                                                                                                           \n",
       "[64] \"  Span            1.8                       1.8              0.8\"                                                                                                          \n",
       "[65] \" Mean           180.9                    180.9           1426.5\"                                                                                                           \n",
       "[66] \"                                                                                            Comment\"                                                                       \n",
       "[67] \"StdDev          180.7                    180.3            619.5\"                                                                                                           \n",
       "[68] \"\"                                                                                                                                                                          \n",
       "[69] \"\"                                                                                                                                                                          \n",
       "[70] \"\"                                                                                                                                                                          \n",
       "[71] \"\"                                                                                                                                                                          \n",
       "[72] \"                                                                                                                                                               (Signature)\"\n",
       "[73] \"\"                                                                                                                                                                          \n",
       "[74] \"Analyzed Video: D:\\\\zetaview\\\\NCore\\\\Julia\\\\Oct18_21\\\\20211018_0002_9.2.1_84_200_size.avi\"                                                                                 \n",
       "[75] \"\"                                                                                                                                                                          \n",
       "[76] \"\"                                                                                                                                                                          \n",
       "[77] \"ZetaVIEW S/N 19-490, Software ZetaView (version 8.05.11 SP4), Camera 0.713 mum/px                                Experiment: 2021-10-18 10:51, Report: 2021-10-18 10:53\"   \n"
      ]
     },
     "metadata": {},
     "output_type": "display_data"
    }
   ],
   "source": [
    "b = extracted_text_files[1] %>%\n",
    "    strsplit(split = \"\\n\")\n",
    "length(b)\n",
    "b"
   ]
  },
  {
   "cell_type": "code",
   "execution_count": 3,
   "id": "reserved-tulsa",
   "metadata": {},
   "outputs": [
    {
     "data": {
      "text/html": [
       "'character'"
      ],
      "text/latex": [
       "'character'"
      ],
      "text/markdown": [
       "'character'"
      ],
      "text/plain": [
       "[1] \"character\""
      ]
     },
     "metadata": {},
     "output_type": "display_data"
    },
    {
     "data": {
      "text/html": [
       "1"
      ],
      "text/latex": [
       "1"
      ],
      "text/markdown": [
       "1"
      ],
      "text/plain": [
       "[1] 1"
      ]
     },
     "metadata": {},
     "output_type": "display_data"
    }
   ],
   "source": [
    "a = extracted_text_files[1]\n",
    "class(a)\n",
    "length(a)"
   ]
  },
  {
   "cell_type": "code",
   "execution_count": 6,
   "id": "known-theme",
   "metadata": {},
   "outputs": [
    {
     "name": "stderr",
     "output_type": "stream",
     "text": [
      "PDF error: Invalid least number of objects reading page offset hints table\n",
      "\n",
      "PDF error: Invalid least number of objects reading page offset hints table\n",
      "\n",
      "PDF error: Invalid least number of objects reading page offset hints table\n",
      "\n",
      "PDF error: Invalid least number of objects reading page offset hints table\n",
      "\n",
      "PDF error: Invalid least number of objects reading page offset hints table\n",
      "\n",
      "PDF error: Invalid least number of objects reading page offset hints table\n",
      "\n",
      "PDF error: Invalid least number of objects reading page offset hints table\n",
      "\n",
      "PDF error: Invalid least number of objects reading page offset hints table\n",
      "\n",
      "PDF error: Invalid least number of objects reading page offset hints table\n",
      "\n",
      "PDF error: Invalid least number of objects reading page offset hints table\n",
      "\n",
      "PDF error: Invalid least number of objects reading page offset hints table\n",
      "\n",
      "PDF error: Invalid least number of objects reading page offset hints table\n",
      "\n",
      "PDF error: Invalid least number of objects reading page offset hints table\n",
      "\n",
      "PDF error: Invalid least number of objects reading page offset hints table\n",
      "\n",
      "PDF error: Invalid least number of objects reading page offset hints table\n",
      "\n",
      "PDF error: Invalid least number of objects reading page offset hints table\n",
      "\n",
      "PDF error: Invalid least number of objects reading page offset hints table\n",
      "\n",
      "PDF error: Invalid least number of objects reading page offset hints table\n",
      "\n",
      "PDF error: Invalid least number of objects reading page offset hints table\n",
      "\n",
      "PDF error: Invalid least number of objects reading page offset hints table\n",
      "\n",
      "PDF error: Invalid least number of objects reading page offset hints table\n",
      "\n",
      "PDF error: Invalid least number of objects reading page offset hints table\n",
      "\n",
      "PDF error: Invalid least number of objects reading page offset hints table\n",
      "\n",
      "PDF error: Invalid least number of objects reading page offset hints table\n",
      "\n",
      "PDF error: Invalid least number of objects reading page offset hints table\n",
      "\n",
      "PDF error: Invalid least number of objects reading page offset hints table\n",
      "\n",
      "PDF error: Invalid least number of objects reading page offset hints table\n",
      "\n",
      "PDF error: Invalid least number of objects reading page offset hints table\n",
      "\n",
      "PDF error: Invalid least number of objects reading page offset hints table\n",
      "\n",
      "PDF error: Invalid least number of objects reading page offset hints table\n",
      "\n",
      "PDF error: Invalid least number of objects reading page offset hints table\n",
      "\n",
      "PDF error: Invalid least number of objects reading page offset hints table\n",
      "\n",
      "PDF error: Invalid least number of objects reading page offset hints table\n",
      "\n",
      "PDF error: Invalid least number of objects reading page offset hints table\n",
      "\n",
      "PDF error: Invalid least number of objects reading page offset hints table\n",
      "\n",
      "PDF error: Invalid least number of objects reading page offset hints table\n",
      "\n",
      "PDF error: Invalid least number of objects reading page offset hints table\n",
      "\n",
      "PDF error: Invalid least number of objects reading page offset hints table\n",
      "\n",
      "PDF error: Invalid least number of objects reading page offset hints table\n",
      "\n",
      "PDF error: Invalid least number of objects reading page offset hints table\n",
      "\n",
      "PDF error: Invalid least number of objects reading page offset hints table\n",
      "\n",
      "PDF error: Invalid least number of objects reading page offset hints table\n",
      "\n"
     ]
    },
    {
     "data": {
      "text/plain": [
       "<<VCorpus>>\n",
       "Metadata:  corpus specific: 0, document level (indexed): 0\n",
       "Content:  documents: 6"
      ]
     },
     "metadata": {},
     "output_type": "display_data"
    }
   ],
   "source": [
    "#however this text still isn't readable by R, so a corpus (database) for text is now created\n",
    "corp = Corpus(URISource(all_files),\n",
    "               readerControl = list(reader = readPDF))\n",
    "head(corp)"
   ]
  },
  {
   "cell_type": "markdown",
   "id": "abstract-display",
   "metadata": {},
   "source": [
    "# Data we want to extract:\n",
    "\n",
    "1. Pdf file name as the sample identifier\n",
    "2. Original Concentration\n",
    "3. Some of the ‘X Values’ table listed on the bottom left, specifically the: X10 Concentration, X50 Concentration, X90 Concentration, and Mean Concentration, and StdDev Concentration"
   ]
  },
  {
   "cell_type": "code",
   "execution_count": 4,
   "id": "traditional-hopkins",
   "metadata": {},
   "outputs": [
    {
     "name": "stdout",
     "output_type": "stream",
     "text": [
      "[1] 1\n"
     ]
    }
   ],
   "source": [
    "#getting OG concentration\n",
    "for (i in 1:length(extracted_text_files[1])){\n",
    "#     if (extracted_text_files[1][i] == 'n'){\n",
    "#         print(i)\n",
    "#     }\n",
    "    print(i)\n",
    "}"
   ]
  },
  {
   "cell_type": "code",
   "execution_count": 17,
   "id": "adapted-workshop",
   "metadata": {},
   "outputs": [
    {
     "data": {
      "text/html": [
       "1"
      ],
      "text/latex": [
       "1"
      ],
      "text/markdown": [
       "1"
      ],
      "text/plain": [
       "[1] 1"
      ]
     },
     "metadata": {},
     "output_type": "display_data"
    }
   ],
   "source": [
    "length(extracted_text_files[1])"
   ]
  },
  {
   "cell_type": "code",
   "execution_count": null,
   "id": "alpha-hands",
   "metadata": {},
   "outputs": [],
   "source": []
  }
 ],
 "metadata": {
  "kernelspec": {
   "display_name": "R",
   "language": "R",
   "name": "ir"
  },
  "language_info": {
   "codemirror_mode": "r",
   "file_extension": ".r",
   "mimetype": "text/x-r-source",
   "name": "R",
   "pygments_lexer": "r",
   "version": "3.6.3"
  }
 },
 "nbformat": 4,
 "nbformat_minor": 5
}
