{
 "cells": [
  {
   "cell_type": "code",
   "execution_count": 1,
   "id": "harmful-benchmark",
   "metadata": {},
   "outputs": [
    {
     "name": "stderr",
     "output_type": "stream",
     "text": [
      "Using poppler version 20.12.1\n",
      "\n",
      "Loading required package: NLP\n",
      "\n"
     ]
    },
    {
     "data": {
      "text/html": [
       "<style>\n",
       ".list-inline {list-style: none; margin:0; padding: 0}\n",
       ".list-inline>li {display: inline-block}\n",
       ".list-inline>li:not(:last-child)::after {content: \"\\00b7\"; padding: 0 .5ex}\n",
       "</style>\n",
       "<ol class=list-inline><li>'20211018_0002_9.2.1_84_200_size.pdf'</li><li>'20211018_0003_9.2.1_95_200_size.pdf'</li><li>'20211018_0004_9.2.1_101_200_size.pdf'</li><li>'20211018_0005_9.2.1_109_2000_size.pdf'</li><li>'20211018_0006_9.2.1_124_2000_size.pdf'</li><li>'20211018_0007_9.2.1_125_2000_size.pdf'</li></ol>\n"
      ],
      "text/latex": [
       "\\begin{enumerate*}\n",
       "\\item '20211018\\_0002\\_9.2.1\\_84\\_200\\_size.pdf'\n",
       "\\item '20211018\\_0003\\_9.2.1\\_95\\_200\\_size.pdf'\n",
       "\\item '20211018\\_0004\\_9.2.1\\_101\\_200\\_size.pdf'\n",
       "\\item '20211018\\_0005\\_9.2.1\\_109\\_2000\\_size.pdf'\n",
       "\\item '20211018\\_0006\\_9.2.1\\_124\\_2000\\_size.pdf'\n",
       "\\item '20211018\\_0007\\_9.2.1\\_125\\_2000\\_size.pdf'\n",
       "\\end{enumerate*}\n"
      ],
      "text/markdown": [
       "1. '20211018_0002_9.2.1_84_200_size.pdf'\n",
       "2. '20211018_0003_9.2.1_95_200_size.pdf'\n",
       "3. '20211018_0004_9.2.1_101_200_size.pdf'\n",
       "4. '20211018_0005_9.2.1_109_2000_size.pdf'\n",
       "5. '20211018_0006_9.2.1_124_2000_size.pdf'\n",
       "6. '20211018_0007_9.2.1_125_2000_size.pdf'\n",
       "\n",
       "\n"
      ],
      "text/plain": [
       "[1] \"20211018_0002_9.2.1_84_200_size.pdf\"  \n",
       "[2] \"20211018_0003_9.2.1_95_200_size.pdf\"  \n",
       "[3] \"20211018_0004_9.2.1_101_200_size.pdf\" \n",
       "[4] \"20211018_0005_9.2.1_109_2000_size.pdf\"\n",
       "[5] \"20211018_0006_9.2.1_124_2000_size.pdf\"\n",
       "[6] \"20211018_0007_9.2.1_125_2000_size.pdf\""
      ]
     },
     "metadata": {},
     "output_type": "display_data"
    }
   ],
   "source": [
    "setwd('/Users/alexis/University of North Carolina at Chapel Hill/Rager, Julia - CEMALB_DataAnalysisPM/Projects/P1. InVitroWildfire EVProteomics/P1.2. Original Data')\n",
    "Output = ('/Users/alexis/University of North Carolina at Chapel Hill/Rager, Julia - CEMALB_DataAnalysisPM/Projects/P1. InVitroWildfire EVProteomics/P1.3. Analyses/P1.3.1. PDF Data Extraction/Output')\n",
    "\n",
    "# library(readxl)\n",
    "# library(tidyverse)\n",
    "# library(reshape2)\n",
    "library(pdftools)\n",
    "library(tm)\n",
    "\n",
    "#only grabs files ending in \"pdf\"\n",
    "all_files = list.files(pattern = \"pdf$\")\n",
    "head(all_files)"
   ]
  },
  {
   "cell_type": "code",
   "execution_count": 2,
   "id": "loaded-haven",
   "metadata": {},
   "outputs": [
    {
     "name": "stderr",
     "output_type": "stream",
     "text": [
      "PDF error: Invalid least number of objects reading page offset hints table\n",
      "\n",
      "PDF error: Invalid least number of objects reading page offset hints table\n",
      "\n",
      "PDF error: Invalid least number of objects reading page offset hints table\n",
      "\n",
      "PDF error: Invalid least number of objects reading page offset hints table\n",
      "\n",
      "PDF error: Invalid least number of objects reading page offset hints table\n",
      "\n",
      "PDF error: Invalid least number of objects reading page offset hints table\n",
      "\n",
      "PDF error: Invalid least number of objects reading page offset hints table\n",
      "\n",
      "PDF error: Invalid least number of objects reading page offset hints table\n",
      "\n",
      "PDF error: Invalid least number of objects reading page offset hints table\n",
      "\n",
      "PDF error: Invalid least number of objects reading page offset hints table\n",
      "\n",
      "PDF error: Invalid least number of objects reading page offset hints table\n",
      "\n",
      "PDF error: Invalid least number of objects reading page offset hints table\n",
      "\n",
      "PDF error: Invalid least number of objects reading page offset hints table\n",
      "\n",
      "PDF error: Invalid least number of objects reading page offset hints table\n",
      "\n",
      "PDF error: Invalid least number of objects reading page offset hints table\n",
      "\n",
      "PDF error: Invalid least number of objects reading page offset hints table\n",
      "\n",
      "PDF error: Invalid least number of objects reading page offset hints table\n",
      "\n",
      "PDF error: Invalid least number of objects reading page offset hints table\n",
      "\n",
      "PDF error: Invalid least number of objects reading page offset hints table\n",
      "\n",
      "PDF error: Invalid least number of objects reading page offset hints table\n",
      "\n",
      "PDF error: Invalid least number of objects reading page offset hints table\n",
      "\n",
      "PDF error: Invalid least number of objects reading page offset hints table\n",
      "\n",
      "PDF error: Invalid least number of objects reading page offset hints table\n",
      "\n",
      "PDF error: Invalid least number of objects reading page offset hints table\n",
      "\n",
      "PDF error: Invalid least number of objects reading page offset hints table\n",
      "\n",
      "PDF error: Invalid least number of objects reading page offset hints table\n",
      "\n",
      "PDF error: Invalid least number of objects reading page offset hints table\n",
      "\n",
      "PDF error: Invalid least number of objects reading page offset hints table\n",
      "\n",
      "PDF error: Invalid least number of objects reading page offset hints table\n",
      "\n",
      "PDF error: Invalid least number of objects reading page offset hints table\n",
      "\n",
      "PDF error: Invalid least number of objects reading page offset hints table\n",
      "\n",
      "PDF error: Invalid least number of objects reading page offset hints table\n",
      "\n",
      "PDF error: Invalid least number of objects reading page offset hints table\n",
      "\n",
      "PDF error: Invalid least number of objects reading page offset hints table\n",
      "\n",
      "PDF error: Invalid least number of objects reading page offset hints table\n",
      "\n",
      "PDF error: Invalid least number of objects reading page offset hints table\n",
      "\n",
      "PDF error: Invalid least number of objects reading page offset hints table\n",
      "\n",
      "PDF error: Invalid least number of objects reading page offset hints table\n",
      "\n",
      "PDF error: Invalid least number of objects reading page offset hints table\n",
      "\n",
      "PDF error: Invalid least number of objects reading page offset hints table\n",
      "\n",
      "PDF error: Invalid least number of objects reading page offset hints table\n",
      "\n",
      "PDF error: Invalid least number of objects reading page offset hints table\n",
      "\n"
     ]
    },
    {
     "data": {
      "text/html": [
       "<ol>\n",
       "\t<li><span style=white-space:pre-wrap>'                                                                                                      Electrophoresis &amp; Brownian Motion\\n                                                                                                                Video Analysis\\n                                                                                                         Laser Scattering Microscopy\\n                                           www.particle-metrix.de\\n\\n                                                                                       Operator (Report): sop_kabanovlab.inst\\n                                                                                       Video Operator: sop_kabanovlab.inst\\n\\n\\n\\n\\n Sample Parameters                                                                     Result (sizes in nm)\\n Sample Name: 9.2.1_84_200                                                                                Number      Concentration   Volume\\n Comment: Sample Remarks0:                                                             Median (X50)        123.3       123.3      1907.5\\n Sample Remarks1:                                                                      Span                180.7       180.3      619.5\\n Sample Remarks2:\\n Electrolyte:                                                                          Concentration:                 2.4E+7 Particles / mL\\n Temperature: 23.04 °C sensed                                                          Dilution Factor:                     200\\n pH 7.0 entered                                                                        Original Concentration:        4.7E+9 Particles / mL\\n Conductivity: 15000.00 µS/cm sensed\\n\\n                                                                                       Quality\\n                                                                                       Average Counted Particles per Frame: 52\\n Measurement Parameters                                                                Number of Traced Particles: 234\\n Cell S/N: ZNTA\\n\\n Measurement Mode: Size Distribution 1 Cycle                                           Analysis Parameters\\n 11 Positions, 2 Removed for Analysis                                                  Max Area: 10000, Min Area: 5, Min Brightness: 20\\n 8.0E+6                                                                                2.4E+8\\n                                                                                       2.2E+8\\n 7.0E+6\\n                                                                                        2E+8\\n 6.0E+6                                                                                1.8E+8\\n                                                                                       1.6E+8\\n 5.0E+6\\n                                                                                       1.4E+8\\n\\n 4.0E+6                                                                                1.2E+8\\n                                                                                        1E+8\\n 3.0E+6\\n                                                                                        8E+7\\n\\n 2.0E+6                                                                                 6E+7\\n                                                                                        4E+7\\n 1.0E+6\\n                                                                                        2E+7\\n\\n 0.0E+0                                                                                     0\\n          0   100   200     300   400 500 600      700     800   900   1000                     0   100   200   300   400  500     600   700    800   900   1000\\n                                   Diameter / nm                                                                       Diameter / nm\\n\\n\\n\\n\\nPeak Analysis (Concentration)\\nDiameter / nm             Particles/mL       FWHM / nm             Percentage\\n       137.4                   4.2E+6            127.3                  100.0\\n\\nX Values (all sizes are given in nm)\\n               Number             Concentration          Volume\\n   X10           59.2                     59.2            401.5\\n   X50          123.3                    123.3           1907.5\\n   X90          276.6                    276.6           1929.5\\n  Span            1.8                       1.8              0.8\\n Mean           180.9                    180.9           1426.5\\n                                                                                            Comment\\nStdDev          180.7                    180.3            619.5\\n\\n\\n\\n\\n                                                                                                                                                               (Signature)\\n\\nAnalyzed Video: D:\\\\zetaview\\\\NCore\\\\Julia\\\\Oct18_21\\\\20211018_0002_9.2.1_84_200_size.avi\\n\\n\\nZetaVIEW S/N 19-490, Software ZetaView (version 8.05.11 SP4), Camera 0.713 mum/px                                Experiment: 2021-10-18 10:51, Report: 2021-10-18 10:53\\n'</span></li>\n",
       "</ol>\n"
      ],
      "text/latex": [
       "\\begin{enumerate}\n",
       "\\item '                                                                                                      Electrophoresis \\& Brownian Motion\\textbackslash{}n                                                                                                                Video Analysis\\textbackslash{}n                                                                                                         Laser Scattering Microscopy\\textbackslash{}n                                           www.particle-metrix.de\\textbackslash{}n\\textbackslash{}n                                                                                       Operator (Report): sop\\_kabanovlab.inst\\textbackslash{}n                                                                                       Video Operator: sop\\_kabanovlab.inst\\textbackslash{}n\\textbackslash{}n\\textbackslash{}n\\textbackslash{}n\\textbackslash{}n Sample Parameters                                                                     Result (sizes in nm)\\textbackslash{}n Sample Name: 9.2.1\\_84\\_200                                                                                Number      Concentration   Volume\\textbackslash{}n Comment: Sample Remarks0:                                                             Median (X50)        123.3       123.3      1907.5\\textbackslash{}n Sample Remarks1:                                                                      Span                180.7       180.3      619.5\\textbackslash{}n Sample Remarks2:\\textbackslash{}n Electrolyte:                                                                          Concentration:                 2.4E+7 Particles / mL\\textbackslash{}n Temperature: 23.04 °C sensed                                                          Dilution Factor:                     200\\textbackslash{}n pH 7.0 entered                                                                        Original Concentration:        4.7E+9 Particles / mL\\textbackslash{}n Conductivity: 15000.00 µS/cm sensed\\textbackslash{}n\\textbackslash{}n                                                                                       Quality\\textbackslash{}n                                                                                       Average Counted Particles per Frame: 52\\textbackslash{}n Measurement Parameters                                                                Number of Traced Particles: 234\\textbackslash{}n Cell S/N: ZNTA\\textbackslash{}n\\textbackslash{}n Measurement Mode: Size Distribution 1 Cycle                                           Analysis Parameters\\textbackslash{}n 11 Positions, 2 Removed for Analysis                                                  Max Area: 10000, Min Area: 5, Min Brightness: 20\\textbackslash{}n 8.0E+6                                                                                2.4E+8\\textbackslash{}n                                                                                       2.2E+8\\textbackslash{}n 7.0E+6\\textbackslash{}n                                                                                        2E+8\\textbackslash{}n 6.0E+6                                                                                1.8E+8\\textbackslash{}n                                                                                       1.6E+8\\textbackslash{}n 5.0E+6\\textbackslash{}n                                                                                       1.4E+8\\textbackslash{}n\\textbackslash{}n 4.0E+6                                                                                1.2E+8\\textbackslash{}n                                                                                        1E+8\\textbackslash{}n 3.0E+6\\textbackslash{}n                                                                                        8E+7\\textbackslash{}n\\textbackslash{}n 2.0E+6                                                                                 6E+7\\textbackslash{}n                                                                                        4E+7\\textbackslash{}n 1.0E+6\\textbackslash{}n                                                                                        2E+7\\textbackslash{}n\\textbackslash{}n 0.0E+0                                                                                     0\\textbackslash{}n          0   100   200     300   400 500 600      700     800   900   1000                     0   100   200   300   400  500     600   700    800   900   1000\\textbackslash{}n                                   Diameter / nm                                                                       Diameter / nm\\textbackslash{}n\\textbackslash{}n\\textbackslash{}n\\textbackslash{}n\\textbackslash{}nPeak Analysis (Concentration)\\textbackslash{}nDiameter / nm             Particles/mL       FWHM / nm             Percentage\\textbackslash{}n       137.4                   4.2E+6            127.3                  100.0\\textbackslash{}n\\textbackslash{}nX Values (all sizes are given in nm)\\textbackslash{}n               Number             Concentration          Volume\\textbackslash{}n   X10           59.2                     59.2            401.5\\textbackslash{}n   X50          123.3                    123.3           1907.5\\textbackslash{}n   X90          276.6                    276.6           1929.5\\textbackslash{}n  Span            1.8                       1.8              0.8\\textbackslash{}n Mean           180.9                    180.9           1426.5\\textbackslash{}n                                                                                            Comment\\textbackslash{}nStdDev          180.7                    180.3            619.5\\textbackslash{}n\\textbackslash{}n\\textbackslash{}n\\textbackslash{}n\\textbackslash{}n                                                                                                                                                               (Signature)\\textbackslash{}n\\textbackslash{}nAnalyzed Video: D:\\textbackslash{}\\textbackslash{}zetaview\\textbackslash{}\\textbackslash{}NCore\\textbackslash{}\\textbackslash{}Julia\\textbackslash{}\\textbackslash{}Oct18\\_21\\textbackslash{}\\textbackslash{}20211018\\_0002\\_9.2.1\\_84\\_200\\_size.avi\\textbackslash{}n\\textbackslash{}n\\textbackslash{}nZetaVIEW S/N 19-490, Software ZetaView (version 8.05.11 SP4), Camera 0.713 mum/px                                Experiment: 2021-10-18 10:51, Report: 2021-10-18 10:53\\textbackslash{}n'\n",
       "\\end{enumerate}\n"
      ],
      "text/markdown": [
       "1. <span style=white-space:pre-wrap>'                                                                                                      Electrophoresis &amp; Brownian Motion\\n                                                                                                                Video Analysis\\n                                                                                                         Laser Scattering Microscopy\\n                                           www.particle-metrix.de\\n\\n                                                                                       Operator (Report): sop_kabanovlab.inst\\n                                                                                       Video Operator: sop_kabanovlab.inst\\n\\n\\n\\n\\n Sample Parameters                                                                     Result (sizes in nm)\\n Sample Name: 9.2.1_84_200                                                                                Number      Concentration   Volume\\n Comment: Sample Remarks0:                                                             Median (X50)        123.3       123.3      1907.5\\n Sample Remarks1:                                                                      Span                180.7       180.3      619.5\\n Sample Remarks2:\\n Electrolyte:                                                                          Concentration:                 2.4E+7 Particles / mL\\n Temperature: 23.04 °C sensed                                                          Dilution Factor:                     200\\n pH 7.0 entered                                                                        Original Concentration:        4.7E+9 Particles / mL\\n Conductivity: 15000.00 µS/cm sensed\\n\\n                                                                                       Quality\\n                                                                                       Average Counted Particles per Frame: 52\\n Measurement Parameters                                                                Number of Traced Particles: 234\\n Cell S/N: ZNTA\\n\\n Measurement Mode: Size Distribution 1 Cycle                                           Analysis Parameters\\n 11 Positions, 2 Removed for Analysis                                                  Max Area: 10000, Min Area: 5, Min Brightness: 20\\n 8.0E+6                                                                                2.4E+8\\n                                                                                       2.2E+8\\n 7.0E+6\\n                                                                                        2E+8\\n 6.0E+6                                                                                1.8E+8\\n                                                                                       1.6E+8\\n 5.0E+6\\n                                                                                       1.4E+8\\n\\n 4.0E+6                                                                                1.2E+8\\n                                                                                        1E+8\\n 3.0E+6\\n                                                                                        8E+7\\n\\n 2.0E+6                                                                                 6E+7\\n                                                                                        4E+7\\n 1.0E+6\\n                                                                                        2E+7\\n\\n 0.0E+0                                                                                     0\\n          0   100   200     300   400 500 600      700     800   900   1000                     0   100   200   300   400  500     600   700    800   900   1000\\n                                   Diameter / nm                                                                       Diameter / nm\\n\\n\\n\\n\\nPeak Analysis (Concentration)\\nDiameter / nm             Particles/mL       FWHM / nm             Percentage\\n       137.4                   4.2E+6            127.3                  100.0\\n\\nX Values (all sizes are given in nm)\\n               Number             Concentration          Volume\\n   X10           59.2                     59.2            401.5\\n   X50          123.3                    123.3           1907.5\\n   X90          276.6                    276.6           1929.5\\n  Span            1.8                       1.8              0.8\\n Mean           180.9                    180.9           1426.5\\n                                                                                            Comment\\nStdDev          180.7                    180.3            619.5\\n\\n\\n\\n\\n                                                                                                                                                               (Signature)\\n\\nAnalyzed Video: D:\\\\zetaview\\\\NCore\\\\Julia\\\\Oct18_21\\\\20211018_0002_9.2.1_84_200_size.avi\\n\\n\\nZetaVIEW S/N 19-490, Software ZetaView (version 8.05.11 SP4), Camera 0.713 mum/px                                Experiment: 2021-10-18 10:51, Report: 2021-10-18 10:53\\n'</span>\n",
       "\n",
       "\n"
      ],
      "text/plain": [
       "[[1]]\n",
       "[1] \"                                                                                                      Electrophoresis & Brownian Motion\\n                                                                                                                Video Analysis\\n                                                                                                         Laser Scattering Microscopy\\n                                           www.particle-metrix.de\\n\\n                                                                                       Operator (Report): sop_kabanovlab.inst\\n                                                                                       Video Operator: sop_kabanovlab.inst\\n\\n\\n\\n\\n Sample Parameters                                                                     Result (sizes in nm)\\n Sample Name: 9.2.1_84_200                                                                                Number      Concentration   Volume\\n Comment: Sample Remarks0:                                                             Median (X50)        123.3       123.3      1907.5\\n Sample Remarks1:                                                                      Span                180.7       180.3      619.5\\n Sample Remarks2:\\n Electrolyte:                                                                          Concentration:                 2.4E+7 Particles / mL\\n Temperature: 23.04 °C sensed                                                          Dilution Factor:                     200\\n pH 7.0 entered                                                                        Original Concentration:        4.7E+9 Particles / mL\\n Conductivity: 15000.00 µS/cm sensed\\n\\n                                                                                       Quality\\n                                                                                       Average Counted Particles per Frame: 52\\n Measurement Parameters                                                                Number of Traced Particles: 234\\n Cell S/N: ZNTA\\n\\n Measurement Mode: Size Distribution 1 Cycle                                           Analysis Parameters\\n 11 Positions, 2 Removed for Analysis                                                  Max Area: 10000, Min Area: 5, Min Brightness: 20\\n 8.0E+6                                                                                2.4E+8\\n                                                                                       2.2E+8\\n 7.0E+6\\n                                                                                        2E+8\\n 6.0E+6                                                                                1.8E+8\\n                                                                                       1.6E+8\\n 5.0E+6\\n                                                                                       1.4E+8\\n\\n 4.0E+6                                                                                1.2E+8\\n                                                                                        1E+8\\n 3.0E+6\\n                                                                                        8E+7\\n\\n 2.0E+6                                                                                 6E+7\\n                                                                                        4E+7\\n 1.0E+6\\n                                                                                        2E+7\\n\\n 0.0E+0                                                                                     0\\n          0   100   200     300   400 500 600      700     800   900   1000                     0   100   200   300   400  500     600   700    800   900   1000\\n                                   Diameter / nm                                                                       Diameter / nm\\n\\n\\n\\n\\nPeak Analysis (Concentration)\\nDiameter / nm             Particles/mL       FWHM / nm             Percentage\\n       137.4                   4.2E+6            127.3                  100.0\\n\\nX Values (all sizes are given in nm)\\n               Number             Concentration          Volume\\n   X10           59.2                     59.2            401.5\\n   X50          123.3                    123.3           1907.5\\n   X90          276.6                    276.6           1929.5\\n  Span            1.8                       1.8              0.8\\n Mean           180.9                    180.9           1426.5\\n                                                                                            Comment\\nStdDev          180.7                    180.3            619.5\\n\\n\\n\\n\\n                                                                                                                                                               (Signature)\\n\\nAnalyzed Video: D:\\\\zetaview\\\\NCore\\\\Julia\\\\Oct18_21\\\\20211018_0002_9.2.1_84_200_size.avi\\n\\n\\nZetaVIEW S/N 19-490, Software ZetaView (version 8.05.11 SP4), Camera 0.713 mum/px                                Experiment: 2021-10-18 10:51, Report: 2021-10-18 10:53\\n\"\n"
      ]
     },
     "metadata": {},
     "output_type": "display_data"
    }
   ],
   "source": [
    "#pdftools extracts text from each file\n",
    "#this gives an error, but we still get the text that's now stored in the vector\n",
    "extracted_text_files = lapply(all_files, pdf_text)\n",
    "extracted_text_files[1]"
   ]
  },
  {
   "cell_type": "code",
   "execution_count": 12,
   "id": "reserved-tulsa",
   "metadata": {},
   "outputs": [
    {
     "data": {
      "text/html": [
       "'list'"
      ],
      "text/latex": [
       "'list'"
      ],
      "text/markdown": [
       "'list'"
      ],
      "text/plain": [
       "[1] \"list\""
      ]
     },
     "metadata": {},
     "output_type": "display_data"
    },
    {
     "data": {
      "text/html": [
       "1"
      ],
      "text/latex": [
       "1"
      ],
      "text/markdown": [
       "1"
      ],
      "text/plain": [
       "[1] 1"
      ]
     },
     "metadata": {},
     "output_type": "display_data"
    }
   ],
   "source": [
    "a = extracted_text_files[1]\n",
    "class(a)\n",
    "length(a)"
   ]
  },
  {
   "cell_type": "code",
   "execution_count": 6,
   "id": "known-theme",
   "metadata": {},
   "outputs": [
    {
     "name": "stderr",
     "output_type": "stream",
     "text": [
      "PDF error: Invalid least number of objects reading page offset hints table\n",
      "\n",
      "PDF error: Invalid least number of objects reading page offset hints table\n",
      "\n",
      "PDF error: Invalid least number of objects reading page offset hints table\n",
      "\n",
      "PDF error: Invalid least number of objects reading page offset hints table\n",
      "\n",
      "PDF error: Invalid least number of objects reading page offset hints table\n",
      "\n",
      "PDF error: Invalid least number of objects reading page offset hints table\n",
      "\n",
      "PDF error: Invalid least number of objects reading page offset hints table\n",
      "\n",
      "PDF error: Invalid least number of objects reading page offset hints table\n",
      "\n",
      "PDF error: Invalid least number of objects reading page offset hints table\n",
      "\n",
      "PDF error: Invalid least number of objects reading page offset hints table\n",
      "\n",
      "PDF error: Invalid least number of objects reading page offset hints table\n",
      "\n",
      "PDF error: Invalid least number of objects reading page offset hints table\n",
      "\n",
      "PDF error: Invalid least number of objects reading page offset hints table\n",
      "\n",
      "PDF error: Invalid least number of objects reading page offset hints table\n",
      "\n",
      "PDF error: Invalid least number of objects reading page offset hints table\n",
      "\n",
      "PDF error: Invalid least number of objects reading page offset hints table\n",
      "\n",
      "PDF error: Invalid least number of objects reading page offset hints table\n",
      "\n",
      "PDF error: Invalid least number of objects reading page offset hints table\n",
      "\n",
      "PDF error: Invalid least number of objects reading page offset hints table\n",
      "\n",
      "PDF error: Invalid least number of objects reading page offset hints table\n",
      "\n",
      "PDF error: Invalid least number of objects reading page offset hints table\n",
      "\n",
      "PDF error: Invalid least number of objects reading page offset hints table\n",
      "\n",
      "PDF error: Invalid least number of objects reading page offset hints table\n",
      "\n",
      "PDF error: Invalid least number of objects reading page offset hints table\n",
      "\n",
      "PDF error: Invalid least number of objects reading page offset hints table\n",
      "\n",
      "PDF error: Invalid least number of objects reading page offset hints table\n",
      "\n",
      "PDF error: Invalid least number of objects reading page offset hints table\n",
      "\n",
      "PDF error: Invalid least number of objects reading page offset hints table\n",
      "\n",
      "PDF error: Invalid least number of objects reading page offset hints table\n",
      "\n",
      "PDF error: Invalid least number of objects reading page offset hints table\n",
      "\n",
      "PDF error: Invalid least number of objects reading page offset hints table\n",
      "\n",
      "PDF error: Invalid least number of objects reading page offset hints table\n",
      "\n",
      "PDF error: Invalid least number of objects reading page offset hints table\n",
      "\n",
      "PDF error: Invalid least number of objects reading page offset hints table\n",
      "\n",
      "PDF error: Invalid least number of objects reading page offset hints table\n",
      "\n",
      "PDF error: Invalid least number of objects reading page offset hints table\n",
      "\n",
      "PDF error: Invalid least number of objects reading page offset hints table\n",
      "\n",
      "PDF error: Invalid least number of objects reading page offset hints table\n",
      "\n",
      "PDF error: Invalid least number of objects reading page offset hints table\n",
      "\n",
      "PDF error: Invalid least number of objects reading page offset hints table\n",
      "\n",
      "PDF error: Invalid least number of objects reading page offset hints table\n",
      "\n",
      "PDF error: Invalid least number of objects reading page offset hints table\n",
      "\n"
     ]
    },
    {
     "data": {
      "text/plain": [
       "<<VCorpus>>\n",
       "Metadata:  corpus specific: 0, document level (indexed): 0\n",
       "Content:  documents: 6"
      ]
     },
     "metadata": {},
     "output_type": "display_data"
    }
   ],
   "source": [
    "#however this text still isn't readable by R, so a corpus (database) for text is now created\n",
    "corp = Corpus(URISource(all_files),\n",
    "               readerControl = list(reader = readPDF))\n",
    "head(corp)"
   ]
  },
  {
   "cell_type": "markdown",
   "id": "abstract-display",
   "metadata": {},
   "source": [
    "# Data we want to extract:\n",
    "\n",
    "1. Pdf file name as the sample identifier\n",
    "2. Original Concentration\n",
    "3. Some of the ‘X Values’ table listed on the bottom left, specifically the: X10 Concentration, X50 Concentration, X90 Concentration, and Mean Concentration, and StdDev Concentration"
   ]
  },
  {
   "cell_type": "code",
   "execution_count": 16,
   "id": "traditional-hopkins",
   "metadata": {},
   "outputs": [
    {
     "name": "stdout",
     "output_type": "stream",
     "text": [
      "[1] 1\n"
     ]
    }
   ],
   "source": [
    "#getting OG concentration\n",
    "for (i in 1:length(extracted_text_files[1])){\n",
    "#     if (extracted_text_files[1][i] == 'n'){\n",
    "#         print(i)\n",
    "#     }\n",
    "    print(i)\n",
    "}"
   ]
  },
  {
   "cell_type": "code",
   "execution_count": 17,
   "id": "adapted-workshop",
   "metadata": {},
   "outputs": [
    {
     "data": {
      "text/html": [
       "1"
      ],
      "text/latex": [
       "1"
      ],
      "text/markdown": [
       "1"
      ],
      "text/plain": [
       "[1] 1"
      ]
     },
     "metadata": {},
     "output_type": "display_data"
    }
   ],
   "source": [
    "length(extracted_text_files[1])"
   ]
  },
  {
   "cell_type": "code",
   "execution_count": null,
   "id": "alpha-hands",
   "metadata": {},
   "outputs": [],
   "source": []
  }
 ],
 "metadata": {
  "kernelspec": {
   "display_name": "R",
   "language": "R",
   "name": "ir"
  },
  "language_info": {
   "codemirror_mode": "r",
   "file_extension": ".r",
   "mimetype": "text/x-r-source",
   "name": "R",
   "pygments_lexer": "r",
   "version": "3.6.3"
  }
 },
 "nbformat": 4,
 "nbformat_minor": 5
}
