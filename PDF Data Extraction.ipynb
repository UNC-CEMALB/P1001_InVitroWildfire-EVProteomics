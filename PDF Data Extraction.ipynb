{
 "cells": [
  {
   "cell_type": "code",
   "execution_count": 1,
   "id": "harmful-benchmark",
   "metadata": {},
   "outputs": [
    {
     "name": "stderr",
     "output_type": "stream",
     "text": [
      "── \u001b[1mAttaching packages\u001b[22m ─────────────────────────────────────── tidyverse 1.3.0 ──\n",
      "\n",
      "\u001b[32m✔\u001b[39m \u001b[34mggplot2\u001b[39m 3.3.3     \u001b[32m✔\u001b[39m \u001b[34mpurrr  \u001b[39m 0.3.4\n",
      "\u001b[32m✔\u001b[39m \u001b[34mtibble \u001b[39m 3.0.6     \u001b[32m✔\u001b[39m \u001b[34mdplyr  \u001b[39m 1.0.4\n",
      "\u001b[32m✔\u001b[39m \u001b[34mtidyr  \u001b[39m 1.1.2     \u001b[32m✔\u001b[39m \u001b[34mstringr\u001b[39m 1.4.0\n",
      "\u001b[32m✔\u001b[39m \u001b[34mreadr  \u001b[39m 1.4.0     \u001b[32m✔\u001b[39m \u001b[34mforcats\u001b[39m 0.5.1\n",
      "\n",
      "── \u001b[1mConflicts\u001b[22m ────────────────────────────────────────── tidyverse_conflicts() ──\n",
      "\u001b[31m✖\u001b[39m \u001b[34mdplyr\u001b[39m::\u001b[32mfilter()\u001b[39m masks \u001b[34mstats\u001b[39m::filter()\n",
      "\u001b[31m✖\u001b[39m \u001b[34mdplyr\u001b[39m::\u001b[32mlag()\u001b[39m    masks \u001b[34mstats\u001b[39m::lag()\n",
      "\n",
      "Using poppler version 20.12.1\n",
      "\n",
      "Loading required package: NLP\n",
      "\n",
      "\n",
      "Attaching package: ‘NLP’\n",
      "\n",
      "\n",
      "The following object is masked from ‘package:ggplot2’:\n",
      "\n",
      "    annotate\n",
      "\n",
      "\n"
     ]
    },
    {
     "data": {
      "text/html": [
       "<style>\n",
       ".list-inline {list-style: none; margin:0; padding: 0}\n",
       ".list-inline>li {display: inline-block}\n",
       ".list-inline>li:not(:last-child)::after {content: \"\\00b7\"; padding: 0 .5ex}\n",
       "</style>\n",
       "<ol class=list-inline><li>'20211018_0002_9.2.1_84_200_size.pdf'</li><li>'20211018_0003_9.2.1_95_200_size.pdf'</li><li>'20211018_0004_9.2.1_101_200_size.pdf'</li><li>'20211018_0005_9.2.1_109_2000_size.pdf'</li><li>'20211018_0006_9.2.1_124_2000_size.pdf'</li><li>'20211018_0007_9.2.1_125_2000_size.pdf'</li></ol>\n"
      ],
      "text/latex": [
       "\\begin{enumerate*}\n",
       "\\item '20211018\\_0002\\_9.2.1\\_84\\_200\\_size.pdf'\n",
       "\\item '20211018\\_0003\\_9.2.1\\_95\\_200\\_size.pdf'\n",
       "\\item '20211018\\_0004\\_9.2.1\\_101\\_200\\_size.pdf'\n",
       "\\item '20211018\\_0005\\_9.2.1\\_109\\_2000\\_size.pdf'\n",
       "\\item '20211018\\_0006\\_9.2.1\\_124\\_2000\\_size.pdf'\n",
       "\\item '20211018\\_0007\\_9.2.1\\_125\\_2000\\_size.pdf'\n",
       "\\end{enumerate*}\n"
      ],
      "text/markdown": [
       "1. '20211018_0002_9.2.1_84_200_size.pdf'\n",
       "2. '20211018_0003_9.2.1_95_200_size.pdf'\n",
       "3. '20211018_0004_9.2.1_101_200_size.pdf'\n",
       "4. '20211018_0005_9.2.1_109_2000_size.pdf'\n",
       "5. '20211018_0006_9.2.1_124_2000_size.pdf'\n",
       "6. '20211018_0007_9.2.1_125_2000_size.pdf'\n",
       "\n",
       "\n"
      ],
      "text/plain": [
       "[1] \"20211018_0002_9.2.1_84_200_size.pdf\"  \n",
       "[2] \"20211018_0003_9.2.1_95_200_size.pdf\"  \n",
       "[3] \"20211018_0004_9.2.1_101_200_size.pdf\" \n",
       "[4] \"20211018_0005_9.2.1_109_2000_size.pdf\"\n",
       "[5] \"20211018_0006_9.2.1_124_2000_size.pdf\"\n",
       "[6] \"20211018_0007_9.2.1_125_2000_size.pdf\""
      ]
     },
     "metadata": {},
     "output_type": "display_data"
    }
   ],
   "source": [
    "setwd('/Users/alexis/University of North Carolina at Chapel Hill/Rager, Julia - CEMALB_DataAnalysisPM/Projects/P1. InVitroWildfire EVProteomics/P1.2. Original Data')\n",
    "Output = ('/Users/alexis/University of North Carolina at Chapel Hill/Rager, Julia - CEMALB_DataAnalysisPM/Projects/P1. InVitroWildfire EVProteomics/P1.3. Analyses/P1.3.1. PDF Data Extraction/Output')\n",
    "cur_date = \"011222\"\n",
    "\n",
    "library(tidyverse)\n",
    "# library(reshape2)\n",
    "library(pdftools)\n",
    "library(tm)\n",
    "\n",
    "#only grabs files ending in \"pdf\"\n",
    "pdf_list = list.files(pattern = \"pdf$\")\n",
    "head(pdf_list)"
   ]
  },
  {
   "cell_type": "code",
   "execution_count": 11,
   "id": "configured-alarm",
   "metadata": {},
   "outputs": [
    {
     "data": {
      "text/html": [
       "1"
      ],
      "text/latex": [
       "1"
      ],
      "text/markdown": [
       "1"
      ],
      "text/plain": [
       "[1] 1"
      ]
     },
     "metadata": {},
     "output_type": "display_data"
    },
    {
     "data": {
      "text/html": [
       "'character'"
      ],
      "text/latex": [
       "'character'"
      ],
      "text/markdown": [
       "'character'"
      ],
      "text/plain": [
       "[1] \"character\""
      ]
     },
     "metadata": {},
     "output_type": "display_data"
    },
    {
     "name": "stdout",
     "output_type": "stream",
     "text": [
      "[1] 1\n"
     ]
    },
    {
     "ename": "ERROR",
     "evalue": "Error in strsplit(.): argument \"split\" is missing, with no default\n",
     "output_type": "error",
     "traceback": [
      "Error in strsplit(.): argument \"split\" is missing, with no default\nTraceback:\n",
      "1. c %>% strsplit()",
      "2. strsplit(.)"
     ]
    }
   ],
   "source": [
    "c = \"Original Concentration\"\n",
    "length(c)\n",
    "class(c)\n",
    "for (i in 1:length(c)){\n",
    "    print(i)\n",
    "}\n",
    "\n",
    "d = c %>% strsplit()\n",
    "length(d)"
   ]
  },
  {
   "cell_type": "code",
   "execution_count": 19,
   "id": "thorough-tutorial",
   "metadata": {},
   "outputs": [
    {
     "data": {
      "text/html": [
       "<style>\n",
       ".list-inline {list-style: none; margin:0; padding: 0}\n",
       ".list-inline>li {display: inline-block}\n",
       ".list-inline>li:not(:last-child)::after {content: \"\\00b7\"; padding: 0 .5ex}\n",
       "</style>\n",
       "<ol class=list-inline><li>'O'</li><li>'r'</li><li>'i'</li><li>'g'</li><li>'i'</li><li>'n'</li><li>'a'</li><li>'l'</li><li>' '</li><li>'C'</li><li>'o'</li><li>'n'</li><li>'c'</li><li>'e'</li><li>'n'</li><li>'t'</li><li>'r'</li><li>'a'</li><li>'t'</li><li>'i'</li><li>'o'</li><li>'n'</li></ol>\n"
      ],
      "text/latex": [
       "\\begin{enumerate*}\n",
       "\\item 'O'\n",
       "\\item 'r'\n",
       "\\item 'i'\n",
       "\\item 'g'\n",
       "\\item 'i'\n",
       "\\item 'n'\n",
       "\\item 'a'\n",
       "\\item 'l'\n",
       "\\item ' '\n",
       "\\item 'C'\n",
       "\\item 'o'\n",
       "\\item 'n'\n",
       "\\item 'c'\n",
       "\\item 'e'\n",
       "\\item 'n'\n",
       "\\item 't'\n",
       "\\item 'r'\n",
       "\\item 'a'\n",
       "\\item 't'\n",
       "\\item 'i'\n",
       "\\item 'o'\n",
       "\\item 'n'\n",
       "\\end{enumerate*}\n"
      ],
      "text/markdown": [
       "1. 'O'\n",
       "2. 'r'\n",
       "3. 'i'\n",
       "4. 'g'\n",
       "5. 'i'\n",
       "6. 'n'\n",
       "7. 'a'\n",
       "8. 'l'\n",
       "9. ' '\n",
       "10. 'C'\n",
       "11. 'o'\n",
       "12. 'n'\n",
       "13. 'c'\n",
       "14. 'e'\n",
       "15. 'n'\n",
       "16. 't'\n",
       "17. 'r'\n",
       "18. 'a'\n",
       "19. 't'\n",
       "20. 'i'\n",
       "21. 'o'\n",
       "22. 'n'\n",
       "\n",
       "\n"
      ],
      "text/plain": [
       " [1] \"O\" \"r\" \"i\" \"g\" \"i\" \"n\" \"a\" \"l\" \" \" \"C\" \"o\" \"n\" \"c\" \"e\" \"n\" \"t\" \"r\" \"a\" \"t\"\n",
       "[20] \"i\" \"o\" \"n\""
      ]
     },
     "metadata": {},
     "output_type": "display_data"
    },
    {
     "data": {
      "text/html": [
       "22"
      ],
      "text/latex": [
       "22"
      ],
      "text/markdown": [
       "22"
      ],
      "text/plain": [
       "[1] 22"
      ]
     },
     "metadata": {},
     "output_type": "display_data"
    }
   ],
   "source": [
    "e = strsplit(c, \"\") %>% unlist()\n",
    "e\n",
    "length(e)"
   ]
  },
  {
   "cell_type": "code",
   "execution_count": 27,
   "id": "static-ability",
   "metadata": {},
   "outputs": [
    {
     "data": {
      "text/html": [
       "<style>\n",
       ".list-inline {list-style: none; margin:0; padding: 0}\n",
       ".list-inline>li {display: inline-block}\n",
       ".list-inline>li:not(:last-child)::after {content: \"\\00b7\"; padding: 0 .5ex}\n",
       "</style>\n",
       "<ol class=list-inline><li>'O'</li><li>'r'</li><li>'i'</li><li>'g'</li><li>'i'</li><li>'n'</li><li>'a'</li><li>'l'</li></ol>\n"
      ],
      "text/latex": [
       "\\begin{enumerate*}\n",
       "\\item 'O'\n",
       "\\item 'r'\n",
       "\\item 'i'\n",
       "\\item 'g'\n",
       "\\item 'i'\n",
       "\\item 'n'\n",
       "\\item 'a'\n",
       "\\item 'l'\n",
       "\\end{enumerate*}\n"
      ],
      "text/markdown": [
       "1. 'O'\n",
       "2. 'r'\n",
       "3. 'i'\n",
       "4. 'g'\n",
       "5. 'i'\n",
       "6. 'n'\n",
       "7. 'a'\n",
       "8. 'l'\n",
       "\n",
       "\n"
      ],
      "text/plain": [
       "[1] \"O\" \"r\" \"i\" \"g\" \"i\" \"n\" \"a\" \"l\""
      ]
     },
     "metadata": {},
     "output_type": "display_data"
    },
    {
     "data": {
      "text/html": [
       "8"
      ],
      "text/latex": [
       "8"
      ],
      "text/markdown": [
       "8"
      ],
      "text/plain": [
       "[1] 8"
      ]
     },
     "metadata": {},
     "output_type": "display_data"
    }
   ],
   "source": [
    "f = paste(e[1:8])\n",
    "f\n",
    "length(f)"
   ]
  },
  {
   "cell_type": "code",
   "execution_count": 10,
   "id": "harmful-symbol",
   "metadata": {},
   "outputs": [
    {
     "name": "stderr",
     "output_type": "stream",
     "text": [
      "PDF error: Invalid least number of objects reading page offset hints table\n",
      "\n",
      "PDF error: Invalid least number of objects reading page offset hints table\n",
      "\n",
      "PDF error: Invalid least number of objects reading page offset hints table\n",
      "\n",
      "PDF error: Invalid least number of objects reading page offset hints table\n",
      "\n",
      "PDF error: Invalid least number of objects reading page offset hints table\n",
      "\n",
      "PDF error: Invalid least number of objects reading page offset hints table\n",
      "\n",
      "PDF error: Invalid least number of objects reading page offset hints table\n",
      "\n",
      "PDF error: Invalid least number of objects reading page offset hints table\n",
      "\n",
      "PDF error: Invalid least number of objects reading page offset hints table\n",
      "\n",
      "PDF error: Invalid least number of objects reading page offset hints table\n",
      "\n",
      "PDF error: Invalid least number of objects reading page offset hints table\n",
      "\n",
      "PDF error: Invalid least number of objects reading page offset hints table\n",
      "\n",
      "PDF error: Invalid least number of objects reading page offset hints table\n",
      "\n",
      "PDF error: Invalid least number of objects reading page offset hints table\n",
      "\n",
      "PDF error: Invalid least number of objects reading page offset hints table\n",
      "\n",
      "PDF error: Invalid least number of objects reading page offset hints table\n",
      "\n",
      "PDF error: Invalid least number of objects reading page offset hints table\n",
      "\n",
      "PDF error: Invalid least number of objects reading page offset hints table\n",
      "\n",
      "PDF error: Invalid least number of objects reading page offset hints table\n",
      "\n",
      "PDF error: Invalid least number of objects reading page offset hints table\n",
      "\n",
      "PDF error: Invalid least number of objects reading page offset hints table\n",
      "\n",
      "PDF error: Invalid least number of objects reading page offset hints table\n",
      "\n",
      "PDF error: Invalid least number of objects reading page offset hints table\n",
      "\n",
      "PDF error: Invalid least number of objects reading page offset hints table\n",
      "\n",
      "PDF error: Invalid least number of objects reading page offset hints table\n",
      "\n",
      "PDF error: Invalid least number of objects reading page offset hints table\n",
      "\n",
      "PDF error: Invalid least number of objects reading page offset hints table\n",
      "\n",
      "PDF error: Invalid least number of objects reading page offset hints table\n",
      "\n",
      "PDF error: Invalid least number of objects reading page offset hints table\n",
      "\n",
      "PDF error: Invalid least number of objects reading page offset hints table\n",
      "\n",
      "PDF error: Invalid least number of objects reading page offset hints table\n",
      "\n",
      "PDF error: Invalid least number of objects reading page offset hints table\n",
      "\n",
      "PDF error: Invalid least number of objects reading page offset hints table\n",
      "\n",
      "PDF error: Invalid least number of objects reading page offset hints table\n",
      "\n",
      "PDF error: Invalid least number of objects reading page offset hints table\n",
      "\n",
      "PDF error: Invalid least number of objects reading page offset hints table\n",
      "\n",
      "PDF error: Invalid least number of objects reading page offset hints table\n",
      "\n",
      "PDF error: Invalid least number of objects reading page offset hints table\n",
      "\n",
      "PDF error: Invalid least number of objects reading page offset hints table\n",
      "\n",
      "PDF error: Invalid least number of objects reading page offset hints table\n",
      "\n",
      "PDF error: Invalid least number of objects reading page offset hints table\n",
      "\n",
      "PDF error: Invalid least number of objects reading page offset hints table\n",
      "\n"
     ]
    }
   ],
   "source": [
    "for (i in 1:length(pdf_list)){\n",
    "    #pdftools extracts text from each file\n",
    "    #this gives an error, but we still get each line of text that's now stored in the vector\n",
    "    one_extracted_file = pdf_text(pdf_list[i]) %>%\n",
    "    #text is currently class 'list', but converted to character to make parsing possible\n",
    "    as.character %>%\n",
    "    strsplit(split = \"\\n\")\n",
    "    \n",
    "    #this splits the entire text of each file into individual characters\n",
    "    fully_parsed_text = one_extracted_file[i] %>%\n",
    "        as.character %>%\n",
    "        strsplit(split = \"\") %>%\n",
    "        unlist()\n",
    "    #delete later: just wanted to see first pdf file\n",
    "    if (i == 1){\n",
    "        #print(fully_parsed_text) This works!!\n",
    "         for (j in 1:length(fully_parsed_text)){\n",
    "#             print(j)\n",
    "             one_character = fully_parsed_text[j]\n",
    "             one_character[j]:one_character\n",
    "             if (paste(fullyj+8:j+22 == \"Original Concentration\"){\n",
    "                 print(j)\n",
    "                \n",
    "             }\n",
    "        }\n",
    "    }\n",
    "}"
   ]
  },
  {
   "cell_type": "markdown",
   "id": "emerging-update",
   "metadata": {},
   "source": [
    "DELETE BELOW"
   ]
  },
  {
   "cell_type": "code",
   "execution_count": 20,
   "id": "loaded-haven",
   "metadata": {},
   "outputs": [
    {
     "name": "stderr",
     "output_type": "stream",
     "text": [
      "PDF error: Invalid least number of objects reading page offset hints table\n",
      "\n",
      "PDF error: Invalid least number of objects reading page offset hints table\n",
      "\n",
      "PDF error: Invalid least number of objects reading page offset hints table\n",
      "\n",
      "PDF error: Invalid least number of objects reading page offset hints table\n",
      "\n",
      "PDF error: Invalid least number of objects reading page offset hints table\n",
      "\n",
      "PDF error: Invalid least number of objects reading page offset hints table\n",
      "\n",
      "PDF error: Invalid least number of objects reading page offset hints table\n",
      "\n",
      "PDF error: Invalid least number of objects reading page offset hints table\n",
      "\n",
      "PDF error: Invalid least number of objects reading page offset hints table\n",
      "\n",
      "PDF error: Invalid least number of objects reading page offset hints table\n",
      "\n",
      "PDF error: Invalid least number of objects reading page offset hints table\n",
      "\n",
      "PDF error: Invalid least number of objects reading page offset hints table\n",
      "\n",
      "PDF error: Invalid least number of objects reading page offset hints table\n",
      "\n",
      "PDF error: Invalid least number of objects reading page offset hints table\n",
      "\n",
      "PDF error: Invalid least number of objects reading page offset hints table\n",
      "\n",
      "PDF error: Invalid least number of objects reading page offset hints table\n",
      "\n",
      "PDF error: Invalid least number of objects reading page offset hints table\n",
      "\n",
      "PDF error: Invalid least number of objects reading page offset hints table\n",
      "\n",
      "PDF error: Invalid least number of objects reading page offset hints table\n",
      "\n",
      "PDF error: Invalid least number of objects reading page offset hints table\n",
      "\n",
      "PDF error: Invalid least number of objects reading page offset hints table\n",
      "\n",
      "PDF error: Invalid least number of objects reading page offset hints table\n",
      "\n",
      "PDF error: Invalid least number of objects reading page offset hints table\n",
      "\n",
      "PDF error: Invalid least number of objects reading page offset hints table\n",
      "\n",
      "PDF error: Invalid least number of objects reading page offset hints table\n",
      "\n",
      "PDF error: Invalid least number of objects reading page offset hints table\n",
      "\n",
      "PDF error: Invalid least number of objects reading page offset hints table\n",
      "\n",
      "PDF error: Invalid least number of objects reading page offset hints table\n",
      "\n",
      "PDF error: Invalid least number of objects reading page offset hints table\n",
      "\n",
      "PDF error: Invalid least number of objects reading page offset hints table\n",
      "\n",
      "PDF error: Invalid least number of objects reading page offset hints table\n",
      "\n",
      "PDF error: Invalid least number of objects reading page offset hints table\n",
      "\n",
      "PDF error: Invalid least number of objects reading page offset hints table\n",
      "\n",
      "PDF error: Invalid least number of objects reading page offset hints table\n",
      "\n",
      "PDF error: Invalid least number of objects reading page offset hints table\n",
      "\n",
      "PDF error: Invalid least number of objects reading page offset hints table\n",
      "\n",
      "PDF error: Invalid least number of objects reading page offset hints table\n",
      "\n",
      "PDF error: Invalid least number of objects reading page offset hints table\n",
      "\n",
      "PDF error: Invalid least number of objects reading page offset hints table\n",
      "\n",
      "PDF error: Invalid least number of objects reading page offset hints table\n",
      "\n",
      "PDF error: Invalid least number of objects reading page offset hints table\n",
      "\n",
      "PDF error: Invalid least number of objects reading page offset hints table\n",
      "\n"
     ]
    },
    {
     "data": {
      "text/html": [
       "<span style=white-space:pre-wrap>'                                                                                                      Electrophoresis &amp; Brownian Motion\\n                                                                                                                Video Analysis\\n                                                                                                         Laser Scattering Microscopy\\n                                           www.particle-metrix.de\\n\\n                                                                                       Operator (Report): sop_kabanovlab.inst\\n                                                                                       Video Operator: sop_kabanovlab.inst\\n\\n\\n\\n\\n Sample Parameters                                                                     Result (sizes in nm)\\n Sample Name: 9.2.1_84_200                                                                                Number      Concentration   Volume\\n Comment: Sample Remarks0:                                                             Median (X50)        123.3       123.3      1907.5\\n Sample Remarks1:                                                                      Span                180.7       180.3      619.5\\n Sample Remarks2:\\n Electrolyte:                                                                          Concentration:                 2.4E+7 Particles / mL\\n Temperature: 23.04 °C sensed                                                          Dilution Factor:                     200\\n pH 7.0 entered                                                                        Original Concentration:        4.7E+9 Particles / mL\\n Conductivity: 15000.00 µS/cm sensed\\n\\n                                                                                       Quality\\n                                                                                       Average Counted Particles per Frame: 52\\n Measurement Parameters                                                                Number of Traced Particles: 234\\n Cell S/N: ZNTA\\n\\n Measurement Mode: Size Distribution 1 Cycle                                           Analysis Parameters\\n 11 Positions, 2 Removed for Analysis                                                  Max Area: 10000, Min Area: 5, Min Brightness: 20\\n 8.0E+6                                                                                2.4E+8\\n                                                                                       2.2E+8\\n 7.0E+6\\n                                                                                        2E+8\\n 6.0E+6                                                                                1.8E+8\\n                                                                                       1.6E+8\\n 5.0E+6\\n                                                                                       1.4E+8\\n\\n 4.0E+6                                                                                1.2E+8\\n                                                                                        1E+8\\n 3.0E+6\\n                                                                                        8E+7\\n\\n 2.0E+6                                                                                 6E+7\\n                                                                                        4E+7\\n 1.0E+6\\n                                                                                        2E+7\\n\\n 0.0E+0                                                                                     0\\n          0   100   200     300   400 500 600      700     800   900   1000                     0   100   200   300   400  500     600   700    800   900   1000\\n                                   Diameter / nm                                                                       Diameter / nm\\n\\n\\n\\n\\nPeak Analysis (Concentration)\\nDiameter / nm             Particles/mL       FWHM / nm             Percentage\\n       137.4                   4.2E+6            127.3                  100.0\\n\\nX Values (all sizes are given in nm)\\n               Number             Concentration          Volume\\n   X10           59.2                     59.2            401.5\\n   X50          123.3                    123.3           1907.5\\n   X90          276.6                    276.6           1929.5\\n  Span            1.8                       1.8              0.8\\n Mean           180.9                    180.9           1426.5\\n                                                                                            Comment\\nStdDev          180.7                    180.3            619.5\\n\\n\\n\\n\\n                                                                                                                                                               (Signature)\\n\\nAnalyzed Video: D:\\\\zetaview\\\\NCore\\\\Julia\\\\Oct18_21\\\\20211018_0002_9.2.1_84_200_size.avi\\n\\n\\nZetaVIEW S/N 19-490, Software ZetaView (version 8.05.11 SP4), Camera 0.713 mum/px                                Experiment: 2021-10-18 10:51, Report: 2021-10-18 10:53\\n'</span>"
      ],
      "text/latex": [
       "'                                                                                                      Electrophoresis \\& Brownian Motion\\textbackslash{}n                                                                                                                Video Analysis\\textbackslash{}n                                                                                                         Laser Scattering Microscopy\\textbackslash{}n                                           www.particle-metrix.de\\textbackslash{}n\\textbackslash{}n                                                                                       Operator (Report): sop\\_kabanovlab.inst\\textbackslash{}n                                                                                       Video Operator: sop\\_kabanovlab.inst\\textbackslash{}n\\textbackslash{}n\\textbackslash{}n\\textbackslash{}n\\textbackslash{}n Sample Parameters                                                                     Result (sizes in nm)\\textbackslash{}n Sample Name: 9.2.1\\_84\\_200                                                                                Number      Concentration   Volume\\textbackslash{}n Comment: Sample Remarks0:                                                             Median (X50)        123.3       123.3      1907.5\\textbackslash{}n Sample Remarks1:                                                                      Span                180.7       180.3      619.5\\textbackslash{}n Sample Remarks2:\\textbackslash{}n Electrolyte:                                                                          Concentration:                 2.4E+7 Particles / mL\\textbackslash{}n Temperature: 23.04 °C sensed                                                          Dilution Factor:                     200\\textbackslash{}n pH 7.0 entered                                                                        Original Concentration:        4.7E+9 Particles / mL\\textbackslash{}n Conductivity: 15000.00 µS/cm sensed\\textbackslash{}n\\textbackslash{}n                                                                                       Quality\\textbackslash{}n                                                                                       Average Counted Particles per Frame: 52\\textbackslash{}n Measurement Parameters                                                                Number of Traced Particles: 234\\textbackslash{}n Cell S/N: ZNTA\\textbackslash{}n\\textbackslash{}n Measurement Mode: Size Distribution 1 Cycle                                           Analysis Parameters\\textbackslash{}n 11 Positions, 2 Removed for Analysis                                                  Max Area: 10000, Min Area: 5, Min Brightness: 20\\textbackslash{}n 8.0E+6                                                                                2.4E+8\\textbackslash{}n                                                                                       2.2E+8\\textbackslash{}n 7.0E+6\\textbackslash{}n                                                                                        2E+8\\textbackslash{}n 6.0E+6                                                                                1.8E+8\\textbackslash{}n                                                                                       1.6E+8\\textbackslash{}n 5.0E+6\\textbackslash{}n                                                                                       1.4E+8\\textbackslash{}n\\textbackslash{}n 4.0E+6                                                                                1.2E+8\\textbackslash{}n                                                                                        1E+8\\textbackslash{}n 3.0E+6\\textbackslash{}n                                                                                        8E+7\\textbackslash{}n\\textbackslash{}n 2.0E+6                                                                                 6E+7\\textbackslash{}n                                                                                        4E+7\\textbackslash{}n 1.0E+6\\textbackslash{}n                                                                                        2E+7\\textbackslash{}n\\textbackslash{}n 0.0E+0                                                                                     0\\textbackslash{}n          0   100   200     300   400 500 600      700     800   900   1000                     0   100   200   300   400  500     600   700    800   900   1000\\textbackslash{}n                                   Diameter / nm                                                                       Diameter / nm\\textbackslash{}n\\textbackslash{}n\\textbackslash{}n\\textbackslash{}n\\textbackslash{}nPeak Analysis (Concentration)\\textbackslash{}nDiameter / nm             Particles/mL       FWHM / nm             Percentage\\textbackslash{}n       137.4                   4.2E+6            127.3                  100.0\\textbackslash{}n\\textbackslash{}nX Values (all sizes are given in nm)\\textbackslash{}n               Number             Concentration          Volume\\textbackslash{}n   X10           59.2                     59.2            401.5\\textbackslash{}n   X50          123.3                    123.3           1907.5\\textbackslash{}n   X90          276.6                    276.6           1929.5\\textbackslash{}n  Span            1.8                       1.8              0.8\\textbackslash{}n Mean           180.9                    180.9           1426.5\\textbackslash{}n                                                                                            Comment\\textbackslash{}nStdDev          180.7                    180.3            619.5\\textbackslash{}n\\textbackslash{}n\\textbackslash{}n\\textbackslash{}n\\textbackslash{}n                                                                                                                                                               (Signature)\\textbackslash{}n\\textbackslash{}nAnalyzed Video: D:\\textbackslash{}\\textbackslash{}zetaview\\textbackslash{}\\textbackslash{}NCore\\textbackslash{}\\textbackslash{}Julia\\textbackslash{}\\textbackslash{}Oct18\\_21\\textbackslash{}\\textbackslash{}20211018\\_0002\\_9.2.1\\_84\\_200\\_size.avi\\textbackslash{}n\\textbackslash{}n\\textbackslash{}nZetaVIEW S/N 19-490, Software ZetaView (version 8.05.11 SP4), Camera 0.713 mum/px                                Experiment: 2021-10-18 10:51, Report: 2021-10-18 10:53\\textbackslash{}n'"
      ],
      "text/markdown": [
       "<span style=white-space:pre-wrap>'                                                                                                      Electrophoresis &amp; Brownian Motion\\n                                                                                                                Video Analysis\\n                                                                                                         Laser Scattering Microscopy\\n                                           www.particle-metrix.de\\n\\n                                                                                       Operator (Report): sop_kabanovlab.inst\\n                                                                                       Video Operator: sop_kabanovlab.inst\\n\\n\\n\\n\\n Sample Parameters                                                                     Result (sizes in nm)\\n Sample Name: 9.2.1_84_200                                                                                Number      Concentration   Volume\\n Comment: Sample Remarks0:                                                             Median (X50)        123.3       123.3      1907.5\\n Sample Remarks1:                                                                      Span                180.7       180.3      619.5\\n Sample Remarks2:\\n Electrolyte:                                                                          Concentration:                 2.4E+7 Particles / mL\\n Temperature: 23.04 °C sensed                                                          Dilution Factor:                     200\\n pH 7.0 entered                                                                        Original Concentration:        4.7E+9 Particles / mL\\n Conductivity: 15000.00 µS/cm sensed\\n\\n                                                                                       Quality\\n                                                                                       Average Counted Particles per Frame: 52\\n Measurement Parameters                                                                Number of Traced Particles: 234\\n Cell S/N: ZNTA\\n\\n Measurement Mode: Size Distribution 1 Cycle                                           Analysis Parameters\\n 11 Positions, 2 Removed for Analysis                                                  Max Area: 10000, Min Area: 5, Min Brightness: 20\\n 8.0E+6                                                                                2.4E+8\\n                                                                                       2.2E+8\\n 7.0E+6\\n                                                                                        2E+8\\n 6.0E+6                                                                                1.8E+8\\n                                                                                       1.6E+8\\n 5.0E+6\\n                                                                                       1.4E+8\\n\\n 4.0E+6                                                                                1.2E+8\\n                                                                                        1E+8\\n 3.0E+6\\n                                                                                        8E+7\\n\\n 2.0E+6                                                                                 6E+7\\n                                                                                        4E+7\\n 1.0E+6\\n                                                                                        2E+7\\n\\n 0.0E+0                                                                                     0\\n          0   100   200     300   400 500 600      700     800   900   1000                     0   100   200   300   400  500     600   700    800   900   1000\\n                                   Diameter / nm                                                                       Diameter / nm\\n\\n\\n\\n\\nPeak Analysis (Concentration)\\nDiameter / nm             Particles/mL       FWHM / nm             Percentage\\n       137.4                   4.2E+6            127.3                  100.0\\n\\nX Values (all sizes are given in nm)\\n               Number             Concentration          Volume\\n   X10           59.2                     59.2            401.5\\n   X50          123.3                    123.3           1907.5\\n   X90          276.6                    276.6           1929.5\\n  Span            1.8                       1.8              0.8\\n Mean           180.9                    180.9           1426.5\\n                                                                                            Comment\\nStdDev          180.7                    180.3            619.5\\n\\n\\n\\n\\n                                                                                                                                                               (Signature)\\n\\nAnalyzed Video: D:\\\\zetaview\\\\NCore\\\\Julia\\\\Oct18_21\\\\20211018_0002_9.2.1_84_200_size.avi\\n\\n\\nZetaVIEW S/N 19-490, Software ZetaView (version 8.05.11 SP4), Camera 0.713 mum/px                                Experiment: 2021-10-18 10:51, Report: 2021-10-18 10:53\\n'</span>"
      ],
      "text/plain": [
       "[1] \"                                                                                                      Electrophoresis & Brownian Motion\\n                                                                                                                Video Analysis\\n                                                                                                         Laser Scattering Microscopy\\n                                           www.particle-metrix.de\\n\\n                                                                                       Operator (Report): sop_kabanovlab.inst\\n                                                                                       Video Operator: sop_kabanovlab.inst\\n\\n\\n\\n\\n Sample Parameters                                                                     Result (sizes in nm)\\n Sample Name: 9.2.1_84_200                                                                                Number      Concentration   Volume\\n Comment: Sample Remarks0:                                                             Median (X50)        123.3       123.3      1907.5\\n Sample Remarks1:                                                                      Span                180.7       180.3      619.5\\n Sample Remarks2:\\n Electrolyte:                                                                          Concentration:                 2.4E+7 Particles / mL\\n Temperature: 23.04 °C sensed                                                          Dilution Factor:                     200\\n pH 7.0 entered                                                                        Original Concentration:        4.7E+9 Particles / mL\\n Conductivity: 15000.00 µS/cm sensed\\n\\n                                                                                       Quality\\n                                                                                       Average Counted Particles per Frame: 52\\n Measurement Parameters                                                                Number of Traced Particles: 234\\n Cell S/N: ZNTA\\n\\n Measurement Mode: Size Distribution 1 Cycle                                           Analysis Parameters\\n 11 Positions, 2 Removed for Analysis                                                  Max Area: 10000, Min Area: 5, Min Brightness: 20\\n 8.0E+6                                                                                2.4E+8\\n                                                                                       2.2E+8\\n 7.0E+6\\n                                                                                        2E+8\\n 6.0E+6                                                                                1.8E+8\\n                                                                                       1.6E+8\\n 5.0E+6\\n                                                                                       1.4E+8\\n\\n 4.0E+6                                                                                1.2E+8\\n                                                                                        1E+8\\n 3.0E+6\\n                                                                                        8E+7\\n\\n 2.0E+6                                                                                 6E+7\\n                                                                                        4E+7\\n 1.0E+6\\n                                                                                        2E+7\\n\\n 0.0E+0                                                                                     0\\n          0   100   200     300   400 500 600      700     800   900   1000                     0   100   200   300   400  500     600   700    800   900   1000\\n                                   Diameter / nm                                                                       Diameter / nm\\n\\n\\n\\n\\nPeak Analysis (Concentration)\\nDiameter / nm             Particles/mL       FWHM / nm             Percentage\\n       137.4                   4.2E+6            127.3                  100.0\\n\\nX Values (all sizes are given in nm)\\n               Number             Concentration          Volume\\n   X10           59.2                     59.2            401.5\\n   X50          123.3                    123.3           1907.5\\n   X90          276.6                    276.6           1929.5\\n  Span            1.8                       1.8              0.8\\n Mean           180.9                    180.9           1426.5\\n                                                                                            Comment\\nStdDev          180.7                    180.3            619.5\\n\\n\\n\\n\\n                                                                                                                                                               (Signature)\\n\\nAnalyzed Video: D:\\\\zetaview\\\\NCore\\\\Julia\\\\Oct18_21\\\\20211018_0002_9.2.1_84_200_size.avi\\n\\n\\nZetaVIEW S/N 19-490, Software ZetaView (version 8.05.11 SP4), Camera 0.713 mum/px                                Experiment: 2021-10-18 10:51, Report: 2021-10-18 10:53\\n\""
      ]
     },
     "metadata": {},
     "output_type": "display_data"
    }
   ],
   "source": [
    "#pdftools extracts text from each file\n",
    "#this gives an error, but we still get the text that's now stored in the vector\n",
    "extracted_text_files = lapply(all_files, pdf_text) %>%\n",
    "    #text is currently class 'list', but converted to character to make parsing possible\n",
    "    as.character()\n",
    "extracted_text_files[1]"
   ]
  },
  {
   "cell_type": "code",
   "execution_count": 27,
   "id": "periodic-decade",
   "metadata": {},
   "outputs": [
    {
     "data": {
      "text/html": [
       "1"
      ],
      "text/latex": [
       "1"
      ],
      "text/markdown": [
       "1"
      ],
      "text/plain": [
       "[1] 1"
      ]
     },
     "metadata": {},
     "output_type": "display_data"
    },
    {
     "data": {
      "text/html": [
       "'character'"
      ],
      "text/latex": [
       "'character'"
      ],
      "text/markdown": [
       "'character'"
      ],
      "text/plain": [
       "[1] \"character\""
      ]
     },
     "metadata": {},
     "output_type": "display_data"
    }
   ],
   "source": [
    "b = extracted_text_files[1] %>%\n",
    "    strsplit(split = \"\\n\") %>%\n",
    "    as.character()\n",
    "length(b) #concerning since this is length of 1\n",
    "class(b)"
   ]
  },
  {
   "cell_type": "code",
   "execution_count": 3,
   "id": "reserved-tulsa",
   "metadata": {},
   "outputs": [
    {
     "data": {
      "text/html": [
       "'character'"
      ],
      "text/latex": [
       "'character'"
      ],
      "text/markdown": [
       "'character'"
      ],
      "text/plain": [
       "[1] \"character\""
      ]
     },
     "metadata": {},
     "output_type": "display_data"
    },
    {
     "data": {
      "text/html": [
       "1"
      ],
      "text/latex": [
       "1"
      ],
      "text/markdown": [
       "1"
      ],
      "text/plain": [
       "[1] 1"
      ]
     },
     "metadata": {},
     "output_type": "display_data"
    }
   ],
   "source": [
    "a = extracted_text_files[1]\n",
    "class(a)\n",
    "length(a)"
   ]
  },
  {
   "cell_type": "markdown",
   "id": "abstract-display",
   "metadata": {},
   "source": [
    "# Data we want to extract:\n",
    "\n",
    "1. Pdf file name as the sample identifier\n",
    "2. Original Concentration\n",
    "3. Some of the ‘X Values’ table listed on the bottom left, specifically the: X10 Concentration, X50 Concentration, X90 Concentration, and Mean Concentration, and StdDev Concentration"
   ]
  },
  {
   "cell_type": "code",
   "execution_count": 8,
   "id": "alpha-hands",
   "metadata": {},
   "outputs": [
    {
     "name": "stderr",
     "output_type": "stream",
     "text": [
      "PDF error: Invalid least number of objects reading page offset hints table\n",
      "\n",
      "PDF error: Invalid least number of objects reading page offset hints table\n",
      "\n",
      "PDF error: Invalid least number of objects reading page offset hints table\n",
      "\n",
      "PDF error: Invalid least number of objects reading page offset hints table\n",
      "\n",
      "PDF error: Invalid least number of objects reading page offset hints table\n",
      "\n",
      "PDF error: Invalid least number of objects reading page offset hints table\n",
      "\n",
      "PDF error: Invalid least number of objects reading page offset hints table\n",
      "\n",
      "PDF error: Invalid least number of objects reading page offset hints table\n",
      "\n",
      "PDF error: Invalid least number of objects reading page offset hints table\n",
      "\n",
      "PDF error: Invalid least number of objects reading page offset hints table\n",
      "\n",
      "PDF error: Invalid least number of objects reading page offset hints table\n",
      "\n",
      "PDF error: Invalid least number of objects reading page offset hints table\n",
      "\n",
      "PDF error: Invalid least number of objects reading page offset hints table\n",
      "\n",
      "PDF error: Invalid least number of objects reading page offset hints table\n",
      "\n",
      "PDF error: Invalid least number of objects reading page offset hints table\n",
      "\n",
      "PDF error: Invalid least number of objects reading page offset hints table\n",
      "\n",
      "PDF error: Invalid least number of objects reading page offset hints table\n",
      "\n",
      "PDF error: Invalid least number of objects reading page offset hints table\n",
      "\n",
      "PDF error: Invalid least number of objects reading page offset hints table\n",
      "\n",
      "PDF error: Invalid least number of objects reading page offset hints table\n",
      "\n",
      "PDF error: Invalid least number of objects reading page offset hints table\n",
      "\n",
      "PDF error: Invalid least number of objects reading page offset hints table\n",
      "\n",
      "PDF error: Invalid least number of objects reading page offset hints table\n",
      "\n",
      "PDF error: Invalid least number of objects reading page offset hints table\n",
      "\n",
      "PDF error: Invalid least number of objects reading page offset hints table\n",
      "\n",
      "PDF error: Invalid least number of objects reading page offset hints table\n",
      "\n",
      "PDF error: Invalid least number of objects reading page offset hints table\n",
      "\n",
      "PDF error: Invalid least number of objects reading page offset hints table\n",
      "\n",
      "PDF error: Invalid least number of objects reading page offset hints table\n",
      "\n",
      "PDF error: Invalid least number of objects reading page offset hints table\n",
      "\n",
      "PDF error: Invalid least number of objects reading page offset hints table\n",
      "\n",
      "PDF error: Invalid least number of objects reading page offset hints table\n",
      "\n",
      "PDF error: Invalid least number of objects reading page offset hints table\n",
      "\n",
      "PDF error: Invalid least number of objects reading page offset hints table\n",
      "\n",
      "PDF error: Invalid least number of objects reading page offset hints table\n",
      "\n",
      "PDF error: Invalid least number of objects reading page offset hints table\n",
      "\n",
      "PDF error: Invalid least number of objects reading page offset hints table\n",
      "\n",
      "PDF error: Invalid least number of objects reading page offset hints table\n",
      "\n",
      "PDF error: Invalid least number of objects reading page offset hints table\n",
      "\n",
      "PDF error: Invalid least number of objects reading page offset hints table\n",
      "\n",
      "PDF error: Invalid least number of objects reading page offset hints table\n",
      "\n",
      "PDF error: Invalid least number of objects reading page offset hints table\n",
      "\n"
     ]
    }
   ],
   "source": [
    "corpus_raw <- data.frame(\"Sample Identifier\" = c(),\"Text\" = c())\n",
    "\n",
    "for (i in 1:length(pdf_list)){\n",
    "    document_text = pdf_text(paste(pdf_list[i],sep = \"\")) %>% \n",
    "    strsplit(\"\\n\")\n",
    "    \n",
    "    \n",
    "    #delete later\n",
    "    if (i == 1){\n",
    "        document = data.frame(\"Sample Identifier\" = gsub(x =pdf_list[i],pattern = \".pdf\", replacement = \"\"), \n",
    "        \"Text\" = document_text, stringsAsFactors = FALSE)\n",
    "    }\n",
    "    \n",
    "    colnames(document) <- c(\"Sample Identifier\", \"Text\")\n",
    "    corpus_raw <- rbind(corpus_raw,document) \n",
    "}\n",
    "\n",
    "#still haven't figured out why there are duplicates\n",
    "corpus_raw = unique(corpus_raw)"
   ]
  },
  {
   "cell_type": "code",
   "execution_count": 9,
   "id": "virtual-extreme",
   "metadata": {},
   "outputs": [
    {
     "data": {
      "text/html": [
       "<table class=\"dataframe\">\n",
       "<caption>A data.frame: 6 × 2</caption>\n",
       "<thead>\n",
       "\t<tr><th></th><th scope=col>File Name</th><th scope=col>Text</th></tr>\n",
       "\t<tr><th></th><th scope=col>&lt;chr&gt;</th><th scope=col>&lt;chr&gt;</th></tr>\n",
       "</thead>\n",
       "<tbody>\n",
       "\t<tr><th scope=row>1</th><td>20211018_0002_9.2.1_84_200_size</td><td><span style=white-space:pre-wrap>                                                                                                      Electrophoresis &amp; Brownian Motion</span></td></tr>\n",
       "\t<tr><th scope=row>2</th><td>20211018_0002_9.2.1_84_200_size</td><td>                                                                                                                Video Analysis         </td></tr>\n",
       "\t<tr><th scope=row>3</th><td>20211018_0002_9.2.1_84_200_size</td><td>                                                                                                         Laser Scattering Microscopy   </td></tr>\n",
       "\t<tr><th scope=row>4</th><td>20211018_0002_9.2.1_84_200_size</td><td>                                           www.particle-metrix.de                                                                      </td></tr>\n",
       "\t<tr><th scope=row>5</th><td>20211018_0002_9.2.1_84_200_size</td><td>                                                                                                                                       </td></tr>\n",
       "\t<tr><th scope=row>6</th><td>20211018_0002_9.2.1_84_200_size</td><td>                                                                                       Operator (Report): sop_kabanovlab.inst          </td></tr>\n",
       "</tbody>\n",
       "</table>\n"
      ],
      "text/latex": [
       "A data.frame: 6 × 2\n",
       "\\begin{tabular}{r|ll}\n",
       "  & File Name & Text\\\\\n",
       "  & <chr> & <chr>\\\\\n",
       "\\hline\n",
       "\t1 & 20211018\\_0002\\_9.2.1\\_84\\_200\\_size &                                                                                                       Electrophoresis \\& Brownian Motion\\\\\n",
       "\t2 & 20211018\\_0002\\_9.2.1\\_84\\_200\\_size &                                                                                                                 Video Analysis         \\\\\n",
       "\t3 & 20211018\\_0002\\_9.2.1\\_84\\_200\\_size &                                                                                                          Laser Scattering Microscopy   \\\\\n",
       "\t4 & 20211018\\_0002\\_9.2.1\\_84\\_200\\_size &                                            www.particle-metrix.de                                                                      \\\\\n",
       "\t5 & 20211018\\_0002\\_9.2.1\\_84\\_200\\_size &                                                                                                                                        \\\\\n",
       "\t6 & 20211018\\_0002\\_9.2.1\\_84\\_200\\_size &                                                                                        Operator (Report): sop\\_kabanovlab.inst          \\\\\n",
       "\\end{tabular}\n"
      ],
      "text/markdown": [
       "\n",
       "A data.frame: 6 × 2\n",
       "\n",
       "| <!--/--> | File Name &lt;chr&gt; | Text &lt;chr&gt; |\n",
       "|---|---|---|\n",
       "| 1 | 20211018_0002_9.2.1_84_200_size |                                                                                                       Electrophoresis &amp; Brownian Motion |\n",
       "| 2 | 20211018_0002_9.2.1_84_200_size |                                                                                                                 Video Analysis          |\n",
       "| 3 | 20211018_0002_9.2.1_84_200_size |                                                                                                          Laser Scattering Microscopy    |\n",
       "| 4 | 20211018_0002_9.2.1_84_200_size |                                            www.particle-metrix.de                                                                       |\n",
       "| 5 | 20211018_0002_9.2.1_84_200_size | <!----> |\n",
       "| 6 | 20211018_0002_9.2.1_84_200_size |                                                                                        Operator (Report): sop_kabanovlab.inst           |\n",
       "\n"
      ],
      "text/plain": [
       "  File Name                      \n",
       "1 20211018_0002_9.2.1_84_200_size\n",
       "2 20211018_0002_9.2.1_84_200_size\n",
       "3 20211018_0002_9.2.1_84_200_size\n",
       "4 20211018_0002_9.2.1_84_200_size\n",
       "5 20211018_0002_9.2.1_84_200_size\n",
       "6 20211018_0002_9.2.1_84_200_size\n",
       "  Text                                                                                                                                   \n",
       "1                                                                                                       Electrophoresis & Brownian Motion\n",
       "2                                                                                                                 Video Analysis         \n",
       "3                                                                                                          Laser Scattering Microscopy   \n",
       "4                                            www.particle-metrix.de                                                                      \n",
       "5                                                                                                                                        \n",
       "6                                                                                        Operator (Report): sop_kabanovlab.inst          "
      ]
     },
     "metadata": {},
     "output_type": "display_data"
    }
   ],
   "source": [
    "head(corpus_raw)"
   ]
  },
  {
   "cell_type": "code",
   "execution_count": 23,
   "id": "smooth-linux",
   "metadata": {},
   "outputs": [
    {
     "data": {
      "text/html": [
       "<table class=\"dataframe\">\n",
       "<caption>A data.frame: 1 × 2</caption>\n",
       "<thead>\n",
       "\t<tr><th scope=col>File Name</th><th scope=col>Original Concentration (Particles/ mL)</th></tr>\n",
       "\t<tr><th scope=col>&lt;chr&gt;</th><th scope=col>&lt;chr&gt;</th></tr>\n",
       "</thead>\n",
       "<tbody>\n",
       "\t<tr><td>20211018_0002_9.2.1_84_200_size</td><td>       4.7E+9 </td></tr>\n",
       "</tbody>\n",
       "</table>\n"
      ],
      "text/latex": [
       "A data.frame: 1 × 2\n",
       "\\begin{tabular}{ll}\n",
       " File Name & Original Concentration (Particles/ mL)\\\\\n",
       " <chr> & <chr>\\\\\n",
       "\\hline\n",
       "\t 20211018\\_0002\\_9.2.1\\_84\\_200\\_size &        4.7E+9 \\\\\n",
       "\\end{tabular}\n"
      ],
      "text/markdown": [
       "\n",
       "A data.frame: 1 × 2\n",
       "\n",
       "| File Name &lt;chr&gt; | Original Concentration (Particles/ mL) &lt;chr&gt; |\n",
       "|---|---|\n",
       "| 20211018_0002_9.2.1_84_200_size |        4.7E+9  |\n",
       "\n"
      ],
      "text/plain": [
       "  File Name                       Original Concentration (Particles/ mL)\n",
       "1 20211018_0002_9.2.1_84_200_size        4.7E+9                         "
      ]
     },
     "metadata": {},
     "output_type": "display_data"
    }
   ],
   "source": [
    "data_of_interest = c(\"Original Concentration\", \"X10\", \"X50\", \"X90\")#finish\n",
    "corpus_raw %>%\n",
    "    filter(grepl(\"Original Concentration\", Text)) %>%\n",
    "    separate(Text, c(NA, \"Original Concentration\"), sep = \": \") %>%\n",
    "    separate(`Original Concentration`, c(\"Original Concentration (Particles/ mL)\", NA), sep = \"P\")"
   ]
  },
  {
   "cell_type": "code",
   "execution_count": null,
   "id": "first-underground",
   "metadata": {},
   "outputs": [],
   "source": []
  }
 ],
 "metadata": {
  "kernelspec": {
   "display_name": "R",
   "language": "R",
   "name": "ir"
  },
  "language_info": {
   "codemirror_mode": "r",
   "file_extension": ".r",
   "mimetype": "text/x-r-source",
   "name": "R",
   "pygments_lexer": "r",
   "version": "3.6.3"
  }
 },
 "nbformat": 4,
 "nbformat_minor": 5
}
