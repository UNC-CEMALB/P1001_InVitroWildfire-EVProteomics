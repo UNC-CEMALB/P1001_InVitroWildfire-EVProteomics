{
 "cells": [
  {
   "cell_type": "code",
   "execution_count": 1,
   "id": "9f0254ad",
   "metadata": {},
   "outputs": [],
   "source": [
    "# if (!require(\"BiocManager\", quietly = TRUE))\n",
    "#     install.packages(\"BiocManager\")\n",
    "\n",
    "# BiocManager::install(\"TargetDecoy\")\n",
    "\n",
    "# if (!require(\"BiocManager\", quietly = TRUE))\n",
    "#     install.packages(\"BiocManager\")\n",
    "\n",
    "# BiocManager::install(\"mzID\")"
   ]
  },
  {
   "cell_type": "code",
   "execution_count": 2,
   "id": "naughty-atlanta",
   "metadata": {},
   "outputs": [
    {
     "name": "stderr",
     "output_type": "stream",
     "text": [
      "── \u001b[1mAttaching packages\u001b[22m ─────────────────────────────────────── tidyverse 1.3.1 ──\n",
      "\n",
      "\u001b[32m✔\u001b[39m \u001b[34mggplot2\u001b[39m 3.3.5     \u001b[32m✔\u001b[39m \u001b[34mpurrr  \u001b[39m 0.3.4\n",
      "\u001b[32m✔\u001b[39m \u001b[34mtibble \u001b[39m 3.1.6     \u001b[32m✔\u001b[39m \u001b[34mdplyr  \u001b[39m 1.0.8\n",
      "\u001b[32m✔\u001b[39m \u001b[34mtidyr  \u001b[39m 1.2.0     \u001b[32m✔\u001b[39m \u001b[34mstringr\u001b[39m 1.4.0\n",
      "\u001b[32m✔\u001b[39m \u001b[34mreadr  \u001b[39m 2.1.2     \u001b[32m✔\u001b[39m \u001b[34mforcats\u001b[39m 0.5.1\n",
      "\n",
      "── \u001b[1mConflicts\u001b[22m ────────────────────────────────────────── tidyverse_conflicts() ──\n",
      "\u001b[31m✖\u001b[39m \u001b[34mdplyr\u001b[39m::\u001b[32mfilter()\u001b[39m masks \u001b[34mstats\u001b[39m::filter()\n",
      "\u001b[31m✖\u001b[39m \u001b[34mdplyr\u001b[39m::\u001b[32mlag()\u001b[39m    masks \u001b[34mstats\u001b[39m::lag()\n",
      "\n",
      "\n",
      "Attaching package: ‘mzID’\n",
      "\n",
      "\n",
      "The following object is masked from ‘package:dplyr’:\n",
      "\n",
      "    id\n",
      "\n",
      "\n",
      "The following object is masked from ‘package:purrr’:\n",
      "\n",
      "    flatten\n",
      "\n",
      "\n",
      "Warning message in fun(libname, pkgname):\n",
      "“mzR has been built against a different Rcpp version (1.0.8)\n",
      "than is installed on your system (1.0.8.3). This might lead to errors\n",
      "when loading mzR. If you encounter such issues, please send a report,\n",
      "including the output of sessionInfo() to the Bioc support forum at \n",
      "https://support.bioconductor.org/. For details see also\n",
      "https://github.com/sneumann/mzR/wiki/mzR-Rcpp-compiler-linker-issue.”\n",
      "Loading required package: tmvtnorm\n",
      "\n",
      "Loading required package: mvtnorm\n",
      "\n",
      "Loading required package: Matrix\n",
      "\n",
      "\n",
      "Attaching package: ‘Matrix’\n",
      "\n",
      "\n",
      "The following objects are masked from ‘package:tidyr’:\n",
      "\n",
      "    expand, pack, unpack\n",
      "\n",
      "\n",
      "Loading required package: stats4\n",
      "\n",
      "Loading required package: gmm\n",
      "\n",
      "Loading required package: sandwich\n",
      "\n",
      "Loading required package: norm\n",
      "\n",
      "Loading required package: pcaMethods\n",
      "\n",
      "Loading required package: Biobase\n",
      "\n",
      "Loading required package: BiocGenerics\n",
      "\n",
      "\n",
      "Attaching package: ‘BiocGenerics’\n",
      "\n",
      "\n",
      "The following objects are masked from ‘package:dplyr’:\n",
      "\n",
      "    combine, intersect, setdiff, union\n",
      "\n",
      "\n",
      "The following objects are masked from ‘package:stats’:\n",
      "\n",
      "    IQR, mad, sd, var, xtabs\n",
      "\n",
      "\n",
      "The following objects are masked from ‘package:base’:\n",
      "\n",
      "    Filter, Find, Map, Position, Reduce, anyDuplicated, append,\n",
      "    as.data.frame, basename, cbind, colnames, dirname, do.call,\n",
      "    duplicated, eval, evalq, get, grep, grepl, intersect, is.unsorted,\n",
      "    lapply, mapply, match, mget, order, paste, pmax, pmax.int, pmin,\n",
      "    pmin.int, rank, rbind, rownames, sapply, setdiff, sort, table,\n",
      "    tapply, union, unique, unsplit, which.max, which.min\n",
      "\n",
      "\n",
      "Welcome to Bioconductor\n",
      "\n",
      "    Vignettes contain introductory material; view with\n",
      "    'browseVignettes()'. To cite Bioconductor, see\n",
      "    'citation(\"Biobase\")', and for packages 'citation(\"pkgname\")'.\n",
      "\n",
      "\n",
      "\n",
      "Attaching package: ‘pcaMethods’\n",
      "\n",
      "\n",
      "The following object is masked from ‘package:stats’:\n",
      "\n",
      "    loadings\n",
      "\n",
      "\n",
      "Loading required package: impute\n",
      "\n"
     ]
    }
   ],
   "source": [
    "setwd('/Users/alexis/Library/CloudStorage/OneDrive-UniversityofNorthCarolinaatChapelHill/CEMALB_DataAnalysisPM/Projects/P1001. InVitroWildfire EVProteomics/P1001.3. Analyses/P1001.3.4. Data Processing/Input')\n",
    "Output = ('/Users/alexis/Library/CloudStorage/OneDrive-UniversityofNorthCarolinaatChapelHill/CEMALB_DataAnalysisPM/Projects/P1001. InVitroWildfire EVProteomics/P1001.3. Analyses/P1001.3.4. Data Processing/Output')\n",
    "cur_date = \"061622\"\n",
    "\n",
    "library(readxl)\n",
    "library(tidyverse)\n",
    "library(mzID)\n",
    "library(TargetDecoy)\n",
    "library(imputeLCMD)\n",
    "library(stats)\n",
    "\n",
    "#reading in files\n",
    "identifiers_df = data.frame(read_excel(\"Identifiers_030422.xlsx\"))\n",
    "set1_proteome_df = data.frame(read_excel(\"PC927-Rager_LFQProteome_Results_RawValues_R ready.xlsx\", sheet = 1))[,c(1,6,22:35)]\n",
    "set2_proteome_df = data.frame(read_excel(\"PC927-Rager_LFQProteome_Results_RawValues_R ready.xlsx\", sheet = 2))[,c(1,6,22:35)]"
   ]
  },
  {
   "cell_type": "code",
   "execution_count": 3,
   "id": "c084be93",
   "metadata": {},
   "outputs": [
    {
     "data": {
      "text/html": [
       "<table class=\"dataframe\">\n",
       "<caption>A data.frame: 6 × 3</caption>\n",
       "<thead>\n",
       "\t<tr><th></th><th scope=col>IDs_from_Core</th><th scope=col>Our_Analysis_ID</th><th scope=col>Set</th></tr>\n",
       "\t<tr><th></th><th scope=col>&lt;chr&gt;</th><th scope=col>&lt;chr&gt;</th><th scope=col>&lt;chr&gt;</th></tr>\n",
       "</thead>\n",
       "<tbody>\n",
       "\t<tr><th scope=row>1</th><td>Abundance..Pooled.1  </td><td>CoCulture_PooledSample1</td><td>Set1</td></tr>\n",
       "\t<tr><th scope=row>2</th><td>Abundance..Pooled.2  </td><td>CoCulture_PooledSample2</td><td>Set1</td></tr>\n",
       "\t<tr><th scope=row>3</th><td>Abundance..1..Vehicle</td><td>CoCulture_VehicleCT1   </td><td>Set1</td></tr>\n",
       "\t<tr><th scope=row>4</th><td>Abundance..3..Vehicle</td><td>CoCulture_VehicleCT2   </td><td>Set1</td></tr>\n",
       "\t<tr><th scope=row>5</th><td>Abundance..5..Vehicle</td><td>CoCulture_VehicleCT3   </td><td>Set1</td></tr>\n",
       "\t<tr><th scope=row>6</th><td>Abundance..7..Vehicle</td><td>CoCulture_VehicleCT4   </td><td>Set1</td></tr>\n",
       "</tbody>\n",
       "</table>\n"
      ],
      "text/latex": [
       "A data.frame: 6 × 3\n",
       "\\begin{tabular}{r|lll}\n",
       "  & IDs\\_from\\_Core & Our\\_Analysis\\_ID & Set\\\\\n",
       "  & <chr> & <chr> & <chr>\\\\\n",
       "\\hline\n",
       "\t1 & Abundance..Pooled.1   & CoCulture\\_PooledSample1 & Set1\\\\\n",
       "\t2 & Abundance..Pooled.2   & CoCulture\\_PooledSample2 & Set1\\\\\n",
       "\t3 & Abundance..1..Vehicle & CoCulture\\_VehicleCT1    & Set1\\\\\n",
       "\t4 & Abundance..3..Vehicle & CoCulture\\_VehicleCT2    & Set1\\\\\n",
       "\t5 & Abundance..5..Vehicle & CoCulture\\_VehicleCT3    & Set1\\\\\n",
       "\t6 & Abundance..7..Vehicle & CoCulture\\_VehicleCT4    & Set1\\\\\n",
       "\\end{tabular}\n"
      ],
      "text/markdown": [
       "\n",
       "A data.frame: 6 × 3\n",
       "\n",
       "| <!--/--> | IDs_from_Core &lt;chr&gt; | Our_Analysis_ID &lt;chr&gt; | Set &lt;chr&gt; |\n",
       "|---|---|---|---|\n",
       "| 1 | Abundance..Pooled.1   | CoCulture_PooledSample1 | Set1 |\n",
       "| 2 | Abundance..Pooled.2   | CoCulture_PooledSample2 | Set1 |\n",
       "| 3 | Abundance..1..Vehicle | CoCulture_VehicleCT1    | Set1 |\n",
       "| 4 | Abundance..3..Vehicle | CoCulture_VehicleCT2    | Set1 |\n",
       "| 5 | Abundance..5..Vehicle | CoCulture_VehicleCT3    | Set1 |\n",
       "| 6 | Abundance..7..Vehicle | CoCulture_VehicleCT4    | Set1 |\n",
       "\n"
      ],
      "text/plain": [
       "  IDs_from_Core         Our_Analysis_ID         Set \n",
       "1 Abundance..Pooled.1   CoCulture_PooledSample1 Set1\n",
       "2 Abundance..Pooled.2   CoCulture_PooledSample2 Set1\n",
       "3 Abundance..1..Vehicle CoCulture_VehicleCT1    Set1\n",
       "4 Abundance..3..Vehicle CoCulture_VehicleCT2    Set1\n",
       "5 Abundance..5..Vehicle CoCulture_VehicleCT3    Set1\n",
       "6 Abundance..7..Vehicle CoCulture_VehicleCT4    Set1"
      ]
     },
     "metadata": {},
     "output_type": "display_data"
    },
    {
     "data": {
      "text/html": [
       "<table class=\"dataframe\">\n",
       "<caption>A data.frame: 6 × 16</caption>\n",
       "<thead>\n",
       "\t<tr><th></th><th scope=col>Accession</th><th scope=col>Number_of_UniquePeptides</th><th scope=col>Abundance..Pooled.1</th><th scope=col>Abundance..Pooled.2</th><th scope=col>Abundance..1..Vehicle</th><th scope=col>Abundance..3..Vehicle</th><th scope=col>Abundance..5..Vehicle</th><th scope=col>Abundance..7..Vehicle</th><th scope=col>Abundance..9..Vehicle</th><th scope=col>Abundance..11..Vehicle</th><th scope=col>Abundance..2..Wood.Smoke</th><th scope=col>Abundance..4..Wood.Smoke</th><th scope=col>Abundance..6..Wood.Smoke</th><th scope=col>Abundance..8..Wood.Smoke</th><th scope=col>Abundance..10..Wood.Smoke</th><th scope=col>Abundance..12..Wood.Smoke</th></tr>\n",
       "\t<tr><th></th><th scope=col>&lt;chr&gt;</th><th scope=col>&lt;dbl&gt;</th><th scope=col>&lt;dbl&gt;</th><th scope=col>&lt;dbl&gt;</th><th scope=col>&lt;dbl&gt;</th><th scope=col>&lt;dbl&gt;</th><th scope=col>&lt;dbl&gt;</th><th scope=col>&lt;dbl&gt;</th><th scope=col>&lt;dbl&gt;</th><th scope=col>&lt;dbl&gt;</th><th scope=col>&lt;dbl&gt;</th><th scope=col>&lt;dbl&gt;</th><th scope=col>&lt;dbl&gt;</th><th scope=col>&lt;dbl&gt;</th><th scope=col>&lt;dbl&gt;</th><th scope=col>&lt;dbl&gt;</th></tr>\n",
       "</thead>\n",
       "<tbody>\n",
       "\t<tr><th scope=row>1</th><td>P02769</td><td> 99</td><td>4.89e+11</td><td>4.43e+11</td><td>6.26e+11</td><td>4.38e+11</td><td>4.74e+11</td><td>3.40e+11</td><td>4.94e+11</td><td>4.85e+11</td><td>4.54e+11</td><td>6.23e+11</td><td>7.37e+11</td><td>5.13e+11</td><td>3.96e+11</td><td>6.86e+11</td></tr>\n",
       "\t<tr><th scope=row>2</th><td>P02751</td><td>201</td><td>2.73e+11</td><td>2.41e+11</td><td>2.24e+11</td><td>2.43e+11</td><td>3.24e+11</td><td>2.53e+11</td><td>2.45e+11</td><td>1.35e+11</td><td>1.68e+11</td><td>2.37e+11</td><td>2.98e+11</td><td>2.54e+11</td><td>1.97e+11</td><td>2.50e+11</td></tr>\n",
       "\t<tr><th scope=row>3</th><td>P12763</td><td> 34</td><td>2.63e+11</td><td>2.29e+11</td><td>3.10e+11</td><td>2.33e+11</td><td>2.70e+11</td><td>2.42e+11</td><td>2.71e+11</td><td>2.50e+11</td><td>2.67e+11</td><td>2.86e+11</td><td>3.27e+11</td><td>2.63e+11</td><td>2.52e+11</td><td>3.03e+11</td></tr>\n",
       "\t<tr><th scope=row>4</th><td>Q2UVX4</td><td>162</td><td>5.65e+10</td><td>5.15e+10</td><td>6.76e+10</td><td>4.31e+10</td><td>4.09e+10</td><td>4.12e+10</td><td>4.92e+10</td><td>3.53e+10</td><td>4.76e+10</td><td>4.01e+10</td><td>3.68e+10</td><td>6.53e+10</td><td>4.45e+10</td><td>4.69e+10</td></tr>\n",
       "\t<tr><th scope=row>5</th><td>P98160</td><td>210</td><td>2.27e+10</td><td>2.04e+10</td><td>3.01e+10</td><td>1.79e+10</td><td>1.40e+10</td><td>2.64e+10</td><td>2.81e+10</td><td>2.85e+10</td><td>1.97e+10</td><td>1.40e+10</td><td>1.30e+10</td><td>2.19e+10</td><td>2.46e+10</td><td>2.27e+10</td></tr>\n",
       "\t<tr><th scope=row>6</th><td>P12111</td><td>201</td><td>2.15e+10</td><td>2.03e+10</td><td>1.55e+10</td><td>2.12e+10</td><td>2.29e+10</td><td>1.99e+10</td><td>2.00e+10</td><td>9.49e+09</td><td>1.67e+10</td><td>2.09e+10</td><td>2.67e+10</td><td>2.63e+10</td><td>2.06e+10</td><td>2.60e+10</td></tr>\n",
       "</tbody>\n",
       "</table>\n"
      ],
      "text/latex": [
       "A data.frame: 6 × 16\n",
       "\\begin{tabular}{r|llllllllllllllll}\n",
       "  & Accession & Number\\_of\\_UniquePeptides & Abundance..Pooled.1 & Abundance..Pooled.2 & Abundance..1..Vehicle & Abundance..3..Vehicle & Abundance..5..Vehicle & Abundance..7..Vehicle & Abundance..9..Vehicle & Abundance..11..Vehicle & Abundance..2..Wood.Smoke & Abundance..4..Wood.Smoke & Abundance..6..Wood.Smoke & Abundance..8..Wood.Smoke & Abundance..10..Wood.Smoke & Abundance..12..Wood.Smoke\\\\\n",
       "  & <chr> & <dbl> & <dbl> & <dbl> & <dbl> & <dbl> & <dbl> & <dbl> & <dbl> & <dbl> & <dbl> & <dbl> & <dbl> & <dbl> & <dbl> & <dbl>\\\\\n",
       "\\hline\n",
       "\t1 & P02769 &  99 & 4.89e+11 & 4.43e+11 & 6.26e+11 & 4.38e+11 & 4.74e+11 & 3.40e+11 & 4.94e+11 & 4.85e+11 & 4.54e+11 & 6.23e+11 & 7.37e+11 & 5.13e+11 & 3.96e+11 & 6.86e+11\\\\\n",
       "\t2 & P02751 & 201 & 2.73e+11 & 2.41e+11 & 2.24e+11 & 2.43e+11 & 3.24e+11 & 2.53e+11 & 2.45e+11 & 1.35e+11 & 1.68e+11 & 2.37e+11 & 2.98e+11 & 2.54e+11 & 1.97e+11 & 2.50e+11\\\\\n",
       "\t3 & P12763 &  34 & 2.63e+11 & 2.29e+11 & 3.10e+11 & 2.33e+11 & 2.70e+11 & 2.42e+11 & 2.71e+11 & 2.50e+11 & 2.67e+11 & 2.86e+11 & 3.27e+11 & 2.63e+11 & 2.52e+11 & 3.03e+11\\\\\n",
       "\t4 & Q2UVX4 & 162 & 5.65e+10 & 5.15e+10 & 6.76e+10 & 4.31e+10 & 4.09e+10 & 4.12e+10 & 4.92e+10 & 3.53e+10 & 4.76e+10 & 4.01e+10 & 3.68e+10 & 6.53e+10 & 4.45e+10 & 4.69e+10\\\\\n",
       "\t5 & P98160 & 210 & 2.27e+10 & 2.04e+10 & 3.01e+10 & 1.79e+10 & 1.40e+10 & 2.64e+10 & 2.81e+10 & 2.85e+10 & 1.97e+10 & 1.40e+10 & 1.30e+10 & 2.19e+10 & 2.46e+10 & 2.27e+10\\\\\n",
       "\t6 & P12111 & 201 & 2.15e+10 & 2.03e+10 & 1.55e+10 & 2.12e+10 & 2.29e+10 & 1.99e+10 & 2.00e+10 & 9.49e+09 & 1.67e+10 & 2.09e+10 & 2.67e+10 & 2.63e+10 & 2.06e+10 & 2.60e+10\\\\\n",
       "\\end{tabular}\n"
      ],
      "text/markdown": [
       "\n",
       "A data.frame: 6 × 16\n",
       "\n",
       "| <!--/--> | Accession &lt;chr&gt; | Number_of_UniquePeptides &lt;dbl&gt; | Abundance..Pooled.1 &lt;dbl&gt; | Abundance..Pooled.2 &lt;dbl&gt; | Abundance..1..Vehicle &lt;dbl&gt; | Abundance..3..Vehicle &lt;dbl&gt; | Abundance..5..Vehicle &lt;dbl&gt; | Abundance..7..Vehicle &lt;dbl&gt; | Abundance..9..Vehicle &lt;dbl&gt; | Abundance..11..Vehicle &lt;dbl&gt; | Abundance..2..Wood.Smoke &lt;dbl&gt; | Abundance..4..Wood.Smoke &lt;dbl&gt; | Abundance..6..Wood.Smoke &lt;dbl&gt; | Abundance..8..Wood.Smoke &lt;dbl&gt; | Abundance..10..Wood.Smoke &lt;dbl&gt; | Abundance..12..Wood.Smoke &lt;dbl&gt; |\n",
       "|---|---|---|---|---|---|---|---|---|---|---|---|---|---|---|---|---|\n",
       "| 1 | P02769 |  99 | 4.89e+11 | 4.43e+11 | 6.26e+11 | 4.38e+11 | 4.74e+11 | 3.40e+11 | 4.94e+11 | 4.85e+11 | 4.54e+11 | 6.23e+11 | 7.37e+11 | 5.13e+11 | 3.96e+11 | 6.86e+11 |\n",
       "| 2 | P02751 | 201 | 2.73e+11 | 2.41e+11 | 2.24e+11 | 2.43e+11 | 3.24e+11 | 2.53e+11 | 2.45e+11 | 1.35e+11 | 1.68e+11 | 2.37e+11 | 2.98e+11 | 2.54e+11 | 1.97e+11 | 2.50e+11 |\n",
       "| 3 | P12763 |  34 | 2.63e+11 | 2.29e+11 | 3.10e+11 | 2.33e+11 | 2.70e+11 | 2.42e+11 | 2.71e+11 | 2.50e+11 | 2.67e+11 | 2.86e+11 | 3.27e+11 | 2.63e+11 | 2.52e+11 | 3.03e+11 |\n",
       "| 4 | Q2UVX4 | 162 | 5.65e+10 | 5.15e+10 | 6.76e+10 | 4.31e+10 | 4.09e+10 | 4.12e+10 | 4.92e+10 | 3.53e+10 | 4.76e+10 | 4.01e+10 | 3.68e+10 | 6.53e+10 | 4.45e+10 | 4.69e+10 |\n",
       "| 5 | P98160 | 210 | 2.27e+10 | 2.04e+10 | 3.01e+10 | 1.79e+10 | 1.40e+10 | 2.64e+10 | 2.81e+10 | 2.85e+10 | 1.97e+10 | 1.40e+10 | 1.30e+10 | 2.19e+10 | 2.46e+10 | 2.27e+10 |\n",
       "| 6 | P12111 | 201 | 2.15e+10 | 2.03e+10 | 1.55e+10 | 2.12e+10 | 2.29e+10 | 1.99e+10 | 2.00e+10 | 9.49e+09 | 1.67e+10 | 2.09e+10 | 2.67e+10 | 2.63e+10 | 2.06e+10 | 2.60e+10 |\n",
       "\n"
      ],
      "text/plain": [
       "  Accession Number_of_UniquePeptides Abundance..Pooled.1 Abundance..Pooled.2\n",
       "1 P02769     99                      4.89e+11            4.43e+11           \n",
       "2 P02751    201                      2.73e+11            2.41e+11           \n",
       "3 P12763     34                      2.63e+11            2.29e+11           \n",
       "4 Q2UVX4    162                      5.65e+10            5.15e+10           \n",
       "5 P98160    210                      2.27e+10            2.04e+10           \n",
       "6 P12111    201                      2.15e+10            2.03e+10           \n",
       "  Abundance..1..Vehicle Abundance..3..Vehicle Abundance..5..Vehicle\n",
       "1 6.26e+11              4.38e+11              4.74e+11             \n",
       "2 2.24e+11              2.43e+11              3.24e+11             \n",
       "3 3.10e+11              2.33e+11              2.70e+11             \n",
       "4 6.76e+10              4.31e+10              4.09e+10             \n",
       "5 3.01e+10              1.79e+10              1.40e+10             \n",
       "6 1.55e+10              2.12e+10              2.29e+10             \n",
       "  Abundance..7..Vehicle Abundance..9..Vehicle Abundance..11..Vehicle\n",
       "1 3.40e+11              4.94e+11              4.85e+11              \n",
       "2 2.53e+11              2.45e+11              1.35e+11              \n",
       "3 2.42e+11              2.71e+11              2.50e+11              \n",
       "4 4.12e+10              4.92e+10              3.53e+10              \n",
       "5 2.64e+10              2.81e+10              2.85e+10              \n",
       "6 1.99e+10              2.00e+10              9.49e+09              \n",
       "  Abundance..2..Wood.Smoke Abundance..4..Wood.Smoke Abundance..6..Wood.Smoke\n",
       "1 4.54e+11                 6.23e+11                 7.37e+11                \n",
       "2 1.68e+11                 2.37e+11                 2.98e+11                \n",
       "3 2.67e+11                 2.86e+11                 3.27e+11                \n",
       "4 4.76e+10                 4.01e+10                 3.68e+10                \n",
       "5 1.97e+10                 1.40e+10                 1.30e+10                \n",
       "6 1.67e+10                 2.09e+10                 2.67e+10                \n",
       "  Abundance..8..Wood.Smoke Abundance..10..Wood.Smoke Abundance..12..Wood.Smoke\n",
       "1 5.13e+11                 3.96e+11                  6.86e+11                 \n",
       "2 2.54e+11                 1.97e+11                  2.50e+11                 \n",
       "3 2.63e+11                 2.52e+11                  3.03e+11                 \n",
       "4 6.53e+10                 4.45e+10                  4.69e+10                 \n",
       "5 2.19e+10                 2.46e+10                  2.27e+10                 \n",
       "6 2.63e+10                 2.06e+10                  2.60e+10                 "
      ]
     },
     "metadata": {},
     "output_type": "display_data"
    },
    {
     "data": {
      "text/html": [
       "<table class=\"dataframe\">\n",
       "<caption>A data.frame: 6 × 16</caption>\n",
       "<thead>\n",
       "\t<tr><th></th><th scope=col>Accession</th><th scope=col>Number_of_UniquePeptides</th><th scope=col>Abundance..Pooled.1</th><th scope=col>Abundance..Pooled.2</th><th scope=col>Abundance..13..Vehicle</th><th scope=col>Abundance..15..Vehicle</th><th scope=col>Abundance..17..Vehicle</th><th scope=col>Abundance..19..Vehicle</th><th scope=col>Abundance..21..Vehicle</th><th scope=col>Abundance..23..Vehicle</th><th scope=col>Abundance..14..Wood.Smoke</th><th scope=col>Abundance..16..Wood.Smoke</th><th scope=col>Abundance..18..Wood.Smoke</th><th scope=col>Abundance..20..Wood.Smoke</th><th scope=col>Abundance..22..Wood.Smoke</th><th scope=col>Abundance..24..Wood.Smoke</th></tr>\n",
       "\t<tr><th></th><th scope=col>&lt;chr&gt;</th><th scope=col>&lt;dbl&gt;</th><th scope=col>&lt;dbl&gt;</th><th scope=col>&lt;dbl&gt;</th><th scope=col>&lt;dbl&gt;</th><th scope=col>&lt;dbl&gt;</th><th scope=col>&lt;dbl&gt;</th><th scope=col>&lt;dbl&gt;</th><th scope=col>&lt;dbl&gt;</th><th scope=col>&lt;dbl&gt;</th><th scope=col>&lt;dbl&gt;</th><th scope=col>&lt;dbl&gt;</th><th scope=col>&lt;dbl&gt;</th><th scope=col>&lt;dbl&gt;</th><th scope=col>&lt;dbl&gt;</th><th scope=col>&lt;dbl&gt;</th></tr>\n",
       "</thead>\n",
       "<tbody>\n",
       "\t<tr><th scope=row>1</th><td>P02751</td><td>193</td><td>197908273327</td><td>215449909749</td><td>290377149672</td><td>237808533258</td><td>300713328573</td><td>246820946145</td><td>304313034954</td><td>264966884310</td><td>243333335207</td><td>199860505414</td><td>279706283336</td><td>225170612912</td><td>229939459846</td><td>154501914723</td></tr>\n",
       "\t<tr><th scope=row>2</th><td>P02769</td><td> 97</td><td>342657042076</td><td>370488835120</td><td>308967859550</td><td>242917660277</td><td>278096520636</td><td>259674859546</td><td>291397652436</td><td>563821412595</td><td>281882492897</td><td>732144132018</td><td>248045691869</td><td>233383724786</td><td>349312465553</td><td>251094645011</td></tr>\n",
       "\t<tr><th scope=row>3</th><td>P07996</td><td> 34</td><td> 64580519826</td><td> 73778236233</td><td>181775619913</td><td>129485605438</td><td>169377550217</td><td>134685992120</td><td>114143664541</td><td>249366551496</td><td>132714564698</td><td>128084639698</td><td>112262919453</td><td>111419806864</td><td> 73857936963</td><td>108923410421</td></tr>\n",
       "\t<tr><th scope=row>4</th><td>Q2UVX4</td><td>160</td><td> 41255020284</td><td> 45525199756</td><td> 55681501380</td><td> 35618922477</td><td> 44222632333</td><td> 47245712210</td><td> 44043324866</td><td> 75943777589</td><td> 53160804546</td><td> 68298716794</td><td> 48638631002</td><td> 47654755526</td><td> 35704911241</td><td> 52145684636</td></tr>\n",
       "\t<tr><th scope=row>5</th><td>P98160</td><td>207</td><td> 16164372416</td><td> 18035124503</td><td> 20257643320</td><td> 13577050138</td><td> 17442737821</td><td> 24582420164</td><td> 20491703047</td><td> 36081485773</td><td> 20355674908</td><td> 16277580495</td><td> 15654918570</td><td> 19579785521</td><td> 16823558423</td><td> 20030021253</td></tr>\n",
       "\t<tr><th scope=row>6</th><td>P12763</td><td> 32</td><td>180364995691</td><td>186934859645</td><td>159857253388</td><td>143580491033</td><td>158608208515</td><td>140452510019</td><td>145834623969</td><td>220324446614</td><td>137520441019</td><td>237042125375</td><td>156248949606</td><td>124984210103</td><td>171103871588</td><td>143324724008</td></tr>\n",
       "</tbody>\n",
       "</table>\n"
      ],
      "text/latex": [
       "A data.frame: 6 × 16\n",
       "\\begin{tabular}{r|llllllllllllllll}\n",
       "  & Accession & Number\\_of\\_UniquePeptides & Abundance..Pooled.1 & Abundance..Pooled.2 & Abundance..13..Vehicle & Abundance..15..Vehicle & Abundance..17..Vehicle & Abundance..19..Vehicle & Abundance..21..Vehicle & Abundance..23..Vehicle & Abundance..14..Wood.Smoke & Abundance..16..Wood.Smoke & Abundance..18..Wood.Smoke & Abundance..20..Wood.Smoke & Abundance..22..Wood.Smoke & Abundance..24..Wood.Smoke\\\\\n",
       "  & <chr> & <dbl> & <dbl> & <dbl> & <dbl> & <dbl> & <dbl> & <dbl> & <dbl> & <dbl> & <dbl> & <dbl> & <dbl> & <dbl> & <dbl> & <dbl>\\\\\n",
       "\\hline\n",
       "\t1 & P02751 & 193 & 197908273327 & 215449909749 & 290377149672 & 237808533258 & 300713328573 & 246820946145 & 304313034954 & 264966884310 & 243333335207 & 199860505414 & 279706283336 & 225170612912 & 229939459846 & 154501914723\\\\\n",
       "\t2 & P02769 &  97 & 342657042076 & 370488835120 & 308967859550 & 242917660277 & 278096520636 & 259674859546 & 291397652436 & 563821412595 & 281882492897 & 732144132018 & 248045691869 & 233383724786 & 349312465553 & 251094645011\\\\\n",
       "\t3 & P07996 &  34 &  64580519826 &  73778236233 & 181775619913 & 129485605438 & 169377550217 & 134685992120 & 114143664541 & 249366551496 & 132714564698 & 128084639698 & 112262919453 & 111419806864 &  73857936963 & 108923410421\\\\\n",
       "\t4 & Q2UVX4 & 160 &  41255020284 &  45525199756 &  55681501380 &  35618922477 &  44222632333 &  47245712210 &  44043324866 &  75943777589 &  53160804546 &  68298716794 &  48638631002 &  47654755526 &  35704911241 &  52145684636\\\\\n",
       "\t5 & P98160 & 207 &  16164372416 &  18035124503 &  20257643320 &  13577050138 &  17442737821 &  24582420164 &  20491703047 &  36081485773 &  20355674908 &  16277580495 &  15654918570 &  19579785521 &  16823558423 &  20030021253\\\\\n",
       "\t6 & P12763 &  32 & 180364995691 & 186934859645 & 159857253388 & 143580491033 & 158608208515 & 140452510019 & 145834623969 & 220324446614 & 137520441019 & 237042125375 & 156248949606 & 124984210103 & 171103871588 & 143324724008\\\\\n",
       "\\end{tabular}\n"
      ],
      "text/markdown": [
       "\n",
       "A data.frame: 6 × 16\n",
       "\n",
       "| <!--/--> | Accession &lt;chr&gt; | Number_of_UniquePeptides &lt;dbl&gt; | Abundance..Pooled.1 &lt;dbl&gt; | Abundance..Pooled.2 &lt;dbl&gt; | Abundance..13..Vehicle &lt;dbl&gt; | Abundance..15..Vehicle &lt;dbl&gt; | Abundance..17..Vehicle &lt;dbl&gt; | Abundance..19..Vehicle &lt;dbl&gt; | Abundance..21..Vehicle &lt;dbl&gt; | Abundance..23..Vehicle &lt;dbl&gt; | Abundance..14..Wood.Smoke &lt;dbl&gt; | Abundance..16..Wood.Smoke &lt;dbl&gt; | Abundance..18..Wood.Smoke &lt;dbl&gt; | Abundance..20..Wood.Smoke &lt;dbl&gt; | Abundance..22..Wood.Smoke &lt;dbl&gt; | Abundance..24..Wood.Smoke &lt;dbl&gt; |\n",
       "|---|---|---|---|---|---|---|---|---|---|---|---|---|---|---|---|---|\n",
       "| 1 | P02751 | 193 | 197908273327 | 215449909749 | 290377149672 | 237808533258 | 300713328573 | 246820946145 | 304313034954 | 264966884310 | 243333335207 | 199860505414 | 279706283336 | 225170612912 | 229939459846 | 154501914723 |\n",
       "| 2 | P02769 |  97 | 342657042076 | 370488835120 | 308967859550 | 242917660277 | 278096520636 | 259674859546 | 291397652436 | 563821412595 | 281882492897 | 732144132018 | 248045691869 | 233383724786 | 349312465553 | 251094645011 |\n",
       "| 3 | P07996 |  34 |  64580519826 |  73778236233 | 181775619913 | 129485605438 | 169377550217 | 134685992120 | 114143664541 | 249366551496 | 132714564698 | 128084639698 | 112262919453 | 111419806864 |  73857936963 | 108923410421 |\n",
       "| 4 | Q2UVX4 | 160 |  41255020284 |  45525199756 |  55681501380 |  35618922477 |  44222632333 |  47245712210 |  44043324866 |  75943777589 |  53160804546 |  68298716794 |  48638631002 |  47654755526 |  35704911241 |  52145684636 |\n",
       "| 5 | P98160 | 207 |  16164372416 |  18035124503 |  20257643320 |  13577050138 |  17442737821 |  24582420164 |  20491703047 |  36081485773 |  20355674908 |  16277580495 |  15654918570 |  19579785521 |  16823558423 |  20030021253 |\n",
       "| 6 | P12763 |  32 | 180364995691 | 186934859645 | 159857253388 | 143580491033 | 158608208515 | 140452510019 | 145834623969 | 220324446614 | 137520441019 | 237042125375 | 156248949606 | 124984210103 | 171103871588 | 143324724008 |\n",
       "\n"
      ],
      "text/plain": [
       "  Accession Number_of_UniquePeptides Abundance..Pooled.1 Abundance..Pooled.2\n",
       "1 P02751    193                      197908273327        215449909749       \n",
       "2 P02769     97                      342657042076        370488835120       \n",
       "3 P07996     34                       64580519826         73778236233       \n",
       "4 Q2UVX4    160                       41255020284         45525199756       \n",
       "5 P98160    207                       16164372416         18035124503       \n",
       "6 P12763     32                      180364995691        186934859645       \n",
       "  Abundance..13..Vehicle Abundance..15..Vehicle Abundance..17..Vehicle\n",
       "1 290377149672           237808533258           300713328573          \n",
       "2 308967859550           242917660277           278096520636          \n",
       "3 181775619913           129485605438           169377550217          \n",
       "4  55681501380            35618922477            44222632333          \n",
       "5  20257643320            13577050138            17442737821          \n",
       "6 159857253388           143580491033           158608208515          \n",
       "  Abundance..19..Vehicle Abundance..21..Vehicle Abundance..23..Vehicle\n",
       "1 246820946145           304313034954           264966884310          \n",
       "2 259674859546           291397652436           563821412595          \n",
       "3 134685992120           114143664541           249366551496          \n",
       "4  47245712210            44043324866            75943777589          \n",
       "5  24582420164            20491703047            36081485773          \n",
       "6 140452510019           145834623969           220324446614          \n",
       "  Abundance..14..Wood.Smoke Abundance..16..Wood.Smoke Abundance..18..Wood.Smoke\n",
       "1 243333335207              199860505414              279706283336             \n",
       "2 281882492897              732144132018              248045691869             \n",
       "3 132714564698              128084639698              112262919453             \n",
       "4  53160804546               68298716794               48638631002             \n",
       "5  20355674908               16277580495               15654918570             \n",
       "6 137520441019              237042125375              156248949606             \n",
       "  Abundance..20..Wood.Smoke Abundance..22..Wood.Smoke Abundance..24..Wood.Smoke\n",
       "1 225170612912              229939459846              154501914723             \n",
       "2 233383724786              349312465553              251094645011             \n",
       "3 111419806864               73857936963              108923410421             \n",
       "4  47654755526               35704911241               52145684636             \n",
       "5  19579785521               16823558423               20030021253             \n",
       "6 124984210103              171103871588              143324724008             "
      ]
     },
     "metadata": {},
     "output_type": "display_data"
    }
   ],
   "source": [
    "head(identifiers_df)\n",
    "head(set1_proteome_df)\n",
    "head(set2_proteome_df)"
   ]
  },
  {
   "cell_type": "code",
   "execution_count": 4,
   "id": "dedicated-indication",
   "metadata": {},
   "outputs": [
    {
     "data": {
      "text/html": [
       "<table class=\"dataframe\">\n",
       "<caption>A tibble: 6 × 5</caption>\n",
       "<thead>\n",
       "\t<tr><th scope=col>Protein</th><th scope=col>Number_of_UniquePeptides</th><th scope=col>IDs_from_Core</th><th scope=col>Value</th><th scope=col>Set</th></tr>\n",
       "\t<tr><th scope=col>&lt;chr&gt;</th><th scope=col>&lt;dbl&gt;</th><th scope=col>&lt;chr&gt;</th><th scope=col>&lt;dbl&gt;</th><th scope=col>&lt;chr&gt;</th></tr>\n",
       "</thead>\n",
       "<tbody>\n",
       "\t<tr><td>P02769</td><td>99</td><td>Abundance..Pooled.1  </td><td>4.89e+11</td><td>Set1</td></tr>\n",
       "\t<tr><td>P02769</td><td>99</td><td>Abundance..Pooled.2  </td><td>4.43e+11</td><td>Set1</td></tr>\n",
       "\t<tr><td>P02769</td><td>99</td><td>Abundance..1..Vehicle</td><td>6.26e+11</td><td>Set1</td></tr>\n",
       "\t<tr><td>P02769</td><td>99</td><td>Abundance..3..Vehicle</td><td>4.38e+11</td><td>Set1</td></tr>\n",
       "\t<tr><td>P02769</td><td>99</td><td>Abundance..5..Vehicle</td><td>4.74e+11</td><td>Set1</td></tr>\n",
       "\t<tr><td>P02769</td><td>99</td><td>Abundance..7..Vehicle</td><td>3.40e+11</td><td>Set1</td></tr>\n",
       "</tbody>\n",
       "</table>\n"
      ],
      "text/latex": [
       "A tibble: 6 × 5\n",
       "\\begin{tabular}{lllll}\n",
       " Protein & Number\\_of\\_UniquePeptides & IDs\\_from\\_Core & Value & Set\\\\\n",
       " <chr> & <dbl> & <chr> & <dbl> & <chr>\\\\\n",
       "\\hline\n",
       "\t P02769 & 99 & Abundance..Pooled.1   & 4.89e+11 & Set1\\\\\n",
       "\t P02769 & 99 & Abundance..Pooled.2   & 4.43e+11 & Set1\\\\\n",
       "\t P02769 & 99 & Abundance..1..Vehicle & 6.26e+11 & Set1\\\\\n",
       "\t P02769 & 99 & Abundance..3..Vehicle & 4.38e+11 & Set1\\\\\n",
       "\t P02769 & 99 & Abundance..5..Vehicle & 4.74e+11 & Set1\\\\\n",
       "\t P02769 & 99 & Abundance..7..Vehicle & 3.40e+11 & Set1\\\\\n",
       "\\end{tabular}\n"
      ],
      "text/markdown": [
       "\n",
       "A tibble: 6 × 5\n",
       "\n",
       "| Protein &lt;chr&gt; | Number_of_UniquePeptides &lt;dbl&gt; | IDs_from_Core &lt;chr&gt; | Value &lt;dbl&gt; | Set &lt;chr&gt; |\n",
       "|---|---|---|---|---|\n",
       "| P02769 | 99 | Abundance..Pooled.1   | 4.89e+11 | Set1 |\n",
       "| P02769 | 99 | Abundance..Pooled.2   | 4.43e+11 | Set1 |\n",
       "| P02769 | 99 | Abundance..1..Vehicle | 6.26e+11 | Set1 |\n",
       "| P02769 | 99 | Abundance..3..Vehicle | 4.38e+11 | Set1 |\n",
       "| P02769 | 99 | Abundance..5..Vehicle | 4.74e+11 | Set1 |\n",
       "| P02769 | 99 | Abundance..7..Vehicle | 3.40e+11 | Set1 |\n",
       "\n"
      ],
      "text/plain": [
       "  Protein Number_of_UniquePeptides IDs_from_Core         Value    Set \n",
       "1 P02769  99                       Abundance..Pooled.1   4.89e+11 Set1\n",
       "2 P02769  99                       Abundance..Pooled.2   4.43e+11 Set1\n",
       "3 P02769  99                       Abundance..1..Vehicle 6.26e+11 Set1\n",
       "4 P02769  99                       Abundance..3..Vehicle 4.38e+11 Set1\n",
       "5 P02769  99                       Abundance..5..Vehicle 4.74e+11 Set1\n",
       "6 P02769  99                       Abundance..7..Vehicle 3.40e+11 Set1"
      ]
     },
     "metadata": {},
     "output_type": "display_data"
    }
   ],
   "source": [
    "# creating 1 proteome df\n",
    "set1_proteome_df = set1_proteome_df %>%\n",
    "    pivot_longer(cols = 3:16, names_to = \"IDs_from_Core\", values_to = \"Value\") %>%\n",
    "    mutate(Set = c(\"Set1\"))\n",
    "\n",
    "set2_proteome_df = set2_proteome_df %>%\n",
    "    pivot_longer(cols = 3:16, names_to = \"IDs_from_Core\", values_to = \"Value\") %>%\n",
    "    mutate(Set = c(\"Set2\"))\n",
    "\n",
    "proteome_df = rbind(set1_proteome_df, set2_proteome_df) %>%\n",
    "    rename(Protein = Accession)\n",
    "head(proteome_df)"
   ]
  },
  {
   "cell_type": "code",
   "execution_count": 5,
   "id": "arctic-nerve",
   "metadata": {},
   "outputs": [
    {
     "name": "stderr",
     "output_type": "stream",
     "text": [
      "\u001b[1m\u001b[22mJoining, by = c(\"IDs_from_Core\", \"Set\")\n"
     ]
    },
    {
     "data": {
      "text/html": [
       "<table class=\"dataframe\">\n",
       "<caption>A data.frame: 6 × 6</caption>\n",
       "<thead>\n",
       "\t<tr><th></th><th scope=col>ID</th><th scope=col>Set</th><th scope=col>Protein</th><th scope=col>Unique_Peptides</th><th scope=col>Value</th><th scope=col>Treatment</th></tr>\n",
       "\t<tr><th></th><th scope=col>&lt;chr&gt;</th><th scope=col>&lt;chr&gt;</th><th scope=col>&lt;chr&gt;</th><th scope=col>&lt;dbl&gt;</th><th scope=col>&lt;dbl&gt;</th><th scope=col>&lt;chr&gt;</th></tr>\n",
       "</thead>\n",
       "<tbody>\n",
       "\t<tr><th scope=row>1</th><td>CoCulture_PooledSample1</td><td>Set1</td><td>P02769</td><td> 99</td><td>4.89e+11</td><td>CoCulture_PooledSample</td></tr>\n",
       "\t<tr><th scope=row>2</th><td>CoCulture_PooledSample1</td><td>Set1</td><td>P02751</td><td>201</td><td>2.73e+11</td><td>CoCulture_PooledSample</td></tr>\n",
       "\t<tr><th scope=row>3</th><td>CoCulture_PooledSample1</td><td>Set1</td><td>P12763</td><td> 34</td><td>2.63e+11</td><td>CoCulture_PooledSample</td></tr>\n",
       "\t<tr><th scope=row>4</th><td>CoCulture_PooledSample1</td><td>Set1</td><td>Q2UVX4</td><td>162</td><td>5.65e+10</td><td>CoCulture_PooledSample</td></tr>\n",
       "\t<tr><th scope=row>5</th><td>CoCulture_PooledSample1</td><td>Set1</td><td>P98160</td><td>210</td><td>2.27e+10</td><td>CoCulture_PooledSample</td></tr>\n",
       "\t<tr><th scope=row>6</th><td>CoCulture_PooledSample1</td><td>Set1</td><td>P12111</td><td>201</td><td>2.15e+10</td><td>CoCulture_PooledSample</td></tr>\n",
       "</tbody>\n",
       "</table>\n"
      ],
      "text/latex": [
       "A data.frame: 6 × 6\n",
       "\\begin{tabular}{r|llllll}\n",
       "  & ID & Set & Protein & Unique\\_Peptides & Value & Treatment\\\\\n",
       "  & <chr> & <chr> & <chr> & <dbl> & <dbl> & <chr>\\\\\n",
       "\\hline\n",
       "\t1 & CoCulture\\_PooledSample1 & Set1 & P02769 &  99 & 4.89e+11 & CoCulture\\_PooledSample\\\\\n",
       "\t2 & CoCulture\\_PooledSample1 & Set1 & P02751 & 201 & 2.73e+11 & CoCulture\\_PooledSample\\\\\n",
       "\t3 & CoCulture\\_PooledSample1 & Set1 & P12763 &  34 & 2.63e+11 & CoCulture\\_PooledSample\\\\\n",
       "\t4 & CoCulture\\_PooledSample1 & Set1 & Q2UVX4 & 162 & 5.65e+10 & CoCulture\\_PooledSample\\\\\n",
       "\t5 & CoCulture\\_PooledSample1 & Set1 & P98160 & 210 & 2.27e+10 & CoCulture\\_PooledSample\\\\\n",
       "\t6 & CoCulture\\_PooledSample1 & Set1 & P12111 & 201 & 2.15e+10 & CoCulture\\_PooledSample\\\\\n",
       "\\end{tabular}\n"
      ],
      "text/markdown": [
       "\n",
       "A data.frame: 6 × 6\n",
       "\n",
       "| <!--/--> | ID &lt;chr&gt; | Set &lt;chr&gt; | Protein &lt;chr&gt; | Unique_Peptides &lt;dbl&gt; | Value &lt;dbl&gt; | Treatment &lt;chr&gt; |\n",
       "|---|---|---|---|---|---|---|\n",
       "| 1 | CoCulture_PooledSample1 | Set1 | P02769 |  99 | 4.89e+11 | CoCulture_PooledSample |\n",
       "| 2 | CoCulture_PooledSample1 | Set1 | P02751 | 201 | 2.73e+11 | CoCulture_PooledSample |\n",
       "| 3 | CoCulture_PooledSample1 | Set1 | P12763 |  34 | 2.63e+11 | CoCulture_PooledSample |\n",
       "| 4 | CoCulture_PooledSample1 | Set1 | Q2UVX4 | 162 | 5.65e+10 | CoCulture_PooledSample |\n",
       "| 5 | CoCulture_PooledSample1 | Set1 | P98160 | 210 | 2.27e+10 | CoCulture_PooledSample |\n",
       "| 6 | CoCulture_PooledSample1 | Set1 | P12111 | 201 | 2.15e+10 | CoCulture_PooledSample |\n",
       "\n"
      ],
      "text/plain": [
       "  ID                      Set  Protein Unique_Peptides Value   \n",
       "1 CoCulture_PooledSample1 Set1 P02769   99             4.89e+11\n",
       "2 CoCulture_PooledSample1 Set1 P02751  201             2.73e+11\n",
       "3 CoCulture_PooledSample1 Set1 P12763   34             2.63e+11\n",
       "4 CoCulture_PooledSample1 Set1 Q2UVX4  162             5.65e+10\n",
       "5 CoCulture_PooledSample1 Set1 P98160  210             2.27e+10\n",
       "6 CoCulture_PooledSample1 Set1 P12111  201             2.15e+10\n",
       "  Treatment             \n",
       "1 CoCulture_PooledSample\n",
       "2 CoCulture_PooledSample\n",
       "3 CoCulture_PooledSample\n",
       "4 CoCulture_PooledSample\n",
       "5 CoCulture_PooledSample\n",
       "6 CoCulture_PooledSample"
      ]
     },
     "metadata": {},
     "output_type": "display_data"
    }
   ],
   "source": [
    "#adding in our own ids\n",
    "proteome_df = inner_join(identifiers_df, proteome_df) %>%\n",
    "    select(-IDs_from_Core) %>%\n",
    "    rename(ID = Our_Analysis_ID, Unique_Peptides = Number_of_UniquePeptides) %>%\n",
    "    #creating a col that denotes the general treatment to remove proteins within those treatment groups\n",
    "    mutate(Treatment = ifelse(grepl(\"CoCulture_PooledSample\", ID), \"CoCulture_PooledSample\",\n",
    "                             ifelse(grepl(\"CoCulture_Vehicle\", ID), \"CoCulture_Vehicle\",\n",
    "                                   ifelse(grepl(\"CoCulture_Exposed\", ID), \"CoCulture_Exposed\",\n",
    "                                         ifelse(grepl(\"TriCulture_PooledSample\", ID), \"TriCulture_PooledSample\",\n",
    "                                             ifelse(grepl(\"TriCulture_Vehicle\", ID), \"TriCulture_Vehicle\",\n",
    "                                                   ifelse(grepl(\"TriCulture_Exposed\", ID), \"TriCulture_Exposed\",\n",
    "                                         \n",
    "                                         NA)))))))\n",
    "head(proteome_df)"
   ]
  },
  {
   "cell_type": "code",
   "execution_count": 6,
   "id": "f424b170",
   "metadata": {},
   "outputs": [
    {
     "data": {
      "text/html": [
       "2167"
      ],
      "text/latex": [
       "2167"
      ],
      "text/markdown": [
       "2167"
      ],
      "text/plain": [
       "[1] 2167"
      ]
     },
     "metadata": {},
     "output_type": "display_data"
    }
   ],
   "source": [
    "# intial number of proteins prior to filtering\n",
    "length(unique(proteome_df$Protein))"
   ]
  },
  {
   "cell_type": "markdown",
   "id": "initial-jesus",
   "metadata": {},
   "source": [
    "# 1. Peptide Normalization\n",
    "\n",
    "Normalize to total amount of peptide per sample: sum the abundance values for each sample, then calculate the median value across all of the summed abundance values, and calculate the ratio"
   ]
  },
  {
   "cell_type": "code",
   "execution_count": 7,
   "id": "quality-malta",
   "metadata": {},
   "outputs": [
    {
     "data": {
      "text/html": [
       "<table class=\"dataframe\">\n",
       "<caption>A grouped_df: 6 × 7</caption>\n",
       "<thead>\n",
       "\t<tr><th scope=col>ID</th><th scope=col>Set</th><th scope=col>Protein</th><th scope=col>Unique_Peptides</th><th scope=col>Value</th><th scope=col>Treatment</th><th scope=col>Norm_Value</th></tr>\n",
       "\t<tr><th scope=col>&lt;chr&gt;</th><th scope=col>&lt;chr&gt;</th><th scope=col>&lt;chr&gt;</th><th scope=col>&lt;dbl&gt;</th><th scope=col>&lt;dbl&gt;</th><th scope=col>&lt;chr&gt;</th><th scope=col>&lt;dbl&gt;</th></tr>\n",
       "</thead>\n",
       "<tbody>\n",
       "\t<tr><td>CoCulture_PooledSample1</td><td>Set1</td><td>P02769</td><td> 99</td><td>4.89e+11</td><td>CoCulture_PooledSample</td><td>430002659858</td></tr>\n",
       "\t<tr><td>CoCulture_PooledSample1</td><td>Set1</td><td>P02751</td><td>201</td><td>2.73e+11</td><td>CoCulture_PooledSample</td><td>240062834645</td></tr>\n",
       "\t<tr><td>CoCulture_PooledSample1</td><td>Set1</td><td>P12763</td><td> 34</td><td>2.63e+11</td><td>CoCulture_PooledSample</td><td>231269324218</td></tr>\n",
       "\t<tr><td>CoCulture_PooledSample1</td><td>Set1</td><td>Q2UVX4</td><td>162</td><td>5.65e+10</td><td>CoCulture_PooledSample</td><td> 49683333910</td></tr>\n",
       "\t<tr><td>CoCulture_PooledSample1</td><td>Set1</td><td>P98160</td><td>210</td><td>2.27e+10</td><td>CoCulture_PooledSample</td><td> 19961268668</td></tr>\n",
       "\t<tr><td>CoCulture_PooledSample1</td><td>Set1</td><td>P12111</td><td>201</td><td>2.15e+10</td><td>CoCulture_PooledSample</td><td> 18906047417</td></tr>\n",
       "</tbody>\n",
       "</table>\n"
      ],
      "text/latex": [
       "A grouped\\_df: 6 × 7\n",
       "\\begin{tabular}{lllllll}\n",
       " ID & Set & Protein & Unique\\_Peptides & Value & Treatment & Norm\\_Value\\\\\n",
       " <chr> & <chr> & <chr> & <dbl> & <dbl> & <chr> & <dbl>\\\\\n",
       "\\hline\n",
       "\t CoCulture\\_PooledSample1 & Set1 & P02769 &  99 & 4.89e+11 & CoCulture\\_PooledSample & 430002659858\\\\\n",
       "\t CoCulture\\_PooledSample1 & Set1 & P02751 & 201 & 2.73e+11 & CoCulture\\_PooledSample & 240062834645\\\\\n",
       "\t CoCulture\\_PooledSample1 & Set1 & P12763 &  34 & 2.63e+11 & CoCulture\\_PooledSample & 231269324218\\\\\n",
       "\t CoCulture\\_PooledSample1 & Set1 & Q2UVX4 & 162 & 5.65e+10 & CoCulture\\_PooledSample &  49683333910\\\\\n",
       "\t CoCulture\\_PooledSample1 & Set1 & P98160 & 210 & 2.27e+10 & CoCulture\\_PooledSample &  19961268668\\\\\n",
       "\t CoCulture\\_PooledSample1 & Set1 & P12111 & 201 & 2.15e+10 & CoCulture\\_PooledSample &  18906047417\\\\\n",
       "\\end{tabular}\n"
      ],
      "text/markdown": [
       "\n",
       "A grouped_df: 6 × 7\n",
       "\n",
       "| ID &lt;chr&gt; | Set &lt;chr&gt; | Protein &lt;chr&gt; | Unique_Peptides &lt;dbl&gt; | Value &lt;dbl&gt; | Treatment &lt;chr&gt; | Norm_Value &lt;dbl&gt; |\n",
       "|---|---|---|---|---|---|---|\n",
       "| CoCulture_PooledSample1 | Set1 | P02769 |  99 | 4.89e+11 | CoCulture_PooledSample | 430002659858 |\n",
       "| CoCulture_PooledSample1 | Set1 | P02751 | 201 | 2.73e+11 | CoCulture_PooledSample | 240062834645 |\n",
       "| CoCulture_PooledSample1 | Set1 | P12763 |  34 | 2.63e+11 | CoCulture_PooledSample | 231269324218 |\n",
       "| CoCulture_PooledSample1 | Set1 | Q2UVX4 | 162 | 5.65e+10 | CoCulture_PooledSample |  49683333910 |\n",
       "| CoCulture_PooledSample1 | Set1 | P98160 | 210 | 2.27e+10 | CoCulture_PooledSample |  19961268668 |\n",
       "| CoCulture_PooledSample1 | Set1 | P12111 | 201 | 2.15e+10 | CoCulture_PooledSample |  18906047417 |\n",
       "\n"
      ],
      "text/plain": [
       "  ID                      Set  Protein Unique_Peptides Value   \n",
       "1 CoCulture_PooledSample1 Set1 P02769   99             4.89e+11\n",
       "2 CoCulture_PooledSample1 Set1 P02751  201             2.73e+11\n",
       "3 CoCulture_PooledSample1 Set1 P12763   34             2.63e+11\n",
       "4 CoCulture_PooledSample1 Set1 Q2UVX4  162             5.65e+10\n",
       "5 CoCulture_PooledSample1 Set1 P98160  210             2.27e+10\n",
       "6 CoCulture_PooledSample1 Set1 P12111  201             2.15e+10\n",
       "  Treatment              Norm_Value  \n",
       "1 CoCulture_PooledSample 430002659858\n",
       "2 CoCulture_PooledSample 240062834645\n",
       "3 CoCulture_PooledSample 231269324218\n",
       "4 CoCulture_PooledSample  49683333910\n",
       "5 CoCulture_PooledSample  19961268668\n",
       "6 CoCulture_PooledSample  18906047417"
      ]
     },
     "metadata": {},
     "output_type": "display_data"
    }
   ],
   "source": [
    "normalized_df = proteome_df %>%\n",
    "    group_by(Set, ID) %>%\n",
    "    #removing missing data\n",
    "    drop_na() %>%\n",
    "    mutate(Summed_Value = sum(Value)) %>%\n",
    "    #calculating median across all samples but still within each set\n",
    "    ungroup() %>%\n",
    "    group_by(Set) %>%\n",
    "    mutate(Median_of_Sum = median(Summed_Value), Norm_Factor = Summed_Value/ Median_of_Sum, \n",
    "           Norm_Value = Value/Norm_Factor) %>%\n",
    "    select(-c(\"Summed_Value\", \"Median_of_Sum\", \"Norm_Factor\"))\n",
    "head(normalized_df)"
   ]
  },
  {
   "cell_type": "markdown",
   "id": "adolescent-registration",
   "metadata": {},
   "source": [
    "I'm getting values on the same order of magnitude, but not exactly the same as those from Proteome Discoverer."
   ]
  },
  {
   "cell_type": "markdown",
   "id": "hispanic-tower",
   "metadata": {},
   "source": [
    "# 2. Log2 Transformation\n",
    "\n",
    "Did this step later in the imputation functions. "
   ]
  },
  {
   "cell_type": "markdown",
   "id": "broad-garage",
   "metadata": {},
   "source": [
    "# 3. Detection Filters (Round 1 & 2)\n",
    "\n",
    "Round 1 - Unable to replicate the 1% peptide/ 5% protein FDR, so we'll just retain proteins that were identified by at least 2 peptides.\n",
    "\n",
    "Round 2 - Filter rows based on valid values: 50 % valid in at least one treatment group (i.e. proteins with values observed in fewer than 50% of replicates (here, 3 reps) in at least 1 condition were eliminated from the dataset) "
   ]
  },
  {
   "cell_type": "code",
   "execution_count": 21,
   "id": "alert-blame",
   "metadata": {},
   "outputs": [
    {
     "name": "stderr",
     "output_type": "stream",
     "text": [
      "\u001b[1m\u001b[22m`summarise()` has grouped output by 'Set', 'Treatment'. You can override using\n",
      "the `.groups` argument.\n"
     ]
    },
    {
     "data": {
      "text/html": [
       "<table class=\"dataframe\">\n",
       "<caption>A grouped_df: 6 × 4</caption>\n",
       "<thead>\n",
       "\t<tr><th scope=col>Set</th><th scope=col>Treatment</th><th scope=col>Protein</th><th scope=col>Protein_Presence</th></tr>\n",
       "\t<tr><th scope=col>&lt;chr&gt;</th><th scope=col>&lt;chr&gt;</th><th scope=col>&lt;chr&gt;</th><th scope=col>&lt;dbl&gt;</th></tr>\n",
       "</thead>\n",
       "<tbody>\n",
       "\t<tr><td>Set1</td><td>CoCulture</td><td>O00142</td><td>0</td></tr>\n",
       "\t<tr><td>Set1</td><td>CoCulture</td><td>O00571</td><td>0</td></tr>\n",
       "\t<tr><td>Set1</td><td>CoCulture</td><td>O43405</td><td>0</td></tr>\n",
       "\t<tr><td>Set1</td><td>CoCulture</td><td>O43488</td><td>0</td></tr>\n",
       "\t<tr><td>Set1</td><td>CoCulture</td><td>O43704</td><td>0</td></tr>\n",
       "\t<tr><td>Set1</td><td>CoCulture</td><td>O60271</td><td>0</td></tr>\n",
       "</tbody>\n",
       "</table>\n"
      ],
      "text/latex": [
       "A grouped\\_df: 6 × 4\n",
       "\\begin{tabular}{llll}\n",
       " Set & Treatment & Protein & Protein\\_Presence\\\\\n",
       " <chr> & <chr> & <chr> & <dbl>\\\\\n",
       "\\hline\n",
       "\t Set1 & CoCulture & O00142 & 0\\\\\n",
       "\t Set1 & CoCulture & O00571 & 0\\\\\n",
       "\t Set1 & CoCulture & O43405 & 0\\\\\n",
       "\t Set1 & CoCulture & O43488 & 0\\\\\n",
       "\t Set1 & CoCulture & O43704 & 0\\\\\n",
       "\t Set1 & CoCulture & O60271 & 0\\\\\n",
       "\\end{tabular}\n"
      ],
      "text/markdown": [
       "\n",
       "A grouped_df: 6 × 4\n",
       "\n",
       "| Set &lt;chr&gt; | Treatment &lt;chr&gt; | Protein &lt;chr&gt; | Protein_Presence &lt;dbl&gt; |\n",
       "|---|---|---|---|\n",
       "| Set1 | CoCulture | O00142 | 0 |\n",
       "| Set1 | CoCulture | O00571 | 0 |\n",
       "| Set1 | CoCulture | O43405 | 0 |\n",
       "| Set1 | CoCulture | O43488 | 0 |\n",
       "| Set1 | CoCulture | O43704 | 0 |\n",
       "| Set1 | CoCulture | O60271 | 0 |\n",
       "\n"
      ],
      "text/plain": [
       "  Set  Treatment Protein Protein_Presence\n",
       "1 Set1 CoCulture O00142  0               \n",
       "2 Set1 CoCulture O00571  0               \n",
       "3 Set1 CoCulture O43405  0               \n",
       "4 Set1 CoCulture O43488  0               \n",
       "5 Set1 CoCulture O43704  0               \n",
       "6 Set1 CoCulture O60271  0               "
      ]
     },
     "metadata": {},
     "output_type": "display_data"
    },
    {
     "data": {
      "text/html": [
       "290"
      ],
      "text/latex": [
       "290"
      ],
      "text/markdown": [
       "290"
      ],
      "text/plain": [
       "[1] 290"
      ]
     },
     "metadata": {},
     "output_type": "display_data"
    }
   ],
   "source": [
    "removed_proteins_df = proteome_df %>%\n",
    "    filter(Unique_Peptides < 2) %>%\n",
    "    #creating 2 count cols: 1st for non-missing data, 2nd for all data\n",
    "    mutate(data_count = ifelse(is.na(Value), 0, 1), all_count = 1) %>%\n",
    "    group_by(Set, Treatment, Protein) %>%\n",
    "    summarize(Protein_Presence = sum(data_count)/ sum(all_count) * 100) %>%\n",
    "    filter(Protein_Presence < 50) %>%\n",
    "    arrange(Protein_Presence) %>%\n",
    "    #just want a column that specifies the treatment and exposure separately to more easily remove proteins later\n",
    "    separate(Treatment, c(\"Treatment\", \"Exposure\"), sep = \"_\") %>%\n",
    "    select(-Exposure)\n",
    "\n",
    "head(removed_proteins_df)\n",
    "\n",
    "#removed_proteins = unique(removed_proteins_df$Protein)\n",
    "\n",
    "#number of proteins removed\n",
    "length(unique(removed_proteins_df$Protein))"
   ]
  },
  {
   "cell_type": "code",
   "execution_count": 22,
   "id": "62e8680d",
   "metadata": {},
   "outputs": [
    {
     "name": "stderr",
     "output_type": "stream",
     "text": [
      "\u001b[1m\u001b[22mJoining, by = c(\"Set\", \"Protein\", \"Treatment\")\n"
     ]
    },
    {
     "data": {
      "text/html": [
       "<table class=\"dataframe\">\n",
       "<caption>A data.frame: 6 × 6</caption>\n",
       "<thead>\n",
       "\t<tr><th></th><th scope=col>ID</th><th scope=col>Set</th><th scope=col>Protein</th><th scope=col>Unique_Peptides</th><th scope=col>Value</th><th scope=col>Treatment</th></tr>\n",
       "\t<tr><th></th><th scope=col>&lt;chr&gt;</th><th scope=col>&lt;chr&gt;</th><th scope=col>&lt;chr&gt;</th><th scope=col>&lt;dbl&gt;</th><th scope=col>&lt;dbl&gt;</th><th scope=col>&lt;chr&gt;</th></tr>\n",
       "</thead>\n",
       "<tbody>\n",
       "\t<tr><th scope=row>1</th><td>CoCulture_PooledSample1</td><td>Set1</td><td>P02769</td><td> 99</td><td>4.89e+11</td><td>CoCulture_PooledSample</td></tr>\n",
       "\t<tr><th scope=row>2</th><td>CoCulture_PooledSample1</td><td>Set1</td><td>P02751</td><td>201</td><td>2.73e+11</td><td>CoCulture_PooledSample</td></tr>\n",
       "\t<tr><th scope=row>3</th><td>CoCulture_PooledSample1</td><td>Set1</td><td>P12763</td><td> 34</td><td>2.63e+11</td><td>CoCulture_PooledSample</td></tr>\n",
       "\t<tr><th scope=row>4</th><td>CoCulture_PooledSample1</td><td>Set1</td><td>Q2UVX4</td><td>162</td><td>5.65e+10</td><td>CoCulture_PooledSample</td></tr>\n",
       "\t<tr><th scope=row>5</th><td>CoCulture_PooledSample1</td><td>Set1</td><td>P98160</td><td>210</td><td>2.27e+10</td><td>CoCulture_PooledSample</td></tr>\n",
       "\t<tr><th scope=row>6</th><td>CoCulture_PooledSample1</td><td>Set1</td><td>P12111</td><td>201</td><td>2.15e+10</td><td>CoCulture_PooledSample</td></tr>\n",
       "</tbody>\n",
       "</table>\n"
      ],
      "text/latex": [
       "A data.frame: 6 × 6\n",
       "\\begin{tabular}{r|llllll}\n",
       "  & ID & Set & Protein & Unique\\_Peptides & Value & Treatment\\\\\n",
       "  & <chr> & <chr> & <chr> & <dbl> & <dbl> & <chr>\\\\\n",
       "\\hline\n",
       "\t1 & CoCulture\\_PooledSample1 & Set1 & P02769 &  99 & 4.89e+11 & CoCulture\\_PooledSample\\\\\n",
       "\t2 & CoCulture\\_PooledSample1 & Set1 & P02751 & 201 & 2.73e+11 & CoCulture\\_PooledSample\\\\\n",
       "\t3 & CoCulture\\_PooledSample1 & Set1 & P12763 &  34 & 2.63e+11 & CoCulture\\_PooledSample\\\\\n",
       "\t4 & CoCulture\\_PooledSample1 & Set1 & Q2UVX4 & 162 & 5.65e+10 & CoCulture\\_PooledSample\\\\\n",
       "\t5 & CoCulture\\_PooledSample1 & Set1 & P98160 & 210 & 2.27e+10 & CoCulture\\_PooledSample\\\\\n",
       "\t6 & CoCulture\\_PooledSample1 & Set1 & P12111 & 201 & 2.15e+10 & CoCulture\\_PooledSample\\\\\n",
       "\\end{tabular}\n"
      ],
      "text/markdown": [
       "\n",
       "A data.frame: 6 × 6\n",
       "\n",
       "| <!--/--> | ID &lt;chr&gt; | Set &lt;chr&gt; | Protein &lt;chr&gt; | Unique_Peptides &lt;dbl&gt; | Value &lt;dbl&gt; | Treatment &lt;chr&gt; |\n",
       "|---|---|---|---|---|---|---|\n",
       "| 1 | CoCulture_PooledSample1 | Set1 | P02769 |  99 | 4.89e+11 | CoCulture_PooledSample |\n",
       "| 2 | CoCulture_PooledSample1 | Set1 | P02751 | 201 | 2.73e+11 | CoCulture_PooledSample |\n",
       "| 3 | CoCulture_PooledSample1 | Set1 | P12763 |  34 | 2.63e+11 | CoCulture_PooledSample |\n",
       "| 4 | CoCulture_PooledSample1 | Set1 | Q2UVX4 | 162 | 5.65e+10 | CoCulture_PooledSample |\n",
       "| 5 | CoCulture_PooledSample1 | Set1 | P98160 | 210 | 2.27e+10 | CoCulture_PooledSample |\n",
       "| 6 | CoCulture_PooledSample1 | Set1 | P12111 | 201 | 2.15e+10 | CoCulture_PooledSample |\n",
       "\n"
      ],
      "text/plain": [
       "  ID                      Set  Protein Unique_Peptides Value   \n",
       "1 CoCulture_PooledSample1 Set1 P02769   99             4.89e+11\n",
       "2 CoCulture_PooledSample1 Set1 P02751  201             2.73e+11\n",
       "3 CoCulture_PooledSample1 Set1 P12763   34             2.63e+11\n",
       "4 CoCulture_PooledSample1 Set1 Q2UVX4  162             5.65e+10\n",
       "5 CoCulture_PooledSample1 Set1 P98160  210             2.27e+10\n",
       "6 CoCulture_PooledSample1 Set1 P12111  201             2.15e+10\n",
       "  Treatment             \n",
       "1 CoCulture_PooledSample\n",
       "2 CoCulture_PooledSample\n",
       "3 CoCulture_PooledSample\n",
       "4 CoCulture_PooledSample\n",
       "5 CoCulture_PooledSample\n",
       "6 CoCulture_PooledSample"
      ]
     },
     "metadata": {},
     "output_type": "display_data"
    },
    {
     "data": {
      "text/html": [
       "2167"
      ],
      "text/latex": [
       "2167"
      ],
      "text/markdown": [
       "2167"
      ],
      "text/plain": [
       "[1] 2167"
      ]
     },
     "metadata": {},
     "output_type": "display_data"
    }
   ],
   "source": [
    "# removing those 290 proteins from the entire dataset (but within each set)\n",
    "\n",
    "#finding proteins that exist only in the proteome_df but not the removed proteins_df\n",
    "`%notin%` <- Negate(`%in%`)\n",
    "detection_filter_df = #proteome_df %>% filter(Protein %notin% removed_proteins)\n",
    "    anti_join(proteome_df, removed_proteins_df)\n",
    "head(detection_filter_df)\n",
    "\n",
    "#number of proteins kept\n",
    "length(unique(detection_filter_df$Protein))"
   ]
  },
  {
   "cell_type": "code",
   "execution_count": 30,
   "id": "9d04a400",
   "metadata": {},
   "outputs": [
    {
     "data": {
      "text/html": [
       "<table class=\"dataframe\">\n",
       "<caption>A data.frame: 14 × 6</caption>\n",
       "<thead>\n",
       "\t<tr><th scope=col>ID</th><th scope=col>Set</th><th scope=col>Protein</th><th scope=col>Unique_Peptides</th><th scope=col>Value</th><th scope=col>Treatment</th></tr>\n",
       "\t<tr><th scope=col>&lt;chr&gt;</th><th scope=col>&lt;chr&gt;</th><th scope=col>&lt;chr&gt;</th><th scope=col>&lt;dbl&gt;</th><th scope=col>&lt;dbl&gt;</th><th scope=col>&lt;chr&gt;</th></tr>\n",
       "</thead>\n",
       "<tbody>\n",
       "\t<tr><td>CoCulture_PooledSample1</td><td>Set1</td><td>O00142</td><td>1</td><td>9198050.0</td><td>CoCulture_PooledSample</td></tr>\n",
       "\t<tr><td>CoCulture_PooledSample2</td><td>Set1</td><td>O00142</td><td>1</td><td>6740428.0</td><td>CoCulture_PooledSample</td></tr>\n",
       "\t<tr><td>CoCulture_VehicleCT1   </td><td>Set1</td><td>O00142</td><td>1</td><td>       NA</td><td>CoCulture_Vehicle     </td></tr>\n",
       "\t<tr><td>CoCulture_VehicleCT2   </td><td>Set1</td><td>O00142</td><td>1</td><td> 351741.6</td><td>CoCulture_Vehicle     </td></tr>\n",
       "\t<tr><td>CoCulture_VehicleCT3   </td><td>Set1</td><td>O00142</td><td>1</td><td>1522181.0</td><td>CoCulture_Vehicle     </td></tr>\n",
       "\t<tr><td>CoCulture_VehicleCT4   </td><td>Set1</td><td>O00142</td><td>1</td><td>       NA</td><td>CoCulture_Vehicle     </td></tr>\n",
       "\t<tr><td>CoCulture_VehicleCT5   </td><td>Set1</td><td>O00142</td><td>1</td><td>1629705.0</td><td>CoCulture_Vehicle     </td></tr>\n",
       "\t<tr><td>CoCulture_VehicleCT6   </td><td>Set1</td><td>O00142</td><td>1</td><td>1094203.0</td><td>CoCulture_Vehicle     </td></tr>\n",
       "\t<tr><td>CoCulture_Exposed1     </td><td>Set1</td><td>O00142</td><td>1</td><td>       NA</td><td>CoCulture_Exposed     </td></tr>\n",
       "\t<tr><td>CoCulture_Exposed2     </td><td>Set1</td><td>O00142</td><td>1</td><td>       NA</td><td>CoCulture_Exposed     </td></tr>\n",
       "\t<tr><td>CoCulture_Exposed3     </td><td>Set1</td><td>O00142</td><td>1</td><td>       NA</td><td>CoCulture_Exposed     </td></tr>\n",
       "\t<tr><td>CoCulture_Exposed4     </td><td>Set1</td><td>O00142</td><td>1</td><td>       NA</td><td>CoCulture_Exposed     </td></tr>\n",
       "\t<tr><td>CoCulture_Exposed5     </td><td>Set1</td><td>O00142</td><td>1</td><td>       NA</td><td>CoCulture_Exposed     </td></tr>\n",
       "\t<tr><td>CoCulture_Exposed6     </td><td>Set1</td><td>O00142</td><td>1</td><td>       NA</td><td>CoCulture_Exposed     </td></tr>\n",
       "</tbody>\n",
       "</table>\n"
      ],
      "text/latex": [
       "A data.frame: 14 × 6\n",
       "\\begin{tabular}{llllll}\n",
       " ID & Set & Protein & Unique\\_Peptides & Value & Treatment\\\\\n",
       " <chr> & <chr> & <chr> & <dbl> & <dbl> & <chr>\\\\\n",
       "\\hline\n",
       "\t CoCulture\\_PooledSample1 & Set1 & O00142 & 1 & 9198050.0 & CoCulture\\_PooledSample\\\\\n",
       "\t CoCulture\\_PooledSample2 & Set1 & O00142 & 1 & 6740428.0 & CoCulture\\_PooledSample\\\\\n",
       "\t CoCulture\\_VehicleCT1    & Set1 & O00142 & 1 &        NA & CoCulture\\_Vehicle     \\\\\n",
       "\t CoCulture\\_VehicleCT2    & Set1 & O00142 & 1 &  351741.6 & CoCulture\\_Vehicle     \\\\\n",
       "\t CoCulture\\_VehicleCT3    & Set1 & O00142 & 1 & 1522181.0 & CoCulture\\_Vehicle     \\\\\n",
       "\t CoCulture\\_VehicleCT4    & Set1 & O00142 & 1 &        NA & CoCulture\\_Vehicle     \\\\\n",
       "\t CoCulture\\_VehicleCT5    & Set1 & O00142 & 1 & 1629705.0 & CoCulture\\_Vehicle     \\\\\n",
       "\t CoCulture\\_VehicleCT6    & Set1 & O00142 & 1 & 1094203.0 & CoCulture\\_Vehicle     \\\\\n",
       "\t CoCulture\\_Exposed1      & Set1 & O00142 & 1 &        NA & CoCulture\\_Exposed     \\\\\n",
       "\t CoCulture\\_Exposed2      & Set1 & O00142 & 1 &        NA & CoCulture\\_Exposed     \\\\\n",
       "\t CoCulture\\_Exposed3      & Set1 & O00142 & 1 &        NA & CoCulture\\_Exposed     \\\\\n",
       "\t CoCulture\\_Exposed4      & Set1 & O00142 & 1 &        NA & CoCulture\\_Exposed     \\\\\n",
       "\t CoCulture\\_Exposed5      & Set1 & O00142 & 1 &        NA & CoCulture\\_Exposed     \\\\\n",
       "\t CoCulture\\_Exposed6      & Set1 & O00142 & 1 &        NA & CoCulture\\_Exposed     \\\\\n",
       "\\end{tabular}\n"
      ],
      "text/markdown": [
       "\n",
       "A data.frame: 14 × 6\n",
       "\n",
       "| ID &lt;chr&gt; | Set &lt;chr&gt; | Protein &lt;chr&gt; | Unique_Peptides &lt;dbl&gt; | Value &lt;dbl&gt; | Treatment &lt;chr&gt; |\n",
       "|---|---|---|---|---|---|\n",
       "| CoCulture_PooledSample1 | Set1 | O00142 | 1 | 9198050.0 | CoCulture_PooledSample |\n",
       "| CoCulture_PooledSample2 | Set1 | O00142 | 1 | 6740428.0 | CoCulture_PooledSample |\n",
       "| CoCulture_VehicleCT1    | Set1 | O00142 | 1 |        NA | CoCulture_Vehicle      |\n",
       "| CoCulture_VehicleCT2    | Set1 | O00142 | 1 |  351741.6 | CoCulture_Vehicle      |\n",
       "| CoCulture_VehicleCT3    | Set1 | O00142 | 1 | 1522181.0 | CoCulture_Vehicle      |\n",
       "| CoCulture_VehicleCT4    | Set1 | O00142 | 1 |        NA | CoCulture_Vehicle      |\n",
       "| CoCulture_VehicleCT5    | Set1 | O00142 | 1 | 1629705.0 | CoCulture_Vehicle      |\n",
       "| CoCulture_VehicleCT6    | Set1 | O00142 | 1 | 1094203.0 | CoCulture_Vehicle      |\n",
       "| CoCulture_Exposed1      | Set1 | O00142 | 1 |        NA | CoCulture_Exposed      |\n",
       "| CoCulture_Exposed2      | Set1 | O00142 | 1 |        NA | CoCulture_Exposed      |\n",
       "| CoCulture_Exposed3      | Set1 | O00142 | 1 |        NA | CoCulture_Exposed      |\n",
       "| CoCulture_Exposed4      | Set1 | O00142 | 1 |        NA | CoCulture_Exposed      |\n",
       "| CoCulture_Exposed5      | Set1 | O00142 | 1 |        NA | CoCulture_Exposed      |\n",
       "| CoCulture_Exposed6      | Set1 | O00142 | 1 |        NA | CoCulture_Exposed      |\n",
       "\n"
      ],
      "text/plain": [
       "   ID                      Set  Protein Unique_Peptides Value    \n",
       "1  CoCulture_PooledSample1 Set1 O00142  1               9198050.0\n",
       "2  CoCulture_PooledSample2 Set1 O00142  1               6740428.0\n",
       "3  CoCulture_VehicleCT1    Set1 O00142  1                      NA\n",
       "4  CoCulture_VehicleCT2    Set1 O00142  1                351741.6\n",
       "5  CoCulture_VehicleCT3    Set1 O00142  1               1522181.0\n",
       "6  CoCulture_VehicleCT4    Set1 O00142  1                      NA\n",
       "7  CoCulture_VehicleCT5    Set1 O00142  1               1629705.0\n",
       "8  CoCulture_VehicleCT6    Set1 O00142  1               1094203.0\n",
       "9  CoCulture_Exposed1      Set1 O00142  1                      NA\n",
       "10 CoCulture_Exposed2      Set1 O00142  1                      NA\n",
       "11 CoCulture_Exposed3      Set1 O00142  1                      NA\n",
       "12 CoCulture_Exposed4      Set1 O00142  1                      NA\n",
       "13 CoCulture_Exposed5      Set1 O00142  1                      NA\n",
       "14 CoCulture_Exposed6      Set1 O00142  1                      NA\n",
       "   Treatment             \n",
       "1  CoCulture_PooledSample\n",
       "2  CoCulture_PooledSample\n",
       "3  CoCulture_Vehicle     \n",
       "4  CoCulture_Vehicle     \n",
       "5  CoCulture_Vehicle     \n",
       "6  CoCulture_Vehicle     \n",
       "7  CoCulture_Vehicle     \n",
       "8  CoCulture_Vehicle     \n",
       "9  CoCulture_Exposed     \n",
       "10 CoCulture_Exposed     \n",
       "11 CoCulture_Exposed     \n",
       "12 CoCulture_Exposed     \n",
       "13 CoCulture_Exposed     \n",
       "14 CoCulture_Exposed     "
      ]
     },
     "metadata": {},
     "output_type": "display_data"
    }
   ],
   "source": [
    "# TRY FIXING ISSUES WITH THIS HERE!!\n",
    "proteome_df %>% filter(Protein == \"O00142\")"
   ]
  },
  {
   "cell_type": "code",
   "execution_count": 23,
   "id": "5beb3497",
   "metadata": {},
   "outputs": [
    {
     "data": {
      "text/html": [
       "0"
      ],
      "text/latex": [
       "0"
      ],
      "text/markdown": [
       "0"
      ],
      "text/plain": [
       "[1] 0"
      ]
     },
     "metadata": {},
     "output_type": "display_data"
    }
   ],
   "source": [
    "# check to ensure I've kept the correct number of proteins -REMOVE??\n",
    "length(unique(proteome_df$Protein)) - length(unique(detection_filter_df$Protein))"
   ]
  },
  {
   "cell_type": "markdown",
   "id": "acting-pasta",
   "metadata": {},
   "source": [
    "# 5. QRILC Imputation\n",
    "\n",
    "QRILC replaces data with left-censored data from a Gaussian distribution. "
   ]
  },
  {
   "cell_type": "code",
   "execution_count": 24,
   "id": "02f69b3e",
   "metadata": {},
   "outputs": [
    {
     "data": {
      "text/html": [
       "<table class=\"dataframe\">\n",
       "<caption>A grouped_df: 6 × 6</caption>\n",
       "<thead>\n",
       "\t<tr><th scope=col>ID</th><th scope=col>Set</th><th scope=col>Treatment</th><th scope=col>Protein</th><th scope=col>Value</th><th scope=col>Norm_Value</th></tr>\n",
       "\t<tr><th scope=col>&lt;chr&gt;</th><th scope=col>&lt;chr&gt;</th><th scope=col>&lt;chr&gt;</th><th scope=col>&lt;chr&gt;</th><th scope=col>&lt;dbl&gt;</th><th scope=col>&lt;lgl&gt;</th></tr>\n",
       "</thead>\n",
       "<tbody>\n",
       "\t<tr><td>CoCulture_VehicleCT1</td><td>Set1</td><td>CoCulture_Vehicle</td><td>Q8IZ83</td><td>NA</td><td>NA</td></tr>\n",
       "\t<tr><td>CoCulture_VehicleCT1</td><td>Set1</td><td>CoCulture_Vehicle</td><td>P02668</td><td>NA</td><td>NA</td></tr>\n",
       "\t<tr><td>CoCulture_VehicleCT1</td><td>Set1</td><td>CoCulture_Vehicle</td><td>P23921</td><td>NA</td><td>NA</td></tr>\n",
       "\t<tr><td>CoCulture_VehicleCT1</td><td>Set1</td><td>CoCulture_Vehicle</td><td>O60841</td><td>NA</td><td>NA</td></tr>\n",
       "\t<tr><td>CoCulture_VehicleCT1</td><td>Set1</td><td>CoCulture_Vehicle</td><td>Q8NC51</td><td>NA</td><td>NA</td></tr>\n",
       "\t<tr><td>CoCulture_VehicleCT1</td><td>Set1</td><td>CoCulture_Vehicle</td><td>P50570</td><td>NA</td><td>NA</td></tr>\n",
       "</tbody>\n",
       "</table>\n"
      ],
      "text/latex": [
       "A grouped\\_df: 6 × 6\n",
       "\\begin{tabular}{llllll}\n",
       " ID & Set & Treatment & Protein & Value & Norm\\_Value\\\\\n",
       " <chr> & <chr> & <chr> & <chr> & <dbl> & <lgl>\\\\\n",
       "\\hline\n",
       "\t CoCulture\\_VehicleCT1 & Set1 & CoCulture\\_Vehicle & Q8IZ83 & NA & NA\\\\\n",
       "\t CoCulture\\_VehicleCT1 & Set1 & CoCulture\\_Vehicle & P02668 & NA & NA\\\\\n",
       "\t CoCulture\\_VehicleCT1 & Set1 & CoCulture\\_Vehicle & P23921 & NA & NA\\\\\n",
       "\t CoCulture\\_VehicleCT1 & Set1 & CoCulture\\_Vehicle & O60841 & NA & NA\\\\\n",
       "\t CoCulture\\_VehicleCT1 & Set1 & CoCulture\\_Vehicle & Q8NC51 & NA & NA\\\\\n",
       "\t CoCulture\\_VehicleCT1 & Set1 & CoCulture\\_Vehicle & P50570 & NA & NA\\\\\n",
       "\\end{tabular}\n"
      ],
      "text/markdown": [
       "\n",
       "A grouped_df: 6 × 6\n",
       "\n",
       "| ID &lt;chr&gt; | Set &lt;chr&gt; | Treatment &lt;chr&gt; | Protein &lt;chr&gt; | Value &lt;dbl&gt; | Norm_Value &lt;lgl&gt; |\n",
       "|---|---|---|---|---|---|\n",
       "| CoCulture_VehicleCT1 | Set1 | CoCulture_Vehicle | Q8IZ83 | NA | NA |\n",
       "| CoCulture_VehicleCT1 | Set1 | CoCulture_Vehicle | P02668 | NA | NA |\n",
       "| CoCulture_VehicleCT1 | Set1 | CoCulture_Vehicle | P23921 | NA | NA |\n",
       "| CoCulture_VehicleCT1 | Set1 | CoCulture_Vehicle | O60841 | NA | NA |\n",
       "| CoCulture_VehicleCT1 | Set1 | CoCulture_Vehicle | Q8NC51 | NA | NA |\n",
       "| CoCulture_VehicleCT1 | Set1 | CoCulture_Vehicle | P50570 | NA | NA |\n",
       "\n"
      ],
      "text/plain": [
       "  ID                   Set  Treatment         Protein Value Norm_Value\n",
       "1 CoCulture_VehicleCT1 Set1 CoCulture_Vehicle Q8IZ83  NA    NA        \n",
       "2 CoCulture_VehicleCT1 Set1 CoCulture_Vehicle P02668  NA    NA        \n",
       "3 CoCulture_VehicleCT1 Set1 CoCulture_Vehicle P23921  NA    NA        \n",
       "4 CoCulture_VehicleCT1 Set1 CoCulture_Vehicle O60841  NA    NA        \n",
       "5 CoCulture_VehicleCT1 Set1 CoCulture_Vehicle Q8NC51  NA    NA        \n",
       "6 CoCulture_VehicleCT1 Set1 CoCulture_Vehicle P50570  NA    NA        "
      ]
     },
     "metadata": {},
     "output_type": "display_data"
    }
   ],
   "source": [
    "# going back and retrieve proteins with missing data not in the removed proteins df\n",
    "missing_data_df = proteome_df %>%\n",
    "    filter(Unique_Peptides > 2) %>%\n",
    "    #creating 2 count cols: 1st for non-missing data, 2nd for all data\n",
    "    mutate(data_count = ifelse(is.na(Value), 0, 1), all_count = 1) %>%\n",
    "    group_by(Set, Treatment, Protein) %>%\n",
    "    mutate(Protein_Presence = sum(data_count)/ sum(all_count) * 100) %>%\n",
    "    filter(Protein_Presence > 50, is.na(Value)) %>%\n",
    "    # adding a col for the unimputed normalized value\n",
    "    mutate(Norm_Value = NA)\n",
    "\n",
    "missing_data_df = missing_data_df[,c(1,2,6,3,5,10)]\n",
    "head(missing_data_df)"
   ]
  },
  {
   "cell_type": "code",
   "execution_count": 25,
   "id": "2d86116e",
   "metadata": {},
   "outputs": [
    {
     "data": {
      "text/html": [
       "210"
      ],
      "text/latex": [
       "210"
      ],
      "text/markdown": [
       "210"
      ],
      "text/plain": [
       "[1] 210"
      ]
     },
     "metadata": {},
     "output_type": "display_data"
    }
   ],
   "source": [
    "# number of proteins with missing data that will be added back to the dataset\n",
    "length(unique(missing_data_df$Protein))"
   ]
  },
  {
   "cell_type": "code",
   "execution_count": 26,
   "id": "61c243ea",
   "metadata": {},
   "outputs": [
    {
     "name": "stderr",
     "output_type": "stream",
     "text": [
      "\u001b[1m\u001b[22mJoining, by = c(\"ID\", \"Set\", \"Protein\", \"Unique_Peptides\", \"Value\",\n",
      "\"Treatment\")\n",
      "\u001b[1m\u001b[22mJoining, by = c(\"ID\", \"Set\", \"Protein\", \"Value\", \"Treatment\", \"Norm_Value\")\n"
     ]
    },
    {
     "data": {
      "text/html": [
       "<table class=\"dataframe\">\n",
       "<caption>A data.frame: 6 × 6</caption>\n",
       "<thead>\n",
       "\t<tr><th></th><th scope=col>ID</th><th scope=col>Set</th><th scope=col>Treatment</th><th scope=col>Protein</th><th scope=col>Value</th><th scope=col>Norm_Value</th></tr>\n",
       "\t<tr><th></th><th scope=col>&lt;chr&gt;</th><th scope=col>&lt;chr&gt;</th><th scope=col>&lt;chr&gt;</th><th scope=col>&lt;chr&gt;</th><th scope=col>&lt;dbl&gt;</th><th scope=col>&lt;dbl&gt;</th></tr>\n",
       "</thead>\n",
       "<tbody>\n",
       "\t<tr><th scope=row>1</th><td>CoCulture_PooledSample1</td><td>Set1</td><td>CoCulture_PooledSample</td><td>P02769</td><td>4.89e+11</td><td>430002659858</td></tr>\n",
       "\t<tr><th scope=row>2</th><td>CoCulture_PooledSample1</td><td>Set1</td><td>CoCulture_PooledSample</td><td>P02751</td><td>2.73e+11</td><td>240062834645</td></tr>\n",
       "\t<tr><th scope=row>3</th><td>CoCulture_PooledSample1</td><td>Set1</td><td>CoCulture_PooledSample</td><td>P12763</td><td>2.63e+11</td><td>231269324218</td></tr>\n",
       "\t<tr><th scope=row>4</th><td>CoCulture_PooledSample1</td><td>Set1</td><td>CoCulture_PooledSample</td><td>Q2UVX4</td><td>5.65e+10</td><td> 49683333910</td></tr>\n",
       "\t<tr><th scope=row>5</th><td>CoCulture_PooledSample1</td><td>Set1</td><td>CoCulture_PooledSample</td><td>P98160</td><td>2.27e+10</td><td> 19961268668</td></tr>\n",
       "\t<tr><th scope=row>6</th><td>CoCulture_PooledSample1</td><td>Set1</td><td>CoCulture_PooledSample</td><td>P12111</td><td>2.15e+10</td><td> 18906047417</td></tr>\n",
       "</tbody>\n",
       "</table>\n"
      ],
      "text/latex": [
       "A data.frame: 6 × 6\n",
       "\\begin{tabular}{r|llllll}\n",
       "  & ID & Set & Treatment & Protein & Value & Norm\\_Value\\\\\n",
       "  & <chr> & <chr> & <chr> & <chr> & <dbl> & <dbl>\\\\\n",
       "\\hline\n",
       "\t1 & CoCulture\\_PooledSample1 & Set1 & CoCulture\\_PooledSample & P02769 & 4.89e+11 & 430002659858\\\\\n",
       "\t2 & CoCulture\\_PooledSample1 & Set1 & CoCulture\\_PooledSample & P02751 & 2.73e+11 & 240062834645\\\\\n",
       "\t3 & CoCulture\\_PooledSample1 & Set1 & CoCulture\\_PooledSample & P12763 & 2.63e+11 & 231269324218\\\\\n",
       "\t4 & CoCulture\\_PooledSample1 & Set1 & CoCulture\\_PooledSample & Q2UVX4 & 5.65e+10 &  49683333910\\\\\n",
       "\t5 & CoCulture\\_PooledSample1 & Set1 & CoCulture\\_PooledSample & P98160 & 2.27e+10 &  19961268668\\\\\n",
       "\t6 & CoCulture\\_PooledSample1 & Set1 & CoCulture\\_PooledSample & P12111 & 2.15e+10 &  18906047417\\\\\n",
       "\\end{tabular}\n"
      ],
      "text/markdown": [
       "\n",
       "A data.frame: 6 × 6\n",
       "\n",
       "| <!--/--> | ID &lt;chr&gt; | Set &lt;chr&gt; | Treatment &lt;chr&gt; | Protein &lt;chr&gt; | Value &lt;dbl&gt; | Norm_Value &lt;dbl&gt; |\n",
       "|---|---|---|---|---|---|---|\n",
       "| 1 | CoCulture_PooledSample1 | Set1 | CoCulture_PooledSample | P02769 | 4.89e+11 | 430002659858 |\n",
       "| 2 | CoCulture_PooledSample1 | Set1 | CoCulture_PooledSample | P02751 | 2.73e+11 | 240062834645 |\n",
       "| 3 | CoCulture_PooledSample1 | Set1 | CoCulture_PooledSample | P12763 | 2.63e+11 | 231269324218 |\n",
       "| 4 | CoCulture_PooledSample1 | Set1 | CoCulture_PooledSample | Q2UVX4 | 5.65e+10 |  49683333910 |\n",
       "| 5 | CoCulture_PooledSample1 | Set1 | CoCulture_PooledSample | P98160 | 2.27e+10 |  19961268668 |\n",
       "| 6 | CoCulture_PooledSample1 | Set1 | CoCulture_PooledSample | P12111 | 2.15e+10 |  18906047417 |\n",
       "\n"
      ],
      "text/plain": [
       "  ID                      Set  Treatment              Protein Value   \n",
       "1 CoCulture_PooledSample1 Set1 CoCulture_PooledSample P02769  4.89e+11\n",
       "2 CoCulture_PooledSample1 Set1 CoCulture_PooledSample P02751  2.73e+11\n",
       "3 CoCulture_PooledSample1 Set1 CoCulture_PooledSample P12763  2.63e+11\n",
       "4 CoCulture_PooledSample1 Set1 CoCulture_PooledSample Q2UVX4  5.65e+10\n",
       "5 CoCulture_PooledSample1 Set1 CoCulture_PooledSample P98160  2.27e+10\n",
       "6 CoCulture_PooledSample1 Set1 CoCulture_PooledSample P12111  2.15e+10\n",
       "  Norm_Value  \n",
       "1 430002659858\n",
       "2 240062834645\n",
       "3 231269324218\n",
       "4  49683333910\n",
       "5  19961268668\n",
       "6  18906047417"
      ]
     },
     "metadata": {},
     "output_type": "display_data"
    }
   ],
   "source": [
    "# adding in normalized values to the filtered df\n",
    "# left join returns all the records from the first table along with matching records from the second\n",
    "detection_filter_normalized_df = left_join(detection_filter_df, normalized_df) \n",
    "\n",
    "preimputed_df = rbind(detection_filter_normalized_df %>% \n",
    "                      select(-Unique_Peptides), missing_data_df) %>%\n",
    "    unique()\n",
    "\n",
    "\n",
    "# for some reason this protein had 2 entries, so removing the entries with all the missing data\n",
    "single_protein_missing_data = preimputed_df %>%\n",
    "    filter(is.na(Value) , Protein == \"P08727\")\n",
    "preimputed_df = anti_join(preimputed_df, single_protein_missing_data)\n",
    "\n",
    "preimputed_df = preimputed_df[, c(1,2,5,3,4,6)]\n",
    "head(preimputed_df)"
   ]
  },
  {
   "cell_type": "code",
   "execution_count": 27,
   "id": "3fa83c93",
   "metadata": {},
   "outputs": [],
   "source": [
    "#first splitting df to impute within set and treatment (not imputing pooled treatment groups)\n",
    "preimputed_df_split = preimputed_df %>%\n",
    "    group_by(Set, Treatment) %>%\n",
    "    group_split()\n",
    "\n",
    "coculutre_exp_preimputed_df = preimputed_df_split[[1]]\n",
    "coculutre_pooled_preimputed_df = preimputed_df_split[[2]]\n",
    "coculutre_vehicleCT_preimputed_df = preimputed_df_split[[3]] %>%\n",
    "    #for some reason this protein had another duplicate value, so removing it here\n",
    "    filter(Protein != \"P08727\" | Value != 17368304)\n",
    "triculutre_exp_preimputed_df = preimputed_df_split[[4]]\n",
    "triculutre_pooled_preimputed_df = preimputed_df_split[[5]]\n",
    "triculutre_vehicleCT_preimputed_df = preimputed_df_split[[6]]"
   ]
  },
  {
   "cell_type": "code",
   "execution_count": 28,
   "id": "221620af",
   "metadata": {
    "scrolled": true
   },
   "outputs": [
    {
     "name": "stderr",
     "output_type": "stream",
     "text": [
      "\u001b[1m\u001b[22m`summarise()` has grouped output by 'Set', 'Treatment'. You can override using\n",
      "the `.groups` argument.\n"
     ]
    },
    {
     "data": {
      "text/html": [
       "<table class=\"dataframe\">\n",
       "<caption>A grouped_df: 308 × 4</caption>\n",
       "<thead>\n",
       "\t<tr><th scope=col>Set</th><th scope=col>Treatment</th><th scope=col>Protein</th><th scope=col>Protein_Presence</th></tr>\n",
       "\t<tr><th scope=col>&lt;chr&gt;</th><th scope=col>&lt;chr&gt;</th><th scope=col>&lt;chr&gt;</th><th scope=col>&lt;dbl&gt;</th></tr>\n",
       "</thead>\n",
       "<tbody>\n",
       "\t<tr><td>Set1</td><td>CoCulture_Exposed</td><td>O00142</td><td>0</td></tr>\n",
       "\t<tr><td>Set1</td><td>CoCulture_Exposed</td><td>O00571</td><td>0</td></tr>\n",
       "\t<tr><td>Set1</td><td>CoCulture_Exposed</td><td>O00629</td><td>0</td></tr>\n",
       "\t<tr><td>Set1</td><td>CoCulture_Exposed</td><td>O15231</td><td>0</td></tr>\n",
       "\t<tr><td>Set1</td><td>CoCulture_Exposed</td><td>O43405</td><td>0</td></tr>\n",
       "\t<tr><td>Set1</td><td>CoCulture_Exposed</td><td>O43488</td><td>0</td></tr>\n",
       "\t<tr><td>Set1</td><td>CoCulture_Exposed</td><td>O43704</td><td>0</td></tr>\n",
       "\t<tr><td>Set1</td><td>CoCulture_Exposed</td><td>O60271</td><td>0</td></tr>\n",
       "\t<tr><td>Set1</td><td>CoCulture_Exposed</td><td>O60826</td><td>0</td></tr>\n",
       "\t<tr><td>Set1</td><td>CoCulture_Exposed</td><td>O60888</td><td>0</td></tr>\n",
       "\t<tr><td>Set1</td><td>CoCulture_Exposed</td><td>O75146</td><td>0</td></tr>\n",
       "\t<tr><td>Set1</td><td>CoCulture_Exposed</td><td>O75348</td><td>0</td></tr>\n",
       "\t<tr><td>Set1</td><td>CoCulture_Exposed</td><td>O75475</td><td>0</td></tr>\n",
       "\t<tr><td>Set1</td><td>CoCulture_Exposed</td><td>O75874</td><td>0</td></tr>\n",
       "\t<tr><td>Set1</td><td>CoCulture_Exposed</td><td>O76003</td><td>0</td></tr>\n",
       "\t<tr><td>Set1</td><td>CoCulture_Exposed</td><td>O76094</td><td>0</td></tr>\n",
       "\t<tr><td>Set1</td><td>CoCulture_Exposed</td><td>O95347</td><td>0</td></tr>\n",
       "\t<tr><td>Set1</td><td>CoCulture_Exposed</td><td>O95407</td><td>0</td></tr>\n",
       "\t<tr><td>Set1</td><td>CoCulture_Exposed</td><td>O95450</td><td>0</td></tr>\n",
       "\t<tr><td>Set1</td><td>CoCulture_Exposed</td><td>O95810</td><td>0</td></tr>\n",
       "\t<tr><td>Set1</td><td>CoCulture_Exposed</td><td>P00492</td><td>0</td></tr>\n",
       "\t<tr><td>Set1</td><td>CoCulture_Exposed</td><td>P01008</td><td>0</td></tr>\n",
       "\t<tr><td>Set1</td><td>CoCulture_Exposed</td><td>P01889</td><td>0</td></tr>\n",
       "\t<tr><td>Set1</td><td>CoCulture_Exposed</td><td>P02511</td><td>0</td></tr>\n",
       "\t<tr><td>Set1</td><td>CoCulture_Exposed</td><td>P02549</td><td>0</td></tr>\n",
       "\t<tr><td>Set1</td><td>CoCulture_Exposed</td><td>P02649</td><td>0</td></tr>\n",
       "\t<tr><td>Set1</td><td>CoCulture_Exposed</td><td>P04080</td><td>0</td></tr>\n",
       "\t<tr><td>Set1</td><td>CoCulture_Exposed</td><td>P04632</td><td>0</td></tr>\n",
       "\t<tr><td>Set1</td><td>CoCulture_Exposed</td><td>P06454</td><td>0</td></tr>\n",
       "\t<tr><td>Set1</td><td>CoCulture_Exposed</td><td>P07951</td><td>0</td></tr>\n",
       "\t<tr><td>⋮</td><td>⋮</td><td>⋮</td><td>⋮</td></tr>\n",
       "\t<tr><td>Set1</td><td>CoCulture_Exposed</td><td>Q07666</td><td>33.33333</td></tr>\n",
       "\t<tr><td>Set1</td><td>CoCulture_Exposed</td><td>Q12873</td><td>33.33333</td></tr>\n",
       "\t<tr><td>Set1</td><td>CoCulture_Exposed</td><td>Q12891</td><td>33.33333</td></tr>\n",
       "\t<tr><td>Set1</td><td>CoCulture_Exposed</td><td>Q12907</td><td>33.33333</td></tr>\n",
       "\t<tr><td>Set1</td><td>CoCulture_Exposed</td><td>Q13263</td><td>33.33333</td></tr>\n",
       "\t<tr><td>Set1</td><td>CoCulture_Exposed</td><td>Q13404</td><td>33.33333</td></tr>\n",
       "\t<tr><td>Set1</td><td>CoCulture_Exposed</td><td>Q13618</td><td>33.33333</td></tr>\n",
       "\t<tr><td>Set1</td><td>CoCulture_Exposed</td><td>Q13620</td><td>33.33333</td></tr>\n",
       "\t<tr><td>Set1</td><td>CoCulture_Exposed</td><td>Q14258</td><td>33.33333</td></tr>\n",
       "\t<tr><td>Set1</td><td>CoCulture_Exposed</td><td>Q15393</td><td>33.33333</td></tr>\n",
       "\t<tr><td>Set1</td><td>CoCulture_Exposed</td><td>Q5SW79</td><td>33.33333</td></tr>\n",
       "\t<tr><td>Set1</td><td>CoCulture_Exposed</td><td>Q5TEC6</td><td>33.33333</td></tr>\n",
       "\t<tr><td>Set1</td><td>CoCulture_Exposed</td><td>Q7KZ85</td><td>33.33333</td></tr>\n",
       "\t<tr><td>Set1</td><td>CoCulture_Exposed</td><td>Q7L2H7</td><td>33.33333</td></tr>\n",
       "\t<tr><td>Set1</td><td>CoCulture_Exposed</td><td>Q7L7L0</td><td>33.33333</td></tr>\n",
       "\t<tr><td>Set1</td><td>CoCulture_Exposed</td><td>Q86X55</td><td>33.33333</td></tr>\n",
       "\t<tr><td>Set1</td><td>CoCulture_Exposed</td><td>Q8IUE6</td><td>33.33333</td></tr>\n",
       "\t<tr><td>Set1</td><td>CoCulture_Exposed</td><td>Q8N8S7</td><td>33.33333</td></tr>\n",
       "\t<tr><td>Set1</td><td>CoCulture_Exposed</td><td>Q8NC51</td><td>33.33333</td></tr>\n",
       "\t<tr><td>Set1</td><td>CoCulture_Exposed</td><td>Q8WXI3</td><td>33.33333</td></tr>\n",
       "\t<tr><td>Set1</td><td>CoCulture_Exposed</td><td>Q92900</td><td>33.33333</td></tr>\n",
       "\t<tr><td>Set1</td><td>CoCulture_Exposed</td><td>Q96EP5</td><td>33.33333</td></tr>\n",
       "\t<tr><td>Set1</td><td>CoCulture_Exposed</td><td>Q96L92</td><td>33.33333</td></tr>\n",
       "\t<tr><td>Set1</td><td>CoCulture_Exposed</td><td>Q96T76</td><td>33.33333</td></tr>\n",
       "\t<tr><td>Set1</td><td>CoCulture_Exposed</td><td>Q99471</td><td>33.33333</td></tr>\n",
       "\t<tr><td>Set1</td><td>CoCulture_Exposed</td><td>Q9NQ88</td><td>33.33333</td></tr>\n",
       "\t<tr><td>Set1</td><td>CoCulture_Exposed</td><td>Q9NTK5</td><td>33.33333</td></tr>\n",
       "\t<tr><td>Set1</td><td>CoCulture_Exposed</td><td>Q9NZ32</td><td>33.33333</td></tr>\n",
       "\t<tr><td>Set1</td><td>CoCulture_Exposed</td><td>Q9UBW8</td><td>33.33333</td></tr>\n",
       "\t<tr><td>Set1</td><td>CoCulture_Exposed</td><td>Q9UNN8</td><td>33.33333</td></tr>\n",
       "</tbody>\n",
       "</table>\n"
      ],
      "text/latex": [
       "A grouped\\_df: 308 × 4\n",
       "\\begin{tabular}{llll}\n",
       " Set & Treatment & Protein & Protein\\_Presence\\\\\n",
       " <chr> & <chr> & <chr> & <dbl>\\\\\n",
       "\\hline\n",
       "\t Set1 & CoCulture\\_Exposed & O00142 & 0\\\\\n",
       "\t Set1 & CoCulture\\_Exposed & O00571 & 0\\\\\n",
       "\t Set1 & CoCulture\\_Exposed & O00629 & 0\\\\\n",
       "\t Set1 & CoCulture\\_Exposed & O15231 & 0\\\\\n",
       "\t Set1 & CoCulture\\_Exposed & O43405 & 0\\\\\n",
       "\t Set1 & CoCulture\\_Exposed & O43488 & 0\\\\\n",
       "\t Set1 & CoCulture\\_Exposed & O43704 & 0\\\\\n",
       "\t Set1 & CoCulture\\_Exposed & O60271 & 0\\\\\n",
       "\t Set1 & CoCulture\\_Exposed & O60826 & 0\\\\\n",
       "\t Set1 & CoCulture\\_Exposed & O60888 & 0\\\\\n",
       "\t Set1 & CoCulture\\_Exposed & O75146 & 0\\\\\n",
       "\t Set1 & CoCulture\\_Exposed & O75348 & 0\\\\\n",
       "\t Set1 & CoCulture\\_Exposed & O75475 & 0\\\\\n",
       "\t Set1 & CoCulture\\_Exposed & O75874 & 0\\\\\n",
       "\t Set1 & CoCulture\\_Exposed & O76003 & 0\\\\\n",
       "\t Set1 & CoCulture\\_Exposed & O76094 & 0\\\\\n",
       "\t Set1 & CoCulture\\_Exposed & O95347 & 0\\\\\n",
       "\t Set1 & CoCulture\\_Exposed & O95407 & 0\\\\\n",
       "\t Set1 & CoCulture\\_Exposed & O95450 & 0\\\\\n",
       "\t Set1 & CoCulture\\_Exposed & O95810 & 0\\\\\n",
       "\t Set1 & CoCulture\\_Exposed & P00492 & 0\\\\\n",
       "\t Set1 & CoCulture\\_Exposed & P01008 & 0\\\\\n",
       "\t Set1 & CoCulture\\_Exposed & P01889 & 0\\\\\n",
       "\t Set1 & CoCulture\\_Exposed & P02511 & 0\\\\\n",
       "\t Set1 & CoCulture\\_Exposed & P02549 & 0\\\\\n",
       "\t Set1 & CoCulture\\_Exposed & P02649 & 0\\\\\n",
       "\t Set1 & CoCulture\\_Exposed & P04080 & 0\\\\\n",
       "\t Set1 & CoCulture\\_Exposed & P04632 & 0\\\\\n",
       "\t Set1 & CoCulture\\_Exposed & P06454 & 0\\\\\n",
       "\t Set1 & CoCulture\\_Exposed & P07951 & 0\\\\\n",
       "\t ⋮ & ⋮ & ⋮ & ⋮\\\\\n",
       "\t Set1 & CoCulture\\_Exposed & Q07666 & 33.33333\\\\\n",
       "\t Set1 & CoCulture\\_Exposed & Q12873 & 33.33333\\\\\n",
       "\t Set1 & CoCulture\\_Exposed & Q12891 & 33.33333\\\\\n",
       "\t Set1 & CoCulture\\_Exposed & Q12907 & 33.33333\\\\\n",
       "\t Set1 & CoCulture\\_Exposed & Q13263 & 33.33333\\\\\n",
       "\t Set1 & CoCulture\\_Exposed & Q13404 & 33.33333\\\\\n",
       "\t Set1 & CoCulture\\_Exposed & Q13618 & 33.33333\\\\\n",
       "\t Set1 & CoCulture\\_Exposed & Q13620 & 33.33333\\\\\n",
       "\t Set1 & CoCulture\\_Exposed & Q14258 & 33.33333\\\\\n",
       "\t Set1 & CoCulture\\_Exposed & Q15393 & 33.33333\\\\\n",
       "\t Set1 & CoCulture\\_Exposed & Q5SW79 & 33.33333\\\\\n",
       "\t Set1 & CoCulture\\_Exposed & Q5TEC6 & 33.33333\\\\\n",
       "\t Set1 & CoCulture\\_Exposed & Q7KZ85 & 33.33333\\\\\n",
       "\t Set1 & CoCulture\\_Exposed & Q7L2H7 & 33.33333\\\\\n",
       "\t Set1 & CoCulture\\_Exposed & Q7L7L0 & 33.33333\\\\\n",
       "\t Set1 & CoCulture\\_Exposed & Q86X55 & 33.33333\\\\\n",
       "\t Set1 & CoCulture\\_Exposed & Q8IUE6 & 33.33333\\\\\n",
       "\t Set1 & CoCulture\\_Exposed & Q8N8S7 & 33.33333\\\\\n",
       "\t Set1 & CoCulture\\_Exposed & Q8NC51 & 33.33333\\\\\n",
       "\t Set1 & CoCulture\\_Exposed & Q8WXI3 & 33.33333\\\\\n",
       "\t Set1 & CoCulture\\_Exposed & Q92900 & 33.33333\\\\\n",
       "\t Set1 & CoCulture\\_Exposed & Q96EP5 & 33.33333\\\\\n",
       "\t Set1 & CoCulture\\_Exposed & Q96L92 & 33.33333\\\\\n",
       "\t Set1 & CoCulture\\_Exposed & Q96T76 & 33.33333\\\\\n",
       "\t Set1 & CoCulture\\_Exposed & Q99471 & 33.33333\\\\\n",
       "\t Set1 & CoCulture\\_Exposed & Q9NQ88 & 33.33333\\\\\n",
       "\t Set1 & CoCulture\\_Exposed & Q9NTK5 & 33.33333\\\\\n",
       "\t Set1 & CoCulture\\_Exposed & Q9NZ32 & 33.33333\\\\\n",
       "\t Set1 & CoCulture\\_Exposed & Q9UBW8 & 33.33333\\\\\n",
       "\t Set1 & CoCulture\\_Exposed & Q9UNN8 & 33.33333\\\\\n",
       "\\end{tabular}\n"
      ],
      "text/markdown": [
       "\n",
       "A grouped_df: 308 × 4\n",
       "\n",
       "| Set &lt;chr&gt; | Treatment &lt;chr&gt; | Protein &lt;chr&gt; | Protein_Presence &lt;dbl&gt; |\n",
       "|---|---|---|---|\n",
       "| Set1 | CoCulture_Exposed | O00142 | 0 |\n",
       "| Set1 | CoCulture_Exposed | O00571 | 0 |\n",
       "| Set1 | CoCulture_Exposed | O00629 | 0 |\n",
       "| Set1 | CoCulture_Exposed | O15231 | 0 |\n",
       "| Set1 | CoCulture_Exposed | O43405 | 0 |\n",
       "| Set1 | CoCulture_Exposed | O43488 | 0 |\n",
       "| Set1 | CoCulture_Exposed | O43704 | 0 |\n",
       "| Set1 | CoCulture_Exposed | O60271 | 0 |\n",
       "| Set1 | CoCulture_Exposed | O60826 | 0 |\n",
       "| Set1 | CoCulture_Exposed | O60888 | 0 |\n",
       "| Set1 | CoCulture_Exposed | O75146 | 0 |\n",
       "| Set1 | CoCulture_Exposed | O75348 | 0 |\n",
       "| Set1 | CoCulture_Exposed | O75475 | 0 |\n",
       "| Set1 | CoCulture_Exposed | O75874 | 0 |\n",
       "| Set1 | CoCulture_Exposed | O76003 | 0 |\n",
       "| Set1 | CoCulture_Exposed | O76094 | 0 |\n",
       "| Set1 | CoCulture_Exposed | O95347 | 0 |\n",
       "| Set1 | CoCulture_Exposed | O95407 | 0 |\n",
       "| Set1 | CoCulture_Exposed | O95450 | 0 |\n",
       "| Set1 | CoCulture_Exposed | O95810 | 0 |\n",
       "| Set1 | CoCulture_Exposed | P00492 | 0 |\n",
       "| Set1 | CoCulture_Exposed | P01008 | 0 |\n",
       "| Set1 | CoCulture_Exposed | P01889 | 0 |\n",
       "| Set1 | CoCulture_Exposed | P02511 | 0 |\n",
       "| Set1 | CoCulture_Exposed | P02549 | 0 |\n",
       "| Set1 | CoCulture_Exposed | P02649 | 0 |\n",
       "| Set1 | CoCulture_Exposed | P04080 | 0 |\n",
       "| Set1 | CoCulture_Exposed | P04632 | 0 |\n",
       "| Set1 | CoCulture_Exposed | P06454 | 0 |\n",
       "| Set1 | CoCulture_Exposed | P07951 | 0 |\n",
       "| ⋮ | ⋮ | ⋮ | ⋮ |\n",
       "| Set1 | CoCulture_Exposed | Q07666 | 33.33333 |\n",
       "| Set1 | CoCulture_Exposed | Q12873 | 33.33333 |\n",
       "| Set1 | CoCulture_Exposed | Q12891 | 33.33333 |\n",
       "| Set1 | CoCulture_Exposed | Q12907 | 33.33333 |\n",
       "| Set1 | CoCulture_Exposed | Q13263 | 33.33333 |\n",
       "| Set1 | CoCulture_Exposed | Q13404 | 33.33333 |\n",
       "| Set1 | CoCulture_Exposed | Q13618 | 33.33333 |\n",
       "| Set1 | CoCulture_Exposed | Q13620 | 33.33333 |\n",
       "| Set1 | CoCulture_Exposed | Q14258 | 33.33333 |\n",
       "| Set1 | CoCulture_Exposed | Q15393 | 33.33333 |\n",
       "| Set1 | CoCulture_Exposed | Q5SW79 | 33.33333 |\n",
       "| Set1 | CoCulture_Exposed | Q5TEC6 | 33.33333 |\n",
       "| Set1 | CoCulture_Exposed | Q7KZ85 | 33.33333 |\n",
       "| Set1 | CoCulture_Exposed | Q7L2H7 | 33.33333 |\n",
       "| Set1 | CoCulture_Exposed | Q7L7L0 | 33.33333 |\n",
       "| Set1 | CoCulture_Exposed | Q86X55 | 33.33333 |\n",
       "| Set1 | CoCulture_Exposed | Q8IUE6 | 33.33333 |\n",
       "| Set1 | CoCulture_Exposed | Q8N8S7 | 33.33333 |\n",
       "| Set1 | CoCulture_Exposed | Q8NC51 | 33.33333 |\n",
       "| Set1 | CoCulture_Exposed | Q8WXI3 | 33.33333 |\n",
       "| Set1 | CoCulture_Exposed | Q92900 | 33.33333 |\n",
       "| Set1 | CoCulture_Exposed | Q96EP5 | 33.33333 |\n",
       "| Set1 | CoCulture_Exposed | Q96L92 | 33.33333 |\n",
       "| Set1 | CoCulture_Exposed | Q96T76 | 33.33333 |\n",
       "| Set1 | CoCulture_Exposed | Q99471 | 33.33333 |\n",
       "| Set1 | CoCulture_Exposed | Q9NQ88 | 33.33333 |\n",
       "| Set1 | CoCulture_Exposed | Q9NTK5 | 33.33333 |\n",
       "| Set1 | CoCulture_Exposed | Q9NZ32 | 33.33333 |\n",
       "| Set1 | CoCulture_Exposed | Q9UBW8 | 33.33333 |\n",
       "| Set1 | CoCulture_Exposed | Q9UNN8 | 33.33333 |\n",
       "\n"
      ],
      "text/plain": [
       "    Set  Treatment         Protein Protein_Presence\n",
       "1   Set1 CoCulture_Exposed O00142  0               \n",
       "2   Set1 CoCulture_Exposed O00571  0               \n",
       "3   Set1 CoCulture_Exposed O00629  0               \n",
       "4   Set1 CoCulture_Exposed O15231  0               \n",
       "5   Set1 CoCulture_Exposed O43405  0               \n",
       "6   Set1 CoCulture_Exposed O43488  0               \n",
       "7   Set1 CoCulture_Exposed O43704  0               \n",
       "8   Set1 CoCulture_Exposed O60271  0               \n",
       "9   Set1 CoCulture_Exposed O60826  0               \n",
       "10  Set1 CoCulture_Exposed O60888  0               \n",
       "11  Set1 CoCulture_Exposed O75146  0               \n",
       "12  Set1 CoCulture_Exposed O75348  0               \n",
       "13  Set1 CoCulture_Exposed O75475  0               \n",
       "14  Set1 CoCulture_Exposed O75874  0               \n",
       "15  Set1 CoCulture_Exposed O76003  0               \n",
       "16  Set1 CoCulture_Exposed O76094  0               \n",
       "17  Set1 CoCulture_Exposed O95347  0               \n",
       "18  Set1 CoCulture_Exposed O95407  0               \n",
       "19  Set1 CoCulture_Exposed O95450  0               \n",
       "20  Set1 CoCulture_Exposed O95810  0               \n",
       "21  Set1 CoCulture_Exposed P00492  0               \n",
       "22  Set1 CoCulture_Exposed P01008  0               \n",
       "23  Set1 CoCulture_Exposed P01889  0               \n",
       "24  Set1 CoCulture_Exposed P02511  0               \n",
       "25  Set1 CoCulture_Exposed P02549  0               \n",
       "26  Set1 CoCulture_Exposed P02649  0               \n",
       "27  Set1 CoCulture_Exposed P04080  0               \n",
       "28  Set1 CoCulture_Exposed P04632  0               \n",
       "29  Set1 CoCulture_Exposed P06454  0               \n",
       "30  Set1 CoCulture_Exposed P07951  0               \n",
       "⋮   ⋮    ⋮                 ⋮       ⋮               \n",
       "279 Set1 CoCulture_Exposed Q07666  33.33333        \n",
       "280 Set1 CoCulture_Exposed Q12873  33.33333        \n",
       "281 Set1 CoCulture_Exposed Q12891  33.33333        \n",
       "282 Set1 CoCulture_Exposed Q12907  33.33333        \n",
       "283 Set1 CoCulture_Exposed Q13263  33.33333        \n",
       "284 Set1 CoCulture_Exposed Q13404  33.33333        \n",
       "285 Set1 CoCulture_Exposed Q13618  33.33333        \n",
       "286 Set1 CoCulture_Exposed Q13620  33.33333        \n",
       "287 Set1 CoCulture_Exposed Q14258  33.33333        \n",
       "288 Set1 CoCulture_Exposed Q15393  33.33333        \n",
       "289 Set1 CoCulture_Exposed Q5SW79  33.33333        \n",
       "290 Set1 CoCulture_Exposed Q5TEC6  33.33333        \n",
       "291 Set1 CoCulture_Exposed Q7KZ85  33.33333        \n",
       "292 Set1 CoCulture_Exposed Q7L2H7  33.33333        \n",
       "293 Set1 CoCulture_Exposed Q7L7L0  33.33333        \n",
       "294 Set1 CoCulture_Exposed Q86X55  33.33333        \n",
       "295 Set1 CoCulture_Exposed Q8IUE6  33.33333        \n",
       "296 Set1 CoCulture_Exposed Q8N8S7  33.33333        \n",
       "297 Set1 CoCulture_Exposed Q8NC51  33.33333        \n",
       "298 Set1 CoCulture_Exposed Q8WXI3  33.33333        \n",
       "299 Set1 CoCulture_Exposed Q92900  33.33333        \n",
       "300 Set1 CoCulture_Exposed Q96EP5  33.33333        \n",
       "301 Set1 CoCulture_Exposed Q96L92  33.33333        \n",
       "302 Set1 CoCulture_Exposed Q96T76  33.33333        \n",
       "303 Set1 CoCulture_Exposed Q99471  33.33333        \n",
       "304 Set1 CoCulture_Exposed Q9NQ88  33.33333        \n",
       "305 Set1 CoCulture_Exposed Q9NTK5  33.33333        \n",
       "306 Set1 CoCulture_Exposed Q9NZ32  33.33333        \n",
       "307 Set1 CoCulture_Exposed Q9UBW8  33.33333        \n",
       "308 Set1 CoCulture_Exposed Q9UNN8  33.33333        "
      ]
     },
     "metadata": {},
     "output_type": "display_data"
    }
   ],
   "source": [
    "coculutre_exp_preimputed_df %>%\n",
    "    #creating 2 count cols: 1st for non-missing data, 2nd for all data\n",
    "    mutate(data_count = ifelse(is.na(Value), 0, 1), all_count = 1) %>%\n",
    "    group_by(Set, Treatment, Protein) %>%\n",
    "    summarize(Protein_Presence = sum(data_count)/ sum(all_count) * 100) %>%\n",
    "    filter(Protein_Presence < 50) %>%\n",
    "    arrange(Protein_Presence) "
   ]
  },
  {
   "cell_type": "code",
   "execution_count": 95,
   "id": "55752e72",
   "metadata": {},
   "outputs": [
    {
     "name": "stdout",
     "output_type": "stream",
     "text": [
      "\u001b[90m# A tibble: 6 × 1,539\u001b[39m\n",
      "   P02769  P02751  P12763  Q2UVX4  P98160  P12111  Q28085  Q0IIK2 P21333  O00468\n",
      "    \u001b[3m\u001b[90m<dbl>\u001b[39m\u001b[23m   \u001b[3m\u001b[90m<dbl>\u001b[39m\u001b[23m   \u001b[3m\u001b[90m<dbl>\u001b[39m\u001b[23m   \u001b[3m\u001b[90m<dbl>\u001b[39m\u001b[23m   \u001b[3m\u001b[90m<dbl>\u001b[39m\u001b[23m   \u001b[3m\u001b[90m<dbl>\u001b[39m\u001b[23m   \u001b[3m\u001b[90m<dbl>\u001b[39m\u001b[23m   \u001b[3m\u001b[90m<dbl>\u001b[39m\u001b[23m  \u001b[3m\u001b[90m<dbl>\u001b[39m\u001b[23m   \u001b[3m\u001b[90m<dbl>\u001b[39m\u001b[23m\n",
      "\u001b[90m1\u001b[39m 4.98\u001b[90me\u001b[39m11 1.84\u001b[90me\u001b[39m11 2.93\u001b[90me\u001b[39m11 5.22\u001b[90me\u001b[39m10 2.16\u001b[90me\u001b[39m10 1.83\u001b[90me\u001b[39m10 5.37\u001b[90me\u001b[39m10 4.41\u001b[90me\u001b[39m10 6.35\u001b[90me\u001b[39m9 1.65\u001b[90me\u001b[39m10\n",
      "\u001b[90m2\u001b[39m 6.08\u001b[90me\u001b[39m11 2.31\u001b[90me\u001b[39m11 2.79\u001b[90me\u001b[39m11 3.92\u001b[90me\u001b[39m10 1.37\u001b[90me\u001b[39m10 2.04\u001b[90me\u001b[39m10 4.25\u001b[90me\u001b[39m10 5.16\u001b[90me\u001b[39m10 3.15\u001b[90me\u001b[39m9 1.84\u001b[90me\u001b[39m10\n",
      "\u001b[90m3\u001b[39m 6.16\u001b[90me\u001b[39m11 2.49\u001b[90me\u001b[39m11 2.73\u001b[90me\u001b[39m11 3.08\u001b[90me\u001b[39m10 1.09\u001b[90me\u001b[39m10 2.23\u001b[90me\u001b[39m10 3.93\u001b[90me\u001b[39m10 5.69\u001b[90me\u001b[39m10 4.72\u001b[90me\u001b[39m9 1.37\u001b[90me\u001b[39m10\n",
      "\u001b[90m4\u001b[39m 5.13\u001b[90me\u001b[39m11 2.54\u001b[90me\u001b[39m11 2.63\u001b[90me\u001b[39m11 6.53\u001b[90me\u001b[39m10 2.19\u001b[90me\u001b[39m10 2.63\u001b[90me\u001b[39m10 4.79\u001b[90me\u001b[39m10 4.14\u001b[90me\u001b[39m10 6.47\u001b[90me\u001b[39m9 1.4 \u001b[90me\u001b[39m10\n",
      "\u001b[90m5\u001b[39m 4.43\u001b[90me\u001b[39m11 2.21\u001b[90me\u001b[39m11 2.82\u001b[90me\u001b[39m11 4.98\u001b[90me\u001b[39m10 2.75\u001b[90me\u001b[39m10 2.31\u001b[90me\u001b[39m10 4.33\u001b[90me\u001b[39m10 4.20\u001b[90me\u001b[39m10 9.94\u001b[90me\u001b[39m9 1.81\u001b[90me\u001b[39m10\n",
      "\u001b[90m6\u001b[39m 5.92\u001b[90me\u001b[39m11 2.16\u001b[90me\u001b[39m11 2.62\u001b[90me\u001b[39m11 4.05\u001b[90me\u001b[39m10 1.96\u001b[90me\u001b[39m10 2.25\u001b[90me\u001b[39m10 4.33\u001b[90me\u001b[39m10 5.06\u001b[90me\u001b[39m10 7.08\u001b[90me\u001b[39m9 1.70\u001b[90me\u001b[39m10\n",
      "\u001b[90m# … with 1,529 more variables: `P00761 SWISS-PROT:P00761` <dbl>, P35555 <dbl>,\u001b[39m\n",
      "\u001b[90m#   P02452 <dbl>, P34955 <dbl>, Q15582 <dbl>, P07996 <dbl>, P08123 <dbl>,\u001b[39m\n",
      "\u001b[90m#   `ENSEMBL:ENSBTAP00000007350` <dbl>, Q15149 <dbl>, Q3SZ57 <dbl>,\u001b[39m\n",
      "\u001b[90m#   `ENSEMBL:ENSBTAP00000024146` <dbl>, O15230 <dbl>, P01030 <dbl>,\u001b[39m\n",
      "\u001b[90m#   Q14315 <dbl>, P35579 <dbl>, Q16787 <dbl>, Q28194 <dbl>, P08670 <dbl>,\u001b[39m\n",
      "\u001b[90m#   Q1A7A4 <dbl>, P08603 <dbl>, `ENSEMBL:ENSBTAP00000018229` <dbl>,\u001b[39m\n",
      "\u001b[90m#   P04264 <dbl>, Q09666 <dbl>, Q13751 <dbl>, P35556 <dbl>, Q3MHN5 <dbl>, …\u001b[39m\n"
     ]
    },
    {
     "ename": "ERROR",
     "evalue": "Error in checkSymmetricPositiveDefinite(sigma): sigma all diagonal elements must be positive\n",
     "output_type": "error",
     "traceback": [
      "Error in checkSymmetricPositiveDefinite(sigma): sigma all diagonal elements must be positive\nTraceback:\n",
      "1. QRILC_imputation(coculutre_exp_preimputed_df)",
      "2. impute.QRILC(QRILC_prep, tune.sigma = 0.1)   # at line 14 of file <text>",
      "3. rtmvnorm(n = nFeatures, mean = mean.CDD, sigma = sd.CDD * tune.sigma, \n .     upper = qnorm((pNAs + 0.001), mean = mean.CDD, sd = sd.CDD), \n .     algorithm = c(\"gibbs\"))",
      "4. checkTmvArgs(mean, sigma, lower, upper)",
      "5. checkSymmetricPositiveDefinite(sigma)",
      "6. stop(sprintf(\"%s all diagonal elements must be positive\", name))"
     ]
    }
   ],
   "source": [
    "# QRILC\n",
    "QRILC_imputation = function(dataset){\n",
    "    wider_dataset = dataset %>%\n",
    "        select(-c(\"Set\", \"Value\", \"Treatment\")) %>%\n",
    "        pivot_wider(names_from = Protein, values_from = Norm_Value) %>%\n",
    "        select(-ID)\n",
    "    \n",
    "    #normalizing data since that's what the QRILC function wants\n",
    "    QRILC_prep = wider_dataset %>%\n",
    "         mutate_all(., function(x) log2(x)) %>%\n",
    "         as.matrix()\n",
    "\n",
    "    imputed_QRILC_object = impute.QRILC(QRILC_prep, tune.sigma = 0.1)\n",
    "    QRILC_log2_df = data.frame(imputed_QRILC_object[1]) \n",
    "    \n",
    "    #converting back the original scale\n",
    "    QRILC_df = QRILC_log2_df %>%\n",
    "        mutate_all(., function(x) 2^x - 1)\n",
    "            \n",
    "    #adding back in ID, Tx, and Set columns\n",
    "    final_pivoted_column_number = dim(QRILC_df)[2] + 3\n",
    "    imputed_dataset = data.frame(cbind(dataset[1:6,1:3], QRILC_df)) %>%\n",
    "        pivot_longer(cols = 4:all_of(final_pivoted_column_number), names_to = \"Protein\", values_to = \"Value\")\n",
    "    \n",
    "    return(imputed_dataset)\n",
    "}\n",
    "\n",
    "# calling fn\n",
    "coculutre_exp_imputed_df = QRILC_imputation(coculutre_exp_preimputed_df)\n",
    "coculutre_vehicleCT_imputed_df = QRILC_imputation(coculutre_vehicleCT_preimputed_df)\n",
    "triculutre_exp_imputed_df = QRILC_imputation(triculutre_exp_preimputed_df)\n",
    "triculutre_vehicleCT_imputed_df = QRILC_imputation(triculutre_vehicleCT_preimputed_df)"
   ]
  },
  {
   "cell_type": "code",
   "execution_count": 13,
   "id": "373e4b8b",
   "metadata": {
    "collapsed": true
   },
   "outputs": [
    {
     "data": {
      "text/html": [
       "<table class=\"dataframe\">\n",
       "<caption>A tibble: 6 × 5</caption>\n",
       "<thead>\n",
       "\t<tr><th scope=col>ID</th><th scope=col>Set</th><th scope=col>Treatment</th><th scope=col>Protein</th><th scope=col>Value</th></tr>\n",
       "\t<tr><th scope=col>&lt;chr&gt;</th><th scope=col>&lt;chr&gt;</th><th scope=col>&lt;chr&gt;</th><th scope=col>&lt;chr&gt;</th><th scope=col>&lt;dbl&gt;</th></tr>\n",
       "</thead>\n",
       "<tbody>\n",
       "\t<tr><td>CoCulture_Exposed1</td><td>Set1</td><td>CoCulture_Exposed</td><td>P19012</td><td> 476617.6</td></tr>\n",
       "\t<tr><td>CoCulture_Exposed1</td><td>Set1</td><td>CoCulture_Exposed</td><td>P19013</td><td>1077007.5</td></tr>\n",
       "\t<tr><td>CoCulture_Exposed1</td><td>Set1</td><td>CoCulture_Exposed</td><td>O43897</td><td>2245997.6</td></tr>\n",
       "\t<tr><td>CoCulture_Exposed1</td><td>Set1</td><td>CoCulture_Exposed</td><td>P20700</td><td>2388716.6</td></tr>\n",
       "\t<tr><td>CoCulture_Exposed1</td><td>Set1</td><td>CoCulture_Exposed</td><td>P22102</td><td>1790626.6</td></tr>\n",
       "\t<tr><td>CoCulture_Exposed1</td><td>Set1</td><td>CoCulture_Exposed</td><td>O75367</td><td> 874143.2</td></tr>\n",
       "</tbody>\n",
       "</table>\n"
      ],
      "text/latex": [
       "A tibble: 6 × 5\n",
       "\\begin{tabular}{lllll}\n",
       " ID & Set & Treatment & Protein & Value\\\\\n",
       " <chr> & <chr> & <chr> & <chr> & <dbl>\\\\\n",
       "\\hline\n",
       "\t CoCulture\\_Exposed1 & Set1 & CoCulture\\_Exposed & P19012 &  476617.6\\\\\n",
       "\t CoCulture\\_Exposed1 & Set1 & CoCulture\\_Exposed & P19013 & 1077007.5\\\\\n",
       "\t CoCulture\\_Exposed1 & Set1 & CoCulture\\_Exposed & O43897 & 2245997.6\\\\\n",
       "\t CoCulture\\_Exposed1 & Set1 & CoCulture\\_Exposed & P20700 & 2388716.6\\\\\n",
       "\t CoCulture\\_Exposed1 & Set1 & CoCulture\\_Exposed & P22102 & 1790626.6\\\\\n",
       "\t CoCulture\\_Exposed1 & Set1 & CoCulture\\_Exposed & O75367 &  874143.2\\\\\n",
       "\\end{tabular}\n"
      ],
      "text/markdown": [
       "\n",
       "A tibble: 6 × 5\n",
       "\n",
       "| ID &lt;chr&gt; | Set &lt;chr&gt; | Treatment &lt;chr&gt; | Protein &lt;chr&gt; | Value &lt;dbl&gt; |\n",
       "|---|---|---|---|---|\n",
       "| CoCulture_Exposed1 | Set1 | CoCulture_Exposed | P19012 |  476617.6 |\n",
       "| CoCulture_Exposed1 | Set1 | CoCulture_Exposed | P19013 | 1077007.5 |\n",
       "| CoCulture_Exposed1 | Set1 | CoCulture_Exposed | O43897 | 2245997.6 |\n",
       "| CoCulture_Exposed1 | Set1 | CoCulture_Exposed | P20700 | 2388716.6 |\n",
       "| CoCulture_Exposed1 | Set1 | CoCulture_Exposed | P22102 | 1790626.6 |\n",
       "| CoCulture_Exposed1 | Set1 | CoCulture_Exposed | O75367 |  874143.2 |\n",
       "\n"
      ],
      "text/plain": [
       "  ID                 Set  Treatment         Protein Value    \n",
       "1 CoCulture_Exposed1 Set1 CoCulture_Exposed P19012   476617.6\n",
       "2 CoCulture_Exposed1 Set1 CoCulture_Exposed P19013  1077007.5\n",
       "3 CoCulture_Exposed1 Set1 CoCulture_Exposed O43897  2245997.6\n",
       "4 CoCulture_Exposed1 Set1 CoCulture_Exposed P20700  2388716.6\n",
       "5 CoCulture_Exposed1 Set1 CoCulture_Exposed P22102  1790626.6\n",
       "6 CoCulture_Exposed1 Set1 CoCulture_Exposed O75367   874143.2"
      ]
     },
     "metadata": {},
     "output_type": "display_data"
    }
   ],
   "source": [
    "imputed_df = rbind(coculutre_exp_imputed_df, coculutre_vehicleCT_imputed_df, triculutre_exp_imputed_df,\n",
    "                  triculutre_vehicleCT_imputed_df)\n",
    "head(imputed_df)"
   ]
  },
  {
   "cell_type": "markdown",
   "id": "e55bd04d",
   "metadata": {},
   "source": [
    "# 6. PCA\n",
    "\n",
    "Using PCA to identify and remove outliers."
   ]
  },
  {
   "cell_type": "code",
   "execution_count": null,
   "id": "bcec13c2",
   "metadata": {},
   "outputs": [],
   "source": [
    "pca_df = imputed_df %>%\n",
    "    pivot_wider(col = )"
   ]
  },
  {
   "cell_type": "code",
   "execution_count": 14,
   "id": "2eb66dec",
   "metadata": {},
   "outputs": [],
   "source": [
    "#exporting results\n",
    "write.csv(imputed_df, paste0(Output,\"/\", cur_date, \"_Imputed_Proteomics_Data.csv\"), row.names = FALSE)"
   ]
  },
  {
   "cell_type": "code",
   "execution_count": null,
   "id": "f9daab3f",
   "metadata": {},
   "outputs": [],
   "source": []
  }
 ],
 "metadata": {
  "kernelspec": {
   "display_name": "R",
   "language": "R",
   "name": "ir"
  },
  "language_info": {
   "codemirror_mode": "r",
   "file_extension": ".r",
   "mimetype": "text/x-r-source",
   "name": "R",
   "pygments_lexer": "r",
   "version": "4.1.2"
  }
 },
 "nbformat": 4,
 "nbformat_minor": 5
}
