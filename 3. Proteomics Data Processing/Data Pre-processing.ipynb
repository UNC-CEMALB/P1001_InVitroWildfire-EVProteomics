{
 "cells": [
  {
   "cell_type": "code",
   "execution_count": 1,
   "id": "9f0254ad",
   "metadata": {},
   "outputs": [],
   "source": [
    "# if (!require(\"BiocManager\", quietly = TRUE))\n",
    "#     install.packages(\"BiocManager\")\n",
    "\n",
    "# BiocManager::install(\"TargetDecoy\")\n",
    "\n",
    "# if (!require(\"BiocManager\", quietly = TRUE))\n",
    "#     install.packages(\"BiocManager\")\n",
    "\n",
    "# BiocManager::install(\"mzID\")"
   ]
  },
  {
   "cell_type": "code",
   "execution_count": 2,
   "id": "naughty-atlanta",
   "metadata": {},
   "outputs": [
    {
     "name": "stderr",
     "output_type": "stream",
     "text": [
      "── \u001b[1mAttaching packages\u001b[22m ─────────────────────────────────────── tidyverse 1.3.1 ──\n",
      "\n",
      "\u001b[32m✔\u001b[39m \u001b[34mggplot2\u001b[39m 3.3.5     \u001b[32m✔\u001b[39m \u001b[34mpurrr  \u001b[39m 0.3.4\n",
      "\u001b[32m✔\u001b[39m \u001b[34mtibble \u001b[39m 3.1.6     \u001b[32m✔\u001b[39m \u001b[34mdplyr  \u001b[39m 1.0.8\n",
      "\u001b[32m✔\u001b[39m \u001b[34mtidyr  \u001b[39m 1.2.0     \u001b[32m✔\u001b[39m \u001b[34mstringr\u001b[39m 1.4.0\n",
      "\u001b[32m✔\u001b[39m \u001b[34mreadr  \u001b[39m 2.1.2     \u001b[32m✔\u001b[39m \u001b[34mforcats\u001b[39m 0.5.1\n",
      "\n",
      "── \u001b[1mConflicts\u001b[22m ────────────────────────────────────────── tidyverse_conflicts() ──\n",
      "\u001b[31m✖\u001b[39m \u001b[34mdplyr\u001b[39m::\u001b[32mfilter()\u001b[39m masks \u001b[34mstats\u001b[39m::filter()\n",
      "\u001b[31m✖\u001b[39m \u001b[34mdplyr\u001b[39m::\u001b[32mlag()\u001b[39m    masks \u001b[34mstats\u001b[39m::lag()\n",
      "\n",
      "\n",
      "Attaching package: ‘mzID’\n",
      "\n",
      "\n",
      "The following object is masked from ‘package:dplyr’:\n",
      "\n",
      "    id\n",
      "\n",
      "\n",
      "The following object is masked from ‘package:purrr’:\n",
      "\n",
      "    flatten\n",
      "\n",
      "\n",
      "Warning message in fun(libname, pkgname):\n",
      "“mzR has been built against a different Rcpp version (1.0.8)\n",
      "than is installed on your system (1.0.8.3). This might lead to errors\n",
      "when loading mzR. If you encounter such issues, please send a report,\n",
      "including the output of sessionInfo() to the Bioc support forum at \n",
      "https://support.bioconductor.org/. For details see also\n",
      "https://github.com/sneumann/mzR/wiki/mzR-Rcpp-compiler-linker-issue.”\n",
      "Loading required package: tmvtnorm\n",
      "\n",
      "Loading required package: mvtnorm\n",
      "\n",
      "Loading required package: Matrix\n",
      "\n",
      "\n",
      "Attaching package: ‘Matrix’\n",
      "\n",
      "\n",
      "The following objects are masked from ‘package:tidyr’:\n",
      "\n",
      "    expand, pack, unpack\n",
      "\n",
      "\n",
      "Loading required package: stats4\n",
      "\n",
      "Loading required package: gmm\n",
      "\n",
      "Loading required package: sandwich\n",
      "\n",
      "Loading required package: norm\n",
      "\n",
      "Loading required package: pcaMethods\n",
      "\n",
      "Loading required package: Biobase\n",
      "\n",
      "Loading required package: BiocGenerics\n",
      "\n",
      "\n",
      "Attaching package: ‘BiocGenerics’\n",
      "\n",
      "\n",
      "The following objects are masked from ‘package:dplyr’:\n",
      "\n",
      "    combine, intersect, setdiff, union\n",
      "\n",
      "\n",
      "The following objects are masked from ‘package:stats’:\n",
      "\n",
      "    IQR, mad, sd, var, xtabs\n",
      "\n",
      "\n",
      "The following objects are masked from ‘package:base’:\n",
      "\n",
      "    Filter, Find, Map, Position, Reduce, anyDuplicated, append,\n",
      "    as.data.frame, basename, cbind, colnames, dirname, do.call,\n",
      "    duplicated, eval, evalq, get, grep, grepl, intersect, is.unsorted,\n",
      "    lapply, mapply, match, mget, order, paste, pmax, pmax.int, pmin,\n",
      "    pmin.int, rank, rbind, rownames, sapply, setdiff, sort, table,\n",
      "    tapply, union, unique, unsplit, which.max, which.min\n",
      "\n",
      "\n",
      "Welcome to Bioconductor\n",
      "\n",
      "    Vignettes contain introductory material; view with\n",
      "    'browseVignettes()'. To cite Bioconductor, see\n",
      "    'citation(\"Biobase\")', and for packages 'citation(\"pkgname\")'.\n",
      "\n",
      "\n",
      "\n",
      "Attaching package: ‘pcaMethods’\n",
      "\n",
      "\n",
      "The following object is masked from ‘package:stats’:\n",
      "\n",
      "    loadings\n",
      "\n",
      "\n",
      "Loading required package: impute\n",
      "\n"
     ]
    }
   ],
   "source": [
    "setwd('/Users/alexis/Library/CloudStorage/OneDrive-UniversityofNorthCarolinaatChapelHill/CEMALB_DataAnalysisPM/Projects/P1001. InVitroWildfire EVProteomics/P1001.3. Analyses/P1001.3.4. Data Preprocessing/Input')\n",
    "Output = ('/Users/alexis/Library/CloudStorage/OneDrive-UniversityofNorthCarolinaatChapelHill/CEMALB_DataAnalysisPM/Projects/P1001. InVitroWildfire EVProteomics/P1001.3. Analyses/P1001.3.4. Data Preprocessing/Output')\n",
    "cur_date = \"041922\"\n",
    "\n",
    "library(readxl)\n",
    "library(tidyverse)\n",
    "library(mzID)\n",
    "library(TargetDecoy)\n",
    "library(imputeLCMD)\n",
    "\n",
    "\n",
    "#reading in files\n",
    "identifiers_df = data.frame(read_excel(\"Identifiers_030422.xlsx\"))\n",
    "set1_proteome_df = data.frame(read_excel(\"PC927-Rager_LFQProteome_Results_RawValues_R ready.xlsx\", sheet = 1))[,c(1,22:35)]\n",
    "set2_proteome_df = data.frame(read_excel(\"PC927-Rager_LFQProteome_Results_RawValues_R ready.xlsx\", sheet = 2))[,c(1,22:35)]\n",
    "#set1_mzid_file = flatten(mzID(\"20220202_PHCOQEHF_PC927-Rager_Set1.mzid\", verbose = TRUE)) #flatten fx converts the mzid file into a df"
   ]
  },
  {
   "cell_type": "code",
   "execution_count": 3,
   "id": "adopted-cross",
   "metadata": {},
   "outputs": [
    {
     "data": {
      "text/html": [
       "<table class=\"dataframe\">\n",
       "<caption>A data.frame: 6 × 3</caption>\n",
       "<thead>\n",
       "\t<tr><th></th><th scope=col>IDs_from_Core</th><th scope=col>Our_Analysis_ID</th><th scope=col>Set</th></tr>\n",
       "\t<tr><th></th><th scope=col>&lt;chr&gt;</th><th scope=col>&lt;chr&gt;</th><th scope=col>&lt;chr&gt;</th></tr>\n",
       "</thead>\n",
       "<tbody>\n",
       "\t<tr><th scope=row>1</th><td>Abundance..Pooled.1  </td><td>CoCulture_PooledSample1</td><td>Set1</td></tr>\n",
       "\t<tr><th scope=row>2</th><td>Abundance..Pooled.2  </td><td>CoCulture_PooledSample2</td><td>Set1</td></tr>\n",
       "\t<tr><th scope=row>3</th><td>Abundance..1..Vehicle</td><td>CoCulture_VehicleCT1   </td><td>Set1</td></tr>\n",
       "\t<tr><th scope=row>4</th><td>Abundance..3..Vehicle</td><td>CoCulture_VehicleCT2   </td><td>Set1</td></tr>\n",
       "\t<tr><th scope=row>5</th><td>Abundance..5..Vehicle</td><td>CoCulture_VehicleCT3   </td><td>Set1</td></tr>\n",
       "\t<tr><th scope=row>6</th><td>Abundance..7..Vehicle</td><td>CoCulture_VehicleCT4   </td><td>Set1</td></tr>\n",
       "</tbody>\n",
       "</table>\n"
      ],
      "text/latex": [
       "A data.frame: 6 × 3\n",
       "\\begin{tabular}{r|lll}\n",
       "  & IDs\\_from\\_Core & Our\\_Analysis\\_ID & Set\\\\\n",
       "  & <chr> & <chr> & <chr>\\\\\n",
       "\\hline\n",
       "\t1 & Abundance..Pooled.1   & CoCulture\\_PooledSample1 & Set1\\\\\n",
       "\t2 & Abundance..Pooled.2   & CoCulture\\_PooledSample2 & Set1\\\\\n",
       "\t3 & Abundance..1..Vehicle & CoCulture\\_VehicleCT1    & Set1\\\\\n",
       "\t4 & Abundance..3..Vehicle & CoCulture\\_VehicleCT2    & Set1\\\\\n",
       "\t5 & Abundance..5..Vehicle & CoCulture\\_VehicleCT3    & Set1\\\\\n",
       "\t6 & Abundance..7..Vehicle & CoCulture\\_VehicleCT4    & Set1\\\\\n",
       "\\end{tabular}\n"
      ],
      "text/markdown": [
       "\n",
       "A data.frame: 6 × 3\n",
       "\n",
       "| <!--/--> | IDs_from_Core &lt;chr&gt; | Our_Analysis_ID &lt;chr&gt; | Set &lt;chr&gt; |\n",
       "|---|---|---|---|\n",
       "| 1 | Abundance..Pooled.1   | CoCulture_PooledSample1 | Set1 |\n",
       "| 2 | Abundance..Pooled.2   | CoCulture_PooledSample2 | Set1 |\n",
       "| 3 | Abundance..1..Vehicle | CoCulture_VehicleCT1    | Set1 |\n",
       "| 4 | Abundance..3..Vehicle | CoCulture_VehicleCT2    | Set1 |\n",
       "| 5 | Abundance..5..Vehicle | CoCulture_VehicleCT3    | Set1 |\n",
       "| 6 | Abundance..7..Vehicle | CoCulture_VehicleCT4    | Set1 |\n",
       "\n"
      ],
      "text/plain": [
       "  IDs_from_Core         Our_Analysis_ID         Set \n",
       "1 Abundance..Pooled.1   CoCulture_PooledSample1 Set1\n",
       "2 Abundance..Pooled.2   CoCulture_PooledSample2 Set1\n",
       "3 Abundance..1..Vehicle CoCulture_VehicleCT1    Set1\n",
       "4 Abundance..3..Vehicle CoCulture_VehicleCT2    Set1\n",
       "5 Abundance..5..Vehicle CoCulture_VehicleCT3    Set1\n",
       "6 Abundance..7..Vehicle CoCulture_VehicleCT4    Set1"
      ]
     },
     "metadata": {},
     "output_type": "display_data"
    },
    {
     "data": {
      "text/html": [
       "<table class=\"dataframe\">\n",
       "<caption>A data.frame: 6 × 15</caption>\n",
       "<thead>\n",
       "\t<tr><th></th><th scope=col>Accession</th><th scope=col>Abundance..Pooled.1</th><th scope=col>Abundance..Pooled.2</th><th scope=col>Abundance..1..Vehicle</th><th scope=col>Abundance..3..Vehicle</th><th scope=col>Abundance..5..Vehicle</th><th scope=col>Abundance..7..Vehicle</th><th scope=col>Abundance..9..Vehicle</th><th scope=col>Abundance..11..Vehicle</th><th scope=col>Abundance..2..Wood.Smoke</th><th scope=col>Abundance..4..Wood.Smoke</th><th scope=col>Abundance..6..Wood.Smoke</th><th scope=col>Abundance..8..Wood.Smoke</th><th scope=col>Abundance..10..Wood.Smoke</th><th scope=col>Abundance..12..Wood.Smoke</th></tr>\n",
       "\t<tr><th></th><th scope=col>&lt;chr&gt;</th><th scope=col>&lt;dbl&gt;</th><th scope=col>&lt;dbl&gt;</th><th scope=col>&lt;dbl&gt;</th><th scope=col>&lt;dbl&gt;</th><th scope=col>&lt;dbl&gt;</th><th scope=col>&lt;dbl&gt;</th><th scope=col>&lt;dbl&gt;</th><th scope=col>&lt;dbl&gt;</th><th scope=col>&lt;dbl&gt;</th><th scope=col>&lt;dbl&gt;</th><th scope=col>&lt;dbl&gt;</th><th scope=col>&lt;dbl&gt;</th><th scope=col>&lt;dbl&gt;</th><th scope=col>&lt;dbl&gt;</th></tr>\n",
       "</thead>\n",
       "<tbody>\n",
       "\t<tr><th scope=row>1</th><td>P02769</td><td>4.89e+11</td><td>4.43e+11</td><td>6.26e+11</td><td>4.38e+11</td><td>4.74e+11</td><td>3.40e+11</td><td>4.94e+11</td><td>4.85e+11</td><td>4.54e+11</td><td>6.23e+11</td><td>7.37e+11</td><td>5.13e+11</td><td>3.96e+11</td><td>6.86e+11</td></tr>\n",
       "\t<tr><th scope=row>2</th><td>P02751</td><td>2.73e+11</td><td>2.41e+11</td><td>2.24e+11</td><td>2.43e+11</td><td>3.24e+11</td><td>2.53e+11</td><td>2.45e+11</td><td>1.35e+11</td><td>1.68e+11</td><td>2.37e+11</td><td>2.98e+11</td><td>2.54e+11</td><td>1.97e+11</td><td>2.50e+11</td></tr>\n",
       "\t<tr><th scope=row>3</th><td>P12763</td><td>2.63e+11</td><td>2.29e+11</td><td>3.10e+11</td><td>2.33e+11</td><td>2.70e+11</td><td>2.42e+11</td><td>2.71e+11</td><td>2.50e+11</td><td>2.67e+11</td><td>2.86e+11</td><td>3.27e+11</td><td>2.63e+11</td><td>2.52e+11</td><td>3.03e+11</td></tr>\n",
       "\t<tr><th scope=row>4</th><td>Q2UVX4</td><td>5.65e+10</td><td>5.15e+10</td><td>6.76e+10</td><td>4.31e+10</td><td>4.09e+10</td><td>4.12e+10</td><td>4.92e+10</td><td>3.53e+10</td><td>4.76e+10</td><td>4.01e+10</td><td>3.68e+10</td><td>6.53e+10</td><td>4.45e+10</td><td>4.69e+10</td></tr>\n",
       "\t<tr><th scope=row>5</th><td>P98160</td><td>2.27e+10</td><td>2.04e+10</td><td>3.01e+10</td><td>1.79e+10</td><td>1.40e+10</td><td>2.64e+10</td><td>2.81e+10</td><td>2.85e+10</td><td>1.97e+10</td><td>1.40e+10</td><td>1.30e+10</td><td>2.19e+10</td><td>2.46e+10</td><td>2.27e+10</td></tr>\n",
       "\t<tr><th scope=row>6</th><td>P12111</td><td>2.15e+10</td><td>2.03e+10</td><td>1.55e+10</td><td>2.12e+10</td><td>2.29e+10</td><td>1.99e+10</td><td>2.00e+10</td><td>9.49e+09</td><td>1.67e+10</td><td>2.09e+10</td><td>2.67e+10</td><td>2.63e+10</td><td>2.06e+10</td><td>2.60e+10</td></tr>\n",
       "</tbody>\n",
       "</table>\n"
      ],
      "text/latex": [
       "A data.frame: 6 × 15\n",
       "\\begin{tabular}{r|lllllllllllllll}\n",
       "  & Accession & Abundance..Pooled.1 & Abundance..Pooled.2 & Abundance..1..Vehicle & Abundance..3..Vehicle & Abundance..5..Vehicle & Abundance..7..Vehicle & Abundance..9..Vehicle & Abundance..11..Vehicle & Abundance..2..Wood.Smoke & Abundance..4..Wood.Smoke & Abundance..6..Wood.Smoke & Abundance..8..Wood.Smoke & Abundance..10..Wood.Smoke & Abundance..12..Wood.Smoke\\\\\n",
       "  & <chr> & <dbl> & <dbl> & <dbl> & <dbl> & <dbl> & <dbl> & <dbl> & <dbl> & <dbl> & <dbl> & <dbl> & <dbl> & <dbl> & <dbl>\\\\\n",
       "\\hline\n",
       "\t1 & P02769 & 4.89e+11 & 4.43e+11 & 6.26e+11 & 4.38e+11 & 4.74e+11 & 3.40e+11 & 4.94e+11 & 4.85e+11 & 4.54e+11 & 6.23e+11 & 7.37e+11 & 5.13e+11 & 3.96e+11 & 6.86e+11\\\\\n",
       "\t2 & P02751 & 2.73e+11 & 2.41e+11 & 2.24e+11 & 2.43e+11 & 3.24e+11 & 2.53e+11 & 2.45e+11 & 1.35e+11 & 1.68e+11 & 2.37e+11 & 2.98e+11 & 2.54e+11 & 1.97e+11 & 2.50e+11\\\\\n",
       "\t3 & P12763 & 2.63e+11 & 2.29e+11 & 3.10e+11 & 2.33e+11 & 2.70e+11 & 2.42e+11 & 2.71e+11 & 2.50e+11 & 2.67e+11 & 2.86e+11 & 3.27e+11 & 2.63e+11 & 2.52e+11 & 3.03e+11\\\\\n",
       "\t4 & Q2UVX4 & 5.65e+10 & 5.15e+10 & 6.76e+10 & 4.31e+10 & 4.09e+10 & 4.12e+10 & 4.92e+10 & 3.53e+10 & 4.76e+10 & 4.01e+10 & 3.68e+10 & 6.53e+10 & 4.45e+10 & 4.69e+10\\\\\n",
       "\t5 & P98160 & 2.27e+10 & 2.04e+10 & 3.01e+10 & 1.79e+10 & 1.40e+10 & 2.64e+10 & 2.81e+10 & 2.85e+10 & 1.97e+10 & 1.40e+10 & 1.30e+10 & 2.19e+10 & 2.46e+10 & 2.27e+10\\\\\n",
       "\t6 & P12111 & 2.15e+10 & 2.03e+10 & 1.55e+10 & 2.12e+10 & 2.29e+10 & 1.99e+10 & 2.00e+10 & 9.49e+09 & 1.67e+10 & 2.09e+10 & 2.67e+10 & 2.63e+10 & 2.06e+10 & 2.60e+10\\\\\n",
       "\\end{tabular}\n"
      ],
      "text/markdown": [
       "\n",
       "A data.frame: 6 × 15\n",
       "\n",
       "| <!--/--> | Accession &lt;chr&gt; | Abundance..Pooled.1 &lt;dbl&gt; | Abundance..Pooled.2 &lt;dbl&gt; | Abundance..1..Vehicle &lt;dbl&gt; | Abundance..3..Vehicle &lt;dbl&gt; | Abundance..5..Vehicle &lt;dbl&gt; | Abundance..7..Vehicle &lt;dbl&gt; | Abundance..9..Vehicle &lt;dbl&gt; | Abundance..11..Vehicle &lt;dbl&gt; | Abundance..2..Wood.Smoke &lt;dbl&gt; | Abundance..4..Wood.Smoke &lt;dbl&gt; | Abundance..6..Wood.Smoke &lt;dbl&gt; | Abundance..8..Wood.Smoke &lt;dbl&gt; | Abundance..10..Wood.Smoke &lt;dbl&gt; | Abundance..12..Wood.Smoke &lt;dbl&gt; |\n",
       "|---|---|---|---|---|---|---|---|---|---|---|---|---|---|---|---|\n",
       "| 1 | P02769 | 4.89e+11 | 4.43e+11 | 6.26e+11 | 4.38e+11 | 4.74e+11 | 3.40e+11 | 4.94e+11 | 4.85e+11 | 4.54e+11 | 6.23e+11 | 7.37e+11 | 5.13e+11 | 3.96e+11 | 6.86e+11 |\n",
       "| 2 | P02751 | 2.73e+11 | 2.41e+11 | 2.24e+11 | 2.43e+11 | 3.24e+11 | 2.53e+11 | 2.45e+11 | 1.35e+11 | 1.68e+11 | 2.37e+11 | 2.98e+11 | 2.54e+11 | 1.97e+11 | 2.50e+11 |\n",
       "| 3 | P12763 | 2.63e+11 | 2.29e+11 | 3.10e+11 | 2.33e+11 | 2.70e+11 | 2.42e+11 | 2.71e+11 | 2.50e+11 | 2.67e+11 | 2.86e+11 | 3.27e+11 | 2.63e+11 | 2.52e+11 | 3.03e+11 |\n",
       "| 4 | Q2UVX4 | 5.65e+10 | 5.15e+10 | 6.76e+10 | 4.31e+10 | 4.09e+10 | 4.12e+10 | 4.92e+10 | 3.53e+10 | 4.76e+10 | 4.01e+10 | 3.68e+10 | 6.53e+10 | 4.45e+10 | 4.69e+10 |\n",
       "| 5 | P98160 | 2.27e+10 | 2.04e+10 | 3.01e+10 | 1.79e+10 | 1.40e+10 | 2.64e+10 | 2.81e+10 | 2.85e+10 | 1.97e+10 | 1.40e+10 | 1.30e+10 | 2.19e+10 | 2.46e+10 | 2.27e+10 |\n",
       "| 6 | P12111 | 2.15e+10 | 2.03e+10 | 1.55e+10 | 2.12e+10 | 2.29e+10 | 1.99e+10 | 2.00e+10 | 9.49e+09 | 1.67e+10 | 2.09e+10 | 2.67e+10 | 2.63e+10 | 2.06e+10 | 2.60e+10 |\n",
       "\n"
      ],
      "text/plain": [
       "  Accession Abundance..Pooled.1 Abundance..Pooled.2 Abundance..1..Vehicle\n",
       "1 P02769    4.89e+11            4.43e+11            6.26e+11             \n",
       "2 P02751    2.73e+11            2.41e+11            2.24e+11             \n",
       "3 P12763    2.63e+11            2.29e+11            3.10e+11             \n",
       "4 Q2UVX4    5.65e+10            5.15e+10            6.76e+10             \n",
       "5 P98160    2.27e+10            2.04e+10            3.01e+10             \n",
       "6 P12111    2.15e+10            2.03e+10            1.55e+10             \n",
       "  Abundance..3..Vehicle Abundance..5..Vehicle Abundance..7..Vehicle\n",
       "1 4.38e+11              4.74e+11              3.40e+11             \n",
       "2 2.43e+11              3.24e+11              2.53e+11             \n",
       "3 2.33e+11              2.70e+11              2.42e+11             \n",
       "4 4.31e+10              4.09e+10              4.12e+10             \n",
       "5 1.79e+10              1.40e+10              2.64e+10             \n",
       "6 2.12e+10              2.29e+10              1.99e+10             \n",
       "  Abundance..9..Vehicle Abundance..11..Vehicle Abundance..2..Wood.Smoke\n",
       "1 4.94e+11              4.85e+11               4.54e+11                \n",
       "2 2.45e+11              1.35e+11               1.68e+11                \n",
       "3 2.71e+11              2.50e+11               2.67e+11                \n",
       "4 4.92e+10              3.53e+10               4.76e+10                \n",
       "5 2.81e+10              2.85e+10               1.97e+10                \n",
       "6 2.00e+10              9.49e+09               1.67e+10                \n",
       "  Abundance..4..Wood.Smoke Abundance..6..Wood.Smoke Abundance..8..Wood.Smoke\n",
       "1 6.23e+11                 7.37e+11                 5.13e+11                \n",
       "2 2.37e+11                 2.98e+11                 2.54e+11                \n",
       "3 2.86e+11                 3.27e+11                 2.63e+11                \n",
       "4 4.01e+10                 3.68e+10                 6.53e+10                \n",
       "5 1.40e+10                 1.30e+10                 2.19e+10                \n",
       "6 2.09e+10                 2.67e+10                 2.63e+10                \n",
       "  Abundance..10..Wood.Smoke Abundance..12..Wood.Smoke\n",
       "1 3.96e+11                  6.86e+11                 \n",
       "2 1.97e+11                  2.50e+11                 \n",
       "3 2.52e+11                  3.03e+11                 \n",
       "4 4.45e+10                  4.69e+10                 \n",
       "5 2.46e+10                  2.27e+10                 \n",
       "6 2.06e+10                  2.60e+10                 "
      ]
     },
     "metadata": {},
     "output_type": "display_data"
    },
    {
     "data": {
      "text/html": [
       "<table class=\"dataframe\">\n",
       "<caption>A data.frame: 6 × 15</caption>\n",
       "<thead>\n",
       "\t<tr><th></th><th scope=col>Accession</th><th scope=col>Abundance..Pooled.1</th><th scope=col>Abundance..Pooled.2</th><th scope=col>Abundance..13..Vehicle</th><th scope=col>Abundance..15..Vehicle</th><th scope=col>Abundance..17..Vehicle</th><th scope=col>Abundance..19..Vehicle</th><th scope=col>Abundance..21..Vehicle</th><th scope=col>Abundance..23..Vehicle</th><th scope=col>Abundance..14..Wood.Smoke</th><th scope=col>Abundance..16..Wood.Smoke</th><th scope=col>Abundance..18..Wood.Smoke</th><th scope=col>Abundance..20..Wood.Smoke</th><th scope=col>Abundance..22..Wood.Smoke</th><th scope=col>Abundance..24..Wood.Smoke</th></tr>\n",
       "\t<tr><th></th><th scope=col>&lt;chr&gt;</th><th scope=col>&lt;dbl&gt;</th><th scope=col>&lt;dbl&gt;</th><th scope=col>&lt;dbl&gt;</th><th scope=col>&lt;dbl&gt;</th><th scope=col>&lt;dbl&gt;</th><th scope=col>&lt;dbl&gt;</th><th scope=col>&lt;dbl&gt;</th><th scope=col>&lt;dbl&gt;</th><th scope=col>&lt;dbl&gt;</th><th scope=col>&lt;dbl&gt;</th><th scope=col>&lt;dbl&gt;</th><th scope=col>&lt;dbl&gt;</th><th scope=col>&lt;dbl&gt;</th><th scope=col>&lt;dbl&gt;</th></tr>\n",
       "</thead>\n",
       "<tbody>\n",
       "\t<tr><th scope=row>1</th><td>P02751</td><td>197908273327</td><td>215449909749</td><td>290377149672</td><td>237808533258</td><td>300713328573</td><td>246820946145</td><td>304313034954</td><td>264966884310</td><td>243333335207</td><td>199860505414</td><td>279706283336</td><td>225170612912</td><td>229939459846</td><td>154501914723</td></tr>\n",
       "\t<tr><th scope=row>2</th><td>P02769</td><td>342657042076</td><td>370488835120</td><td>308967859550</td><td>242917660277</td><td>278096520636</td><td>259674859546</td><td>291397652436</td><td>563821412595</td><td>281882492897</td><td>732144132018</td><td>248045691869</td><td>233383724786</td><td>349312465553</td><td>251094645011</td></tr>\n",
       "\t<tr><th scope=row>3</th><td>P07996</td><td> 64580519826</td><td> 73778236233</td><td>181775619913</td><td>129485605438</td><td>169377550217</td><td>134685992120</td><td>114143664541</td><td>249366551496</td><td>132714564698</td><td>128084639698</td><td>112262919453</td><td>111419806864</td><td> 73857936963</td><td>108923410421</td></tr>\n",
       "\t<tr><th scope=row>4</th><td>Q2UVX4</td><td> 41255020284</td><td> 45525199756</td><td> 55681501380</td><td> 35618922477</td><td> 44222632333</td><td> 47245712210</td><td> 44043324866</td><td> 75943777589</td><td> 53160804546</td><td> 68298716794</td><td> 48638631002</td><td> 47654755526</td><td> 35704911241</td><td> 52145684636</td></tr>\n",
       "\t<tr><th scope=row>5</th><td>P98160</td><td> 16164372416</td><td> 18035124503</td><td> 20257643320</td><td> 13577050138</td><td> 17442737821</td><td> 24582420164</td><td> 20491703047</td><td> 36081485773</td><td> 20355674908</td><td> 16277580495</td><td> 15654918570</td><td> 19579785521</td><td> 16823558423</td><td> 20030021253</td></tr>\n",
       "\t<tr><th scope=row>6</th><td>P12763</td><td>180364995691</td><td>186934859645</td><td>159857253388</td><td>143580491033</td><td>158608208515</td><td>140452510019</td><td>145834623969</td><td>220324446614</td><td>137520441019</td><td>237042125375</td><td>156248949606</td><td>124984210103</td><td>171103871588</td><td>143324724008</td></tr>\n",
       "</tbody>\n",
       "</table>\n"
      ],
      "text/latex": [
       "A data.frame: 6 × 15\n",
       "\\begin{tabular}{r|lllllllllllllll}\n",
       "  & Accession & Abundance..Pooled.1 & Abundance..Pooled.2 & Abundance..13..Vehicle & Abundance..15..Vehicle & Abundance..17..Vehicle & Abundance..19..Vehicle & Abundance..21..Vehicle & Abundance..23..Vehicle & Abundance..14..Wood.Smoke & Abundance..16..Wood.Smoke & Abundance..18..Wood.Smoke & Abundance..20..Wood.Smoke & Abundance..22..Wood.Smoke & Abundance..24..Wood.Smoke\\\\\n",
       "  & <chr> & <dbl> & <dbl> & <dbl> & <dbl> & <dbl> & <dbl> & <dbl> & <dbl> & <dbl> & <dbl> & <dbl> & <dbl> & <dbl> & <dbl>\\\\\n",
       "\\hline\n",
       "\t1 & P02751 & 197908273327 & 215449909749 & 290377149672 & 237808533258 & 300713328573 & 246820946145 & 304313034954 & 264966884310 & 243333335207 & 199860505414 & 279706283336 & 225170612912 & 229939459846 & 154501914723\\\\\n",
       "\t2 & P02769 & 342657042076 & 370488835120 & 308967859550 & 242917660277 & 278096520636 & 259674859546 & 291397652436 & 563821412595 & 281882492897 & 732144132018 & 248045691869 & 233383724786 & 349312465553 & 251094645011\\\\\n",
       "\t3 & P07996 &  64580519826 &  73778236233 & 181775619913 & 129485605438 & 169377550217 & 134685992120 & 114143664541 & 249366551496 & 132714564698 & 128084639698 & 112262919453 & 111419806864 &  73857936963 & 108923410421\\\\\n",
       "\t4 & Q2UVX4 &  41255020284 &  45525199756 &  55681501380 &  35618922477 &  44222632333 &  47245712210 &  44043324866 &  75943777589 &  53160804546 &  68298716794 &  48638631002 &  47654755526 &  35704911241 &  52145684636\\\\\n",
       "\t5 & P98160 &  16164372416 &  18035124503 &  20257643320 &  13577050138 &  17442737821 &  24582420164 &  20491703047 &  36081485773 &  20355674908 &  16277580495 &  15654918570 &  19579785521 &  16823558423 &  20030021253\\\\\n",
       "\t6 & P12763 & 180364995691 & 186934859645 & 159857253388 & 143580491033 & 158608208515 & 140452510019 & 145834623969 & 220324446614 & 137520441019 & 237042125375 & 156248949606 & 124984210103 & 171103871588 & 143324724008\\\\\n",
       "\\end{tabular}\n"
      ],
      "text/markdown": [
       "\n",
       "A data.frame: 6 × 15\n",
       "\n",
       "| <!--/--> | Accession &lt;chr&gt; | Abundance..Pooled.1 &lt;dbl&gt; | Abundance..Pooled.2 &lt;dbl&gt; | Abundance..13..Vehicle &lt;dbl&gt; | Abundance..15..Vehicle &lt;dbl&gt; | Abundance..17..Vehicle &lt;dbl&gt; | Abundance..19..Vehicle &lt;dbl&gt; | Abundance..21..Vehicle &lt;dbl&gt; | Abundance..23..Vehicle &lt;dbl&gt; | Abundance..14..Wood.Smoke &lt;dbl&gt; | Abundance..16..Wood.Smoke &lt;dbl&gt; | Abundance..18..Wood.Smoke &lt;dbl&gt; | Abundance..20..Wood.Smoke &lt;dbl&gt; | Abundance..22..Wood.Smoke &lt;dbl&gt; | Abundance..24..Wood.Smoke &lt;dbl&gt; |\n",
       "|---|---|---|---|---|---|---|---|---|---|---|---|---|---|---|---|\n",
       "| 1 | P02751 | 197908273327 | 215449909749 | 290377149672 | 237808533258 | 300713328573 | 246820946145 | 304313034954 | 264966884310 | 243333335207 | 199860505414 | 279706283336 | 225170612912 | 229939459846 | 154501914723 |\n",
       "| 2 | P02769 | 342657042076 | 370488835120 | 308967859550 | 242917660277 | 278096520636 | 259674859546 | 291397652436 | 563821412595 | 281882492897 | 732144132018 | 248045691869 | 233383724786 | 349312465553 | 251094645011 |\n",
       "| 3 | P07996 |  64580519826 |  73778236233 | 181775619913 | 129485605438 | 169377550217 | 134685992120 | 114143664541 | 249366551496 | 132714564698 | 128084639698 | 112262919453 | 111419806864 |  73857936963 | 108923410421 |\n",
       "| 4 | Q2UVX4 |  41255020284 |  45525199756 |  55681501380 |  35618922477 |  44222632333 |  47245712210 |  44043324866 |  75943777589 |  53160804546 |  68298716794 |  48638631002 |  47654755526 |  35704911241 |  52145684636 |\n",
       "| 5 | P98160 |  16164372416 |  18035124503 |  20257643320 |  13577050138 |  17442737821 |  24582420164 |  20491703047 |  36081485773 |  20355674908 |  16277580495 |  15654918570 |  19579785521 |  16823558423 |  20030021253 |\n",
       "| 6 | P12763 | 180364995691 | 186934859645 | 159857253388 | 143580491033 | 158608208515 | 140452510019 | 145834623969 | 220324446614 | 137520441019 | 237042125375 | 156248949606 | 124984210103 | 171103871588 | 143324724008 |\n",
       "\n"
      ],
      "text/plain": [
       "  Accession Abundance..Pooled.1 Abundance..Pooled.2 Abundance..13..Vehicle\n",
       "1 P02751    197908273327        215449909749        290377149672          \n",
       "2 P02769    342657042076        370488835120        308967859550          \n",
       "3 P07996     64580519826         73778236233        181775619913          \n",
       "4 Q2UVX4     41255020284         45525199756         55681501380          \n",
       "5 P98160     16164372416         18035124503         20257643320          \n",
       "6 P12763    180364995691        186934859645        159857253388          \n",
       "  Abundance..15..Vehicle Abundance..17..Vehicle Abundance..19..Vehicle\n",
       "1 237808533258           300713328573           246820946145          \n",
       "2 242917660277           278096520636           259674859546          \n",
       "3 129485605438           169377550217           134685992120          \n",
       "4  35618922477            44222632333            47245712210          \n",
       "5  13577050138            17442737821            24582420164          \n",
       "6 143580491033           158608208515           140452510019          \n",
       "  Abundance..21..Vehicle Abundance..23..Vehicle Abundance..14..Wood.Smoke\n",
       "1 304313034954           264966884310           243333335207             \n",
       "2 291397652436           563821412595           281882492897             \n",
       "3 114143664541           249366551496           132714564698             \n",
       "4  44043324866            75943777589            53160804546             \n",
       "5  20491703047            36081485773            20355674908             \n",
       "6 145834623969           220324446614           137520441019             \n",
       "  Abundance..16..Wood.Smoke Abundance..18..Wood.Smoke Abundance..20..Wood.Smoke\n",
       "1 199860505414              279706283336              225170612912             \n",
       "2 732144132018              248045691869              233383724786             \n",
       "3 128084639698              112262919453              111419806864             \n",
       "4  68298716794               48638631002               47654755526             \n",
       "5  16277580495               15654918570               19579785521             \n",
       "6 237042125375              156248949606              124984210103             \n",
       "  Abundance..22..Wood.Smoke Abundance..24..Wood.Smoke\n",
       "1 229939459846              154501914723             \n",
       "2 349312465553              251094645011             \n",
       "3  73857936963              108923410421             \n",
       "4  35704911241               52145684636             \n",
       "5  16823558423               20030021253             \n",
       "6 171103871588              143324724008             "
      ]
     },
     "metadata": {},
     "output_type": "display_data"
    }
   ],
   "source": [
    "head(identifiers_df)\n",
    "head(set1_proteome_df)\n",
    "head(set2_proteome_df)"
   ]
  },
  {
   "cell_type": "code",
   "execution_count": 19,
   "id": "c084be93",
   "metadata": {},
   "outputs": [
    {
     "data": {
      "text/html": [
       "<table class=\"dataframe\">\n",
       "<caption>A data.frame: 6 × 25</caption>\n",
       "<thead>\n",
       "\t<tr><th></th><th scope=col>spectrumid</th><th scope=col>retention time</th><th scope=col>acquisitionnum</th><th scope=col>passthreshold</th><th scope=col>rank</th><th scope=col>experimentalmasstocharge</th><th scope=col>calculatedmasstocharge</th><th scope=col>chargestate</th><th scope=col>proteomediscoverer:delta score</th><th scope=col>sequest:deltacn</th><th scope=col>⋯</th><th scope=col>accession</th><th scope=col>length</th><th scope=col>description</th><th scope=col>sequence</th><th scope=col>pepseq</th><th scope=col>modified</th><th scope=col>modification</th><th scope=col>idFile</th><th scope=col>spectrumFile</th><th scope=col>databaseFile</th></tr>\n",
       "\t<tr><th></th><th scope=col>&lt;chr&gt;</th><th scope=col>&lt;dbl&gt;</th><th scope=col>&lt;dbl&gt;</th><th scope=col>&lt;lgl&gt;</th><th scope=col>&lt;dbl&gt;</th><th scope=col>&lt;dbl&gt;</th><th scope=col>&lt;dbl&gt;</th><th scope=col>&lt;dbl&gt;</th><th scope=col>&lt;dbl&gt;</th><th scope=col>&lt;dbl&gt;</th><th scope=col>⋯</th><th scope=col>&lt;chr&gt;</th><th scope=col>&lt;dbl&gt;</th><th scope=col>&lt;chr&gt;</th><th scope=col>&lt;chr&gt;</th><th scope=col>&lt;chr&gt;</th><th scope=col>&lt;lgl&gt;</th><th scope=col>&lt;chr&gt;</th><th scope=col>&lt;chr&gt;</th><th scope=col>&lt;chr&gt;</th><th scope=col>&lt;chr&gt;</th></tr>\n",
       "</thead>\n",
       "<tbody>\n",
       "\t<tr><th scope=row>1</th><td>scan=2 </td><td>0.3002158</td><td> 2</td><td>TRUE</td><td>1</td><td>413.2353</td><td>413.2325</td><td>2</td><td>0</td><td>0</td><td>⋯</td><td>P15497</td><td> 265</td><td>SWISS-PROT:P15497 (Bos taurus) Apolipoprotein A-I precursor       </td><td>MKAVVLTLAVLFLTGSQARHFWQQDDPQSSWDRVKDFATVYVEAIKDSGRDYVAQFEASALGKQLNLKLLDNWDTLASTLSKVREQLGPVTQEFWDNLEKETASLRQEMHKDLEEVKQKVQPYLDEFQKKWHEEVEIYRQKVAPLGEEFREGARQKVQELQDKLSPLAQELRDRARAHVETLRQQLAPYSDDLRQRLTARLEALKEGGGSLAEYHAKASEQLKALGEKAKPVLEDLRQGLLPVLESLKVSILAAIDEASKKLNAQ                                                                                                                                                                                                                                                                                                                                                                                                                                                                                                                                                                                                                                                                                                                                                                                                                                                                                                                                                                                                                                                                                                                                                                                                                                                                                                                                                                                                                                                                                                                                                                                                                                                                                                                                                                                                                                                                                                                                                                                                                                                                                                                                                                                                                                                                                                                                                                                                                                                                                                                                                                                                                                                                                                                                                                                                                                                                                                                                                                                                                                                                                                                                                                                            </td><td>AHVETLR    </td><td>FALSE</td><td>NA</td><td>20220202_PHCOQEHF_PC927-Rager_Set1.mzid</td><td>C:\\Users\\Public\\Proteome Discoverer 2.5 Projects\\PC927-Rager_LFQ_DDA_PD2.5\\PC927-Rager_LFQ_Proteome\\20220202_PHCOQEHF_PC927-Rager_Set1.mzML</td><td>C:\\</td></tr>\n",
       "\t<tr><th scope=row>2</th><td>scan=3 </td><td>0.3023574</td><td> 3</td><td>TRUE</td><td>1</td><td>448.9118</td><td>448.9088</td><td>3</td><td>0</td><td>0</td><td>⋯</td><td>P21926</td><td> 228</td><td>CD9 antigen OS=Homo sapiens OX=9606 GN=CD9 PE=1 SV=4              </td><td>MPVKGGTKCIKYLLFGFNFIFWLAGIAVLAIGLWLRFDSQTKSIFEQETNNNNSSFYTGVYILIGAGALMMLVGFLGCCGAVQESQCMLGLFFGFLLVIFAIEIAAAIWGYSHKDEVIKEVQEFYKDTYNKLKTKDEPQRETLKAIHYALNCCGLAGGVEQFISDICPKKDVLETFTVKSCPDAIKEVFDNKFHIIGAVGIGIAVVMIFGMIFSMILCCAIRRNREMV                                                                                                                                                                                                                                                                                                                                                                                                                                                                                                                                                                                                                                                                                                                                                                                                                                                                                                                                                                                                                                                                                                                                                                                                                                                                                                                                                                                                                                                                                                                                                                                                                                                                                                                                                                                                                                                                                                                                                                                                                                                                                                                                                                                                                                                                                                                                                                                                                                                                                                                                                                                                                                                                                                                                                                                                                                                                                                                                                                                                                                                                                                                                                                                                                                 </td><td>TKDEPQRETLK</td><td>FALSE</td><td>NA</td><td>20220202_PHCOQEHF_PC927-Rager_Set1.mzid</td><td>C:\\Users\\Public\\Proteome Discoverer 2.5 Projects\\PC927-Rager_LFQ_DDA_PD2.5\\PC927-Rager_LFQ_Proteome\\20220202_PHCOQEHF_PC927-Rager_Set1.mzML</td><td>C:\\</td></tr>\n",
       "\t<tr><th scope=row>3</th><td>scan=6 </td><td>0.3088032</td><td> 6</td><td>TRUE</td><td>1</td><td>424.5681</td><td>424.5653</td><td>3</td><td>0</td><td>0</td><td>⋯</td><td>Q16787</td><td>3333</td><td>Laminin subunit alpha-3 OS=Homo sapiens OX=9606 GN=LAMA3 PE=1 SV=2</td><td>MAAAARPRGRALGPVLPPTPLLLLVLRVLPACGATARDPGAAAGLSLHPTYFNLAEAARIWATATCGERGPGEGRPQPELYCKLVGGPTAPGSGHTIQGQFCDYCNSEDPRKAHPVTNAIDGSERWWQSPPLSSGTQYNRVNLTLDLGQLFHVAYILIKFANSPRPDLWVLERSVDFGSTYSPWQYFAHSKVDCLKEFGREANMAVTRDDDVLCVTEYSRIVPLENGEVVVSLINGRPGAKNFTFSHTLREFTKATNIRLRFLRTNTLLGHLISKAQRDPTVTRRYYYSIKDISIGGQCVCNGHAEVCNINNPEKLFRCECQHHTCGETCDRCCTGYNQRRWRPAAWEQSHECEACNCHGHASNCYYDPDVERQQASLNTQGIYAGGGVCINCQHNTAGVNCEQCAKGYYRPYGVPVDAPDGCIPCSCDPEHADGCEQGSGRCHCKPNFHGDNCEKCAIGYYNFPFCLRIPIFPVSTPSSEDPVAGDIKGCDCNLEGVLPEICDAHGRCLCRPGVEGPRCDTCRSGFYSFPICQACWCSALGSYQMPCSSVTGQCECRPGVTGQRCDRCLSGAYDFPHCQGSSSACDPAGTINSNLGYCQCKLHVEGPTCSRCKLLYWNLDKENPSGCSECKCHKAGTVSGTGECRQGDGDCHCKSHVGGDSCDTCEDGYFALEKSNYFGCQGCQCDIGGALSSMCSGPSGVCQCREHVVGKVCQRPENNYYFPDLHHMKYEIEDGSTPNGRDLRFGFDPLAFPEFSWRGYAQMTSVQNDVRITLNVGKSSGSLFRVILRYVNPGTEAVSGHITIYPSWGAAQSKEIIFLPSKEPAFVTVPGNGFADPFSITPGIWVACIKAEGVLLDYLVLLPRDYYEASVLQLPVTEPCAYAGPPQENCLLYQHLPVTRFPCTLACEARHFLLDGEPRPVAVRQPTPAHPVMVDLSGREVELHLRLRIPQVGHYVVVVEYSTEAAQLFVVDVNVKSSGSVLAGQVNIYSCNYSVLCRSAVIDHMSRIAMYELLADADIQLKGHMARFLLHQVCIIPIEEFSAEYVRPQVHCIASYGRFVNQSATCVSLAHETPPTALILDVLSGRPFPHLPQQSSPSVDVLPGVTLKAPQNQVTLRGRVPHLGRYVFVIHFYQAAHPTFPAQVSVDGGWPRAGSFHASFCPHVLGCRDQVIAEGQIEFDISEPEVAATVKVPEGKSLVLVRVLVVPAENYDYQILHKKSMDKSLEFITNCGKNSFYLDPQTASRFCKNSARSLVAFYHKGALPCECHPTGATGPHCSPEGGQCPCQPNVIGRQCTRCATGHYGFPRCKPCSCGRRLCEEMTGQCRCPPRTVRPQCEVCETHSFSFHPMAGCEGCNCSRRGTIEAAMPECDRDSGQCRCKPRITGRQCDRCASGFYRFPECVPCNCNRDGTEPGVCDPGTGACLCKENVEGTECNVCREGSFHLDPANLKGCTSCFCFGVNNQCHSSHKRRTKFVDMLGWHLETADRVDIPVSFNPGSNSMVADLQELPATIHSASWVAPTSYLGDKVSSYGGYLTYQAKSFGLPGDMVLLEKKPDVQLTGQHMSIIYEETNTPRPDRLHHGRVHVVEGNFRHASSRAPVSREELMTVLSRLADVRIQGLYFTETQRLTLSEVGLEEASDTGSGRIALAVEICACPPAYAGDSCQGCSPGYYRDHKGLYTGRCVPCNCNGHSNQCQDGSGICVNCQHNTAGEHCERCQEGYYGNAVHGSCRACPCPHTNSFATGCVVNGGDVRCSCKAGYTGTQCERCAPGYFGNPQKFGGSCQPCSCNSNGQLGSCHPLTGDCINQEPKDSSPAEECDDCDSCVMTLLNDLATMGEQLRLVKSQLQGLSASAGLLEQMRHMETQAKDLRNQLLNYRSAISNHGSKIEGLERELTDLNQEFETLQEKAQVNSRKAQTLNNNVNRATQSAKELDVKIKNVIRNVHILLKQISGTDGEGNNVPSGDFSREWAEAQRMMRELRNRNFGKHLREAEADKRESQLLLNRIRTWQKTHQGENNGLANSIRDSLNEYEAKLSDLRARLQEAAAQAKQANGLNQENERALGAIQRQVKEINSLQSDFTKYLTTADSSLLQTNIALQLMEKSQKEYEKLAASLNEARQELSDKVRELSRSAGKTSLVEEAEKHARSLQELAKQLEEIKRNASGDELVRCAVDAATAYENILNAIKAAEDAANRAASASESALQTVIKEDLPRKAKTLSSNSDKLLNEAKMTQKKLKQEVSPALNNLQQTLNIVTVQKEVIDTNLTTLRDGLHGIQRGDIDAMISSAKSMVRKANDITDEVLDGLNPIQTDVERIKDTYGRTQNEDFKKALTDADNSVNKLTNKLPDLWRKIESINQQLLPLGNISDNMDRIRELIQQARDAASKVAVPMRFNGKSGVEVRLPNDLEDLKGYTSLSLFLQRPNSRENGGTENMFVMYLGNKDASRDYIGMAVVDGQLTCVYNLGDREAELQVDQILTKSETKEAVMDRVKFQRIYQFARLNYTKGATSSKPETPGVYDMDGRNSNTLLNLDPENVVFYVGGYPPDFKLPSRLSFPPYKGCIELDDLNENVLSLYNFKKTFNLNTTEVEPCRRRKEESDKNYFEGTGYARVPTQPHAPIPTFGQTIQTTVDRGLLFFAENGDRFISLNIEDGKLMVRYKLNSELPKERGVGDAINNGRDHSIQIKIGKLQKRMWINVDVQNTIIDGEVFDFSTYYLGGIPIAIRERFNISTPAFRGCMKNLKKTSGVVRLNDTVGVTKKCSEDWKLVRSASFSRGGQLSFTDLGLPPTDHLQASFGFQTFQPSGILLDHQTWTRNLQVTLEDGYIELSTSDSGSPIFKSPQTYMDGLLHYVSVISDNSGLRLLIDDQLLRNSKRLKHISSSRQSLRLGGSNFEGCISNVFVQRLSLSPEVLDLTSNSLKRDVSLGGCSLNKPPFLMLLKGSTRFNKTKTFRINQLLQDTPVASPRSVKVWQDACSPLPKTQANHGALQFGDIPTSHLLFKLPQELLKPRSQFAVDMQTTSSRGLVFHTGTKNSFMALYLSKGRLVFALGTDGKKLRIKSKEKCNDGKWHTVVFGHDGEKGRLVVDGLRAREGSLPGNSTISIRAPVYLGSPPSGKPKSLPTNSFVGCLKNFQLDSKPLYTPSSSFGVSSCLGGPLEKGIYFSEEGGHVVLAHSVLLGPEFKLVFSIRPRSLTGILIHIGSQPGKHLCVYLEAGKVTASMDSGAGGTSTSVTPKQSLCDGQWHSVAVTIKQHILHLELDTDSSYTAGQIPFPPASTQEPLHLGGAPANLTTLRIPVWKSFFGCLRNIHVNHIPVPVTEALEVQGPVSLNGCPDQ</td><td>KAQTLNNNVNR</td><td>FALSE</td><td>NA</td><td>20220202_PHCOQEHF_PC927-Rager_Set1.mzid</td><td>C:\\Users\\Public\\Proteome Discoverer 2.5 Projects\\PC927-Rager_LFQ_DDA_PD2.5\\PC927-Rager_LFQ_Proteome\\20220202_PHCOQEHF_PC927-Rager_Set1.mzML</td><td>C:\\</td></tr>\n",
       "\t<tr><th scope=row>4</th><td>scan=7 </td><td>0.3109449</td><td> 7</td><td>TRUE</td><td>1</td><td>430.2198</td><td>430.2170</td><td>2</td><td>0</td><td>0</td><td>⋯</td><td>Q2UVX4</td><td>1662</td><td>SWISS-PROT:Q2UVX4 (Bos taurus) Complement C3 precursor            </td><td>MKPTSGPSLLLLLLASLPMALGNPMYSMITPNILRLESEETVVLEAHGGQGTIQVSVTVHDFPAKKQVLSNENTQLNSNNGYLSTVTIKVPASKELKSDKGHKFVTVVATFGNVQVEKVVLISLQSGYLFIQTDKTIYTPGSTVLYRVFTVDHKLLPVGQTVFITIETPDGIPVKRDSKSSQNQFGILTLSWNIPELVNMGVWKIKAYYEDSPQQVFSAEFEVKEYVLPSFEVQLEPEEKFYYIDDPDGLKVNIIARFLYGEQVDGTAFVIFGVQDGDRRISLTHSLTRVPINDGNGEAILKRQVLLNGVQPSRADALVGKSIYVSATVILQSGSDMVEAERTGIPIVTSPYQIHFTKTPKFFKPAMPFDLMVYVTNPDGSPARHIPVVTQGSNVQSLTQDDGVAKLSINTQNKRDPLTITVRTKKDNIPEGRQATRTMQALPYNTQGNSNNYLHLSVPRVELKPGETLNVNFHLRTDPGEQAKIRYYTYMIMNKGKLLKVGRQYREPGQDLVVLPLTITSDFIPSFRLVAYYTLINAKGQREVVADSVWVDVKDSCMGTLVVKNGGKEEKHHRPGQQITLKIEADQGARVGLVAVDKGVFVLNKKNKLTQRKIWDVVEKADIGCTPGSGRNYAGVFTDAGLTLKTSQGLETQQRADPQCPQPATRRRRSVQLMEKRMDKAGQYSSDLRKCCEDGMRDNPMKFPCQRRAQFILQGDACVKAFLDCCEYITQLRQQHSRDGALELARSDLDDDIIPEEDIISRSQFPESWLWTVIEDLKQADKNGISTKLMNVFLKDSITTWEILAVSLSDKKGICVADPYEVTVMQDFFIDLRLPYSVVRNEQVEIRAILYNYREAENLKVRVELLYNPAFCSLATAKKRHQQTITIPARSSVAVPYVIVPLKIGLHEVEVKAAVYNHFISDGVKKTLKVVPEGVRVNKTVAVRTLNPEHLGQGGVQREEVPAADLSDQVPDTESETKILLQGTPVAQMTEDAIDGERLKHLIQTPSGCGEQNMIGMTPTVIAVHYLDSTDQWEKFGLEKRQESLELIRKGYTQQLAFRQKSSAYAAFQYRPPSTWLTAYVVKVFALAANLIAIDSKDLCETVKWLILEKQKPDGIFQEDGPVIHQEMIGGFRDTREKDVSLTAFVLIALHEAKDICEAQVNSLGRSIAKAGDFLENHYRELRRPYTVAIAAYALALLGKLEGDRLTKFLNTAKEKNRWEEPNQKLYNVEATSYALLALLARKDYDTTPPVVRWLNEQRYYGGGYGSTQQATFMVFQALAQYQKDVPDHKELNLDVSIQLPSRNSAVRHRILWESASLLRSEETKENERFTVKAEGKGQGTLSVVTVYHAKLKGKVSCKKFDLRVSIRPAPETVKKPQDAKGSMILDICTKYLGDQDATMSILDISMMTGFSPDVEDLKTLSTGVDRYISKYEMNRDSNKNTLIIYLDKVSHTVEDCLSFKVHQYFNVGLIQPGAVKVYSYYNLDETCIRFYHPDKEDGMLSKLCHKDTCRCAEENCFMHHTEKEVTLEDRLDKACEPGVDYVYKTRLIQKKLEDDFDEYIMVIENIIKSGSDEVQVKQERKFISHIKCREALKLKEGAHYLVWGVSSDLWGEKPKISYIIGKDTWVELWPEAEECQDEENQKQCEDLANFTENMVVFGCPN                                                                                                                                                                                                                                                                                                                                                                                                                                                                                                                                                                                                                                                                                                                                                                                                                                                                                                                                                                                                                                                                                                                                                                                                                                                                                                                                                                                                                                                                                                                                                                                                                                                                                                                                       </td><td>IEADQGAR   </td><td>FALSE</td><td>NA</td><td>20220202_PHCOQEHF_PC927-Rager_Set1.mzid</td><td>C:\\Users\\Public\\Proteome Discoverer 2.5 Projects\\PC927-Rager_LFQ_DDA_PD2.5\\PC927-Rager_LFQ_Proteome\\20220202_PHCOQEHF_PC927-Rager_Set1.mzML</td><td>C:\\</td></tr>\n",
       "\t<tr><th scope=row>5</th><td>scan=9 </td><td>0.3166323</td><td> 9</td><td>TRUE</td><td>1</td><td>442.5572</td><td>442.5567</td><td>3</td><td>0</td><td>0</td><td>⋯</td><td>P12814</td><td> 892</td><td>Alpha-actinin-1 OS=Homo sapiens OX=9606 GN=ACTN1 PE=1 SV=2        </td><td>MDHYDSQQTNDYMQPEEDWDRDLLLDPAWEKQQRKTFTAWCNSHLRKAGTQIENIEEDFRDGLKLMLLLEVISGERLAKPERGKMRVHKISNVNKALDFIASKGVKLVSIGAEEIVDGNVKMTLGMIWTIILRFAIQDISVEETSAKEGLLLWCQRKTAPYKNVNIQNFHISWKDGLGFCALIHRHRPELIDYGKLRKDDPLTNLNTAFDVAEKYLDIPKMLDAEDIVGTARPDEKAIMTYVSSFYHAFSGAQKAETAANRICKVLAVNQENEQLMEDYEKLASDLLEWIRRTIPWLENRVPENTMHAMQQKLEDFRDYRRLHKPPKVQEKCQLEINFNTLQTKLRLSNRPAFMPSEGRMVSDINNAWGCLEQVEKGYEEWLLNEIRRLERLDHLAEKFRQKASIHEAWTDGKEAMLRQKDYETATLSEIKALLKKHEAFESDLAAHQDRVEQIAAIAQELNELDYYDSPSVNARCQKICDQWDNLGALTQKRREALERTEKLLETIDQLYLEYAKRAAPFNNWMEGAMEDLQDTFIVHTIEEIQGLTTAHEQFKATLPDADKERLAILGIHNEVSKIVQTYHVNMAGTNPYTTITPQEINGKWDHVRQLVPRRDQALTEEHARQQHNERLRKQFGAQANVIGPWIQTKMEEIGRISIEMHGTLEDQLSHLRQYEKSIVNYKPKIDQLEGDHQLIQEALIFDNKHTNYTMEHIRVGWEQLLTTIARTINEVENQILTRDAKGISQEQMNEFRASFNHFDRDHSGTLGPEEFKACLISLGYDIGNDPQGEAEFARIMSIVDPNRLGVVTFQAFIDFMSRETADTDTADQVMASFKILAGDKNYITMDELRRELPPDQAEYCIARMAPYTGPDSVPGALDYMSFSTALYGESDL                                                                                                                                                                                                                                                                                                                                                                                                                                                                                                                                                                                                                                                                                                                                                                                                                                                                                                                                                                                                                                                                                                                                                                                                                                                                                                                                                                                                                                                                                                                                                                                                                                                                                                                                                                                                                                                                                                                                                                                                                                                                                                                                                                                                                                                                                                                                                                                                                                                                                                                                         </td><td>RDQALTEEHAR</td><td>FALSE</td><td>NA</td><td>20220202_PHCOQEHF_PC927-Rager_Set1.mzid</td><td>C:\\Users\\Public\\Proteome Discoverer 2.5 Projects\\PC927-Rager_LFQ_DDA_PD2.5\\PC927-Rager_LFQ_Proteome\\20220202_PHCOQEHF_PC927-Rager_Set1.mzML</td><td>C:\\</td></tr>\n",
       "\t<tr><th scope=row>6</th><td>scan=16</td><td>0.4248295</td><td>16</td><td>TRUE</td><td>1</td><td>636.3454</td><td>636.3444</td><td>2</td><td>0</td><td>0</td><td>⋯</td><td>Q16787</td><td>3333</td><td>Laminin subunit alpha-3 OS=Homo sapiens OX=9606 GN=LAMA3 PE=1 SV=2</td><td>MAAAARPRGRALGPVLPPTPLLLLVLRVLPACGATARDPGAAAGLSLHPTYFNLAEAARIWATATCGERGPGEGRPQPELYCKLVGGPTAPGSGHTIQGQFCDYCNSEDPRKAHPVTNAIDGSERWWQSPPLSSGTQYNRVNLTLDLGQLFHVAYILIKFANSPRPDLWVLERSVDFGSTYSPWQYFAHSKVDCLKEFGREANMAVTRDDDVLCVTEYSRIVPLENGEVVVSLINGRPGAKNFTFSHTLREFTKATNIRLRFLRTNTLLGHLISKAQRDPTVTRRYYYSIKDISIGGQCVCNGHAEVCNINNPEKLFRCECQHHTCGETCDRCCTGYNQRRWRPAAWEQSHECEACNCHGHASNCYYDPDVERQQASLNTQGIYAGGGVCINCQHNTAGVNCEQCAKGYYRPYGVPVDAPDGCIPCSCDPEHADGCEQGSGRCHCKPNFHGDNCEKCAIGYYNFPFCLRIPIFPVSTPSSEDPVAGDIKGCDCNLEGVLPEICDAHGRCLCRPGVEGPRCDTCRSGFYSFPICQACWCSALGSYQMPCSSVTGQCECRPGVTGQRCDRCLSGAYDFPHCQGSSSACDPAGTINSNLGYCQCKLHVEGPTCSRCKLLYWNLDKENPSGCSECKCHKAGTVSGTGECRQGDGDCHCKSHVGGDSCDTCEDGYFALEKSNYFGCQGCQCDIGGALSSMCSGPSGVCQCREHVVGKVCQRPENNYYFPDLHHMKYEIEDGSTPNGRDLRFGFDPLAFPEFSWRGYAQMTSVQNDVRITLNVGKSSGSLFRVILRYVNPGTEAVSGHITIYPSWGAAQSKEIIFLPSKEPAFVTVPGNGFADPFSITPGIWVACIKAEGVLLDYLVLLPRDYYEASVLQLPVTEPCAYAGPPQENCLLYQHLPVTRFPCTLACEARHFLLDGEPRPVAVRQPTPAHPVMVDLSGREVELHLRLRIPQVGHYVVVVEYSTEAAQLFVVDVNVKSSGSVLAGQVNIYSCNYSVLCRSAVIDHMSRIAMYELLADADIQLKGHMARFLLHQVCIIPIEEFSAEYVRPQVHCIASYGRFVNQSATCVSLAHETPPTALILDVLSGRPFPHLPQQSSPSVDVLPGVTLKAPQNQVTLRGRVPHLGRYVFVIHFYQAAHPTFPAQVSVDGGWPRAGSFHASFCPHVLGCRDQVIAEGQIEFDISEPEVAATVKVPEGKSLVLVRVLVVPAENYDYQILHKKSMDKSLEFITNCGKNSFYLDPQTASRFCKNSARSLVAFYHKGALPCECHPTGATGPHCSPEGGQCPCQPNVIGRQCTRCATGHYGFPRCKPCSCGRRLCEEMTGQCRCPPRTVRPQCEVCETHSFSFHPMAGCEGCNCSRRGTIEAAMPECDRDSGQCRCKPRITGRQCDRCASGFYRFPECVPCNCNRDGTEPGVCDPGTGACLCKENVEGTECNVCREGSFHLDPANLKGCTSCFCFGVNNQCHSSHKRRTKFVDMLGWHLETADRVDIPVSFNPGSNSMVADLQELPATIHSASWVAPTSYLGDKVSSYGGYLTYQAKSFGLPGDMVLLEKKPDVQLTGQHMSIIYEETNTPRPDRLHHGRVHVVEGNFRHASSRAPVSREELMTVLSRLADVRIQGLYFTETQRLTLSEVGLEEASDTGSGRIALAVEICACPPAYAGDSCQGCSPGYYRDHKGLYTGRCVPCNCNGHSNQCQDGSGICVNCQHNTAGEHCERCQEGYYGNAVHGSCRACPCPHTNSFATGCVVNGGDVRCSCKAGYTGTQCERCAPGYFGNPQKFGGSCQPCSCNSNGQLGSCHPLTGDCINQEPKDSSPAEECDDCDSCVMTLLNDLATMGEQLRLVKSQLQGLSASAGLLEQMRHMETQAKDLRNQLLNYRSAISNHGSKIEGLERELTDLNQEFETLQEKAQVNSRKAQTLNNNVNRATQSAKELDVKIKNVIRNVHILLKQISGTDGEGNNVPSGDFSREWAEAQRMMRELRNRNFGKHLREAEADKRESQLLLNRIRTWQKTHQGENNGLANSIRDSLNEYEAKLSDLRARLQEAAAQAKQANGLNQENERALGAIQRQVKEINSLQSDFTKYLTTADSSLLQTNIALQLMEKSQKEYEKLAASLNEARQELSDKVRELSRSAGKTSLVEEAEKHARSLQELAKQLEEIKRNASGDELVRCAVDAATAYENILNAIKAAEDAANRAASASESALQTVIKEDLPRKAKTLSSNSDKLLNEAKMTQKKLKQEVSPALNNLQQTLNIVTVQKEVIDTNLTTLRDGLHGIQRGDIDAMISSAKSMVRKANDITDEVLDGLNPIQTDVERIKDTYGRTQNEDFKKALTDADNSVNKLTNKLPDLWRKIESINQQLLPLGNISDNMDRIRELIQQARDAASKVAVPMRFNGKSGVEVRLPNDLEDLKGYTSLSLFLQRPNSRENGGTENMFVMYLGNKDASRDYIGMAVVDGQLTCVYNLGDREAELQVDQILTKSETKEAVMDRVKFQRIYQFARLNYTKGATSSKPETPGVYDMDGRNSNTLLNLDPENVVFYVGGYPPDFKLPSRLSFPPYKGCIELDDLNENVLSLYNFKKTFNLNTTEVEPCRRRKEESDKNYFEGTGYARVPTQPHAPIPTFGQTIQTTVDRGLLFFAENGDRFISLNIEDGKLMVRYKLNSELPKERGVGDAINNGRDHSIQIKIGKLQKRMWINVDVQNTIIDGEVFDFSTYYLGGIPIAIRERFNISTPAFRGCMKNLKKTSGVVRLNDTVGVTKKCSEDWKLVRSASFSRGGQLSFTDLGLPPTDHLQASFGFQTFQPSGILLDHQTWTRNLQVTLEDGYIELSTSDSGSPIFKSPQTYMDGLLHYVSVISDNSGLRLLIDDQLLRNSKRLKHISSSRQSLRLGGSNFEGCISNVFVQRLSLSPEVLDLTSNSLKRDVSLGGCSLNKPPFLMLLKGSTRFNKTKTFRINQLLQDTPVASPRSVKVWQDACSPLPKTQANHGALQFGDIPTSHLLFKLPQELLKPRSQFAVDMQTTSSRGLVFHTGTKNSFMALYLSKGRLVFALGTDGKKLRIKSKEKCNDGKWHTVVFGHDGEKGRLVVDGLRAREGSLPGNSTISIRAPVYLGSPPSGKPKSLPTNSFVGCLKNFQLDSKPLYTPSSSFGVSSCLGGPLEKGIYFSEEGGHVVLAHSVLLGPEFKLVFSIRPRSLTGILIHIGSQPGKHLCVYLEAGKVTASMDSGAGGTSTSVTPKQSLCDGQWHSVAVTIKQHILHLELDTDSSYTAGQIPFPPASTQEPLHLGGAPANLTTLRIPVWKSFFGCLRNIHVNHIPVPVTEALEVQGPVSLNGCPDQ</td><td>KAQTLNNNVNR</td><td>FALSE</td><td>NA</td><td>20220202_PHCOQEHF_PC927-Rager_Set1.mzid</td><td>C:\\Users\\Public\\Proteome Discoverer 2.5 Projects\\PC927-Rager_LFQ_DDA_PD2.5\\PC927-Rager_LFQ_Proteome\\20220202_PHCOQEHF_PC927-Rager_Set1.mzML</td><td>C:\\</td></tr>\n",
       "</tbody>\n",
       "</table>\n"
      ],
      "text/latex": [
       "A data.frame: 6 × 25\n",
       "\\begin{tabular}{r|lllllllllllllllllllll}\n",
       "  & spectrumid & retention time & acquisitionnum & passthreshold & rank & experimentalmasstocharge & calculatedmasstocharge & chargestate & proteomediscoverer:delta score & sequest:deltacn & ⋯ & accession & length & description & sequence & pepseq & modified & modification & idFile & spectrumFile & databaseFile\\\\\n",
       "  & <chr> & <dbl> & <dbl> & <lgl> & <dbl> & <dbl> & <dbl> & <dbl> & <dbl> & <dbl> & ⋯ & <chr> & <dbl> & <chr> & <chr> & <chr> & <lgl> & <chr> & <chr> & <chr> & <chr>\\\\\n",
       "\\hline\n",
       "\t1 & scan=2  & 0.3002158 &  2 & TRUE & 1 & 413.2353 & 413.2325 & 2 & 0 & 0 & ⋯ & P15497 &  265 & SWISS-PROT:P15497 (Bos taurus) Apolipoprotein A-I precursor        & MKAVVLTLAVLFLTGSQARHFWQQDDPQSSWDRVKDFATVYVEAIKDSGRDYVAQFEASALGKQLNLKLLDNWDTLASTLSKVREQLGPVTQEFWDNLEKETASLRQEMHKDLEEVKQKVQPYLDEFQKKWHEEVEIYRQKVAPLGEEFREGARQKVQELQDKLSPLAQELRDRARAHVETLRQQLAPYSDDLRQRLTARLEALKEGGGSLAEYHAKASEQLKALGEKAKPVLEDLRQGLLPVLESLKVSILAAIDEASKKLNAQ                                                                                                                                                                                                                                                                                                                                                                                                                                                                                                                                                                                                                                                                                                                                                                                                                                                                                                                                                                                                                                                                                                                                                                                                                                                                                                                                                                                                                                                                                                                                                                                                                                                                                                                                                                                                                                                                                                                                                                                                                                                                                                                                                                                                                                                                                                                                                                                                                                                                                                                                                                                                                                                                                                                                                                                                                                                                                                                                                                                                                                                                                                                                                                                             & AHVETLR     & FALSE & NA & 20220202\\_PHCOQEHF\\_PC927-Rager\\_Set1.mzid & C:\\textbackslash{}Users\\textbackslash{}Public\\textbackslash{}Proteome Discoverer 2.5 Projects\\textbackslash{}PC927-Rager\\_LFQ\\_DDA\\_PD2.5\\textbackslash{}PC927-Rager\\_LFQ\\_Proteome\\textbackslash{}20220202\\_PHCOQEHF\\_PC927-Rager\\_Set1.mzML & C:\\textbackslash{}\\\\\n",
       "\t2 & scan=3  & 0.3023574 &  3 & TRUE & 1 & 448.9118 & 448.9088 & 3 & 0 & 0 & ⋯ & P21926 &  228 & CD9 antigen OS=Homo sapiens OX=9606 GN=CD9 PE=1 SV=4               & MPVKGGTKCIKYLLFGFNFIFWLAGIAVLAIGLWLRFDSQTKSIFEQETNNNNSSFYTGVYILIGAGALMMLVGFLGCCGAVQESQCMLGLFFGFLLVIFAIEIAAAIWGYSHKDEVIKEVQEFYKDTYNKLKTKDEPQRETLKAIHYALNCCGLAGGVEQFISDICPKKDVLETFTVKSCPDAIKEVFDNKFHIIGAVGIGIAVVMIFGMIFSMILCCAIRRNREMV                                                                                                                                                                                                                                                                                                                                                                                                                                                                                                                                                                                                                                                                                                                                                                                                                                                                                                                                                                                                                                                                                                                                                                                                                                                                                                                                                                                                                                                                                                                                                                                                                                                                                                                                                                                                                                                                                                                                                                                                                                                                                                                                                                                                                                                                                                                                                                                                                                                                                                                                                                                                                                                                                                                                                                                                                                                                                                                                                                                                                                                                                                                                                                                                                                  & TKDEPQRETLK & FALSE & NA & 20220202\\_PHCOQEHF\\_PC927-Rager\\_Set1.mzid & C:\\textbackslash{}Users\\textbackslash{}Public\\textbackslash{}Proteome Discoverer 2.5 Projects\\textbackslash{}PC927-Rager\\_LFQ\\_DDA\\_PD2.5\\textbackslash{}PC927-Rager\\_LFQ\\_Proteome\\textbackslash{}20220202\\_PHCOQEHF\\_PC927-Rager\\_Set1.mzML & C:\\textbackslash{}\\\\\n",
       "\t3 & scan=6  & 0.3088032 &  6 & TRUE & 1 & 424.5681 & 424.5653 & 3 & 0 & 0 & ⋯ & Q16787 & 3333 & Laminin subunit alpha-3 OS=Homo sapiens OX=9606 GN=LAMA3 PE=1 SV=2 & MAAAARPRGRALGPVLPPTPLLLLVLRVLPACGATARDPGAAAGLSLHPTYFNLAEAARIWATATCGERGPGEGRPQPELYCKLVGGPTAPGSGHTIQGQFCDYCNSEDPRKAHPVTNAIDGSERWWQSPPLSSGTQYNRVNLTLDLGQLFHVAYILIKFANSPRPDLWVLERSVDFGSTYSPWQYFAHSKVDCLKEFGREANMAVTRDDDVLCVTEYSRIVPLENGEVVVSLINGRPGAKNFTFSHTLREFTKATNIRLRFLRTNTLLGHLISKAQRDPTVTRRYYYSIKDISIGGQCVCNGHAEVCNINNPEKLFRCECQHHTCGETCDRCCTGYNQRRWRPAAWEQSHECEACNCHGHASNCYYDPDVERQQASLNTQGIYAGGGVCINCQHNTAGVNCEQCAKGYYRPYGVPVDAPDGCIPCSCDPEHADGCEQGSGRCHCKPNFHGDNCEKCAIGYYNFPFCLRIPIFPVSTPSSEDPVAGDIKGCDCNLEGVLPEICDAHGRCLCRPGVEGPRCDTCRSGFYSFPICQACWCSALGSYQMPCSSVTGQCECRPGVTGQRCDRCLSGAYDFPHCQGSSSACDPAGTINSNLGYCQCKLHVEGPTCSRCKLLYWNLDKENPSGCSECKCHKAGTVSGTGECRQGDGDCHCKSHVGGDSCDTCEDGYFALEKSNYFGCQGCQCDIGGALSSMCSGPSGVCQCREHVVGKVCQRPENNYYFPDLHHMKYEIEDGSTPNGRDLRFGFDPLAFPEFSWRGYAQMTSVQNDVRITLNVGKSSGSLFRVILRYVNPGTEAVSGHITIYPSWGAAQSKEIIFLPSKEPAFVTVPGNGFADPFSITPGIWVACIKAEGVLLDYLVLLPRDYYEASVLQLPVTEPCAYAGPPQENCLLYQHLPVTRFPCTLACEARHFLLDGEPRPVAVRQPTPAHPVMVDLSGREVELHLRLRIPQVGHYVVVVEYSTEAAQLFVVDVNVKSSGSVLAGQVNIYSCNYSVLCRSAVIDHMSRIAMYELLADADIQLKGHMARFLLHQVCIIPIEEFSAEYVRPQVHCIASYGRFVNQSATCVSLAHETPPTALILDVLSGRPFPHLPQQSSPSVDVLPGVTLKAPQNQVTLRGRVPHLGRYVFVIHFYQAAHPTFPAQVSVDGGWPRAGSFHASFCPHVLGCRDQVIAEGQIEFDISEPEVAATVKVPEGKSLVLVRVLVVPAENYDYQILHKKSMDKSLEFITNCGKNSFYLDPQTASRFCKNSARSLVAFYHKGALPCECHPTGATGPHCSPEGGQCPCQPNVIGRQCTRCATGHYGFPRCKPCSCGRRLCEEMTGQCRCPPRTVRPQCEVCETHSFSFHPMAGCEGCNCSRRGTIEAAMPECDRDSGQCRCKPRITGRQCDRCASGFYRFPECVPCNCNRDGTEPGVCDPGTGACLCKENVEGTECNVCREGSFHLDPANLKGCTSCFCFGVNNQCHSSHKRRTKFVDMLGWHLETADRVDIPVSFNPGSNSMVADLQELPATIHSASWVAPTSYLGDKVSSYGGYLTYQAKSFGLPGDMVLLEKKPDVQLTGQHMSIIYEETNTPRPDRLHHGRVHVVEGNFRHASSRAPVSREELMTVLSRLADVRIQGLYFTETQRLTLSEVGLEEASDTGSGRIALAVEICACPPAYAGDSCQGCSPGYYRDHKGLYTGRCVPCNCNGHSNQCQDGSGICVNCQHNTAGEHCERCQEGYYGNAVHGSCRACPCPHTNSFATGCVVNGGDVRCSCKAGYTGTQCERCAPGYFGNPQKFGGSCQPCSCNSNGQLGSCHPLTGDCINQEPKDSSPAEECDDCDSCVMTLLNDLATMGEQLRLVKSQLQGLSASAGLLEQMRHMETQAKDLRNQLLNYRSAISNHGSKIEGLERELTDLNQEFETLQEKAQVNSRKAQTLNNNVNRATQSAKELDVKIKNVIRNVHILLKQISGTDGEGNNVPSGDFSREWAEAQRMMRELRNRNFGKHLREAEADKRESQLLLNRIRTWQKTHQGENNGLANSIRDSLNEYEAKLSDLRARLQEAAAQAKQANGLNQENERALGAIQRQVKEINSLQSDFTKYLTTADSSLLQTNIALQLMEKSQKEYEKLAASLNEARQELSDKVRELSRSAGKTSLVEEAEKHARSLQELAKQLEEIKRNASGDELVRCAVDAATAYENILNAIKAAEDAANRAASASESALQTVIKEDLPRKAKTLSSNSDKLLNEAKMTQKKLKQEVSPALNNLQQTLNIVTVQKEVIDTNLTTLRDGLHGIQRGDIDAMISSAKSMVRKANDITDEVLDGLNPIQTDVERIKDTYGRTQNEDFKKALTDADNSVNKLTNKLPDLWRKIESINQQLLPLGNISDNMDRIRELIQQARDAASKVAVPMRFNGKSGVEVRLPNDLEDLKGYTSLSLFLQRPNSRENGGTENMFVMYLGNKDASRDYIGMAVVDGQLTCVYNLGDREAELQVDQILTKSETKEAVMDRVKFQRIYQFARLNYTKGATSSKPETPGVYDMDGRNSNTLLNLDPENVVFYVGGYPPDFKLPSRLSFPPYKGCIELDDLNENVLSLYNFKKTFNLNTTEVEPCRRRKEESDKNYFEGTGYARVPTQPHAPIPTFGQTIQTTVDRGLLFFAENGDRFISLNIEDGKLMVRYKLNSELPKERGVGDAINNGRDHSIQIKIGKLQKRMWINVDVQNTIIDGEVFDFSTYYLGGIPIAIRERFNISTPAFRGCMKNLKKTSGVVRLNDTVGVTKKCSEDWKLVRSASFSRGGQLSFTDLGLPPTDHLQASFGFQTFQPSGILLDHQTWTRNLQVTLEDGYIELSTSDSGSPIFKSPQTYMDGLLHYVSVISDNSGLRLLIDDQLLRNSKRLKHISSSRQSLRLGGSNFEGCISNVFVQRLSLSPEVLDLTSNSLKRDVSLGGCSLNKPPFLMLLKGSTRFNKTKTFRINQLLQDTPVASPRSVKVWQDACSPLPKTQANHGALQFGDIPTSHLLFKLPQELLKPRSQFAVDMQTTSSRGLVFHTGTKNSFMALYLSKGRLVFALGTDGKKLRIKSKEKCNDGKWHTVVFGHDGEKGRLVVDGLRAREGSLPGNSTISIRAPVYLGSPPSGKPKSLPTNSFVGCLKNFQLDSKPLYTPSSSFGVSSCLGGPLEKGIYFSEEGGHVVLAHSVLLGPEFKLVFSIRPRSLTGILIHIGSQPGKHLCVYLEAGKVTASMDSGAGGTSTSVTPKQSLCDGQWHSVAVTIKQHILHLELDTDSSYTAGQIPFPPASTQEPLHLGGAPANLTTLRIPVWKSFFGCLRNIHVNHIPVPVTEALEVQGPVSLNGCPDQ & KAQTLNNNVNR & FALSE & NA & 20220202\\_PHCOQEHF\\_PC927-Rager\\_Set1.mzid & C:\\textbackslash{}Users\\textbackslash{}Public\\textbackslash{}Proteome Discoverer 2.5 Projects\\textbackslash{}PC927-Rager\\_LFQ\\_DDA\\_PD2.5\\textbackslash{}PC927-Rager\\_LFQ\\_Proteome\\textbackslash{}20220202\\_PHCOQEHF\\_PC927-Rager\\_Set1.mzML & C:\\textbackslash{}\\\\\n",
       "\t4 & scan=7  & 0.3109449 &  7 & TRUE & 1 & 430.2198 & 430.2170 & 2 & 0 & 0 & ⋯ & Q2UVX4 & 1662 & SWISS-PROT:Q2UVX4 (Bos taurus) Complement C3 precursor             & MKPTSGPSLLLLLLASLPMALGNPMYSMITPNILRLESEETVVLEAHGGQGTIQVSVTVHDFPAKKQVLSNENTQLNSNNGYLSTVTIKVPASKELKSDKGHKFVTVVATFGNVQVEKVVLISLQSGYLFIQTDKTIYTPGSTVLYRVFTVDHKLLPVGQTVFITIETPDGIPVKRDSKSSQNQFGILTLSWNIPELVNMGVWKIKAYYEDSPQQVFSAEFEVKEYVLPSFEVQLEPEEKFYYIDDPDGLKVNIIARFLYGEQVDGTAFVIFGVQDGDRRISLTHSLTRVPINDGNGEAILKRQVLLNGVQPSRADALVGKSIYVSATVILQSGSDMVEAERTGIPIVTSPYQIHFTKTPKFFKPAMPFDLMVYVTNPDGSPARHIPVVTQGSNVQSLTQDDGVAKLSINTQNKRDPLTITVRTKKDNIPEGRQATRTMQALPYNTQGNSNNYLHLSVPRVELKPGETLNVNFHLRTDPGEQAKIRYYTYMIMNKGKLLKVGRQYREPGQDLVVLPLTITSDFIPSFRLVAYYTLINAKGQREVVADSVWVDVKDSCMGTLVVKNGGKEEKHHRPGQQITLKIEADQGARVGLVAVDKGVFVLNKKNKLTQRKIWDVVEKADIGCTPGSGRNYAGVFTDAGLTLKTSQGLETQQRADPQCPQPATRRRRSVQLMEKRMDKAGQYSSDLRKCCEDGMRDNPMKFPCQRRAQFILQGDACVKAFLDCCEYITQLRQQHSRDGALELARSDLDDDIIPEEDIISRSQFPESWLWTVIEDLKQADKNGISTKLMNVFLKDSITTWEILAVSLSDKKGICVADPYEVTVMQDFFIDLRLPYSVVRNEQVEIRAILYNYREAENLKVRVELLYNPAFCSLATAKKRHQQTITIPARSSVAVPYVIVPLKIGLHEVEVKAAVYNHFISDGVKKTLKVVPEGVRVNKTVAVRTLNPEHLGQGGVQREEVPAADLSDQVPDTESETKILLQGTPVAQMTEDAIDGERLKHLIQTPSGCGEQNMIGMTPTVIAVHYLDSTDQWEKFGLEKRQESLELIRKGYTQQLAFRQKSSAYAAFQYRPPSTWLTAYVVKVFALAANLIAIDSKDLCETVKWLILEKQKPDGIFQEDGPVIHQEMIGGFRDTREKDVSLTAFVLIALHEAKDICEAQVNSLGRSIAKAGDFLENHYRELRRPYTVAIAAYALALLGKLEGDRLTKFLNTAKEKNRWEEPNQKLYNVEATSYALLALLARKDYDTTPPVVRWLNEQRYYGGGYGSTQQATFMVFQALAQYQKDVPDHKELNLDVSIQLPSRNSAVRHRILWESASLLRSEETKENERFTVKAEGKGQGTLSVVTVYHAKLKGKVSCKKFDLRVSIRPAPETVKKPQDAKGSMILDICTKYLGDQDATMSILDISMMTGFSPDVEDLKTLSTGVDRYISKYEMNRDSNKNTLIIYLDKVSHTVEDCLSFKVHQYFNVGLIQPGAVKVYSYYNLDETCIRFYHPDKEDGMLSKLCHKDTCRCAEENCFMHHTEKEVTLEDRLDKACEPGVDYVYKTRLIQKKLEDDFDEYIMVIENIIKSGSDEVQVKQERKFISHIKCREALKLKEGAHYLVWGVSSDLWGEKPKISYIIGKDTWVELWPEAEECQDEENQKQCEDLANFTENMVVFGCPN                                                                                                                                                                                                                                                                                                                                                                                                                                                                                                                                                                                                                                                                                                                                                                                                                                                                                                                                                                                                                                                                                                                                                                                                                                                                                                                                                                                                                                                                                                                                                                                                                                                                                                                                        & IEADQGAR    & FALSE & NA & 20220202\\_PHCOQEHF\\_PC927-Rager\\_Set1.mzid & C:\\textbackslash{}Users\\textbackslash{}Public\\textbackslash{}Proteome Discoverer 2.5 Projects\\textbackslash{}PC927-Rager\\_LFQ\\_DDA\\_PD2.5\\textbackslash{}PC927-Rager\\_LFQ\\_Proteome\\textbackslash{}20220202\\_PHCOQEHF\\_PC927-Rager\\_Set1.mzML & C:\\textbackslash{}\\\\\n",
       "\t5 & scan=9  & 0.3166323 &  9 & TRUE & 1 & 442.5572 & 442.5567 & 3 & 0 & 0 & ⋯ & P12814 &  892 & Alpha-actinin-1 OS=Homo sapiens OX=9606 GN=ACTN1 PE=1 SV=2         & MDHYDSQQTNDYMQPEEDWDRDLLLDPAWEKQQRKTFTAWCNSHLRKAGTQIENIEEDFRDGLKLMLLLEVISGERLAKPERGKMRVHKISNVNKALDFIASKGVKLVSIGAEEIVDGNVKMTLGMIWTIILRFAIQDISVEETSAKEGLLLWCQRKTAPYKNVNIQNFHISWKDGLGFCALIHRHRPELIDYGKLRKDDPLTNLNTAFDVAEKYLDIPKMLDAEDIVGTARPDEKAIMTYVSSFYHAFSGAQKAETAANRICKVLAVNQENEQLMEDYEKLASDLLEWIRRTIPWLENRVPENTMHAMQQKLEDFRDYRRLHKPPKVQEKCQLEINFNTLQTKLRLSNRPAFMPSEGRMVSDINNAWGCLEQVEKGYEEWLLNEIRRLERLDHLAEKFRQKASIHEAWTDGKEAMLRQKDYETATLSEIKALLKKHEAFESDLAAHQDRVEQIAAIAQELNELDYYDSPSVNARCQKICDQWDNLGALTQKRREALERTEKLLETIDQLYLEYAKRAAPFNNWMEGAMEDLQDTFIVHTIEEIQGLTTAHEQFKATLPDADKERLAILGIHNEVSKIVQTYHVNMAGTNPYTTITPQEINGKWDHVRQLVPRRDQALTEEHARQQHNERLRKQFGAQANVIGPWIQTKMEEIGRISIEMHGTLEDQLSHLRQYEKSIVNYKPKIDQLEGDHQLIQEALIFDNKHTNYTMEHIRVGWEQLLTTIARTINEVENQILTRDAKGISQEQMNEFRASFNHFDRDHSGTLGPEEFKACLISLGYDIGNDPQGEAEFARIMSIVDPNRLGVVTFQAFIDFMSRETADTDTADQVMASFKILAGDKNYITMDELRRELPPDQAEYCIARMAPYTGPDSVPGALDYMSFSTALYGESDL                                                                                                                                                                                                                                                                                                                                                                                                                                                                                                                                                                                                                                                                                                                                                                                                                                                                                                                                                                                                                                                                                                                                                                                                                                                                                                                                                                                                                                                                                                                                                                                                                                                                                                                                                                                                                                                                                                                                                                                                                                                                                                                                                                                                                                                                                                                                                                                                                                                                                                                                          & RDQALTEEHAR & FALSE & NA & 20220202\\_PHCOQEHF\\_PC927-Rager\\_Set1.mzid & C:\\textbackslash{}Users\\textbackslash{}Public\\textbackslash{}Proteome Discoverer 2.5 Projects\\textbackslash{}PC927-Rager\\_LFQ\\_DDA\\_PD2.5\\textbackslash{}PC927-Rager\\_LFQ\\_Proteome\\textbackslash{}20220202\\_PHCOQEHF\\_PC927-Rager\\_Set1.mzML & C:\\textbackslash{}\\\\\n",
       "\t6 & scan=16 & 0.4248295 & 16 & TRUE & 1 & 636.3454 & 636.3444 & 2 & 0 & 0 & ⋯ & Q16787 & 3333 & Laminin subunit alpha-3 OS=Homo sapiens OX=9606 GN=LAMA3 PE=1 SV=2 & MAAAARPRGRALGPVLPPTPLLLLVLRVLPACGATARDPGAAAGLSLHPTYFNLAEAARIWATATCGERGPGEGRPQPELYCKLVGGPTAPGSGHTIQGQFCDYCNSEDPRKAHPVTNAIDGSERWWQSPPLSSGTQYNRVNLTLDLGQLFHVAYILIKFANSPRPDLWVLERSVDFGSTYSPWQYFAHSKVDCLKEFGREANMAVTRDDDVLCVTEYSRIVPLENGEVVVSLINGRPGAKNFTFSHTLREFTKATNIRLRFLRTNTLLGHLISKAQRDPTVTRRYYYSIKDISIGGQCVCNGHAEVCNINNPEKLFRCECQHHTCGETCDRCCTGYNQRRWRPAAWEQSHECEACNCHGHASNCYYDPDVERQQASLNTQGIYAGGGVCINCQHNTAGVNCEQCAKGYYRPYGVPVDAPDGCIPCSCDPEHADGCEQGSGRCHCKPNFHGDNCEKCAIGYYNFPFCLRIPIFPVSTPSSEDPVAGDIKGCDCNLEGVLPEICDAHGRCLCRPGVEGPRCDTCRSGFYSFPICQACWCSALGSYQMPCSSVTGQCECRPGVTGQRCDRCLSGAYDFPHCQGSSSACDPAGTINSNLGYCQCKLHVEGPTCSRCKLLYWNLDKENPSGCSECKCHKAGTVSGTGECRQGDGDCHCKSHVGGDSCDTCEDGYFALEKSNYFGCQGCQCDIGGALSSMCSGPSGVCQCREHVVGKVCQRPENNYYFPDLHHMKYEIEDGSTPNGRDLRFGFDPLAFPEFSWRGYAQMTSVQNDVRITLNVGKSSGSLFRVILRYVNPGTEAVSGHITIYPSWGAAQSKEIIFLPSKEPAFVTVPGNGFADPFSITPGIWVACIKAEGVLLDYLVLLPRDYYEASVLQLPVTEPCAYAGPPQENCLLYQHLPVTRFPCTLACEARHFLLDGEPRPVAVRQPTPAHPVMVDLSGREVELHLRLRIPQVGHYVVVVEYSTEAAQLFVVDVNVKSSGSVLAGQVNIYSCNYSVLCRSAVIDHMSRIAMYELLADADIQLKGHMARFLLHQVCIIPIEEFSAEYVRPQVHCIASYGRFVNQSATCVSLAHETPPTALILDVLSGRPFPHLPQQSSPSVDVLPGVTLKAPQNQVTLRGRVPHLGRYVFVIHFYQAAHPTFPAQVSVDGGWPRAGSFHASFCPHVLGCRDQVIAEGQIEFDISEPEVAATVKVPEGKSLVLVRVLVVPAENYDYQILHKKSMDKSLEFITNCGKNSFYLDPQTASRFCKNSARSLVAFYHKGALPCECHPTGATGPHCSPEGGQCPCQPNVIGRQCTRCATGHYGFPRCKPCSCGRRLCEEMTGQCRCPPRTVRPQCEVCETHSFSFHPMAGCEGCNCSRRGTIEAAMPECDRDSGQCRCKPRITGRQCDRCASGFYRFPECVPCNCNRDGTEPGVCDPGTGACLCKENVEGTECNVCREGSFHLDPANLKGCTSCFCFGVNNQCHSSHKRRTKFVDMLGWHLETADRVDIPVSFNPGSNSMVADLQELPATIHSASWVAPTSYLGDKVSSYGGYLTYQAKSFGLPGDMVLLEKKPDVQLTGQHMSIIYEETNTPRPDRLHHGRVHVVEGNFRHASSRAPVSREELMTVLSRLADVRIQGLYFTETQRLTLSEVGLEEASDTGSGRIALAVEICACPPAYAGDSCQGCSPGYYRDHKGLYTGRCVPCNCNGHSNQCQDGSGICVNCQHNTAGEHCERCQEGYYGNAVHGSCRACPCPHTNSFATGCVVNGGDVRCSCKAGYTGTQCERCAPGYFGNPQKFGGSCQPCSCNSNGQLGSCHPLTGDCINQEPKDSSPAEECDDCDSCVMTLLNDLATMGEQLRLVKSQLQGLSASAGLLEQMRHMETQAKDLRNQLLNYRSAISNHGSKIEGLERELTDLNQEFETLQEKAQVNSRKAQTLNNNVNRATQSAKELDVKIKNVIRNVHILLKQISGTDGEGNNVPSGDFSREWAEAQRMMRELRNRNFGKHLREAEADKRESQLLLNRIRTWQKTHQGENNGLANSIRDSLNEYEAKLSDLRARLQEAAAQAKQANGLNQENERALGAIQRQVKEINSLQSDFTKYLTTADSSLLQTNIALQLMEKSQKEYEKLAASLNEARQELSDKVRELSRSAGKTSLVEEAEKHARSLQELAKQLEEIKRNASGDELVRCAVDAATAYENILNAIKAAEDAANRAASASESALQTVIKEDLPRKAKTLSSNSDKLLNEAKMTQKKLKQEVSPALNNLQQTLNIVTVQKEVIDTNLTTLRDGLHGIQRGDIDAMISSAKSMVRKANDITDEVLDGLNPIQTDVERIKDTYGRTQNEDFKKALTDADNSVNKLTNKLPDLWRKIESINQQLLPLGNISDNMDRIRELIQQARDAASKVAVPMRFNGKSGVEVRLPNDLEDLKGYTSLSLFLQRPNSRENGGTENMFVMYLGNKDASRDYIGMAVVDGQLTCVYNLGDREAELQVDQILTKSETKEAVMDRVKFQRIYQFARLNYTKGATSSKPETPGVYDMDGRNSNTLLNLDPENVVFYVGGYPPDFKLPSRLSFPPYKGCIELDDLNENVLSLYNFKKTFNLNTTEVEPCRRRKEESDKNYFEGTGYARVPTQPHAPIPTFGQTIQTTVDRGLLFFAENGDRFISLNIEDGKLMVRYKLNSELPKERGVGDAINNGRDHSIQIKIGKLQKRMWINVDVQNTIIDGEVFDFSTYYLGGIPIAIRERFNISTPAFRGCMKNLKKTSGVVRLNDTVGVTKKCSEDWKLVRSASFSRGGQLSFTDLGLPPTDHLQASFGFQTFQPSGILLDHQTWTRNLQVTLEDGYIELSTSDSGSPIFKSPQTYMDGLLHYVSVISDNSGLRLLIDDQLLRNSKRLKHISSSRQSLRLGGSNFEGCISNVFVQRLSLSPEVLDLTSNSLKRDVSLGGCSLNKPPFLMLLKGSTRFNKTKTFRINQLLQDTPVASPRSVKVWQDACSPLPKTQANHGALQFGDIPTSHLLFKLPQELLKPRSQFAVDMQTTSSRGLVFHTGTKNSFMALYLSKGRLVFALGTDGKKLRIKSKEKCNDGKWHTVVFGHDGEKGRLVVDGLRAREGSLPGNSTISIRAPVYLGSPPSGKPKSLPTNSFVGCLKNFQLDSKPLYTPSSSFGVSSCLGGPLEKGIYFSEEGGHVVLAHSVLLGPEFKLVFSIRPRSLTGILIHIGSQPGKHLCVYLEAGKVTASMDSGAGGTSTSVTPKQSLCDGQWHSVAVTIKQHILHLELDTDSSYTAGQIPFPPASTQEPLHLGGAPANLTTLRIPVWKSFFGCLRNIHVNHIPVPVTEALEVQGPVSLNGCPDQ & KAQTLNNNVNR & FALSE & NA & 20220202\\_PHCOQEHF\\_PC927-Rager\\_Set1.mzid & C:\\textbackslash{}Users\\textbackslash{}Public\\textbackslash{}Proteome Discoverer 2.5 Projects\\textbackslash{}PC927-Rager\\_LFQ\\_DDA\\_PD2.5\\textbackslash{}PC927-Rager\\_LFQ\\_Proteome\\textbackslash{}20220202\\_PHCOQEHF\\_PC927-Rager\\_Set1.mzML & C:\\textbackslash{}\\\\\n",
       "\\end{tabular}\n"
      ],
      "text/markdown": [
       "\n",
       "A data.frame: 6 × 25\n",
       "\n",
       "| <!--/--> | spectrumid &lt;chr&gt; | retention time &lt;dbl&gt; | acquisitionnum &lt;dbl&gt; | passthreshold &lt;lgl&gt; | rank &lt;dbl&gt; | experimentalmasstocharge &lt;dbl&gt; | calculatedmasstocharge &lt;dbl&gt; | chargestate &lt;dbl&gt; | proteomediscoverer:delta score &lt;dbl&gt; | sequest:deltacn &lt;dbl&gt; | ⋯ ⋯ | accession &lt;chr&gt; | length &lt;dbl&gt; | description &lt;chr&gt; | sequence &lt;chr&gt; | pepseq &lt;chr&gt; | modified &lt;lgl&gt; | modification &lt;chr&gt; | idFile &lt;chr&gt; | spectrumFile &lt;chr&gt; | databaseFile &lt;chr&gt; |\n",
       "|---|---|---|---|---|---|---|---|---|---|---|---|---|---|---|---|---|---|---|---|---|---|\n",
       "| 1 | scan=2  | 0.3002158 |  2 | TRUE | 1 | 413.2353 | 413.2325 | 2 | 0 | 0 | ⋯ | P15497 |  265 | SWISS-PROT:P15497 (Bos taurus) Apolipoprotein A-I precursor        | MKAVVLTLAVLFLTGSQARHFWQQDDPQSSWDRVKDFATVYVEAIKDSGRDYVAQFEASALGKQLNLKLLDNWDTLASTLSKVREQLGPVTQEFWDNLEKETASLRQEMHKDLEEVKQKVQPYLDEFQKKWHEEVEIYRQKVAPLGEEFREGARQKVQELQDKLSPLAQELRDRARAHVETLRQQLAPYSDDLRQRLTARLEALKEGGGSLAEYHAKASEQLKALGEKAKPVLEDLRQGLLPVLESLKVSILAAIDEASKKLNAQ                                                                                                                                                                                                                                                                                                                                                                                                                                                                                                                                                                                                                                                                                                                                                                                                                                                                                                                                                                                                                                                                                                                                                                                                                                                                                                                                                                                                                                                                                                                                                                                                                                                                                                                                                                                                                                                                                                                                                                                                                                                                                                                                                                                                                                                                                                                                                                                                                                                                                                                                                                                                                                                                                                                                                                                                                                                                                                                                                                                                                                                                                                                                                                                             | AHVETLR     | FALSE | NA | 20220202_PHCOQEHF_PC927-Rager_Set1.mzid | C:\\Users\\Public\\Proteome Discoverer 2.5 Projects\\PC927-Rager_LFQ_DDA_PD2.5\\PC927-Rager_LFQ_Proteome\\20220202_PHCOQEHF_PC927-Rager_Set1.mzML | C:\\ |\n",
       "| 2 | scan=3  | 0.3023574 |  3 | TRUE | 1 | 448.9118 | 448.9088 | 3 | 0 | 0 | ⋯ | P21926 |  228 | CD9 antigen OS=Homo sapiens OX=9606 GN=CD9 PE=1 SV=4               | MPVKGGTKCIKYLLFGFNFIFWLAGIAVLAIGLWLRFDSQTKSIFEQETNNNNSSFYTGVYILIGAGALMMLVGFLGCCGAVQESQCMLGLFFGFLLVIFAIEIAAAIWGYSHKDEVIKEVQEFYKDTYNKLKTKDEPQRETLKAIHYALNCCGLAGGVEQFISDICPKKDVLETFTVKSCPDAIKEVFDNKFHIIGAVGIGIAVVMIFGMIFSMILCCAIRRNREMV                                                                                                                                                                                                                                                                                                                                                                                                                                                                                                                                                                                                                                                                                                                                                                                                                                                                                                                                                                                                                                                                                                                                                                                                                                                                                                                                                                                                                                                                                                                                                                                                                                                                                                                                                                                                                                                                                                                                                                                                                                                                                                                                                                                                                                                                                                                                                                                                                                                                                                                                                                                                                                                                                                                                                                                                                                                                                                                                                                                                                                                                                                                                                                                                                                  | TKDEPQRETLK | FALSE | NA | 20220202_PHCOQEHF_PC927-Rager_Set1.mzid | C:\\Users\\Public\\Proteome Discoverer 2.5 Projects\\PC927-Rager_LFQ_DDA_PD2.5\\PC927-Rager_LFQ_Proteome\\20220202_PHCOQEHF_PC927-Rager_Set1.mzML | C:\\ |\n",
       "| 3 | scan=6  | 0.3088032 |  6 | TRUE | 1 | 424.5681 | 424.5653 | 3 | 0 | 0 | ⋯ | Q16787 | 3333 | Laminin subunit alpha-3 OS=Homo sapiens OX=9606 GN=LAMA3 PE=1 SV=2 | MAAAARPRGRALGPVLPPTPLLLLVLRVLPACGATARDPGAAAGLSLHPTYFNLAEAARIWATATCGERGPGEGRPQPELYCKLVGGPTAPGSGHTIQGQFCDYCNSEDPRKAHPVTNAIDGSERWWQSPPLSSGTQYNRVNLTLDLGQLFHVAYILIKFANSPRPDLWVLERSVDFGSTYSPWQYFAHSKVDCLKEFGREANMAVTRDDDVLCVTEYSRIVPLENGEVVVSLINGRPGAKNFTFSHTLREFTKATNIRLRFLRTNTLLGHLISKAQRDPTVTRRYYYSIKDISIGGQCVCNGHAEVCNINNPEKLFRCECQHHTCGETCDRCCTGYNQRRWRPAAWEQSHECEACNCHGHASNCYYDPDVERQQASLNTQGIYAGGGVCINCQHNTAGVNCEQCAKGYYRPYGVPVDAPDGCIPCSCDPEHADGCEQGSGRCHCKPNFHGDNCEKCAIGYYNFPFCLRIPIFPVSTPSSEDPVAGDIKGCDCNLEGVLPEICDAHGRCLCRPGVEGPRCDTCRSGFYSFPICQACWCSALGSYQMPCSSVTGQCECRPGVTGQRCDRCLSGAYDFPHCQGSSSACDPAGTINSNLGYCQCKLHVEGPTCSRCKLLYWNLDKENPSGCSECKCHKAGTVSGTGECRQGDGDCHCKSHVGGDSCDTCEDGYFALEKSNYFGCQGCQCDIGGALSSMCSGPSGVCQCREHVVGKVCQRPENNYYFPDLHHMKYEIEDGSTPNGRDLRFGFDPLAFPEFSWRGYAQMTSVQNDVRITLNVGKSSGSLFRVILRYVNPGTEAVSGHITIYPSWGAAQSKEIIFLPSKEPAFVTVPGNGFADPFSITPGIWVACIKAEGVLLDYLVLLPRDYYEASVLQLPVTEPCAYAGPPQENCLLYQHLPVTRFPCTLACEARHFLLDGEPRPVAVRQPTPAHPVMVDLSGREVELHLRLRIPQVGHYVVVVEYSTEAAQLFVVDVNVKSSGSVLAGQVNIYSCNYSVLCRSAVIDHMSRIAMYELLADADIQLKGHMARFLLHQVCIIPIEEFSAEYVRPQVHCIASYGRFVNQSATCVSLAHETPPTALILDVLSGRPFPHLPQQSSPSVDVLPGVTLKAPQNQVTLRGRVPHLGRYVFVIHFYQAAHPTFPAQVSVDGGWPRAGSFHASFCPHVLGCRDQVIAEGQIEFDISEPEVAATVKVPEGKSLVLVRVLVVPAENYDYQILHKKSMDKSLEFITNCGKNSFYLDPQTASRFCKNSARSLVAFYHKGALPCECHPTGATGPHCSPEGGQCPCQPNVIGRQCTRCATGHYGFPRCKPCSCGRRLCEEMTGQCRCPPRTVRPQCEVCETHSFSFHPMAGCEGCNCSRRGTIEAAMPECDRDSGQCRCKPRITGRQCDRCASGFYRFPECVPCNCNRDGTEPGVCDPGTGACLCKENVEGTECNVCREGSFHLDPANLKGCTSCFCFGVNNQCHSSHKRRTKFVDMLGWHLETADRVDIPVSFNPGSNSMVADLQELPATIHSASWVAPTSYLGDKVSSYGGYLTYQAKSFGLPGDMVLLEKKPDVQLTGQHMSIIYEETNTPRPDRLHHGRVHVVEGNFRHASSRAPVSREELMTVLSRLADVRIQGLYFTETQRLTLSEVGLEEASDTGSGRIALAVEICACPPAYAGDSCQGCSPGYYRDHKGLYTGRCVPCNCNGHSNQCQDGSGICVNCQHNTAGEHCERCQEGYYGNAVHGSCRACPCPHTNSFATGCVVNGGDVRCSCKAGYTGTQCERCAPGYFGNPQKFGGSCQPCSCNSNGQLGSCHPLTGDCINQEPKDSSPAEECDDCDSCVMTLLNDLATMGEQLRLVKSQLQGLSASAGLLEQMRHMETQAKDLRNQLLNYRSAISNHGSKIEGLERELTDLNQEFETLQEKAQVNSRKAQTLNNNVNRATQSAKELDVKIKNVIRNVHILLKQISGTDGEGNNVPSGDFSREWAEAQRMMRELRNRNFGKHLREAEADKRESQLLLNRIRTWQKTHQGENNGLANSIRDSLNEYEAKLSDLRARLQEAAAQAKQANGLNQENERALGAIQRQVKEINSLQSDFTKYLTTADSSLLQTNIALQLMEKSQKEYEKLAASLNEARQELSDKVRELSRSAGKTSLVEEAEKHARSLQELAKQLEEIKRNASGDELVRCAVDAATAYENILNAIKAAEDAANRAASASESALQTVIKEDLPRKAKTLSSNSDKLLNEAKMTQKKLKQEVSPALNNLQQTLNIVTVQKEVIDTNLTTLRDGLHGIQRGDIDAMISSAKSMVRKANDITDEVLDGLNPIQTDVERIKDTYGRTQNEDFKKALTDADNSVNKLTNKLPDLWRKIESINQQLLPLGNISDNMDRIRELIQQARDAASKVAVPMRFNGKSGVEVRLPNDLEDLKGYTSLSLFLQRPNSRENGGTENMFVMYLGNKDASRDYIGMAVVDGQLTCVYNLGDREAELQVDQILTKSETKEAVMDRVKFQRIYQFARLNYTKGATSSKPETPGVYDMDGRNSNTLLNLDPENVVFYVGGYPPDFKLPSRLSFPPYKGCIELDDLNENVLSLYNFKKTFNLNTTEVEPCRRRKEESDKNYFEGTGYARVPTQPHAPIPTFGQTIQTTVDRGLLFFAENGDRFISLNIEDGKLMVRYKLNSELPKERGVGDAINNGRDHSIQIKIGKLQKRMWINVDVQNTIIDGEVFDFSTYYLGGIPIAIRERFNISTPAFRGCMKNLKKTSGVVRLNDTVGVTKKCSEDWKLVRSASFSRGGQLSFTDLGLPPTDHLQASFGFQTFQPSGILLDHQTWTRNLQVTLEDGYIELSTSDSGSPIFKSPQTYMDGLLHYVSVISDNSGLRLLIDDQLLRNSKRLKHISSSRQSLRLGGSNFEGCISNVFVQRLSLSPEVLDLTSNSLKRDVSLGGCSLNKPPFLMLLKGSTRFNKTKTFRINQLLQDTPVASPRSVKVWQDACSPLPKTQANHGALQFGDIPTSHLLFKLPQELLKPRSQFAVDMQTTSSRGLVFHTGTKNSFMALYLSKGRLVFALGTDGKKLRIKSKEKCNDGKWHTVVFGHDGEKGRLVVDGLRAREGSLPGNSTISIRAPVYLGSPPSGKPKSLPTNSFVGCLKNFQLDSKPLYTPSSSFGVSSCLGGPLEKGIYFSEEGGHVVLAHSVLLGPEFKLVFSIRPRSLTGILIHIGSQPGKHLCVYLEAGKVTASMDSGAGGTSTSVTPKQSLCDGQWHSVAVTIKQHILHLELDTDSSYTAGQIPFPPASTQEPLHLGGAPANLTTLRIPVWKSFFGCLRNIHVNHIPVPVTEALEVQGPVSLNGCPDQ | KAQTLNNNVNR | FALSE | NA | 20220202_PHCOQEHF_PC927-Rager_Set1.mzid | C:\\Users\\Public\\Proteome Discoverer 2.5 Projects\\PC927-Rager_LFQ_DDA_PD2.5\\PC927-Rager_LFQ_Proteome\\20220202_PHCOQEHF_PC927-Rager_Set1.mzML | C:\\ |\n",
       "| 4 | scan=7  | 0.3109449 |  7 | TRUE | 1 | 430.2198 | 430.2170 | 2 | 0 | 0 | ⋯ | Q2UVX4 | 1662 | SWISS-PROT:Q2UVX4 (Bos taurus) Complement C3 precursor             | MKPTSGPSLLLLLLASLPMALGNPMYSMITPNILRLESEETVVLEAHGGQGTIQVSVTVHDFPAKKQVLSNENTQLNSNNGYLSTVTIKVPASKELKSDKGHKFVTVVATFGNVQVEKVVLISLQSGYLFIQTDKTIYTPGSTVLYRVFTVDHKLLPVGQTVFITIETPDGIPVKRDSKSSQNQFGILTLSWNIPELVNMGVWKIKAYYEDSPQQVFSAEFEVKEYVLPSFEVQLEPEEKFYYIDDPDGLKVNIIARFLYGEQVDGTAFVIFGVQDGDRRISLTHSLTRVPINDGNGEAILKRQVLLNGVQPSRADALVGKSIYVSATVILQSGSDMVEAERTGIPIVTSPYQIHFTKTPKFFKPAMPFDLMVYVTNPDGSPARHIPVVTQGSNVQSLTQDDGVAKLSINTQNKRDPLTITVRTKKDNIPEGRQATRTMQALPYNTQGNSNNYLHLSVPRVELKPGETLNVNFHLRTDPGEQAKIRYYTYMIMNKGKLLKVGRQYREPGQDLVVLPLTITSDFIPSFRLVAYYTLINAKGQREVVADSVWVDVKDSCMGTLVVKNGGKEEKHHRPGQQITLKIEADQGARVGLVAVDKGVFVLNKKNKLTQRKIWDVVEKADIGCTPGSGRNYAGVFTDAGLTLKTSQGLETQQRADPQCPQPATRRRRSVQLMEKRMDKAGQYSSDLRKCCEDGMRDNPMKFPCQRRAQFILQGDACVKAFLDCCEYITQLRQQHSRDGALELARSDLDDDIIPEEDIISRSQFPESWLWTVIEDLKQADKNGISTKLMNVFLKDSITTWEILAVSLSDKKGICVADPYEVTVMQDFFIDLRLPYSVVRNEQVEIRAILYNYREAENLKVRVELLYNPAFCSLATAKKRHQQTITIPARSSVAVPYVIVPLKIGLHEVEVKAAVYNHFISDGVKKTLKVVPEGVRVNKTVAVRTLNPEHLGQGGVQREEVPAADLSDQVPDTESETKILLQGTPVAQMTEDAIDGERLKHLIQTPSGCGEQNMIGMTPTVIAVHYLDSTDQWEKFGLEKRQESLELIRKGYTQQLAFRQKSSAYAAFQYRPPSTWLTAYVVKVFALAANLIAIDSKDLCETVKWLILEKQKPDGIFQEDGPVIHQEMIGGFRDTREKDVSLTAFVLIALHEAKDICEAQVNSLGRSIAKAGDFLENHYRELRRPYTVAIAAYALALLGKLEGDRLTKFLNTAKEKNRWEEPNQKLYNVEATSYALLALLARKDYDTTPPVVRWLNEQRYYGGGYGSTQQATFMVFQALAQYQKDVPDHKELNLDVSIQLPSRNSAVRHRILWESASLLRSEETKENERFTVKAEGKGQGTLSVVTVYHAKLKGKVSCKKFDLRVSIRPAPETVKKPQDAKGSMILDICTKYLGDQDATMSILDISMMTGFSPDVEDLKTLSTGVDRYISKYEMNRDSNKNTLIIYLDKVSHTVEDCLSFKVHQYFNVGLIQPGAVKVYSYYNLDETCIRFYHPDKEDGMLSKLCHKDTCRCAEENCFMHHTEKEVTLEDRLDKACEPGVDYVYKTRLIQKKLEDDFDEYIMVIENIIKSGSDEVQVKQERKFISHIKCREALKLKEGAHYLVWGVSSDLWGEKPKISYIIGKDTWVELWPEAEECQDEENQKQCEDLANFTENMVVFGCPN                                                                                                                                                                                                                                                                                                                                                                                                                                                                                                                                                                                                                                                                                                                                                                                                                                                                                                                                                                                                                                                                                                                                                                                                                                                                                                                                                                                                                                                                                                                                                                                                                                                                                                                                        | IEADQGAR    | FALSE | NA | 20220202_PHCOQEHF_PC927-Rager_Set1.mzid | C:\\Users\\Public\\Proteome Discoverer 2.5 Projects\\PC927-Rager_LFQ_DDA_PD2.5\\PC927-Rager_LFQ_Proteome\\20220202_PHCOQEHF_PC927-Rager_Set1.mzML | C:\\ |\n",
       "| 5 | scan=9  | 0.3166323 |  9 | TRUE | 1 | 442.5572 | 442.5567 | 3 | 0 | 0 | ⋯ | P12814 |  892 | Alpha-actinin-1 OS=Homo sapiens OX=9606 GN=ACTN1 PE=1 SV=2         | MDHYDSQQTNDYMQPEEDWDRDLLLDPAWEKQQRKTFTAWCNSHLRKAGTQIENIEEDFRDGLKLMLLLEVISGERLAKPERGKMRVHKISNVNKALDFIASKGVKLVSIGAEEIVDGNVKMTLGMIWTIILRFAIQDISVEETSAKEGLLLWCQRKTAPYKNVNIQNFHISWKDGLGFCALIHRHRPELIDYGKLRKDDPLTNLNTAFDVAEKYLDIPKMLDAEDIVGTARPDEKAIMTYVSSFYHAFSGAQKAETAANRICKVLAVNQENEQLMEDYEKLASDLLEWIRRTIPWLENRVPENTMHAMQQKLEDFRDYRRLHKPPKVQEKCQLEINFNTLQTKLRLSNRPAFMPSEGRMVSDINNAWGCLEQVEKGYEEWLLNEIRRLERLDHLAEKFRQKASIHEAWTDGKEAMLRQKDYETATLSEIKALLKKHEAFESDLAAHQDRVEQIAAIAQELNELDYYDSPSVNARCQKICDQWDNLGALTQKRREALERTEKLLETIDQLYLEYAKRAAPFNNWMEGAMEDLQDTFIVHTIEEIQGLTTAHEQFKATLPDADKERLAILGIHNEVSKIVQTYHVNMAGTNPYTTITPQEINGKWDHVRQLVPRRDQALTEEHARQQHNERLRKQFGAQANVIGPWIQTKMEEIGRISIEMHGTLEDQLSHLRQYEKSIVNYKPKIDQLEGDHQLIQEALIFDNKHTNYTMEHIRVGWEQLLTTIARTINEVENQILTRDAKGISQEQMNEFRASFNHFDRDHSGTLGPEEFKACLISLGYDIGNDPQGEAEFARIMSIVDPNRLGVVTFQAFIDFMSRETADTDTADQVMASFKILAGDKNYITMDELRRELPPDQAEYCIARMAPYTGPDSVPGALDYMSFSTALYGESDL                                                                                                                                                                                                                                                                                                                                                                                                                                                                                                                                                                                                                                                                                                                                                                                                                                                                                                                                                                                                                                                                                                                                                                                                                                                                                                                                                                                                                                                                                                                                                                                                                                                                                                                                                                                                                                                                                                                                                                                                                                                                                                                                                                                                                                                                                                                                                                                                                                                                                                                                          | RDQALTEEHAR | FALSE | NA | 20220202_PHCOQEHF_PC927-Rager_Set1.mzid | C:\\Users\\Public\\Proteome Discoverer 2.5 Projects\\PC927-Rager_LFQ_DDA_PD2.5\\PC927-Rager_LFQ_Proteome\\20220202_PHCOQEHF_PC927-Rager_Set1.mzML | C:\\ |\n",
       "| 6 | scan=16 | 0.4248295 | 16 | TRUE | 1 | 636.3454 | 636.3444 | 2 | 0 | 0 | ⋯ | Q16787 | 3333 | Laminin subunit alpha-3 OS=Homo sapiens OX=9606 GN=LAMA3 PE=1 SV=2 | MAAAARPRGRALGPVLPPTPLLLLVLRVLPACGATARDPGAAAGLSLHPTYFNLAEAARIWATATCGERGPGEGRPQPELYCKLVGGPTAPGSGHTIQGQFCDYCNSEDPRKAHPVTNAIDGSERWWQSPPLSSGTQYNRVNLTLDLGQLFHVAYILIKFANSPRPDLWVLERSVDFGSTYSPWQYFAHSKVDCLKEFGREANMAVTRDDDVLCVTEYSRIVPLENGEVVVSLINGRPGAKNFTFSHTLREFTKATNIRLRFLRTNTLLGHLISKAQRDPTVTRRYYYSIKDISIGGQCVCNGHAEVCNINNPEKLFRCECQHHTCGETCDRCCTGYNQRRWRPAAWEQSHECEACNCHGHASNCYYDPDVERQQASLNTQGIYAGGGVCINCQHNTAGVNCEQCAKGYYRPYGVPVDAPDGCIPCSCDPEHADGCEQGSGRCHCKPNFHGDNCEKCAIGYYNFPFCLRIPIFPVSTPSSEDPVAGDIKGCDCNLEGVLPEICDAHGRCLCRPGVEGPRCDTCRSGFYSFPICQACWCSALGSYQMPCSSVTGQCECRPGVTGQRCDRCLSGAYDFPHCQGSSSACDPAGTINSNLGYCQCKLHVEGPTCSRCKLLYWNLDKENPSGCSECKCHKAGTVSGTGECRQGDGDCHCKSHVGGDSCDTCEDGYFALEKSNYFGCQGCQCDIGGALSSMCSGPSGVCQCREHVVGKVCQRPENNYYFPDLHHMKYEIEDGSTPNGRDLRFGFDPLAFPEFSWRGYAQMTSVQNDVRITLNVGKSSGSLFRVILRYVNPGTEAVSGHITIYPSWGAAQSKEIIFLPSKEPAFVTVPGNGFADPFSITPGIWVACIKAEGVLLDYLVLLPRDYYEASVLQLPVTEPCAYAGPPQENCLLYQHLPVTRFPCTLACEARHFLLDGEPRPVAVRQPTPAHPVMVDLSGREVELHLRLRIPQVGHYVVVVEYSTEAAQLFVVDVNVKSSGSVLAGQVNIYSCNYSVLCRSAVIDHMSRIAMYELLADADIQLKGHMARFLLHQVCIIPIEEFSAEYVRPQVHCIASYGRFVNQSATCVSLAHETPPTALILDVLSGRPFPHLPQQSSPSVDVLPGVTLKAPQNQVTLRGRVPHLGRYVFVIHFYQAAHPTFPAQVSVDGGWPRAGSFHASFCPHVLGCRDQVIAEGQIEFDISEPEVAATVKVPEGKSLVLVRVLVVPAENYDYQILHKKSMDKSLEFITNCGKNSFYLDPQTASRFCKNSARSLVAFYHKGALPCECHPTGATGPHCSPEGGQCPCQPNVIGRQCTRCATGHYGFPRCKPCSCGRRLCEEMTGQCRCPPRTVRPQCEVCETHSFSFHPMAGCEGCNCSRRGTIEAAMPECDRDSGQCRCKPRITGRQCDRCASGFYRFPECVPCNCNRDGTEPGVCDPGTGACLCKENVEGTECNVCREGSFHLDPANLKGCTSCFCFGVNNQCHSSHKRRTKFVDMLGWHLETADRVDIPVSFNPGSNSMVADLQELPATIHSASWVAPTSYLGDKVSSYGGYLTYQAKSFGLPGDMVLLEKKPDVQLTGQHMSIIYEETNTPRPDRLHHGRVHVVEGNFRHASSRAPVSREELMTVLSRLADVRIQGLYFTETQRLTLSEVGLEEASDTGSGRIALAVEICACPPAYAGDSCQGCSPGYYRDHKGLYTGRCVPCNCNGHSNQCQDGSGICVNCQHNTAGEHCERCQEGYYGNAVHGSCRACPCPHTNSFATGCVVNGGDVRCSCKAGYTGTQCERCAPGYFGNPQKFGGSCQPCSCNSNGQLGSCHPLTGDCINQEPKDSSPAEECDDCDSCVMTLLNDLATMGEQLRLVKSQLQGLSASAGLLEQMRHMETQAKDLRNQLLNYRSAISNHGSKIEGLERELTDLNQEFETLQEKAQVNSRKAQTLNNNVNRATQSAKELDVKIKNVIRNVHILLKQISGTDGEGNNVPSGDFSREWAEAQRMMRELRNRNFGKHLREAEADKRESQLLLNRIRTWQKTHQGENNGLANSIRDSLNEYEAKLSDLRARLQEAAAQAKQANGLNQENERALGAIQRQVKEINSLQSDFTKYLTTADSSLLQTNIALQLMEKSQKEYEKLAASLNEARQELSDKVRELSRSAGKTSLVEEAEKHARSLQELAKQLEEIKRNASGDELVRCAVDAATAYENILNAIKAAEDAANRAASASESALQTVIKEDLPRKAKTLSSNSDKLLNEAKMTQKKLKQEVSPALNNLQQTLNIVTVQKEVIDTNLTTLRDGLHGIQRGDIDAMISSAKSMVRKANDITDEVLDGLNPIQTDVERIKDTYGRTQNEDFKKALTDADNSVNKLTNKLPDLWRKIESINQQLLPLGNISDNMDRIRELIQQARDAASKVAVPMRFNGKSGVEVRLPNDLEDLKGYTSLSLFLQRPNSRENGGTENMFVMYLGNKDASRDYIGMAVVDGQLTCVYNLGDREAELQVDQILTKSETKEAVMDRVKFQRIYQFARLNYTKGATSSKPETPGVYDMDGRNSNTLLNLDPENVVFYVGGYPPDFKLPSRLSFPPYKGCIELDDLNENVLSLYNFKKTFNLNTTEVEPCRRRKEESDKNYFEGTGYARVPTQPHAPIPTFGQTIQTTVDRGLLFFAENGDRFISLNIEDGKLMVRYKLNSELPKERGVGDAINNGRDHSIQIKIGKLQKRMWINVDVQNTIIDGEVFDFSTYYLGGIPIAIRERFNISTPAFRGCMKNLKKTSGVVRLNDTVGVTKKCSEDWKLVRSASFSRGGQLSFTDLGLPPTDHLQASFGFQTFQPSGILLDHQTWTRNLQVTLEDGYIELSTSDSGSPIFKSPQTYMDGLLHYVSVISDNSGLRLLIDDQLLRNSKRLKHISSSRQSLRLGGSNFEGCISNVFVQRLSLSPEVLDLTSNSLKRDVSLGGCSLNKPPFLMLLKGSTRFNKTKTFRINQLLQDTPVASPRSVKVWQDACSPLPKTQANHGALQFGDIPTSHLLFKLPQELLKPRSQFAVDMQTTSSRGLVFHTGTKNSFMALYLSKGRLVFALGTDGKKLRIKSKEKCNDGKWHTVVFGHDGEKGRLVVDGLRAREGSLPGNSTISIRAPVYLGSPPSGKPKSLPTNSFVGCLKNFQLDSKPLYTPSSSFGVSSCLGGPLEKGIYFSEEGGHVVLAHSVLLGPEFKLVFSIRPRSLTGILIHIGSQPGKHLCVYLEAGKVTASMDSGAGGTSTSVTPKQSLCDGQWHSVAVTIKQHILHLELDTDSSYTAGQIPFPPASTQEPLHLGGAPANLTTLRIPVWKSFFGCLRNIHVNHIPVPVTEALEVQGPVSLNGCPDQ | KAQTLNNNVNR | FALSE | NA | 20220202_PHCOQEHF_PC927-Rager_Set1.mzid | C:\\Users\\Public\\Proteome Discoverer 2.5 Projects\\PC927-Rager_LFQ_DDA_PD2.5\\PC927-Rager_LFQ_Proteome\\20220202_PHCOQEHF_PC927-Rager_Set1.mzML | C:\\ |\n",
       "\n"
      ],
      "text/plain": [
       "  spectrumid retention time acquisitionnum passthreshold rank\n",
       "1 scan=2     0.3002158       2             TRUE          1   \n",
       "2 scan=3     0.3023574       3             TRUE          1   \n",
       "3 scan=6     0.3088032       6             TRUE          1   \n",
       "4 scan=7     0.3109449       7             TRUE          1   \n",
       "5 scan=9     0.3166323       9             TRUE          1   \n",
       "6 scan=16    0.4248295      16             TRUE          1   \n",
       "  experimentalmasstocharge calculatedmasstocharge chargestate\n",
       "1 413.2353                 413.2325               2          \n",
       "2 448.9118                 448.9088               3          \n",
       "3 424.5681                 424.5653               3          \n",
       "4 430.2198                 430.2170               2          \n",
       "5 442.5572                 442.5567               3          \n",
       "6 636.3454                 636.3444               2          \n",
       "  proteomediscoverer:delta score sequest:deltacn ⋯ accession length\n",
       "1 0                              0               ⋯ P15497     265  \n",
       "2 0                              0               ⋯ P21926     228  \n",
       "3 0                              0               ⋯ Q16787    3333  \n",
       "4 0                              0               ⋯ Q2UVX4    1662  \n",
       "5 0                              0               ⋯ P12814     892  \n",
       "6 0                              0               ⋯ Q16787    3333  \n",
       "  description                                                       \n",
       "1 SWISS-PROT:P15497 (Bos taurus) Apolipoprotein A-I precursor       \n",
       "2 CD9 antigen OS=Homo sapiens OX=9606 GN=CD9 PE=1 SV=4              \n",
       "3 Laminin subunit alpha-3 OS=Homo sapiens OX=9606 GN=LAMA3 PE=1 SV=2\n",
       "4 SWISS-PROT:Q2UVX4 (Bos taurus) Complement C3 precursor            \n",
       "5 Alpha-actinin-1 OS=Homo sapiens OX=9606 GN=ACTN1 PE=1 SV=2        \n",
       "6 Laminin subunit alpha-3 OS=Homo sapiens OX=9606 GN=LAMA3 PE=1 SV=2\n",
       "  sequence                                                                                                                                                                                                                                                                                                                                                                                                                                                                                                                                                                                                                                                                                                                                                                                                                                                                                                                                                                                                                                                                                                                                                                                                                                                                                                                                                                                                                                                                                                                                                                                                                                                                                                                                                                                                                                                                                                                                                                                                                                                                                                                                                                                                                                                                                                                                                                                                                                                                                                                                                                                                                                                                                                                                                                                                                                                                                                                                                                                                                                                                                                                                                                                                                                                                                                                                                                                                                                                             \n",
       "1 MKAVVLTLAVLFLTGSQARHFWQQDDPQSSWDRVKDFATVYVEAIKDSGRDYVAQFEASALGKQLNLKLLDNWDTLASTLSKVREQLGPVTQEFWDNLEKETASLRQEMHKDLEEVKQKVQPYLDEFQKKWHEEVEIYRQKVAPLGEEFREGARQKVQELQDKLSPLAQELRDRARAHVETLRQQLAPYSDDLRQRLTARLEALKEGGGSLAEYHAKASEQLKALGEKAKPVLEDLRQGLLPVLESLKVSILAAIDEASKKLNAQ                                                                                                                                                                                                                                                                                                                                                                                                                                                                                                                                                                                                                                                                                                                                                                                                                                                                                                                                                                                                                                                                                                                                                                                                                                                                                                                                                                                                                                                                                                                                                                                                                                                                                                                                                                                                                                                                                                                                                                                                                                                                                                                                                                                                                                                                                                                                                                                                                                                                                                                                                                                                                                                                                                                                                                                                                                                                                                                                                                                                                                                                                                                                                                                            \n",
       "2 MPVKGGTKCIKYLLFGFNFIFWLAGIAVLAIGLWLRFDSQTKSIFEQETNNNNSSFYTGVYILIGAGALMMLVGFLGCCGAVQESQCMLGLFFGFLLVIFAIEIAAAIWGYSHKDEVIKEVQEFYKDTYNKLKTKDEPQRETLKAIHYALNCCGLAGGVEQFISDICPKKDVLETFTVKSCPDAIKEVFDNKFHIIGAVGIGIAVVMIFGMIFSMILCCAIRRNREMV                                                                                                                                                                                                                                                                                                                                                                                                                                                                                                                                                                                                                                                                                                                                                                                                                                                                                                                                                                                                                                                                                                                                                                                                                                                                                                                                                                                                                                                                                                                                                                                                                                                                                                                                                                                                                                                                                                                                                                                                                                                                                                                                                                                                                                                                                                                                                                                                                                                                                                                                                                                                                                                                                                                                                                                                                                                                                                                                                                                                                                                                                                                                                                                                                                 \n",
       "3 MAAAARPRGRALGPVLPPTPLLLLVLRVLPACGATARDPGAAAGLSLHPTYFNLAEAARIWATATCGERGPGEGRPQPELYCKLVGGPTAPGSGHTIQGQFCDYCNSEDPRKAHPVTNAIDGSERWWQSPPLSSGTQYNRVNLTLDLGQLFHVAYILIKFANSPRPDLWVLERSVDFGSTYSPWQYFAHSKVDCLKEFGREANMAVTRDDDVLCVTEYSRIVPLENGEVVVSLINGRPGAKNFTFSHTLREFTKATNIRLRFLRTNTLLGHLISKAQRDPTVTRRYYYSIKDISIGGQCVCNGHAEVCNINNPEKLFRCECQHHTCGETCDRCCTGYNQRRWRPAAWEQSHECEACNCHGHASNCYYDPDVERQQASLNTQGIYAGGGVCINCQHNTAGVNCEQCAKGYYRPYGVPVDAPDGCIPCSCDPEHADGCEQGSGRCHCKPNFHGDNCEKCAIGYYNFPFCLRIPIFPVSTPSSEDPVAGDIKGCDCNLEGVLPEICDAHGRCLCRPGVEGPRCDTCRSGFYSFPICQACWCSALGSYQMPCSSVTGQCECRPGVTGQRCDRCLSGAYDFPHCQGSSSACDPAGTINSNLGYCQCKLHVEGPTCSRCKLLYWNLDKENPSGCSECKCHKAGTVSGTGECRQGDGDCHCKSHVGGDSCDTCEDGYFALEKSNYFGCQGCQCDIGGALSSMCSGPSGVCQCREHVVGKVCQRPENNYYFPDLHHMKYEIEDGSTPNGRDLRFGFDPLAFPEFSWRGYAQMTSVQNDVRITLNVGKSSGSLFRVILRYVNPGTEAVSGHITIYPSWGAAQSKEIIFLPSKEPAFVTVPGNGFADPFSITPGIWVACIKAEGVLLDYLVLLPRDYYEASVLQLPVTEPCAYAGPPQENCLLYQHLPVTRFPCTLACEARHFLLDGEPRPVAVRQPTPAHPVMVDLSGREVELHLRLRIPQVGHYVVVVEYSTEAAQLFVVDVNVKSSGSVLAGQVNIYSCNYSVLCRSAVIDHMSRIAMYELLADADIQLKGHMARFLLHQVCIIPIEEFSAEYVRPQVHCIASYGRFVNQSATCVSLAHETPPTALILDVLSGRPFPHLPQQSSPSVDVLPGVTLKAPQNQVTLRGRVPHLGRYVFVIHFYQAAHPTFPAQVSVDGGWPRAGSFHASFCPHVLGCRDQVIAEGQIEFDISEPEVAATVKVPEGKSLVLVRVLVVPAENYDYQILHKKSMDKSLEFITNCGKNSFYLDPQTASRFCKNSARSLVAFYHKGALPCECHPTGATGPHCSPEGGQCPCQPNVIGRQCTRCATGHYGFPRCKPCSCGRRLCEEMTGQCRCPPRTVRPQCEVCETHSFSFHPMAGCEGCNCSRRGTIEAAMPECDRDSGQCRCKPRITGRQCDRCASGFYRFPECVPCNCNRDGTEPGVCDPGTGACLCKENVEGTECNVCREGSFHLDPANLKGCTSCFCFGVNNQCHSSHKRRTKFVDMLGWHLETADRVDIPVSFNPGSNSMVADLQELPATIHSASWVAPTSYLGDKVSSYGGYLTYQAKSFGLPGDMVLLEKKPDVQLTGQHMSIIYEETNTPRPDRLHHGRVHVVEGNFRHASSRAPVSREELMTVLSRLADVRIQGLYFTETQRLTLSEVGLEEASDTGSGRIALAVEICACPPAYAGDSCQGCSPGYYRDHKGLYTGRCVPCNCNGHSNQCQDGSGICVNCQHNTAGEHCERCQEGYYGNAVHGSCRACPCPHTNSFATGCVVNGGDVRCSCKAGYTGTQCERCAPGYFGNPQKFGGSCQPCSCNSNGQLGSCHPLTGDCINQEPKDSSPAEECDDCDSCVMTLLNDLATMGEQLRLVKSQLQGLSASAGLLEQMRHMETQAKDLRNQLLNYRSAISNHGSKIEGLERELTDLNQEFETLQEKAQVNSRKAQTLNNNVNRATQSAKELDVKIKNVIRNVHILLKQISGTDGEGNNVPSGDFSREWAEAQRMMRELRNRNFGKHLREAEADKRESQLLLNRIRTWQKTHQGENNGLANSIRDSLNEYEAKLSDLRARLQEAAAQAKQANGLNQENERALGAIQRQVKEINSLQSDFTKYLTTADSSLLQTNIALQLMEKSQKEYEKLAASLNEARQELSDKVRELSRSAGKTSLVEEAEKHARSLQELAKQLEEIKRNASGDELVRCAVDAATAYENILNAIKAAEDAANRAASASESALQTVIKEDLPRKAKTLSSNSDKLLNEAKMTQKKLKQEVSPALNNLQQTLNIVTVQKEVIDTNLTTLRDGLHGIQRGDIDAMISSAKSMVRKANDITDEVLDGLNPIQTDVERIKDTYGRTQNEDFKKALTDADNSVNKLTNKLPDLWRKIESINQQLLPLGNISDNMDRIRELIQQARDAASKVAVPMRFNGKSGVEVRLPNDLEDLKGYTSLSLFLQRPNSRENGGTENMFVMYLGNKDASRDYIGMAVVDGQLTCVYNLGDREAELQVDQILTKSETKEAVMDRVKFQRIYQFARLNYTKGATSSKPETPGVYDMDGRNSNTLLNLDPENVVFYVGGYPPDFKLPSRLSFPPYKGCIELDDLNENVLSLYNFKKTFNLNTTEVEPCRRRKEESDKNYFEGTGYARVPTQPHAPIPTFGQTIQTTVDRGLLFFAENGDRFISLNIEDGKLMVRYKLNSELPKERGVGDAINNGRDHSIQIKIGKLQKRMWINVDVQNTIIDGEVFDFSTYYLGGIPIAIRERFNISTPAFRGCMKNLKKTSGVVRLNDTVGVTKKCSEDWKLVRSASFSRGGQLSFTDLGLPPTDHLQASFGFQTFQPSGILLDHQTWTRNLQVTLEDGYIELSTSDSGSPIFKSPQTYMDGLLHYVSVISDNSGLRLLIDDQLLRNSKRLKHISSSRQSLRLGGSNFEGCISNVFVQRLSLSPEVLDLTSNSLKRDVSLGGCSLNKPPFLMLLKGSTRFNKTKTFRINQLLQDTPVASPRSVKVWQDACSPLPKTQANHGALQFGDIPTSHLLFKLPQELLKPRSQFAVDMQTTSSRGLVFHTGTKNSFMALYLSKGRLVFALGTDGKKLRIKSKEKCNDGKWHTVVFGHDGEKGRLVVDGLRAREGSLPGNSTISIRAPVYLGSPPSGKPKSLPTNSFVGCLKNFQLDSKPLYTPSSSFGVSSCLGGPLEKGIYFSEEGGHVVLAHSVLLGPEFKLVFSIRPRSLTGILIHIGSQPGKHLCVYLEAGKVTASMDSGAGGTSTSVTPKQSLCDGQWHSVAVTIKQHILHLELDTDSSYTAGQIPFPPASTQEPLHLGGAPANLTTLRIPVWKSFFGCLRNIHVNHIPVPVTEALEVQGPVSLNGCPDQ\n",
       "4 MKPTSGPSLLLLLLASLPMALGNPMYSMITPNILRLESEETVVLEAHGGQGTIQVSVTVHDFPAKKQVLSNENTQLNSNNGYLSTVTIKVPASKELKSDKGHKFVTVVATFGNVQVEKVVLISLQSGYLFIQTDKTIYTPGSTVLYRVFTVDHKLLPVGQTVFITIETPDGIPVKRDSKSSQNQFGILTLSWNIPELVNMGVWKIKAYYEDSPQQVFSAEFEVKEYVLPSFEVQLEPEEKFYYIDDPDGLKVNIIARFLYGEQVDGTAFVIFGVQDGDRRISLTHSLTRVPINDGNGEAILKRQVLLNGVQPSRADALVGKSIYVSATVILQSGSDMVEAERTGIPIVTSPYQIHFTKTPKFFKPAMPFDLMVYVTNPDGSPARHIPVVTQGSNVQSLTQDDGVAKLSINTQNKRDPLTITVRTKKDNIPEGRQATRTMQALPYNTQGNSNNYLHLSVPRVELKPGETLNVNFHLRTDPGEQAKIRYYTYMIMNKGKLLKVGRQYREPGQDLVVLPLTITSDFIPSFRLVAYYTLINAKGQREVVADSVWVDVKDSCMGTLVVKNGGKEEKHHRPGQQITLKIEADQGARVGLVAVDKGVFVLNKKNKLTQRKIWDVVEKADIGCTPGSGRNYAGVFTDAGLTLKTSQGLETQQRADPQCPQPATRRRRSVQLMEKRMDKAGQYSSDLRKCCEDGMRDNPMKFPCQRRAQFILQGDACVKAFLDCCEYITQLRQQHSRDGALELARSDLDDDIIPEEDIISRSQFPESWLWTVIEDLKQADKNGISTKLMNVFLKDSITTWEILAVSLSDKKGICVADPYEVTVMQDFFIDLRLPYSVVRNEQVEIRAILYNYREAENLKVRVELLYNPAFCSLATAKKRHQQTITIPARSSVAVPYVIVPLKIGLHEVEVKAAVYNHFISDGVKKTLKVVPEGVRVNKTVAVRTLNPEHLGQGGVQREEVPAADLSDQVPDTESETKILLQGTPVAQMTEDAIDGERLKHLIQTPSGCGEQNMIGMTPTVIAVHYLDSTDQWEKFGLEKRQESLELIRKGYTQQLAFRQKSSAYAAFQYRPPSTWLTAYVVKVFALAANLIAIDSKDLCETVKWLILEKQKPDGIFQEDGPVIHQEMIGGFRDTREKDVSLTAFVLIALHEAKDICEAQVNSLGRSIAKAGDFLENHYRELRRPYTVAIAAYALALLGKLEGDRLTKFLNTAKEKNRWEEPNQKLYNVEATSYALLALLARKDYDTTPPVVRWLNEQRYYGGGYGSTQQATFMVFQALAQYQKDVPDHKELNLDVSIQLPSRNSAVRHRILWESASLLRSEETKENERFTVKAEGKGQGTLSVVTVYHAKLKGKVSCKKFDLRVSIRPAPETVKKPQDAKGSMILDICTKYLGDQDATMSILDISMMTGFSPDVEDLKTLSTGVDRYISKYEMNRDSNKNTLIIYLDKVSHTVEDCLSFKVHQYFNVGLIQPGAVKVYSYYNLDETCIRFYHPDKEDGMLSKLCHKDTCRCAEENCFMHHTEKEVTLEDRLDKACEPGVDYVYKTRLIQKKLEDDFDEYIMVIENIIKSGSDEVQVKQERKFISHIKCREALKLKEGAHYLVWGVSSDLWGEKPKISYIIGKDTWVELWPEAEECQDEENQKQCEDLANFTENMVVFGCPN                                                                                                                                                                                                                                                                                                                                                                                                                                                                                                                                                                                                                                                                                                                                                                                                                                                                                                                                                                                                                                                                                                                                                                                                                                                                                                                                                                                                                                                                                                                                                                                                                                                                                                                                       \n",
       "5 MDHYDSQQTNDYMQPEEDWDRDLLLDPAWEKQQRKTFTAWCNSHLRKAGTQIENIEEDFRDGLKLMLLLEVISGERLAKPERGKMRVHKISNVNKALDFIASKGVKLVSIGAEEIVDGNVKMTLGMIWTIILRFAIQDISVEETSAKEGLLLWCQRKTAPYKNVNIQNFHISWKDGLGFCALIHRHRPELIDYGKLRKDDPLTNLNTAFDVAEKYLDIPKMLDAEDIVGTARPDEKAIMTYVSSFYHAFSGAQKAETAANRICKVLAVNQENEQLMEDYEKLASDLLEWIRRTIPWLENRVPENTMHAMQQKLEDFRDYRRLHKPPKVQEKCQLEINFNTLQTKLRLSNRPAFMPSEGRMVSDINNAWGCLEQVEKGYEEWLLNEIRRLERLDHLAEKFRQKASIHEAWTDGKEAMLRQKDYETATLSEIKALLKKHEAFESDLAAHQDRVEQIAAIAQELNELDYYDSPSVNARCQKICDQWDNLGALTQKRREALERTEKLLETIDQLYLEYAKRAAPFNNWMEGAMEDLQDTFIVHTIEEIQGLTTAHEQFKATLPDADKERLAILGIHNEVSKIVQTYHVNMAGTNPYTTITPQEINGKWDHVRQLVPRRDQALTEEHARQQHNERLRKQFGAQANVIGPWIQTKMEEIGRISIEMHGTLEDQLSHLRQYEKSIVNYKPKIDQLEGDHQLIQEALIFDNKHTNYTMEHIRVGWEQLLTTIARTINEVENQILTRDAKGISQEQMNEFRASFNHFDRDHSGTLGPEEFKACLISLGYDIGNDPQGEAEFARIMSIVDPNRLGVVTFQAFIDFMSRETADTDTADQVMASFKILAGDKNYITMDELRRELPPDQAEYCIARMAPYTGPDSVPGALDYMSFSTALYGESDL                                                                                                                                                                                                                                                                                                                                                                                                                                                                                                                                                                                                                                                                                                                                                                                                                                                                                                                                                                                                                                                                                                                                                                                                                                                                                                                                                                                                                                                                                                                                                                                                                                                                                                                                                                                                                                                                                                                                                                                                                                                                                                                                                                                                                                                                                                                                                                                                                                                                                                                                         \n",
       "6 MAAAARPRGRALGPVLPPTPLLLLVLRVLPACGATARDPGAAAGLSLHPTYFNLAEAARIWATATCGERGPGEGRPQPELYCKLVGGPTAPGSGHTIQGQFCDYCNSEDPRKAHPVTNAIDGSERWWQSPPLSSGTQYNRVNLTLDLGQLFHVAYILIKFANSPRPDLWVLERSVDFGSTYSPWQYFAHSKVDCLKEFGREANMAVTRDDDVLCVTEYSRIVPLENGEVVVSLINGRPGAKNFTFSHTLREFTKATNIRLRFLRTNTLLGHLISKAQRDPTVTRRYYYSIKDISIGGQCVCNGHAEVCNINNPEKLFRCECQHHTCGETCDRCCTGYNQRRWRPAAWEQSHECEACNCHGHASNCYYDPDVERQQASLNTQGIYAGGGVCINCQHNTAGVNCEQCAKGYYRPYGVPVDAPDGCIPCSCDPEHADGCEQGSGRCHCKPNFHGDNCEKCAIGYYNFPFCLRIPIFPVSTPSSEDPVAGDIKGCDCNLEGVLPEICDAHGRCLCRPGVEGPRCDTCRSGFYSFPICQACWCSALGSYQMPCSSVTGQCECRPGVTGQRCDRCLSGAYDFPHCQGSSSACDPAGTINSNLGYCQCKLHVEGPTCSRCKLLYWNLDKENPSGCSECKCHKAGTVSGTGECRQGDGDCHCKSHVGGDSCDTCEDGYFALEKSNYFGCQGCQCDIGGALSSMCSGPSGVCQCREHVVGKVCQRPENNYYFPDLHHMKYEIEDGSTPNGRDLRFGFDPLAFPEFSWRGYAQMTSVQNDVRITLNVGKSSGSLFRVILRYVNPGTEAVSGHITIYPSWGAAQSKEIIFLPSKEPAFVTVPGNGFADPFSITPGIWVACIKAEGVLLDYLVLLPRDYYEASVLQLPVTEPCAYAGPPQENCLLYQHLPVTRFPCTLACEARHFLLDGEPRPVAVRQPTPAHPVMVDLSGREVELHLRLRIPQVGHYVVVVEYSTEAAQLFVVDVNVKSSGSVLAGQVNIYSCNYSVLCRSAVIDHMSRIAMYELLADADIQLKGHMARFLLHQVCIIPIEEFSAEYVRPQVHCIASYGRFVNQSATCVSLAHETPPTALILDVLSGRPFPHLPQQSSPSVDVLPGVTLKAPQNQVTLRGRVPHLGRYVFVIHFYQAAHPTFPAQVSVDGGWPRAGSFHASFCPHVLGCRDQVIAEGQIEFDISEPEVAATVKVPEGKSLVLVRVLVVPAENYDYQILHKKSMDKSLEFITNCGKNSFYLDPQTASRFCKNSARSLVAFYHKGALPCECHPTGATGPHCSPEGGQCPCQPNVIGRQCTRCATGHYGFPRCKPCSCGRRLCEEMTGQCRCPPRTVRPQCEVCETHSFSFHPMAGCEGCNCSRRGTIEAAMPECDRDSGQCRCKPRITGRQCDRCASGFYRFPECVPCNCNRDGTEPGVCDPGTGACLCKENVEGTECNVCREGSFHLDPANLKGCTSCFCFGVNNQCHSSHKRRTKFVDMLGWHLETADRVDIPVSFNPGSNSMVADLQELPATIHSASWVAPTSYLGDKVSSYGGYLTYQAKSFGLPGDMVLLEKKPDVQLTGQHMSIIYEETNTPRPDRLHHGRVHVVEGNFRHASSRAPVSREELMTVLSRLADVRIQGLYFTETQRLTLSEVGLEEASDTGSGRIALAVEICACPPAYAGDSCQGCSPGYYRDHKGLYTGRCVPCNCNGHSNQCQDGSGICVNCQHNTAGEHCERCQEGYYGNAVHGSCRACPCPHTNSFATGCVVNGGDVRCSCKAGYTGTQCERCAPGYFGNPQKFGGSCQPCSCNSNGQLGSCHPLTGDCINQEPKDSSPAEECDDCDSCVMTLLNDLATMGEQLRLVKSQLQGLSASAGLLEQMRHMETQAKDLRNQLLNYRSAISNHGSKIEGLERELTDLNQEFETLQEKAQVNSRKAQTLNNNVNRATQSAKELDVKIKNVIRNVHILLKQISGTDGEGNNVPSGDFSREWAEAQRMMRELRNRNFGKHLREAEADKRESQLLLNRIRTWQKTHQGENNGLANSIRDSLNEYEAKLSDLRARLQEAAAQAKQANGLNQENERALGAIQRQVKEINSLQSDFTKYLTTADSSLLQTNIALQLMEKSQKEYEKLAASLNEARQELSDKVRELSRSAGKTSLVEEAEKHARSLQELAKQLEEIKRNASGDELVRCAVDAATAYENILNAIKAAEDAANRAASASESALQTVIKEDLPRKAKTLSSNSDKLLNEAKMTQKKLKQEVSPALNNLQQTLNIVTVQKEVIDTNLTTLRDGLHGIQRGDIDAMISSAKSMVRKANDITDEVLDGLNPIQTDVERIKDTYGRTQNEDFKKALTDADNSVNKLTNKLPDLWRKIESINQQLLPLGNISDNMDRIRELIQQARDAASKVAVPMRFNGKSGVEVRLPNDLEDLKGYTSLSLFLQRPNSRENGGTENMFVMYLGNKDASRDYIGMAVVDGQLTCVYNLGDREAELQVDQILTKSETKEAVMDRVKFQRIYQFARLNYTKGATSSKPETPGVYDMDGRNSNTLLNLDPENVVFYVGGYPPDFKLPSRLSFPPYKGCIELDDLNENVLSLYNFKKTFNLNTTEVEPCRRRKEESDKNYFEGTGYARVPTQPHAPIPTFGQTIQTTVDRGLLFFAENGDRFISLNIEDGKLMVRYKLNSELPKERGVGDAINNGRDHSIQIKIGKLQKRMWINVDVQNTIIDGEVFDFSTYYLGGIPIAIRERFNISTPAFRGCMKNLKKTSGVVRLNDTVGVTKKCSEDWKLVRSASFSRGGQLSFTDLGLPPTDHLQASFGFQTFQPSGILLDHQTWTRNLQVTLEDGYIELSTSDSGSPIFKSPQTYMDGLLHYVSVISDNSGLRLLIDDQLLRNSKRLKHISSSRQSLRLGGSNFEGCISNVFVQRLSLSPEVLDLTSNSLKRDVSLGGCSLNKPPFLMLLKGSTRFNKTKTFRINQLLQDTPVASPRSVKVWQDACSPLPKTQANHGALQFGDIPTSHLLFKLPQELLKPRSQFAVDMQTTSSRGLVFHTGTKNSFMALYLSKGRLVFALGTDGKKLRIKSKEKCNDGKWHTVVFGHDGEKGRLVVDGLRAREGSLPGNSTISIRAPVYLGSPPSGKPKSLPTNSFVGCLKNFQLDSKPLYTPSSSFGVSSCLGGPLEKGIYFSEEGGHVVLAHSVLLGPEFKLVFSIRPRSLTGILIHIGSQPGKHLCVYLEAGKVTASMDSGAGGTSTSVTPKQSLCDGQWHSVAVTIKQHILHLELDTDSSYTAGQIPFPPASTQEPLHLGGAPANLTTLRIPVWKSFFGCLRNIHVNHIPVPVTEALEVQGPVSLNGCPDQ\n",
       "  pepseq      modified modification idFile                                 \n",
       "1 AHVETLR     FALSE    NA           20220202_PHCOQEHF_PC927-Rager_Set1.mzid\n",
       "2 TKDEPQRETLK FALSE    NA           20220202_PHCOQEHF_PC927-Rager_Set1.mzid\n",
       "3 KAQTLNNNVNR FALSE    NA           20220202_PHCOQEHF_PC927-Rager_Set1.mzid\n",
       "4 IEADQGAR    FALSE    NA           20220202_PHCOQEHF_PC927-Rager_Set1.mzid\n",
       "5 RDQALTEEHAR FALSE    NA           20220202_PHCOQEHF_PC927-Rager_Set1.mzid\n",
       "6 KAQTLNNNVNR FALSE    NA           20220202_PHCOQEHF_PC927-Rager_Set1.mzid\n",
       "  spectrumFile                                                                                                                                     \n",
       "1 C:\\\\Users\\\\Public\\\\Proteome Discoverer 2.5 Projects\\\\PC927-Rager_LFQ_DDA_PD2.5\\\\PC927-Rager_LFQ_Proteome\\\\20220202_PHCOQEHF_PC927-Rager_Set1.mzML\n",
       "2 C:\\\\Users\\\\Public\\\\Proteome Discoverer 2.5 Projects\\\\PC927-Rager_LFQ_DDA_PD2.5\\\\PC927-Rager_LFQ_Proteome\\\\20220202_PHCOQEHF_PC927-Rager_Set1.mzML\n",
       "3 C:\\\\Users\\\\Public\\\\Proteome Discoverer 2.5 Projects\\\\PC927-Rager_LFQ_DDA_PD2.5\\\\PC927-Rager_LFQ_Proteome\\\\20220202_PHCOQEHF_PC927-Rager_Set1.mzML\n",
       "4 C:\\\\Users\\\\Public\\\\Proteome Discoverer 2.5 Projects\\\\PC927-Rager_LFQ_DDA_PD2.5\\\\PC927-Rager_LFQ_Proteome\\\\20220202_PHCOQEHF_PC927-Rager_Set1.mzML\n",
       "5 C:\\\\Users\\\\Public\\\\Proteome Discoverer 2.5 Projects\\\\PC927-Rager_LFQ_DDA_PD2.5\\\\PC927-Rager_LFQ_Proteome\\\\20220202_PHCOQEHF_PC927-Rager_Set1.mzML\n",
       "6 C:\\\\Users\\\\Public\\\\Proteome Discoverer 2.5 Projects\\\\PC927-Rager_LFQ_DDA_PD2.5\\\\PC927-Rager_LFQ_Proteome\\\\20220202_PHCOQEHF_PC927-Rager_Set1.mzML\n",
       "  databaseFile\n",
       "1 C:\\\\        \n",
       "2 C:\\\\        \n",
       "3 C:\\\\        \n",
       "4 C:\\\\        \n",
       "5 C:\\\\        \n",
       "6 C:\\\\        "
      ]
     },
     "metadata": {},
     "output_type": "display_data"
    }
   ],
   "source": [
    "head(set1_mzid_file)"
   ]
  },
  {
   "cell_type": "code",
   "execution_count": 4,
   "id": "dedicated-indication",
   "metadata": {},
   "outputs": [
    {
     "data": {
      "text/html": [
       "<table class=\"dataframe\">\n",
       "<caption>A tibble: 6 × 4</caption>\n",
       "<thead>\n",
       "\t<tr><th scope=col>Protein</th><th scope=col>IDs_from_Core</th><th scope=col>Value</th><th scope=col>Set</th></tr>\n",
       "\t<tr><th scope=col>&lt;chr&gt;</th><th scope=col>&lt;chr&gt;</th><th scope=col>&lt;dbl&gt;</th><th scope=col>&lt;chr&gt;</th></tr>\n",
       "</thead>\n",
       "<tbody>\n",
       "\t<tr><td>P02769</td><td>Abundance..Pooled.1  </td><td>4.89e+11</td><td>Set1</td></tr>\n",
       "\t<tr><td>P02769</td><td>Abundance..Pooled.2  </td><td>4.43e+11</td><td>Set1</td></tr>\n",
       "\t<tr><td>P02769</td><td>Abundance..1..Vehicle</td><td>6.26e+11</td><td>Set1</td></tr>\n",
       "\t<tr><td>P02769</td><td>Abundance..3..Vehicle</td><td>4.38e+11</td><td>Set1</td></tr>\n",
       "\t<tr><td>P02769</td><td>Abundance..5..Vehicle</td><td>4.74e+11</td><td>Set1</td></tr>\n",
       "\t<tr><td>P02769</td><td>Abundance..7..Vehicle</td><td>3.40e+11</td><td>Set1</td></tr>\n",
       "</tbody>\n",
       "</table>\n"
      ],
      "text/latex": [
       "A tibble: 6 × 4\n",
       "\\begin{tabular}{llll}\n",
       " Protein & IDs\\_from\\_Core & Value & Set\\\\\n",
       " <chr> & <chr> & <dbl> & <chr>\\\\\n",
       "\\hline\n",
       "\t P02769 & Abundance..Pooled.1   & 4.89e+11 & Set1\\\\\n",
       "\t P02769 & Abundance..Pooled.2   & 4.43e+11 & Set1\\\\\n",
       "\t P02769 & Abundance..1..Vehicle & 6.26e+11 & Set1\\\\\n",
       "\t P02769 & Abundance..3..Vehicle & 4.38e+11 & Set1\\\\\n",
       "\t P02769 & Abundance..5..Vehicle & 4.74e+11 & Set1\\\\\n",
       "\t P02769 & Abundance..7..Vehicle & 3.40e+11 & Set1\\\\\n",
       "\\end{tabular}\n"
      ],
      "text/markdown": [
       "\n",
       "A tibble: 6 × 4\n",
       "\n",
       "| Protein &lt;chr&gt; | IDs_from_Core &lt;chr&gt; | Value &lt;dbl&gt; | Set &lt;chr&gt; |\n",
       "|---|---|---|---|\n",
       "| P02769 | Abundance..Pooled.1   | 4.89e+11 | Set1 |\n",
       "| P02769 | Abundance..Pooled.2   | 4.43e+11 | Set1 |\n",
       "| P02769 | Abundance..1..Vehicle | 6.26e+11 | Set1 |\n",
       "| P02769 | Abundance..3..Vehicle | 4.38e+11 | Set1 |\n",
       "| P02769 | Abundance..5..Vehicle | 4.74e+11 | Set1 |\n",
       "| P02769 | Abundance..7..Vehicle | 3.40e+11 | Set1 |\n",
       "\n"
      ],
      "text/plain": [
       "  Protein IDs_from_Core         Value    Set \n",
       "1 P02769  Abundance..Pooled.1   4.89e+11 Set1\n",
       "2 P02769  Abundance..Pooled.2   4.43e+11 Set1\n",
       "3 P02769  Abundance..1..Vehicle 6.26e+11 Set1\n",
       "4 P02769  Abundance..3..Vehicle 4.38e+11 Set1\n",
       "5 P02769  Abundance..5..Vehicle 4.74e+11 Set1\n",
       "6 P02769  Abundance..7..Vehicle 3.40e+11 Set1"
      ]
     },
     "metadata": {},
     "output_type": "display_data"
    }
   ],
   "source": [
    "#creating 1 proteome df\n",
    "set1_proteome_df = set1_proteome_df %>%\n",
    "    pivot_longer(cols = 2:15, names_to = \"IDs_from_Core\", values_to = \"Value\") %>%\n",
    "    mutate(Set = c(\"Set1\"))\n",
    "\n",
    "set2_proteome_df = set2_proteome_df %>%\n",
    "    pivot_longer(cols = 2:15, names_to = \"IDs_from_Core\", values_to = \"Value\") %>%\n",
    "    mutate(Set = c(\"Set2\"))\n",
    "\n",
    "proteome_df = rbind(set1_proteome_df, set2_proteome_df) %>%\n",
    "    rename(Protein = Accession)\n",
    "head(proteome_df)"
   ]
  },
  {
   "cell_type": "code",
   "execution_count": 5,
   "id": "arctic-nerve",
   "metadata": {},
   "outputs": [
    {
     "name": "stderr",
     "output_type": "stream",
     "text": [
      "\u001b[1m\u001b[22mJoining, by = c(\"IDs_from_Core\", \"Set\")\n"
     ]
    },
    {
     "data": {
      "text/html": [
       "<table class=\"dataframe\">\n",
       "<caption>A data.frame: 6 × 5</caption>\n",
       "<thead>\n",
       "\t<tr><th></th><th scope=col>ID</th><th scope=col>Set</th><th scope=col>Protein</th><th scope=col>Value</th><th scope=col>Treatment</th></tr>\n",
       "\t<tr><th></th><th scope=col>&lt;chr&gt;</th><th scope=col>&lt;chr&gt;</th><th scope=col>&lt;chr&gt;</th><th scope=col>&lt;dbl&gt;</th><th scope=col>&lt;chr&gt;</th></tr>\n",
       "</thead>\n",
       "<tbody>\n",
       "\t<tr><th scope=row>1</th><td>CoCulture_PooledSample1</td><td>Set1</td><td>P02769</td><td>4.89e+11</td><td>CoCulture_PooledSample</td></tr>\n",
       "\t<tr><th scope=row>2</th><td>CoCulture_PooledSample1</td><td>Set1</td><td>P02751</td><td>2.73e+11</td><td>CoCulture_PooledSample</td></tr>\n",
       "\t<tr><th scope=row>3</th><td>CoCulture_PooledSample1</td><td>Set1</td><td>P12763</td><td>2.63e+11</td><td>CoCulture_PooledSample</td></tr>\n",
       "\t<tr><th scope=row>4</th><td>CoCulture_PooledSample1</td><td>Set1</td><td>Q2UVX4</td><td>5.65e+10</td><td>CoCulture_PooledSample</td></tr>\n",
       "\t<tr><th scope=row>5</th><td>CoCulture_PooledSample1</td><td>Set1</td><td>P98160</td><td>2.27e+10</td><td>CoCulture_PooledSample</td></tr>\n",
       "\t<tr><th scope=row>6</th><td>CoCulture_PooledSample1</td><td>Set1</td><td>P12111</td><td>2.15e+10</td><td>CoCulture_PooledSample</td></tr>\n",
       "</tbody>\n",
       "</table>\n"
      ],
      "text/latex": [
       "A data.frame: 6 × 5\n",
       "\\begin{tabular}{r|lllll}\n",
       "  & ID & Set & Protein & Value & Treatment\\\\\n",
       "  & <chr> & <chr> & <chr> & <dbl> & <chr>\\\\\n",
       "\\hline\n",
       "\t1 & CoCulture\\_PooledSample1 & Set1 & P02769 & 4.89e+11 & CoCulture\\_PooledSample\\\\\n",
       "\t2 & CoCulture\\_PooledSample1 & Set1 & P02751 & 2.73e+11 & CoCulture\\_PooledSample\\\\\n",
       "\t3 & CoCulture\\_PooledSample1 & Set1 & P12763 & 2.63e+11 & CoCulture\\_PooledSample\\\\\n",
       "\t4 & CoCulture\\_PooledSample1 & Set1 & Q2UVX4 & 5.65e+10 & CoCulture\\_PooledSample\\\\\n",
       "\t5 & CoCulture\\_PooledSample1 & Set1 & P98160 & 2.27e+10 & CoCulture\\_PooledSample\\\\\n",
       "\t6 & CoCulture\\_PooledSample1 & Set1 & P12111 & 2.15e+10 & CoCulture\\_PooledSample\\\\\n",
       "\\end{tabular}\n"
      ],
      "text/markdown": [
       "\n",
       "A data.frame: 6 × 5\n",
       "\n",
       "| <!--/--> | ID &lt;chr&gt; | Set &lt;chr&gt; | Protein &lt;chr&gt; | Value &lt;dbl&gt; | Treatment &lt;chr&gt; |\n",
       "|---|---|---|---|---|---|\n",
       "| 1 | CoCulture_PooledSample1 | Set1 | P02769 | 4.89e+11 | CoCulture_PooledSample |\n",
       "| 2 | CoCulture_PooledSample1 | Set1 | P02751 | 2.73e+11 | CoCulture_PooledSample |\n",
       "| 3 | CoCulture_PooledSample1 | Set1 | P12763 | 2.63e+11 | CoCulture_PooledSample |\n",
       "| 4 | CoCulture_PooledSample1 | Set1 | Q2UVX4 | 5.65e+10 | CoCulture_PooledSample |\n",
       "| 5 | CoCulture_PooledSample1 | Set1 | P98160 | 2.27e+10 | CoCulture_PooledSample |\n",
       "| 6 | CoCulture_PooledSample1 | Set1 | P12111 | 2.15e+10 | CoCulture_PooledSample |\n",
       "\n"
      ],
      "text/plain": [
       "  ID                      Set  Protein Value    Treatment             \n",
       "1 CoCulture_PooledSample1 Set1 P02769  4.89e+11 CoCulture_PooledSample\n",
       "2 CoCulture_PooledSample1 Set1 P02751  2.73e+11 CoCulture_PooledSample\n",
       "3 CoCulture_PooledSample1 Set1 P12763  2.63e+11 CoCulture_PooledSample\n",
       "4 CoCulture_PooledSample1 Set1 Q2UVX4  5.65e+10 CoCulture_PooledSample\n",
       "5 CoCulture_PooledSample1 Set1 P98160  2.27e+10 CoCulture_PooledSample\n",
       "6 CoCulture_PooledSample1 Set1 P12111  2.15e+10 CoCulture_PooledSample"
      ]
     },
     "metadata": {},
     "output_type": "display_data"
    }
   ],
   "source": [
    "#adding in our own ids\n",
    "proteome_df = inner_join(identifiers_df, proteome_df) %>%\n",
    "    select(-IDs_from_Core) %>%\n",
    "    rename(ID = Our_Analysis_ID) %>%\n",
    "    #creating a col that denotes the general treatment to remove proteins within those treatment groups\n",
    "    mutate(Treatment = ifelse(grepl(\"CoCulture_PooledSample\", ID), \"CoCulture_PooledSample\",\n",
    "                             ifelse(grepl(\"CoCulture_Vehicle\", ID), \"CoCulture_Vehicle\",\n",
    "                                   ifelse(grepl(\"CoCulture_Exposed\", ID), \"CoCulture_Exposed\",\n",
    "                                         ifelse(grepl(\"TriCulture_PooledSample\", ID), \"TriCulture_PooledSample\",\n",
    "                                             ifelse(grepl(\"TriCulture_Vehicle\", ID), \"TriCulture_Vehicle\",\n",
    "                                                   ifelse(grepl(\"TriCulture_Exposed\", ID), \"TriCulture_Exposed\",\n",
    "                                         \n",
    "                                         NA)))))))\n",
    "head(proteome_df)"
   ]
  },
  {
   "cell_type": "markdown",
   "id": "initial-jesus",
   "metadata": {},
   "source": [
    "# 1. Peptide Normalization\n",
    "\n",
    "Normalize to total amount of peptide per sample: sum the abundance values for each sample, then calculate the median value across all of the summed abundance values, and calculate the ratio"
   ]
  },
  {
   "cell_type": "code",
   "execution_count": 6,
   "id": "quality-malta",
   "metadata": {},
   "outputs": [
    {
     "data": {
      "text/html": [
       "<table class=\"dataframe\">\n",
       "<caption>A grouped_df: 6 × 6</caption>\n",
       "<thead>\n",
       "\t<tr><th scope=col>ID</th><th scope=col>Set</th><th scope=col>Protein</th><th scope=col>Value</th><th scope=col>Treatment</th><th scope=col>Norm_Value</th></tr>\n",
       "\t<tr><th scope=col>&lt;chr&gt;</th><th scope=col>&lt;chr&gt;</th><th scope=col>&lt;chr&gt;</th><th scope=col>&lt;dbl&gt;</th><th scope=col>&lt;chr&gt;</th><th scope=col>&lt;dbl&gt;</th></tr>\n",
       "</thead>\n",
       "<tbody>\n",
       "\t<tr><td>CoCulture_PooledSample1</td><td>Set1</td><td>P02769</td><td>4.89e+11</td><td>CoCulture_PooledSample</td><td>430002659858</td></tr>\n",
       "\t<tr><td>CoCulture_PooledSample1</td><td>Set1</td><td>P02751</td><td>2.73e+11</td><td>CoCulture_PooledSample</td><td>240062834645</td></tr>\n",
       "\t<tr><td>CoCulture_PooledSample1</td><td>Set1</td><td>P12763</td><td>2.63e+11</td><td>CoCulture_PooledSample</td><td>231269324218</td></tr>\n",
       "\t<tr><td>CoCulture_PooledSample1</td><td>Set1</td><td>Q2UVX4</td><td>5.65e+10</td><td>CoCulture_PooledSample</td><td> 49683333910</td></tr>\n",
       "\t<tr><td>CoCulture_PooledSample1</td><td>Set1</td><td>P98160</td><td>2.27e+10</td><td>CoCulture_PooledSample</td><td> 19961268668</td></tr>\n",
       "\t<tr><td>CoCulture_PooledSample1</td><td>Set1</td><td>P12111</td><td>2.15e+10</td><td>CoCulture_PooledSample</td><td> 18906047417</td></tr>\n",
       "</tbody>\n",
       "</table>\n"
      ],
      "text/latex": [
       "A grouped\\_df: 6 × 6\n",
       "\\begin{tabular}{llllll}\n",
       " ID & Set & Protein & Value & Treatment & Norm\\_Value\\\\\n",
       " <chr> & <chr> & <chr> & <dbl> & <chr> & <dbl>\\\\\n",
       "\\hline\n",
       "\t CoCulture\\_PooledSample1 & Set1 & P02769 & 4.89e+11 & CoCulture\\_PooledSample & 430002659858\\\\\n",
       "\t CoCulture\\_PooledSample1 & Set1 & P02751 & 2.73e+11 & CoCulture\\_PooledSample & 240062834645\\\\\n",
       "\t CoCulture\\_PooledSample1 & Set1 & P12763 & 2.63e+11 & CoCulture\\_PooledSample & 231269324218\\\\\n",
       "\t CoCulture\\_PooledSample1 & Set1 & Q2UVX4 & 5.65e+10 & CoCulture\\_PooledSample &  49683333910\\\\\n",
       "\t CoCulture\\_PooledSample1 & Set1 & P98160 & 2.27e+10 & CoCulture\\_PooledSample &  19961268668\\\\\n",
       "\t CoCulture\\_PooledSample1 & Set1 & P12111 & 2.15e+10 & CoCulture\\_PooledSample &  18906047417\\\\\n",
       "\\end{tabular}\n"
      ],
      "text/markdown": [
       "\n",
       "A grouped_df: 6 × 6\n",
       "\n",
       "| ID &lt;chr&gt; | Set &lt;chr&gt; | Protein &lt;chr&gt; | Value &lt;dbl&gt; | Treatment &lt;chr&gt; | Norm_Value &lt;dbl&gt; |\n",
       "|---|---|---|---|---|---|\n",
       "| CoCulture_PooledSample1 | Set1 | P02769 | 4.89e+11 | CoCulture_PooledSample | 430002659858 |\n",
       "| CoCulture_PooledSample1 | Set1 | P02751 | 2.73e+11 | CoCulture_PooledSample | 240062834645 |\n",
       "| CoCulture_PooledSample1 | Set1 | P12763 | 2.63e+11 | CoCulture_PooledSample | 231269324218 |\n",
       "| CoCulture_PooledSample1 | Set1 | Q2UVX4 | 5.65e+10 | CoCulture_PooledSample |  49683333910 |\n",
       "| CoCulture_PooledSample1 | Set1 | P98160 | 2.27e+10 | CoCulture_PooledSample |  19961268668 |\n",
       "| CoCulture_PooledSample1 | Set1 | P12111 | 2.15e+10 | CoCulture_PooledSample |  18906047417 |\n",
       "\n"
      ],
      "text/plain": [
       "  ID                      Set  Protein Value    Treatment             \n",
       "1 CoCulture_PooledSample1 Set1 P02769  4.89e+11 CoCulture_PooledSample\n",
       "2 CoCulture_PooledSample1 Set1 P02751  2.73e+11 CoCulture_PooledSample\n",
       "3 CoCulture_PooledSample1 Set1 P12763  2.63e+11 CoCulture_PooledSample\n",
       "4 CoCulture_PooledSample1 Set1 Q2UVX4  5.65e+10 CoCulture_PooledSample\n",
       "5 CoCulture_PooledSample1 Set1 P98160  2.27e+10 CoCulture_PooledSample\n",
       "6 CoCulture_PooledSample1 Set1 P12111  2.15e+10 CoCulture_PooledSample\n",
       "  Norm_Value  \n",
       "1 430002659858\n",
       "2 240062834645\n",
       "3 231269324218\n",
       "4  49683333910\n",
       "5  19961268668\n",
       "6  18906047417"
      ]
     },
     "metadata": {},
     "output_type": "display_data"
    }
   ],
   "source": [
    "normalized_df = proteome_df %>%\n",
    "    group_by(Set, ID) %>%\n",
    "    #removing missing data\n",
    "    drop_na() %>%\n",
    "    mutate(Summed_Value = sum(Value)) %>%\n",
    "    #calculating median across all samples but still within each set\n",
    "    ungroup() %>%\n",
    "    group_by(Set) %>%\n",
    "    mutate(Median_of_Sum = median(Summed_Value), Norm_Factor = Summed_Value/ Median_of_Sum, \n",
    "           Norm_Value = Value/Norm_Factor) %>%\n",
    "    select(-c(\"Summed_Value\", \"Median_of_Sum\", \"Norm_Factor\"))\n",
    "head(normalized_df)"
   ]
  },
  {
   "cell_type": "markdown",
   "id": "adolescent-registration",
   "metadata": {},
   "source": [
    "I'm getting values on the same order of magnitude, but not exactly the same as those from Proteome Discoverer."
   ]
  },
  {
   "cell_type": "markdown",
   "id": "cutting-serbia",
   "metadata": {},
   "source": [
    "# 2. Detection Filters (Round 1)\n",
    "\n",
    "1% peptide/ 5% protein FDR, \n",
    "- retain proteins that were identified by at least 2 peptides"
   ]
  },
  {
   "cell_type": "code",
   "execution_count": null,
   "id": "similar-responsibility",
   "metadata": {},
   "outputs": [],
   "source": []
  },
  {
   "cell_type": "markdown",
   "id": "hispanic-tower",
   "metadata": {},
   "source": [
    "# 3. Log2 Transformation\n",
    "\n",
    "Did this step later in the imputation functions. "
   ]
  },
  {
   "cell_type": "markdown",
   "id": "broad-garage",
   "metadata": {},
   "source": [
    "# 4. Detection Filters (Round 2)\n",
    "\n",
    "Filter rows based on valid values: 50 % valid in at least one treatment group (i.e. proteins with values observed in fewer than 50% of replicates (here, 3 reps) in at least 1 condition were eliminated from the data set) "
   ]
  },
  {
   "cell_type": "code",
   "execution_count": 7,
   "id": "alert-blame",
   "metadata": {},
   "outputs": [
    {
     "name": "stderr",
     "output_type": "stream",
     "text": [
      "\u001b[1m\u001b[22m`summarise()` has grouped output by 'Set', 'Treatment'. You can override using\n",
      "the `.groups` argument.\n"
     ]
    },
    {
     "data": {
      "text/html": [
       "<table class=\"dataframe\">\n",
       "<caption>A grouped_df: 6 × 4</caption>\n",
       "<thead>\n",
       "\t<tr><th scope=col>Set</th><th scope=col>Tx</th><th scope=col>Protein</th><th scope=col>Protein_Presence</th></tr>\n",
       "\t<tr><th scope=col>&lt;chr&gt;</th><th scope=col>&lt;chr&gt;</th><th scope=col>&lt;chr&gt;</th><th scope=col>&lt;dbl&gt;</th></tr>\n",
       "</thead>\n",
       "<tbody>\n",
       "\t<tr><td>Set1</td><td>CoCulture</td><td>O00142</td><td>0</td></tr>\n",
       "\t<tr><td>Set1</td><td>CoCulture</td><td>O00571</td><td>0</td></tr>\n",
       "\t<tr><td>Set1</td><td>CoCulture</td><td>O00629</td><td>0</td></tr>\n",
       "\t<tr><td>Set1</td><td>CoCulture</td><td>O15231</td><td>0</td></tr>\n",
       "\t<tr><td>Set1</td><td>CoCulture</td><td>O43405</td><td>0</td></tr>\n",
       "\t<tr><td>Set1</td><td>CoCulture</td><td>O43488</td><td>0</td></tr>\n",
       "</tbody>\n",
       "</table>\n"
      ],
      "text/latex": [
       "A grouped\\_df: 6 × 4\n",
       "\\begin{tabular}{llll}\n",
       " Set & Tx & Protein & Protein\\_Presence\\\\\n",
       " <chr> & <chr> & <chr> & <dbl>\\\\\n",
       "\\hline\n",
       "\t Set1 & CoCulture & O00142 & 0\\\\\n",
       "\t Set1 & CoCulture & O00571 & 0\\\\\n",
       "\t Set1 & CoCulture & O00629 & 0\\\\\n",
       "\t Set1 & CoCulture & O15231 & 0\\\\\n",
       "\t Set1 & CoCulture & O43405 & 0\\\\\n",
       "\t Set1 & CoCulture & O43488 & 0\\\\\n",
       "\\end{tabular}\n"
      ],
      "text/markdown": [
       "\n",
       "A grouped_df: 6 × 4\n",
       "\n",
       "| Set &lt;chr&gt; | Tx &lt;chr&gt; | Protein &lt;chr&gt; | Protein_Presence &lt;dbl&gt; |\n",
       "|---|---|---|---|\n",
       "| Set1 | CoCulture | O00142 | 0 |\n",
       "| Set1 | CoCulture | O00571 | 0 |\n",
       "| Set1 | CoCulture | O00629 | 0 |\n",
       "| Set1 | CoCulture | O15231 | 0 |\n",
       "| Set1 | CoCulture | O43405 | 0 |\n",
       "| Set1 | CoCulture | O43488 | 0 |\n",
       "\n"
      ],
      "text/plain": [
       "  Set  Tx        Protein Protein_Presence\n",
       "1 Set1 CoCulture O00142  0               \n",
       "2 Set1 CoCulture O00571  0               \n",
       "3 Set1 CoCulture O00629  0               \n",
       "4 Set1 CoCulture O15231  0               \n",
       "5 Set1 CoCulture O43405  0               \n",
       "6 Set1 CoCulture O43488  0               "
      ]
     },
     "metadata": {},
     "output_type": "display_data"
    },
    {
     "data": {
      "text/html": [
       "453"
      ],
      "text/latex": [
       "453"
      ],
      "text/markdown": [
       "453"
      ],
      "text/plain": [
       "[1] 453"
      ]
     },
     "metadata": {},
     "output_type": "display_data"
    }
   ],
   "source": [
    "removed_proteins_df = proteome_df %>%\n",
    "    #creating 2 count cols: 1st for non-missing data, 2nd for all data\n",
    "    mutate(data_count = ifelse(is.na(Value), 0, 1), all_count = 1) %>%\n",
    "    group_by(Set, Treatment, Protein) %>%\n",
    "    summarize(Protein_Presence = sum(data_count)/ sum(all_count) * 100) %>%\n",
    "    filter(Protein_Presence < 50) %>%\n",
    "    arrange(Protein_Presence) %>%\n",
    "    #just want a column that specifies the treatment and exposure separately to more easily remove proteins later\n",
    "    separate(Treatment, c(\"Tx\", \"Exposure\"), sep = \"_\") %>%\n",
    "    select(-Exposure)\n",
    "\n",
    "head(removed_proteins_df)\n",
    "\n",
    "removed_proteins = unique(removed_proteins_df$Protein)\n",
    "#number of proteins removed\n",
    "length(removed_proteins)"
   ]
  },
  {
   "cell_type": "code",
   "execution_count": 8,
   "id": "62e8680d",
   "metadata": {},
   "outputs": [
    {
     "name": "stderr",
     "output_type": "stream",
     "text": [
      "\u001b[1m\u001b[22mJoining, by = c(\"Set\", \"Protein\", \"Tx\")\n"
     ]
    },
    {
     "data": {
      "text/html": [
       "<table class=\"dataframe\">\n",
       "<caption>A grouped_df: 6 × 8</caption>\n",
       "<thead>\n",
       "\t<tr><th scope=col>ID</th><th scope=col>Set</th><th scope=col>Protein</th><th scope=col>Value</th><th scope=col>Treatment</th><th scope=col>Norm_Value</th><th scope=col>Tx</th><th scope=col>Exposure</th></tr>\n",
       "\t<tr><th scope=col>&lt;chr&gt;</th><th scope=col>&lt;chr&gt;</th><th scope=col>&lt;chr&gt;</th><th scope=col>&lt;dbl&gt;</th><th scope=col>&lt;chr&gt;</th><th scope=col>&lt;dbl&gt;</th><th scope=col>&lt;chr&gt;</th><th scope=col>&lt;chr&gt;</th></tr>\n",
       "</thead>\n",
       "<tbody>\n",
       "\t<tr><td>CoCulture_PooledSample1</td><td>Set1</td><td>P02769</td><td>4.89e+11</td><td>CoCulture_PooledSample</td><td>430002659858</td><td>CoCulture</td><td>PooledSample</td></tr>\n",
       "\t<tr><td>CoCulture_PooledSample1</td><td>Set1</td><td>P02751</td><td>2.73e+11</td><td>CoCulture_PooledSample</td><td>240062834645</td><td>CoCulture</td><td>PooledSample</td></tr>\n",
       "\t<tr><td>CoCulture_PooledSample1</td><td>Set1</td><td>P12763</td><td>2.63e+11</td><td>CoCulture_PooledSample</td><td>231269324218</td><td>CoCulture</td><td>PooledSample</td></tr>\n",
       "\t<tr><td>CoCulture_PooledSample1</td><td>Set1</td><td>Q2UVX4</td><td>5.65e+10</td><td>CoCulture_PooledSample</td><td> 49683333910</td><td>CoCulture</td><td>PooledSample</td></tr>\n",
       "\t<tr><td>CoCulture_PooledSample1</td><td>Set1</td><td>P98160</td><td>2.27e+10</td><td>CoCulture_PooledSample</td><td> 19961268668</td><td>CoCulture</td><td>PooledSample</td></tr>\n",
       "\t<tr><td>CoCulture_PooledSample1</td><td>Set1</td><td>P12111</td><td>2.15e+10</td><td>CoCulture_PooledSample</td><td> 18906047417</td><td>CoCulture</td><td>PooledSample</td></tr>\n",
       "</tbody>\n",
       "</table>\n"
      ],
      "text/latex": [
       "A grouped\\_df: 6 × 8\n",
       "\\begin{tabular}{llllllll}\n",
       " ID & Set & Protein & Value & Treatment & Norm\\_Value & Tx & Exposure\\\\\n",
       " <chr> & <chr> & <chr> & <dbl> & <chr> & <dbl> & <chr> & <chr>\\\\\n",
       "\\hline\n",
       "\t CoCulture\\_PooledSample1 & Set1 & P02769 & 4.89e+11 & CoCulture\\_PooledSample & 430002659858 & CoCulture & PooledSample\\\\\n",
       "\t CoCulture\\_PooledSample1 & Set1 & P02751 & 2.73e+11 & CoCulture\\_PooledSample & 240062834645 & CoCulture & PooledSample\\\\\n",
       "\t CoCulture\\_PooledSample1 & Set1 & P12763 & 2.63e+11 & CoCulture\\_PooledSample & 231269324218 & CoCulture & PooledSample\\\\\n",
       "\t CoCulture\\_PooledSample1 & Set1 & Q2UVX4 & 5.65e+10 & CoCulture\\_PooledSample &  49683333910 & CoCulture & PooledSample\\\\\n",
       "\t CoCulture\\_PooledSample1 & Set1 & P98160 & 2.27e+10 & CoCulture\\_PooledSample &  19961268668 & CoCulture & PooledSample\\\\\n",
       "\t CoCulture\\_PooledSample1 & Set1 & P12111 & 2.15e+10 & CoCulture\\_PooledSample &  18906047417 & CoCulture & PooledSample\\\\\n",
       "\\end{tabular}\n"
      ],
      "text/markdown": [
       "\n",
       "A grouped_df: 6 × 8\n",
       "\n",
       "| ID &lt;chr&gt; | Set &lt;chr&gt; | Protein &lt;chr&gt; | Value &lt;dbl&gt; | Treatment &lt;chr&gt; | Norm_Value &lt;dbl&gt; | Tx &lt;chr&gt; | Exposure &lt;chr&gt; |\n",
       "|---|---|---|---|---|---|---|---|\n",
       "| CoCulture_PooledSample1 | Set1 | P02769 | 4.89e+11 | CoCulture_PooledSample | 430002659858 | CoCulture | PooledSample |\n",
       "| CoCulture_PooledSample1 | Set1 | P02751 | 2.73e+11 | CoCulture_PooledSample | 240062834645 | CoCulture | PooledSample |\n",
       "| CoCulture_PooledSample1 | Set1 | P12763 | 2.63e+11 | CoCulture_PooledSample | 231269324218 | CoCulture | PooledSample |\n",
       "| CoCulture_PooledSample1 | Set1 | Q2UVX4 | 5.65e+10 | CoCulture_PooledSample |  49683333910 | CoCulture | PooledSample |\n",
       "| CoCulture_PooledSample1 | Set1 | P98160 | 2.27e+10 | CoCulture_PooledSample |  19961268668 | CoCulture | PooledSample |\n",
       "| CoCulture_PooledSample1 | Set1 | P12111 | 2.15e+10 | CoCulture_PooledSample |  18906047417 | CoCulture | PooledSample |\n",
       "\n"
      ],
      "text/plain": [
       "  ID                      Set  Protein Value    Treatment             \n",
       "1 CoCulture_PooledSample1 Set1 P02769  4.89e+11 CoCulture_PooledSample\n",
       "2 CoCulture_PooledSample1 Set1 P02751  2.73e+11 CoCulture_PooledSample\n",
       "3 CoCulture_PooledSample1 Set1 P12763  2.63e+11 CoCulture_PooledSample\n",
       "4 CoCulture_PooledSample1 Set1 Q2UVX4  5.65e+10 CoCulture_PooledSample\n",
       "5 CoCulture_PooledSample1 Set1 P98160  2.27e+10 CoCulture_PooledSample\n",
       "6 CoCulture_PooledSample1 Set1 P12111  2.15e+10 CoCulture_PooledSample\n",
       "  Norm_Value   Tx        Exposure    \n",
       "1 430002659858 CoCulture PooledSample\n",
       "2 240062834645 CoCulture PooledSample\n",
       "3 231269324218 CoCulture PooledSample\n",
       "4  49683333910 CoCulture PooledSample\n",
       "5  19961268668 CoCulture PooledSample\n",
       "6  18906047417 CoCulture PooledSample"
      ]
     },
     "metadata": {},
     "output_type": "display_data"
    },
    {
     "data": {
      "text/html": [
       "1923"
      ],
      "text/latex": [
       "1923"
      ],
      "text/markdown": [
       "1923"
      ],
      "text/plain": [
       "[1] 1923"
      ]
     },
     "metadata": {},
     "output_type": "display_data"
    }
   ],
   "source": [
    "# removing those 453 proteins from the entire dataset (but within each set)\n",
    "\n",
    "#modifying cols of normalized df\n",
    "normalized_df = normalized_df %>%\n",
    "    mutate(Tx = Treatment) %>%    \n",
    "    separate(Tx, c(\"Tx\", \"Exposure\"), sep = \"_\")\n",
    "\n",
    "#finding proteins that exist only in the normalized_df but not the removed proteins_df\n",
    "detection_filter_2_df = anti_join(normalized_df, removed_proteins_df)\n",
    "head(detection_filter_2_df)\n",
    "\n",
    "#number of proteins kept\n",
    "length(unique(detection_filter_2_df$Protein))"
   ]
  },
  {
   "cell_type": "markdown",
   "id": "acting-pasta",
   "metadata": {},
   "source": [
    "# 5. QRILC Imputation\n",
    "\n",
    "QRILC replaces data with left-censored data from a Gaussian distribution. "
   ]
  },
  {
   "cell_type": "code",
   "execution_count": 10,
   "id": "023af6cc",
   "metadata": {},
   "outputs": [
    {
     "name": "stderr",
     "output_type": "stream",
     "text": [
      "\u001b[1m\u001b[22mJoining, by = c(\"Set\", \"Protein\")\n",
      "\u001b[1m\u001b[22mJoining, by = c(\"ID\", \"Set\", \"Protein\", \"Value\", \"Treatment\", \"Norm_Value\")\n"
     ]
    },
    {
     "data": {
      "text/html": [
       "<table class=\"dataframe\">\n",
       "<caption>A data.frame: 6 × 6</caption>\n",
       "<thead>\n",
       "\t<tr><th></th><th scope=col>ID</th><th scope=col>Set</th><th scope=col>Treatment</th><th scope=col>Protein</th><th scope=col>Value</th><th scope=col>Norm_Value</th></tr>\n",
       "\t<tr><th></th><th scope=col>&lt;chr&gt;</th><th scope=col>&lt;chr&gt;</th><th scope=col>&lt;chr&gt;</th><th scope=col>&lt;chr&gt;</th><th scope=col>&lt;dbl&gt;</th><th scope=col>&lt;dbl&gt;</th></tr>\n",
       "</thead>\n",
       "<tbody>\n",
       "\t<tr><th scope=row>1</th><td>CoCulture_PooledSample1</td><td>Set1</td><td>CoCulture_PooledSample</td><td>H-INV:HIT000292931</td><td>NA</td><td>NA</td></tr>\n",
       "\t<tr><th scope=row>2</th><td>CoCulture_PooledSample1</td><td>Set1</td><td>CoCulture_PooledSample</td><td>Q6NT21            </td><td>NA</td><td>NA</td></tr>\n",
       "\t<tr><th scope=row>3</th><td>CoCulture_PooledSample1</td><td>Set1</td><td>CoCulture_PooledSample</td><td>P19012            </td><td>NA</td><td>NA</td></tr>\n",
       "\t<tr><th scope=row>4</th><td>CoCulture_PooledSample1</td><td>Set1</td><td>CoCulture_PooledSample</td><td>O43897            </td><td>NA</td><td>NA</td></tr>\n",
       "\t<tr><th scope=row>5</th><td>CoCulture_PooledSample1</td><td>Set1</td><td>CoCulture_PooledSample</td><td>Q15435            </td><td>NA</td><td>NA</td></tr>\n",
       "\t<tr><th scope=row>6</th><td>CoCulture_PooledSample1</td><td>Set1</td><td>CoCulture_PooledSample</td><td>Q07092            </td><td>NA</td><td>NA</td></tr>\n",
       "</tbody>\n",
       "</table>\n"
      ],
      "text/latex": [
       "A data.frame: 6 × 6\n",
       "\\begin{tabular}{r|llllll}\n",
       "  & ID & Set & Treatment & Protein & Value & Norm\\_Value\\\\\n",
       "  & <chr> & <chr> & <chr> & <chr> & <dbl> & <dbl>\\\\\n",
       "\\hline\n",
       "\t1 & CoCulture\\_PooledSample1 & Set1 & CoCulture\\_PooledSample & H-INV:HIT000292931 & NA & NA\\\\\n",
       "\t2 & CoCulture\\_PooledSample1 & Set1 & CoCulture\\_PooledSample & Q6NT21             & NA & NA\\\\\n",
       "\t3 & CoCulture\\_PooledSample1 & Set1 & CoCulture\\_PooledSample & P19012             & NA & NA\\\\\n",
       "\t4 & CoCulture\\_PooledSample1 & Set1 & CoCulture\\_PooledSample & O43897             & NA & NA\\\\\n",
       "\t5 & CoCulture\\_PooledSample1 & Set1 & CoCulture\\_PooledSample & Q15435             & NA & NA\\\\\n",
       "\t6 & CoCulture\\_PooledSample1 & Set1 & CoCulture\\_PooledSample & Q07092             & NA & NA\\\\\n",
       "\\end{tabular}\n"
      ],
      "text/markdown": [
       "\n",
       "A data.frame: 6 × 6\n",
       "\n",
       "| <!--/--> | ID &lt;chr&gt; | Set &lt;chr&gt; | Treatment &lt;chr&gt; | Protein &lt;chr&gt; | Value &lt;dbl&gt; | Norm_Value &lt;dbl&gt; |\n",
       "|---|---|---|---|---|---|---|\n",
       "| 1 | CoCulture_PooledSample1 | Set1 | CoCulture_PooledSample | H-INV:HIT000292931 | NA | NA |\n",
       "| 2 | CoCulture_PooledSample1 | Set1 | CoCulture_PooledSample | Q6NT21             | NA | NA |\n",
       "| 3 | CoCulture_PooledSample1 | Set1 | CoCulture_PooledSample | P19012             | NA | NA |\n",
       "| 4 | CoCulture_PooledSample1 | Set1 | CoCulture_PooledSample | O43897             | NA | NA |\n",
       "| 5 | CoCulture_PooledSample1 | Set1 | CoCulture_PooledSample | Q15435             | NA | NA |\n",
       "| 6 | CoCulture_PooledSample1 | Set1 | CoCulture_PooledSample | Q07092             | NA | NA |\n",
       "\n"
      ],
      "text/plain": [
       "  ID                      Set  Treatment              Protein            Value\n",
       "1 CoCulture_PooledSample1 Set1 CoCulture_PooledSample H-INV:HIT000292931 NA   \n",
       "2 CoCulture_PooledSample1 Set1 CoCulture_PooledSample Q6NT21             NA   \n",
       "3 CoCulture_PooledSample1 Set1 CoCulture_PooledSample P19012             NA   \n",
       "4 CoCulture_PooledSample1 Set1 CoCulture_PooledSample O43897             NA   \n",
       "5 CoCulture_PooledSample1 Set1 CoCulture_PooledSample Q15435             NA   \n",
       "6 CoCulture_PooledSample1 Set1 CoCulture_PooledSample Q07092             NA   \n",
       "  Norm_Value\n",
       "1 NA        \n",
       "2 NA        \n",
       "3 NA        \n",
       "4 NA        \n",
       "5 NA        \n",
       "6 NA        "
      ]
     },
     "metadata": {},
     "output_type": "display_data"
    }
   ],
   "source": [
    "# all the missing data was removed for the peptide normalization step, but we need to get that missing data back \n",
    "# since that's the data that will be imputed\n",
    "\n",
    "#first removing proteins that didn't pass the second background filter\n",
    "missing_data_df = anti_join(proteome_df, removed_proteins_df) %>%\n",
    "    #now only keeping missing data \n",
    "    #for some reason this protein had 2 entries, so removing the entries with all the missing data\n",
    "    filter(is.na(Value), Protein != \"P08727\")\n",
    "\n",
    "preimputed_df = full_join(missing_data_df %>%\n",
    "                          mutate(Norm_Value = NA), detection_filter_2_df)\n",
    "\n",
    "#changing col order to make later steps easier\n",
    "preimputed_df = preimputed_df[,c(1,2,5,3,4,6)]\n",
    "\n",
    "head(preimputed_df)"
   ]
  },
  {
   "cell_type": "code",
   "execution_count": 11,
   "id": "3fa83c93",
   "metadata": {},
   "outputs": [],
   "source": [
    "#first splitting df to impute within set and treatment (not imputing pooled treatment groups)\n",
    "preimputed_df_split = preimputed_df %>%\n",
    "    group_by(Set, Treatment) %>%\n",
    "    group_split()\n",
    "\n",
    "coculutre_exp_preimputed_df = preimputed_df_split[[1]]\n",
    "coculutre_pooled_preimputed_df = preimputed_df_split[[2]]\n",
    "coculutre_vehicleCT_preimputed_df = preimputed_df_split[[3]] %>%\n",
    "    #for some reason this protein had another duplicate value, so removing it here\n",
    "    filter(Protein != \"P08727\" | Value != 17368304)\n",
    "triculutre_exp_preimputed_df = preimputed_df_split[[4]]\n",
    "triculutre_pooled_preimputed_df = preimputed_df_split[[5]]\n",
    "triculutre_vehicleCT_preimputed_df = preimputed_df_split[[6]]"
   ]
  },
  {
   "cell_type": "code",
   "execution_count": 12,
   "id": "55752e72",
   "metadata": {},
   "outputs": [],
   "source": [
    "# QRILC\n",
    "QRILC_imputation = function(dataset){\n",
    "    wider_dataset = dataset %>%\n",
    "        select(-c(\"Set\", \"Value\", \"Treatment\")) %>%\n",
    "        pivot_wider(names_from = Protein, values_from = Norm_Value) %>%\n",
    "        select(-ID)\n",
    "    \n",
    "    #normalizing data since that's what the QRILC function wants\n",
    "    QRILC_prep = wider_dataset %>%\n",
    "         mutate_all(., function(x) log2(x)) %>%\n",
    "         as.matrix()\n",
    "\n",
    "    imputed_QRILC_object = impute.QRILC(QRILC_prep, tune.sigma = 0.1)\n",
    "    QRILC_log2_df = data.frame(imputed_QRILC_object[1]) \n",
    "    \n",
    "    #converting back the original scale\n",
    "    QRILC_df = QRILC_log2_df %>%\n",
    "        mutate_all(., function(x) 2^x - 1)\n",
    "            \n",
    "    #adding back in ID, Tx, and Set columns\n",
    "    final_pivoted_column_number = dim(QRILC_df)[2] + 3\n",
    "    imputed_dataset = data.frame(cbind(dataset[1:6,1:3], QRILC_df)) %>%\n",
    "        pivot_longer(cols = 4:all_of(final_pivoted_column_number), names_to = \"Protein\", values_to = \"Value\")\n",
    "    \n",
    "    return(imputed_dataset)\n",
    "}\n",
    "\n",
    "# calling fn\n",
    "coculutre_exp_imputed_df = QRILC_imputation(coculutre_exp_preimputed_df)\n",
    "#coculutre_pooled_imputed_df = QRILC_imputation(coculutre_pooled_preimputed_df)\n",
    "coculutre_vehicleCT_imputed_df = QRILC_imputation(coculutre_vehicleCT_preimputed_df)\n",
    "triculutre_exp_imputed_df = QRILC_imputation(triculutre_exp_preimputed_df)\n",
    "#triculutre_pooled_imputed_df = QRILC_imputation(triculutre_pooled_preimputed_df)\n",
    "triculutre_vehicleCT_imputed_df = QRILC_imputation(triculutre_vehicleCT_preimputed_df)"
   ]
  },
  {
   "cell_type": "code",
   "execution_count": 13,
   "id": "373e4b8b",
   "metadata": {},
   "outputs": [
    {
     "data": {
      "text/html": [
       "<table class=\"dataframe\">\n",
       "<caption>A tibble: 6 × 5</caption>\n",
       "<thead>\n",
       "\t<tr><th scope=col>ID</th><th scope=col>Set</th><th scope=col>Treatment</th><th scope=col>Protein</th><th scope=col>Value</th></tr>\n",
       "\t<tr><th scope=col>&lt;chr&gt;</th><th scope=col>&lt;chr&gt;</th><th scope=col>&lt;chr&gt;</th><th scope=col>&lt;chr&gt;</th><th scope=col>&lt;dbl&gt;</th></tr>\n",
       "</thead>\n",
       "<tbody>\n",
       "\t<tr><td>CoCulture_Exposed1</td><td>Set1</td><td>CoCulture_Exposed</td><td>P19012</td><td> 476617.6</td></tr>\n",
       "\t<tr><td>CoCulture_Exposed1</td><td>Set1</td><td>CoCulture_Exposed</td><td>P19013</td><td>1077007.5</td></tr>\n",
       "\t<tr><td>CoCulture_Exposed1</td><td>Set1</td><td>CoCulture_Exposed</td><td>O43897</td><td>2245997.6</td></tr>\n",
       "\t<tr><td>CoCulture_Exposed1</td><td>Set1</td><td>CoCulture_Exposed</td><td>P20700</td><td>2388716.6</td></tr>\n",
       "\t<tr><td>CoCulture_Exposed1</td><td>Set1</td><td>CoCulture_Exposed</td><td>P22102</td><td>1790626.6</td></tr>\n",
       "\t<tr><td>CoCulture_Exposed1</td><td>Set1</td><td>CoCulture_Exposed</td><td>O75367</td><td> 874143.2</td></tr>\n",
       "</tbody>\n",
       "</table>\n"
      ],
      "text/latex": [
       "A tibble: 6 × 5\n",
       "\\begin{tabular}{lllll}\n",
       " ID & Set & Treatment & Protein & Value\\\\\n",
       " <chr> & <chr> & <chr> & <chr> & <dbl>\\\\\n",
       "\\hline\n",
       "\t CoCulture\\_Exposed1 & Set1 & CoCulture\\_Exposed & P19012 &  476617.6\\\\\n",
       "\t CoCulture\\_Exposed1 & Set1 & CoCulture\\_Exposed & P19013 & 1077007.5\\\\\n",
       "\t CoCulture\\_Exposed1 & Set1 & CoCulture\\_Exposed & O43897 & 2245997.6\\\\\n",
       "\t CoCulture\\_Exposed1 & Set1 & CoCulture\\_Exposed & P20700 & 2388716.6\\\\\n",
       "\t CoCulture\\_Exposed1 & Set1 & CoCulture\\_Exposed & P22102 & 1790626.6\\\\\n",
       "\t CoCulture\\_Exposed1 & Set1 & CoCulture\\_Exposed & O75367 &  874143.2\\\\\n",
       "\\end{tabular}\n"
      ],
      "text/markdown": [
       "\n",
       "A tibble: 6 × 5\n",
       "\n",
       "| ID &lt;chr&gt; | Set &lt;chr&gt; | Treatment &lt;chr&gt; | Protein &lt;chr&gt; | Value &lt;dbl&gt; |\n",
       "|---|---|---|---|---|\n",
       "| CoCulture_Exposed1 | Set1 | CoCulture_Exposed | P19012 |  476617.6 |\n",
       "| CoCulture_Exposed1 | Set1 | CoCulture_Exposed | P19013 | 1077007.5 |\n",
       "| CoCulture_Exposed1 | Set1 | CoCulture_Exposed | O43897 | 2245997.6 |\n",
       "| CoCulture_Exposed1 | Set1 | CoCulture_Exposed | P20700 | 2388716.6 |\n",
       "| CoCulture_Exposed1 | Set1 | CoCulture_Exposed | P22102 | 1790626.6 |\n",
       "| CoCulture_Exposed1 | Set1 | CoCulture_Exposed | O75367 |  874143.2 |\n",
       "\n"
      ],
      "text/plain": [
       "  ID                 Set  Treatment         Protein Value    \n",
       "1 CoCulture_Exposed1 Set1 CoCulture_Exposed P19012   476617.6\n",
       "2 CoCulture_Exposed1 Set1 CoCulture_Exposed P19013  1077007.5\n",
       "3 CoCulture_Exposed1 Set1 CoCulture_Exposed O43897  2245997.6\n",
       "4 CoCulture_Exposed1 Set1 CoCulture_Exposed P20700  2388716.6\n",
       "5 CoCulture_Exposed1 Set1 CoCulture_Exposed P22102  1790626.6\n",
       "6 CoCulture_Exposed1 Set1 CoCulture_Exposed O75367   874143.2"
      ]
     },
     "metadata": {},
     "output_type": "display_data"
    }
   ],
   "source": [
    "imputed_df = rbind(coculutre_exp_imputed_df, coculutre_vehicleCT_imputed_df, triculutre_exp_imputed_df,\n",
    "                  triculutre_vehicleCT_imputed_df)\n",
    "head(imputed_df)"
   ]
  },
  {
   "cell_type": "code",
   "execution_count": 14,
   "id": "2eb66dec",
   "metadata": {},
   "outputs": [],
   "source": [
    "#exporting results\n",
    "write.csv(imputed_df, paste0(Output,\"/\", cur_date, \"_Imputed_Proteomics_Data.csv\"), row.names = FALSE)"
   ]
  },
  {
   "cell_type": "code",
   "execution_count": null,
   "id": "f9daab3f",
   "metadata": {},
   "outputs": [],
   "source": []
  }
 ],
 "metadata": {
  "kernelspec": {
   "display_name": "R",
   "language": "R",
   "name": "ir"
  },
  "language_info": {
   "codemirror_mode": "r",
   "file_extension": ".r",
   "mimetype": "text/x-r-source",
   "name": "R",
   "pygments_lexer": "r",
   "version": "4.1.2"
  }
 },
 "nbformat": 4,
 "nbformat_minor": 5
}
